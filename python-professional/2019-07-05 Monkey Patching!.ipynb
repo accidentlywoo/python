{
 "cells": [
  {
   "cell_type": "code",
   "execution_count": 1,
   "metadata": {},
   "outputs": [],
   "source": [
    "import matplotlib as mpl"
   ]
  },
  {
   "cell_type": "code",
   "execution_count": 2,
   "metadata": {},
   "outputs": [
    {
     "data": {
      "text/plain": [
       "109"
      ]
     },
     "execution_count": 2,
     "metadata": {},
     "output_type": "execute_result"
    }
   ],
   "source": [
    "len(dir(mpl))"
   ]
  },
  {
   "cell_type": "code",
   "execution_count": 4,
   "metadata": {},
   "outputs": [],
   "source": [
    "a = dir(mpl)"
   ]
  },
  {
   "cell_type": "code",
   "execution_count": 5,
   "metadata": {},
   "outputs": [],
   "source": [
    "import matplotlib.pyplot as plt"
   ]
  },
  {
   "cell_type": "code",
   "execution_count": 6,
   "metadata": {},
   "outputs": [
    {
     "data": {
      "text/plain": [
       "172"
      ]
     },
     "execution_count": 6,
     "metadata": {},
     "output_type": "execute_result"
    }
   ],
   "source": [
    "len(dir(mpl))"
   ]
  },
  {
   "cell_type": "code",
   "execution_count": 7,
   "metadata": {},
   "outputs": [],
   "source": [
    "b = dir(mpl)"
   ]
  },
  {
   "cell_type": "code",
   "execution_count": 8,
   "metadata": {},
   "outputs": [
    {
     "data": {
      "text/plain": [
       "{'_cm',\n",
       " '_cm_listed',\n",
       " '_constrained_layout',\n",
       " '_contour',\n",
       " '_image',\n",
       " '_layoutbox',\n",
       " '_mathtext_data',\n",
       " '_path',\n",
       " '_png',\n",
       " '_pylab_helpers',\n",
       " '_qhull',\n",
       " '_tri',\n",
       " 'afm',\n",
       " 'artist',\n",
       " 'axes',\n",
       " 'axis',\n",
       " 'backend_bases',\n",
       " 'backend_tools',\n",
       " 'backends',\n",
       " 'bezier',\n",
       " 'blocking_input',\n",
       " 'category',\n",
       " 'cm',\n",
       " 'collections',\n",
       " 'colorbar',\n",
       " 'container',\n",
       " 'contour',\n",
       " 'dates',\n",
       " 'docstring',\n",
       " 'dviread',\n",
       " 'figure',\n",
       " 'font_manager',\n",
       " 'ft2font',\n",
       " 'gridspec',\n",
       " 'image',\n",
       " 'legend',\n",
       " 'legend_handler',\n",
       " 'lines',\n",
       " 'markers',\n",
       " 'mathtext',\n",
       " 'mlab',\n",
       " 'offsetbox',\n",
       " 'patches',\n",
       " 'path',\n",
       " 'projections',\n",
       " 'pyplot',\n",
       " 'quiver',\n",
       " 'scale',\n",
       " 'spines',\n",
       " 'stackplot',\n",
       " 'streamplot',\n",
       " 'style',\n",
       " 'table',\n",
       " 'texmanager',\n",
       " 'text',\n",
       " 'textpath',\n",
       " 'ticker',\n",
       " 'tight_bbox',\n",
       " 'tight_layout',\n",
       " 'transforms',\n",
       " 'tri',\n",
       " 'units',\n",
       " 'widgets'}"
      ]
     },
     "execution_count": 8,
     "metadata": {},
     "output_type": "execute_result"
    }
   ],
   "source": [
    "set(b)^set(a)"
   ]
  },
  {
   "cell_type": "code",
   "execution_count": null,
   "metadata": {},
   "outputs": [],
   "source": []
  }
 ],
 "metadata": {
  "kernelspec": {
   "display_name": "Python 3",
   "language": "python",
   "name": "python3"
  },
  "language_info": {
   "codemirror_mode": {
    "name": "ipython",
    "version": 3
   },
   "file_extension": ".py",
   "mimetype": "text/x-python",
   "name": "python",
   "nbconvert_exporter": "python",
   "pygments_lexer": "ipython3",
   "version": "3.7.3"
  }
 },
 "nbformat": 4,
 "nbformat_minor": 2
}
