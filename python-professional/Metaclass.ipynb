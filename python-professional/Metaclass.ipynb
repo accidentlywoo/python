{
 "cells": [
  {
   "cell_type": "markdown",
   "metadata": {},
   "source": [
    "## Meta Class\n",
    "\n",
    "기본적인 class는 object\n",
    "\n",
    "기본적인 MetaClass는 type이다.\n",
    "\n",
    "메타클래스 만들기 -> type을 상속받는다."
   ]
  },
  {
   "cell_type": "code",
   "execution_count": 1,
   "metadata": {},
   "outputs": [],
   "source": [
    "# 메타클래스 만들기\n",
    "class MyType(type):\n",
    "    pass"
   ]
  },
  {
   "cell_type": "code",
   "execution_count": 2,
   "metadata": {},
   "outputs": [],
   "source": [
    "# 메타클래스 상속받는 방법\n",
    "class MySpecialClass(metaclass=MyType):\n",
    "    pass"
   ]
  },
  {
   "cell_type": "code",
   "execution_count": 3,
   "metadata": {},
   "outputs": [],
   "source": [
    "msp = MySpecialClass()"
   ]
  },
  {
   "cell_type": "code",
   "execution_count": 4,
   "metadata": {},
   "outputs": [
    {
     "data": {
      "text/plain": [
       "['__class__',\n",
       " '__delattr__',\n",
       " '__dict__',\n",
       " '__dir__',\n",
       " '__doc__',\n",
       " '__eq__',\n",
       " '__format__',\n",
       " '__ge__',\n",
       " '__getattribute__',\n",
       " '__gt__',\n",
       " '__hash__',\n",
       " '__init__',\n",
       " '__init_subclass__',\n",
       " '__le__',\n",
       " '__lt__',\n",
       " '__module__',\n",
       " '__ne__',\n",
       " '__new__',\n",
       " '__reduce__',\n",
       " '__reduce_ex__',\n",
       " '__repr__',\n",
       " '__setattr__',\n",
       " '__sizeof__',\n",
       " '__str__',\n",
       " '__subclasshook__',\n",
       " '__weakref__']"
      ]
     },
     "execution_count": 4,
     "metadata": {},
     "output_type": "execute_result"
    }
   ],
   "source": [
    "dir(msp)"
   ]
  },
  {
   "cell_type": "code",
   "execution_count": 8,
   "metadata": {},
   "outputs": [
    {
     "data": {
      "text/plain": [
       "__main__.MySpecialClass"
      ]
     },
     "execution_count": 8,
     "metadata": {},
     "output_type": "execute_result"
    }
   ],
   "source": [
    "type(msp)"
   ]
  },
  {
   "cell_type": "code",
   "execution_count": 9,
   "metadata": {},
   "outputs": [
    {
     "data": {
      "text/plain": [
       "type"
      ]
     },
     "execution_count": 9,
     "metadata": {},
     "output_type": "execute_result"
    }
   ],
   "source": [
    "type(MyType)\n",
    "# type(class) -> type"
   ]
  },
  {
   "cell_type": "code",
   "execution_count": 10,
   "metadata": {},
   "outputs": [
    {
     "data": {
      "text/plain": [
       "__main__.MyType"
      ]
     },
     "execution_count": 10,
     "metadata": {},
     "output_type": "execute_result"
    }
   ],
   "source": [
    "type(MySpecialClass)\n",
    "# type(메타클래스)"
   ]
  },
  {
   "cell_type": "code",
   "execution_count": 12,
   "metadata": {},
   "outputs": [
    {
     "data": {
      "text/plain": [
       "type"
      ]
     },
     "execution_count": 12,
     "metadata": {},
     "output_type": "execute_result"
    }
   ],
   "source": [
    "type(MyType)"
   ]
  },
  {
   "cell_type": "markdown",
   "metadata": {},
   "source": [
    "obj <- class <- type <-> mytype\n",
    "\n",
    "type도 객체이자 클래스이다.\n",
    "\n",
    "python은 순수한 객체지향언어이다."
   ]
  },
  {
   "cell_type": "markdown",
   "metadata": {},
   "source": [
    "---"
   ]
  },
  {
   "cell_type": "markdown",
   "metadata": {},
   "source": [
    "### 디자인 패턴 : SingleTon\n",
    "\n",
    "메타클래스로 싱글톤을 구현한다.\n",
    "\n",
    "ex) 설정파일을 불러올때, 임시저장소.\n",
    "\n",
    "알고리즘*\n",
    "\n",
    "객체지향에서 많이쓰는 것이 디자인 패턴 20개"
   ]
  },
  {
   "cell_type": "code",
   "execution_count": 19,
   "metadata": {},
   "outputs": [
    {
     "data": {
      "text/plain": [
       "2947337052128"
      ]
     },
     "execution_count": 19,
     "metadata": {},
     "output_type": "execute_result"
    }
   ],
   "source": [
    "x = object()\n",
    "id(x)"
   ]
  },
  {
   "cell_type": "code",
   "execution_count": 20,
   "metadata": {},
   "outputs": [
    {
     "data": {
      "text/plain": [
       "2947337052144"
      ]
     },
     "execution_count": 20,
     "metadata": {},
     "output_type": "execute_result"
    }
   ],
   "source": [
    "y = object()\n",
    "id(y)"
   ]
  },
  {
   "cell_type": "code",
   "execution_count": 15,
   "metadata": {},
   "outputs": [],
   "source": [
    "class Singleton(type):\n",
    "    instance = None\n",
    "    def __call__(cls, *args, **kw):\n",
    "        if not cls.instance:\n",
    "             cls.instance = super().__call__(*args, **kw)\n",
    "        return cls.instance"
   ]
  },
  {
   "cell_type": "code",
   "execution_count": 16,
   "metadata": {},
   "outputs": [],
   "source": [
    "class ASingleton(metaclass=Singleton):\n",
    "    pass"
   ]
  },
  {
   "cell_type": "code",
   "execution_count": 17,
   "metadata": {},
   "outputs": [],
   "source": [
    "a = ASingleton()"
   ]
  },
  {
   "cell_type": "code",
   "execution_count": 18,
   "metadata": {},
   "outputs": [
    {
     "data": {
      "text/plain": [
       "2947343572160"
      ]
     },
     "execution_count": 18,
     "metadata": {},
     "output_type": "execute_result"
    }
   ],
   "source": [
    "id(a)"
   ]
  },
  {
   "cell_type": "code",
   "execution_count": 21,
   "metadata": {},
   "outputs": [],
   "source": [
    "b = ASingleton()"
   ]
  },
  {
   "cell_type": "code",
   "execution_count": 22,
   "metadata": {},
   "outputs": [
    {
     "data": {
      "text/plain": [
       "2947343572160"
      ]
     },
     "execution_count": 22,
     "metadata": {},
     "output_type": "execute_result"
    }
   ],
   "source": [
    "id(b)"
   ]
  },
  {
   "cell_type": "code",
   "execution_count": 23,
   "metadata": {},
   "outputs": [],
   "source": [
    "a.x = 3"
   ]
  },
  {
   "cell_type": "code",
   "execution_count": 24,
   "metadata": {},
   "outputs": [
    {
     "data": {
      "text/plain": [
       "3"
      ]
     },
     "execution_count": 24,
     "metadata": {},
     "output_type": "execute_result"
    }
   ],
   "source": [
    "b.x"
   ]
  },
  {
   "cell_type": "markdown",
   "metadata": {},
   "source": [
    "파이썬의 기본적인 기능으로 만들 수 는 없지만, 메타클래스로 만들 수 있다."
   ]
  },
  {
   "cell_type": "markdown",
   "metadata": {},
   "source": [
    "---"
   ]
  },
  {
   "cell_type": "markdown",
   "metadata": {},
   "source": [
    "### Abstract\n",
    "\n",
    "추상적인 단계에서는 구현을 안해도 되지만,\n",
    "\n",
    "사용단계에서는 구현 강제시킨다.\n",
    "\n",
    "파이썬은 지원안하기 때문에 메타클래스를 이용한다.\n",
    "\n",
    "nonimpliment 에러를 발생시켜서 구현을 강"
   ]
  },
  {
   "cell_type": "code",
   "execution_count": 25,
   "metadata": {},
   "outputs": [],
   "source": [
    "from sklearn.neighbors import KNeighborsClassifier"
   ]
  },
  {
   "cell_type": "code",
   "execution_count": 26,
   "metadata": {},
   "outputs": [
    {
     "data": {
      "text/plain": [
       "abc.ABCMeta"
      ]
     },
     "execution_count": 26,
     "metadata": {},
     "output_type": "execute_result"
    }
   ],
   "source": [
    "type(KNeighborsClassifier)"
   ]
  },
  {
   "cell_type": "code",
   "execution_count": 27,
   "metadata": {},
   "outputs": [],
   "source": [
    "import inspect"
   ]
  },
  {
   "cell_type": "code",
   "execution_count": 28,
   "metadata": {},
   "outputs": [
    {
     "name": "stdout",
     "output_type": "stream",
     "text": [
      "class KNeighborsClassifier(NeighborsBase, KNeighborsMixin,\n",
      "                           SupervisedIntegerMixin, ClassifierMixin):\n",
      "    \"\"\"Classifier implementing the k-nearest neighbors vote.\n",
      "\n",
      "    Read more in the :ref:`User Guide <classification>`.\n",
      "\n",
      "    Parameters\n",
      "    ----------\n",
      "    n_neighbors : int, optional (default = 5)\n",
      "        Number of neighbors to use by default for :meth:`kneighbors` queries.\n",
      "\n",
      "    weights : str or callable, optional (default = 'uniform')\n",
      "        weight function used in prediction.  Possible values:\n",
      "\n",
      "        - 'uniform' : uniform weights.  All points in each neighborhood\n",
      "          are weighted equally.\n",
      "        - 'distance' : weight points by the inverse of their distance.\n",
      "          in this case, closer neighbors of a query point will have a\n",
      "          greater influence than neighbors which are further away.\n",
      "        - [callable] : a user-defined function which accepts an\n",
      "          array of distances, and returns an array of the same shape\n",
      "          containing the weights.\n",
      "\n",
      "    algorithm : {'auto', 'ball_tree', 'kd_tree', 'brute'}, optional\n",
      "        Algorithm used to compute the nearest neighbors:\n",
      "\n",
      "        - 'ball_tree' will use :class:`BallTree`\n",
      "        - 'kd_tree' will use :class:`KDTree`\n",
      "        - 'brute' will use a brute-force search.\n",
      "        - 'auto' will attempt to decide the most appropriate algorithm\n",
      "          based on the values passed to :meth:`fit` method.\n",
      "\n",
      "        Note: fitting on sparse input will override the setting of\n",
      "        this parameter, using brute force.\n",
      "\n",
      "    leaf_size : int, optional (default = 30)\n",
      "        Leaf size passed to BallTree or KDTree.  This can affect the\n",
      "        speed of the construction and query, as well as the memory\n",
      "        required to store the tree.  The optimal value depends on the\n",
      "        nature of the problem.\n",
      "\n",
      "    p : integer, optional (default = 2)\n",
      "        Power parameter for the Minkowski metric. When p = 1, this is\n",
      "        equivalent to using manhattan_distance (l1), and euclidean_distance\n",
      "        (l2) for p = 2. For arbitrary p, minkowski_distance (l_p) is used.\n",
      "\n",
      "    metric : string or callable, default 'minkowski'\n",
      "        the distance metric to use for the tree.  The default metric is\n",
      "        minkowski, and with p=2 is equivalent to the standard Euclidean\n",
      "        metric. See the documentation of the DistanceMetric class for a\n",
      "        list of available metrics.\n",
      "\n",
      "    metric_params : dict, optional (default = None)\n",
      "        Additional keyword arguments for the metric function.\n",
      "\n",
      "    n_jobs : int or None, optional (default=None)\n",
      "        The number of parallel jobs to run for neighbors search.\n",
      "        ``None`` means 1 unless in a :obj:`joblib.parallel_backend` context.\n",
      "        ``-1`` means using all processors. See :term:`Glossary <n_jobs>`\n",
      "        for more details.\n",
      "        Doesn't affect :meth:`fit` method.\n",
      "\n",
      "    Examples\n",
      "    --------\n",
      "    >>> X = [[0], [1], [2], [3]]\n",
      "    >>> y = [0, 0, 1, 1]\n",
      "    >>> from sklearn.neighbors import KNeighborsClassifier\n",
      "    >>> neigh = KNeighborsClassifier(n_neighbors=3)\n",
      "    >>> neigh.fit(X, y) # doctest: +ELLIPSIS\n",
      "    KNeighborsClassifier(...)\n",
      "    >>> print(neigh.predict([[1.1]]))\n",
      "    [0]\n",
      "    >>> print(neigh.predict_proba([[0.9]]))\n",
      "    [[0.66666667 0.33333333]]\n",
      "\n",
      "    See also\n",
      "    --------\n",
      "    RadiusNeighborsClassifier\n",
      "    KNeighborsRegressor\n",
      "    RadiusNeighborsRegressor\n",
      "    NearestNeighbors\n",
      "\n",
      "    Notes\n",
      "    -----\n",
      "    See :ref:`Nearest Neighbors <neighbors>` in the online documentation\n",
      "    for a discussion of the choice of ``algorithm`` and ``leaf_size``.\n",
      "\n",
      "    .. warning::\n",
      "\n",
      "       Regarding the Nearest Neighbors algorithms, if it is found that two\n",
      "       neighbors, neighbor `k+1` and `k`, have identical distances\n",
      "       but different labels, the results will depend on the ordering of the\n",
      "       training data.\n",
      "\n",
      "    https://en.wikipedia.org/wiki/K-nearest_neighbor_algorithm\n",
      "    \"\"\"\n",
      "\n",
      "    def __init__(self, n_neighbors=5,\n",
      "                 weights='uniform', algorithm='auto', leaf_size=30,\n",
      "                 p=2, metric='minkowski', metric_params=None, n_jobs=None,\n",
      "                 **kwargs):\n",
      "\n",
      "        super(KNeighborsClassifier, self).__init__(\n",
      "            n_neighbors=n_neighbors,\n",
      "            algorithm=algorithm,\n",
      "            leaf_size=leaf_size, metric=metric, p=p,\n",
      "            metric_params=metric_params,\n",
      "            n_jobs=n_jobs, **kwargs)\n",
      "        self.weights = _check_weights(weights)\n",
      "\n",
      "    def predict(self, X):\n",
      "        \"\"\"Predict the class labels for the provided data\n",
      "\n",
      "        Parameters\n",
      "        ----------\n",
      "        X : array-like, shape (n_query, n_features), \\\n",
      "                or (n_query, n_indexed) if metric == 'precomputed'\n",
      "            Test samples.\n",
      "\n",
      "        Returns\n",
      "        -------\n",
      "        y : array of shape [n_samples] or [n_samples, n_outputs]\n",
      "            Class labels for each data sample.\n",
      "        \"\"\"\n",
      "        X = check_array(X, accept_sparse='csr')\n",
      "\n",
      "        neigh_dist, neigh_ind = self.kneighbors(X)\n",
      "        classes_ = self.classes_\n",
      "        _y = self._y\n",
      "        if not self.outputs_2d_:\n",
      "            _y = self._y.reshape((-1, 1))\n",
      "            classes_ = [self.classes_]\n",
      "\n",
      "        n_outputs = len(classes_)\n",
      "        n_samples = X.shape[0]\n",
      "        weights = _get_weights(neigh_dist, self.weights)\n",
      "\n",
      "        y_pred = np.empty((n_samples, n_outputs), dtype=classes_[0].dtype)\n",
      "        for k, classes_k in enumerate(classes_):\n",
      "            if weights is None:\n",
      "                mode, _ = stats.mode(_y[neigh_ind, k], axis=1)\n",
      "            else:\n",
      "                mode, _ = weighted_mode(_y[neigh_ind, k], weights, axis=1)\n",
      "\n",
      "            mode = np.asarray(mode.ravel(), dtype=np.intp)\n",
      "            y_pred[:, k] = classes_k.take(mode)\n",
      "\n",
      "        if not self.outputs_2d_:\n",
      "            y_pred = y_pred.ravel()\n",
      "\n",
      "        return y_pred\n",
      "\n",
      "    def predict_proba(self, X):\n",
      "        \"\"\"Return probability estimates for the test data X.\n",
      "\n",
      "        Parameters\n",
      "        ----------\n",
      "        X : array-like, shape (n_query, n_features), \\\n",
      "                or (n_query, n_indexed) if metric == 'precomputed'\n",
      "            Test samples.\n",
      "\n",
      "        Returns\n",
      "        -------\n",
      "        p : array of shape = [n_samples, n_classes], or a list of n_outputs\n",
      "            of such arrays if n_outputs > 1.\n",
      "            The class probabilities of the input samples. Classes are ordered\n",
      "            by lexicographic order.\n",
      "        \"\"\"\n",
      "        X = check_array(X, accept_sparse='csr')\n",
      "\n",
      "        neigh_dist, neigh_ind = self.kneighbors(X)\n",
      "\n",
      "        classes_ = self.classes_\n",
      "        _y = self._y\n",
      "        if not self.outputs_2d_:\n",
      "            _y = self._y.reshape((-1, 1))\n",
      "            classes_ = [self.classes_]\n",
      "\n",
      "        n_samples = X.shape[0]\n",
      "\n",
      "        weights = _get_weights(neigh_dist, self.weights)\n",
      "        if weights is None:\n",
      "            weights = np.ones_like(neigh_ind)\n",
      "\n",
      "        all_rows = np.arange(X.shape[0])\n",
      "        probabilities = []\n",
      "        for k, classes_k in enumerate(classes_):\n",
      "            pred_labels = _y[:, k][neigh_ind]\n",
      "            proba_k = np.zeros((n_samples, classes_k.size))\n",
      "\n",
      "            # a simple ':' index doesn't work right\n",
      "            for i, idx in enumerate(pred_labels.T):  # loop is O(n_neighbors)\n",
      "                proba_k[all_rows, idx] += weights[:, i]\n",
      "\n",
      "            # normalize 'votes' into real [0,1] probabilities\n",
      "            normalizer = proba_k.sum(axis=1)[:, np.newaxis]\n",
      "            normalizer[normalizer == 0.0] = 1.0\n",
      "            proba_k /= normalizer\n",
      "\n",
      "            probabilities.append(proba_k)\n",
      "\n",
      "        if not self.outputs_2d_:\n",
      "            probabilities = probabilities[0]\n",
      "\n",
      "        return probabilities\n",
      "\n"
     ]
    }
   ],
   "source": [
    "print(inspect.getsource(KNeighborsClassifier))"
   ]
  },
  {
   "cell_type": "code",
   "execution_count": 29,
   "metadata": {},
   "outputs": [],
   "source": [
    "from sklearn.datasets import load_boston"
   ]
  },
  {
   "cell_type": "code",
   "execution_count": 31,
   "metadata": {},
   "outputs": [
    {
     "data": {
      "text/plain": [
       "Ellipsis"
      ]
     },
     "execution_count": 31,
     "metadata": {},
     "output_type": "execute_result"
    }
   ],
   "source": [
    "..."
   ]
  },
  {
   "cell_type": "markdown",
   "metadata": {},
   "source": [
    "numpy\n",
    "\n",
    "[0 1 2 ..., 9999]"
   ]
  },
  {
   "cell_type": "code",
   "execution_count": null,
   "metadata": {},
   "outputs": [],
   "source": []
  }
 ],
 "metadata": {
  "kernelspec": {
   "display_name": "Python 3",
   "language": "python",
   "name": "python3"
  },
  "language_info": {
   "codemirror_mode": {
    "name": "ipython",
    "version": 3
   },
   "file_extension": ".py",
   "mimetype": "text/x-python",
   "name": "python",
   "nbconvert_exporter": "python",
   "pygments_lexer": "ipython3",
   "version": "3.7.3"
  }
 },
 "nbformat": 4,
 "nbformat_minor": 2
}
