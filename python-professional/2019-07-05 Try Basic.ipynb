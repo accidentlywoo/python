{
 "cells": [
  {
   "cell_type": "markdown",
   "metadata": {},
   "source": [
    "Try else\n",
    "\n",
    "* else -> if문 ,for문 while문, try문\n"
   ]
  },
  {
   "cell_type": "code",
   "execution_count": 1,
   "metadata": {},
   "outputs": [],
   "source": [
    "import numpy as np"
   ]
  },
  {
   "cell_type": "code",
   "execution_count": 3,
   "metadata": {},
   "outputs": [
    {
     "data": {
      "text/plain": [
       "'numpy'"
      ]
     },
     "execution_count": 3,
     "metadata": {},
     "output_type": "execute_result"
    }
   ],
   "source": [
    "np.__name__\n",
    "# 단축 표현은 실제본질은 안변한다."
   ]
  },
  {
   "cell_type": "code",
   "execution_count": 4,
   "metadata": {},
   "outputs": [
    {
     "ename": "ModuleNotFoundError",
     "evalue": "No module named 'tensorflow'",
     "output_type": "error",
     "traceback": [
      "\u001b[1;31m---------------------------------------------------------------------------\u001b[0m",
      "\u001b[1;31mModuleNotFoundError\u001b[0m                       Traceback (most recent call last)",
      "\u001b[1;32m<ipython-input-4-64156d691fe5>\u001b[0m in \u001b[0;36m<module>\u001b[1;34m\u001b[0m\n\u001b[1;32m----> 1\u001b[1;33m \u001b[1;32mimport\u001b[0m \u001b[0mtensorflow\u001b[0m \u001b[1;32mas\u001b[0m \u001b[0mtf\u001b[0m\u001b[1;33m\u001b[0m\u001b[1;33m\u001b[0m\u001b[0m\n\u001b[0m",
      "\u001b[1;31mModuleNotFoundError\u001b[0m: No module named 'tensorflow'"
     ]
    }
   ],
   "source": [
    "import tensorflow as tf"
   ]
  },
  {
   "cell_type": "code",
   "execution_count": 6,
   "metadata": {},
   "outputs": [
    {
     "ename": "ModuleNotFoundError",
     "evalue": "No module named 'tensorflow'",
     "output_type": "error",
     "traceback": [
      "\u001b[1;31m---------------------------------------------------------------------------\u001b[0m",
      "\u001b[1;31mModuleNotFoundError\u001b[0m                       Traceback (most recent call last)",
      "\u001b[1;32m<ipython-input-6-86823882300b>\u001b[0m in \u001b[0;36m<module>\u001b[1;34m\u001b[0m\n\u001b[1;32m----> 1\u001b[1;33m \u001b[1;32mfrom\u001b[0m \u001b[0mtensorflow\u001b[0m\u001b[1;33m.\u001b[0m\u001b[0mkeras\u001b[0m \u001b[1;32mimport\u001b[0m \u001b[0mmodels\u001b[0m\u001b[1;33m\u001b[0m\u001b[1;33m\u001b[0m\u001b[0m\n\u001b[0m\u001b[0;32m      2\u001b[0m \u001b[1;31m# '.'에서 alias 사용불가\u001b[0m\u001b[1;33m\u001b[0m\u001b[1;33m\u001b[0m\u001b[1;33m\u001b[0m\u001b[0m\n",
      "\u001b[1;31mModuleNotFoundError\u001b[0m: No module named 'tensorflow'"
     ]
    }
   ],
   "source": [
    "from tensorflow.keras import models\n",
    "# '.'에서 alias 사용불가"
   ]
  },
  {
   "cell_type": "code",
   "execution_count": 9,
   "metadata": {},
   "outputs": [
    {
     "name": "stdout",
     "output_type": "stream",
     "text": [
      "error\n",
      "Finally\n"
     ]
    }
   ],
   "source": [
    "try:\n",
    "    a = 1/0\n",
    "except:\n",
    "    print('error')\n",
    "else:\n",
    "    print('No Error')\n",
    "finally:\n",
    "    print('Finally')"
   ]
  },
  {
   "cell_type": "code",
   "execution_count": 10,
   "metadata": {},
   "outputs": [
    {
     "name": "stdout",
     "output_type": "stream",
     "text": [
      "No Error\n",
      "Finally\n"
     ]
    }
   ],
   "source": [
    "try:\n",
    "    True\n",
    "except:\n",
    "    print('error')\n",
    "else:\n",
    "    print('No Error')\n",
    "finally:\n",
    "    print('Finally')"
   ]
  },
  {
   "cell_type": "code",
   "execution_count": 13,
   "metadata": {},
   "outputs": [
    {
     "name": "stdout",
     "output_type": "stream",
     "text": [
      "zero\n",
      "Finally\n"
     ]
    }
   ],
   "source": [
    "try:\n",
    "    a = 1/0\n",
    "except ZeroDivisionError :\n",
    "    print('zero')\n",
    "except:\n",
    "    print('error')\n",
    "else:\n",
    "    print('No Error')\n",
    "finally:\n",
    "    print('Finally')"
   ]
  },
  {
   "cell_type": "code",
   "execution_count": 14,
   "metadata": {},
   "outputs": [
    {
     "ename": "SyntaxError",
     "evalue": "default 'except:' must be last (<ipython-input-14-8a4a3a373286>, line 5)",
     "output_type": "error",
     "traceback": [
      "\u001b[1;36m  File \u001b[1;32m\"<ipython-input-14-8a4a3a373286>\"\u001b[1;36m, line \u001b[1;32m5\u001b[0m\n\u001b[1;33m    \u001b[0m\n\u001b[1;37m    ^\u001b[0m\n\u001b[1;31mSyntaxError\u001b[0m\u001b[1;31m:\u001b[0m default 'except:' must be last\n"
     ]
    }
   ],
   "source": [
    "try:\n",
    "    a = 1/0\n",
    "except:\n",
    "    print('error')\n",
    "# default except는 맨마지막에 작성    \n",
    "except ZeroDivisionError :\n",
    "    print('zero')\n",
    "else:\n",
    "    print('No Error')\n",
    "finally:\n",
    "    print('Finally')"
   ]
  },
  {
   "cell_type": "code",
   "execution_count": 15,
   "metadata": {},
   "outputs": [
    {
     "name": "stdout",
     "output_type": "stream",
     "text": [
      "zero division by zero\n",
      "Finally\n"
     ]
    }
   ],
   "source": [
    "try:\n",
    "    a = 1/0\n",
    "except ZeroDivisionError as e:\n",
    "    print('zero', e)\n",
    "except:\n",
    "    print('error')\n",
    "else:\n",
    "    print('No Error')\n",
    "finally:\n",
    "    print('Finally')"
   ]
  },
  {
   "cell_type": "markdown",
   "metadata": {},
   "source": [
    "오류가 발생하지 않을 때 else문 실행"
   ]
  },
  {
   "cell_type": "code",
   "execution_count": 17,
   "metadata": {},
   "outputs": [
    {
     "name": "stdout",
     "output_type": "stream",
     "text": [
      "nexted\n",
      "Finally\n"
     ]
    }
   ],
   "source": [
    "try:\n",
    "    a = 1/0\n",
    "except ZeroDivisionError as e:\n",
    "    try:\n",
    "        b = 1/0\n",
    "    except:\n",
    "        print('nexted')\n",
    "except:\n",
    "    print('error')\n",
    "else:\n",
    "    print('No Error')\n",
    "finally:\n",
    "    print('Finally')\n",
    "\n",
    "# 이런 구문을 많이 쓴다.\n",
    "# 외부영향을 받을 때 많이 쓰는 구문."
   ]
  },
  {
   "cell_type": "code",
   "execution_count": 18,
   "metadata": {},
   "outputs": [
    {
     "name": "stdout",
     "output_type": "stream",
     "text": [
      "<class 'ZeroDivisionError'>\n",
      "Finally\n"
     ]
    }
   ],
   "source": [
    "try:\n",
    "    a = 1/0\n",
    "except ZeroDivisionError:\n",
    "        print(ZeroDivisionError)\n",
    "except:\n",
    "    print('error')\n",
    "else:\n",
    "    print('No Error')\n",
    "finally:\n",
    "    print('Finally')"
   ]
  },
  {
   "cell_type": "markdown",
   "metadata": {},
   "source": [
    "### as 3가지\n",
    "\n",
    "1. import as\n",
    "2. exception alias -> 설명할 수 있는 다른 객체로 변화시켜준다.\n",
    "3. with 구문 as로 할당"
   ]
  },
  {
   "cell_type": "code",
   "execution_count": null,
   "metadata": {},
   "outputs": [],
   "source": []
  }
 ],
 "metadata": {
  "kernelspec": {
   "display_name": "Python 3",
   "language": "python",
   "name": "python3"
  },
  "language_info": {
   "codemirror_mode": {
    "name": "ipython",
    "version": 3
   },
   "file_extension": ".py",
   "mimetype": "text/x-python",
   "name": "python",
   "nbconvert_exporter": "python",
   "pygments_lexer": "ipython3",
   "version": "3.7.3"
  }
 },
 "nbformat": 4,
 "nbformat_minor": 2
}
