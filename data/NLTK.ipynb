{
 "cells": [
  {
   "cell_type": "code",
   "execution_count": 1,
   "metadata": {},
   "outputs": [
    {
     "name": "stdout",
     "output_type": "stream",
     "text": [
      "Requirement already satisfied: nltk in c:\\users\\scminnog15\\anaconda3\\lib\\site-packages (3.4)\n",
      "Requirement already satisfied: six in c:\\users\\scminnog15\\anaconda3\\lib\\site-packages (from nltk) (1.12.0)\n",
      "Requirement already satisfied: singledispatch in c:\\users\\scminnog15\\anaconda3\\lib\\site-packages (from nltk) (3.4.0.3)\n"
     ]
    }
   ],
   "source": [
    "!pip install nltk"
   ]
  },
  {
   "cell_type": "code",
   "execution_count": 2,
   "metadata": {},
   "outputs": [],
   "source": [
    "import nltk"
   ]
  },
  {
   "cell_type": "code",
   "execution_count": 3,
   "metadata": {},
   "outputs": [],
   "source": [
    "nltk??"
   ]
  },
  {
   "cell_type": "markdown",
   "metadata": {},
   "source": [
    "## Tokenize\n",
    "\n",
    "sentence - tokenized문장 구분 "
   ]
  },
  {
   "cell_type": "code",
   "execution_count": 4,
   "metadata": {},
   "outputs": [],
   "source": [
    "from nltk.tokenize import sent_tokenize"
   ]
  },
  {
   "cell_type": "code",
   "execution_count": 5,
   "metadata": {},
   "outputs": [
    {
     "name": "stderr",
     "output_type": "stream",
     "text": [
      "[nltk_data] Downloading package punkt to\n",
      "[nltk_data]     C:\\Users\\scminnoG15\\AppData\\Roaming\\nltk_data...\n",
      "[nltk_data]   Unzipping tokenizers\\punkt.zip.\n"
     ]
    },
    {
     "data": {
      "text/plain": [
       "True"
      ]
     },
     "execution_count": 5,
     "metadata": {},
     "output_type": "execute_result"
    }
   ],
   "source": [
    "nltk.download('punkt')"
   ]
  },
  {
   "cell_type": "code",
   "execution_count": 7,
   "metadata": {},
   "outputs": [],
   "source": [
    "import sqlite3"
   ]
  },
  {
   "cell_type": "code",
   "execution_count": 8,
   "metadata": {},
   "outputs": [],
   "source": [
    "con = sqlite3.connect(\"news.db\")"
   ]
  },
  {
   "cell_type": "code",
   "execution_count": 9,
   "metadata": {},
   "outputs": [],
   "source": [
    "cur = con.cursor()"
   ]
  },
  {
   "cell_type": "code",
   "execution_count": 20,
   "metadata": {},
   "outputs": [
    {
     "data": {
      "text/plain": [
       "<sqlite3.Cursor at 0x1d8ac60ce30>"
      ]
     },
     "execution_count": 20,
     "metadata": {},
     "output_type": "execute_result"
    }
   ],
   "source": [
    "cur.execute(\"\"\"\n",
    "    SELECT *\n",
    "    FROM table2\n",
    "    ORDER BY id ASC\n",
    "    LIMIT 0,2\n",
    "\"\"\")"
   ]
  },
  {
   "cell_type": "code",
   "execution_count": 21,
   "metadata": {},
   "outputs": [],
   "source": [
    "corpus = [_[2] for _ in cur.fetchall()]"
   ]
  },
  {
   "cell_type": "code",
   "execution_count": 11,
   "metadata": {},
   "outputs": [
    {
     "data": {
      "text/plain": [
       "2"
      ]
     },
     "execution_count": 11,
     "metadata": {},
     "output_type": "execute_result"
    }
   ],
   "source": [
    "len(corpus)"
   ]
  },
  {
   "cell_type": "code",
   "execution_count": 242,
   "metadata": {},
   "outputs": [],
   "source": [
    "nltk.punkt??"
   ]
  },
  {
   "cell_type": "code",
   "execution_count": 22,
   "metadata": {},
   "outputs": [
    {
     "data": {
      "text/plain": [
       "['사개특위와 별도로 정개특위 가동 계획 밝혀…\"오늘부터 활동 시작\"\\n\"합리적 대안 있다면, 원안 고집할 생각 없다\"\\n\"선거법은 시한이 있다. 무작정 연장할 수 없어\"\\n[CBS노컷뉴스 김구연 기자]\\n더불어민주당 홍영표 전 원내대표. (사진=황진환 기자/자료사진)\\n국회 정치개혁특별위원회 위원장으로 내정된 더불어민주당 홍영표 전 원내대표는 18일 다음주부터라도 정개특위를 가동시킬 계획이라고 밝혔다.\\n\\n홍 전 원내대표는 선거제 개혁법과 고위공직자비리수사처(공수처) 설치 법 등을 패스트트랙에 태운 장본인이다.\\n\\n홍 전 원내대표는 정개특위 위원장에 이날 내정된 이후 기자간담회를 열고 \"선거법뿐만 아니라 정당법이나 정치자금법 등 중요한 사안이 있기 때문에 다음주부터라도 정개특위를 빨리 가동시켜서 본격적인 논의를 시작했으면 하는 바람\"이라고 밝혔다.\\n\\n이어 \"제가 이날 내정됐으니까 오늘부터 활동을 시작해서 여야 간사 등과 합의해 다음주에는 정개특위 회의 일정을 잡도록 하겠다\"고 덧붙였다.\\n\\n정개특위와 \\'쌍두마차\\'로 함께 가동되는 국회 사법개혁특별위원회 일정이 밀리더라도 정개특위는 따로 운영한다고도 했다.\\n\\n홍 전 원내대표는 \"패스트트랙은 불가피하게 할 수밖에 없었던 상황을 잘 아실 것\"이라며 \"저는 선거법이야말로 여야 간의 합의로 처리를 하는 것이 가장 바람직하다고 생각한다\"고 강조했다.\\n\\n그러면서 패스트트랙에 올라가 있는 선거제 개혁법에 대해 \"얼마든지 합리적 대안을 제시하고 현실적인 합의 방안이 있다면, (원안을) 고집할 생각은 없다\"며 \"각 당이 열린 자세로 진솔한 입장과 의지를 가지고 참여해줬으면 한다\"고 전했다.\\n\\n홍 전 원내대표는 또 \"선거법 개정은 시한이 있는 문제\"라며 \"무작정 연장할 수는 없다\"고 했다.\\n\\n선거제 개혁 논의를 오랜기간 끌지 않겠다는 취지로, 정개특위 연장 시한인 8월31일 안에는 처리할 수도 있다는 속뜻을 내비친 것이라는 해석이 나온다.\\n\\n아울러 한국당이 정개특위 1소위원장을 맡아야 한다는 주장에 대해서는 \"이번 특위 연장과 관련해 여야 간 합의정신이 있다고 들었다\"며 \"가능하면 큰 틀을 존중해야 한다고 생각한다\"고 말했다.\\n\\n홍 전 원내대표는 애초 이인영 원내대표가 정개특위 위원장직을 처음 제안했을 때는 거절했었다.\\n\\n하지만 다른 민주당 중진 의원들이 계속해서 정개특위 위원장직을 거절하자, 결국 돌고 돌아 다시 홍 전 원내대표가 맡게 됐다.\\n\\n이에 대해 \"패스트트랙으로 여야 간 큰 진통을 겪었기 때문에 다른 분이 해서 좋은 성과를 냈으면 좋겠다는 게 개인적인 바람이었다\"며 \"그런데 당에서도 그렇고, 다른 당에서도 제가 하는 것이 좋겠다는 뜻을 전해줘서 (정개특위 위원장을) 하게 됐다\"고 설명했다.\\n\\n▶ 확 달라진 노컷뉴스\\n\\n▶ 인싸들의 선택, 노컷뉴스 구독 서비스\\n\\n▶ 요즘 10대,그들의 속 이야기\\n\\n\\nkimgu88@cbs.co.kr\\n\\n저작권자 © CBS 노컷뉴스 무단전재 및 재배포 금지',\n",
       " '혁신위 “손대표 알았다면 사과하고 몰랐다면 당직자 처벌해야”\\n손학규 바른미래당 대표가 단식 투쟁 중인 권성주 혁신위원과 대화를 나누고 있다.\\n\\n\\n이기인 바른미래당 혁신위원회 대변인은 18일 “단식 투쟁 중인 권성주 혁신위원에게 손학규 당 대표 측근들이 ‘짜장면 먹은 게 아니냐‘라며 조롱과 욕설을 했다”고 밝혔다.\\n\\n이 대변인은 “지난 15일, 손 대표의 정무특보인 정모씨와 바른미래당 특별위원회 채모 위원장 등 3인은 당 대표실 옆에서 단식 중인 권 위원을 찾아 “어젯밤에 몰래 뭘 좀 먹었느냐, 짜장면 먹은 것 아니냐”라는 조롱과 함께 심한 욕설을 퍼부었다”고 했다.\\n\\n그러면서 “당 대표실 앞에서 혁신위와 권 위원을 비방하는 불법 전단지를 배포했다”며 “해당 전단지는 손 대표의 수행비서인 이모씨가 ‘짜장면 조롱’을 한 당직자 3인에게 직접 전달한 것으로 밝혀졌다”고 말했다.\\n\\n그는 “17일 오전에는 손 대표의 측근 당원 이모씨는 권 위원의 뒤편에 권 위원을 ‘개’로 묘사한 현수막을 게재하기도 했다”고 했다.\\n\\n그는 “게다가 현재 손학규 당 대표 측근들의 SNS상에선 권 위원을 조롱하고 모욕하는 각종 악성 댓글들이 지속적으로 확산되는 상태다”라며 “손 대표 측근들과 보좌진의 불법행위가 이어지는 가운데, 정작 손 대표는 이런 사실을 모르고 있었는지 묻지 않을 수 없다”고 말했다.\\n\\n이어 “손학규 당 대표는 이 같은 사실을 알고 있었다면 정식으로 사과해야 할 것이고, 몰랐다면 해당 당직자들을 엄격히 처벌해야 한다”고 주장했다.\\n\\n혁신위에서 혁신안이 의결된 이후, 주대환 혁신위원장의 갑작스러운 사퇴로 권 위원은 지난 11일 혁신위의 조속한 정상화 촉구를 위해 무기한 단식에 들어갔다.\\n\\n김용현 기자 face@kmib.co.kr\\n\\n[국민일보 채널 구독하기]\\n[취향저격 뉴스는 여기] [의뢰하세요 취재대행소 왱]\\n\\nGoodNews paper ⓒ 국민일보(www.kmib.co.kr), 무단전재 및 재배포금지']"
      ]
     },
     "execution_count": 22,
     "metadata": {},
     "output_type": "execute_result"
    }
   ],
   "source": [
    "corpus"
   ]
  },
  {
   "cell_type": "markdown",
   "metadata": {},
   "source": [
    "-- Python에서 string으로 할 수 있는 처리"
   ]
  },
  {
   "cell_type": "code",
   "execution_count": 25,
   "metadata": {},
   "outputs": [
    {
     "data": {
      "text/plain": [
       "(1425, 317, 41)"
      ]
     },
     "execution_count": 25,
     "metadata": {},
     "output_type": "execute_result"
    }
   ],
   "source": [
    "len(corpus[0]), len(corpus[0].split()), len(corpus[0].splitlines())"
   ]
  },
  {
   "cell_type": "markdown",
   "metadata": {},
   "source": [
    "-- nltk를 써보자"
   ]
  },
  {
   "cell_type": "code",
   "execution_count": 26,
   "metadata": {},
   "outputs": [
    {
     "data": {
      "text/plain": [
       "16"
      ]
     },
     "execution_count": 26,
     "metadata": {},
     "output_type": "execute_result"
    }
   ],
   "source": [
    "len(sent_tokenize(corpus[0]))"
   ]
  },
  {
   "cell_type": "code",
   "execution_count": 27,
   "metadata": {},
   "outputs": [
    {
     "data": {
      "text/plain": [
       "'사개특위와 별도로 정개특위 가동 계획 밝혀…\"오늘부터 활동 시작\"'"
      ]
     },
     "execution_count": 27,
     "metadata": {},
     "output_type": "execute_result"
    }
   ],
   "source": [
    "corpus[0].splitlines()[0]\n",
    "# enter key로 구분해서 문장이 잘린 형태일 수 있다."
   ]
  },
  {
   "cell_type": "code",
   "execution_count": 28,
   "metadata": {},
   "outputs": [
    {
     "data": {
      "text/plain": [
       "'사개특위와 별도로 정개특위 가동 계획 밝혀…\"오늘부터 활동 시작\"\\n\"합리적 대안 있다면, 원안 고집할 생각 없다\"\\n\"선거법은 시한이 있다.'"
      ]
     },
     "execution_count": 28,
     "metadata": {},
     "output_type": "execute_result"
    }
   ],
   "source": [
    "sent_tokenize(corpus[0])[0]"
   ]
  },
  {
   "cell_type": "code",
   "execution_count": 29,
   "metadata": {},
   "outputs": [],
   "source": [
    "sent_tokenize??"
   ]
  },
  {
   "cell_type": "markdown",
   "metadata": {},
   "source": [
    "language를 바꿀 수 없다."
   ]
  },
  {
   "cell_type": "code",
   "execution_count": 31,
   "metadata": {},
   "outputs": [
    {
     "data": {
      "text/plain": [
       "['MeCab']"
      ]
     },
     "execution_count": 31,
     "metadata": {},
     "output_type": "execute_result"
    }
   ],
   "source": [
    "sent_tokenize(\"MeCab\")\n",
    "# -> 리눅스만 쓸 수 있다. 유명한 일본산 문장분석기"
   ]
  },
  {
   "cell_type": "code",
   "execution_count": 32,
   "metadata": {},
   "outputs": [
    {
     "data": {
      "text/plain": [
       "['Life is too short.']"
      ]
     },
     "execution_count": 32,
     "metadata": {},
     "output_type": "execute_result"
    }
   ],
   "source": [
    "sent_tokenize(\"Life is too short.\")"
   ]
  },
  {
   "cell_type": "code",
   "execution_count": 33,
   "metadata": {},
   "outputs": [],
   "source": [
    "from string import punctuation"
   ]
  },
  {
   "cell_type": "code",
   "execution_count": 34,
   "metadata": {},
   "outputs": [
    {
     "data": {
      "text/plain": [
       "'!\"#$%&\\'()*+,-./:;<=>?@[\\\\]^_`{|}~'"
      ]
     },
     "execution_count": 34,
     "metadata": {},
     "output_type": "execute_result"
    }
   ],
   "source": [
    "punctuation"
   ]
  },
  {
   "cell_type": "markdown",
   "metadata": {},
   "source": [
    "--> 구둣점 쓰들~"
   ]
  },
  {
   "cell_type": "code",
   "execution_count": 35,
   "metadata": {},
   "outputs": [
    {
     "data": {
      "text/plain": [
       "['\\n    Life is too short, Life is too short\\n    Life is too short']"
      ]
     },
     "execution_count": 35,
     "metadata": {},
     "output_type": "execute_result"
    }
   ],
   "source": [
    "sent_tokenize(\"\"\"\n",
    "    Life is too short, Life is too short\n",
    "    Life is too short\n",
    "\"\"\")"
   ]
  },
  {
   "cell_type": "code",
   "execution_count": 36,
   "metadata": {},
   "outputs": [
    {
     "data": {
      "text/plain": [
       "['\\n    Life is too short,.... Life is too short\\n    Life is too short']"
      ]
     },
     "execution_count": 36,
     "metadata": {},
     "output_type": "execute_result"
    }
   ],
   "source": [
    "sent_tokenize(\"\"\"\n",
    "    Life is too short,.... Life is too short\n",
    "    Life is too short\n",
    "\"\"\")"
   ]
  },
  {
   "cell_type": "code",
   "execution_count": 37,
   "metadata": {},
   "outputs": [
    {
     "data": {
      "text/plain": [
       "['\\n    Life is too short,.... Life is too short!!', 'Life is too short']"
      ]
     },
     "execution_count": 37,
     "metadata": {},
     "output_type": "execute_result"
    }
   ],
   "source": [
    "sent_tokenize(\"\"\"\n",
    "    Life is too short,.... Life is too short!!\n",
    "    Life is too short\n",
    "\"\"\")"
   ]
  },
  {
   "cell_type": "code",
   "execution_count": 38,
   "metadata": {},
   "outputs": [
    {
     "data": {
      "text/plain": [
       "['\\n    Life is too short, Life is too short!!',\n",
       " 'Life is too short Life is too short']"
      ]
     },
     "execution_count": 38,
     "metadata": {},
     "output_type": "execute_result"
    }
   ],
   "source": [
    "sent_tokenize(\"\"\"\n",
    "    Life is too short, Life is too short!!\n",
    "    Life is too short Life is too short\n",
    "\"\"\")"
   ]
  },
  {
   "cell_type": "code",
   "execution_count": 39,
   "metadata": {},
   "outputs": [
    {
     "data": {
      "text/plain": [
       "['\\n    수업하기 싫다....... 수업하기 싫다.']"
      ]
     },
     "execution_count": 39,
     "metadata": {},
     "output_type": "execute_result"
    }
   ],
   "source": [
    "sent_tokenize(\"\"\"\n",
    "    수업하기 싫다....... 수업하기 싫다.\n",
    "\"\"\")"
   ]
  },
  {
   "cell_type": "code",
   "execution_count": 40,
   "metadata": {},
   "outputs": [
    {
     "data": {
      "text/plain": [
       "['\\n    수업하기 싫다....... 수업하기 \"싫다\".']"
      ]
     },
     "execution_count": 40,
     "metadata": {},
     "output_type": "execute_result"
    }
   ],
   "source": [
    "sent_tokenize(\"\"\"\n",
    "    수업하기 싫다....... 수업하기 \"싫다\".\n",
    "\"\"\")"
   ]
  },
  {
   "cell_type": "code",
   "execution_count": 41,
   "metadata": {},
   "outputs": [
    {
     "data": {
      "text/plain": [
       "['\\n    술 한잔 마셨습니다....영화가 잘 안되도 좋습니다.',\n",
       " '하지만 엄복동 하나만 기억해주세요\\n    진심을 다해 전합니다.',\n",
       " '영화가 별로 일수있습니다 밤낮으로 고민하고 연기 했습니다...최선을 다했고 열심히 했습니다\\n    저의 진심이 느껴지길 바랍니다 고맙습니다...']"
      ]
     },
     "execution_count": 41,
     "metadata": {},
     "output_type": "execute_result"
    }
   ],
   "source": [
    "sent_tokenize(\"\"\"\n",
    "    술 한잔 마셨습니다....영화가 잘 안되도 좋습니다. 하지만 엄복동 하나만 기억해주세요\n",
    "    진심을 다해 전합니다. 영화가 별로 일수있습니다 밤낮으로 고민하고 연기 했습니다...최선을 다했고 열심히 했습니다\n",
    "    저의 진심이 느껴지길 바랍니다 고맙습니다...\n",
    "\"\"\")"
   ]
  },
  {
   "cell_type": "markdown",
   "metadata": {},
   "source": [
    "구어체에서 문장 구분이 잘안된다."
   ]
  },
  {
   "cell_type": "code",
   "execution_count": 42,
   "metadata": {},
   "outputs": [],
   "source": [
    "from nltk.tokenize import word_tokenize"
   ]
  },
  {
   "cell_type": "code",
   "execution_count": 43,
   "metadata": {},
   "outputs": [
    {
     "data": {
      "text/plain": [
       "['Life', 'is', 'too', 'short', ',', 'Life', 'is', 'too', 'short', '.']"
      ]
     },
     "execution_count": 43,
     "metadata": {},
     "output_type": "execute_result"
    }
   ],
   "source": [
    "word_tokenize(\"Life is too short,Life is too short.\")"
   ]
  },
  {
   "cell_type": "markdown",
   "metadata": {},
   "source": [
    "어절을 자를때 word_tokenize를 사용하는 것이 좋다."
   ]
  },
  {
   "cell_type": "code",
   "execution_count": 44,
   "metadata": {},
   "outputs": [
    {
     "data": {
      "text/plain": [
       "['술',\n",
       " '한잔',\n",
       " '마셨습니다',\n",
       " '...',\n",
       " '.영화가',\n",
       " '잘',\n",
       " '안되도',\n",
       " '좋습니다',\n",
       " '.',\n",
       " '하지만',\n",
       " '엄복동',\n",
       " '하나만',\n",
       " '기억해주세요',\n",
       " '진심을',\n",
       " '다해',\n",
       " '전합니다',\n",
       " '.',\n",
       " '영화가',\n",
       " '별로',\n",
       " '일수있습니다',\n",
       " '밤낮으로',\n",
       " '고민하고',\n",
       " '연기',\n",
       " '했습니다',\n",
       " '...',\n",
       " '최선을',\n",
       " '다했고',\n",
       " '열심히',\n",
       " '했습니다',\n",
       " '저의',\n",
       " '진심이',\n",
       " '느껴지길',\n",
       " '바랍니다',\n",
       " '고맙습니다',\n",
       " '...']"
      ]
     },
     "execution_count": 44,
     "metadata": {},
     "output_type": "execute_result"
    }
   ],
   "source": [
    "word_tokenize(\"\"\"\n",
    "    술 한잔 마셨습니다....영화가 잘 안되도 좋습니다. 하지만 엄복동 하나만 기억해주세요\n",
    "    진심을 다해 전합니다. 영화가 별로 일수있습니다 밤낮으로 고민하고 연기 했습니다...최선을 다했고 열심히 했습니다\n",
    "    저의 진심이 느껴지길 바랍니다 고맙습니다...\n",
    "\"\"\")"
   ]
  },
  {
   "cell_type": "code",
   "execution_count": 45,
   "metadata": {},
   "outputs": [
    {
     "data": {
      "text/plain": [
       "['술',\n",
       " '한잔',\n",
       " '마셨습니다',\n",
       " '...',\n",
       " \".'영화\",\n",
       " \"'\",\n",
       " '가',\n",
       " '잘',\n",
       " '안되도',\n",
       " '좋습니다',\n",
       " '.',\n",
       " '하지만',\n",
       " '엄복동',\n",
       " '하나만',\n",
       " '기억해주세요',\n",
       " '진심을',\n",
       " '다해',\n",
       " '전합니다',\n",
       " '.',\n",
       " '``',\n",
       " '영화',\n",
       " \"''\",\n",
       " '가',\n",
       " '별로',\n",
       " '일수있습니다',\n",
       " '밤낮으로',\n",
       " '고민하고',\n",
       " '연기',\n",
       " '했습니다',\n",
       " '...',\n",
       " '최선을',\n",
       " '다했고',\n",
       " '열심히',\n",
       " '했습니다',\n",
       " '저의',\n",
       " '진심이',\n",
       " '느껴지길',\n",
       " '바랍니다',\n",
       " '고맙습니다',\n",
       " '...']"
      ]
     },
     "execution_count": 45,
     "metadata": {},
     "output_type": "execute_result"
    }
   ],
   "source": [
    "word_tokenize(\"\"\"\n",
    "    술 한잔 마셨습니다....'영화'가 잘 안되도 좋습니다. 하지만 엄복동 하나만 기억해주세요\n",
    "    진심을 다해 전합니다. \"영화\"가 별로 일수있습니다 밤낮으로 고민하고 연기 했습니다...최선을 다했고 열심히 했습니다\n",
    "    저의 진심이 느껴지길 바랍니다 고맙습니다...\n",
    "\"\"\")"
   ]
  },
  {
   "cell_type": "markdown",
   "metadata": {},
   "source": [
    "어절 분리 + 구두점 자르기"
   ]
  },
  {
   "cell_type": "code",
   "execution_count": 48,
   "metadata": {},
   "outputs": [
    {
     "data": {
      "text/plain": [
       "16"
      ]
     },
     "execution_count": 48,
     "metadata": {},
     "output_type": "execute_result"
    }
   ],
   "source": [
    "len(sent_tokenize(corpus[0]))"
   ]
  },
  {
   "cell_type": "code",
   "execution_count": 49,
   "metadata": {},
   "outputs": [],
   "source": [
    "from nltk.tokenize import TweetTokenizer"
   ]
  },
  {
   "cell_type": "markdown",
   "metadata": {},
   "source": [
    "' =) '  같은 감정표현"
   ]
  },
  {
   "cell_type": "code",
   "execution_count": 50,
   "metadata": {},
   "outputs": [
    {
     "data": {
      "text/plain": [
       "['You', 'need', 'Python', '=', ')']"
      ]
     },
     "execution_count": 50,
     "metadata": {},
     "output_type": "execute_result"
    }
   ],
   "source": [
    "word_tokenize(\"You need Python =)\")"
   ]
  },
  {
   "cell_type": "code",
   "execution_count": 51,
   "metadata": {},
   "outputs": [
    {
     "data": {
      "text/plain": [
       "['You', 'need', 'Python', '=)']"
      ]
     },
     "execution_count": 51,
     "metadata": {},
     "output_type": "execute_result"
    }
   ],
   "source": [
    "TweetTokenizer().tokenize(\"You need Python =)\")"
   ]
  },
  {
   "cell_type": "code",
   "execution_count": 52,
   "metadata": {},
   "outputs": [],
   "source": [
    "from nltk.tokenize import regexp_tokenize"
   ]
  },
  {
   "cell_type": "code",
   "execution_count": 53,
   "metadata": {},
   "outputs": [],
   "source": [
    "import re"
   ]
  },
  {
   "cell_type": "code",
   "execution_count": 54,
   "metadata": {},
   "outputs": [],
   "source": [
    "pattern = re.compile(r\"\\b(\\w+)\\b\")"
   ]
  },
  {
   "cell_type": "markdown",
   "metadata": {},
   "source": [
    "-> 영어와 숫자로 이루어진 어절 찾기"
   ]
  },
  {
   "cell_type": "code",
   "execution_count": 55,
   "metadata": {},
   "outputs": [
    {
     "data": {
      "text/plain": [
       "['You', 'need', 'Python', '12']"
      ]
     },
     "execution_count": 55,
     "metadata": {},
     "output_type": "execute_result"
    }
   ],
   "source": [
    "regexp_tokenize(\"You need Python!!!!!!!!! 12\", pattern)"
   ]
  },
  {
   "cell_type": "code",
   "execution_count": 56,
   "metadata": {},
   "outputs": [
    {
     "data": {
      "text/plain": [
       "['You', 'need', 'Python', '12', '한', '글']"
      ]
     },
     "execution_count": 56,
     "metadata": {},
     "output_type": "execute_result"
    }
   ],
   "source": [
    "regexp_tokenize(\"You need Python!!!!!!!!! 12 한#$@글\", pattern)"
   ]
  },
  {
   "cell_type": "code",
   "execution_count": 57,
   "metadata": {},
   "outputs": [],
   "source": [
    "pattern = re.compile(r\"\\b([가-힣]+)\\b\")"
   ]
  },
  {
   "cell_type": "code",
   "execution_count": 58,
   "metadata": {},
   "outputs": [
    {
     "data": {
      "text/plain": [
       "['한', '글']"
      ]
     },
     "execution_count": 58,
     "metadata": {},
     "output_type": "execute_result"
    }
   ],
   "source": [
    "regexp_tokenize(\"You need Python!!!!!!!!! 12 한#$@글\", pattern)"
   ]
  },
  {
   "cell_type": "code",
   "execution_count": 59,
   "metadata": {},
   "outputs": [
    {
     "data": {
      "text/plain": [
       "['한', '글']"
      ]
     },
     "execution_count": 59,
     "metadata": {},
     "output_type": "execute_result"
    }
   ],
   "source": [
    "regexp_tokenize(\"ㅜㅜㅠㅠㅋㅋ 한#$@글\", pattern)"
   ]
  },
  {
   "cell_type": "code",
   "execution_count": 64,
   "metadata": {},
   "outputs": [
    {
     "data": {
      "text/plain": [
       "'한글'"
      ]
     },
     "execution_count": 64,
     "metadata": {},
     "output_type": "execute_result"
    }
   ],
   "source": [
    "re.sub(r\"[^가-힣]\", \"\", \"ㅜㅜㅠㅠㅋㅋ 한#$@글\")"
   ]
  },
  {
   "cell_type": "code",
   "execution_count": 67,
   "metadata": {},
   "outputs": [
    {
     "data": {
      "text/plain": [
       "['한글']"
      ]
     },
     "execution_count": 67,
     "metadata": {},
     "output_type": "execute_result"
    }
   ],
   "source": [
    "regexp_tokenize(re.sub(r\"[^ ㄱ-ㅎㅏ-ㅣ가-힣]\", \"\", \"ㅜㅜㅠㅠㅋㅋ 한#$@글\"),pattern)\n"
   ]
  },
  {
   "cell_type": "code",
   "execution_count": 68,
   "metadata": {},
   "outputs": [],
   "source": [
    "from nltk import Text"
   ]
  },
  {
   "cell_type": "code",
   "execution_count": 69,
   "metadata": {},
   "outputs": [],
   "source": [
    "Text??"
   ]
  },
  {
   "cell_type": "code",
   "execution_count": 70,
   "metadata": {},
   "outputs": [],
   "source": [
    "text = Text(word_tokenize(corpus[0]))"
   ]
  },
  {
   "cell_type": "code",
   "execution_count": 71,
   "metadata": {},
   "outputs": [
    {
     "data": {
      "text/plain": [
       "(267, 398)"
      ]
     },
     "execution_count": 71,
     "metadata": {},
     "output_type": "execute_result"
    }
   ],
   "source": [
    "text.vocab().B(), text.vocab().N()"
   ]
  },
  {
   "cell_type": "code",
   "execution_count": 72,
   "metadata": {},
   "outputs": [],
   "source": [
    "Text.vocab??"
   ]
  },
  {
   "cell_type": "markdown",
   "metadata": {},
   "source": [
    "vocab : count와 유사쓰"
   ]
  },
  {
   "cell_type": "code",
   "execution_count": 83,
   "metadata": {},
   "outputs": [
    {
     "data": {
      "text/plain": [
       "[(\"''\", 18),\n",
       " ('.', 15),\n",
       " ('``', 12),\n",
       " ('정개특위', 8),\n",
       " ('전', 8),\n",
       " (',', 7),\n",
       " ('원내대표는', 6),\n",
       " ('홍', 6),\n",
       " ('고', 6),\n",
       " ('(', 4),\n",
       " (')', 4),\n",
       " ('여야', 4),\n",
       " ('없다', 3),\n",
       " ('선거제', 3),\n",
       " ('하는', 3),\n",
       " ('며', 3),\n",
       " ('다른', 3),\n",
       " ('▶', 3),\n",
       " ('노컷뉴스', 3),\n",
       " ('오늘부터', 2),\n",
       " ('합리적', 2),\n",
       " ('있다면', 2),\n",
       " ('고집할', 2),\n",
       " ('시한이', 2),\n",
       " ('무작정', 2),\n",
       " ('연장할', 2),\n",
       " ('더불어민주당', 2),\n",
       " ('홍영표', 2),\n",
       " ('국회', 2),\n",
       " ('내정된', 2),\n",
       " ('다음주부터라도', 2),\n",
       " ('정개특위를', 2),\n",
       " ('밝혔다', 2),\n",
       " ('패스트트랙에', 2),\n",
       " ('이날', 2),\n",
       " ('때문에', 2),\n",
       " ('논의를', 2),\n",
       " ('제가', 2),\n",
       " ('했다', 2),\n",
       " ('것이', 2),\n",
       " ('생각한다', 2),\n",
       " ('있는', 2),\n",
       " ('대해', 2),\n",
       " ('간', 2),\n",
       " ('큰', 2),\n",
       " ('원내대표가', 2),\n",
       " ('위원장직을', 2),\n",
       " ('됐다', 2),\n",
       " ('좋겠다는', 2),\n",
       " ('당에서도', 2),\n",
       " ('사개특위와', 1),\n",
       " ('별도로', 1),\n",
       " ('가동', 1),\n",
       " ('계획', 1),\n",
       " ('밝혀…', 1),\n",
       " ('활동', 1),\n",
       " ('시작', 1),\n",
       " ('대안', 1),\n",
       " ('원안', 1),\n",
       " ('생각', 1),\n",
       " ('선거법은', 1),\n",
       " ('있다', 1),\n",
       " ('수', 1),\n",
       " ('없어', 1),\n",
       " ('[', 1),\n",
       " ('CBS노컷뉴스', 1),\n",
       " ('김구연', 1),\n",
       " ('기자', 1),\n",
       " (']', 1),\n",
       " ('원내대표', 1),\n",
       " ('사진=황진환', 1),\n",
       " ('기자/자료사진', 1),\n",
       " ('정치개혁특별위원회', 1),\n",
       " ('위원장으로', 1),\n",
       " ('18일', 1),\n",
       " ('가동시킬', 1),\n",
       " ('계획이라고', 1),\n",
       " ('개혁법과', 1),\n",
       " ('고위공직자비리수사처', 1),\n",
       " ('공수처', 1),\n",
       " ('설치', 1),\n",
       " ('법', 1),\n",
       " ('등을', 1),\n",
       " ('태운', 1),\n",
       " ('장본인이다', 1),\n",
       " ('위원장에', 1),\n",
       " ('이후', 1),\n",
       " ('기자간담회를', 1),\n",
       " ('열고', 1),\n",
       " ('선거법뿐만', 1),\n",
       " ('아니라', 1),\n",
       " ('정당법이나', 1),\n",
       " ('정치자금법', 1),\n",
       " ('등', 1),\n",
       " ('중요한', 1),\n",
       " ('사안이', 1),\n",
       " ('있기', 1),\n",
       " ('빨리', 1),\n",
       " ('가동시켜서', 1),\n",
       " ('본격적인', 1),\n",
       " ('시작했으면', 1),\n",
       " ('바람', 1),\n",
       " ('이라고', 1),\n",
       " ('이어', 1),\n",
       " ('내정됐으니까', 1),\n",
       " ('활동을', 1),\n",
       " ('시작해서', 1),\n",
       " ('간사', 1),\n",
       " ('등과', 1),\n",
       " ('합의해', 1),\n",
       " ('다음주에는', 1),\n",
       " ('회의', 1),\n",
       " ('일정을', 1),\n",
       " ('잡도록', 1),\n",
       " ('하겠다', 1),\n",
       " ('덧붙였다', 1),\n",
       " ('정개특위와', 1),\n",
       " (\"'쌍두마차\", 1),\n",
       " (\"'\", 1),\n",
       " ('로', 1),\n",
       " ('함께', 1),\n",
       " ('가동되는', 1),\n",
       " ('사법개혁특별위원회', 1),\n",
       " ('일정이', 1),\n",
       " ('밀리더라도', 1),\n",
       " ('정개특위는', 1),\n",
       " ('따로', 1),\n",
       " ('운영한다고도', 1),\n",
       " ('패스트트랙은', 1),\n",
       " ('불가피하게', 1),\n",
       " ('할', 1),\n",
       " ('수밖에', 1),\n",
       " ('없었던', 1),\n",
       " ('상황을', 1),\n",
       " ('잘', 1),\n",
       " ('아실', 1),\n",
       " ('것', 1),\n",
       " ('이라며', 1),\n",
       " ('저는', 1),\n",
       " ('선거법이야말로', 1),\n",
       " ('간의', 1),\n",
       " ('합의로', 1),\n",
       " ('처리를', 1),\n",
       " ('가장', 1),\n",
       " ('바람직하다고', 1),\n",
       " ('강조했다', 1),\n",
       " ('그러면서', 1),\n",
       " ('올라가', 1),\n",
       " ('개혁법에', 1),\n",
       " ('얼마든지', 1),\n",
       " ('대안을', 1),\n",
       " ('제시하고', 1),\n",
       " ('현실적인', 1),\n",
       " ('합의', 1),\n",
       " ('방안이', 1),\n",
       " ('원안을', 1),\n",
       " ('생각은', 1),\n",
       " ('각', 1),\n",
       " ('당이', 1),\n",
       " ('열린', 1),\n",
       " ('자세로', 1),\n",
       " ('진솔한', 1),\n",
       " ('입장과', 1),\n",
       " ('의지를', 1),\n",
       " ('가지고', 1),\n",
       " ('참여해줬으면', 1),\n",
       " ('한다', 1),\n",
       " ('전했다', 1),\n",
       " ('또', 1),\n",
       " ('선거법', 1),\n",
       " ('개정은', 1),\n",
       " ('문제', 1),\n",
       " ('라며', 1),\n",
       " ('수는', 1),\n",
       " ('개혁', 1),\n",
       " ('오랜기간', 1),\n",
       " ('끌지', 1),\n",
       " ('않겠다는', 1),\n",
       " ('취지로', 1),\n",
       " ('연장', 1),\n",
       " ('시한인', 1),\n",
       " ('8월31일', 1),\n",
       " ('안에는', 1),\n",
       " ('처리할', 1),\n",
       " ('수도', 1),\n",
       " ('있다는', 1),\n",
       " ('속뜻을', 1),\n",
       " ('내비친', 1),\n",
       " ('것이라는', 1),\n",
       " ('해석이', 1),\n",
       " ('나온다', 1),\n",
       " ('아울러', 1),\n",
       " ('한국당이', 1),\n",
       " ('1소위원장을', 1),\n",
       " ('맡아야', 1),\n",
       " ('한다는', 1),\n",
       " ('주장에', 1),\n",
       " ('대해서는', 1),\n",
       " ('이번', 1),\n",
       " ('특위', 1),\n",
       " ('연장과', 1),\n",
       " ('관련해', 1),\n",
       " ('합의정신이', 1),\n",
       " ('있다고', 1),\n",
       " ('들었다', 1),\n",
       " ('가능하면', 1),\n",
       " ('틀을', 1),\n",
       " ('존중해야', 1),\n",
       " ('한다고', 1),\n",
       " ('말했다', 1),\n",
       " ('애초', 1),\n",
       " ('이인영', 1),\n",
       " ('처음', 1),\n",
       " ('제안했을', 1),\n",
       " ('때는', 1),\n",
       " ('거절했었다', 1),\n",
       " ('하지만', 1),\n",
       " ('민주당', 1),\n",
       " ('중진', 1),\n",
       " ('의원들이', 1),\n",
       " ('계속해서', 1),\n",
       " ('거절하자', 1),\n",
       " ('결국', 1),\n",
       " ('돌고', 1),\n",
       " ('돌아', 1),\n",
       " ('다시', 1),\n",
       " ('맡게', 1),\n",
       " ('이에', 1),\n",
       " ('패스트트랙으로', 1),\n",
       " ('진통을', 1),\n",
       " ('겪었기', 1),\n",
       " ('분이', 1),\n",
       " ('해서', 1),\n",
       " ('좋은', 1),\n",
       " ('성과를', 1),\n",
       " ('냈으면', 1),\n",
       " ('게', 1),\n",
       " ('개인적인', 1),\n",
       " ('바람이었다', 1),\n",
       " ('그런데', 1),\n",
       " ('그렇고', 1),\n",
       " ('뜻을', 1),\n",
       " ('전해줘서', 1),\n",
       " ('위원장을', 1),\n",
       " ('하게', 1),\n",
       " ('설명했다', 1),\n",
       " ('확', 1),\n",
       " ('달라진', 1),\n",
       " ('인싸들의', 1),\n",
       " ('선택', 1),\n",
       " ('구독', 1),\n",
       " ('서비스', 1),\n",
       " ('요즘', 1),\n",
       " ('10대', 1),\n",
       " ('그들의', 1),\n",
       " ('속', 1),\n",
       " ('이야기', 1),\n",
       " ('kimgu88', 1),\n",
       " ('@', 1),\n",
       " ('cbs.co.kr', 1),\n",
       " ('저작권자', 1),\n",
       " ('©', 1),\n",
       " ('CBS', 1),\n",
       " ('무단전재', 1),\n",
       " ('및', 1),\n",
       " ('재배포', 1),\n",
       " ('금지', 1)]"
      ]
     },
     "execution_count": 83,
     "metadata": {},
     "output_type": "execute_result"
    }
   ],
   "source": [
    "text.vocab().most_common()"
   ]
  },
  {
   "cell_type": "code",
   "execution_count": 79,
   "metadata": {},
   "outputs": [
    {
     "data": {
      "text/plain": [
       "[(\"''\", 18),\n",
       " ('.', 15),\n",
       " ('``', 12),\n",
       " ('정개특위', 8),\n",
       " ('전', 8),\n",
       " (',', 7),\n",
       " ('원내대표는', 6),\n",
       " ('홍', 6),\n",
       " ('고', 6),\n",
       " ('(', 4),\n",
       " (')', 4),\n",
       " ('여야', 4),\n",
       " ('없다', 3),\n",
       " ('선거제', 3),\n",
       " ('하는', 3),\n",
       " ('며', 3),\n",
       " ('다른', 3),\n",
       " ('▶', 3),\n",
       " ('노컷뉴스', 3),\n",
       " ('오늘부터', 2),\n",
       " ('합리적', 2),\n",
       " ('있다면', 2),\n",
       " ('고집할', 2),\n",
       " ('시한이', 2),\n",
       " ('무작정', 2),\n",
       " ('연장할', 2),\n",
       " ('더불어민주당', 2),\n",
       " ('홍영표', 2),\n",
       " ('국회', 2),\n",
       " ('내정된', 2)]"
      ]
     },
     "execution_count": 79,
     "metadata": {},
     "output_type": "execute_result"
    }
   ],
   "source": [
    "text.vocab().most_common(30)"
   ]
  },
  {
   "cell_type": "code",
   "execution_count": 86,
   "metadata": {},
   "outputs": [
    {
     "data": {
      "image/png": "[encoded data removed]",
      "text/plain": [
       "<Figure size 432x288 with 1 Axes>"
      ]
     },
     "metadata": {
      "needs_background": "light"
     },
     "output_type": "display_data"
    }
   ],
   "source": [
    "text.plot(30)"
   ]
  },
  {
   "cell_type": "code",
   "execution_count": 88,
   "metadata": {},
   "outputs": [
    {
     "data": {
      "image/png": "[encoded data removed]",
      "text/plain": [
       "<Figure size 432x288 with 1 Axes>"
      ]
     },
     "metadata": {
      "needs_background": "light"
     },
     "output_type": "display_data"
    }
   ],
   "source": [
    "text.plot()"
   ]
  },
  {
   "cell_type": "markdown",
   "metadata": {},
   "source": [
    "---\n",
    "\n",
    "Empirical Law\n",
    "\n",
    " * Zipf's Law**\n",
    " \n",
    "     frequency of word\n",
    " \n",
    "     불용어(Stopwords) - 의미있는 단어(Significant words) - 의미없는 단어(tail)\n",
    "     \n",
    "     불용어 -> ., ,, ', 등 특수 문자 또는 관사 같은 것들\n",
    "     \n",
    "     의미있는 단어 -> 순위와 빈도 비율로 불용어를 잘라서 처리한다.\n",
    "     \n",
    "     수많은 데이터 중에 어떤 데이터를 경험적으로 좋은 데이터다 라고 판단하는 법칙\n",
    " \n",
    " -> 그래프 모양이 유사하면 일반적인 데이터라고 판단할 수 있다.(밸런스가 맞는다./편향적이지 않다.)"
   ]
  },
  {
   "cell_type": "code",
   "execution_count": 90,
   "metadata": {},
   "outputs": [
    {
     "data": {
      "text/plain": [
       "0.020100502512562814"
      ]
     },
     "execution_count": 90,
     "metadata": {},
     "output_type": "execute_result"
    }
   ],
   "source": [
    "text.vocab().freq(\"정개특위\")"
   ]
  },
  {
   "cell_type": "markdown",
   "metadata": {},
   "source": [
    "-> 빈도가 아닌 비율이 나온다."
   ]
  },
  {
   "cell_type": "code",
   "execution_count": 91,
   "metadata": {},
   "outputs": [
    {
     "data": {
      "text/plain": [
       "[\"''\", '.', '``', '정개특위', '전', ',', '원내대표는', '홍', '고', '(']"
      ]
     },
     "execution_count": 91,
     "metadata": {},
     "output_type": "execute_result"
    }
   ],
   "source": [
    "[_[0] for _ in text.vocab().most_common(10)]"
   ]
  },
  {
   "cell_type": "code",
   "execution_count": 94,
   "metadata": {},
   "outputs": [
    {
     "name": "stdout",
     "output_type": "stream",
     "text": [
      "0.04522613065326633\n",
      "0.03768844221105527\n",
      "0.03015075376884422\n",
      "0.020100502512562814\n",
      "0.020100502512562814\n",
      "0.017587939698492462\n",
      "0.01507537688442211\n",
      "0.01507537688442211\n",
      "0.01507537688442211\n",
      "0.010050251256281407\n",
      "ratio :  0.22613065326633167\n"
     ]
    }
   ],
   "source": [
    "ratio = 0.0\n",
    "for _ in [_[0] for _ in text.vocab().most_common(10)]:\n",
    "    ratio += text.vocab().freq(_)\n",
    "    print(text.vocab().freq(_))\n",
    "print(\"ratio : \", ratio)"
   ]
  },
  {
   "cell_type": "code",
   "execution_count": 96,
   "metadata": {},
   "outputs": [],
   "source": [
    "import matplotlib.pyplot as plt\n",
    "from math import log"
   ]
  },
  {
   "cell_type": "code",
   "execution_count": 99,
   "metadata": {},
   "outputs": [
    {
     "data": {
      "image/png": "[encoded data removed]",
      "text/plain": [
       "<Figure size 432x288 with 1 Axes>"
      ]
     },
     "metadata": {
      "needs_background": "light"
     },
     "output_type": "display_data"
    }
   ],
   "source": [
    "token = [_[0] for _ in sorted(text.vocab().items(),key=lambda x:x[1], reverse=True)]\n",
    "freq = [_[1]/text.vocab().most_common(1)[0][1] \n",
    "        for _ in sorted(text.vocab().items(),key= lambda x:x[1], reverse=True)]\n",
    "\n",
    "_freq = [log(_) for _ in freq]\n",
    "rank = [1/(_+1) for _ in range(len(token))]\n",
    "_rank = [log(_) for _ in rank]\n",
    "                        \n",
    "plt.plot([i for i in range(len(token))], freq, \"r-\")\n",
    "plt.plot([i for i in range(len(token))], rank, \"b-\")\n",
    "plt.show()        "
   ]
  },
  {
   "cell_type": "code",
   "execution_count": 100,
   "metadata": {},
   "outputs": [
    {
     "data": {
      "image/png": "[encoded data removed]",
      "text/plain": [
       "<Figure size 432x288 with 1 Axes>"
      ]
     },
     "metadata": {
      "needs_background": "light"
     },
     "output_type": "display_data"
    }
   ],
   "source": [
    "plt.plot([i for i in range(len(token))], _freq, \"r-\")\n",
    "plt.plot([i for i in range(len(token))], _rank, \"b-\")\n",
    "plt.show()"
   ]
  },
  {
   "cell_type": "code",
   "execution_count": 101,
   "metadata": {},
   "outputs": [
    {
     "data": {
      "text/plain": [
       "[1.0,\n",
       " 0.8333333333333334,\n",
       " 0.6666666666666666,\n",
       " 0.4444444444444444,\n",
       " 0.4444444444444444,\n",
       " 0.3888888888888889,\n",
       " 0.3333333333333333,\n",
       " 0.3333333333333333,\n",
       " 0.3333333333333333,\n",
       " 0.2222222222222222,\n",
       " 0.2222222222222222,\n",
       " 0.2222222222222222,\n",
       " 0.16666666666666666,\n",
       " 0.16666666666666666,\n",
       " 0.16666666666666666,\n",
       " 0.16666666666666666,\n",
       " 0.16666666666666666,\n",
       " 0.16666666666666666,\n",
       " 0.16666666666666666,\n",
       " 0.1111111111111111,\n",
       " 0.1111111111111111,\n",
       " 0.1111111111111111,\n",
       " 0.1111111111111111,\n",
       " 0.1111111111111111,\n",
       " 0.1111111111111111,\n",
       " 0.1111111111111111,\n",
       " 0.1111111111111111,\n",
       " 0.1111111111111111,\n",
       " 0.1111111111111111,\n",
       " 0.1111111111111111,\n",
       " 0.1111111111111111,\n",
       " 0.1111111111111111,\n",
       " 0.1111111111111111,\n",
       " 0.1111111111111111,\n",
       " 0.1111111111111111,\n",
       " 0.1111111111111111,\n",
       " 0.1111111111111111,\n",
       " 0.1111111111111111,\n",
       " 0.1111111111111111,\n",
       " 0.1111111111111111,\n",
       " 0.1111111111111111,\n",
       " 0.1111111111111111,\n",
       " 0.1111111111111111,\n",
       " 0.1111111111111111,\n",
       " 0.1111111111111111,\n",
       " 0.1111111111111111,\n",
       " 0.1111111111111111,\n",
       " 0.1111111111111111,\n",
       " 0.1111111111111111,\n",
       " 0.1111111111111111,\n",
       " 0.05555555555555555,\n",
       " 0.05555555555555555,\n",
       " 0.05555555555555555,\n",
       " 0.05555555555555555,\n",
       " 0.05555555555555555,\n",
       " 0.05555555555555555,\n",
       " 0.05555555555555555,\n",
       " 0.05555555555555555,\n",
       " 0.05555555555555555,\n",
       " 0.05555555555555555,\n",
       " 0.05555555555555555,\n",
       " 0.05555555555555555,\n",
       " 0.05555555555555555,\n",
       " 0.05555555555555555,\n",
       " 0.05555555555555555,\n",
       " 0.05555555555555555,\n",
       " 0.05555555555555555,\n",
       " 0.05555555555555555,\n",
       " 0.05555555555555555,\n",
       " 0.05555555555555555,\n",
       " 0.05555555555555555,\n",
       " 0.05555555555555555,\n",
       " 0.05555555555555555,\n",
       " 0.05555555555555555,\n",
       " 0.05555555555555555,\n",
       " 0.05555555555555555,\n",
       " 0.05555555555555555,\n",
       " 0.05555555555555555,\n",
       " 0.05555555555555555,\n",
       " 0.05555555555555555,\n",
       " 0.05555555555555555,\n",
       " 0.05555555555555555,\n",
       " 0.05555555555555555,\n",
       " 0.05555555555555555,\n",
       " 0.05555555555555555,\n",
       " 0.05555555555555555,\n",
       " 0.05555555555555555,\n",
       " 0.05555555555555555,\n",
       " 0.05555555555555555,\n",
       " 0.05555555555555555,\n",
       " 0.05555555555555555,\n",
       " 0.05555555555555555,\n",
       " 0.05555555555555555,\n",
       " 0.05555555555555555,\n",
       " 0.05555555555555555,\n",
       " 0.05555555555555555,\n",
       " 0.05555555555555555,\n",
       " 0.05555555555555555,\n",
       " 0.05555555555555555,\n",
       " 0.05555555555555555,\n",
       " 0.05555555555555555,\n",
       " 0.05555555555555555,\n",
       " 0.05555555555555555,\n",
       " 0.05555555555555555,\n",
       " 0.05555555555555555,\n",
       " 0.05555555555555555,\n",
       " 0.05555555555555555,\n",
       " 0.05555555555555555,\n",
       " 0.05555555555555555,\n",
       " 0.05555555555555555,\n",
       " 0.05555555555555555,\n",
       " 0.05555555555555555,\n",
       " 0.05555555555555555,\n",
       " 0.05555555555555555,\n",
       " 0.05555555555555555,\n",
       " 0.05555555555555555,\n",
       " 0.05555555555555555,\n",
       " 0.05555555555555555,\n",
       " 0.05555555555555555,\n",
       " 0.05555555555555555,\n",
       " 0.05555555555555555,\n",
       " 0.05555555555555555,\n",
       " 0.05555555555555555,\n",
       " 0.05555555555555555,\n",
       " 0.05555555555555555,\n",
       " 0.05555555555555555,\n",
       " 0.05555555555555555,\n",
       " 0.05555555555555555,\n",
       " 0.05555555555555555,\n",
       " 0.05555555555555555,\n",
       " 0.05555555555555555,\n",
       " 0.05555555555555555,\n",
       " 0.05555555555555555,\n",
       " 0.05555555555555555,\n",
       " 0.05555555555555555,\n",
       " 0.05555555555555555,\n",
       " 0.05555555555555555,\n",
       " 0.05555555555555555,\n",
       " 0.05555555555555555,\n",
       " 0.05555555555555555,\n",
       " 0.05555555555555555,\n",
       " 0.05555555555555555,\n",
       " 0.05555555555555555,\n",
       " 0.05555555555555555,\n",
       " 0.05555555555555555,\n",
       " 0.05555555555555555,\n",
       " 0.05555555555555555,\n",
       " 0.05555555555555555,\n",
       " 0.05555555555555555,\n",
       " 0.05555555555555555,\n",
       " 0.05555555555555555,\n",
       " 0.05555555555555555,\n",
       " 0.05555555555555555,\n",
       " 0.05555555555555555,\n",
       " 0.05555555555555555,\n",
       " 0.05555555555555555,\n",
       " 0.05555555555555555,\n",
       " 0.05555555555555555,\n",
       " 0.05555555555555555,\n",
       " 0.05555555555555555,\n",
       " 0.05555555555555555,\n",
       " 0.05555555555555555,\n",
       " 0.05555555555555555,\n",
       " 0.05555555555555555,\n",
       " 0.05555555555555555,\n",
       " 0.05555555555555555,\n",
       " 0.05555555555555555,\n",
       " 0.05555555555555555,\n",
       " 0.05555555555555555,\n",
       " 0.05555555555555555,\n",
       " 0.05555555555555555,\n",
       " 0.05555555555555555,\n",
       " 0.05555555555555555,\n",
       " 0.05555555555555555,\n",
       " 0.05555555555555555,\n",
       " 0.05555555555555555,\n",
       " 0.05555555555555555,\n",
       " 0.05555555555555555,\n",
       " 0.05555555555555555,\n",
       " 0.05555555555555555,\n",
       " 0.05555555555555555,\n",
       " 0.05555555555555555,\n",
       " 0.05555555555555555,\n",
       " 0.05555555555555555,\n",
       " 0.05555555555555555,\n",
       " 0.05555555555555555,\n",
       " 0.05555555555555555,\n",
       " 0.05555555555555555,\n",
       " 0.05555555555555555,\n",
       " 0.05555555555555555,\n",
       " 0.05555555555555555,\n",
       " 0.05555555555555555,\n",
       " 0.05555555555555555,\n",
       " 0.05555555555555555,\n",
       " 0.05555555555555555,\n",
       " 0.05555555555555555,\n",
       " 0.05555555555555555,\n",
       " 0.05555555555555555,\n",
       " 0.05555555555555555,\n",
       " 0.05555555555555555,\n",
       " 0.05555555555555555,\n",
       " 0.05555555555555555,\n",
       " 0.05555555555555555,\n",
       " 0.05555555555555555,\n",
       " 0.05555555555555555,\n",
       " 0.05555555555555555,\n",
       " 0.05555555555555555,\n",
       " 0.05555555555555555,\n",
       " 0.05555555555555555,\n",
       " 0.05555555555555555,\n",
       " 0.05555555555555555,\n",
       " 0.05555555555555555,\n",
       " 0.05555555555555555,\n",
       " 0.05555555555555555,\n",
       " 0.05555555555555555,\n",
       " 0.05555555555555555,\n",
       " 0.05555555555555555,\n",
       " 0.05555555555555555,\n",
       " 0.05555555555555555,\n",
       " 0.05555555555555555,\n",
       " 0.05555555555555555,\n",
       " 0.05555555555555555,\n",
       " 0.05555555555555555,\n",
       " 0.05555555555555555,\n",
       " 0.05555555555555555,\n",
       " 0.05555555555555555,\n",
       " 0.05555555555555555,\n",
       " 0.05555555555555555,\n",
       " 0.05555555555555555,\n",
       " 0.05555555555555555,\n",
       " 0.05555555555555555,\n",
       " 0.05555555555555555,\n",
       " 0.05555555555555555,\n",
       " 0.05555555555555555,\n",
       " 0.05555555555555555,\n",
       " 0.05555555555555555,\n",
       " 0.05555555555555555,\n",
       " 0.05555555555555555,\n",
       " 0.05555555555555555,\n",
       " 0.05555555555555555,\n",
       " 0.05555555555555555,\n",
       " 0.05555555555555555,\n",
       " 0.05555555555555555,\n",
       " 0.05555555555555555,\n",
       " 0.05555555555555555,\n",
       " 0.05555555555555555,\n",
       " 0.05555555555555555,\n",
       " 0.05555555555555555,\n",
       " 0.05555555555555555,\n",
       " 0.05555555555555555,\n",
       " 0.05555555555555555,\n",
       " 0.05555555555555555,\n",
       " 0.05555555555555555,\n",
       " 0.05555555555555555,\n",
       " 0.05555555555555555,\n",
       " 0.05555555555555555,\n",
       " 0.05555555555555555,\n",
       " 0.05555555555555555,\n",
       " 0.05555555555555555,\n",
       " 0.05555555555555555,\n",
       " 0.05555555555555555,\n",
       " 0.05555555555555555,\n",
       " 0.05555555555555555,\n",
       " 0.05555555555555555,\n",
       " 0.05555555555555555,\n",
       " 0.05555555555555555,\n",
       " 0.05555555555555555]"
      ]
     },
     "execution_count": 101,
     "metadata": {},
     "output_type": "execute_result"
    }
   ],
   "source": [
    "[_[1]/text.vocab().most_common(1)[0][1] \n",
    "        for _ in sorted(text.vocab().items(),key= lambda x:x[1], reverse=True)]"
   ]
  },
  {
   "cell_type": "markdown",
   "metadata": {},
   "source": [
    "---\n",
    "\n",
    " * Heaps' Law\n",
    " \n",
    " V'R: the number of distinct words in an instance text\n"
   ]
  },
  {
   "cell_type": "code",
   "execution_count": 105,
   "metadata": {},
   "outputs": [],
   "source": [
    "K = 60 # 10 - 100"
   ]
  },
  {
   "cell_type": "code",
   "execution_count": 120,
   "metadata": {},
   "outputs": [],
   "source": [
    "B = 0.4 # 0.4 - 0.6"
   ]
  },
  {
   "cell_type": "code",
   "execution_count": 121,
   "metadata": {},
   "outputs": [],
   "source": [
    "unique = list()\n",
    "total = list()\n",
    "heaps = list()\n",
    "largeText = \"\"\n",
    "\n",
    "for _ in corpus:\n",
    "    largeText += _\n",
    "    text = Text(largeText)\n",
    "    unique.append(text.vocab().B())\n",
    "    total.append(text.vocab().N())\n",
    "    heaps.append(K*text.vocab().N()**B)"
   ]
  },
  {
   "cell_type": "code",
   "execution_count": 122,
   "metadata": {},
   "outputs": [
    {
     "data": {
      "text/plain": [
       "[<matplotlib.lines.Line2D at 0x1d8b12d1518>]"
      ]
     },
     "execution_count": 122,
     "metadata": {},
     "output_type": "execute_result"
    },
    {
     "data": {
      "image/png": "[encoded data removed]",
      "text/plain": [
       "<Figure size 432x288 with 1 Axes>"
      ]
     },
     "metadata": {
      "needs_background": "light"
     },
     "output_type": "display_data"
    }
   ],
   "source": [
    "plt.plot(total, unique, \"r-\")"
   ]
  },
  {
   "cell_type": "code",
   "execution_count": 123,
   "metadata": {},
   "outputs": [
    {
     "data": {
      "text/plain": [
       "[<matplotlib.lines.Line2D at 0x1d8b123a438>]"
      ]
     },
     "execution_count": 123,
     "metadata": {},
     "output_type": "execute_result"
    },
    {
     "data": {
      "image/png": "[encoded data removed]",
      "text/plain": [
       "<Figure size 432x288 with 1 Axes>"
      ]
     },
     "metadata": {
      "needs_background": "light"
     },
     "output_type": "display_data"
    }
   ],
   "source": [
    "plt.plot(total, heaps, \"b-\")"
   ]
  },
  {
   "cell_type": "code",
   "execution_count": 125,
   "metadata": {},
   "outputs": [
    {
     "data": {
      "image/png": "[encoded data removed]",
      "text/plain": [
       "<Figure size 432x288 with 1 Axes>"
      ]
     },
     "metadata": {
      "needs_background": "light"
     },
     "output_type": "display_data"
    }
   ],
   "source": [
    "plt.plot(total, unique, \"r-\")\n",
    "plt.plot(total, heaps, \"b-\")\n",
    "plt.show()"
   ]
  },
  {
   "cell_type": "code",
   "execution_count": 126,
   "metadata": {},
   "outputs": [
    {
     "data": {
      "text/plain": [
       "[258, 338]"
      ]
     },
     "execution_count": 126,
     "metadata": {},
     "output_type": "execute_result"
    }
   ],
   "source": [
    "unique"
   ]
  },
  {
   "cell_type": "code",
   "execution_count": 127,
   "metadata": {},
   "outputs": [
    {
     "data": {
      "text/plain": [
       "[1095.6635049136985, 1346.3147495591504]"
      ]
     },
     "execution_count": 127,
     "metadata": {},
     "output_type": "execute_result"
    }
   ],
   "source": [
    "heaps"
   ]
  },
  {
   "cell_type": "markdown",
   "metadata": {},
   "source": [
    " * n-gram\n",
    " \n",
    " 언어학에서 중요한 모델\n",
    " \n",
    " 통계와 빈도, 피처를 너무 많이 생성한다.\n",
    " \n",
    " 어간을 찾을 때, 많이쓴다.\n",
    " \n",
    " predicts a next letter\n",
    " \n",
    " Given a sequence of letters, what is the likelihood of the next letter?\n",
    " \n",
    " 통계를 기반으로한 확률 모델이다 . \n",
    " \n",
    " 이론적으로 언어를 생성하기도 하고, 다음 단어를 예측하기 위해 사용하는 이론.\n",
    " \n",
    " -> 하지만 특정 패턴에 대한 빈도가 너무 적다. -> 확률값이 0에 가까워진다.\n",
    " \n",
    " 코퍼스 = 밸런스 + 다양한 언어패턴이 들어있는(다양한 영역의 데이터) 큰 데이터\n",
    " \n",
    " -> 코퍼스 구축은 특정 언어 패턴을 사용하는 데이터를 선별해서 수집해서 밸런스를 맞추고, ...?\n",
    " \n",
    " 어절들로 시퀀스를 구축한다. \n",
    " \n",
    " 배열로 만들지 않고 인덱스로 어간의 정보를 저장해서 빠른 탐색을 지원한다.\n",
    " \n",
    " P( xi | xi-(n-1),...,xi-1 )\n",
    " "
   ]
  },
  {
   "cell_type": "code",
   "execution_count": 130,
   "metadata": {},
   "outputs": [],
   "source": [
    "sentence = \"Life is short, You need Python\""
   ]
  },
  {
   "cell_type": "markdown",
   "metadata": {},
   "source": [
    "N=2\n",
    "P(Python|need)\n",
    "P(need|You)"
   ]
  },
  {
   "cell_type": "markdown",
   "metadata": {},
   "source": [
    "N=3\n",
    "P(Python|need, You)\n",
    "P(need|You) P(Python|need) # chaining"
   ]
  },
  {
   "cell_type": "markdown",
   "metadata": {},
   "source": [
    "n - gram -> chaining하지 않고\n",
    "\n",
    "P(Pytoh|You need)\n",
    "\n",
    "술 한잔 마셨습니다.\n",
    "아버지 + 가, 아버지를\n",
    "술한잔마셨습니다. (띄어쓰기)\n",
    "ㅅㅜㄹ\n",
    "맞춤형 문장만들어주기\n",
    "쀍\n",
    "유니코드 0-127(2^7)"
   ]
  },
  {
   "cell_type": "code",
   "execution_count": 164,
   "metadata": {},
   "outputs": [],
   "source": [
    "def eojeol(sentence, N=2):\n",
    "    tokens = word_tokenize(sentence)\n",
    "    ngram = list()\n",
    "    # print(\"tokens : \",len(tokens)-(N-1))\n",
    "    for i in range(len(tokens)-(N-1)):\n",
    "        # ngram.append(\" \".join(tokens[i:i+N]))\n",
    "        ngram.append(tuple(tokens[i:i+N]))\n",
    "    return ngram"
   ]
  },
  {
   "cell_type": "code",
   "execution_count": 146,
   "metadata": {},
   "outputs": [],
   "source": [
    "def umjeol(token, N=2):\n",
    "    tokens = list(token)\n",
    "    ngram = list()\n",
    "    for i in range(len(tokens)-(N-1)):\n",
    "        ngram.append(\"\".join(tokens[i:i+N]))\n",
    "        # ngram.append(tuple(tokens[i:i+N]))\n",
    "    return ngram"
   ]
  },
  {
   "cell_type": "code",
   "execution_count": 163,
   "metadata": {},
   "outputs": [
    {
     "name": "stdout",
     "output_type": "stream",
     "text": [
      "tokens :  5\n"
     ]
    },
    {
     "data": {
      "text/plain": [
       "[('Life', 'is', 'short'),\n",
       " ('is', 'short', ','),\n",
       " ('short', ',', 'You'),\n",
       " (',', 'You', 'need'),\n",
       " ('You', 'need', 'Python')]"
      ]
     },
     "execution_count": 163,
     "metadata": {},
     "output_type": "execute_result"
    }
   ],
   "source": [
    "eojeol(sentence,3)"
   ]
  },
  {
   "cell_type": "code",
   "execution_count": 133,
   "metadata": {},
   "outputs": [],
   "source": [
    "from collections import defaultdict\n",
    "\n",
    "freq = defaultdict(int)\n",
    "for _ in eojeol(corpus[0]):\n",
    "    freq[_] += 1"
   ]
  },
  {
   "cell_type": "code",
   "execution_count": 136,
   "metadata": {},
   "outputs": [
    {
     "data": {
      "text/plain": [
       "[(('전', '원내대표는'), 5),\n",
       " (('.', '홍'), 4),\n",
       " (('홍', '전'), 4),\n",
       " ((\"''\", '고'), 4),\n",
       " (('없다', \"''\"), 3),\n",
       " ((\"''\", \"''\"), 2),\n",
       " (('있다면', ','), 2),\n",
       " (('무작정', '연장할'), 2),\n",
       " (('더불어민주당', '홍영표'), 2),\n",
       " (('홍영표', '전'), 2)]"
      ]
     },
     "execution_count": 136,
     "metadata": {},
     "output_type": "execute_result"
    }
   ],
   "source": [
    "sorted(freq.items(), key=lambda x:x[1], reverse=True)[:10]"
   ]
  },
  {
   "cell_type": "code",
   "execution_count": 139,
   "metadata": {},
   "outputs": [
    {
     "data": {
      "text/plain": [
       "0.018796992481203006"
      ]
     },
     "execution_count": 139,
     "metadata": {},
     "output_type": "execute_result"
    }
   ],
   "source": [
    "freq[('전', '원내대표는')]/ sum(freq.values()) * \\\n",
    "freq[('.', '홍')]/ freq[('홍', '전')]"
   ]
  },
  {
   "cell_type": "code",
   "execution_count": 140,
   "metadata": {},
   "outputs": [
    {
     "data": {
      "text/plain": [
       "dict_values([1, 1, 1, 1, 1, 1, 1, 1, 1, 1, 2, 1, 1, 1, 2, 1, 1, 1, 1, 3, 1, 1, 1, 1, 1, 2, 1, 1, 1, 1, 1, 1, 1, 1, 1, 2, 2, 1, 1, 1, 1, 1, 1, 1, 1, 1, 1, 1, 5, 1, 1, 2, 1, 1, 1, 2, 4, 4, 1, 1, 1, 1, 1, 1, 1, 1, 1, 1, 1, 1, 1, 1, 1, 1, 1, 1, 1, 1, 1, 1, 1, 1, 1, 1, 1, 1, 1, 1, 1, 1, 1, 1, 1, 1, 1, 1, 1, 1, 1, 1, 1, 1, 1, 1, 1, 1, 1, 1, 1, 1, 1, 1, 1, 1, 1, 1, 1, 1, 4, 1, 1, 1, 1, 1, 1, 1, 1, 1, 1, 1, 1, 1, 1, 1, 1, 2, 1, 1, 1, 1, 1, 1, 1, 1, 1, 1, 1, 1, 1, 1, 1, 1, 1, 1, 1, 1, 1, 1, 1, 1, 1, 1, 1, 1, 1, 1, 1, 1, 1, 1, 1, 1, 1, 1, 1, 1, 1, 1, 1, 1, 1, 1, 1, 1, 1, 1, 1, 1, 1, 1, 1, 1, 1, 1, 1, 1, 1, 1, 1, 1, 1, 1, 1, 1, 1, 1, 1, 1, 1, 1, 1, 1, 1, 1, 1, 1, 1, 1, 1, 1, 1, 1, 1, 1, 1, 1, 1, 1, 1, 1, 1, 1, 1, 1, 1, 1, 1, 1, 1, 1, 1, 1, 1])"
      ]
     },
     "execution_count": 140,
     "metadata": {},
     "output_type": "execute_result"
    }
   ],
   "source": [
    "freq.values()"
   ]
  },
  {
   "cell_type": "code",
   "execution_count": 141,
   "metadata": {},
   "outputs": [
    {
     "data": {
      "text/plain": [
       "[('기자/자료사진', ')'), ('공수처', ')'), ('원안을', ')')]"
      ]
     },
     "execution_count": 141,
     "metadata": {},
     "output_type": "execute_result"
    }
   ],
   "source": [
    "[_ for _ in freq if _[1] == \")\"]"
   ]
  },
  {
   "cell_type": "code",
   "execution_count": 147,
   "metadata": {},
   "outputs": [
    {
     "data": {
      "text/plain": [
       "['사개',\n",
       " '개특',\n",
       " '특위',\n",
       " '위와',\n",
       " '와 ',\n",
       " ' 별',\n",
       " '별도',\n",
       " '도로',\n",
       " '로 ',\n",
       " ' 정',\n",
       " '정개',\n",
       " '개특',\n",
       " '특위',\n",
       " '위 ',\n",
       " ' 가',\n",
       " '가동',\n",
       " '동 ',\n",
       " ' 계',\n",
       " '계획',\n",
       " '획 ',\n",
       " ' 밝',\n",
       " '밝혀',\n",
       " '혀…',\n",
       " '…\"',\n",
       " '\"오',\n",
       " '오늘',\n",
       " '늘부',\n",
       " '부터',\n",
       " '터 ',\n",
       " ' 활',\n",
       " '활동',\n",
       " '동 ',\n",
       " ' 시',\n",
       " '시작',\n",
       " '작\"']"
      ]
     },
     "execution_count": 147,
     "metadata": {},
     "output_type": "execute_result"
    }
   ],
   "source": [
    "umjeol(corpus[0].splitlines()[0])"
   ]
  },
  {
   "cell_type": "markdown",
   "metadata": {},
   "source": [
    " * WPM\n",
    " \n",
    " 어간을 어떻게 추출할 지 에대한 모델\n",
    " \n",
    " byte pair encoding(digram coding)\n",
    " "
   ]
  },
  {
   "cell_type": "code",
   "execution_count": 152,
   "metadata": {},
   "outputs": [],
   "source": [
    "from nltk.corpus import stopwords"
   ]
  },
  {
   "cell_type": "code",
   "execution_count": 155,
   "metadata": {},
   "outputs": [
    {
     "name": "stdout",
     "output_type": "stream",
     "text": [
      "i\n",
      "me\n",
      "my\n",
      "myself\n",
      "we\n",
      "our\n",
      "ours\n",
      "ourselves\n",
      "you\n",
      "you're\n",
      "you've\n",
      "you'll\n",
      "you'd\n",
      "your\n",
      "yours\n",
      "yourself\n",
      "yourselves\n",
      "he\n",
      "him\n",
      "his\n",
      "himself\n",
      "she\n",
      "she's\n",
      "her\n",
      "hers\n",
      "herself\n",
      "it\n",
      "it's\n",
      "its\n",
      "itself\n",
      "they\n",
      "them\n",
      "their\n",
      "theirs\n",
      "themselves\n",
      "what\n",
      "which\n",
      "who\n",
      "whom\n",
      "this\n",
      "that\n",
      "that'll\n",
      "these\n",
      "those\n",
      "am\n",
      "is\n",
      "are\n",
      "was\n",
      "were\n",
      "be\n",
      "been\n",
      "being\n",
      "have\n",
      "has\n",
      "had\n",
      "having\n",
      "do\n",
      "does\n",
      "did\n",
      "doing\n",
      "a\n",
      "an\n",
      "the\n",
      "and\n",
      "but\n",
      "if\n",
      "or\n",
      "because\n",
      "as\n",
      "until\n",
      "while\n",
      "of\n",
      "at\n",
      "by\n",
      "for\n",
      "with\n",
      "about\n",
      "against\n",
      "between\n",
      "into\n",
      "through\n",
      "during\n",
      "before\n",
      "after\n",
      "above\n",
      "below\n",
      "to\n",
      "from\n",
      "up\n",
      "down\n",
      "in\n",
      "out\n",
      "on\n",
      "off\n",
      "over\n",
      "under\n",
      "again\n",
      "further\n",
      "then\n",
      "once\n",
      "here\n",
      "there\n",
      "when\n",
      "where\n",
      "why\n",
      "how\n",
      "all\n",
      "any\n",
      "both\n",
      "each\n",
      "few\n",
      "more\n",
      "most\n",
      "other\n",
      "some\n",
      "such\n",
      "no\n",
      "nor\n",
      "not\n",
      "only\n",
      "own\n",
      "same\n",
      "so\n",
      "than\n",
      "too\n",
      "very\n",
      "s\n",
      "t\n",
      "can\n",
      "will\n",
      "just\n",
      "don\n",
      "don't\n",
      "should\n",
      "should've\n",
      "now\n",
      "d\n",
      "ll\n",
      "m\n",
      "o\n",
      "re\n",
      "ve\n",
      "y\n",
      "ain\n",
      "aren\n",
      "aren't\n",
      "couldn\n",
      "couldn't\n",
      "didn\n",
      "didn't\n",
      "doesn\n",
      "doesn't\n",
      "hadn\n",
      "hadn't\n",
      "hasn\n",
      "hasn't\n",
      "haven\n",
      "haven't\n",
      "isn\n",
      "isn't\n",
      "ma\n",
      "mightn\n",
      "mightn't\n",
      "mustn\n",
      "mustn't\n",
      "needn\n",
      "needn't\n",
      "shan\n",
      "shan't\n",
      "shouldn\n",
      "shouldn't\n",
      "wasn\n",
      "wasn't\n",
      "weren\n",
      "weren't\n",
      "won\n",
      "won't\n",
      "wouldn\n",
      "wouldn't\n",
      "\n"
     ]
    }
   ],
   "source": [
    "print(stopwords.open(\"english\").read())"
   ]
  },
  {
   "cell_type": "code",
   "execution_count": 154,
   "metadata": {},
   "outputs": [
    {
     "name": "stderr",
     "output_type": "stream",
     "text": [
      "[nltk_data] Downloading package stopwords to\n",
      "[nltk_data]     C:\\Users\\scminnoG15\\AppData\\Roaming\\nltk_data...\n",
      "[nltk_data]   Unzipping corpora\\stopwords.zip.\n"
     ]
    },
    {
     "data": {
      "text/plain": [
       "True"
      ]
     },
     "execution_count": 154,
     "metadata": {},
     "output_type": "execute_result"
    }
   ],
   "source": [
    "nltk.download('stopwords')"
   ]
  },
  {
   "cell_type": "markdown",
   "metadata": {},
   "source": [
    "---\n",
    "\n",
    " * BPE(Byte Pair Encoding)\n",
    " \n",
    " 어간 추출\n",
    " \n",
    " word:freq:{low:5, lowest:2, newer:6, wider:3}\n",
    " \n",
    " 단어 입력 -> 모두 분리(적합한 쌍을 찾기위해) -> \n",
    " \n",
    " marge & count\n",
    "     1. 'r''</w>':9 -> marge'r</w>'\n",
    "     2. 'e''r</w>':9 -> marfe'er\n",
    "     3. 'l''o':7 -> marge'lo'\n",
    "     4. 'lo''w':5 -> marge'low'\n",
    "     \n",
    "     -> OOV:'lower' segmented 'low er</w>'"
   ]
  },
  {
   "cell_type": "code",
   "execution_count": 239,
   "metadata": {},
   "outputs": [],
   "source": [
    "tokens = {\n",
    "    \"l o w </w>\" : 5,\n",
    "    \"l o w e s t </w>\" : 2,\n",
    "    \"n e w e r </w>\" : 6,\n",
    "    \"w i d e r </w>\" : 3 \n",
    "}"
   ]
  },
  {
   "cell_type": "code",
   "execution_count": 240,
   "metadata": {},
   "outputs": [],
   "source": [
    "K = max(tokens.values())"
   ]
  },
  {
   "cell_type": "code",
   "execution_count": 229,
   "metadata": {},
   "outputs": [
    {
     "data": {
      "text/plain": [
       "6"
      ]
     },
     "execution_count": 229,
     "metadata": {},
     "output_type": "execute_result"
    }
   ],
   "source": [
    "K"
   ]
  },
  {
   "cell_type": "code",
   "execution_count": 241,
   "metadata": {},
   "outputs": [
    {
     "name": "stdout",
     "output_type": "stream",
     "text": [
      "('e', 'r')\n",
      "('er', '</w>')\n",
      "('l', 'o')\n",
      "('lo', 'w')\n",
      "('n', 'e')\n"
     ]
    },
    {
     "data": {
      "text/plain": [
       "{'low </w>': 5, 'low e s t </w>': 2, 'n e w er</w>': 6, 'w i d er</w>': 3}"
      ]
     },
     "execution_count": 241,
     "metadata": {},
     "output_type": "execute_result"
    }
   ],
   "source": [
    "for _ in range(5):\n",
    "    maxKey = findBigram(tokens)\n",
    "    tokens = mergeMaxKey(maxKey, tokens, K)\n",
    "tokens"
   ]
  },
  {
   "cell_type": "code",
   "execution_count": 227,
   "metadata": {},
   "outputs": [
    {
     "name": "stdout",
     "output_type": "stream",
     "text": [
      "('ne', 'w')\n",
      "('new', 'er</w>')\n",
      "('low', '</w>')\n",
      "('w', 'i')\n",
      "('wi', 'd')\n"
     ]
    },
    {
     "data": {
      "text/plain": [
       "{'low</w>': 5, 'low e s t </w>': 2, 'newer</w>': 6, 'wid er</w>': 3}"
      ]
     },
     "execution_count": 227,
     "metadata": {},
     "output_type": "execute_result"
    }
   ],
   "source": [
    "for _ in range(5):\n",
    "    maxKey = findBigram(tokens)\n",
    "    tokens = mergeMaxKey(maxKey, tokens, K)\n",
    "tokens"
   ]
  },
  {
   "cell_type": "code",
   "execution_count": 228,
   "metadata": {},
   "outputs": [
    {
     "name": "stdout",
     "output_type": "stream",
     "text": [
      "('wid', 'er</w>')\n",
      "('low', 'e')\n",
      "('lowe', 's')\n",
      "('lowes', 't')\n",
      "('lowest', '</w>')\n"
     ]
    },
    {
     "data": {
      "text/plain": [
       "{'low</w>': 5, 'lowest</w>': 2, 'newer</w>': 6, 'wider</w>': 3}"
      ]
     },
     "execution_count": 228,
     "metadata": {},
     "output_type": "execute_result"
    }
   ],
   "source": [
    "for _ in range(5):\n",
    "    maxKey = findBigram(tokens)\n",
    "    tokens = mergeMaxKey(maxKey, tokens, K)\n",
    "tokens"
   ]
  },
  {
   "cell_type": "code",
   "execution_count": 231,
   "metadata": {},
   "outputs": [],
   "source": [
    "def findBigram(tokens):\n",
    "    ngram = defaultdict(int)\n",
    "    for token, freq in tokens.items():\n",
    "        syllables = token.split()\n",
    "        for i in range(len(syllables)-1):\n",
    "            ngram[tuple(syllables[i:i+2])] += freq\n",
    "    return ngram"
   ]
  },
  {
   "cell_type": "code",
   "execution_count": 172,
   "metadata": {},
   "outputs": [
    {
     "data": {
      "text/plain": [
       "defaultdict(int,\n",
       "            {('l', 'o'): 7,\n",
       "             ('o', 'w'): 7,\n",
       "             ('w', '</w>'): 5,\n",
       "             ('w', 'e'): 8,\n",
       "             ('e', 's'): 2,\n",
       "             ('s', 't'): 2,\n",
       "             ('t', '</w>'): 2,\n",
       "             ('n', 'e'): 6,\n",
       "             ('e', 'w'): 6,\n",
       "             ('e', 'r'): 9,\n",
       "             ('r', '</w>'): 9,\n",
       "             ('w', 'i'): 3,\n",
       "             ('i', 'd'): 3,\n",
       "             ('d', 'e'): 3})"
      ]
     },
     "execution_count": 172,
     "metadata": {},
     "output_type": "execute_result"
    }
   ],
   "source": [
    "ngram"
   ]
  },
  {
   "cell_type": "code",
   "execution_count": 174,
   "metadata": {},
   "outputs": [
    {
     "data": {
      "text/plain": [
       "('o', 'w')"
      ]
     },
     "execution_count": 174,
     "metadata": {},
     "output_type": "execute_result"
    }
   ],
   "source": [
    "max(ngram, key=lambda x:x[1])"
   ]
  },
  {
   "cell_type": "code",
   "execution_count": 175,
   "metadata": {},
   "outputs": [],
   "source": [
    "maxKey = max(ngram, key=lambda x:x[1])"
   ]
  },
  {
   "cell_type": "code",
   "execution_count": 176,
   "metadata": {},
   "outputs": [
    {
     "data": {
      "text/plain": [
       "'o w'"
      ]
     },
     "execution_count": 176,
     "metadata": {},
     "output_type": "execute_result"
    }
   ],
   "source": [
    "\" \".join(maxKey)"
   ]
  },
  {
   "cell_type": "code",
   "execution_count": 237,
   "metadata": {},
   "outputs": [],
   "source": [
    "def mergeMaxKey(ngram, tokens, K):\n",
    "    maxKey = max(ngram, key=ngram.get)\n",
    "    maxValue = max(ngram.values())\n",
    "    newTokens = dict()\n",
    "    for token, freq in tokens.items():\n",
    "       # newTokens[re.sub(\" \".join(maxKey), \"\".join(maxKey), token)] = freq\n",
    "        newTokens[re.sub(\" \".join(maxKey),\"\".join(maxKey), token)\n",
    "                 if maxValue > K else token] = freq\n",
    "    print(maxKey)\n",
    "    return newTokens"
   ]
  },
  {
   "cell_type": "code",
   "execution_count": 187,
   "metadata": {},
   "outputs": [],
   "source": [
    "tokens = newTokens"
   ]
  },
  {
   "cell_type": "code",
   "execution_count": 209,
   "metadata": {},
   "outputs": [
    {
     "data": {
      "text/plain": [
       "{'l o w </w>': 5,\n",
       " 'l o w e s t </w>': 2,\n",
       " 'n e w er </w>': 6,\n",
       " 'w i d er </w>': 3}"
      ]
     },
     "execution_count": 209,
     "metadata": {},
     "output_type": "execute_result"
    }
   ],
   "source": [
    "newTokens"
   ]
  },
  {
   "cell_type": "code",
   "execution_count": 212,
   "metadata": {},
   "outputs": [
    {
     "name": "stdout",
     "output_type": "stream",
     "text": [
      "tokens :  {'low</w>': 5, 'lowest</w>': 2, 'newer</w>': 6, 'wider</w>': 3}\n",
      "['low<', 'w>']\n",
      "['lowest<', 'w>']\n",
      "['newer<', 'w>']\n",
      "['wider<', 'w>']\n"
     ]
    }
   ],
   "source": [
    "pattern = r\"[A-Za-z\\\\\\<\\>]{2,}\"\n",
    "print(\"tokens : \",tokens)\n",
    "for _ in tokens:\n",
    "    print(re.findall(pattern, _))"
   ]
  },
  {
   "cell_type": "code",
   "execution_count": 215,
   "metadata": {},
   "outputs": [],
   "source": [
    "result = list()"
   ]
  },
  {
   "cell_type": "code",
   "execution_count": 217,
   "metadata": {},
   "outputs": [
    {
     "name": "stdout",
     "output_type": "stream",
     "text": [
      "['low<', 'w>']\n",
      "['lowest<', 'w>']\n",
      "['newer<', 'w>']\n",
      "['wider<', 'w>']\n"
     ]
    },
    {
     "data": {
      "text/plain": [
       "{'low<', 'lowest<', 'newer<', 'w>', 'wider<'}"
      ]
     },
     "execution_count": 217,
     "metadata": {},
     "output_type": "execute_result"
    }
   ],
   "source": [
    "for _ in tokens:\n",
    "    result.extend([_ for _ in re.findall(pattern, _) if _ != \"</w>\"])\n",
    "    print([_ for _ in re.findall(pattern, _) if _ != \"</w>\"])\n",
    "    \n",
    "set(result)"
   ]
  },
  {
   "cell_type": "code",
   "execution_count": 238,
   "metadata": {},
   "outputs": [
    {
     "name": "stdout",
     "output_type": "stream",
     "text": [
      "('아', '버')\n",
      "('아버', '지')\n",
      "('아버지', '를')\n",
      "('아버지', '를')\n",
      "('아버지', '를')\n",
      "{'아버지'}\n"
     ]
    }
   ],
   "source": [
    "tokens = {\n",
    "    \"아 버 지 가 </w>\" : 5,\n",
    "    \"아 버 지 께 서 </w>\" : 2,\n",
    "    \"아 버 지 를 </w>\" : 6,\n",
    "    \"아 버 지 에 게 </w>\" : 3 \n",
    "}\n",
    "K = max(tokens.values())\n",
    "\n",
    "for _ in range(5):\n",
    "    maxKey = findBigram(tokens)\n",
    "    tokens = mergeMaxKey(maxKey, tokens, K)\n",
    "tokens\n",
    "\n",
    "pattern = r\"[가-힣A-Za-z\\/\\<\\>]{2,}\"\n",
    "result = list()\n",
    "for _ in tokens:\n",
    "    result.extend([_ for _ in re.findall(pattern, _) if _ != \"</w>\"])\n",
    "    \n",
    "print(set(result))"
   ]
  },
  {
   "cell_type": "code",
   "execution_count": null,
   "metadata": {},
   "outputs": [],
   "source": []
  }
 ],
 "metadata": {
  "kernelspec": {
   "display_name": "Python 3",
   "language": "python",
   "name": "python3"
  },
  "language_info": {
   "codemirror_mode": {
    "name": "ipython",
    "version": 3
   },
   "file_extension": ".py",
   "mimetype": "text/x-python",
   "name": "python",
   "nbconvert_exporter": "python",
   "pygments_lexer": "ipython3",
   "version": "3.7.3"
  }
 },
 "nbformat": 4,
 "nbformat_minor": 2
}
