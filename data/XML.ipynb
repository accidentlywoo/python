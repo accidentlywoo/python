{
 "cells": [
  {
   "cell_type": "code",
   "execution_count": 2,
   "metadata": {},
   "outputs": [],
   "source": [
    "import xml.etree.ElementTree as et"
   ]
  },
  {
   "cell_type": "code",
   "execution_count": 3,
   "metadata": {},
   "outputs": [],
   "source": [
    "from lxml import etree"
   ]
  },
  {
   "cell_type": "code",
   "execution_count": 4,
   "metadata": {},
   "outputs": [],
   "source": [
    "et.Element??"
   ]
  },
  {
   "cell_type": "code",
   "execution_count": 8,
   "metadata": {},
   "outputs": [
    {
     "ename": "KeyboardInterrupt",
     "evalue": "",
     "output_type": "error",
     "traceback": [
      "\u001b[1;31m---------------------------------------------------------------------------\u001b[0m",
      "\u001b[1;31mKeyboardInterrupt\u001b[0m                         Traceback (most recent call last)",
      "\u001b[1;32m<ipython-input-8-bf50f267d165>\u001b[0m in \u001b[0;36m<module>\u001b[1;34m\u001b[0m\n\u001b[0;32m     25\u001b[0m \u001b[0met\u001b[0m\u001b[1;33m.\u001b[0m\u001b[0mSubElement\u001b[0m\u001b[1;33m(\u001b[0m\u001b[0mbook2\u001b[0m\u001b[1;33m,\u001b[0m \u001b[1;34m\"price\"\u001b[0m\u001b[1;33m)\u001b[0m\u001b[1;33m.\u001b[0m\u001b[0mtext\u001b[0m \u001b[1;33m=\u001b[0m \u001b[1;34m\"30.00\"\u001b[0m\u001b[1;33m\u001b[0m\u001b[1;33m\u001b[0m\u001b[0m\n\u001b[0;32m     26\u001b[0m \u001b[1;33m\u001b[0m\u001b[0m\n\u001b[1;32m---> 27\u001b[1;33m \u001b[0met\u001b[0m\u001b[1;33m.\u001b[0m\u001b[0mdump\u001b[0m\u001b[1;33m(\u001b[0m\u001b[0mbookStore\u001b[0m\u001b[1;33m)\u001b[0m\u001b[1;33m\u001b[0m\u001b[1;33m\u001b[0m\u001b[0m\n\u001b[0m",
      "\u001b[1;32m~\\Anaconda3\\lib\\xml\\etree\\ElementTree.py\u001b[0m in \u001b[0;36mdump\u001b[1;34m(elem)\u001b[0m\n\u001b[0;32m   1176\u001b[0m     \u001b[1;32mif\u001b[0m \u001b[1;32mnot\u001b[0m \u001b[0misinstance\u001b[0m\u001b[1;33m(\u001b[0m\u001b[0melem\u001b[0m\u001b[1;33m,\u001b[0m \u001b[0mElementTree\u001b[0m\u001b[1;33m)\u001b[0m\u001b[1;33m:\u001b[0m\u001b[1;33m\u001b[0m\u001b[1;33m\u001b[0m\u001b[0m\n\u001b[0;32m   1177\u001b[0m         \u001b[0melem\u001b[0m \u001b[1;33m=\u001b[0m \u001b[0mElementTree\u001b[0m\u001b[1;33m(\u001b[0m\u001b[0melem\u001b[0m\u001b[1;33m)\u001b[0m\u001b[1;33m\u001b[0m\u001b[1;33m\u001b[0m\u001b[0m\n\u001b[1;32m-> 1178\u001b[1;33m     \u001b[0melem\u001b[0m\u001b[1;33m.\u001b[0m\u001b[0mwrite\u001b[0m\u001b[1;33m(\u001b[0m\u001b[0msys\u001b[0m\u001b[1;33m.\u001b[0m\u001b[0mstdout\u001b[0m\u001b[1;33m,\u001b[0m \u001b[0mencoding\u001b[0m\u001b[1;33m=\u001b[0m\u001b[1;34m\"unicode\"\u001b[0m\u001b[1;33m)\u001b[0m\u001b[1;33m\u001b[0m\u001b[1;33m\u001b[0m\u001b[0m\n\u001b[0m\u001b[0;32m   1179\u001b[0m     \u001b[0mtail\u001b[0m \u001b[1;33m=\u001b[0m \u001b[0melem\u001b[0m\u001b[1;33m.\u001b[0m\u001b[0mgetroot\u001b[0m\u001b[1;33m(\u001b[0m\u001b[1;33m)\u001b[0m\u001b[1;33m.\u001b[0m\u001b[0mtail\u001b[0m\u001b[1;33m\u001b[0m\u001b[1;33m\u001b[0m\u001b[0m\n\u001b[0;32m   1180\u001b[0m     \u001b[1;32mif\u001b[0m \u001b[1;32mnot\u001b[0m \u001b[0mtail\u001b[0m \u001b[1;32mor\u001b[0m \u001b[0mtail\u001b[0m\u001b[1;33m[\u001b[0m\u001b[1;33m-\u001b[0m\u001b[1;36m1\u001b[0m\u001b[1;33m]\u001b[0m \u001b[1;33m!=\u001b[0m \u001b[1;34m\"\\n\"\u001b[0m\u001b[1;33m:\u001b[0m\u001b[1;33m\u001b[0m\u001b[1;33m\u001b[0m\u001b[0m\n",
      "\u001b[1;32m~\\Anaconda3\\lib\\xml\\etree\\ElementTree.py\u001b[0m in \u001b[0;36mwrite\u001b[1;34m(self, file_or_filename, encoding, xml_declaration, default_namespace, method, short_empty_elements)\u001b[0m\n\u001b[0;32m    772\u001b[0m                 \u001b[0m_serialize_text\u001b[0m\u001b[1;33m(\u001b[0m\u001b[0mwrite\u001b[0m\u001b[1;33m,\u001b[0m \u001b[0mself\u001b[0m\u001b[1;33m.\u001b[0m\u001b[0m_root\u001b[0m\u001b[1;33m)\u001b[0m\u001b[1;33m\u001b[0m\u001b[1;33m\u001b[0m\u001b[0m\n\u001b[0;32m    773\u001b[0m             \u001b[1;32melse\u001b[0m\u001b[1;33m:\u001b[0m\u001b[1;33m\u001b[0m\u001b[1;33m\u001b[0m\u001b[0m\n\u001b[1;32m--> 774\u001b[1;33m                 \u001b[0mqnames\u001b[0m\u001b[1;33m,\u001b[0m \u001b[0mnamespaces\u001b[0m \u001b[1;33m=\u001b[0m \u001b[0m_namespaces\u001b[0m\u001b[1;33m(\u001b[0m\u001b[0mself\u001b[0m\u001b[1;33m.\u001b[0m\u001b[0m_root\u001b[0m\u001b[1;33m,\u001b[0m \u001b[0mdefault_namespace\u001b[0m\u001b[1;33m)\u001b[0m\u001b[1;33m\u001b[0m\u001b[1;33m\u001b[0m\u001b[0m\n\u001b[0m\u001b[0;32m    775\u001b[0m                 \u001b[0mserialize\u001b[0m \u001b[1;33m=\u001b[0m \u001b[0m_serialize\u001b[0m\u001b[1;33m[\u001b[0m\u001b[0mmethod\u001b[0m\u001b[1;33m]\u001b[0m\u001b[1;33m\u001b[0m\u001b[1;33m\u001b[0m\u001b[0m\n\u001b[0;32m    776\u001b[0m                 serialize(write, self._root, qnames, namespaces,\n",
      "\u001b[1;32m~\\Anaconda3\\lib\\xml\\etree\\ElementTree.py\u001b[0m in \u001b[0;36m_namespaces\u001b[1;34m(elem, default_namespace)\u001b[0m\n\u001b[0;32m    886\u001b[0m             \u001b[0m_raise_serialization_error\u001b[0m\u001b[1;33m(\u001b[0m\u001b[0mtag\u001b[0m\u001b[1;33m)\u001b[0m\u001b[1;33m\u001b[0m\u001b[1;33m\u001b[0m\u001b[0m\n\u001b[0;32m    887\u001b[0m         \u001b[1;32mfor\u001b[0m \u001b[0mkey\u001b[0m\u001b[1;33m,\u001b[0m \u001b[0mvalue\u001b[0m \u001b[1;32min\u001b[0m \u001b[0melem\u001b[0m\u001b[1;33m.\u001b[0m\u001b[0mitems\u001b[0m\u001b[1;33m(\u001b[0m\u001b[1;33m)\u001b[0m\u001b[1;33m:\u001b[0m\u001b[1;33m\u001b[0m\u001b[1;33m\u001b[0m\u001b[0m\n\u001b[1;32m--> 888\u001b[1;33m             \u001b[1;32mif\u001b[0m \u001b[0misinstance\u001b[0m\u001b[1;33m(\u001b[0m\u001b[0mkey\u001b[0m\u001b[1;33m,\u001b[0m \u001b[0mQName\u001b[0m\u001b[1;33m)\u001b[0m\u001b[1;33m:\u001b[0m\u001b[1;33m\u001b[0m\u001b[1;33m\u001b[0m\u001b[0m\n\u001b[0m\u001b[0;32m    889\u001b[0m                 \u001b[0mkey\u001b[0m \u001b[1;33m=\u001b[0m \u001b[0mkey\u001b[0m\u001b[1;33m.\u001b[0m\u001b[0mtext\u001b[0m\u001b[1;33m\u001b[0m\u001b[1;33m\u001b[0m\u001b[0m\n\u001b[0;32m    890\u001b[0m             \u001b[1;32mif\u001b[0m \u001b[0mkey\u001b[0m \u001b[1;32mnot\u001b[0m \u001b[1;32min\u001b[0m \u001b[0mqnames\u001b[0m\u001b[1;33m:\u001b[0m\u001b[1;33m\u001b[0m\u001b[1;33m\u001b[0m\u001b[0m\n",
      "\u001b[1;31mKeyboardInterrupt\u001b[0m: "
     ]
    }
   ],
   "source": [
    "bookStore = et.Element(\"bookstore\")\n",
    "\n",
    "book1 = et.Element(\"book\", category=\"cooking\")\n",
    "bookStore.insert(0, book1)\n",
    "\n",
    "title1 = et.Element(\"title\")\n",
    "title1.attrib[\"lang\"] = \"en\"\n",
    "title1.text = \"Everyday Italian\"\n",
    "book1.append(title1)\n",
    "\n",
    "et.SubElement(book1, \"author\").text = \"Giada De Laurentiis\"\n",
    "et.SubElement(book1, \"year\").text = \"2005\"\n",
    "et.SubElement(book1, \"price\").text = \"30.00\"\n",
    "\n",
    "book2 = et.Element(\"book\", {\"category\":\"children\"})\n",
    "bookStore.append(book2)\n",
    "\n",
    "title2 = et.Element(\"title\")\n",
    "title2.attrib[\"lang\"] = title1.get(\"lang\")\n",
    "title2.text = \"Harry Porter\"\n",
    "book2.append(book2)\n",
    "\n",
    "et.SubElement(book2, \"author\").text = \"Giada De Laurentiis\"\n",
    "et.SubElement(book2, \"year\").text = \"2005\"\n",
    "et.SubElement(book2, \"price\").text = \"30.00\"\n",
    "\n",
    "et.dump(bookStore)"
   ]
  },
  {
   "cell_type": "markdown",
   "metadata": {},
   "source": [
    "절라 오래걸리네"
   ]
  },
  {
   "cell_type": "code",
   "execution_count": 6,
   "metadata": {},
   "outputs": [],
   "source": [
    "et.parse??"
   ]
  },
  {
   "cell_type": "code",
   "execution_count": null,
   "metadata": {},
   "outputs": [],
   "source": [
    "et.XML(et.tostring(bookStore)).clear()"
   ]
  },
  {
   "cell_type": "code",
   "execution_count": null,
   "metadata": {},
   "outputs": [],
   "source": [
    "root = et.fromstring(et.tostring(bookStore))"
   ]
  },
  {
   "cell_type": "code",
   "execution_count": null,
   "metadata": {},
   "outputs": [],
   "source": [
    "chiledNodes = root.getchildren()"
   ]
  },
  {
   "cell_type": "code",
   "execution_count": null,
   "metadata": {},
   "outputs": [],
   "source": [
    "print(len(childNodes))"
   ]
  },
  {
   "cell_type": "code",
   "execution_count": 1,
   "metadata": {},
   "outputs": [
    {
     "ename": "NameError",
     "evalue": "name 'root' is not defined",
     "output_type": "error",
     "traceback": [
      "\u001b[1;31m---------------------------------------------------------------------------\u001b[0m",
      "\u001b[1;31mNameError\u001b[0m                                 Traceback (most recent call last)",
      "\u001b[1;32m<ipython-input-1-2b563a081a28>\u001b[0m in \u001b[0;36m<module>\u001b[1;34m\u001b[0m\n\u001b[0;32m      1\u001b[0m \u001b[1;32mfrom\u001b[0m \u001b[0mxml\u001b[0m\u001b[1;33m.\u001b[0m\u001b[0metree\u001b[0m\u001b[1;33m.\u001b[0m\u001b[0mElementTree\u001b[0m \u001b[1;32mimport\u001b[0m \u001b[0mElementTree\u001b[0m\u001b[1;33m\u001b[0m\u001b[1;33m\u001b[0m\u001b[0m\n\u001b[0;32m      2\u001b[0m \u001b[1;33m\u001b[0m\u001b[0m\n\u001b[1;32m----> 3\u001b[1;33m \u001b[0mtree\u001b[0m \u001b[1;33m=\u001b[0m \u001b[0mElementTree\u001b[0m\u001b[1;33m(\u001b[0m\u001b[0mroot\u001b[0m\u001b[1;33m)\u001b[0m\u001b[1;33m\u001b[0m\u001b[1;33m\u001b[0m\u001b[0m\n\u001b[0m\u001b[0;32m      4\u001b[0m \u001b[0mtree\u001b[0m\u001b[1;33m.\u001b[0m\u001b[0mwrite\u001b[0m\u001b[1;33m(\u001b[0m\u001b[1;34m\"book_xml.xml\"\u001b[0m\u001b[1;33m,\u001b[0m \u001b[0mencoding\u001b[0m\u001b[1;33m=\u001b[0m\u001b[1;34m\"utf-8\"\u001b[0m\u001b[1;33m,\u001b[0m \u001b[0mxml_declaration\u001b[0m\u001b[1;33m=\u001b[0m\u001b[1;34m\"utf-8\"\u001b[0m\u001b[1;33m)\u001b[0m\u001b[1;33m\u001b[0m\u001b[1;33m\u001b[0m\u001b[0m\n",
      "\u001b[1;31mNameError\u001b[0m: name 'root' is not defined"
     ]
    }
   ],
   "source": [
    "from xml.etree.ElementTree import ElementTree\n",
    "\n",
    "tree = ElementTree(root)\n",
    "tree.write(\"book_xml.xml\", encoding=\"utf-8\", xml_declaration=\"utf-8\")"
   ]
  },
  {
   "cell_type": "markdown",
   "metadata": {},
   "source": [
    "### lxml"
   ]
  },
  {
   "cell_type": "code",
   "execution_count": 4,
   "metadata": {},
   "outputs": [
    {
     "name": "stdout",
     "output_type": "stream",
     "text": [
      "4\n",
      "<class 'bytes'> <class 'str'>\n",
      "<bookstore>\n",
      "  <book category=\"cooking\">\n",
      "    <title lang=\"en\">Every Italian</title>\n",
      "    <author>Giada De Laurentiis</author>\n",
      "    <year>2005</year>\n",
      "    <price>30.00</price>\n",
      "  </book>\n",
      "  <book category=\"children\">\n",
      "    <title lang=\"en\">Harry Potter</title>\n",
      "    <author>Giada De Laurentiis</author>\n",
      "    <year>2005</year>\n",
      "    <price>30.00</price>\n",
      "  </book>\n",
      "</bookstore>\n"
     ]
    }
   ],
   "source": [
    "bookStore = etree.Element(\"bookstore\")\n",
    "\n",
    "book1 = etree.SubElement(bookStore, \"book\")\n",
    "book2 = etree.SubElement(bookStore, \"book\", attrib={\"category\":\"children\"})\n",
    "\n",
    "book1.attrib[\"category\"] = \"cooking\"\n",
    "\n",
    "title1 = etree.Element(\"title\", lang=\"en\")\n",
    "title1.text = \"Every Italian\"\n",
    "book1.append(title1)\n",
    "\n",
    "etree.SubElement(book1,\"author\").text = \"Giada De Laurentiis\"\n",
    "etree.SubElement(book1,\"year\").text = \"2005\"\n",
    "etree.SubElement(book1,\"price\").text = \"30.00\"\n",
    "\n",
    "title2 = etree.Element(\"title\")\n",
    "title2.set(\"lang\",title1.get(\"lang\"))\n",
    "title2.text = \"Harry Potter\"\n",
    "book2.append(title2)\n",
    "\n",
    "etree.SubElement(book2,\"author\").text = \"Giada De Laurentiis\"\n",
    "etree.SubElement(book2,\"year\").text = \"2005\"\n",
    "book2.insert(3, etree.Element(\"price\"))\n",
    "\n",
    "print(len(book2))\n",
    "book2[-1].text = \"30.00\"\n",
    "\n",
    "xmlBytes = etree.tostring(bookStore, encoding=\"utf-8\",pretty_print=True, xml_declaration=True)\n",
    "xmlStr = etree.tounicode(bookStore, pretty_print=True)\n",
    "print(type(xmlBytes), type(xmlStr))\n",
    "etree.dump(bookStore)"
   ]
  },
  {
   "cell_type": "code",
   "execution_count": 5,
   "metadata": {},
   "outputs": [],
   "source": [
    "xml = etree.XML(etree.tostring(bookStore))\n",
    "xmlTree = etree.ElementTree(xml)\n",
    "xmlRoot = xmlTree.getroot()"
   ]
  },
  {
   "cell_type": "code",
   "execution_count": 6,
   "metadata": {},
   "outputs": [
    {
     "name": "stdout",
     "output_type": "stream",
     "text": [
      "1.0\n"
     ]
    }
   ],
   "source": [
    "print(xmlTree.docinfo.xml_version)"
   ]
  },
  {
   "cell_type": "code",
   "execution_count": 7,
   "metadata": {},
   "outputs": [
    {
     "name": "stdout",
     "output_type": "stream",
     "text": [
      "UTF-8\n"
     ]
    }
   ],
   "source": [
    "print(xmlTree.docinfo.encoding)"
   ]
  },
  {
   "cell_type": "code",
   "execution_count": 8,
   "metadata": {},
   "outputs": [
    {
     "name": "stdout",
     "output_type": "stream",
     "text": [
      "\n"
     ]
    }
   ],
   "source": [
    "print(xmlTree.docinfo.doctype)"
   ]
  },
  {
   "cell_type": "code",
   "execution_count": 9,
   "metadata": {},
   "outputs": [
    {
     "name": "stdout",
     "output_type": "stream",
     "text": [
      "bookstore\n"
     ]
    }
   ],
   "source": [
    "print(xmlTree.docinfo.root_name)"
   ]
  },
  {
   "cell_type": "code",
   "execution_count": 63,
   "metadata": {},
   "outputs": [],
   "source": [
    "url = 'http://openapi.airkorea.or.kr/openapi/services/rest/ArpltnInforInqireSvc/getCtprvnMesureSidoLIst'\n",
    "params = {\n",
    "    \"serviceKey\": \"PGlojt4q3MXsNb2WywMWZNXPnV0sMYmPnZHjdER8uUq0ceI9rGlicEnKMGOoGnFeTGeEZZI9MeJAWZ43cXokzw%3D%3D\",\n",
    "    \"numOfRows\":10,\n",
    "    \"pageNo\":1,\n",
    "    \"sidoName\":\"서울\",\n",
    "    \"searchCondition\":\"DAILY\"\n",
    "}"
   ]
  },
  {
   "cell_type": "code",
   "execution_count": 64,
   "metadata": {},
   "outputs": [
    {
     "data": {
      "text/plain": [
       "{'serviceKey': 'PGlojt4q3MXsNb2WywMWZNXPnV0sMYmPnZHjdER8uUq0ceI9rGlicEnKMGOoGnFeTGeEZZI9MeJAWZ43cXokzw%3D%3D',\n",
       " 'numOfRows': 10,\n",
       " 'pageNo': 1,\n",
       " 'sidoName': '서울',\n",
       " 'searchCondition': 'DAILY'}"
      ]
     },
     "execution_count": 64,
     "metadata": {},
     "output_type": "execute_result"
    }
   ],
   "source": [
    "params"
   ]
  },
  {
   "cell_type": "code",
   "execution_count": 65,
   "metadata": {},
   "outputs": [],
   "source": [
    "import urllib"
   ]
  },
  {
   "cell_type": "code",
   "execution_count": 66,
   "metadata": {},
   "outputs": [],
   "source": [
    "params[\"serviceKey\"] = urllib.parse.unquote(params[\"serviceKey\"])\n",
    "params = urllib.parse.urlencode(params)"
   ]
  },
  {
   "cell_type": "code",
   "execution_count": 67,
   "metadata": {},
   "outputs": [
    {
     "data": {
      "text/plain": [
       "'serviceKey=PGlojt4q3MXsNb2WywMWZNXPnV0sMYmPnZHjdER8uUq0ceI9rGlicEnKMGOoGnFeTGeEZZI9MeJAWZ43cXokzw%3D%3D&numOfRows=10&pageNo=1&sidoName=%EC%84%9C%EC%9A%B8&searchCondition=DAILY'"
      ]
     },
     "execution_count": 67,
     "metadata": {},
     "output_type": "execute_result"
    }
   ],
   "source": [
    "params"
   ]
  },
  {
   "cell_type": "code",
   "execution_count": 68,
   "metadata": {},
   "outputs": [],
   "source": [
    "params = params.encode(\"utf-8\")"
   ]
  },
  {
   "cell_type": "code",
   "execution_count": 69,
   "metadata": {},
   "outputs": [
    {
     "data": {
      "text/plain": [
       "b'serviceKey=PGlojt4q3MXsNb2WywMWZNXPnV0sMYmPnZHjdER8uUq0ceI9rGlicEnKMGOoGnFeTGeEZZI9MeJAWZ43cXokzw%3D%3D&numOfRows=10&pageNo=1&sidoName=%EC%84%9C%EC%9A%B8&searchCondition=DAILY'"
      ]
     },
     "execution_count": 69,
     "metadata": {},
     "output_type": "execute_result"
    }
   ],
   "source": [
    "params"
   ]
  },
  {
   "cell_type": "code",
   "execution_count": 70,
   "metadata": {},
   "outputs": [],
   "source": [
    "req = urllib.request.Request(url, data=params)"
   ]
  },
  {
   "cell_type": "code",
   "execution_count": 71,
   "metadata": {},
   "outputs": [],
   "source": [
    "res = urllib.request.urlopen(req)"
   ]
  },
  {
   "cell_type": "code",
   "execution_count": 72,
   "metadata": {},
   "outputs": [],
   "source": [
    "resStr = res.read()"
   ]
  },
  {
   "cell_type": "code",
   "execution_count": 60,
   "metadata": {},
   "outputs": [
    {
     "data": {
      "text/plain": [
       "b'<?xml version=\"1.0\" encoding=\"UTF-8\"?>\\r\\n\\r\\n\\r\\n\\r\\n\\r\\n<response>\\r\\n\\t<header>\\r\\n\\t\\t<resultCode>00</resultCode>\\r\\n\\t\\t<resultMsg>NORMAL SERVICE.</resultMsg>\\r\\n\\t</header>\\r\\n\\t<body>\\r\\n\\t\\t<items>\\r\\n\\t\\t\\t\\r\\n\\t\\t\\t\\t<item>\\r\\n\\t\\t\\t\\t    <dataTime>2019-07-10 16:00</dataTime>\\r\\n\\t\\t\\t\\t    <cityName>\\xea\\xb0\\x95\\xeb\\x82\\xa8\\xea\\xb5\\xac</cityName>\\r\\n\\t\\t\\t\\t    <so2Value>0.005</so2Value>\\r\\n\\t\\t\\t\\t    <coValue>0.2</coValue>\\r\\n\\t\\t\\t\\t    <o3Value>0.024</o3Value>\\r\\n\\t\\t\\t\\t    <no2Value>0.013</no2Value>\\r\\n\\t\\t\\t\\t    <pm10Value>14</pm10Value>\\r\\n\\t\\t\\t\\t    <pm25Value>7</pm25Value>\\r\\n\\t\\t\\t\\t</item>\\r\\n\\t\\t\\t\\r\\n\\t\\t\\t\\t<item>\\r\\n\\t\\t\\t\\t    <dataTime>2019-07-10 16:00</dataTime>\\r\\n\\t\\t\\t\\t    <cityName>\\xea\\xb0\\x95\\xeb\\x8f\\x99\\xea\\xb5\\xac</cityName>\\r\\n\\t\\t\\t\\t    <so2Value>0.003</so2Value>\\r\\n\\t\\t\\t\\t    <coValue>0.2</coValue>\\r\\n\\t\\t\\t\\t    <o3Value>0.029</o3Value>\\r\\n\\t\\t\\t\\t    <no2Value>0.009</no2Value>\\r\\n\\t\\t\\t\\t    <pm10Value>15</pm10Value>\\r\\n\\t\\t\\t\\t    <pm25Value>8</pm25Value>\\r\\n\\t\\t\\t\\t</item>\\r\\n\\t\\t\\t\\r\\n\\t\\t\\t\\t<item>\\r\\n\\t\\t\\t\\t    <dataTime>2019-07-10 16:00</dataTime>\\r\\n\\t\\t\\t\\t    <cityName>\\xea\\xb0\\x95\\xeb\\xb6\\x81\\xea\\xb5\\xac</cityName>\\r\\n\\t\\t\\t\\t    <so2Value>-</so2Value>\\r\\n\\t\\t\\t\\t    <coValue>0.2</coValue>\\r\\n\\t\\t\\t\\t    <o3Value>0.032</o3Value>\\r\\n\\t\\t\\t\\t    <no2Value>0.008</no2Value>\\r\\n\\t\\t\\t\\t    <pm10Value>13</pm10Value>\\r\\n\\t\\t\\t\\t    <pm25Value>6</pm25Value>\\r\\n\\t\\t\\t\\t</item>\\r\\n\\t\\t\\t\\r\\n\\t\\t\\t\\t<item>\\r\\n\\t\\t\\t\\t    <dataTime>2019-07-10 16:00</dataTime>\\r\\n\\t\\t\\t\\t    <cityName>\\xea\\xb0\\x95\\xec\\x84\\x9c\\xea\\xb5\\xac</cityName>\\r\\n\\t\\t\\t\\t    <so2Value>0.004</so2Value>\\r\\n\\t\\t\\t\\t    <coValue>0.3</coValue>\\r\\n\\t\\t\\t\\t    <o3Value>0.032</o3Value>\\r\\n\\t\\t\\t\\t    <no2Value>0.016</no2Value>\\r\\n\\t\\t\\t\\t    <pm10Value>12</pm10Value>\\r\\n\\t\\t\\t\\t    <pm25Value>7</pm25Value>\\r\\n\\t\\t\\t\\t</item>\\r\\n\\t\\t\\t\\r\\n\\t\\t\\t\\t<item>\\r\\n\\t\\t\\t\\t    <dataTime>2019-07-10 16:00</dataTime>\\r\\n\\t\\t\\t\\t    <cityName>\\xea\\xb4\\x80\\xec\\x95\\x85\\xea\\xb5\\xac</cityName>\\r\\n\\t\\t\\t\\t    <so2Value>0.003</so2Value>\\r\\n\\t\\t\\t\\t    <coValue>0.1</coValue>\\r\\n\\t\\t\\t\\t    <o3Value>0.035</o3Value>\\r\\n\\t\\t\\t\\t    <no2Value>0.013</no2Value>\\r\\n\\t\\t\\t\\t    <pm10Value>16</pm10Value>\\r\\n\\t\\t\\t\\t    <pm25Value>4</pm25Value>\\r\\n\\t\\t\\t\\t</item>\\r\\n\\t\\t\\t\\r\\n\\t\\t\\t\\t<item>\\r\\n\\t\\t\\t\\t    <dataTime>2019-07-10 16:00</dataTime>\\r\\n\\t\\t\\t\\t    <cityName>\\xea\\xb4\\x91\\xec\\xa7\\x84\\xea\\xb5\\xac</cityName>\\r\\n\\t\\t\\t\\t    <so2Value>0.003</so2Value>\\r\\n\\t\\t\\t\\t    <coValue>0.4</coValue>\\r\\n\\t\\t\\t\\t    <o3Value>0.026</o3Value>\\r\\n\\t\\t\\t\\t    <no2Value>0.012</no2Value>\\r\\n\\t\\t\\t\\t    <pm10Value>9</pm10Value>\\r\\n\\t\\t\\t\\t    <pm25Value>-</pm25Value>\\r\\n\\t\\t\\t\\t</item>\\r\\n\\t\\t\\t\\r\\n\\t\\t\\t\\t<item>\\r\\n\\t\\t\\t\\t    <dataTime>2019-07-10 16:00</dataTime>\\r\\n\\t\\t\\t\\t    <cityName>\\xea\\xb5\\xac\\xeb\\xa1\\x9c\\xea\\xb5\\xac</cityName>\\r\\n\\t\\t\\t\\t    <so2Value>0.004</so2Value>\\r\\n\\t\\t\\t\\t    <coValue>-</coValue>\\r\\n\\t\\t\\t\\t    <o3Value>0.035</o3Value>\\r\\n\\t\\t\\t\\t    <no2Value>0.011</no2Value>\\r\\n\\t\\t\\t\\t    <pm10Value>15</pm10Value>\\r\\n\\t\\t\\t\\t    <pm25Value>6</pm25Value>\\r\\n\\t\\t\\t\\t</item>\\r\\n\\t\\t\\t\\r\\n\\t\\t\\t\\t<item>\\r\\n\\t\\t\\t\\t    <dataTime>2019-07-10 16:00</dataTime>\\r\\n\\t\\t\\t\\t    <cityName>\\xea\\xb8\\x88\\xec\\xb2\\x9c\\xea\\xb5\\xac</cityName>\\r\\n\\t\\t\\t\\t    <so2Value>0.003</so2Value>\\r\\n\\t\\t\\t\\t    <coValue>0.2</coValue>\\r\\n\\t\\t\\t\\t    <o3Value>0.028</o3Value>\\r\\n\\t\\t\\t\\t    <no2Value>0.013</no2Value>\\r\\n\\t\\t\\t\\t    <pm10Value>17</pm10Value>\\r\\n\\t\\t\\t\\t    <pm25Value>7</pm25Value>\\r\\n\\t\\t\\t\\t</item>\\r\\n\\t\\t\\t\\r\\n\\t\\t\\t\\t<item>\\r\\n\\t\\t\\t\\t    <dataTime>2019-07-10 16:00</dataTime>\\r\\n\\t\\t\\t\\t    <cityName>\\xeb\\x85\\xb8\\xec\\x9b\\x90\\xea\\xb5\\xac</cityName>\\r\\n\\t\\t\\t\\t    <so2Value>-</so2Value>\\r\\n\\t\\t\\t\\t    <coValue>0.2</coValue>\\r\\n\\t\\t\\t\\t    <o3Value>0.028</o3Value>\\r\\n\\t\\t\\t\\t    <no2Value>0.009</no2Value>\\r\\n\\t\\t\\t\\t    <pm10Value>11</pm10Value>\\r\\n\\t\\t\\t\\t    <pm25Value>7</pm25Value>\\r\\n\\t\\t\\t\\t</item>\\r\\n\\t\\t\\t\\r\\n\\t\\t\\t\\t<item>\\r\\n\\t\\t\\t\\t    <dataTime>2019-07-10 16:00</dataTime>\\r\\n\\t\\t\\t\\t    <cityName>\\xeb\\x8f\\x84\\xeb\\xb4\\x89\\xea\\xb5\\xac</cityName>\\r\\n\\t\\t\\t\\t    <so2Value>0.003</so2Value>\\r\\n\\t\\t\\t\\t    <coValue>0.3</coValue>\\r\\n\\t\\t\\t\\t    <o3Value>0.035</o3Value>\\r\\n\\t\\t\\t\\t    <no2Value>0.005</no2Value>\\r\\n\\t\\t\\t\\t    <pm10Value>11</pm10Value>\\r\\n\\t\\t\\t\\t    <pm25Value>4</pm25Value>\\r\\n\\t\\t\\t\\t</item>\\r\\n\\t\\t\\t\\r\\n\\t\\t</items>\\r\\n\\t\\t<numOfRows>10</numOfRows>\\r\\n        <pageNo>1</pageNo>\\r\\n        <totalCount>625</totalCount>\\r\\n\\t</body>\\r\\n</response>\\r\\n'"
      ]
     },
     "execution_count": 60,
     "metadata": {},
     "output_type": "execute_result"
    }
   ],
   "source": [
    "resStr"
   ]
  },
  {
   "cell_type": "code",
   "execution_count": 74,
   "metadata": {},
   "outputs": [],
   "source": [
    "xmlObj = etree.fromstring(resStr)\n",
    "# fromstring -> decoding Point "
   ]
  },
  {
   "cell_type": "code",
   "execution_count": 75,
   "metadata": {},
   "outputs": [],
   "source": [
    "xmlRoot = etree.ElementTree(xmlObj).getroot()"
   ]
  },
  {
   "cell_type": "code",
   "execution_count": 76,
   "metadata": {},
   "outputs": [
    {
     "name": "stdout",
     "output_type": "stream",
     "text": [
      "<response>\n",
      "\t<header>\n",
      "\t\t<resultCode>00</resultCode>\n",
      "\t\t<resultMsg>NORMAL SERVICE.</resultMsg>\n",
      "\t</header>\n",
      "\t<body>\n",
      "\t\t<items>\n",
      "\t\t\t\n",
      "\t\t\t\t<item>\n",
      "\t\t\t\t    <dataTime>2019-07-10 16:00</dataTime>\n",
      "\t\t\t\t    <cityName>강남구</cityName>\n",
      "\t\t\t\t    <so2Value>0.005</so2Value>\n",
      "\t\t\t\t    <coValue>0.2</coValue>\n",
      "\t\t\t\t    <o3Value>0.024</o3Value>\n",
      "\t\t\t\t    <no2Value>0.013</no2Value>\n",
      "\t\t\t\t    <pm10Value>14</pm10Value>\n",
      "\t\t\t\t    <pm25Value>7</pm25Value>\n",
      "\t\t\t\t</item>\n",
      "\t\t\t\n",
      "\t\t\t\t<item>\n",
      "\t\t\t\t    <dataTime>2019-07-10 16:00</dataTime>\n",
      "\t\t\t\t    <cityName>강동구</cityName>\n",
      "\t\t\t\t    <so2Value>0.003</so2Value>\n",
      "\t\t\t\t    <coValue>0.2</coValue>\n",
      "\t\t\t\t    <o3Value>0.029</o3Value>\n",
      "\t\t\t\t    <no2Value>0.009</no2Value>\n",
      "\t\t\t\t    <pm10Value>15</pm10Value>\n",
      "\t\t\t\t    <pm25Value>8</pm25Value>\n",
      "\t\t\t\t</item>\n",
      "\t\t\t\n",
      "\t\t\t\t<item>\n",
      "\t\t\t\t    <dataTime>2019-07-10 16:00</dataTime>\n",
      "\t\t\t\t    <cityName>강북구</cityName>\n",
      "\t\t\t\t    <so2Value>-</so2Value>\n",
      "\t\t\t\t    <coValue>0.2</coValue>\n",
      "\t\t\t\t    <o3Value>0.032</o3Value>\n",
      "\t\t\t\t    <no2Value>0.008</no2Value>\n",
      "\t\t\t\t    <pm10Value>13</pm10Value>\n",
      "\t\t\t\t    <pm25Value>6</pm25Value>\n",
      "\t\t\t\t</item>\n",
      "\t\t\t\n",
      "\t\t\t\t<item>\n",
      "\t\t\t\t    <dataTime>2019-07-10 16:00</dataTime>\n",
      "\t\t\t\t    <cityName>강서구</cityName>\n",
      "\t\t\t\t    <so2Value>0.004</so2Value>\n",
      "\t\t\t\t    <coValue>0.3</coValue>\n",
      "\t\t\t\t    <o3Value>0.032</o3Value>\n",
      "\t\t\t\t    <no2Value>0.016</no2Value>\n",
      "\t\t\t\t    <pm10Value>12</pm10Value>\n",
      "\t\t\t\t    <pm25Value>7</pm25Value>\n",
      "\t\t\t\t</item>\n",
      "\t\t\t\n",
      "\t\t\t\t<item>\n",
      "\t\t\t\t    <dataTime>2019-07-10 16:00</dataTime>\n",
      "\t\t\t\t    <cityName>관악구</cityName>\n",
      "\t\t\t\t    <so2Value>0.003</so2Value>\n",
      "\t\t\t\t    <coValue>0.1</coValue>\n",
      "\t\t\t\t    <o3Value>0.035</o3Value>\n",
      "\t\t\t\t    <no2Value>0.013</no2Value>\n",
      "\t\t\t\t    <pm10Value>16</pm10Value>\n",
      "\t\t\t\t    <pm25Value>4</pm25Value>\n",
      "\t\t\t\t</item>\n",
      "\t\t\t\n",
      "\t\t\t\t<item>\n",
      "\t\t\t\t    <dataTime>2019-07-10 16:00</dataTime>\n",
      "\t\t\t\t    <cityName>광진구</cityName>\n",
      "\t\t\t\t    <so2Value>0.003</so2Value>\n",
      "\t\t\t\t    <coValue>0.4</coValue>\n",
      "\t\t\t\t    <o3Value>0.026</o3Value>\n",
      "\t\t\t\t    <no2Value>0.012</no2Value>\n",
      "\t\t\t\t    <pm10Value>9</pm10Value>\n",
      "\t\t\t\t    <pm25Value>-</pm25Value>\n",
      "\t\t\t\t</item>\n",
      "\t\t\t\n",
      "\t\t\t\t<item>\n",
      "\t\t\t\t    <dataTime>2019-07-10 16:00</dataTime>\n",
      "\t\t\t\t    <cityName>구로구</cityName>\n",
      "\t\t\t\t    <so2Value>0.004</so2Value>\n",
      "\t\t\t\t    <coValue>-</coValue>\n",
      "\t\t\t\t    <o3Value>0.035</o3Value>\n",
      "\t\t\t\t    <no2Value>0.011</no2Value>\n",
      "\t\t\t\t    <pm10Value>15</pm10Value>\n",
      "\t\t\t\t    <pm25Value>6</pm25Value>\n",
      "\t\t\t\t</item>\n",
      "\t\t\t\n",
      "\t\t\t\t<item>\n",
      "\t\t\t\t    <dataTime>2019-07-10 16:00</dataTime>\n",
      "\t\t\t\t    <cityName>금천구</cityName>\n",
      "\t\t\t\t    <so2Value>0.003</so2Value>\n",
      "\t\t\t\t    <coValue>0.2</coValue>\n",
      "\t\t\t\t    <o3Value>0.028</o3Value>\n",
      "\t\t\t\t    <no2Value>0.013</no2Value>\n",
      "\t\t\t\t    <pm10Value>17</pm10Value>\n",
      "\t\t\t\t    <pm25Value>7</pm25Value>\n",
      "\t\t\t\t</item>\n",
      "\t\t\t\n",
      "\t\t\t\t<item>\n",
      "\t\t\t\t    <dataTime>2019-07-10 16:00</dataTime>\n",
      "\t\t\t\t    <cityName>노원구</cityName>\n",
      "\t\t\t\t    <so2Value>-</so2Value>\n",
      "\t\t\t\t    <coValue>0.2</coValue>\n",
      "\t\t\t\t    <o3Value>0.028</o3Value>\n",
      "\t\t\t\t    <no2Value>0.009</no2Value>\n",
      "\t\t\t\t    <pm10Value>11</pm10Value>\n",
      "\t\t\t\t    <pm25Value>7</pm25Value>\n",
      "\t\t\t\t</item>\n",
      "\t\t\t\n",
      "\t\t\t\t<item>\n",
      "\t\t\t\t    <dataTime>2019-07-10 16:00</dataTime>\n",
      "\t\t\t\t    <cityName>도봉구</cityName>\n",
      "\t\t\t\t    <so2Value>0.003</so2Value>\n",
      "\t\t\t\t    <coValue>0.3</coValue>\n",
      "\t\t\t\t    <o3Value>0.035</o3Value>\n",
      "\t\t\t\t    <no2Value>0.005</no2Value>\n",
      "\t\t\t\t    <pm10Value>11</pm10Value>\n",
      "\t\t\t\t    <pm25Value>4</pm25Value>\n",
      "\t\t\t\t</item>\n",
      "\t\t\t\n",
      "\t\t</items>\n",
      "\t\t<numOfRows>10</numOfRows>\n",
      "        <pageNo>1</pageNo>\n",
      "        <totalCount>625</totalCount>\n",
      "\t</body>\n",
      "</response>\n"
     ]
    }
   ],
   "source": [
    "etree.dump(xmlRoot)"
   ]
  },
  {
   "cell_type": "code",
   "execution_count": 85,
   "metadata": {},
   "outputs": [
    {
     "name": "stdout",
     "output_type": "stream",
     "text": [
      "response \n",
      "\t\n",
      "header \n",
      "\t\t\n",
      "resultCode 00\n",
      "resultMsg NORMAL SERVICE.\n",
      "body \n",
      "\t\t\n",
      "items \n",
      "\t\t\t\n",
      "\t\t\t\t\n",
      "item \n",
      "\t\t\t\t    \n",
      "dataTime 2019-07-10 16:00\n",
      "cityName 강남구\n",
      "so2Value 0.005\n",
      "coValue 0.2\n",
      "o3Value 0.024\n",
      "no2Value 0.013\n",
      "pm10Value 14\n",
      "pm25Value 7\n",
      "item \n",
      "\t\t\t\t    \n",
      "dataTime 2019-07-10 16:00\n",
      "cityName 강동구\n",
      "so2Value 0.003\n",
      "coValue 0.2\n",
      "o3Value 0.029\n",
      "no2Value 0.009\n",
      "pm10Value 15\n",
      "pm25Value 8\n",
      "item \n",
      "\t\t\t\t    \n",
      "dataTime 2019-07-10 16:00\n",
      "cityName 강북구\n",
      "so2Value -\n",
      "coValue 0.2\n",
      "o3Value 0.032\n",
      "no2Value 0.008\n",
      "pm10Value 13\n",
      "pm25Value 6\n",
      "item \n",
      "\t\t\t\t    \n",
      "dataTime 2019-07-10 16:00\n",
      "cityName 강서구\n",
      "so2Value 0.004\n",
      "coValue 0.3\n",
      "o3Value 0.032\n",
      "no2Value 0.016\n",
      "pm10Value 12\n",
      "pm25Value 7\n",
      "item \n",
      "\t\t\t\t    \n",
      "dataTime 2019-07-10 16:00\n",
      "cityName 관악구\n",
      "so2Value 0.003\n",
      "coValue 0.1\n",
      "o3Value 0.035\n",
      "no2Value 0.013\n",
      "pm10Value 16\n",
      "pm25Value 4\n",
      "item \n",
      "\t\t\t\t    \n",
      "dataTime 2019-07-10 16:00\n",
      "cityName 광진구\n",
      "so2Value 0.003\n",
      "coValue 0.4\n",
      "o3Value 0.026\n",
      "no2Value 0.012\n",
      "pm10Value 9\n",
      "pm25Value -\n",
      "item \n",
      "\t\t\t\t    \n",
      "dataTime 2019-07-10 16:00\n",
      "cityName 구로구\n",
      "so2Value 0.004\n",
      "coValue -\n",
      "o3Value 0.035\n",
      "no2Value 0.011\n",
      "pm10Value 15\n",
      "pm25Value 6\n",
      "item \n",
      "\t\t\t\t    \n",
      "dataTime 2019-07-10 16:00\n",
      "cityName 금천구\n",
      "so2Value 0.003\n",
      "coValue 0.2\n",
      "o3Value 0.028\n",
      "no2Value 0.013\n",
      "pm10Value 17\n",
      "pm25Value 7\n",
      "item \n",
      "\t\t\t\t    \n",
      "dataTime 2019-07-10 16:00\n",
      "cityName 노원구\n",
      "so2Value -\n",
      "coValue 0.2\n",
      "o3Value 0.028\n",
      "no2Value 0.009\n",
      "pm10Value 11\n",
      "pm25Value 7\n",
      "item \n",
      "\t\t\t\t    \n",
      "dataTime 2019-07-10 16:00\n",
      "cityName 도봉구\n",
      "so2Value 0.003\n",
      "coValue 0.3\n",
      "o3Value 0.035\n",
      "no2Value 0.005\n",
      "pm10Value 11\n",
      "pm25Value 4\n",
      "numOfRows 10\n",
      "pageNo 1\n",
      "totalCount 625\n"
     ]
    }
   ],
   "source": [
    "for node in xmlRoot.iter():\n",
    "    print(node.tag, node.text)\n",
    "\n",
    "itemList = xmlRoot.findall(\".//item\")"
   ]
  },
  {
   "cell_type": "code",
   "execution_count": 87,
   "metadata": {},
   "outputs": [
    {
     "name": "stdout",
     "output_type": "stream",
     "text": [
      "10\n",
      "dataTime 2019-07-10 16:00\n",
      "cityName 강남구\n",
      "so2Value 0.005\n",
      "coValue 0.2\n",
      "o3Value 0.024\n",
      "no2Value 0.013\n",
      "pm10Value 14\n",
      "pm25Value 7\n",
      "dataTime 2019-07-10 16:00\n",
      "cityName 강동구\n",
      "so2Value 0.003\n",
      "coValue 0.2\n",
      "o3Value 0.029\n",
      "no2Value 0.009\n",
      "pm10Value 15\n",
      "pm25Value 8\n",
      "dataTime 2019-07-10 16:00\n",
      "cityName 강북구\n",
      "so2Value -\n",
      "coValue 0.2\n",
      "o3Value 0.032\n",
      "no2Value 0.008\n",
      "pm10Value 13\n",
      "pm25Value 6\n",
      "dataTime 2019-07-10 16:00\n",
      "cityName 강서구\n",
      "so2Value 0.004\n",
      "coValue 0.3\n",
      "o3Value 0.032\n",
      "no2Value 0.016\n",
      "pm10Value 12\n",
      "pm25Value 7\n",
      "dataTime 2019-07-10 16:00\n",
      "cityName 관악구\n",
      "so2Value 0.003\n",
      "coValue 0.1\n",
      "o3Value 0.035\n",
      "no2Value 0.013\n",
      "pm10Value 16\n",
      "pm25Value 4\n",
      "dataTime 2019-07-10 16:00\n",
      "cityName 광진구\n",
      "so2Value 0.003\n",
      "coValue 0.4\n",
      "o3Value 0.026\n",
      "no2Value 0.012\n",
      "pm10Value 9\n",
      "pm25Value -\n",
      "dataTime 2019-07-10 16:00\n",
      "cityName 구로구\n",
      "so2Value 0.004\n",
      "coValue -\n",
      "o3Value 0.035\n",
      "no2Value 0.011\n",
      "pm10Value 15\n",
      "pm25Value 6\n",
      "dataTime 2019-07-10 16:00\n",
      "cityName 금천구\n",
      "so2Value 0.003\n",
      "coValue 0.2\n",
      "o3Value 0.028\n",
      "no2Value 0.013\n",
      "pm10Value 17\n",
      "pm25Value 7\n",
      "dataTime 2019-07-10 16:00\n",
      "cityName 노원구\n",
      "so2Value -\n",
      "coValue 0.2\n",
      "o3Value 0.028\n",
      "no2Value 0.009\n",
      "pm10Value 11\n",
      "pm25Value 7\n",
      "dataTime 2019-07-10 16:00\n",
      "cityName 도봉구\n",
      "so2Value 0.003\n",
      "coValue 0.3\n",
      "o3Value 0.035\n",
      "no2Value 0.005\n",
      "pm10Value 11\n",
      "pm25Value 4\n"
     ]
    }
   ],
   "source": [
    "print(len(itemList))\n",
    "for item in itemList:\n",
    "    for i in range(len(item)):\n",
    "        print(item[i].tag, item[i].text)"
   ]
  },
  {
   "cell_type": "code",
   "execution_count": 88,
   "metadata": {},
   "outputs": [
    {
     "name": "stdout",
     "output_type": "stream",
     "text": [
      "pm25Value 7\n",
      "pm25Value 8\n",
      "pm25Value 6\n",
      "pm25Value 7\n",
      "pm25Value 4\n",
      "pm25Value -\n",
      "pm25Value 6\n",
      "pm25Value 7\n",
      "pm25Value 7\n",
      "pm25Value 4\n"
     ]
    }
   ],
   "source": [
    "pm25List = xmlRoot.findall(\".//item/pm25Value\")\n",
    "for item in pm25List:\n",
    "    print(item.tag, item.text)"
   ]
  },
  {
   "cell_type": "code",
   "execution_count": null,
   "metadata": {},
   "outputs": [],
   "source": []
  },
  {
   "cell_type": "code",
   "execution_count": null,
   "metadata": {},
   "outputs": [],
   "source": []
  }
 ],
 "metadata": {
  "kernelspec": {
   "display_name": "Python 3",
   "language": "python",
   "name": "python3"
  },
  "language_info": {
   "codemirror_mode": {
    "name": "ipython",
    "version": 3
   },
   "file_extension": ".py",
   "mimetype": "text/x-python",
   "name": "python",
   "nbconvert_exporter": "python",
   "pygments_lexer": "ipython3",
   "version": "3.7.3"
  }
 },
 "nbformat": 4,
 "nbformat_minor": 2
}
