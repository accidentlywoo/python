{
 "cells": [
  {
   "cell_type": "markdown",
   "metadata": {},
   "source": [
    "Ajax로 데이터만 들고오는 웹페이지에서 데이터 수집하는 방법"
   ]
  },
  {
   "cell_type": "code",
   "execution_count": 7,
   "metadata": {},
   "outputs": [],
   "source": [
    "import requests\n",
    "from bs4 import BeautifulSoup\n",
    "import select\n",
    "import sqlite3\n",
    "import time"
   ]
  },
  {
   "cell_type": "code",
   "execution_count": 8,
   "metadata": {},
   "outputs": [],
   "source": [
    "headers = {\"user-agent\":\"Mozilla/5.0 (Windows NT 10.0; Win64; x64) AppleWebKit/537.36 (KHTML, like Gecko) Chrome/75.0.3770.100 Safari/537.36\"}\n",
    "def download(method, url, param=None, data=None, timeout=1, maxretries=3):\n",
    "    try:\n",
    "        resp = requests.request(method, url,\n",
    "                         params=param, data=None,\n",
    "                         headers=headers)\n",
    "        resp.raise_for_status()\n",
    "    except requests.exceptions.HTTPError as e:\n",
    "        if 500 <= e.response.status_code < 600\\\n",
    "            and maxretries > 0:\n",
    "            print(maxretries)\n",
    "            time.sleep(timeout)\n",
    "            resp = download(method, url, param, data, timeout, maxretries-1)\n",
    "            print(\"재시도\")\n",
    "        else:\n",
    "            print(e.response.status_code)\n",
    "            print(e.response.reason)       \n",
    "    return resp"
   ]
  },
  {
   "cell_type": "code",
   "execution_count": 3,
   "metadata": {},
   "outputs": [],
   "source": [
    "url = \"http://example.webscraping.com/places/default/search\"\n",
    "param = {\"search_term\":\"korea\"}\n",
    "html = download(\"post\",url,param=param)\n",
    "dom = BeautifulSoup(html.text, \"html.parser\")"
   ]
  },
  {
   "cell_type": "code",
   "execution_count": 4,
   "metadata": {},
   "outputs": [
    {
     "name": "stdout",
     "output_type": "stream",
     "text": [
      "<bound method Tag.prettify of <!--[if HTML5]><![endif]-->\n",
      "<!DOCTYPE html>\n",
      "\n",
      "<!-- paulirish.com/2008/conditional-stylesheets-vs-css-hacks-answer-neither/ -->\n",
      "<!--[if lt IE 7]><html class=\"ie ie6 ie-lte9 ie-lte8 ie-lte7 no-js\" lang=\"en-us\"> <![endif]-->\n",
      "<!--[if IE 7]><html class=\"ie ie7 ie-lte9 ie-lte8 ie-lte7 no-js\" lang=\"en-us\"> <![endif]-->\n",
      "<!--[if IE 8]><html class=\"ie ie8 ie-lte9 ie-lte8 no-js\" lang=\"en-us\"> <![endif]-->\n",
      "<!--[if IE 9]><html class=\"ie9 ie-lte9 no-js\" lang=\"en-us\"> <![endif]-->\n",
      "<!--[if (gt IE 9)|!(IE)]><!--> <html class=\"no-js\" lang=\"en-us\"> <!--<![endif]-->\n",
      "<head>\n",
      "<title>Example web scraping website</title>\n",
      "<!--[if !HTML5]>\n",
      "      <meta http-equiv=\"X-UA-Compatible\" content=\"IE=edge,chrome=1\">\n",
      "  <![endif]-->\n",
      "<!-- www.phpied.com/conditional-comments-block-downloads/ -->\n",
      "<!-- Always force latest IE rendering engine\n",
      "       (even in intranet) & Chrome Frame\n",
      "       Remove this if you use the .htaccess -->\n",
      "<meta charset=\"utf-8\"/>\n",
      "<!-- http://dev.w3.org/html5/markup/meta.name.html -->\n",
      "<meta content=\"places\" name=\"application-name\"/>\n",
      "<!--  Mobile Viewport Fix\n",
      "        j.mp/mobileviewport & davidbcalhoun.com/2010/viewport-metatag\n",
      "        device-width: Occupy full width of the screen in its current orientation\n",
      "        initial-scale = 1.0 retains dimensions instead of zooming out if page height > device height\n",
      "        user-scalable = yes allows the user to zoom in -->\n",
      "<meta content=\"width=device-width, initial-scale=1.0\" name=\"viewport\"/>\n",
      "<link href=\"/places/static/images/favicon.ico\" rel=\"shortcut icon\" type=\"image/x-icon\"/>\n",
      "<link href=\"/places/static/images/favicon.png\" rel=\"apple-touch-icon\"/>\n",
      "<!-- All JavaScript at the bottom, except for Modernizr which enables\n",
      "       HTML5 elements & feature detects -->\n",
      "<script src=\"/places/static/js/modernizr.custom.js\"></script>\n",
      "<!-- include stylesheets -->\n",
      "<script type=\"text/javascript\"><!--\n",
      "    // These variables are used by the web2py_ajax_init function in web2py_ajax.js (which is loaded below).\n",
      "    var w2p_ajax_confirm_message = \"Are you sure you want to delete this object?\";\n",
      "    var w2p_ajax_disable_with_message = \"Working...\";\n",
      "    var w2p_ajax_date_format = \"%Y-%m-%d\";\n",
      "    var w2p_ajax_datetime_format = \"%Y-%m-%d %H:%M:%S\";\n",
      "    var ajax_error_500 = 'An error occured, please <a href=\"/places/default/search?search_term=korea\">reload</a> the page'\n",
      "    //--></script>\n",
      "<meta content=\"web2py, python, web scraping\" name=\"keywords\"/>\n",
      "<meta content=\"Web2py Web Framework\" name=\"generator\"/>\n",
      "<meta content=\"Richard Penman\" name=\"author\"/>\n",
      "<script src=\"/places/static/js/jquery.js\" type=\"text/javascript\"></script><link href=\"/places/static/css/calendar.css\" rel=\"stylesheet\" type=\"text/css\"><script src=\"/places/static/js/calendar.js\" type=\"text/javascript\"></script><script src=\"/places/static/js/web2py.js\" type=\"text/javascript\"></script><link href=\"/places/static/css/web2py.css\" rel=\"stylesheet\" type=\"text/css\"><link href=\"/places/static/css/bootstrap.min.css\" rel=\"stylesheet\" type=\"text/css\"/><link href=\"/places/static/css/bootstrap-responsive.min.css\" rel=\"stylesheet\" type=\"text/css\"/><link href=\"/places/static/css/style.css\" rel=\"stylesheet\" type=\"text/css\"/><link href=\"/places/static/css/web2py_bootstrap.css\" rel=\"stylesheet\" type=\"text/css\"/>\n",
      "<!-- uncomment here to load jquery-ui\n",
      "       <link rel=\"stylesheet\" href=\"http://ajax.googleapis.com/ajax/libs/jqueryui/1.10.3/themes/ui-lightness/jquery-ui.css\" type=\"text/css\" media=\"all\" />\n",
      "       <script src=\"http://ajax.googleapis.com/ajax/libs/jqueryui/1.10.3/jquery-ui.min.js\" type=\"text/javascript\"></script>\n",
      "       uncomment to load jquery-ui //-->\n",
      "<noscript><link href=\"/places/static/css/web2py_bootstrap_nojs.css\" rel=\"stylesheet\" type=\"text/css\"/></noscript>\n",
      "</link></link></head>\n",
      "<body>\n",
      "<!-- Navbar ================================================== -->\n",
      "<div class=\"navbar navbar-inverse\">\n",
      "<div class=\"flash\"></div>\n",
      "<div class=\"navbar-inner\">\n",
      "<div class=\"container\">\n",
      "<!-- the next tag is necessary for bootstrap menus, do not remove -->\n",
      "<button class=\"btn btn-navbar\" data-target=\".nav-collapse\" data-toggle=\"collapse\" style=\"display:none;\" type=\"button\">\n",
      "<span class=\"icon-bar\"></span>\n",
      "<span class=\"icon-bar\"></span>\n",
      "<span class=\"icon-bar\"></span>\n",
      "</button>\n",
      "<ul class=\"nav pull-right\" id=\"navbar\"><li class=\"dropdown\"><a class=\"dropdown-toggle\" data-toggle=\"dropdown\" href=\"#\" rel=\"nofollow\">Log In</a><ul class=\"dropdown-menu\"><li><a href=\"/places/default/user/register?_next=/places/default/search%3Fsearch_term%3Dkorea\" rel=\"nofollow\"><i class=\"icon icon-user glyphicon glyphicon-user\"></i> Sign Up</a></li><li class=\"divider\"></li><li><a href=\"/places/default/user/login?_next=/places/default/search%3Fsearch_term%3Dkorea\" rel=\"nofollow\"><i class=\"icon icon-off glyphicon glyphicon-off\"></i> Log In</a></li></ul></li></ul>\n",
      "<div class=\"nav\">\n",
      "<ul class=\"nav\"><li class=\"web2py-menu-first\"><a href=\"/places/default/index\">Home</a></li><li class=\"web2py-menu-last\"><a href=\"/places/default/search\">Search</a></li></ul>\n",
      "</div><!--/.nav-collapse -->\n",
      "</div>\n",
      "</div>\n",
      "</div><!--/top navbar -->\n",
      "<div class=\"container\">\n",
      "<!-- Masthead ================================================== -->\n",
      "<header class=\"mastheader row\" id=\"header\">\n",
      "<div class=\"span12\">\n",
      "<div class=\"page-header\">\n",
      "<h1>\n",
      "                    Example web scraping website\n",
      "                    <small></small>\n",
      "</h1>\n",
      "</div>\n",
      "</div>\n",
      "</header>\n",
      "<section class=\"main row\" id=\"main\">\n",
      "<div class=\"span12\">\n",
      "<form>\n",
      "<table>\n",
      "<tr>\n",
      "<th>Name:</th>\n",
      "<td><input id=\"search_term\"/></td>\n",
      "</tr>\n",
      "<tr>\n",
      "<th>Page size:</th>\n",
      "<td>\n",
      "<select id=\"page_size\">\n",
      "<option>4</option>\n",
      "<option selected=\"\">10</option>\n",
      "<option>20</option>\n",
      "</select>\n",
      "</td>\n",
      "</tr>\n",
      "<tr>\n",
      "<td></td>\n",
      "<td>\n",
      "<input id=\"search\" type=\"submit\" value=\"Search\"/>\n",
      "</td>\n",
      "</tr>\n",
      "</table>\n",
      "</form>\n",
      "<div id=\"results\">\n",
      "</div>\n",
      "<div id=\"pagination\">\n",
      "</div>\n",
      "<script language=\"javascript\" type=\"text/javascript\">\n",
      "var NUM_COLUMNS = 2;\n",
      "var page = 0;\n",
      "\n",
      "\n",
      "$(function() {\n",
      "    $(\"form\").submit(function() {\n",
      "        page = 0;\n",
      "        search();\n",
      "        return false;\n",
      "    });\n",
      "\n",
      "    load_hash();\n",
      "    window.onhashchange = load_hash;\n",
      "});\n",
      "\n",
      "\n",
      "function load_hash() {\n",
      "    // load previous state from hash string\n",
      "    var args = window.location.hash.slice(1).split('|')\n",
      "    if(args.length == 3) {\n",
      "        $(\"#search_term\").val(args[0]);\n",
      "        $(\"#page_size\").val(args[1]);\n",
      "        page = parseInt(args[2]);\n",
      "        search();\n",
      "    }\n",
      "}\n",
      "\n",
      "\n",
      "function previous() {\n",
      "    page = page - 1;\n",
      "    search();\n",
      "}\n",
      "function next() {\n",
      "    page = page + 1;\n",
      "    search();\n",
      "}\n",
      "\n",
      "function search() {\n",
      "    var data = {\n",
      "        search_term: $(\"#search_term\").val(),\n",
      "        page_size: parseInt($(\"#page_size\").val()),\n",
      "        page: page,\n",
      "    };\n",
      "    //window.location.hash = data.search_term + '|' + data.page_size + '|' + page;\n",
      "\n",
      "    $.ajax({\n",
      "        dataType: \"json\",\n",
      "        url: \"/places/ajax/search.json?\",\n",
      "        data: data,\n",
      "        success: function(results) {\n",
      "            render(results)\n",
      "        }\n",
      "    });\n",
      "}\n",
      "\n",
      "function render(results) {\n",
      "    // add resulting records\n",
      "    var html = \"<table>\";\n",
      "    for(var i=0; i < results.records.length; i++) {\n",
      "        var record = results.records[i];\n",
      "        if(i % NUM_COLUMNS == 0) html += \"<tr>\";\n",
      "        html += \"<td>\" + record[\"pretty_link\"] + \"</td>\";\n",
      "        if(i % NUM_COLUMNS == NUM_COLUMNS - 1) html += \"</tr>\";\n",
      "    }\n",
      "    $(\"#results\").html(html + \"</table>\");\n",
      "\n",
      "    // add pagination if necessary\n",
      "    html = \"\";\n",
      "    if(results.num_pages > 1) {\n",
      "        if(page > 0) {\n",
      "            html += \"<a id='previous' href='javascript:void(0)' onclick='previous()'>&lt; Previous</a>\";\n",
      "        } else {\n",
      "            html += \"&lt; Previous\";\n",
      "        }\n",
      "        html += \" | \";\n",
      "        if(page + 1 < results.num_pages) {\n",
      "            html += \"<a id='next' href='javascript:void(0)' onclick='next()'>Next &gt;</a>\";\n",
      "        } else {\n",
      "            html += \"Next &gt;\";\n",
      "        \n",
      "        }\n",
      "    }\n",
      "    $(\"#pagination\").html(html);\n",
      "}\n",
      "</script>\n",
      "</div>\n",
      "</section><!--/main-->\n",
      "<!-- Footer ================================================== -->\n",
      "<div class=\"row\">\n",
      "<footer class=\"footer span12\" id=\"footer\">\n",
      "</footer>\n",
      "</div>\n",
      "</div> <!-- /container -->\n",
      "<!-- The javascript =============================================\n",
      "       (Placed at the end of the document so the pages load faster) -->\n",
      "<script src=\"/places/static/js/bootstrap.min.js\"></script>\n",
      "<script src=\"/places/static/js/web2py_bootstrap.js\"></script>\n",
      "<!--[if lt IE 7 ]>\n",
      "      <script src=\"/places/static/js/dd_belatedpng.js\"></script>\n",
      "      <script> DD_belatedPNG.fix('img, .png_bg'); //fix any <img> or .png_bg background-images </script>\n",
      "      <![endif]-->\n",
      "</body>\n",
      "</html>\n",
      ">\n"
     ]
    }
   ],
   "source": [
    "print(dom.prettify)"
   ]
  },
  {
   "cell_type": "markdown",
   "metadata": {},
   "source": [
    "http://example.webscraping.com/places/ajax/search.json?&search_term=korea&page_size=10&page=0"
   ]
  },
  {
   "cell_type": "code",
   "execution_count": 30,
   "metadata": {},
   "outputs": [],
   "source": [
    "url = \"http://example.webscraping.com/places/ajax/search.json\"\n",
    "param = {\"search_term\":\"korea\",\"page_size\":10,\"page\":0}\n",
    "html = requests.request(\"post\",url,data=param)"
   ]
  },
  {
   "cell_type": "code",
   "execution_count": 31,
   "metadata": {},
   "outputs": [
    {
     "name": "stdout",
     "output_type": "stream",
     "text": [
      "{\"records\": [{\"pretty_link\": \"<div><a href=\\\"/places/default/view/North-Korea-165\\\"><img src=\\\"/places/static/images/flags/kp.png\\\" /> North Korea</a></div>\", \"country\": \"North Korea\", \"id\": 4552797}, {\"pretty_link\": \"<div><a href=\\\"/places/default/view/South-Korea-211\\\"><img src=\\\"/places/static/images/flags/kr.png\\\" /> South Korea</a></div>\", \"country\": \"South Korea\", \"id\": 4552843}], \"num_pages\": 1, \"error\": \"\"}\n",
      "\n"
     ]
    }
   ],
   "source": [
    "print(html.text)"
   ]
  },
  {
   "cell_type": "markdown",
   "metadata": {},
   "source": [
    "1. form 태그에 url을 찾자.\n",
    "\n",
    "2. network tab에서 request URL을 들고와보자."
   ]
  },
  {
   "cell_type": "code",
   "execution_count": 26,
   "metadata": {},
   "outputs": [
    {
     "name": "stdout",
     "output_type": "stream",
     "text": [
      "<bound method Response.json of <Response [200]>>\n"
     ]
    }
   ],
   "source": [
    "print(html.json)"
   ]
  },
  {
   "cell_type": "code",
   "execution_count": 32,
   "metadata": {},
   "outputs": [],
   "source": [
    "html = download(\"get\",url,param)"
   ]
  },
  {
   "cell_type": "code",
   "execution_count": 33,
   "metadata": {},
   "outputs": [
    {
     "data": {
      "text/plain": [
       "{'records': [{'pretty_link': '<div><a href=\"/places/default/view/North-Korea-165\"><img src=\"/places/static/images/flags/kp.png\" /> North Korea</a></div>',\n",
       "   'country': 'North Korea',\n",
       "   'id': 4552797},\n",
       "  {'pretty_link': '<div><a href=\"/places/default/view/South-Korea-211\"><img src=\"/places/static/images/flags/kr.png\" /> South Korea</a></div>',\n",
       "   'country': 'South Korea',\n",
       "   'id': 4552843}],\n",
       " 'num_pages': 1,\n",
       " 'error': ''}"
      ]
     },
     "execution_count": 33,
     "metadata": {},
     "output_type": "execute_result"
    }
   ],
   "source": [
    "html.json()"
   ]
  },
  {
   "cell_type": "code",
   "execution_count": 35,
   "metadata": {},
   "outputs": [
    {
     "data": {
      "text/plain": [
       "['North Korea', 'South Korea']"
      ]
     },
     "execution_count": 35,
     "metadata": {},
     "output_type": "execute_result"
    }
   ],
   "source": [
    "[_[\"country\"] for _ in html.json()[\"records\"]]"
   ]
  },
  {
   "cell_type": "markdown",
   "metadata": {},
   "source": [
    "--python object로 만들기"
   ]
  },
  {
   "cell_type": "markdown",
   "metadata": {},
   "source": [
    "---"
   ]
  },
  {
   "cell_type": "markdown",
   "metadata": {},
   "source": [
    "### Selenium\n",
    "\n",
    "브라우저를 자동화하기위해 만들어진 넘. testing을 위해 만들어 졌다.\n",
    "\n",
    "반영된 DOM을 가져올 수 있다. DHTML수집할 때 많이 사용한다.\n",
    "\n",
    "Finding defects missed by manual testing.\n",
    "\n",
    "Support for Agile and extreme development methodologies"
   ]
  },
  {
   "cell_type": "code",
   "execution_count": 38,
   "metadata": {},
   "outputs": [
    {
     "name": "stdout",
     "output_type": "stream",
     "text": [
      "Collecting selenium\n",
      "  Downloading https://files.pythonhosted.org/packages/80/d6/4294f0b4bce4de0abf13e17190289f9d0613b0a44e5dd6a7f5ca98459853/selenium-3.141.0-py2.py3-none-any.whl (904kB)\n",
      "Requirement already satisfied: urllib3 in c:\\users\\scminnog15\\anaconda3\\lib\\site-packages (from selenium) (1.24.1)\n",
      "Installing collected packages: selenium\n",
      "Successfully installed selenium-3.141.0\n"
     ]
    }
   ],
   "source": [
    "!pip install selenium"
   ]
  },
  {
   "cell_type": "code",
   "execution_count": 42,
   "metadata": {},
   "outputs": [],
   "source": [
    "import selenium"
   ]
  },
  {
   "cell_type": "code",
   "execution_count": 43,
   "metadata": {},
   "outputs": [],
   "source": [
    "from selenium import webdriver"
   ]
  },
  {
   "cell_type": "code",
   "execution_count": 44,
   "metadata": {
    "scrolled": true
   },
   "outputs": [],
   "source": [
    "dirver = webdriver.Chrome()"
   ]
  },
  {
   "cell_type": "markdown",
   "metadata": {},
   "source": [
    "http://chromedriver.chromium.org/downloads\n",
    "\n",
    "브라우저를 직접닫지 말고. driver.close()로 헨들링하자."
   ]
  },
  {
   "cell_type": "code",
   "execution_count": 125,
   "metadata": {},
   "outputs": [
    {
     "name": "stdout",
     "output_type": "stream",
     "text": [
      "Overwriting account.json\n"
     ]
    }
   ],
   "source": [
    "%%writefile account.json\n",
    "{\n",
    "    \"id\":\"salaryw\",\n",
    "    \"pw\":\"1234\"\n",
    "}"
   ]
  },
  {
   "cell_type": "code",
   "execution_count": 47,
   "metadata": {},
   "outputs": [],
   "source": [
    "import json"
   ]
  },
  {
   "cell_type": "code",
   "execution_count": 50,
   "metadata": {},
   "outputs": [],
   "source": [
    "with open(\"account.json\") as fp:\n",
    "    account = json.load(fp)"
   ]
  },
  {
   "cell_type": "markdown",
   "metadata": {},
   "source": [
    "naver 계정으로 네이버 탐색하기"
   ]
  },
  {
   "cell_type": "code",
   "execution_count": 51,
   "metadata": {},
   "outputs": [],
   "source": [
    "dirver.get(\"https://www.naver.com\")"
   ]
  },
  {
   "cell_type": "code",
   "execution_count": 52,
   "metadata": {},
   "outputs": [
    {
     "data": {
      "text/plain": [
       "'<html lang=\"ko\"><head>\\n<meta charset=\"utf-8\">\\n<meta name=\"Referrer\" content=\"origin\">\\n<meta http-equiv=\"Content-Script-Type\" content=\"text/javascript\">\\n<meta http-equiv=\"Content-Style-Type\" content=\"text/css\">\\n<meta http-equiv=\"X-UA-Compatible\" content=\"IE=edge\">\\n<meta name=\"viewport\" content=\"width=1100\">\\n<meta name=\"apple-mobile-web-app-title\" content=\"NAVER\">\\n<meta name=\"robots\" content=\"index,nofollow\">\\n<meta name=\"description\" content=\"네이버 메인에서 다양한 정보와 유용한 컨텐츠를 만나 보세요\">\\n<meta property=\"og:title\" content=\"네이버\">\\n<meta property=\"og:url\" content=\"https://www.naver.com/\">\\n<meta property=\"og:image\" content=\"https://s.pstatic.net/static/www/mobile/edit/2016/0705/mobile_212852414260.png\">\\n<meta property=\"og:description\" content=\"네이버 메인에서 다양한 정보와 유용한 컨텐츠를 만나 보세요\">\\n<meta name=\"twitter:card\" content=\"summary\">\\n<meta name=\"twitter:title\" content=\"\">\\n<meta name=\"twitter:url\" content=\"https://www.naver.com/\">\\n<meta name=\"twitter:image\" content=\"https://s.pstatic.net/static/www/mobile/edit/2016/0705/mobile_212852414260.png\">\\n<meta name=\"twitter:description\" content=\"네이버 메인에서 다양한 정보와 유용한 컨텐츠를 만나 보세요\">\\n\\n\\n<link rel=\"shortcut icon\" type=\"image/x-icon\" href=\"/favicon.ico?1\">\\n\\n<link rel=\"stylesheet\" type=\"text/css\" href=\"https://pm.pstatic.net/css/main_v190709.css\"> \\n<link rel=\"stylesheet\" type=\"text/css\" href=\"https://pm.pstatic.net/css/webfont_v170623.css\">\\n<link rel=\"stylesheet\" type=\"text/css\" href=\"https://ssl.pstatic.net/sstatic/search/pc/css/api_atcmp_190612.css\">\\n\\n\\n<script type=\"text/javascript\" src=\"https://pm.pstatic.net/js/c/nlog_v181107.js\"></script>\\n\\n<script type=\"text/javascript\" src=\"https://ssl.pstatic.net/tveta/libs/assets/js/common/min/probe.min.js\"></script>\\n<script type=\"text/javascript\">\\nvar nsc = \"navertop.v3\";\\ndocument.domain = \"naver.com\";\\nvar jindoAll = \"\";\\nvar iframeLazyLoad = false;\\nif (!!!window.console) {window.console={};window.console[\"log\"]=function(){}}\\nvar isLogin = false; \\nfunction refreshLcs(etc) {etc = etc ? etc : {};if(document.cookie.indexOf(\"nrefreshx=1\") != -1) {etc[\"mrf\"]=\"1\";} else {etc[\"pan\"]=\"emo\";}return etc;}\\n\\n</script>\\n<title>NAVER</title>\\n<style>\\n\\t#_nx_kbd .setkorhelp a { display:none; }\\n</style><link rel=\"stylesheet\" type=\"text/css\" href=\"https://ssl.pstatic.net/tveta/libs/assets/css/pc/main/min/rollingboard_push_332.min.css?20171124\"><script type=\"text/javascript\" charset=\"utf-8\" src=\"https://pm.pstatic.net/js/c/nmain_v190709.js\"></script><script type=\"text/javascript\" charset=\"utf-8\" src=\"https://ssl.pstatic.net/tveta/libs/assets/js/pc/main/min/pc.veta.core.min.js?20180330\"></script></head>\\n\\n\\n\\n\\n\\n\\n\\n\\n\\n\\n\\n\\n\\n\\n\\n\\n\\n\\n\\n\\n<body class=\"\">\\n\\t<!-- 스킵 내비게이션 -->\\n\\t<div class=\"u_skip\">\\n\\t\\t<a href=\"#news_cast\" onclick=\"document.getElementById(\\'news_cast2\\').tabIndex = -1;document.getElementById(\\'news_cast2\\').focus();return false;\"><span>연합뉴스 바로가기</span></a>\\n\\t\\t<a href=\"#themecast\" onclick=\"document.getElementById(\\'themecast\\').tabIndex = -1;document.getElementById(\\'themecast\\').focus();return false;\"><span>주제별캐스트 바로가기</span></a>\\n\\t\\t<a href=\"#time_square\" onclick=\"document.getElementById(\\'time_square\\').tabIndex = -1;document.getElementById(\\'time_square\\').focus();return false;\"><span>타임스퀘어 바로가기</span></a>\\n\\t\\t<a href=\"#shp_cst\" onclick=\"document.getElementById(\\'shp_cst\\').tabIndex = -1;document.getElementById(\\'shp_cst\\').focus();return false;\"><span>쇼핑캐스트 바로가기</span></a>\\n\\t\\t<a href=\"#account\" onclick=\"document.getElementById(\\'account\\').tabIndex = -1;document.getElementById(\\'account\\').focus();return false;\"><span>로그인 바로가기</span></a>\\n\\t</div>\\n\\t<!-- //스킵 내비게이션 -->\\n\\t\\n\\n\\n\\n\\n\\n\\n\\n\\n\\n\\n\\n\\n\\n \\n\\n\\t<div id=\"PM_ID_ct\" class=\"wrap\">\\n\\t\\t<!-- 헤더 -->\\n<div class=\"header\" role=\"banner\">\\n\\t\\n\\n\\n\\n\\n\\n\\n<div class=\"special_bg special_hidden\" style=\"background: url(https://s.pstatic.net/static/www/mobile/edit/2019/0716/mobile_143655360755.png) no-repeat 50% 50%;\">\\n<div class=\"area_flex\">\\n<div class=\"area_logo\">\\n<h1 class=\"special\">\\n<img src=\"https://s.pstatic.net/static/www/mobile/edit/2017/0324/mobile_184353754426.gif\" class=\"special_img\" width=\"1400\" height=\"170\" usemap=\"#logo_sw\" alt=\"제헌절\">\\n<map id=\"logo_sw\" name=\"logo_sw\">\\n<area data-clk=\"top.spe\" shape=\"rect\" coords=\"0,0,530,170\" alt=\"제헌절\" title=\"제헌절\" href=\"https://search.naver.com/search.naver?sm=top_brd&amp;fbm=0&amp;ie=utf8&amp;query=%EC%A0%9C%ED%97%8C%EC%A0%88\">\\n</map>\\n</h1>\\n</div>\\n<div class=\"area_links\">\\n<a data-clk=\"top.mkhome\" href=\"http://help.naver.com/support/alias/contents2/naverhome/naverhome_1.naver\" class=\"al_favorite\">네이버를 시작페이지로<span class=\"al_ico_link\"></span></a>\\n<span class=\"al_bar\"></span>\\n<a data-clk=\"top.jrnaver\" href=\"http://jr.naver.com\" class=\"al_jr\"><span class=\"blind\">쥬니어네이버</span><span class=\"al_ico\"></span></a>\\n<a data-clk=\"top.happybean\" href=\"http://happybean.naver.com/main/SectionMain.nhn\" class=\"al_happybean\"><span class=\"blind\">해피빈</span><span class=\"al_ico\"></span></a>\\n</div>\\n<div id=\"search\" class=\"search\">\\n<!--자동완성 입력창-->\\n\\n<form id=\"sform\" name=\"sform\" action=\"https://search.naver.com/search.naver\" method=\"get\">\\n\\n\\t<fieldset>\\n   \\t\\t<legend class=\"blind\">검색</legend>\\n        <input type=\"hidden\" id=\"sm\" name=\"sm\" value=\"top_hty\">\\n        <input type=\"hidden\" id=\"fbm\" name=\"fbm\" value=\"0\">\\n        <input type=\"hidden\" id=\"acr\" name=\"acr\" value=\"\" disabled=\"disabled\">\\n        <input type=\"hidden\" id=\"acq\" name=\"acq\" value=\"\" disabled=\"disabled\">\\n        <input type=\"hidden\" id=\"qdt\" name=\"qdt\" value=\"\" disabled=\"disabled\">\\n        <input type=\"hidden\" id=\"ie\" name=\"ie\" value=\"utf8\">\\n        <input type=\"hidden\" id=\"acir\" name=\"acir\" value=\"\" disabled=\"disabled\">\\n        <input type=\"hidden\" id=\"os\" name=\"os\" value=\"\" disabled=\"disabled\">\\n        <input type=\"hidden\" id=\"bid\" name=\"bid\" value=\"\" disabled=\"disabled\">\\n        <input type=\"hidden\" id=\"pkid\" name=\"pkid\" value=\"\" disabled=\"disabled\">\\n        <input type=\"hidden\" id=\"eid\" name=\"eid\" value=\"\" disabled=\"disabled\">\\n        <input type=\"hidden\" id=\"mra\" name=\"mra\" value=\"\" disabled=\"disabled\">\\n        <span class=\"green_window\">\\n            <input id=\"query\" name=\"query\" type=\"text\" title=\"검색어 입력\" maxlength=\"255\" class=\"input_text\" tabindex=\"1\" accesskey=\"s\" style=\"ime-mode:active;\" autocomplete=\"off\" onclick=\"document.getElementById(\\'fbm\\').value=1;\" value=\"\">\\n        </span>\\n        <div id=\"nautocomplete\" class=\"autocomplete\">\\n            <!-- 자동완성 열린 경우 fold 클래스 추가, 딤드인 경우 dim 추가 -->\\n            <a href=\"javascript:;\" role=\"button\" tabindex=\"2\" class=\"btn_arw _btn_arw fold\" queryid=\"C1563329361483486391\"><span class=\"blind _text\">자동완성 펼치기</span><span class=\"ico_arr\"></span></a>\\n        </div>\\n        <button id=\"search_btn\" type=\"submit\" title=\"검색\" tabindex=\"3\" class=\"sch_smit\" onmouseover=\"this.className=\\'sch_smit over\\'\" onmousedown=\"this.className=\\'sch_smit down\\'\" onmouseout=\"this.className=\\'sch_smit\\'\" onclick=\"clickcr(this,\\'sch.action\\',\\'\\',\\'\\',event);\"><span class=\"blind\">검색</span><span class=\"ico_search_submit\"></span></button>\\n    </fieldset>\\n</form>\\n<!--자동완성 입력창-->\\n<!--한글입력기 -->\\n<a href=\"javascript:;\" id=\"ke_kbd_btn\" role=\"button\" class=\"btn_keyboard\" onclick=\"nx_ime_load(this)\" data-clk=\"sch.ime\"><span class=\"blind\">한글 입력기</span><span class=\"ico_keyboard\"></span></a>\\n<style type=\"text/css\" id=\"_nx_kbd_style\"></style>\\n<div id=\"_nx_kbd\" style=\"display:none;\"></div>\\n<!--한글입력기 -->\\n<!--자동완성 레이어 -->\\n<div id=\"autoFrame\" class=\"reatcmp\" style=\"background-color:rgb(255, 255, 255);display:none;\">\\n    <div class=\"api_atcmp_wrap _atcmp\" style=\"display:none;\" queryid=\"C1563329361479948314\">\\n        <div class=\"words _words\" queryid=\"C1563329361475703747\">\\n            <div class=\"_atcmp_result_wrap\">\\n                <ul class=\"_resultBox\"></ul>\\n                <ul class=\"_resultBox\"></ul>\\n                <ul class=\"_resultBox\"></ul>\\n                <ul class=\"_resultBox\"></ul>\\n            </div>\\n            <!-- 우측 정답형 영역 -->\\n            <div class=\"add_group _atcmp_answer_wrap\"></div>\\n        </div>\\n        <!-- 컨텍스트 자동완성 플러스 -->\\n        <!-- [AU] _plus -->\\n        <div class=\"atcmp_plus _plus\" queryid=\"C1563329361481173400\">\\n            <span class=\"desc\">\\n                <span class=\"plus_txt _plusTxt\">시간대와 관심사에 맞춘 <em class=\"txt\">컨텍스트 자동완성</em></span>\\n                <a onclick=\"__atcmpCR(event, this, \\'plus.help\\', \\'\\',\\'\\',\\'\\');\" href=\"https://help.naver.com/support/contents/contents.nhn?serviceNo=606&amp;categoryNo=16658\" target=\"_blank\" class=\"spat ico_info _plusHelp\"><span class=\"blind\">도움말 보기</span></a>\\n            </span>\\n            <!-- [AU] _plus_btn -->\\n            <span class=\"switch _plus_btn\" queryid=\"C1563329348228564915\">\\n                <a href=\"#\" class=\"btn_turnon\" onclick=\"__atcmpCR(event, this, \\'plus.use\\', \\'\\',\\'\\',\\'\\');\">ON<span class=\"blind\">선택됨</span></a>\\n                <a href=\"#\" class=\"btn_turnoff active\" onclick=\"__atcmpCR(event, this, \\'plus.unuse\\', \\'\\',\\'\\',\\'\\');\">OFF</a>\\n            </span>\\n            <div class=\"layer_plus _plusAlert\" style=\"display: none;\">\\n                <strong class=\"tit\">컨텍스트 자동완성</strong>\\n                <div class=\"_logout\" style=\"display:block;\" queryid=\"C1563329348229719673\">\\n                    <p class=\"dsc\"><em class=\"txt\">동일한 시간대/연령/남녀별</em> 사용자 그룹의<br>관심사에 맞춰 자동완성을 제공합니다.</p>\\n                    <div class=\"btn_area\">\\n                        <a onclick=\"__atcmpCR(event, this, \\'plus.login\\', \\'\\',\\'\\',\\'\\');\" href=\"https://nid.naver.com/nidlogin.login\" class=\"btn btn_login\">로그인</a>\\n                        <a target=\"_blank\" onclick=\"__atcmpCR(event, this, \\'plus.detail\\', \\'\\',\\'\\',\\'\\');\" href=\"https://help.naver.com/support/alias/search/word/word_16.naver\" class=\"btn btn_view\">자세히</a>\\n                    </div>\\n                </div>\\n                <div class=\"_login\" style=\"display:none;\">\\n                    <p class=\"dsc\">ON/OFF설정은<br>해당 기기(브라우저)에 저장됩니다.</p>\\n                    <div class=\"btn_area\">\\n                        <a target=\"_blank\" onclick=\"__atcmpCR(event, this, \\'plus.detail\\', \\'\\',\\'\\',\\'\\');\" href=\"https://help.naver.com/support/contents/contents.nhn?serviceNo=606&amp;categoryNo=16659\" class=\"btn btn_view\">자세히</a>\\n                    </div>\\n                </div>\\n                <button type=\"button\" class=\"btn_close _close\" onclick=\"__atcmpCR(event, this, \\'plus.close\\', \\'\\',\\'\\',\\'\\');\"><i class=\"spat ico_close\">컨텍스트 자동완성 레이어 닫기</i></button>\\n            </div>\\n        </div>\\n        <!-- //컨텍스트 자동완성 플러스 -->\\n        <p class=\"func _atcmpBtnGroup\"><span class=\"fl\"><a class=\"_help\" onclick=\"__atcmpCR(event, this, \\'help\\', \\'\\',\\'\\',\\'\\');\" href=\"https://help.naver.com/support/service/main.nhn?serviceNo=606&amp;categoryNo=1987\" target=\"_blank\">도움말</a><span class=\"atcmp_bar\"></span><a onclick=\"__atcmpCR(event, this, \\'report\\', \\'\\',\\'\\',\\'\\');\" href=\"https://help.naver.com/support/contents/contents.nhn?serviceNo=605&amp;categoryNo=18215\" target=\"_blank\" class=\"report\">신고</a></span><span><em><a class=\"hisoff\" href=\"javascript:;\">검색어저장 켜기</a><span class=\"atcmp_bar\"></span></em><a class=\"funoff\" href=\"javascript:;\">자동완성 끄기</a></span></p>\\n        <span class=\"atcmp_helper _help_tooltip1\" style=\"display: none;\">기능을 다시 켤 때는 <em class=\"ico_search spat\">자동완성 펼치기</em>을 클릭하세요</span>\\n    </div>\\n    <div class=\"api_atcmp_wrap _atcmpIng\" style=\"display:none;\" queryid=\"C1563329361480717298\">\\n        <div class=\"words\"><p class=\"info_words\">현재 자동완성 기능을 사용하고 계십니다.</p></div>\\n        <p class=\"func _atcmpBtnGroup\"><span class=\"fl\"><a class=\"_help\" onclick=\"__atcmpCR(event, this, \\'help\\', \\'\\',\\'\\',\\'\\');\" href=\"https://help.naver.com/support/service/main.nhn?serviceNo=606&amp;categoryNo=1987\" target=\"_blank\">도움말</a><span class=\"atcmp_bar\"></span><a onclick=\"__atcmpCR(event, this, \\'report\\', \\'\\',\\'\\',\\'\\');\" href=\"https://help.naver.com/support/contents/contents.nhn?serviceNo=605&amp;categoryNo=18215\" target=\"_blank\" class=\"report\">신고</a></span><span><em><a class=\"hisoff\" href=\"javascript:;\">검색어저장 켜기</a><span class=\"atcmp_bar\"></span></em><a class=\"funoff\" href=\"javascript:;\">자동완성 끄기</a></span></p>\\n        <span class=\"atcmp_helper _help_tooltip2\" style=\"display: none;\">기능을 다시 켤 때는 <em class=\"ico_search spat\">자동완성 펼치기</em>을 클릭하세요</span>\\n    </div>\\n    <div class=\"api_atcmp_wrap _atcmpStart\" style=\"display:none;\" queryid=\"C1563329361481917435\">\\n        <div class=\"words\"><p class=\"info_words\">자동완성 기능이 활성화되었습니다.</p></div>\\n        <p class=\"func _atcmpBtnGroup\"><span class=\"fl\"><a class=\"_help\" onclick=\"__atcmpCR(event, this, \\'help\\', \\'\\',\\'\\',\\'\\');\" href=\"https://help.naver.com/support/service/main.nhn?serviceNo=606&amp;categoryNo=1987\" target=\"_blank\">도움말</a><span class=\"atcmp_bar\"></span><a onclick=\"__atcmpCR(event, this, \\'report\\', \\'\\',\\'\\',\\'\\');\" href=\"https://help.naver.com/support/contents/contents.nhn?serviceNo=605&amp;categoryNo=18215\" target=\"_blank\" class=\"report\">신고</a></span><span><em><a class=\"hisoff\" href=\"javascript:;\">검색어저장 켜기</a><span class=\"atcmp_bar\"></span></em><a class=\"funoff\" href=\"javascript:;\">자동완성 끄기</a></span></p>\\n        <span class=\"atcmp_helper _help_tooltip3\" style=\"display: none;\">기능을 다시 켤 때는 <em class=\"ico_search spat\">자동완성 펼치기</em>을 클릭하세요</span>\\n    </div>\\n    <div class=\"api_atcmp_wrap _atcmpOff\" style=\"display:none;\" queryid=\"C1563329361478795618\">\\n        <div class=\"words\"><p class=\"info_words\">자동완성 기능이 꺼져 있습니다.</p></div>\\n        <p class=\"func _atcmpBtnGroup\"><span class=\"fl\"><a class=\"_help\" onclick=\"__atcmpCR(event, this, \\'help\\', \\'\\',\\'\\',\\'\\');\" href=\"https://help.naver.com/support/service/main.nhn?serviceNo=606&amp;categoryNo=1987\" target=\"_blank\">도움말</a><span class=\"atcmp_bar\"></span><a onclick=\"__atcmpCR(event, this, \\'report\\', \\'\\',\\'\\',\\'\\');\" href=\"https://help.naver.com/support/contents/contents.nhn?serviceNo=605&amp;categoryNo=18215\" target=\"_blank\" class=\"report\">신고</a></span><span><em><a class=\"hisoff\" href=\"javascript:;\">검색어저장 켜기</a><span class=\"atcmp_bar\"></span></em><a class=\"funoff\" href=\"javascript:;\">자동완성 켜기</a></span></p>\\n    </div>\\n    <!-- 최근검색어 & 내검색어 -->\\n    <div class=\"api_atcmp_wrap _keywords\" style=\"display:none;\">\\n        <div class=\"my_words\">\\n            <div class=\"lst_tab\">\\n                <ul><li class=\"on _recentTab\"><a href=\"javascript:;\">최근검색어</a></li><li class=\"_myTab\"><a href=\"javascript:;\">내 검색어</a></li></ul>\\n            </div>\\n            <div class=\"words _recent\">\\n                <ul><li data-rank=\"@rank@\"><a class=\"t@my@ _star _myBtn\" title=\"내 검색어 등록\" href=\"javascript:;\"><em class=\"spat\">내 검색어 등록</em></a><a href=\"javascript:;\" class=\"keyword\">@txt@</a><em class=\"keyword_date\">@date@.</em><a href=\"javascript:;\" class=\"btn_delete spat _del\" title=\"검색어삭제\">삭제</a><span style=\"display:none\">@in_txt@</span></li></ul>\\n                <div class=\"info_words _recentNone\" style=\"display:none\">최근검색어 내역이 없습니다.</div>\\n                <p class=\"info_words _offMsg\" style=\"display:none\">검색어 저장 기능이 꺼져 있습니다.</p>\\n            </div>\\n            <div class=\"words _my\" style=\"display:none\">\\n                <ul><li data-rank=\"@rank@\"><a class=\"ton _star _myBtn\" title=\"내 검색어 해제\" href=\"javascript:;\"><em class=\"spat\">내 검색어 해제</em></a><a href=\"javascript:;\" class=\"keyword\">@txt@</a></li></ul>\\n                <div class=\"info_words _myNone\" style=\"display:none\">설정된 내 검색어가 없습니다.<br>최근검색어에서 <span class=\"star spat\">내 검색어 등록</span>를 선택하여 자주 찾는 검색어를<br>내 검색어로 저장해 보세요.</div>\\n                <p class=\"info_words _offMsg\" style=\"display:none\">검색어 저장 기능이 꺼져 있습니다.</p>\\n            </div>\\n            <p class=\"noti _noti\" style=\"display:none\"><em class=\"ico_noti spat\"><span class=\"blind\">알림</span></em>공용 PC에서는 개인정보 보호를 위하여 반드시 로그아웃을 해 주세요.</p>\\n            <p class=\"func _recentBtnGroup\"><span class=\"fl\"><a class=\"_delMode\" href=\"javascript:;\">기록 삭제</a></span><span><a class=\"_keywordOff\" href=\"javascript:;\">검색어저장 끄기</a><span class=\"atcmp_bar\"></span><a class=\"_acOff\" href=\"javascript:;\">자동완성 끄기</a></span></p>\\n            <p class=\"func _recentDelBtnGroup\" style=\"display:none\"><span class=\"fl\"><a class=\"_delAll\" href=\"javascript:;\" title=\"최근 검색어 기록을 모두 삭제합니다.\">기록 전체 삭제</a></span><span><a class=\"_delDone\" href=\"javascript:;\">완료</a></span></p>\\n            <p class=\"func _myBtnGroup\" style=\"display:none\"><span class=\"fl\"><a class=\"_delAll\" href=\"javascript:;\" title=\"설정된 내 검색어를 모두 삭제합니다.\">기록 전체 삭제</a></span><span><a class=\"_keywordOff\" href=\"javascript:;\">검색어저장 끄기</a><span class=\"atcmp_bar\"></span><a class=\"_acOff\" href=\"javascript:;\">자동완성 끄기</a></span></p>\\n            <span class=\"atcmp_helper _help2\">기능을 다시 켤 때는 <em class=\"ico_search spat\">자동완성 펼치기</em>을 클릭하세요</span>\\n            <div class=\"ly_noti _maxLayer\" style=\"display:none\">\\n                <span class=\"mask\"></span>\\n                <p><span class=\"ico_alert spat\"></span>내 검색어는 <em>최대 10</em>개 까지 저장할 수 있습니다.<br>추가하시려면 기존 내 검색어를 지워주세요. <a href=\"javascript:;\" class=\"btn_close _close\"><i class=\"spat ico_close\">닫기</i></a></p>\\n            </div>\\n        </div>\\n    </div>\\n    <!-- 자동완성 안내문구 (선거) -->\\n    <div class=\"api_atcmp_wrap _alert\" style=\"display:none;\">\\n        <div class=\"api_atcmp_alert\">\\n            <span class=\"ico_alert spat\"></span>\\n            <p class=\"dsc_txt\"><em class=\"_passage\"></em><br>\\n                <a class=\"_link\" target=\"_blank\" href=\"\" onclick=\"clickcr(this,\\'sug.vote\\',\\'\\',\\'\\',event);\">자세히보기</a></p>\\n        </div>\\n    </div>\\n    <!-- //자동완성 안내문구 (선거) -->\\n    <!-- [D] IE 계열, wmode=\"window\" flash와 겹치지 않기 위함 -->\\n    <iframe vspace=\"0\" hspace=\"0\" border=\"0\" style=\"display:none;display:block\\\\9;display:block\\\\0/;position:absolute;left:0;top:0;width:100%;height:100%;z-index:-1;\" title=\"빈 프레임\"></iframe>\\n</div>\\t\\t\\t\\n<!--자동완성 레이어 -->\\n\\n<!--자동완성 템플릿 추가-->\\n<!-- 신규 공통 템플릿 -->\\n<script type=\"text/template\" id=\"_atcmp_answer_0\">\\n    <div class=\"add_opt _item\" data-sm=\"@2@\" data-keyword=\"@1@\" data-template_id=\"@0@\" data-acir=\"@rank@\" data-os=\"@8@\" data-bid=\"@9@\" data-eid=\"@3@\" data-pkid=\"@10@\" data-mra=\"@11@\" >\\n        <a href=\"#\" class=\"opt_dsc\">\\n            <span class=\"dsc_thmb\" style=\"@style7@\">@image7@</span>\\n            <span class=\"dsc_group\">\\n                <span class=\"dsc_cate\">@6@</span>\\n                <strong class=\"dsc_word\">@1@</strong>\\n                <span class=\"dsc_sub\" style=\"@style12@\">@12@</span>\\n            </span>\\n        </a>\\n    </div>\\n</script>\\n<!-- 로또당첨번호 -->\\n<script type=\"text/template\" id=\"_atcmp_answer_3\">\\n    <div class=\"add_opt _item\" data-sm=\"@2@\" data-keyword=\"@1@\" data-template_id=\"@0@\" data-acir=\"@rank@\">\\n        <a href=\"javascript:;\" class=\"opt_lotto\">\\n            <span class=\"lotto_num_area\">\\n                <span class=\"spat lotto_num lotto_num@6@\">@6@</span><span class=\"spat lotto_num lotto_num@7@\">@7@</span><span class=\"spat lotto_num lotto_num@8@\">@8@</span><span class=\"spat lotto_num lotto_num@9@\">@9@</span><span class=\"spat lotto_num lotto_num@10@\">@10@</span><span class=\"spat lotto_num lotto_num@11@\">@11@</span><span class=\"spat lotto_bonus\">+</span><span class=\"spat lotto_num lotto_num@12@\">@12@</span>\\n            </span>\\n            <span class=\"lotto_sub\">@5@회차<em class=\"lotto_date\">(@13@.)</em></span>\\n        </a>\\n    </div>\\n</script>\\n<!-- 환율:엔화환율 -->\\n<script type=\"text/template\" id=\"_atcmp_answer_9\">\\n    <div class=\"add_opt _item\" data-sm=\"@2@\" data-keyword=\"@1@\" data-template_id=\"@0@\" data-acir=\"@rank@\">\\n        <a href=\"javascript:;\" class=\"opt_exchange opt_exchange_@11@\">\\n            <span class=\"opt_nation\">\\n                <img src=\"https://ssl.pstatic.net/sstatic/keypage/lifesrch/exchange/ico_@12@1.gif\" alt=\"\" />\\n                @14@<span class=\"tx_nation\">@money@</span>\\n            </span>\\n            <span class=\"opt_amount\">\\n                <span class=\"amount\"><strong>@6@</strong>원</span><span class=\"changes\"><i class=\"bullet\">@10@</i> @8@ (@9@%)<span class=\"opt_time\"><time datetime=\"@fulldate@\">@7@</time></span></span>\\n            </span>\\n        </a>\\n    </div>\\n</script>\\n<!-- 해외날씨 : 파리날씨 -->\\n<script type=\"text/template\" id=\"_atcmp_answer_10\">\\n    <div class=\"add_opt _item\" data-sm=\"@2@\" data-keyword=\"@1@\" data-template_id=\"@0@\" data-acir=\"@rank@\">\\n        <a href=\"javascript:;\" class=\"opt_weather\">\\n            <span class=\"opt_weather_thmb\">\\n                <img src=\"https://ssl.pstatic.net/sstatic/search/pc/img/wt_@6@.png\" width=\"56\" height=\"56\" alt=\"@7@\">\\n            </span>\\n            <span class=\"opt_weather_group\">\\n                <span class=\"opt_weather_state\">@7@</span>\\n                <span class=\"opt_weather_state\">기온 <em class=\"opt_deg\">@8@</em><span class=\"opt_unit\">℃</span></span>\\n                <span class=\"opt_weather_state\">@9@ <em>@10@</em><span class=\"opt_unit\">@11@</span></span>\\n\\t\\t\\t\\t<span class=\"opt_weather_state\"><span class=\"opt_time\"><time datetime=\"@fulldate@\">@5@</time></span></span>\\n            </span>\\n        </a>\\n    </div>\\n</script>\\n<!-- 국내날씨 : 서울날씨 -->\\n<script type=\"text/template\" id=\"_atcmp_answer_11\">\\n    <div class=\"add_opt _item\" data-sm=\"@2@\" data-keyword=\"@1@\" data-template_id=\"@0@\" data-acir=\"@rank@\">\\n        <a href=\"javascript:;\" class=\"opt_weather\">\\n            <span class=\"opt_weather_thmb\">\\n                <img src=\"https://ssl.pstatic.net/sstatic/search/pc/img/wt_@6@.png\" width=\"56\" height=\"56\" alt=\"@7@\">\\n            </span>\\n            <span class=\"opt_weather_group\">\\n                <span class=\"opt_weather_state\">@7@</span>\\n                <span class=\"opt_weather_state\">기온 <em class=\"opt_deg\">@8@</em><span class=\"opt_unit\">℃</span></span>\\n                <span class=\"opt_weather_state\">@9@ <em>@10@</em><span class=\"opt_unit\">@11@</span></span>\\n\\t\\t\\t\\t<span class=\"opt_weather_state\"><span class=\"opt_time\"><time datetime=\"@fulldate@\">@5@</time></span></span>\\n            </span>\\n        </a>\\n    </div>\\n</script>\\n<!-- 바로가기 -->\\n<script type=\"text/template\" id=\"_atcmp_answer_17\">\\n    <div class=\"add_opt _item\" data-sm=\"@2@\" data-keyword=\"@1@\" data-template_id=\"@0@\" data-acir=\"@rank@\">\\n        <a href=\"@5@\" target=\"_blank\" class=\"opt_shortcut\">\\n            <span class=\"opt_url\">@display_link@</span>\\n            <span class=\"opt_txt\">사이트로 바로 이동</span>\\n        </a>\\n    </div>\\n</script>\\n<!-- 해외날씨 : 국내날씨 형태로 제공하기 위한 새로운 템플릿(10번으로 ID변경됨) -->\\n<script type=\"text/template\" id=\"_atcmp_answer_20\"></script>\\n<!-- 문맥검색 -->\\n<script type=\"text/template\" id=\"_atcmp_intend\">\\n    <div class=\"add_opt type_context _item\" data-sm=\"asct\" data-keyword=\"@transquery@\" data-acir=\"@rank@\">\\n        <a href=\"#\" class=\"opt_context\">\\n            <span class=\"opt_tit\"><strong>@query@</strong></span>\\n            <span class=\"opt_sub\">@intend@</span>\\n        </a>\\n    </div>\\n</script>\\n<!-- 결과 키워드 템플릿 (좌측 결과목록 템플릿:정답형 템플릿 아님) -->\\n<script type=\"text/template\" id=\"_atcmp_result_item_tpl\">\\n    <li class=\"_item @url_class@\" data-acr=\"@rank@\">\\n        <a href=\"#\" class=\"atcmp_keyword\" onclick=\"return false;\" title=\"\"><span class=\"atcmp_keyword_txt\">@txt@<span class=\"spat ic_expand\"></span></span></a>\\n        <a href=\"@url@\" target=\"_blank\" class=\"mquick\">바로이동</a>\\n        <span style=\"display:none\">@in_txt@</span>\\n    </li>\\n</script>\\n<!-- 일반 자동완성 하이라이팅 템플릿 -->\\n<script type=\"text/template\" id=\"_atcmp_keyword_highlight_tpl\">\\n    @mismatch_before@<strong>@match@</strong>@mismatch_after@\\n</script>\\n<!-- 부분 자동완성 하이라이팅 템플릿 -->\\n<script type=\"text/template\" id=\"_atcmp_keyword_partial_match_highlight_tpl\">\\n    @mismatch_before@<strong>@match@</strong>@mismatch_after@\\n</script>\\n<!--자동완성 템플릿 추가-->\\n</div>\\n<!-- EMPTY --></div>\\n</div>\\n\\n\\t<div class=\"section_navbar\">\\n\\t\\t<div class=\"area_navigation\" role=\"navigation\">\\n\\t\\t\\t<ul class=\"an_l\">\\n\\t\\t\\t\\t<li class=\"an_item\">\\n\\t\\t\\t\\t\\t<a href=\"https://mail.naver.com/\" class=\"an_a mn_mail\" data-clk=\"svc.mail\">\\n\\t\\t\\t\\t\\t\\t<span class=\"an_icon\"></span><span class=\"an_txt\">메일</span>\\n\\t\\t\\t\\t\\t</a>\\n\\t\\t\\t\\t</li>\\n\\t\\t\\t\\t<li class=\"an_item\">\\n\\t\\t\\t\\t\\t<a href=\"https://section.cafe.naver.com/\" class=\"an_a mn_cafe\" data-clk=\"svc.cafe\">\\n\\t\\t\\t\\t\\t\\t<span class=\"an_icon\"></span><span class=\"an_txt\">카페</span>\\n\\t\\t\\t\\t\\t</a>\\n\\t\\t\\t\\t</li>\\n\\t\\t\\t\\t<li class=\"an_item\">\\n\\t\\t\\t\\t\\t<a href=\"https://section.blog.naver.com/\" class=\"an_a mn_blog\" data-clk=\"svc.blog\">\\n\\t\\t\\t\\t\\t\\t<span class=\"an_icon\"></span><span class=\"an_txt\">블로그</span>\\n\\t\\t\\t\\t\\t</a>\\n\\t\\t\\t\\t</li>\\n\\t\\t\\t\\t<li class=\"an_item\">\\n\\t\\t\\t\\t\\t<a href=\"https://kin.naver.com/\" class=\"an_a mn_kin\" data-clk=\"svc.kin\">\\n\\t\\t\\t\\t\\t\\t<span class=\"an_icon\"></span><span class=\"an_txt\">지식인</span>\\n\\t\\t\\t\\t\\t</a>\\n\\t\\t\\t\\t</li>\\n\\t\\t\\t\\t<li class=\"an_item\">\\n\\t\\t\\t\\t\\t<a href=\"https://shopping.naver.com/\" class=\"an_a mn_shopping\" data-clk=\"svc.shopping\">\\n\\t\\t\\t\\t\\t\\t<span class=\"an_icon\"></span><span class=\"an_txt\">쇼핑</span>\\n\\t\\t\\t\\t\\t</a>\\n\\t\\t\\t\\t</li>\\n\\t\\t\\t\\t<li class=\"an_item\">\\n\\t\\t\\t\\t\\t<a href=\"https://order.pay.naver.com/home\" class=\"an_a mn_checkout\" data-clk=\"svc.pay\">\\n\\t\\t\\t\\t\\t\\t<span class=\"an_icon\"></span><span class=\"an_txt\">네이버페이</span>\\n\\t\\t\\t\\t\\t</a>\\n\\t\\t\\t\\t</li>\\n\\t\\t\\t\\t<li class=\"an_item\">\\n\\t\\t\\t\\t\\t<a href=\"https://tv.naver.com/\" class=\"an_a mn_tvcast\" data-clk=\"svc.tvcast\">\\n\\t\\t\\t\\t\\t\\t<span class=\"an_icon\"></span><span class=\"an_txt\">네이버TV</span>\\n\\t\\t\\t\\t\\t</a>\\n\\t\\t\\t\\t</li>\\t\\n\\t\\t\\t</ul>\\n\\t\\t\\t<ul id=\"PM_ID_serviceNavi\" class=\"an_l\">\\n\\t\\t\\t\\t<li class=\"an_item\"><a href=\"https://dict.naver.com/\" class=\"an_a mn_dic\" data-clk=\"svc.dic\"><span class=\"an_icon\"></span><span class=\"an_txt\">사전</span></a></li>\\n<li class=\"an_item\"><a href=\"https://news.naver.com/\" class=\"an_a mn_news\" data-clk=\"svc.news\"><span class=\"an_icon\"></span><span class=\"an_txt\">뉴스</span></a></li>\\n<li class=\"an_item\"><a href=\"https://finance.naver.com/\" class=\"an_a mn_stock\" data-clk=\"svc.stock\"><span class=\"an_icon\"></span><span class=\"an_txt\">증권(금융)</span></a></li>\\n<li class=\"an_item\"><a href=\"https://land.naver.com/\" class=\"an_a mn_land\" data-clk=\"svc.land\"><span class=\"an_icon\"></span><span class=\"an_txt\">부동산</span></a></li>\\n<li class=\"an_item\"><a href=\"https://map.naver.com/\" class=\"an_a mn_map\" data-clk=\"svc.map\"><span class=\"an_icon\"></span><span class=\"an_txt\">지도</span></a></li>\\n<li class=\"an_item\"><a href=\"https://movie.naver.com/\" class=\"an_a mn_movie\" data-clk=\"svc.movie\"><span class=\"an_icon\"></span><span class=\"an_txt\">영화</span></a></li>\\n<li class=\"an_item\"><a href=\"https://music.naver.com\" class=\"an_a mn_music\" data-clk=\"svc.music\"><span class=\"an_icon\"></span><span class=\"an_txt\">뮤직</span></a></li>\\n<li class=\"an_item\"><a href=\"https://book.naver.com/\" class=\"an_a mn_book\" data-clk=\"svc.book\"><span class=\"an_icon\"></span><span class=\"an_txt\">책</span></a></li>\\n<li class=\"an_item\"><a href=\"https://comic.naver.com/\" class=\"an_a mn_comic\" data-clk=\"svc.webtoon\"><span class=\"an_icon\"></span><span class=\"an_txt\">만화 / 웹툰</span></a></li>\\n\\n\\t\\t\\t</ul>\\n\\t\\t\\t<ul id=\"PM_ID_serviceNaviEmpty\" class=\"an_l an_custom\" style=\"display:none\">\\n\\t\\t\\t\\t<li class=\"an_item an_pointer\"><span class=\"an_empty\"></span></li>\\n\\t\\t\\t\\t<li class=\"an_item\"><span class=\"an_empty\"></span></li>\\n\\t\\t\\t\\t<li class=\"an_item\"><span class=\"an_empty\"></span></li>\\n\\t\\t\\t\\t<li class=\"an_item\"><span class=\"an_empty\"></span></li>\\n\\t\\t\\t\\t<li class=\"an_item\"><span class=\"an_empty\"></span></li>\\n\\t\\t\\t</ul>\\n\\t\\t\\t<div class=\"an_bar\"></div>\\n\\t\\t\\t<a href=\"#\" id=\"PM_ID_btnServiceMore\" role=\"button\" class=\"PM_CL_btnServiceMore an_btn_more\" data-clk=\"svc.more\"><span class=\"an_mtxt\"><span class=\"blind\">더보기</span></span><span class=\"ico_an_more\"></span></a>\\n\\t\\t</div>\\n\\t\\t<div class=\"area_hotkeyword PM_CL_realtimeKeyword_base\" queryid=\"C1563329348286954953\">\\n\\t\\t\\t<div class=\"ah_roll PM_CL_realtimeKeyword_rolling_base\" aria-hidden=\"false\">\\n<h3 class=\"blind\">급상승 검색어 검색어</h3>\\n<div class=\"ah_roll_area PM_CL_realtimeKeyword_rolling\" queryid=\"C1563329348282845280\">\\n<ul class=\"ah_l\" queryid=\"C1563329385300796990\">\\n<li class=\"ah_item\">\\n<a href=\"#\" class=\"ah_a\" data-clk=\"lve.keyword\">\\n<span class=\"ah_r\">1</span>\\n<span class=\"ah_k\">정두언</span>\\n</a>\\n</li>\\n<li class=\"ah_item\">\\n<a href=\"#\" class=\"ah_a\" data-clk=\"lve.keyword\">\\n<span class=\"ah_r\">2</span>\\n<span class=\"ah_k\">안다르 래쉬가드</span>\\n</a>\\n</li>\\n<li class=\"ah_item\">\\n<a href=\"#\" class=\"ah_a\" data-clk=\"lve.keyword\">\\n<span class=\"ah_r\">3</span>\\n<span class=\"ah_k\">인터파크 인생날</span>\\n</a>\\n</li>\\n<li class=\"ah_item\">\\n<a href=\"#\" class=\"ah_a\" data-clk=\"lve.keyword\">\\n<span class=\"ah_r\">4</span>\\n<span class=\"ah_k\">제헌절</span>\\n</a>\\n</li>\\n<li class=\"ah_item\">\\n<a href=\"#\" class=\"ah_a\" data-clk=\"lve.keyword\">\\n<span class=\"ah_r\">5</span>\\n<span class=\"ah_k\">태풍</span>\\n</a>\\n</li>\\n<li class=\"ah_item\">\\n<a href=\"#\" class=\"ah_a\" data-clk=\"lve.keyword\">\\n<span class=\"ah_r\">6</span>\\n<span class=\"ah_k\">김준기 회장</span>\\n</a>\\n</li>\\n<li class=\"ah_item\">\\n<a href=\"#\" class=\"ah_a\" data-clk=\"lve.keyword\">\\n<span class=\"ah_r\">7</span>\\n<span class=\"ah_k\">sbs 살맛나는 오늘</span>\\n</a>\\n</li>\\n<li class=\"ah_item\">\\n<a href=\"#\" class=\"ah_a\" data-clk=\"lve.keyword\">\\n<span class=\"ah_r\">8</span>\\n<span class=\"ah_k\">첨생법</span>\\n</a>\\n</li>\\n<li class=\"ah_item\">\\n<a href=\"#\" class=\"ah_a\" data-clk=\"lve.keyword\">\\n<span class=\"ah_r\">9</span>\\n<span class=\"ah_k\">아모레퍼시픽몰</span>\\n</a>\\n</li>\\n<li class=\"ah_item\">\\n<a href=\"#\" class=\"ah_a\" data-clk=\"lve.keyword\">\\n<span class=\"ah_r\">10</span>\\n<span class=\"ah_k\">김윤정</span>\\n</a>\\n</li>\\n<li class=\"ah_item\">\\n<a href=\"#\" class=\"ah_a\" data-clk=\"lve.keyword\">\\n<span class=\"ah_r\">11</span>\\n<span class=\"ah_k\">잠망경</span>\\n</a>\\n</li>\\n<li class=\"ah_item\">\\n<a href=\"#\" class=\"ah_a\" data-clk=\"lve.keyword\">\\n<span class=\"ah_r\">12</span>\\n<span class=\"ah_k\">태풍 다나스</span>\\n</a>\\n</li>\\n<li class=\"ah_item\">\\n<a href=\"#\" class=\"ah_a\" data-clk=\"lve.keyword\">\\n<span class=\"ah_r\">13</span>\\n<span class=\"ah_k\">손진영</span>\\n</a>\\n</li>\\n<li class=\"ah_item\">\\n<a href=\"#\" class=\"ah_a\" data-clk=\"lve.keyword\">\\n<span class=\"ah_r\">14</span>\\n<span class=\"ah_k\">로스트아크</span>\\n</a>\\n</li>\\n<li class=\"ah_item\">\\n<a href=\"#\" class=\"ah_a\" data-clk=\"lve.keyword\">\\n<span class=\"ah_r\">15</span>\\n<span class=\"ah_k\">아보카도 오일</span>\\n</a>\\n</li>\\n<li class=\"ah_item\">\\n<a href=\"#\" class=\"ah_a\" data-clk=\"lve.keyword\">\\n<span class=\"ah_r\">16</span>\\n<span class=\"ah_k\">일산 조선초가한끼</span>\\n</a>\\n</li>\\n<li class=\"ah_item\">\\n<a href=\"#\" class=\"ah_a\" data-clk=\"lve.keyword\">\\n<span class=\"ah_r\">17</span>\\n<span class=\"ah_k\">이아이디</span>\\n</a>\\n</li>\\n<li class=\"ah_item\">\\n<a href=\"#\" class=\"ah_a\" data-clk=\"lve.keyword\">\\n<span class=\"ah_r\">18</span>\\n<span class=\"ah_k\">뮬라웨어</span>\\n</a>\\n</li>\\n<li class=\"ah_item\">\\n<a href=\"#\" class=\"ah_a\" data-clk=\"lve.keyword\">\\n<span class=\"ah_r\">19</span>\\n<span class=\"ah_k\">미스코리아 한복</span>\\n</a>\\n</li>\\n<li class=\"ah_item\">\\n<a href=\"#\" class=\"ah_a\" data-clk=\"lve.keyword\">\\n<span class=\"ah_r\">20</span>\\n<span class=\"ah_k\">2019년 태풍</span>\\n</a>\\n</li>\\n<li class=\"ah_item\">\\n<a href=\"#\" class=\"ah_a\" data-clk=\"lve.keyword\">\\n<span class=\"ah_r\">1</span>\\n<span class=\"ah_k\">정두언</span>\\n</a>\\n</li></ul>\\n</div>\\n</div>\\n\\t\\t\\t<span class=\"ah_ico_open\"></span>\\n\\t\\t\\t<div class=\"ah_list PM_CL_realtimeKeyword_list_base\" aria-hidden=\"true\" queryid=\"C1563329348283815542\">\\n<h3 class=\"ah_ltit\">급상승 검색어</h3>\\n<a href=\"http://datalab.naver.com/keyword/realtimeList.naver?where=main\" class=\"ah_ha\" data-clk=\"lve.rankhistory\"><span class=\"ah_ico_datalab\">DataLab.</span>급상승 트래킹<span class=\"ah_ico_hlink\"></span></a>\\n<div class=\"ah_tab\">\\n<a href=\"#\" role=\"tab\" class=\"ah_tab_btn ah_tab_on\" data-tab=\"1to10\" data-clk=\"lve.tab1\">1~10위</a>\\n<a href=\"#\" role=\"tab\" class=\"ah_tab_btn\" data-tab=\"11to20\" data-clk=\"lve.tab2\">11~20위</a>\\n</div>\\n<h4 class=\"blind PM_CL_realtimeKeyword_sublist_heading\">급상승 검색어 1~10위</h4>\\n<ul class=\"ah_l\" data-list=\"1to10\">\\n<li class=\"ah_item\" data-order=\"1\">\\n<a href=\"http://search.naver.com/search.naver?where=nexearch&amp;query=%EC%A0%95%EB%91%90%EC%96%B8&amp;sm=top_lve&amp;ie=utf8\" class=\"ah_a\" data-clk=\"lve.keyword\">\\n<span class=\"ah_r\">1</span>\\n<span class=\"ah_k\">정두언</span>\\n</a>\\n<a href=\"http://datalab.naver.com/keyword/realtimeDetail.naver?datetime=2019-07-17T11:09:00&amp;query=%EC%A0%95%EB%91%90%EC%96%B8&amp;where=main\" class=\"ah_da\" data-clk=\"lve.kwdhistory\">\\n<span class=\"blind\">데이터랩 그래프 보기</span>\\n<span class=\"ah_ico_datagraph\"></span>\\n</a>\\n</li>\\n<li class=\"ah_item\" data-order=\"2\">\\n<a href=\"http://search.naver.com/search.naver?where=nexearch&amp;query=%EC%95%88%EB%8B%A4%EB%A5%B4+%EB%9E%98%EC%89%AC%EA%B0%80%EB%93%9C&amp;sm=top_lve&amp;ie=utf8\" class=\"ah_a\" data-clk=\"lve.keyword\">\\n<span class=\"ah_r\">2</span>\\n<span class=\"ah_k\">안다르 래쉬가드</span>\\n</a>\\n<a href=\"http://datalab.naver.com/keyword/realtimeDetail.naver?datetime=2019-07-17T11:09:00&amp;query=%EC%95%88%EB%8B%A4%EB%A5%B4+%EB%9E%98%EC%89%AC%EA%B0%80%EB%93%9C&amp;where=main\" class=\"ah_da\" data-clk=\"lve.kwdhistory\">\\n<span class=\"blind\">데이터랩 그래프 보기</span>\\n<span class=\"ah_ico_datagraph\"></span>\\n</a>\\n</li>\\n<li class=\"ah_item\" data-order=\"3\">\\n<a href=\"http://search.naver.com/search.naver?where=nexearch&amp;query=%EC%9D%B8%ED%84%B0%ED%8C%8C%ED%81%AC+%EC%9D%B8%EC%83%9D%EB%82%A0&amp;sm=top_lve&amp;ie=utf8\" class=\"ah_a\" data-clk=\"lve.keyword\">\\n<span class=\"ah_r\">3</span>\\n<span class=\"ah_k\">인터파크 인생날</span>\\n</a>\\n<a href=\"http://datalab.naver.com/keyword/realtimeDetail.naver?datetime=2019-07-17T11:09:00&amp;query=%EC%9D%B8%ED%84%B0%ED%8C%8C%ED%81%AC+%EC%9D%B8%EC%83%9D%EB%82%A0&amp;where=main\" class=\"ah_da\" data-clk=\"lve.kwdhistory\">\\n<span class=\"blind\">데이터랩 그래프 보기</span>\\n<span class=\"ah_ico_datagraph\"></span>\\n</a>\\n</li>\\n<li class=\"ah_item\" data-order=\"4\">\\n<a href=\"http://search.naver.com/search.naver?where=nexearch&amp;query=%EC%A0%9C%ED%97%8C%EC%A0%88&amp;sm=top_lve&amp;ie=utf8\" class=\"ah_a\" data-clk=\"lve.keyword\">\\n<span class=\"ah_r\">4</span>\\n<span class=\"ah_k\">제헌절</span>\\n</a>\\n<a href=\"http://datalab.naver.com/keyword/realtimeDetail.naver?datetime=2019-07-17T11:09:00&amp;query=%EC%A0%9C%ED%97%8C%EC%A0%88&amp;where=main\" class=\"ah_da\" data-clk=\"lve.kwdhistory\">\\n<span class=\"blind\">데이터랩 그래프 보기</span>\\n<span class=\"ah_ico_datagraph\"></span>\\n</a>\\n</li>\\n<li class=\"ah_item\" data-order=\"5\">\\n<a href=\"http://search.naver.com/search.naver?where=nexearch&amp;query=%ED%83%9C%ED%92%8D&amp;sm=top_lve&amp;ie=utf8\" class=\"ah_a\" data-clk=\"lve.keyword\">\\n<span class=\"ah_r\">5</span>\\n<span class=\"ah_k\">태풍</span>\\n</a>\\n<a href=\"http://datalab.naver.com/keyword/realtimeDetail.naver?datetime=2019-07-17T11:09:00&amp;query=%ED%83%9C%ED%92%8D&amp;where=main\" class=\"ah_da\" data-clk=\"lve.kwdhistory\">\\n<span class=\"blind\">데이터랩 그래프 보기</span>\\n<span class=\"ah_ico_datagraph\"></span>\\n</a>\\n</li>\\n<li class=\"ah_item\" data-order=\"6\">\\n<a href=\"http://search.naver.com/search.naver?where=nexearch&amp;query=%EA%B9%80%EC%A4%80%EA%B8%B0+%ED%9A%8C%EC%9E%A5&amp;sm=top_lve&amp;ie=utf8\" class=\"ah_a\" data-clk=\"lve.keyword\">\\n<span class=\"ah_r\">6</span>\\n<span class=\"ah_k\">김준기 회장</span>\\n</a>\\n<a href=\"http://datalab.naver.com/keyword/realtimeDetail.naver?datetime=2019-07-17T11:09:00&amp;query=%EA%B9%80%EC%A4%80%EA%B8%B0+%ED%9A%8C%EC%9E%A5&amp;where=main\" class=\"ah_da\" data-clk=\"lve.kwdhistory\">\\n<span class=\"blind\">데이터랩 그래프 보기</span>\\n<span class=\"ah_ico_datagraph\"></span>\\n</a>\\n</li>\\n<li class=\"ah_item\" data-order=\"7\">\\n<a href=\"http://search.naver.com/search.naver?where=nexearch&amp;query=sbs+%EC%82%B4%EB%A7%9B%EB%82%98%EB%8A%94+%EC%98%A4%EB%8A%98&amp;sm=top_lve&amp;ie=utf8\" class=\"ah_a\" data-clk=\"lve.keyword\">\\n<span class=\"ah_r\">7</span>\\n<span class=\"ah_k\">sbs 살맛나는 오늘</span>\\n</a>\\n<a href=\"http://datalab.naver.com/keyword/realtimeDetail.naver?datetime=2019-07-17T11:09:00&amp;query=sbs+%EC%82%B4%EB%A7%9B%EB%82%98%EB%8A%94+%EC%98%A4%EB%8A%98&amp;where=main\" class=\"ah_da\" data-clk=\"lve.kwdhistory\">\\n<span class=\"blind\">데이터랩 그래프 보기</span>\\n<span class=\"ah_ico_datagraph\"></span>\\n</a>\\n</li>\\n<li class=\"ah_item\" data-order=\"8\">\\n<a href=\"http://search.naver.com/search.naver?where=nexearch&amp;query=%EC%B2%A8%EC%83%9D%EB%B2%95&amp;sm=top_lve&amp;ie=utf8\" class=\"ah_a\" data-clk=\"lve.keyword\">\\n<span class=\"ah_r\">8</span>\\n<span class=\"ah_k\">첨생법</span>\\n</a>\\n<a href=\"http://datalab.naver.com/keyword/realtimeDetail.naver?datetime=2019-07-17T11:09:00&amp;query=%EC%B2%A8%EC%83%9D%EB%B2%95&amp;where=main\" class=\"ah_da\" data-clk=\"lve.kwdhistory\">\\n<span class=\"blind\">데이터랩 그래프 보기</span>\\n<span class=\"ah_ico_datagraph\"></span>\\n</a>\\n</li>\\n<li class=\"ah_item\" data-order=\"9\">\\n<a href=\"http://search.naver.com/search.naver?where=nexearch&amp;query=%EC%95%84%EB%AA%A8%EB%A0%88%ED%8D%BC%EC%8B%9C%ED%94%BD%EB%AA%B0&amp;sm=top_lve&amp;ie=utf8\" class=\"ah_a\" data-clk=\"lve.keyword\">\\n<span class=\"ah_r\">9</span>\\n<span class=\"ah_k\">아모레퍼시픽몰</span>\\n</a>\\n<a href=\"http://datalab.naver.com/keyword/realtimeDetail.naver?datetime=2019-07-17T11:09:00&amp;query=%EC%95%84%EB%AA%A8%EB%A0%88%ED%8D%BC%EC%8B%9C%ED%94%BD%EB%AA%B0&amp;where=main\" class=\"ah_da\" data-clk=\"lve.kwdhistory\">\\n<span class=\"blind\">데이터랩 그래프 보기</span>\\n<span class=\"ah_ico_datagraph\"></span>\\n</a>\\n</li>\\n<li class=\"ah_item\" data-order=\"10\">\\n<a href=\"http://search.naver.com/search.naver?where=nexearch&amp;query=%EA%B9%80%EC%9C%A4%EC%A0%95&amp;sm=top_lve&amp;ie=utf8\" class=\"ah_a\" data-clk=\"lve.keyword\">\\n<span class=\"ah_r\">10</span>\\n<span class=\"ah_k\">김윤정</span>\\n</a>\\n<a href=\"http://datalab.naver.com/keyword/realtimeDetail.naver?datetime=2019-07-17T11:09:00&amp;query=%EA%B9%80%EC%9C%A4%EC%A0%95&amp;where=main\" class=\"ah_da\" data-clk=\"lve.kwdhistory\">\\n<span class=\"blind\">데이터랩 그래프 보기</span>\\n<span class=\"ah_ico_datagraph\"></span>\\n</a>\\n</li>\\n</ul>\\n<ul class=\"ah_l\" style=\"display:none;\" data-list=\"11to20\">\\n<li class=\"ah_item\" data-order=\"11\">\\n<a href=\"http://search.naver.com/search.naver?where=nexearch&amp;query=%EC%9E%A0%EB%A7%9D%EA%B2%BD&amp;sm=top_lve&amp;ie=utf8\" class=\"ah_a\" data-clk=\"lve.keyword\">\\n<span class=\"ah_r\">11</span>\\n<span class=\"ah_k\">잠망경</span>\\n</a>\\n<a href=\"http://datalab.naver.com/keyword/realtimeDetail.naver?datetime=2019-07-17T11:09:00&amp;query=%EC%9E%A0%EB%A7%9D%EA%B2%BD&amp;where=main\" class=\"ah_da\" data-clk=\"lve.kwdhistory\">\\n<span class=\"blind\">데이터랩 그래프 보기</span>\\n<span class=\"ah_ico_datagraph\"></span>\\n</a>\\n</li>\\n<li class=\"ah_item\" data-order=\"12\">\\n<a href=\"http://search.naver.com/search.naver?where=nexearch&amp;query=%ED%83%9C%ED%92%8D+%EB%8B%A4%EB%82%98%EC%8A%A4&amp;sm=top_lve&amp;ie=utf8\" class=\"ah_a\" data-clk=\"lve.keyword\">\\n<span class=\"ah_r\">12</span>\\n<span class=\"ah_k\">태풍 다나스</span>\\n</a>\\n<a href=\"http://datalab.naver.com/keyword/realtimeDetail.naver?datetime=2019-07-17T11:09:00&amp;query=%ED%83%9C%ED%92%8D+%EB%8B%A4%EB%82%98%EC%8A%A4&amp;where=main\" class=\"ah_da\" data-clk=\"lve.kwdhistory\">\\n<span class=\"blind\">데이터랩 그래프 보기</span>\\n<span class=\"ah_ico_datagraph\"></span>\\n</a>\\n</li>\\n<li class=\"ah_item\" data-order=\"13\">\\n<a href=\"http://search.naver.com/search.naver?where=nexearch&amp;query=%EC%86%90%EC%A7%84%EC%98%81&amp;sm=top_lve&amp;ie=utf8\" class=\"ah_a\" data-clk=\"lve.keyword\">\\n<span class=\"ah_r\">13</span>\\n<span class=\"ah_k\">손진영</span>\\n</a>\\n<a href=\"http://datalab.naver.com/keyword/realtimeDetail.naver?datetime=2019-07-17T11:09:00&amp;query=%EC%86%90%EC%A7%84%EC%98%81&amp;where=main\" class=\"ah_da\" data-clk=\"lve.kwdhistory\">\\n<span class=\"blind\">데이터랩 그래프 보기</span>\\n<span class=\"ah_ico_datagraph\"></span>\\n</a>\\n</li>\\n<li class=\"ah_item\" data-order=\"14\">\\n<a href=\"http://search.naver.com/search.naver?where=nexearch&amp;query=%EB%A1%9C%EC%8A%A4%ED%8A%B8%EC%95%84%ED%81%AC&amp;sm=top_lve&amp;ie=utf8\" class=\"ah_a\" data-clk=\"lve.keyword\">\\n<span class=\"ah_r\">14</span>\\n<span class=\"ah_k\">로스트아크</span>\\n</a>\\n<a href=\"http://datalab.naver.com/keyword/realtimeDetail.naver?datetime=2019-07-17T11:09:00&amp;query=%EB%A1%9C%EC%8A%A4%ED%8A%B8%EC%95%84%ED%81%AC&amp;where=main\" class=\"ah_da\" data-clk=\"lve.kwdhistory\">\\n<span class=\"blind\">데이터랩 그래프 보기</span>\\n<span class=\"ah_ico_datagraph\"></span>\\n</a>\\n</li>\\n<li class=\"ah_item\" data-order=\"15\">\\n<a href=\"http://search.naver.com/search.naver?where=nexearch&amp;query=%EC%95%84%EB%B3%B4%EC%B9%B4%EB%8F%84+%EC%98%A4%EC%9D%BC&amp;sm=top_lve&amp;ie=utf8\" class=\"ah_a\" data-clk=\"lve.keyword\">\\n<span class=\"ah_r\">15</span>\\n<span class=\"ah_k\">아보카도 오일</span>\\n</a>\\n<a href=\"http://datalab.naver.com/keyword/realtimeDetail.naver?datetime=2019-07-17T11:09:00&amp;query=%EC%95%84%EB%B3%B4%EC%B9%B4%EB%8F%84+%EC%98%A4%EC%9D%BC&amp;where=main\" class=\"ah_da\" data-clk=\"lve.kwdhistory\">\\n<span class=\"blind\">데이터랩 그래프 보기</span>\\n<span class=\"ah_ico_datagraph\"></span>\\n</a>\\n</li>\\n<li class=\"ah_item\" data-order=\"16\">\\n<a href=\"http://search.naver.com/search.naver?where=nexearch&amp;query=%EC%9D%BC%EC%82%B0+%EC%A1%B0%EC%84%A0%EC%B4%88%EA%B0%80%ED%95%9C%EB%81%BC&amp;sm=top_lve&amp;ie=utf8\" class=\"ah_a\" data-clk=\"lve.keyword\">\\n<span class=\"ah_r\">16</span>\\n<span class=\"ah_k\">일산 조선초가한끼</span>\\n</a>\\n<a href=\"http://datalab.naver.com/keyword/realtimeDetail.naver?datetime=2019-07-17T11:09:00&amp;query=%EC%9D%BC%EC%82%B0+%EC%A1%B0%EC%84%A0%EC%B4%88%EA%B0%80%ED%95%9C%EB%81%BC&amp;where=main\" class=\"ah_da\" data-clk=\"lve.kwdhistory\">\\n<span class=\"blind\">데이터랩 그래프 보기</span>\\n<span class=\"ah_ico_datagraph\"></span>\\n</a>\\n</li>\\n<li class=\"ah_item\" data-order=\"17\">\\n<a href=\"http://search.naver.com/search.naver?where=nexearch&amp;query=%EC%9D%B4%EC%95%84%EC%9D%B4%EB%94%94&amp;sm=top_lve&amp;ie=utf8\" class=\"ah_a\" data-clk=\"lve.keyword\">\\n<span class=\"ah_r\">17</span>\\n<span class=\"ah_k\">이아이디</span>\\n</a>\\n<a href=\"http://datalab.naver.com/keyword/realtimeDetail.naver?datetime=2019-07-17T11:09:00&amp;query=%EC%9D%B4%EC%95%84%EC%9D%B4%EB%94%94&amp;where=main\" class=\"ah_da\" data-clk=\"lve.kwdhistory\">\\n<span class=\"blind\">데이터랩 그래프 보기</span>\\n<span class=\"ah_ico_datagraph\"></span>\\n</a>\\n</li>\\n<li class=\"ah_item\" data-order=\"18\">\\n<a href=\"http://search.naver.com/search.naver?where=nexearch&amp;query=%EB%AE%AC%EB%9D%BC%EC%9B%A8%EC%96%B4&amp;sm=top_lve&amp;ie=utf8\" class=\"ah_a\" data-clk=\"lve.keyword\">\\n<span class=\"ah_r\">18</span>\\n<span class=\"ah_k\">뮬라웨어</span>\\n</a>\\n<a href=\"http://datalab.naver.com/keyword/realtimeDetail.naver?datetime=2019-07-17T11:09:00&amp;query=%EB%AE%AC%EB%9D%BC%EC%9B%A8%EC%96%B4&amp;where=main\" class=\"ah_da\" data-clk=\"lve.kwdhistory\">\\n<span class=\"blind\">데이터랩 그래프 보기</span>\\n<span class=\"ah_ico_datagraph\"></span>\\n</a>\\n</li>\\n<li class=\"ah_item\" data-order=\"19\">\\n<a href=\"http://search.naver.com/search.naver?where=nexearch&amp;query=%EB%AF%B8%EC%8A%A4%EC%BD%94%EB%A6%AC%EC%95%84+%ED%95%9C%EB%B3%B5&amp;sm=top_lve&amp;ie=utf8\" class=\"ah_a\" data-clk=\"lve.keyword\">\\n<span class=\"ah_r\">19</span>\\n<span class=\"ah_k\">미스코리아 한복</span>\\n</a>\\n<a href=\"http://datalab.naver.com/keyword/realtimeDetail.naver?datetime=2019-07-17T11:09:00&amp;query=%EB%AF%B8%EC%8A%A4%EC%BD%94%EB%A6%AC%EC%95%84+%ED%95%9C%EB%B3%B5&amp;where=main\" class=\"ah_da\" data-clk=\"lve.kwdhistory\">\\n<span class=\"blind\">데이터랩 그래프 보기</span>\\n<span class=\"ah_ico_datagraph\"></span>\\n</a>\\n</li>\\n<li class=\"ah_item\" data-order=\"20\">\\n<a href=\"http://search.naver.com/search.naver?where=nexearch&amp;query=2019%EB%85%84+%ED%83%9C%ED%92%8D&amp;sm=top_lve&amp;ie=utf8\" class=\"ah_a\" data-clk=\"lve.keyword\">\\n<span class=\"ah_r\">20</span>\\n<span class=\"ah_k\">2019년 태풍</span>\\n</a>\\n<a href=\"http://datalab.naver.com/keyword/realtimeDetail.naver?datetime=2019-07-17T11:09:00&amp;query=2019%EB%85%84+%ED%83%9C%ED%92%8D&amp;where=main\" class=\"ah_da\" data-clk=\"lve.kwdhistory\">\\n<span class=\"blind\">데이터랩 그래프 보기</span>\\n<span class=\"ah_ico_datagraph\"></span>\\n</a>\\n</li>\\n</ul>\\n<p class=\"ah_time\" data-time=\"20190717110900\">2019.07.17. 11:09:00 기준 <a href=\"http://help.naver.com/support/alias/search/word/word_5.naver\" class=\"ah_btn_help\" data-clk=\"lve.help\"><span class=\"ah_ico_help\"></span><span class=\"blind\">도움말</span></a></p>\\n</div>\\n\\t\\t</div>\\n\\t</div>\\n\\n</div>\\n<!-- //헤더 -->\\n<div style=\"position:relative;width:1080px;margin:0 auto;z-index:11\">\\n\\t<div id=\"da_top\"></div>\\n\\t<div id=\"da_brand\" style=\"position: absolute; width: 332px; height: 150px; left: 748px; top: 285px; z-index: 0;\">\\n    <div class=\"rb_push is_animated\" data-role=\"pushWrapper\">\\n    <a href=\"https://nv.veta.naver.com/fxclick?eu=EU10000119&amp;calp=-&amp;oj=bbC87fref33rj2dgUP792i8DebIgLRtqkIQ2qvSSMHqnJViOKgpyjvW1YEqVwubmAQMCMuhPEN0KAnAEllSbwWXiLwwoM2pzlWkk9I6QY6k&amp;ac=7887010&amp;src=3914080&amp;br=2931189&amp;evtcd=P901&amp;x_ti=969&amp;tb=&amp;oid=&amp;sid1=&amp;sid2=&amp;rk=e471aa320273f0c061552b3a7c033546&amp;eltts=VbbgWeV3cxHdhr56M%2FERpw%3D%3D&amp;lu=&amp;brs=Y&amp;\" target=\"_blank\" class=\"rp_push_a\">\\n        <div class=\"rp_thumb_wrap\">\\n            <img class=\"rp_thumb\" src=\"https://ssl.pstatic.net/tveta/libs/1237/1237430/c1e9ab0e383b9912034f_20190627163634526.png\" width=\"116\" height=\"116\" alt=\"\">\\n        </div>\\n        <div class=\"rp_text_wrap\">\\n            <em class=\"rp_title\">유니클로 파이널 세일</em>\\n            <p class=\"rp_dsc\">\\n                <span class=\"rp_dsc_line\">여름 필수 아이템을</span>\\n                <span class=\"rp_dsc_line\">특별가격으로 만나볼 기회</span>\\n            </p>\\n            <span class=\"rp_link_buy\">구매하기</span>\\n        </div>\\n        <div class=\"rp_label_wrap\">\\n            <img class=\"rp_label_ad\" src=\"https://ssl.pstatic.net/tveta/libs/res/www/rollingboard/push/img/ad.png\" width=\"27\" height=\"16\" alt=\"AD\" aria-label=\"광고\">\\n            <span class=\"rp_label_client\">유니클로</span>\\n        </div>\\n    </a>\\n</div>\\n</div>\\n\\t<div id=\"da_stake\"></div>\\n\\t<div id=\"da_expwide\"></div>\\n</div>\\n\\n\\n\\t\\t<div class=\"container\" role=\"main\">\\n\\t\\t\\t<div class=\"column_left\">\\n\\t<!-- AD TOP -->\\n\\t<div id=\"veta_top\">\\n\\t\\t<iframe id=\"da_iframe_time\" name=\"da_iframe_time\" src=\"https://nv.veta.naver.com/fxshow?su=SU10079&amp;nrefreshx=0\" data-veta-preview=\"main_time\" title=\"광고\" width=\"740\" height=\"120\" marginheight=\"0\" marginwidth=\"0\" scrolling=\"no\" frameborder=\"0\"></iframe>\\n\\t\\t<div class=\"veta_bdt\"></div><div class=\"veta_bdr\"></div><div class=\"veta_bdb\"></div><div class=\"veta_bdl\"></div>\\n\\t</div>\\n\\t<!-- //AD TOP -->\\n\\n\\t<!-- 뉴스캐스트 -->\\n    \\n    \\n\\n    \\n\\n    \\n\\n    \\n    \\t\\n    <div id=\"news_cast\" class=\"section_newscast\">\\n        <div class=\"area_newstop\">\\n            <div class=\"cast_flash\">\\n                <h3 class=\"cf_tit\">\\n                    <a href=\"http://news.naver.com/main/list.nhn?mode=LPOD&amp;mid=sec&amp;sid1=001&amp;sid2=140&amp;oid=001&amp;isYeonhapFlash=Y\" data-clk=\"ncy.newsflash\" class=\"cf_ta\">연합뉴스<span class=\"cf_ico_link\"></span></a>\\n                </h3>\\n                <div class=\"cast_atc _PM_newsstand_rolling\" queryid=\"C1563329348236140076\">\\n                    <ol class=\"ca_l\" queryid=\"C1563329385343332649\">\\n\\t\\t\\t\\t\\t\\t<li class=\"ca_item\"><a href=\"http://news.naver.com/main/list.nhn?mode=LPOD&amp;mid=sec&amp;sid1=001&amp;sid2=140&amp;oid=001&amp;isYeonhapFlash=Y&amp;aid=0010958671\" class=\"ca_a\" data-clk=\"ncy.quickarticle\">\\'타다\\' 등 플랫폼 사업 합법화…사업규모 따라 기여금 내야</a></li>\\n<li class=\"ca_item\"><a href=\"http://news.naver.com/main/list.nhn?mode=LPOD&amp;mid=sec&amp;sid1=001&amp;sid2=140&amp;oid=001&amp;isYeonhapFlash=Y&amp;aid=0010959095\" class=\"ca_a\" data-clk=\"ncy.quickarticle\">日 트집 \\'캐치올 제도\\' 한국 더 엄격…국장급 협의 촉구 서한</a></li>\\n<li class=\"ca_item\"><a href=\"http://news.naver.com/main/list.nhn?mode=LPOD&amp;mid=sec&amp;sid1=001&amp;sid2=140&amp;oid=001&amp;isYeonhapFlash=Y&amp;aid=0010958895\" class=\"ca_a\" data-clk=\"ncy.quickarticle\">합참 \"서해서 잠망경 추정 물체 발견 신고…확인중\"</a></li>\\n<li class=\"ca_item\"><a href=\"http://news.naver.com/main/list.nhn?mode=LPOD&amp;mid=sec&amp;sid1=001&amp;sid2=140&amp;oid=001&amp;isYeonhapFlash=Y&amp;aid=0010959077\" class=\"ca_a\" data-clk=\"ncy.quickarticle\">분양가 상한제 놓고 \\'파열음\\'…黨 \\'신중모드\\' 政 \\'의욕추진\\'</a></li>\\n<li class=\"ca_item\"><a href=\"http://news.naver.com/main/list.nhn?mode=LPOD&amp;mid=sec&amp;sid1=001&amp;sid2=140&amp;oid=001&amp;isYeonhapFlash=Y&amp;aid=0010958764\" class=\"ca_a\" data-clk=\"ncy.quickarticle\">동물보건사 등 청년 新직업 키운다…대기업도 선취업 후장학금</a></li>\\n<li class=\"ca_item\"><a href=\"http://news.naver.com/main/list.nhn?mode=LPOD&amp;mid=sec&amp;sid1=001&amp;sid2=140&amp;oid=001&amp;isYeonhapFlash=Y&amp;aid=0010958726\" class=\"ca_a\" data-clk=\"ncy.quickarticle\">경찰, 故정두언 전 의원 부검 않기로…\"유족 뜻 존중\"</a></li>\\n<li class=\"ca_item\"><a href=\"http://news.naver.com/main/list.nhn?mode=LPOD&amp;mid=sec&amp;sid1=001&amp;sid2=140&amp;oid=001&amp;isYeonhapFlash=Y&amp;aid=0010958755\" class=\"ca_a\" data-clk=\"ncy.quickarticle\">\"류현진, FA 랭킹 7위…리치 힐과 비슷한 계약 예상\"</a></li>\\n<li class=\"ca_item\"><a href=\"http://news.naver.com/main/list.nhn?mode=LPOD&amp;mid=sec&amp;sid1=001&amp;sid2=140&amp;oid=001&amp;isYeonhapFlash=Y&amp;aid=0010959072\" class=\"ca_a\" data-clk=\"ncy.quickarticle\">\\'아내 골프채 살해\\' 전 김포시의회 의장, 고의성 부인</a></li>\\n<li class=\"ca_item\"><a href=\"http://news.naver.com/main/list.nhn?mode=LPOD&amp;mid=sec&amp;sid1=001&amp;sid2=140&amp;oid=001&amp;isYeonhapFlash=Y&amp;aid=0010958765\" class=\"ca_a\" data-clk=\"ncy.quickarticle\">코리아세일페스타, \\'블프·광군제\\'에 맞불…개최시기 11월 이동</a></li>\\n<li class=\"ca_item\"><a href=\"http://news.naver.com/main/list.nhn?mode=LPOD&amp;mid=sec&amp;sid1=001&amp;sid2=140&amp;oid=001&amp;isYeonhapFlash=Y&amp;aid=0010958959\" class=\"ca_a\" data-clk=\"ncy.quickarticle\">\"뛰어내려 죽어라\" 강요한 폭행학생들 \"사회봉사 몇시간하면 돼\"</a></li>\\n                    <li class=\"ca_item\"><a href=\"http://news.naver.com/main/list.nhn?mode=LPOD&amp;mid=sec&amp;sid1=001&amp;sid2=140&amp;oid=001&amp;isYeonhapFlash=Y&amp;aid=0010958671\" class=\"ca_a\" data-clk=\"ncy.quickarticle\">\\'타다\\' 등 플랫폼 사업 합법화…사업규모 따라 기여금 내야</a></li></ol>\\n                </div>\\n            </div>\\n            <ul class=\"cast_link\">\\n\\t\\t\\t\\t<li class=\"cl_item\">\\n<a href=\"http://news.naver.com/\" class=\"cl_a cl_news\" data-clk=\"ncy.newshome\">\\n네이버뉴스</a>\\n</li>\\n<li class=\"cl_item\">\\n<a href=\"http://entertain.naver.com/home\" class=\"cl_a cl_ent\" data-clk=\"ncy.entertainment\">\\n연예</a>\\n</li>\\n<li class=\"cl_item\">\\n<a href=\"http://sports.news.naver.com/\" class=\"cl_a cl_sports\" data-clk=\"ncy.sports\">\\n스포츠</a>\\n</li>\\n<li class=\"cl_item\">\\n<a href=\"http://news.naver.com/main/main.nhn?mode=LSD&amp;mid=shm&amp;sid1=101\" class=\"cl_a cl_finance\" data-clk=\"ncy.economy\">\\n경제</a>\\n</li>\\n            </ul>\\n        </div>\\n        <div class=\"area_newsstand\" queryid=\"C1563329378280660130\">\\n            <div class=\"an_menulist\">\\n\\t\\t\\t\\t<h3 class=\"an_tit\">\\n\\t\\t\\t\\t\\t<a href=\"http://newsstand.naver.com/\" class=\"an_ta\" target=\"_blank\" data-clk=\"nsd.title\">뉴스스탠드<span class=\"an_ico_link\"></span></a>\\n\\t\\t\\t\\t</h3>\\n                <div class=\"an_menulist_section1\">\\n                    <div class=\"an_sort\" role=\"tablist\">\\n                        <a class=\"as_btn_press _PM_newsstand_total_type is_selected\" href=\"#\" role=\"tab\" aria-selected=\"true\" data-clk=\"nsd.all\">전체 언론사</a>\\n                        <span class=\"as_bar\" role=\"presentation\"></span>\\n                        <a class=\"as_btn_my _PM_newsstand_my_type\" href=\"#\" role=\"tab\" aria-selected=\"false\" data-clk=\"nsd.my\">MY 뉴스</a>\\n                    </div>\\n                </div>\\n                <div class=\"an_menulist_section2\" style=\"display: block;\">\\n                    <div class=\"an_sort2\" role=\"tablist\">\\n                        <a class=\"as2_btn _PM_newsstand_thumb_type is_selected\" href=\"#\" role=\"tab\" aria-selected=\"true\" data-clk=\"nsd.pressview\"><i class=\"as2_btn_ico ico_image\"></i><span class=\"blind\">이미지형</span></a>\\n                        <a class=\"as2_btn _PM_newsstand_list_type\" href=\"#\" role=\"tab\" aria-selected=\"false\" data-clk=\"nsd.articleview\"><i class=\"as2_btn_ico ico_list\"></i><span class=\"blind\">리스트형</span></a>\\n                        <a class=\"as2_btn\" href=\"http://newsstand.naver.com/config.html\" data-clk=\"nsd.set\" target=\"_blank\"><i class=\"as2_btn_ico ico_setting\"></i><span class=\"blind\">설정</span></a>\\n                    </div>\\n                    <ul class=\"an_paging\">\\n                        <li class=\"ap_list\"><a class=\"ap_btn _PM_newsstand_prev\" href=\"#\" data-clk=\"nsd.prev\"><i class=\"ap_btn_ico ico_left\"></i><span class=\"blind\">이전 페이지</span></a></li>\\n                        <li class=\"ap_list\"><a class=\"ap_btn _PM_newsstand_next\" href=\"#\" data-clk=\"nsd.next\"><i class=\"ap_btn_ico ico_right\"></i><span class=\"blind\">다음 페이지</span></a></li>\\n                    </ul>\\n                </div>\\n            </div>\\n            <div class=\"an_panel_image _PM_newsstand_thumb\" role=\"tabpanel\" queryid=\"C1563329348238294226\" style=\"display: block;\">\\n                <div class=\"api_list_wrap\">\\n                    <h3><span class=\"blind\">언론사 목록</span></h3>\\n                    <div class=\"flick-view\">\\n                        <div class=\"flick-container\">\\n                            <div class=\"flick-panel\">\\n                                <ul class=\"api_list\"><li id=\"NS_015\" class=\"api_item\" data-pid=\"015\"><a href=\"http://newsstand.naver.com/?list=&amp;pcode=015\" class=\"api_link\" aria-haspopup=\"true\" target=\"_blank\"><img src=\"https://s.pstatic.net/static/newsstand/up/2017/0424/nsd172736175.png\" height=\"24\" alt=\"한국경제\" class=\"api_logo\"></a><div class=\"api_popup_btn_set\" role=\"alertdialog\"><div class=\"api_pbs_inner\">\\n\\t<a href=\"#\" class=\"api_pbs_btn _PM_newsstand_subscribe\" role=\"button\" data-pid=\"015\" data-clk=\"nsd_all*p.sub\" style=\"display: inline-block;\">구독</a>\\n\\t<a href=\"#\" class=\"api_pbs_btn _PM_newsstand_unsubscribe\" role=\"button\" data-pid=\"015\" data-clk=\"nsd_myn*p.sub\" style=\"display: none;\">해지</a>\\n\\t<a href=\"http://newsstand.naver.com/?list=&amp;pcode=015\" class=\"api_pbs_btn api_pbs_lb\" role=\"button\" target=\"_blank\" data-custom-clk=\"nsd_all*p.logo\">기사보기</a></div></div></li><li id=\"NS_422\" class=\"api_item\" data-pid=\"422\"><a href=\"http://newsstand.naver.com/?list=&amp;pcode=422\" class=\"api_link\" aria-haspopup=\"true\" target=\"_blank\"><img src=\"https://s.pstatic.net/static/newsstand/up/2017/0424/nsd154219877.png\" height=\"24\" alt=\"연합뉴스TV\" class=\"api_logo\"></a><div class=\"api_popup_btn_set\" role=\"alertdialog\"><div class=\"api_pbs_inner\">\\n\\t<a href=\"#\" class=\"api_pbs_btn _PM_newsstand_subscribe\" role=\"button\" data-pid=\"422\" data-clk=\"nsd_all*p.sub\" style=\"display: inline-block;\">구독</a>\\n\\t<a href=\"#\" class=\"api_pbs_btn _PM_newsstand_unsubscribe\" role=\"button\" data-pid=\"422\" data-clk=\"nsd_myn*p.sub\" style=\"display: none;\">해지</a>\\n\\t<a href=\"http://newsstand.naver.com/?list=&amp;pcode=422\" class=\"api_pbs_btn api_pbs_lb\" role=\"button\" target=\"_blank\" data-custom-clk=\"nsd_all*p.logo\">기사보기</a></div></div></li><li id=\"NS_023\" class=\"api_item\" data-pid=\"023\"><a href=\"http://newsstand.naver.com/?list=&amp;pcode=023\" class=\"api_link\" aria-haspopup=\"true\" target=\"_blank\"><img src=\"https://s.pstatic.net/static/newsstand/up/2017/0424/nsd162718792.png\" height=\"24\" alt=\"조선일보\" class=\"api_logo\"></a><div class=\"api_popup_btn_set\" role=\"alertdialog\"><div class=\"api_pbs_inner\">\\n\\t<a href=\"#\" class=\"api_pbs_btn _PM_newsstand_subscribe\" role=\"button\" data-pid=\"023\" data-clk=\"nsd_all*p.sub\" style=\"display: inline-block;\">구독</a>\\n\\t<a href=\"#\" class=\"api_pbs_btn _PM_newsstand_unsubscribe\" role=\"button\" data-pid=\"023\" data-clk=\"nsd_myn*p.sub\" style=\"display: none;\">해지</a>\\n\\t<a href=\"http://newsstand.naver.com/?list=&amp;pcode=023\" class=\"api_pbs_btn api_pbs_lb\" role=\"button\" target=\"_blank\" data-custom-clk=\"nsd_all*p.logo\">기사보기</a></div></div></li><li id=\"NS_366\" class=\"api_item\" data-pid=\"366\"><a href=\"http://newsstand.naver.com/?list=&amp;pcode=366\" class=\"api_link\" aria-haspopup=\"true\" target=\"_blank\"><img src=\"https://s.pstatic.net/static/newsstand/up/2017/0424/nsd162659528.png\" height=\"24\" alt=\"조선비즈\" class=\"api_logo\"></a><div class=\"api_popup_btn_set\" role=\"alertdialog\"><div class=\"api_pbs_inner\">\\n\\t<a href=\"#\" class=\"api_pbs_btn _PM_newsstand_subscribe\" role=\"button\" data-pid=\"366\" data-clk=\"nsd_all*p.sub\" style=\"display: inline-block;\">구독</a>\\n\\t<a href=\"#\" class=\"api_pbs_btn _PM_newsstand_unsubscribe\" role=\"button\" data-pid=\"366\" data-clk=\"nsd_myn*p.sub\" style=\"display: none;\">해지</a>\\n\\t<a href=\"http://newsstand.naver.com/?list=&amp;pcode=366\" class=\"api_pbs_btn api_pbs_lb\" role=\"button\" target=\"_blank\" data-custom-clk=\"nsd_all*p.logo\">기사보기</a></div></div></li><li id=\"NS_308\" class=\"api_item\" data-pid=\"308\"><a href=\"http://newsstand.naver.com/?list=&amp;pcode=308\" class=\"api_link\" aria-haspopup=\"true\" target=\"_blank\"><img src=\"https://s.pstatic.net/static/newsstand/up/2017/0424/nsd151929775.png\" height=\"24\" alt=\"시사인\" class=\"api_logo\"></a><div class=\"api_popup_btn_set\" role=\"alertdialog\"><div class=\"api_pbs_inner\">\\n\\t<a href=\"#\" class=\"api_pbs_btn _PM_newsstand_subscribe\" role=\"button\" data-pid=\"308\" data-clk=\"nsd_all*p.sub\" style=\"display: inline-block;\">구독</a>\\n\\t<a href=\"#\" class=\"api_pbs_btn _PM_newsstand_unsubscribe\" role=\"button\" data-pid=\"308\" data-clk=\"nsd_myn*p.sub\" style=\"display: none;\">해지</a>\\n\\t<a href=\"http://newsstand.naver.com/?list=&amp;pcode=308\" class=\"api_pbs_btn api_pbs_lb\" role=\"button\" target=\"_blank\" data-custom-clk=\"nsd_all*p.logo\">기사보기</a></div></div></li><li id=\"NS_044\" class=\"api_item\" data-pid=\"044\"><a href=\"http://newsstand.naver.com/?list=&amp;pcode=044\" class=\"api_link\" aria-haspopup=\"true\" target=\"_blank\"><img src=\"https://s.pstatic.net/static/newsstand/up/2017/0424/nsd17341942.png\" height=\"24\" alt=\"코리아헤럴드\" class=\"api_logo\"></a><div class=\"api_popup_btn_set\" role=\"alertdialog\"><div class=\"api_pbs_inner\">\\n\\t<a href=\"#\" class=\"api_pbs_btn _PM_newsstand_subscribe\" role=\"button\" data-pid=\"044\" data-clk=\"nsd_all*p.sub\" style=\"display: inline-block;\">구독</a>\\n\\t<a href=\"#\" class=\"api_pbs_btn _PM_newsstand_unsubscribe\" role=\"button\" data-pid=\"044\" data-clk=\"nsd_myn*p.sub\" style=\"display: none;\">해지</a>\\n\\t<a href=\"http://newsstand.naver.com/?list=&amp;pcode=044\" class=\"api_pbs_btn api_pbs_lb\" role=\"button\" target=\"_blank\" data-custom-clk=\"nsd_all*p.logo\">기사보기</a></div></div></li><li id=\"NS_330\" class=\"api_item\" data-pid=\"330\"><a href=\"http://newsstand.naver.com/?list=&amp;pcode=330\" class=\"api_link\" aria-haspopup=\"true\" target=\"_blank\"><img src=\"https://s.pstatic.net/static/newsstand/up/2018/0626/nsd103519292.png\" height=\"24\" alt=\"중앙데일리\" class=\"api_logo\"></a><div class=\"api_popup_btn_set\" role=\"alertdialog\"><div class=\"api_pbs_inner\">\\n\\t<a href=\"#\" class=\"api_pbs_btn _PM_newsstand_subscribe\" role=\"button\" data-pid=\"330\" data-clk=\"nsd_all*p.sub\" style=\"display: inline-block;\">구독</a>\\n\\t<a href=\"#\" class=\"api_pbs_btn _PM_newsstand_unsubscribe\" role=\"button\" data-pid=\"330\" data-clk=\"nsd_myn*p.sub\" style=\"display: none;\">해지</a>\\n\\t<a href=\"http://newsstand.naver.com/?list=&amp;pcode=330\" class=\"api_pbs_btn api_pbs_lb\" role=\"button\" target=\"_blank\" data-custom-clk=\"nsd_all*p.logo\">기사보기</a></div></div></li><li id=\"NS_009\" class=\"api_item\" data-pid=\"009\"><a href=\"http://newsstand.naver.com/?list=&amp;pcode=009\" class=\"api_link\" aria-haspopup=\"true\" target=\"_blank\"><img src=\"https://s.pstatic.net/static/newsstand/up/2017/0424/nsd145032565.png\" height=\"24\" alt=\"매일경제\" class=\"api_logo\"></a><div class=\"api_popup_btn_set\" role=\"alertdialog\"><div class=\"api_pbs_inner\">\\n\\t<a href=\"#\" class=\"api_pbs_btn _PM_newsstand_subscribe\" role=\"button\" data-pid=\"009\" data-clk=\"nsd_all*p.sub\" style=\"display: inline-block;\">구독</a>\\n\\t<a href=\"#\" class=\"api_pbs_btn _PM_newsstand_unsubscribe\" role=\"button\" data-pid=\"009\" data-clk=\"nsd_myn*p.sub\" style=\"display: none;\">해지</a>\\n\\t<a href=\"http://newsstand.naver.com/?list=&amp;pcode=009\" class=\"api_pbs_btn api_pbs_lb\" role=\"button\" target=\"_blank\" data-custom-clk=\"nsd_all*p.logo\">기사보기</a></div></div></li><li id=\"NS_003\" class=\"api_item\" data-pid=\"003\"><a href=\"http://newsstand.naver.com/?list=&amp;pcode=003\" class=\"api_link\" aria-haspopup=\"true\" target=\"_blank\"><img src=\"https://s.pstatic.net/static/newsstand/up/2017/0424/nsd14449981.png\" height=\"24\" alt=\"뉴시스\" class=\"api_logo\"></a><div class=\"api_popup_btn_set\" role=\"alertdialog\"><div class=\"api_pbs_inner\">\\n\\t<a href=\"#\" class=\"api_pbs_btn _PM_newsstand_subscribe\" role=\"button\" data-pid=\"003\" data-clk=\"nsd_all*p.sub\" style=\"display: inline-block;\">구독</a>\\n\\t<a href=\"#\" class=\"api_pbs_btn _PM_newsstand_unsubscribe\" role=\"button\" data-pid=\"003\" data-clk=\"nsd_myn*p.sub\" style=\"display: none;\">해지</a>\\n\\t<a href=\"http://newsstand.naver.com/?list=&amp;pcode=003\" class=\"api_pbs_btn api_pbs_lb\" role=\"button\" target=\"_blank\" data-custom-clk=\"nsd_all*p.logo\">기사보기</a></div></div></li><li id=\"NS_109\" class=\"api_item\" data-pid=\"109\"><a href=\"http://newsstand.naver.com/?list=&amp;pcode=109\" class=\"api_link\" aria-haspopup=\"true\" target=\"_blank\"><img src=\"https://s.pstatic.net/static/newsstand/up/2017/0424/nsd17338859.png\" height=\"24\" alt=\"OSEN\" class=\"api_logo\"></a><div class=\"api_popup_btn_set\" role=\"alertdialog\"><div class=\"api_pbs_inner\">\\n\\t<a href=\"#\" class=\"api_pbs_btn _PM_newsstand_subscribe\" role=\"button\" data-pid=\"109\" data-clk=\"nsd_all*p.sub\" style=\"display: inline-block;\">구독</a>\\n\\t<a href=\"#\" class=\"api_pbs_btn _PM_newsstand_unsubscribe\" role=\"button\" data-pid=\"109\" data-clk=\"nsd_myn*p.sub\" style=\"display: none;\">해지</a>\\n\\t<a href=\"http://newsstand.naver.com/?list=&amp;pcode=109\" class=\"api_pbs_btn api_pbs_lb\" role=\"button\" target=\"_blank\" data-custom-clk=\"nsd_all*p.logo\">기사보기</a></div></div></li><li id=\"NS_029\" class=\"api_item\" data-pid=\"029\"><a href=\"http://newsstand.naver.com/?list=&amp;pcode=029\" class=\"api_link\" aria-haspopup=\"true\" target=\"_blank\"><img src=\"https://s.pstatic.net/static/newsstand/up/2018/0719/nsd162516824.png\" height=\"24\" alt=\"디지털타임스\" class=\"api_logo\"></a><div class=\"api_popup_btn_set\" role=\"alertdialog\"><div class=\"api_pbs_inner\">\\n\\t<a href=\"#\" class=\"api_pbs_btn _PM_newsstand_subscribe\" role=\"button\" data-pid=\"029\" data-clk=\"nsd_all*p.sub\" style=\"display: inline-block;\">구독</a>\\n\\t<a href=\"#\" class=\"api_pbs_btn _PM_newsstand_unsubscribe\" role=\"button\" data-pid=\"029\" data-clk=\"nsd_myn*p.sub\" style=\"display: none;\">해지</a>\\n\\t<a href=\"http://newsstand.naver.com/?list=&amp;pcode=029\" class=\"api_pbs_btn api_pbs_lb\" role=\"button\" target=\"_blank\" data-custom-clk=\"nsd_all*p.logo\">기사보기</a></div></div></li><li id=\"NS_008\" class=\"api_item\" data-pid=\"008\"><a href=\"http://newsstand.naver.com/?list=&amp;pcode=008\" class=\"api_link\" aria-haspopup=\"true\" target=\"_blank\"><img src=\"https://s.pstatic.net/static/newsstand/up/2017/0424/nsd145214517.png\" height=\"24\" alt=\"머니투데이\" class=\"api_logo\"></a><div class=\"api_popup_btn_set\" role=\"alertdialog\"><div class=\"api_pbs_inner\">\\n\\t<a href=\"#\" class=\"api_pbs_btn _PM_newsstand_subscribe\" role=\"button\" data-pid=\"008\" data-clk=\"nsd_all*p.sub\" style=\"display: inline-block;\">구독</a>\\n\\t<a href=\"#\" class=\"api_pbs_btn _PM_newsstand_unsubscribe\" role=\"button\" data-pid=\"008\" data-clk=\"nsd_myn*p.sub\" style=\"display: none;\">해지</a>\\n\\t<a href=\"http://newsstand.naver.com/?list=&amp;pcode=008\" class=\"api_pbs_btn api_pbs_lb\" role=\"button\" target=\"_blank\" data-custom-clk=\"nsd_all*p.logo\">기사보기</a></div></div></li><li id=\"NS_944\" class=\"api_item\" data-pid=\"944\"><a href=\"http://newsstand.naver.com/?list=&amp;pcode=944\" class=\"api_link\" aria-haspopup=\"true\" target=\"_blank\"><img src=\"https://s.pstatic.net/static/newsstand/up/2017/0424/nsd14392079.png\" height=\"24\" alt=\"나우뉴스\" class=\"api_logo\"></a><div class=\"api_popup_btn_set\" role=\"alertdialog\"><div class=\"api_pbs_inner\">\\n\\t<a href=\"#\" class=\"api_pbs_btn _PM_newsstand_subscribe\" role=\"button\" data-pid=\"944\" data-clk=\"nsd_all*p.sub\" style=\"display: inline-block;\">구독</a>\\n\\t<a href=\"#\" class=\"api_pbs_btn _PM_newsstand_unsubscribe\" role=\"button\" data-pid=\"944\" data-clk=\"nsd_myn*p.sub\" style=\"display: none;\">해지</a>\\n\\t<a href=\"http://newsstand.naver.com/?list=&amp;pcode=944\" class=\"api_pbs_btn api_pbs_lb\" role=\"button\" target=\"_blank\" data-custom-clk=\"nsd_all*p.logo\">기사보기</a></div></div></li><li id=\"NS_955\" class=\"api_item\" data-pid=\"955\"><a href=\"http://newsstand.naver.com/?list=&amp;pcode=955\" class=\"api_link\" aria-haspopup=\"true\" target=\"_blank\"><img src=\"https://s.pstatic.net/static/newsstand/up/2019/0207/nsd141354748.png\" height=\"24\" alt=\"독서신문\" class=\"api_logo\"></a><div class=\"api_popup_btn_set\" role=\"alertdialog\"><div class=\"api_pbs_inner\">\\n\\t<a href=\"#\" class=\"api_pbs_btn _PM_newsstand_subscribe\" role=\"button\" data-pid=\"955\" data-clk=\"nsd_all*p.sub\" style=\"display: inline-block;\">구독</a>\\n\\t<a href=\"#\" class=\"api_pbs_btn _PM_newsstand_unsubscribe\" role=\"button\" data-pid=\"955\" data-clk=\"nsd_myn*p.sub\" style=\"display: none;\">해지</a>\\n\\t<a href=\"http://newsstand.naver.com/?list=&amp;pcode=955\" class=\"api_pbs_btn api_pbs_lb\" role=\"button\" target=\"_blank\" data-custom-clk=\"nsd_all*p.logo\">기사보기</a></div></div></li><li id=\"NS_143\" class=\"api_item\" data-pid=\"143\"><a href=\"http://newsstand.naver.com/?list=&amp;pcode=143\" class=\"api_link\" aria-haspopup=\"true\" target=\"_blank\"><img src=\"https://s.pstatic.net/static/newsstand/up/2017/0424/nsd172415111.png\" height=\"24\" alt=\"쿠키뉴스\" class=\"api_logo\"></a><div class=\"api_popup_btn_set\" role=\"alertdialog\"><div class=\"api_pbs_inner\">\\n\\t<a href=\"#\" class=\"api_pbs_btn _PM_newsstand_subscribe\" role=\"button\" data-pid=\"143\" data-clk=\"nsd_all*p.sub\" style=\"display: inline-block;\">구독</a>\\n\\t<a href=\"#\" class=\"api_pbs_btn _PM_newsstand_unsubscribe\" role=\"button\" data-pid=\"143\" data-clk=\"nsd_myn*p.sub\" style=\"display: none;\">해지</a>\\n\\t<a href=\"http://newsstand.naver.com/?list=&amp;pcode=143\" class=\"api_pbs_btn api_pbs_lb\" role=\"button\" target=\"_blank\" data-custom-clk=\"nsd_all*p.logo\">기사보기</a></div></div></li><li id=\"NS_144\" class=\"api_item\" data-pid=\"144\"><a href=\"http://newsstand.naver.com/?list=&amp;pcode=144\" class=\"api_link\" aria-haspopup=\"true\" target=\"_blank\"><img src=\"https://s.pstatic.net/static/newsstand/up/2017/0424/nsd14593063.png\" height=\"24\" alt=\"스포츠경향\" class=\"api_logo\"></a><div class=\"api_popup_btn_set\" role=\"alertdialog\"><div class=\"api_pbs_inner\">\\n\\t<a href=\"#\" class=\"api_pbs_btn _PM_newsstand_subscribe\" role=\"button\" data-pid=\"144\" data-clk=\"nsd_all*p.sub\" style=\"display: inline-block;\">구독</a>\\n\\t<a href=\"#\" class=\"api_pbs_btn _PM_newsstand_unsubscribe\" role=\"button\" data-pid=\"144\" data-clk=\"nsd_myn*p.sub\" style=\"display: none;\">해지</a>\\n\\t<a href=\"http://newsstand.naver.com/?list=&amp;pcode=144\" class=\"api_pbs_btn api_pbs_lb\" role=\"button\" target=\"_blank\" data-custom-clk=\"nsd_all*p.logo\">기사보기</a></div></div></li><li id=\"NS_396\" class=\"api_item\" data-pid=\"396\"><a href=\"http://newsstand.naver.com/?list=&amp;pcode=396\" class=\"api_link\" aria-haspopup=\"true\" target=\"_blank\"><img src=\"https://s.pstatic.net/static/newsstand/up/2017/0424/nsd1521496.png\" height=\"24\" alt=\"스포츠월드\" class=\"api_logo\"></a><div class=\"api_popup_btn_set\" role=\"alertdialog\"><div class=\"api_pbs_inner\">\\n\\t<a href=\"#\" class=\"api_pbs_btn _PM_newsstand_subscribe\" role=\"button\" data-pid=\"396\" data-clk=\"nsd_all*p.sub\" style=\"display: inline-block;\">구독</a>\\n\\t<a href=\"#\" class=\"api_pbs_btn _PM_newsstand_unsubscribe\" role=\"button\" data-pid=\"396\" data-clk=\"nsd_myn*p.sub\" style=\"display: none;\">해지</a>\\n\\t<a href=\"http://newsstand.naver.com/?list=&amp;pcode=396\" class=\"api_pbs_btn api_pbs_lb\" role=\"button\" target=\"_blank\" data-custom-clk=\"nsd_all*p.logo\">기사보기</a></div></div></li><li id=\"NS_966\" class=\"api_item\" data-pid=\"966\"><a href=\"http://newsstand.naver.com/?list=&amp;pcode=966\" class=\"api_link\" aria-haspopup=\"true\" target=\"_blank\"><img src=\"https://s.pstatic.net/static/newsstand/up/2017/1201/nsd161847464.png\" height=\"24\" alt=\"정신의학신문\" class=\"api_logo\"></a><div class=\"api_popup_btn_set\" role=\"alertdialog\"><div class=\"api_pbs_inner\">\\n\\t<a href=\"#\" class=\"api_pbs_btn _PM_newsstand_subscribe\" role=\"button\" data-pid=\"966\" data-clk=\"nsd_all*p.sub\" style=\"display: inline-block;\">구독</a>\\n\\t<a href=\"#\" class=\"api_pbs_btn _PM_newsstand_unsubscribe\" role=\"button\" data-pid=\"966\" data-clk=\"nsd_myn*p.sub\" style=\"display: none;\">해지</a>\\n\\t<a href=\"http://newsstand.naver.com/?list=&amp;pcode=966\" class=\"api_pbs_btn api_pbs_lb\" role=\"button\" target=\"_blank\" data-custom-clk=\"nsd_all*p.logo\">기사보기</a></div></div></li></ul>\\n                            </div>\\n                        </div>\\n                    </div>\\n                    <i class=\"api_list_border_right\" role=\"presentation\" aria-hidden=\"true\"></i>\\n                    <i class=\"api_list_border_horizontal1\" role=\"presentation\" aria-hidden=\"true\"></i>\\n                    <i class=\"api_list_border_horizontal2\" role=\"presentation\" aria-hidden=\"true\"></i>\\n                </div>\\n            </div>\\n            <div class=\"an_panel_list _PM_newsstand_list\" role=\"tabpanel\" aria-hidden=\"false\" style=\"display:none;\">\\n                <div class=\"apl_category_wrap\">\\n                    <h3><span class=\"blind\">언론사 목록</span></h3>\\n                    <ul class=\"aplc_list\" data-tab=\"total\">\\n                        <li class=\"aplc_item\"><a class=\"aplc_link is_selected\" href=\"#\" data-category=\"ct2\" data-clk=\"nsd_all.daei\"><span class=\"aplc_name\">종합/경제</span><span class=\"aplc_paging\"></span></a></li>\\n                        <li class=\"aplc_item\"><a class=\"aplc_link\" href=\"#\" data-category=\"ct3\" data-clk=\"nsd_all.dtvcom\"><span class=\"aplc_name\">방송/통신</span><span class=\"aplc_paging\"></span></a></li>\\n                        <li class=\"aplc_item\"><a class=\"aplc_link\" href=\"#\" data-category=\"ct4\" data-clk=\"nsd_all.dit\"><span class=\"aplc_name\">IT</span><span class=\"aplc_paging\"></span></a></li>\\n                        <li class=\"aplc_item\"><a class=\"aplc_link\" href=\"#\" data-category=\"ct5\" data-clk=\"nsd_all.deng\"><span class=\"aplc_name\">영자지</span><span class=\"aplc_paging\"></span></a></li>\\n                        <li class=\"aplc_item\"><a class=\"aplc_link\" href=\"#\" data-category=\"ct6\" data-clk=\"nsd_all.dsporent\"><span class=\"aplc_name\">스포츠/연예</span><span class=\"aplc_paging\"></span></a></li>\\n                        <li class=\"aplc_item\"><a class=\"aplc_link\" href=\"#\" data-category=\"ct7\" data-clk=\"nsd_all.dmagtec\"><span class=\"aplc_name\">매거진/전문지</span><span class=\"aplc_paging\"></span></a></li>\\n                        <li class=\"aplc_item\"><a class=\"aplc_link\" href=\"#\" data-category=\"ct8\" data-clk=\"nsd_all.dloc\"><span class=\"aplc_name\">지역</span><span class=\"aplc_paging\"></span></a></li>\\n                    </ul>\\n\\t\\t\\t\\t\\t<ul class=\"aplc_list\" data-tab=\"my\" style=\"display:none;\">\\n\\t\\t\\t\\t\\t\\t<!-- nvpaperlist:empty -->\\n\\t\\t\\t\\t\\t</ul>\\n                </div>\\n                <div class=\"flick-view\">\\n                    <div class=\"flick-container\">\\n                        <div class=\"flick-panel\">\\n                            \\n\\t\\t\\t\\t\\t\\t\\t\\n                        </div>\\n                    </div>\\n                </div>\\n            </div>\\n            <div class=\"an_panel_list _PM_newsstand_info\" role=\"tabpanel\" aria-hidden=\"false\" style=\"display:none;\">\\n                <div class=\"flick-view\">\\n                    <div class=\"flick-container\">\\n                        <div class=\"flick-panel\">\\n                            <div class=\"an_nopress_view\">\\n                                <div class=\"anv_wrap\">\\n                                    <em class=\"anv_tit\">설정한 언론사가 없습니다.</em><p class=\"anv_text\">언론사 구독 설정에서 MY언론사를 추가하면</p><p class=\"anv_text\">설정한 언론사의 기사들을 네이버 홈에서 바로 보실 수 있습니다.</p>\\n                                \\t<a class=\"anv_btn\" href=\"http://newsstand.naver.com/config.html\" role=\"button\" data-clk=\"nsd_myn*a.thum\" target=\"_blank\">언론사 추가</a>\\n                            \\t</div>\\n                        \\t</div>\\n                        </div>\\n                    </div>\\n                </div>\\n            </div>\\n\\t\\t\\t<div class=\"PM_CL_newsstand_layer\"></div>\\n        </div>\\n    </div>\\n\\t<!-- //뉴스캐스트 -->\\n</div>\\n\\n\\t\\t\\t<div class=\"column_right\">\\n\\t<!-- 로그인 -->\\n\\t\\n\\t\\t\\n\\n\\n\\n\\n\\n\\t\\n\\n\\n<div id=\"account\" class=\"section_login\">\\n\\t<h2 class=\"blind\">로그인</h2>\\n\\t<div class=\"lg_local\">\\n\\t\\t<p class=\"lg_local_text\">네이버를 더 안전하고 편리하게 이용하세요.</p>\\n\\t\\t<a class=\"lg_local_btn\" href=\"https://nid.naver.com/nidlogin.login?mode=form&amp;url=https%3A%2F%2Fwww.naver.com\" role=\"button\" data-clk=\"log_off.login\">\\n\\t\\t\\t<i class=\"ico_local_login lang_ko\"><span class=\"blind\">NAVER 로그인</span></i>\\n\\t\\t</a>\\n\\t\\t<div class=\"lg_links\">\\n\\t\\t\\t<a href=\"https://nid.naver.com/nidregister.form?url=https%3A%2F%2Fwww.naver.com\" class=\"lg_link_join\" data-clk=\"log_off.registration\">회원가입</a>\\n\\t\\t\\t<span class=\"lg_link_find\"><a href=\"https://nid.naver.com/user/help.nhn?todo=idinquiry\" class=\"lg_find_text\" data-clk=\"log_off.searchid\">아이디</a>·<a href=\"https://nid.naver.com/nidreminder.form\" class=\"lg_find_text\" data-clk=\"log_off.searchpass\">비밀번호 찾기</a></span>\\n\\t\\t</div>\\n\\t</div>\\n</div>\\n\\n\\n\\t\\n\\t<!-- //로그인 -->\\n\\t<div id=\"ad_branding_hide\"></div>\\n\\t<!-- 타임스퀘어 -->\\n\\t<div class=\"_PM_timesquare_wrapper\" id=\"time_square\">\\n\\t\\t\\n<div class=\"section_timesquare _PM_timesquare_base\" data-code=\"conversation\">\\n<h2 class=\"blind\">타임스퀘어</h2>\\n<div class=\"area_header\">\\n<div class=\"header_info _PM_timesquare_info\">\\n<a href=\"https://calendar.naver.com\" data-clk=\"squ.date\" class=\"hi_date\"><span class=\"hi_dnum\">07.17.</span><span class=\"hi_day\">(수)</span></a><i class=\"hi_slash\" aria-hidden=\"true\" role=\"presentation\">|</i>\\n\\n<a href=\"#\" data-clk=\"squ_lan.set\" class=\"hi_tit _PM_timesquare_lang_type\">영어회화<i class=\"ico_btn_arrow\" aria-hidden=\"true\"></i></a>\\n</div>\\n<div class=\"header_paging _PM_timesquare_navi\"><b class=\"hp_curr\">5</b>/<span class=\"hp_total\">6</span></div>\\n<div class=\"header_btns\">\\n<a data-clk=\"squ.pre\" class=\"header_btn_prev _PM_timesquare_prev\" href=\"#\"><i class=\"ico_btn_prev\" aria-hidden=\"true\"></i><span class=\"blind\">앞의 목록으로 이동</span></a>\\n<a data-clk=\"squ.next\" class=\"header_btn_next _PM_timesquare_next\" href=\"#\"><i class=\"ico_btn_next\" aria-hidden=\"true\"></i><span class=\"blind\">뒤의 목록으로 이동</span></a>\\n</div>\\n</div>\\n<div class=\"area_ct\">\\n<div class=\"flick-view\">\\n<div class=\"flick-container\">\\n<div class=\"flick-panel _PM_timesquare_list\" data-code=\"conversation\">\\n<div class=\"type_conv\">\\n<a data-clk=\"squ_lan.con\" href=\"https://phrase.dict.naver.com/detail.nhn?bigCategoryNo=10&amp;middleCategoryNo=80&amp;smallCategoryNo=351&amp;targetLanguage=en\" class=\"tc_link\">\\n<div class=\"tc_content\">\\n<p class=\"tc_tt\">말씀하신 전화번호가&nbsp;<em class=\"tc_accent\">아닌데요</em>.</p>\\n<p class=\"tc_st\">This&nbsp;is&nbsp;<em class=\"tc_accent\">not</em>&nbsp;the number&nbsp;you&nbsp;said.</p>\\n<p class=\"tc_pronounce\">디스 이즈&nbsp;<em class=\"tc_accent\">낫</em>&nbsp;더 넘버 유 쎄드</p>\\n</div>\\n</a>\\n</div>\\n</div>\\n</div>\\n</div>\\n</div>\\n</div>\\n\\n\\t\\n\\t</div>\\n\\t<!-- //타임스퀘어 -->\\n\\n\\t<!-- 광고 -->\\n\\t<div id=\"veta_branding\">\\n\\t<iframe id=\"da_iframe_rolling\" name=\"da_iframe_rolling\" src=\"https://nv.veta.naver.com/fxshow?su=SU10078&amp;nrefreshx=0\" data-veta-preview=\"main_rolling\" title=\"광고\" width=\"332\" height=\"150\" marginheight=\"0\" marginwidth=\"0\" scrolling=\"no\" frameborder=\"0\"></iframe>\\n\\t\\t<div class=\"veta_bdt\" style=\"display: none;\"></div><div class=\"veta_bdr\" style=\"display: none;\"></div><div class=\"veta_bdb\" style=\"display: none;\"></div><div class=\"veta_bdl\" style=\"display: none;\"></div>\\n\\t</div>\\n\\t<!-- //광고 -->\\n</div>\\n\\n\\t\\t\\t<!-- EMPTY -->\\n\\t\\t\\t<div class=\"column_bottom\">\\n\\t<!-- 주제형캐스트 -->\\n\\t<div id=\"themecast\" class=\"section_themecast\">\\n\\t\\t<h2 class=\"blind\">주제형 캐스트</h2>\\n\\t\\t<div id=\"PM_ID_themecastNavi\" class=\"themecast_category\">\\n\\t\\t\\t<div class=\"area_category\">\\n\\t\\t\\t\\t<h3 class=\"blind\">관심 주제 선택</h3>\\n\\t\\t\\t\\t<div class=\"ac_scroll\" role=\"tablist\">\\n\\t\\t\\t\\t\\t<div class=\"scroll-area\" role=\"presentation\">\\n\\t\\t\\t\\t\\t\\t<!-- style=\"width:xxxxPX\" -->\\n\\t\\t\\t\\t\\t\\t<div id=\"PM_ID_themelist\" class=\"rolling-container\" role=\"presentation\" style=\"width:587;overflow:hidden;\">\\n\\t\\t\\t\\t\\t\\t\\t<ul style=\"width: 1682px;\" queryid=\"C1563329352546855383\" class=\"\">\\n\\t\\t\\t\\t\\t\\t\\t\\t<li class=\"rolling-panel\" role=\"presentation\">\\n\\t<a href=\"#LIVINGHOME\" role=\"tab\" aria-selected=\"false\" data-id=\"LIVINGHOME\" data-nclick=\"lif\" data-clk=\"tct.lif\" class=\"PM_CL_themeItem ac_a tcc_livinghome\" queryid=\"C1563329348216934217\">리빙</a>\\n</li><li class=\"rolling-panel\" role=\"presentation\">\\n\\t<a href=\"#LIVING\" role=\"tab\" aria-selected=\"false\" data-id=\"LIVING\" data-nclick=\"fod\" data-clk=\"tct.fod\" class=\"PM_CL_themeItem ac_a tcc_living\" queryid=\"C1563329348216626059\">푸드</a>\\n</li><li class=\"rolling-panel\" role=\"presentation\">\\n\\t<a href=\"#SPORTS\" role=\"tab\" aria-selected=\"false\" data-id=\"SPORTS\" data-nclick=\"spo\" data-clk=\"tct.spo\" class=\"PM_CL_themeItem ac_a tcc_sports\" queryid=\"C1563329348216455849\">스포츠</a>\\n</li><li class=\"rolling-panel\" role=\"presentation\">\\n\\t<a href=\"#CARGAME\" role=\"tab\" aria-selected=\"false\" data-id=\"CARGAME\" data-nclick=\"aut\" data-clk=\"tct.aut\" class=\"PM_CL_themeItem ac_a tcc_cargame\" queryid=\"C1563329348216284362\">자동차</a>\\n</li><li class=\"rolling-panel\" role=\"presentation\">\\n\\t<a href=\"#BEAUTY\" role=\"tab\" aria-selected=\"false\" data-id=\"BEAUTY\" data-nclick=\"bty\" data-clk=\"tct.bty\" class=\"PM_CL_themeItem ac_a tcc_beauty\" queryid=\"C1563329348216412648\">패션뷰티</a>\\n</li><li class=\"rolling-panel\" role=\"presentation\">\\n\\t<a href=\"#MOMKIDS\" role=\"tab\" aria-selected=\"false\" data-id=\"MOMKIDS\" data-nclick=\"mom\" data-clk=\"tct.mom\" class=\"PM_CL_themeItem ac_a tcc_momkids\" queryid=\"C1563329348216606480\">부모i</a>\\n</li><li class=\"rolling-panel\" role=\"presentation\">\\n\\t<a href=\"#HEALTH\" role=\"tab\" aria-selected=\"false\" data-id=\"HEALTH\" data-nclick=\"hea\" data-clk=\"tct.hea\" class=\"PM_CL_themeItem ac_a tcc_health\" queryid=\"C1563329348216439453\">건강</a>\\n</li><li class=\"rolling-panel\" role=\"presentation\">\\n\\t<a href=\"#BBOOM\" role=\"tab\" aria-selected=\"false\" data-id=\"BBOOM\" data-nclick=\"web\" data-clk=\"tct.web\" class=\"PM_CL_themeItem ac_a tcc_bboom\" queryid=\"C1563329348216295182\">웹툰</a>\\n</li><li class=\"rolling-panel\" role=\"presentation\">\\n\\t<a href=\"#GAMEAPP\" role=\"tab\" aria-selected=\"false\" data-id=\"GAMEAPP\" data-nclick=\"gam\" data-clk=\"tct.gam\" class=\"PM_CL_themeItem ac_a tcc_gameapp\" queryid=\"C1563329348216503788\">게임</a>\\n</li><li class=\"rolling-panel\" role=\"presentation\">\\n\\t<a href=\"#VIDEO\" role=\"tab\" aria-selected=\"false\" data-id=\"VIDEO\" data-nclick=\"tvc\" data-clk=\"tct.tvc\" class=\"PM_CL_themeItem ac_a tcc_video\" queryid=\"C1563329348216894804\">TV연예</a>\\n</li><li class=\"rolling-panel\" role=\"presentation\">\\n\\t<a href=\"#MUSIC\" role=\"tab\" aria-selected=\"false\" data-id=\"MUSIC\" data-nclick=\"muc\" data-clk=\"tct.muc\" class=\"PM_CL_themeItem ac_a tcc_music\" queryid=\"C1563329348216178650\">뮤직</a>\\n</li><li class=\"rolling-panel\" role=\"presentation\">\\n\\t<a href=\"#MOVIE\" role=\"tab\" aria-selected=\"false\" data-id=\"MOVIE\" data-nclick=\"mov\" data-clk=\"tct.mov\" class=\"PM_CL_themeItem ac_a tcc_movie\" queryid=\"C1563329348216576513\">영화</a>\\n</li><li class=\"rolling-panel\" role=\"presentation\">\\n\\t<a href=\"#CULTURE\" role=\"tab\" aria-selected=\"false\" data-id=\"CULTURE\" data-nclick=\"bok\" data-clk=\"tct.bok\" class=\"PM_CL_themeItem ac_a tcc_culture\" queryid=\"C1563329348216945847\">책문화</a>\\n</li><li class=\"rolling-panel\" role=\"presentation\">\\n\\t<a href=\"#WITH\" role=\"tab\" aria-selected=\"false\" data-id=\"WITH\" data-nclick=\"pub\" data-clk=\"tct.pub\" class=\"PM_CL_themeItem ac_a tcc_with\" queryid=\"C156332934821665164\">함께N</a>\\n</li><li class=\"rolling-panel\" role=\"presentation\">\\n\\t<a href=\"#TRAVEL\" role=\"tab\" aria-selected=\"false\" data-id=\"TRAVEL\" data-nclick=\"tra\" data-clk=\"tct.tra\" class=\"PM_CL_themeItem ac_a tcc_travel\" queryid=\"C1563329348217490879\">여행+</a>\\n</li><li class=\"rolling-panel\" role=\"presentation\">\\n\\t<a href=\"#DESIGN\" role=\"tab\" aria-selected=\"false\" data-id=\"DESIGN\" data-nclick=\"des\" data-clk=\"tct.des\" class=\"PM_CL_themeItem ac_a tcc_design\" queryid=\"C1563329348217391831\">디자인</a>\\n</li><li class=\"rolling-panel\" role=\"presentation\">\\n\\t<a href=\"#FINANCE\" role=\"tab\" aria-selected=\"false\" data-id=\"FINANCE\" data-nclick=\"fin\" data-clk=\"tct.fin\" class=\"PM_CL_themeItem ac_a tcc_finance\" queryid=\"C1563329348217114446\">경제M</a>\\n</li><li class=\"rolling-panel\" role=\"presentation\">\\n\\t<a href=\"#JOB\" role=\"tab\" aria-selected=\"false\" data-id=\"JOB\" data-nclick=\"job\" data-clk=\"tct.job\" class=\"PM_CL_themeItem ac_a tcc_job\" queryid=\"C1563329348217111685\">JOB&amp;</a>\\n</li><li class=\"rolling-panel\" role=\"presentation\">\\n\\t<a href=\"#SCIENCE\" role=\"tab\" aria-selected=\"false\" data-id=\"SCIENCE\" data-nclick=\"sci\" data-clk=\"tct.sci\" class=\"PM_CL_themeItem ac_a tcc_science\" queryid=\"C156332934821754386\">과학</a>\\n</li><li class=\"rolling-panel\" role=\"presentation\">\\n\\t<a href=\"#CHINA\" role=\"tab\" aria-selected=\"false\" data-id=\"CHINA\" data-nclick=\"chn\" data-clk=\"tct.chn\" class=\"PM_CL_themeItem ac_a tcc_china\" queryid=\"C1563329348217502472\">중국</a>\\n</li><li class=\"rolling-panel\" role=\"presentation\">\\n\\t<a href=\"#BUSINESS\" role=\"tab\" aria-selected=\"false\" data-id=\"BUSINESS\" data-nclick=\"bsn\" data-clk=\"tct.bsn\" class=\"PM_CL_themeItem ac_a tcc_business\" queryid=\"C1563329348217381023\">비즈니스</a>\\n</li><li class=\"rolling-panel\" role=\"presentation\">\\n\\t<a href=\"#FARM\" role=\"tab\" aria-selected=\"false\" data-id=\"FARM\" data-nclick=\"far\" data-clk=\"tct.far\" class=\"PM_CL_themeItem ac_a tcc_farm\" queryid=\"C1563329348217331715\">FARM</a>\\n</li><li class=\"rolling-panel\" role=\"presentation\">\\n\\t<a href=\"#SCHOOL\" role=\"tab\" aria-selected=\"false\" data-id=\"SCHOOL\" data-nclick=\"scl\" data-clk=\"tct.scl\" class=\"PM_CL_themeItem ac_a tcc_school\" queryid=\"C1563329348217922603\">스쿨잼</a>\\n</li><li class=\"rolling-panel\" role=\"presentation\">\\n\\t<a href=\"#SHOW\" role=\"tab\" aria-selected=\"false\" data-id=\"SHOW\" data-nclick=\"sow\" data-clk=\"tct.sow\" class=\"PM_CL_themeItem ac_a tcc_show\" queryid=\"C1563329348217340285\">공연전시</a>\\n</li><li class=\"rolling-panel\" role=\"presentation\">\\n\\t<a href=\"#LAW\" role=\"tab\" aria-selected=\"false\" data-id=\"LAW\" data-nclick=\"law\" data-clk=\"tct.law\" class=\"PM_CL_themeItem ac_a tcc_law\" queryid=\"C1563329348217531120\">법률</a>\\n</li><li class=\"rolling-panel\" role=\"presentation\">\\n\\t<a href=\"#ANIMAL\" role=\"tab\" aria-selected=\"false\" data-id=\"ANIMAL\" data-nclick=\"ani\" data-clk=\"tct.ani\" class=\"PM_CL_themeItem ac_a tcc_animal\" queryid=\"C1563329348217920635\">동물공감</a>\\n</li><li class=\"rolling-panel\" role=\"presentation\">\\n\\t<a href=\"#WEDDING\" role=\"tab\" aria-selected=\"false\" data-id=\"WEDDING\" data-nclick=\"wed\" data-clk=\"tct.wed\" class=\"PM_CL_themeItem ac_a tcc_wedding\" queryid=\"C1563329348217923978\">연애·결혼</a>\\n</li><li class=\"rolling-panel\" role=\"presentation\">\\n\\t<a href=\"#ITTECH\" role=\"tab\" aria-selected=\"false\" data-id=\"ITTECH\" data-nclick=\"tec\" data-clk=\"tct.tec\" class=\"PM_CL_themeItem ac_a tcc_ittech\" queryid=\"C156332934821726270\">테크</a>\\n</li><li class=\"rolling-panel\" role=\"presentation\">\\n\\t<a href=\"#EMOTION\" role=\"tab\" aria-selected=\"true\" data-id=\"EMOTION\" data-nclick=\"emo\" data-clk=\"tct.emo\" class=\"PM_CL_themeItem ac_a tcc_emotion tcc_on\" queryid=\"C1563329348218263028\">감성충전</a>\\n</li>\\n\\t\\t\\t\\t\\t\\t\\t</ul>\\n\\t\\t\\t\\t\\t\\t</div>\\n\\t\\t\\t\\t\\t</div>\\n\\t\\t\\t\\t</div>\\n\\t\\t\\t</div>\\n\\t\\t\\t<div class=\"area_catebtns\">\\n\\t\\t\\t\\t<a href=\"#\" class=\"ac_btn_prev PM_CL_btnThemePrev\" data-clk=\"tct.prev\" role=\"button\"><span class=\"blind\">이전 주제</span><span class=\"ac_bicon\"></span></a>\\n\\t\\t\\t\\t<a href=\"#\" class=\"ac_btn_next PM_CL_btnThemeNext\" data-clk=\"tct.next\" role=\"button\"><span class=\"blind\">다음 주제</span><span class=\"ac_bicon\"></span></a>\\n\\t\\t\\t\\t<a href=\"#\" class=\"ac_btn_cate PM_CL_btnThemeEdit\" data-clk=\"tct.menu\" role=\"button\" queryid=\"C1563329348214431012\"><span class=\"blind\">전체 주제 열기</span><span class=\"ac_bicon\"></span></a>\\n\\t\\t\\t\\t<div id=\"PM_ID_themeNaviLeft\" class=\"ac_bgl\" style=\"display: block;\"></div>\\n\\t\\t\\t\\t<div id=\"PM_ID_themeNaviRight\" class=\"ac_bgr\" style=\"display:none\"></div>\\n\\t\\t\\t</div>\\n\\t\\t</div>\\n\\t\\t<div id=\"PM_ID_themeEdit\" class=\"area_themesetting\" aria-hidden=\"true\">\\n\\t<h3 class=\"blind\">관심 주제 설정</h3>\\n\\t<script id=\"PM_ID_themeEditItem\" type=\"text/template\">\\n\\t\\t<li class=\"at_item PM_CL_themeEditItem\" data-clk=\"tca*l.{=nclick}\">\\n\\t\\t\\t<div class=\"at_iw\" role=\"checkbox\" aria-checked=\"{if subscribed}true{/if}\" >\\n\\t\\t\\t\\t<span class=\"at_iradio\">\\n\\t\\t\\t\\t\\t<span data-id=\"{=code}\" class=\"PM_CL_themeItemCheck radio-mark{if subscribed} radio-checked{/if}\"></span>\\n\\t\\t\\t\\t\\t<input type=\"checkbox\" id=\"config_tcc_{=css}\" class=\"at_ipt\">\\n\\t\\t\\t\\t</span>\\n\\t\\t\\t\\t<label for=\"config_tcc_{=css}\">{=name}</label>\\n\\t\\t\\t</div>\\n\\t\\t</li>\\n\\t</script>\\n\\t<script id=\"PM_ID_themeSelectItem\" type=\"text/template\">\\n\\t\\t<li class=\"at_item\" role=\"presentation\" data-clk=\"tca.{=nclick}\"{if subscribed} data-nclick=\"{=nclick}\"{/if}>\\n\\t\\t\\t<a href=\"#{=code}\" data-id=\"{=code}\" role=\"tab\" aria-selected=\"{if subscribed}true{else}false{/if}\" class=\"PM_CL_themeItemSelect at_a tcc_{=css}\">\\n\\t\\t\\t\\t<span class=\"at_icon\"></span>{=name}\\n\\t\\t\\t\\t{if isNewPanel }<span class=\"at_ico_new\">NEW</span>{/if}\\n\\t\\t\\t</a>\\n\\t\\t</li>\\n\\t</script>\\n\\t<script id=\"PM_ID_themeNaviItem\" type=\"text/template\">\\n\\t\\t<li class=\"rolling-panel\" role=\"presentation\">\\n\\t\\t\\t<span href=\"#{=code}\" data-id=\"{=code}\" role=\"tab\" aria-selected=\"false\" class=\"ac_a tcc_{=css}\">{=name}</span>\\n\\t\\t</li>\\t\\n\\t</script>\\n\\t<script id=\"PM_ID_themeNaviEmptyItem\" type=\"text/template\">\\n\\t\\t<li class=\"rolling-panel{if first} ac_pointer {/if}\" role=\"presentation\">\\n\\t\\t\\t<span class=\"ac_empty\"></span>\\n\\t\\t</li>\\n\\t</script>\\n\\t<script id=\"PM_ID_themeSubscribePopup\" type=\"text/template\">\\n\\t\\t<div class=\"area_alert_confirm\" style=\"top:{=top}px;left:{=left}px\">\\n\\t\\t\\t<div class=\"aa_wrap\">\\n\\t\\t\\t\\t<p class=\"aa_txt\"><strong class=\"aa_st tcc_{=css}\">\\'{=name}\\'</strong>를 관심주제로 <br>설정하시겠습니까?</p>\\n\\t\\t\\t\\t<div class=\"aa_btns\">\\n\\t\\t\\t\\t\\t<a href=\"#\" data-id=\"{=code}\" data-nclick=\"{=nclick}\" role=\"button\" class=\"PM_CL_themeAddOk aa_btn_confirm\" data-clk=\"tca.likeok\">확인</a>\\n\\t\\t\\t\\t\\t<a href=\"#\" role=\"button\" class=\"PM_CL_themeAddCancel aa_btn_cancel\" data-clk=\"tca.likecancel\">취소</a>\\n\\t\\t\\t\\t</div>\\n\\t\\t\\t</div>\\n\\t\\t</div>\\n\\t</script>\\n\\t<script id=\"PM_ID_themeImportPopup\" type=\"text/template\">\\n\\t\\t<div class=\"area_alert_confirm\">\\n\\t\\t\\t<div class=\"aa_wrap\">\\n\\t\\t\\t<p class=\"aa_txt\"><strong class=\"aa_st\">모바일에서 설정한 주제</strong>를 <br>가져오시겠습니까?</p>\\n\\t\\t\\t<div class=\"aa_btns\">\\n\\t\\t\\t\\t<a href=\"#\" role=\"button\" class=\"PM_CL_themeImportOk aa_btn_confirm\" data-clk=\"tca.mobileok\">확인</a>\\n\\t\\t\\t\\t<a href=\"#\" role=\"button\" class=\"PM_CL_themeImportCancel aa_btn_cancel\" data-clk=\"tca.mobilecancel\">취소</a>\\n\\t\\t\\t\\t</div>\\n\\t\\t\\t</div>\\n\\t\\t</div>\\t\\n\\t</script>\\n\\t<ul id=\"PM_ID_themeEditItemList\" class=\"at_all\" role=\"tablist\">\\n\\t</ul>\\n\\t<a href=\"#\" class=\"at_btn_close PM_CL_btnThemeEdit\" role=\"button\" data-clk=\"tca.close\"><span class=\"blind\">전체 주제 목록 닫기</span><span class=\"at_bicon\"></span></a>\\n\\t<div id=\"PM_ID_btnBoxShortcut\" class=\"at_btns\">\\n\\t\\t<a href=\"#\" class=\"at_btn_setting PM_CL_btnThemeEditShow\" role=\"button\" data-clk=\"tca.like\"><span class=\"at_bicon\"></span>관심주제 설정</a>\\n\\t\\t<span class=\"at_bar\"></span>\\n<a href=\"#\" data-login-url=\"https://nid.naver.com/nidlogin.login?url=http%3A%2F%2Fwww.naver.com\" class=\"at_btn_import PM_CL_btnThemeImport\" role=\"button\" data-clk=\"tca.mobile\"><span class=\"at_bicon\"></span>모바일 관심 주제 가져오기</a>\\n\\n<span class=\"at_import_login PM_CL_importMessage2\" style=\"display:none\">\\n\\t<span href=\"https://nid.naver.com/nidlogin.login?url=http%3A%2F%2Fwww.naver.com\" class=\"at_lt\" data-clk=\"tca.tip\">\\n\\t\\t<strong class=\"at_ls\">로그인</strong>후 사용 가능합니다\\n\\t</span>\\n</span>\\n\\n\\n\\t</div>\\t\\n\\t<div id=\"PM_ID_btnBoxEdit\" v=\"\" class=\"at_btns\" style=\"display:none\">\\n\\t\\t<a href=\"#\" class=\"at_btn_cancel PM_CL_btnThemeEditCancel\" role=\"button\" data-clk=\"tca*l.cancel\">취소</a>\\n\\t\\t<a href=\"#\" class=\"at_btn_confirm PM_CL_btnThemeEditOk\" role=\"button\" data-clk=\"tca*l.ok\">확인</a>\\n\\t\\t<a href=\"#\" class=\"at_btn_reset PM_CL_btnThemeEditInit\" role=\"button\" data-clk=\"tca*l.reset\"><span class=\"at_bicon\"></span>초기화</a>\\n\\t\\t<a href=\"#\" class=\"at_btn_all PM_CL_btnThemeSelectAll\" role=\"button\" data-clk=\"\">전체선택</a>\\t\\t\\n\\t\\t<span class=\"at_bar\"></span>\\n<a href=\"#\" data-login-url=\"https://nid.naver.com/nidlogin.login?url=http%3A%2F%2Fwww.naver.com\" class=\"at_btn_import PM_CL_btnThemeImport\" role=\"button\" data-clk=\"tca.mobile\"><span class=\"at_bicon\"></span>모바일 관심 주제 가져오기</a>\\n\\n<span class=\"at_import_login PM_CL_importMessage2\" style=\"display:none\">\\n\\t<span href=\"https://nid.naver.com/nidlogin.login?url=http%3A%2F%2Fwww.naver.com\" class=\"at_lt\" data-clk=\"tca.tip\">\\n\\t\\t<strong class=\"at_ls\">로그인</strong>후 사용 가능합니다\\n\\t</span>\\n</span>\\n\\n\\n\\t</div>\\n</div>\\n\\n\\t\\t<div id=\"PM_ID_themecastBody\" class=\"themecast_flick\">\\n\\t\\t\\t<div class=\"flick-container\">\\n\\t\\t\\t\\t<div class=\"flick-panel\">\\n\\t\\t\\t\\t\\t<div class=\"area_themecast id_emotion\">\\n\\n<!--EMPTY-->\\n<ul class=\"themecast_list\">\\n<li class=\"tl_title\" data-seq=\"136250\">\\n<div class=\"tt_mw\">\\n<img src=\"https://s.pstatic.net/static/www/mobile/edit/2018/0312/mobile_205722674512.jpg\" width=\"166\" height=\"185\" alt=\"\" class=\"tt_m\">\\n</div>\\n<h3 class=\"tt_tit\">감성충전</h3>\\n<div class=\"tt_bar\"></div>\\n<ul class=\"tt_links\">\\n<li class=\"tt_litem\"><a href=\"https://www.grafolio.com/\" class=\"tt_la\" data-clk=\"tcc_emo.link\" data-gdid=\"UAT_2465988\">그라폴리오</a></li>\\n<li class=\"tt_litem\"><a href=\"https://www.grafolio.com/wallpaper.grfl\" class=\"tt_la\" data-clk=\"tcc_emo.link\" data-gdid=\"UAT_2818110\">배경화면</a></li>\\n<li class=\"tt_litem\"><a href=\"http://www.grafolio.com/collaboration/list.grfl\" class=\"tt_la\" data-clk=\"tcc_emo.link\" data-gdid=\"UAT_2818111\">콜라보레이션</a></li>\\n<li class=\"tt_litem\"><a href=\"https://www.grafolio.com/patron/creatorList.grfl\" class=\"tt_la\" data-clk=\"tcc_emo.link\" data-gdid=\"UAT_2818112\">후원</a></li>\\n<li class=\"tt_litem\"><a href=\"https://blog.naver.com/nv_emotion\" class=\"tt_la\" data-clk=\"tcc_emo.link\" data-gdid=\"UAT_2818113\">공식 블로그</a></li>\\n</ul>\\n</li><li class=\"tl_bigimage\" data-seq=\"331426\">\\n<a href=\"https://www.grafolio.com/works/854857\" class=\"tb_a\" data-clk=\"tcc_emo.two\" data-gdid=\"UAT_4378488\">\\n<div class=\"tb_mw\">\\n<img src=\"https://s.pstatic.net/static/www/mobile/edit/2019/0711/mobile_110947297921.jpg\" width=\"346\" height=\"185\" alt=\"\" class=\"tb_m\">\\n<span class=\"tb_bd\"></span>\\n</div>\\n<div class=\"tb_ow\">\\n<span class=\"tb_bg\"></span>\\n<span class=\"tb_tw\">\\n<span class=\"tb_d\">좋아!</span>\\n<span class=\"tb_t\">나도 네가 좋아</span>\\n</span>\\n<span class=\"tb_align\"></span>\\n</div>\\n</a>\\n</li><li class=\"tl_default\" data-seq=\"331424\" data-title=\"복잡한 세상 속에서 혼자가 익숙해지는 삶\" data-expsstartymdt=\"2019-07-17 00:00\" data-expsendymdt=\"2099-12-31 23:59\" data-fixedseq=\"0\" data-fixedexpsstartymdt=\"\" data-fixedexpsendymdt=\"\">\\n<a href=\"https://www.grafolio.com/story/47745\" class=\"td_a\" data-clk=\"tcc_emo.contents\" data-gdid=\"UAT_4378486\">\\n<span class=\"td_mw\">\\n<img src=\"https://s.pstatic.net/static/www/mobile/edit/2019/0711/mobile_111151755622.jpg\" width=\"166\" height=\"108\" alt=\"\" class=\"td_m\">\\n<span class=\"td_bd\"></span>\\n</span>\\n<span class=\"td_tw\">\\n<span class=\"td_t\">복잡한 세상 속에서 혼자가 익숙해지는 삶</span>\\n</span>\\n</a>\\n<span class=\"td_ow\">\\n<span class=\"td_o\">alone</span>\\n<span class=\"td_bar\"></span>\\n<span class=\"td_o\">손호성</span>\\n</span>\\n</li>\\n<li class=\"tl_default\" data-seq=\"331423\" data-title=\"선풍기 앞에서 책 읽는 것도 나름 즐거운 피서!\" data-expsstartymdt=\"2019-07-17 00:00\" data-expsendymdt=\"2099-12-31 23:59\" data-fixedseq=\"0\" data-fixedexpsstartymdt=\"\" data-fixedexpsendymdt=\"\">\\n<a href=\"https://www.grafolio.com/works/934908\" class=\"td_a\" data-clk=\"tcc_emo.contents\" data-gdid=\"UAT_4378485\">\\n<span class=\"td_mw\">\\n<img src=\"https://s.pstatic.net/static/www/mobile/edit/2019/0716/mobile_1036263959.jpg\" width=\"166\" height=\"108\" alt=\"\" class=\"td_m\">\\n<span class=\"td_bd\"></span>\\n</span>\\n<span class=\"td_tw\">\\n<span class=\"td_t\">선풍기 앞에서 책 읽는 것도 나름 즐거운 피서!</span>\\n</span>\\n</a>\\n<span class=\"td_ow\">\\n<span class=\"td_o\">시원한 독서 시간</span>\\n</span>\\n</li><li class=\"tl_default\" data-seq=\"331422\" data-title=\"계절이 기억되는 과일\" data-expsstartymdt=\"2019-07-17 00:00\" data-expsendymdt=\"2099-12-31 23:59\" data-fixedseq=\"0\" data-fixedexpsstartymdt=\"\" data-fixedexpsendymdt=\"\">\\n<a href=\"https://www.grafolio.com/works/915892\" class=\"td_a\" data-clk=\"tcc_emo.contents\" data-gdid=\"UAT_4378484\">\\n<span class=\"td_mw\">\\n<img src=\"https://s.pstatic.net/static/www/mobile/edit/2019/0711/mobile_111051780959.jpg\" width=\"166\" height=\"108\" alt=\"\" class=\"td_m\">\\n<span class=\"td_bd\"></span>\\n</span>\\n<span class=\"td_tw\">\\n<span class=\"td_t\">계절이 기억되는 과일</span>\\n</span>\\n</a>\\n<span class=\"td_ow\">\\n<span class=\"td_o\">서정적 사진_천도복숭아 신비복숭아</span>\\n</span>\\n</li>\\n<li class=\"tl_default\" data-seq=\"331421\" data-title=\"아름다웠던 기억들, 잊지 못할 그 사람\" data-expsstartymdt=\"2019-07-17 00:00\" data-expsendymdt=\"2099-12-31 23:59\" data-fixedseq=\"0\" data-fixedexpsstartymdt=\"\" data-fixedexpsendymdt=\"\">\\n<a href=\"https://www.grafolio.com/works/687039\" class=\"td_a\" data-clk=\"tcc_emo.contents\" data-gdid=\"UAT_4378483\">\\n<span class=\"td_mw\">\\n<img src=\"https://s.pstatic.net/static/www/mobile/edit/2019/0711/mobile_111109513836.jpg\" width=\"166\" height=\"108\" alt=\"\" class=\"td_m\">\\n<span class=\"td_bd\"></span>\\n<span class=\"td_ico_video\"><span class=\"blind\">ë\\x8f\\x99ì\\x98\\x81ì\\x83\\x81</span><span class=\"td_bg\"></span><span class=\"td_icon\"></span></span>\\n</span>\\n<span class=\"td_tw\">\\n<span class=\"td_t\">아름다웠던 기억들, 잊지 못할 그 사람</span>\\n</span>\\n</a>\\n<span class=\"td_ow\">\\n<span class=\"td_o\">추억 속으로 (In memory)</span>\\n</span>\\n</li>\\n<li class=\"tl_default\" data-seq=\"331420\" data-title=\"이상과 현실 사이 어딘가\" data-expsstartymdt=\"2019-07-17 00:00\" data-expsendymdt=\"2099-12-31 23:59\" data-fixedseq=\"0\" data-fixedexpsstartymdt=\"\" data-fixedexpsendymdt=\"\">\\n<a href=\"https://www.grafolio.com/works/812085\" class=\"td_a\" data-clk=\"tcc_emo.contents\" data-gdid=\"UAT_4378482\">\\n<span class=\"td_mw\">\\n<img src=\"https://s.pstatic.net/static/www/mobile/edit/2019/0711/mobile_111125319232.jpg\" width=\"166\" height=\"108\" alt=\"\" class=\"td_m\">\\n<span class=\"td_bd\"></span>\\n</span>\\n<span class=\"td_tw\">\\n<span class=\"td_t\">이상과 현실 사이 어딘가</span>\\n</span>\\n</a>\\n<span class=\"td_ow\">\\n<span class=\"td_o\">이성의 꿈</span>\\n</span>\\n</li>\\n<li class=\"tl_default\" data-seq=\"331419\" data-title=\"대충 찍어도 아련한 포토존이 되는 분위기 좋은 곳\" data-expsstartymdt=\"2019-07-17 00:00\" data-expsendymdt=\"2099-12-31 23:59\" data-fixedseq=\"0\" data-fixedexpsstartymdt=\"\" data-fixedexpsendymdt=\"\">\\n<a href=\"https://post.naver.com/viewer/postView.nhn?volumeNo=20879337&amp;memberNo=10196386\" class=\"td_a\" data-clk=\"tcc_emo.contents\" data-gdid=\"UAT_4378481\">\\n<span class=\"td_mw\">\\n<img src=\"https://s.pstatic.net/static/www/mobile/edit/2019/0711/mobile_111223603522.jpg\" width=\"166\" height=\"108\" alt=\"\" class=\"td_m\">\\n<span class=\"td_bd\"></span>\\n</span>\\n<span class=\"td_tw\">\\n<span class=\"td_t\">대충 찍어도 아련한 포토존이 되는 분위기 좋은 곳</span>\\n</span>\\n</a>\\n<span class=\"td_ow\">\\n<span class=\"td_o\">카페무카</span>\\n</span>\\n</li>\\n<li class=\"tl_default\" data-seq=\"331418\" data-title=\"꽃의 얼굴이 두루두루 예쁘게 보이도록 만든 플라워박스\" data-expsstartymdt=\"2019-07-17 00:00\" data-expsendymdt=\"2099-12-31 23:59\" data-fixedseq=\"0\" data-fixedexpsstartymdt=\"\" data-fixedexpsendymdt=\"\">\\n<a href=\"https://blog.naver.com/tttt45/221575754242\" class=\"td_a\" data-clk=\"tcc_emo.contents\" data-gdid=\"UAT_4378477\">\\n<span class=\"td_mw\">\\n<img src=\"https://s.pstatic.net/static/www/mobile/edit/2019/0711/mobile_111240630781.jpg\" width=\"166\" height=\"108\" alt=\"\" class=\"td_m\">\\n<span class=\"td_bd\"></span>\\n</span>\\n<span class=\"td_tw\">\\n<span class=\"td_t\">꽃의 얼굴이 두루두루 예쁘게 보이도록 만든 플라워박스</span>\\n</span>\\n</a>\\n<span class=\"td_ow\">\\n<span class=\"td_o\">플라워박스 만들기</span>\\n</span>\\n</li>\\n<li class=\"tl_default\" data-seq=\"331417\" data-title=\"초콜릿 향 티와 좋은 책으로 두 배 더 행복한 시간\" data-expsstartymdt=\"2019-07-17 00:00\" data-expsendymdt=\"2099-12-31 23:59\" data-fixedseq=\"0\" data-fixedexpsstartymdt=\"\" data-fixedexpsendymdt=\"\">\\n<a href=\"https://blog.naver.com/ksa07133/221576975242\" class=\"td_a\" data-clk=\"tcc_emo.contents\" data-gdid=\"UAT_4378476\">\\n<span class=\"td_mw\">\\n<img src=\"https://s.pstatic.net/static/www/mobile/edit/2019/0711/mobile_111259120260.jpg\" width=\"166\" height=\"108\" alt=\"\" class=\"td_m\">\\n<span class=\"td_bd\"></span>\\n</span>\\n<span class=\"td_tw\">\\n<span class=\"td_t\">초콜릿 향 티와 좋은 책으로 두 배 더 행복한 시간</span>\\n</span>\\n</a>\\n<span class=\"td_ow\">\\n<span class=\"td_o\">Fauchon 2017 tea</span>\\n</span>\\n</li>\\n<li class=\"tl_default\" data-seq=\"331416\" data-title=\"언덕 위 집들이 촘촘히 박힌, 친퀘테레의 보석\" data-expsstartymdt=\"2019-07-17 00:00\" data-expsendymdt=\"2099-12-31 23:59\" data-fixedseq=\"0\" data-fixedexpsstartymdt=\"\" data-fixedexpsendymdt=\"\">\\n<a href=\"https://blog.naver.com/namsan16/221559944234\" class=\"td_a\" data-clk=\"tcc_emo.contents\" data-gdid=\"UAT_4378475\">\\n<span class=\"td_mw\">\\n<img src=\"https://s.pstatic.net/static/www/mobile/edit/2019/0711/mobile_111317498224.jpg\" width=\"166\" height=\"108\" alt=\"\" class=\"td_m\">\\n<span class=\"td_bd\"></span>\\n</span>\\n<span class=\"td_tw\">\\n<span class=\"td_t\">언덕 위 집들이 촘촘히 박힌, 친퀘테레의 보석</span>\\n</span>\\n</a>\\n<span class=\"td_ow\">\\n<span class=\"td_o\">이탈리아 마나롤라</span>\\n</span>\\n</li>\\n<li class=\"tl_btmbanner\" data-seq=\"331428\">\\n<h4 class=\"tb_tit\">배경화면 무료 다운로드! 작가의 작품으로 꾸며보세요</h4>\\n<ul class=\"tb_media\">\\n<li class=\"tb_item\">\\n<a href=\"https://www.grafolio.com/works/804866\" class=\"tb_mw\" data-clk=\"tcc_emo.groupbtm\" data-gdid=\"UAT_4378490\">\\n<img src=\"https://s.pstatic.net/static/www/mobile/edit/2019/0711/mobile_111337862776c.jpg\" width=\"115\" height=\"70\" alt=\"너도 나와 같은 마음이기를\" class=\"tb_m\">\\n<span class=\"tb_bd\"></span>\\n</a>\\n<span class=\"tb_tw\">\\n<a href=\"https://www.grafolio.com/works/804866\" class=\"tb_t\" data-clk=\"tcc_emo.groupbtm\" data-gdid=\"UAT_4378490\">너도 나와 같은 마음이기를</a>\\n<span class=\"tb_dw\">\\n<span class=\"tb_o\">스트로</span>\\n</span>\\n</span>\\n</li>\\n<li class=\"tb_item\">\\n<a href=\"https://www.grafolio.com/works/39047\" class=\"tb_mw\" data-clk=\"tcc_emo.groupbtm\" data-gdid=\"UAT_4378491\">\\n<img src=\"https://s.pstatic.net/static/www/mobile/edit/2019/0711/mobile_111353358804c.jpg\" width=\"115\" height=\"70\" alt=\"심장이 딱딱해지지 않도록\" class=\"tb_m\">\\n<span class=\"tb_bd\"></span>\\n</a>\\n<span class=\"tb_tw\">\\n<a href=\"https://www.grafolio.com/works/39047\" class=\"tb_t\" data-clk=\"tcc_emo.groupbtm\" data-gdid=\"UAT_4378491\">심장이 딱딱해지지 않도록</a>\\n<span class=\"tb_dw\">\\n<span class=\"tb_o\">생각하는손가락</span>\\n</span>\\n</span>\\n</li>\\n</ul>\\n</li>\\n<li class=\"tl_btmbanner\" data-seq=\"331428\">\\n<h4 class=\"tb_tit\"></h4>\\n<ul class=\"tb_media\">\\n<li class=\"tb_item\">\\n<a href=\"https://www.grafolio.com/works/820772\" class=\"tb_mw\" data-clk=\"tcc_emo.groupbtm\" data-gdid=\"UAT_4378492\">\\n<img src=\"https://s.pstatic.net/static/www/mobile/edit/2019/0711/mobile_111417369200c.jpg\" width=\"115\" height=\"70\" alt=\"앙증맞게 곱고 화사한 꽃\" class=\"tb_m\">\\n<span class=\"tb_bd\"></span>\\n</a>\\n<span class=\"tb_tw\">\\n<a href=\"https://www.grafolio.com/works/820772\" class=\"tb_t\" data-clk=\"tcc_emo.groupbtm\" data-gdid=\"UAT_4378492\">앙증맞게 곱고 화사한 꽃</a>\\n<span class=\"tb_dw\">\\n<span class=\"tb_o\">이룸</span>\\n</span>\\n</span>\\n</li>\\n<li class=\"tb_item\">\\n<a href=\"https://www.grafolio.com/works/927363\" class=\"tb_mw\" data-clk=\"tcc_emo.groupbtm\" data-gdid=\"UAT_4378493\">\\n<img src=\"https://s.pstatic.net/static/www/mobile/edit/2019/0711/mobile_111517850955c.jpg\" width=\"115\" height=\"70\" alt=\"여름날의 달콤한 시간\" class=\"tb_m\">\\n<span class=\"tb_bd\"></span>\\n</a>\\n<span class=\"tb_tw\">\\n<a href=\"https://www.grafolio.com/works/927363\" class=\"tb_t\" data-clk=\"tcc_emo.groupbtm\" data-gdid=\"UAT_4378493\">여름날의 달콤한 시간</a>\\n<span class=\"tb_dw\">\\n<span class=\"tb_o\">맹그스</span>\\n</span>\\n</span>\\n</li>\\n</ul>\\n</li>\\n</ul>\\n</div>\\n\\t\\t\\t\\t</div>\\n\\t\\t\\t</div>\\n\\t\\t</div>\\n\\t</div>\\n\\t<!-- //주제형캐스트 -->\\n\\t<div id=\"shp_cst\" class=\"section_shoppingcast\">\\n\\t\\t<iframe src=\"https://castbox.shopping.naver.com/shopbox/main.nhn?\" id=\"cnsv_shbx\" title=\"쇼핑캐스트\" marginheight=\"0\" marginwidth=\"0\" scrolling=\"no\" frameborder=\"0\" width=\"330\" height=\"882\">쇼핑캐스트 : <a href=\"https://castbox.shopping.naver.com/shopbox/main.nhn?\">https://castbox.shopping.naver.com/shopbox/main.nhn?</a></iframe>\\n\\t</div>\\n</div>\\n\\n<div class=\"column_banner\">\\n\\t<div class=\"section_btmbn\">\\n\\t\\t<ul class=\"btmbanner_list\">\\n\\t\\t\\t\\n<li class=\"bl_item\">\\n<a data-clk=\"mcb.left\" href=\"https://blog.naver.com/naver_diary/221578619130\" class=\"bl_a\" target=\"_blank\">\\n<div class=\"bl_mw\">\\n<img src=\"https://s.pstatic.net/static/www/mobile/edit/2019/0709/mobile_08142912778.jpg\" width=\"166\" height=\"88\" alt=\"네이버 프로젝트 꽃 꽃을 피우다 #11 디자이너윈도 김인혜 웹툰 콜라보 이어 미국진출\" title=\"네이버 프로젝트 꽃 꽃을 피우다 #11 디자이너윈도 김인혜 웹툰 콜라보 이어 미국진출\" class=\"bl_m\">\\n<span class=\"bl_bd\"></span>\\n</div>\\n<div class=\"bl_tw\">\\n<span class=\"bl_s\">네이버 프로젝트 꽃</span>\\n<strong class=\"bl_t\">꽃을 피우다 #11</strong>\\n<span class=\"bl_d\">디자이너윈도 김인혜<br>웹툰 콜라보 이어 미국진출</span>\\n</div>\\n</a>\\n</li>\\n\\n\\t\\t\\t\\n<li class=\"bl_item\">\\n<a data-clk=\"mcb.right\" href=\"https://blog.naver.com/nsmscience/221577493682\" class=\"bl_a\" target=\"_blank\">\\n<div class=\"bl_mw\">\\n<img src=\"https://s.pstatic.net/static/www/mobile/edit/2019/0708/mobile_082649268852.jpg\" width=\"166\" height=\"88\" alt=\"국립중앙과학관 한여름 밤 야간개관 7/26~8/17 기간 중 금·토요일엔 22시까지!\" title=\"국립중앙과학관 한여름 밤 야간개관 7/26~8/17 기간 중 금·토요일엔 22시까지!\" class=\"bl_m\">\\n<span class=\"bl_bd\"></span>\\n</div>\\n<div class=\"bl_tw\">\\n<span class=\"bl_s\">국립중앙과학관</span>\\n<strong class=\"bl_t\">한여름 밤 야간개관</strong>\\n<span class=\"bl_d\">7/26~8/17 기간 중<br>금·토요일엔 22시까지!</span>\\n</div>\\n</a>\\n</li>\\n\\n\\t\\t</ul>\\n\\t</div>\\n\\n\\t<div class=\"section_rbn\">\\n\\n\\t\\t<!-- 광고 -->\\n\\t\\t<div id=\"veta_time2\">\\n\\t\\t\\t<iframe id=\"da_iframe_below\" name=\"da_iframe_below\" src=\"https://nv.veta.naver.com/fxshow?su=SU10082&amp;nrefreshx=0\" data-veta-preview=\"main_below\" width=\"332\" height=\"130\" marginheight=\"0\" marginwidth=\"0\" scrolling=\"no\" frameborder=\"0\" align=\"center\" title=\"광고\"></iframe>\\n\\t\\t\\t<div class=\"veta_bdt\"></div><div class=\"veta_bdr\"></div><div class=\"veta_bdb\"></div><div class=\"veta_bdl\"></div>\\n\\t\\t</div>\\n\\t\\t<!-- //광고 -->\\n\\n\\t</div>\\n</div>\\n\\n\\t\\t</div>\\n\\t\\t<div class=\"section_footer\" role=\"contentinfo\">\\n\\t<div class=\"notice\">\\n\\t\\t<div class=\"area_notice\">\\n\\t\\t\\t<h3 class=\"an_tit\"><a href=\"//www.naver.com/NOTICE\" class=\"an_ta\" data-clk=\"ntc.notice\">공지사항</a></h3>\\n\\t\\t\\t<!-- EMPTY -->\\n\\t\\t</div>\\n\\t\\t<div class=\"area_services\">\\n\\t\\t\\t<a href=\"more.html\" class=\"as_a\" data-clk=\"ntc.svcmap\">서비스 전체보기<span class=\"as_ico_all\"></span></a>\\n\\t\\t</div>\\n\\t</div>\\n\\n\\n\\t<div class=\"aside\">\\n\\t\\t<div class=\"area_flower\">\\n\\t\\t\\t<div class=\"af_tw\">\\n\\t\\t\\t\\t<h3 class=\"af_tit\">프로젝트 꽃</h3>\\n\\t\\t\\t\\t<a href=\"https://search.naver.com/search.naver?where=nexearch&amp;sm=top_hty&amp;fbm=1&amp;ie=utf8&amp;query=%ED%94%84%EB%A1%9C%EC%A0%9D%ED%8A%B8%EA%BD%83\" data-clk=\"prj.link\" class=\"af_a\">바로가기</a>\\n\\t\\t\\t</div>\\n\\t\\t\\t<div class=\"af_mw\">\\n\\t\\t\\t\\t<a href=\"https://search.naver.com/search.naver?where=nexearch&amp;sm=top_hty&amp;fbm=1&amp;ie=utf8&amp;query=%ED%94%84%EB%A1%9C%EC%A0%9D%ED%8A%B8%EA%BD%83\" data-clk=\"prj.link\" class=\"af_qr\"><span class=\"blind\">프로젝트 꽃</span></a>\\n\\t\\t\\t</div>\\n\\t\\t</div>\\n\\t\\t<div class=\"area_whale\">\\n<div class=\"aw_tw\">\\n<h3 class=\"aw_tit\">웨일 브라우저</h3>\\n<a href=\"http://whale.naver.com/\" data-clk=\"wbd.bt\" class=\"aw_a\">다운받기</a>\\n</div>\\n<div class=\"aw_mw\">\\n<a href=\"http://whale.naver.com/\" data-clk=\"wbd.bt\" class=\"aw_qr\"><span class=\"blind\">네이버웨일</span></a>\\n</div>\\n</div>\\n\\t\\t<div class=\"area_user\">\\n\\t\\t\\t<div class=\"au_wrap\">\\n\\t\\t\\t\\t<h3 class=\"au_tit\">Creators</h3>\\n\\t\\t\\t\\t<ul class=\"au_l\">\\n\\t\\t\\t\\t\\t<li class=\"au_item\"><a href=\"https://www.navercorp.com/service/creators\" data-clk=\"crt.creator\" class=\"au_a\">크리에이터</a></li>\\n\\t\\t\\t\\t\\t<li class=\"au_item\"><span class=\"au_bar\"></span><a href=\"https://www.navercorp.com/service/business\" data-clk=\"crt.smbusiness\" class=\"au_a\">스몰비즈니스</a></li>\\n\\t\\t\\t\\t</ul>\\n\\t\\t\\t</div>\\n\\t\\t\\t<div class=\"au_wrap\">\\n\\t\\t\\t\\t<h3 class=\"au_tit\">Partners</h3>\\n\\t\\t\\t\\t<ul class=\"au_l\">\\n\\t\\t\\t\\t\\t<li class=\"au_item\"><a href=\"https://business.naver.com/service.html\" data-clk=\"ptn.service\" class=\"au_a\">비즈니스 · 광고</a></li>\\n\\t\\t\\t\\t\\t<li class=\"au_item\"><span class=\"au_bar\"></span><a href=\"https://sell.storefarm.naver.com/#/home/about\" data-clk=\"ptn.store\" class=\"au_a\">스토어 개설</a></li>\\n\\t\\t\\t\\t\\t<li class=\"au_item\"><span class=\"au_bar\"></span><a href=\"https://smartplace.naver.com/\" data-clk=\"ptn.place\" class=\"au_a\">지역업체 등록</a></li>\\n\\t\\t\\t\\t</ul>\\n\\t\\t\\t</div>\\n\\t\\t\\t<div class=\"au_wrap\">\\n\\t\\t\\t\\t<h3 class=\"au_tit\">Developers</h3>\\n\\t\\t\\t\\t<ul class=\"au_l\">\\n\\t\\t\\t\\t\\t<li class=\"au_item\"><a href=\"https://developers.naver.com\" data-clk=\"dvl.center\" class=\"au_a au_sa\">네이버 개발자센터</a></li>\\n\\t\\t\\t\\t\\t<li class=\"au_item\"><span class=\"au_bar\"></span><a href=\"https://developers.naver.com/docs/common/openapiguide/#/apilist.md/\" data-clk=\"dvl.openapi\" class=\"au_a\">오픈 API</a></li>\\n\\t\\t\\t\\t\\t<li class=\"au_item\"><span class=\"au_bar\"></span><a href=\"https://naver.github.io/\" data-clk=\"dvl.opensource\" class=\"au_a\">오픈소스</a></li>\\n\\t\\t\\t\\t\\t<li class=\"au_item\"><span class=\"au_bar\"></span><a href=\"https://d2.naver.com/\" data-clk=\"dvl.d2\" class=\"au_a\">네이버 D2</a></li>\\n\\t\\t\\t\\t\\t<li class=\"au_item\"><span class=\"au_bar\"></span><a href=\"https://www.naverlabs.com/\" data-clk=\"dvl.labs\" class=\"au_a\">네이버 랩스</a></li>\\n\\t\\t\\t\\t</ul>\\n\\t\\t\\t</div>\\n\\t\\t</div>\\n\\t</div>\\n\\n\\t<div class=\"footer\">\\n\\t\\t<div class=\"area_terms\">\\n\\t\\t\\t<h3 class=\"blind\">네이버 정책 및 약관</h3>\\n\\t\\t\\t<ul class=\"at_l\">\\n\\t\\t\\t\\t<li class=\"at_item\"><a href=\"https://www.navercorp.com/\" class=\"at_a\" data-clk=\"plc.intronhn\">회사소개</a></li>\\n\\t\\t\\t\\t<li class=\"at_item\"><span class=\"at_bar\"></span><a href=\"https://recruit.navercorp.com/naver/recruitMain\" class=\"at_a\" data-clk=\"plc.recruit\">인재채용</a></li>\\n\\t\\t\\t\\t<li class=\"at_item\"><span class=\"at_bar\"></span><a href=\"https://www.navercorp.com/naver/proposalGuide\" class=\"at_a\" data-clk=\"plc.contact\">제휴제안</a></li>\\n\\t\\t\\t\\t<li class=\"at_item\"><span class=\"at_bar\"></span><a href=\"/policy/service.html\" class=\"at_a\" data-clk=\"plc.service\">이용약관</a></li>\\n\\t\\t\\t\\t<li class=\"at_item\"><span class=\"at_bar\"></span><a href=\"/policy/privacy.html\" class=\"at_a\" data-clk=\"plc.privacy\"><strong class=\"at_st\">개인정보처리방침</strong></a></li>\\n\\t\\t\\t\\t<li class=\"at_item\"><span class=\"at_bar\"></span><a href=\"/policy/youthpolicy.html\" class=\"at_a\" data-clk=\"plc.youth\">청소년보호정책</a></li>\\n\\t\\t\\t\\t<li class=\"at_item\"><span class=\"at_bar\"></span><a href=\"/policy/spamcheck.html\" class=\"at_a\" data-clk=\"plc.policy\">네이버 정책</a></li>\\n\\t\\t\\t\\t<li class=\"at_item\"><span class=\"at_bar\"></span><a href=\"https://help.naver.com/\" class=\"at_a\" data-clk=\"plc.helpcenter\">고객센터</a></li>\\n\\t\\t\\t</ul>\\n\\t\\t\\t<address class=\"at_cr\">ⓒ <a href=\"https://www.navercorp.com/\" target=\"_blank\" class=\"at_ca\" data-clk=\"plc.nhn\">NAVER Corp.</a></address>\\n\\t\\t</div>\\n\\t</div>\\n</div>\\n\\n\\t</div>\\n\\t\\n\\t<script src=\"https://pm.pstatic.net/js/c/jindo_v180212.js\"></script>\\n\\t\\n\\t\\n\\t<script>\\n\\t\\tvar svr = \"<!--aweb207.ntop-->\";\\n\\t\\tvar svt = \"20190717110905\";\\n\\t\\tvar aPanelListAll;\\n\\t\\t\\n\\t\\tvar nmainJS = [\"https://pm.pstatic.net/js/c/nmain_v190709.js\"];\\n\\t\\t\\n\\t\\tvar sThemecastAdScriptUrl = \\'https://ssl.pstatic.net/tveta/libs/assets/js/pc/main/min/pc.veta.core.min.js?20180330\\';\\n\\t\\tnmainJS.push(sThemecastAdScriptUrl);\\n\\n\\t\\tfunction loadJS() {\\n\\n\\t\\t\\t\\n\\t\\t\\t\\tsetTimeout(function() { lcs_do(refreshLcs()); }, 0);\\n\\t\\t\\t\\n\\n\\t\\t\\tjindo.LazyLoading.load(nmainJS, function(){\\n\\n\\t\\t\\t\\ttry { naver.main.nelo.setEnable(true); } catch(e) { };\\n\\n\\t\\t\\t\\tif ( svr === \"<!--cweb301.ntop-->\" ) {\\n\\t\\t\\t\\t\\tJEagleEyeClient.setEnable(true);\\n\\t\\t\\t\\t}\\n\\n\\t\\t\\t\\tif(typeof initPage != \\'undefined\\') {\\n    \\t\\t\\t\\tinitPage();\\n\\t\\t\\t\\t}\\t\\n\\n\\t\\t\\t\\ttry {\\n\\t\\t\\t\\t\\taPanelListAll = [{\"adMap\":null,\"code\":\"LIVINGHOME\",\"name\":\"리빙\",\"css\":\"livinghome\",\"nclick\":\"lif\",\"openDate\":null},{\"adMap\":null,\"code\":\"LIVING\",\"name\":\"푸드\",\"css\":\"living\",\"nclick\":\"fod\",\"openDate\":null},{\"adMap\":null,\"code\":\"SPORTS\",\"name\":\"스포츠\",\"css\":\"sports\",\"nclick\":\"spo\",\"openDate\":null},{\"adMap\":null,\"code\":\"CARGAME\",\"name\":\"자동차\",\"css\":\"cargame\",\"nclick\":\"aut\",\"openDate\":null},{\"adMap\":null,\"code\":\"BEAUTY\",\"name\":\"패션뷰티\",\"css\":\"beauty\",\"nclick\":\"bty\",\"openDate\":null},{\"adMap\":null,\"code\":\"MOMKIDS\",\"name\":\"부모i\",\"css\":\"momkids\",\"nclick\":\"mom\",\"openDate\":null},{\"adMap\":null,\"code\":\"HEALTH\",\"name\":\"건강\",\"css\":\"health\",\"nclick\":\"hea\",\"openDate\":null},{\"adMap\":null,\"code\":\"BBOOM\",\"name\":\"웹툰\",\"css\":\"bboom\",\"nclick\":\"web\",\"openDate\":null},{\"adMap\":null,\"code\":\"GAMEAPP\",\"name\":\"게임\",\"css\":\"gameapp\",\"nclick\":\"gam\",\"openDate\":null},{\"adMap\":null,\"code\":\"VIDEO\",\"name\":\"TV연예\",\"css\":\"video\",\"nclick\":\"tvc\",\"openDate\":null},{\"adMap\":null,\"code\":\"MUSIC\",\"name\":\"뮤직\",\"css\":\"music\",\"nclick\":\"muc\",\"openDate\":null},{\"adMap\":{\"id\":\"p_main_movie_00\",\"adPath\":\"%2Ffxshow%3Fsu%3DSU10199%26da_dom_id%3Dp_main_movie_00%26tb%3DMOVIE_1\"},\"code\":\"MOVIE\",\"name\":\"영화\",\"css\":\"movie\",\"nclick\":\"mov\",\"openDate\":null},{\"adMap\":null,\"code\":\"CULTURE\",\"name\":\"책문화\",\"css\":\"culture\",\"nclick\":\"bok\",\"openDate\":null},{\"adMap\":null,\"code\":\"WITH\",\"name\":\"함께N\",\"css\":\"with\",\"nclick\":\"pub\",\"openDate\":null},{\"adMap\":{\"id\":\"p_main_travel_00\",\"adPath\":\"%2Ffxshow%3Fsu%3DSU10198%26da_dom_id%3Dp_main_travel_00%26tb%3DTRAVEL_1\"},\"code\":\"TRAVEL\",\"name\":\"여행+\",\"css\":\"travel\",\"nclick\":\"tra\",\"openDate\":null},{\"adMap\":null,\"code\":\"DESIGN\",\"name\":\"디자인\",\"css\":\"design\",\"nclick\":\"des\",\"openDate\":null},{\"adMap\":null,\"code\":\"FINANCE\",\"name\":\"경제M\",\"css\":\"finance\",\"nclick\":\"fin\",\"openDate\":null},{\"adMap\":{\"id\":\"p_main_job_00\",\"adPath\":\"%2Ffxshow%3Fsu%3DSU10200%26da_dom_id%3Dp_main_job_00%26tb%3DJOB_1\"},\"code\":\"JOB\",\"name\":\"JOB&\",\"css\":\"job\",\"nclick\":\"job\",\"openDate\":null},{\"adMap\":null,\"code\":\"SCIENCE\",\"name\":\"과학\",\"css\":\"science\",\"nclick\":\"sci\",\"openDate\":null},{\"adMap\":null,\"code\":\"CHINA\",\"name\":\"중국\",\"css\":\"china\",\"nclick\":\"chn\",\"openDate\":null},{\"adMap\":{\"id\":\"p_main_business_00\",\"adPath\":\"%2Ffxshow%3Fsu%3DSU10204%26da_dom_id%3Dp_main_business_00%26tb%3DBUSINESS_1\"},\"code\":\"BUSINESS\",\"name\":\"비즈니스\",\"css\":\"business\",\"nclick\":\"bsn\",\"openDate\":null},{\"adMap\":null,\"code\":\"FARM\",\"name\":\"FARM\",\"css\":\"farm\",\"nclick\":\"far\",\"openDate\":null},{\"adMap\":{\"id\":\"p_main_school_01\",\"adPath\":\"%2Ffxshow%3Fsu%3DSU10210%26da_dom_id%3Dp_main_school_01%26tb%3DSCHOOL_1\"},\"code\":\"SCHOOL\",\"name\":\"스쿨잼\",\"css\":\"school\",\"nclick\":\"scl\",\"openDate\":null},{\"adMap\":null,\"code\":\"SHOW\",\"name\":\"공연전시\",\"css\":\"show\",\"nclick\":\"sow\",\"openDate\":\"20170622\"},{\"adMap\":null,\"code\":\"LAW\",\"name\":\"법률\",\"css\":\"law\",\"nclick\":\"law\",\"openDate\":\"20170803\"},{\"adMap\":null,\"code\":\"ANIMAL\",\"name\":\"동물공감\",\"css\":\"animal\",\"nclick\":\"ani\",\"openDate\":\"20170824\"},{\"adMap\":null,\"code\":\"WEDDING\",\"name\":\"연애·결혼\",\"css\":\"wedding\",\"nclick\":\"wed\",\"openDate\":\"20170831\"},{\"adMap\":null,\"code\":\"ITTECH\",\"name\":\"테크\",\"css\":\"ittech\",\"nclick\":\"tec\",\"openDate\":\"20170921\"},{\"adMap\":null,\"code\":\"EMOTION\",\"name\":\"감성충전\",\"css\":\"emotion\",\"nclick\":\"emo\",\"openDate\":\"20180322\"}]; \\n\\t\\t\\t\\t} catch(e) {\\n\\t\\t\\t\\t\\tJEagleEyeClient.sendError(\"invalid panel.json\");\\n\\t\\t\\t\\t}\\n\\t\\t\\t\\tnaver.main.PageRefresh.init();\\n\\n\\t\\t\\t\\tnaver.main.Panel.init(aPanelListAll);\\n\\n\\t\\t\\t\\tnaver.main.Log.init();\\n\\n\\t\\t\\t\\tnaver.main.ServiceNavi.init();\\n\\t\\t\\t\\tnaver.main.ThemecastNavi.init({\\n\\t\\t\\t\\t\\tbFlick: false,\\n\\t\\t\\t\\t\\tsAdList: \\'{\"header\":{\"msg\":\"success\",\"code\":0},\"body\":{\"adScriptList\":[{\"adScriptPCMain1\":{\"http\":\"https://ssl.pstatic.net/tveta/libs/assets/js/pc/main/min/pc.veta.core.min.js?20180330\",\"https\":\"https://ssl.pstatic.net/tveta/libs/assets/js/pc/main/min/pc.veta.core.min.js?20180330\"}}],\"adList\":[{\"menu\":\"ANIMAL\",\"childMenu\":\"\",\"adType\":\"singleDom\",\"multiDomAdUrl\":\"\",\"multiDomUnit\":\"\",\"infoList\":[{\"adposId\":\"1000124\",\"singleDomAdUrl\":\"https://nv.veta.naver.com/fxshow\",\"param\":{\"da_dom_id\":\"p_main_animal_00\",\"tb\":\"ANIMAL_1\",\"unit\":\"SU10261\",\"calp\":\"-\"},\"type\":{\"position\":\"rel\",\"positionIndex\":0,\"subject\":\"contents\"},\"dom\":null}]},{\"menu\":\"BEAUTY\",\"childMenu\":\"\",\"adType\":\"singleDom\",\"multiDomAdUrl\":\"\",\"multiDomUnit\":\"\",\"infoList\":[{\"adposId\":\"1000106\",\"singleDomAdUrl\":\"http://nv.veta.naver.com/fxshow\",\"param\":{\"da_dom_id\":\"p_main_beauty_00\",\"tb\":\"BEAUTY_1\",\"unit\":\"SU10249\",\"calp\":\"-\"},\"type\":{\"position\":\"rel\",\"positionIndex\":0,\"subject\":\"contents\"},\"dom\":null}]},{\"menu\":\"BUSINESS\",\"childMenu\":\"\",\"adType\":\"singleDom\",\"multiDomAdUrl\":\"\",\"multiDomUnit\":\"\",\"infoList\":[{\"adposId\":\"1000084\",\"singleDomAdUrl\":\"http://nv.veta.naver.com/fxshow\",\"param\":{\"da_dom_id\":\"p_main_business_00\",\"tb\":\"BUSINESS_1\",\"unit\":\"SU10204\",\"calp\":\"-\"},\"type\":{\"position\":\"rel\",\"positionIndex\":0,\"subject\":\"contents\"},\"dom\":null}]},{\"menu\":\"CARGAME\",\"childMenu\":\"\",\"adType\":\"singleDom\",\"multiDomAdUrl\":\"\",\"multiDomUnit\":\"\",\"infoList\":[{\"adposId\":\"1000102\",\"singleDomAdUrl\":\"http://nv.veta.naver.com/fxshow\",\"param\":{\"da_dom_id\":\"p_main_cargame_00\",\"tb\":\"CARGAME_1\",\"unit\":\"SU10253\",\"calp\":\"-\"},\"type\":{\"position\":\"rel\",\"positionIndex\":0,\"subject\":\"contents\"},\"dom\":null}]},{\"menu\":\"CHINA\",\"childMenu\":\"\",\"adType\":\"singleDom\",\"multiDomAdUrl\":\"\",\"multiDomUnit\":\"\",\"infoList\":[{\"adposId\":\"1000107\",\"singleDomAdUrl\":\"http://nv.veta.naver.com/fxshow\",\"param\":{\"da_dom_id\":\"p_main_china_00\",\"tb\":\"CHINA_1\",\"unit\":\"SU10206\",\"calp\":\"-\"},\"type\":{\"position\":\"rel\",\"positionIndex\":0,\"subject\":\"contents\"},\"dom\":null}]},{\"menu\":\"DESIGN\",\"childMenu\":\"\",\"adType\":\"singleDom\",\"multiDomAdUrl\":\"\",\"multiDomUnit\":\"\",\"infoList\":[{\"adposId\":\"1000090\",\"singleDomAdUrl\":\"http://nv.veta.naver.com/fxshow\",\"param\":{\"da_dom_id\":\"p_main_design_00\",\"tb\":\"DESIGN_1\",\"unit\":\"SU10205\",\"calp\":\"-\"},\"type\":{\"position\":\"rel\",\"positionIndex\":0,\"subject\":\"contents\"},\"dom\":null}]},{\"menu\":\"FARM\",\"childMenu\":\"\",\"adType\":\"singleDom\",\"multiDomAdUrl\":\"\",\"multiDomUnit\":\"\",\"infoList\":[{\"adposId\":\"1000101\",\"singleDomAdUrl\":\"http://nv.veta.naver.com/fxshow\",\"param\":{\"da_dom_id\":\"p_main_farm_00\",\"tb\":\"FARM_1\",\"unit\":\"SU10207\",\"calp\":\"-\"},\"type\":{\"position\":\"rel\",\"positionIndex\":0,\"subject\":\"contents\"},\"dom\":null}]},{\"menu\":\"FINANCE\",\"childMenu\":\"\",\"adType\":\"singleDom\",\"multiDomAdUrl\":\"\",\"multiDomUnit\":\"\",\"infoList\":[{\"adposId\":\"1000105\",\"singleDomAdUrl\":\"http://nv.veta.naver.com/fxshow\",\"param\":{\"da_dom_id\":\"p_main_finance_00\",\"tb\":\"FINANCE_1\",\"unit\":\"SU10250\",\"calp\":\"-\"},\"type\":{\"position\":\"rel\",\"positionIndex\":0,\"subject\":\"contents\"},\"dom\":null}]},{\"menu\":\"ITTECH\",\"childMenu\":\"\",\"adType\":\"singleDom\",\"multiDomAdUrl\":\"\",\"multiDomUnit\":\"\",\"infoList\":[{\"adposId\":\"1000113\",\"singleDomAdUrl\":\"https://nv.veta.naver.com/fxshow\",\"param\":{\"da_dom_id\":\"p_main_ittech_00\",\"tb\":\"ITTECH_1\",\"unit\":\"SU10260\",\"calp\":\"-\"},\"type\":{\"position\":\"rel\",\"positionIndex\":0,\"subject\":\"contents\"},\"dom\":null}]},{\"menu\":\"JOB\",\"childMenu\":\"\",\"adType\":\"singleDom\",\"multiDomAdUrl\":\"\",\"multiDomUnit\":\"\",\"infoList\":[{\"adposId\":\"1000088\",\"singleDomAdUrl\":\"http://nv.veta.naver.com/fxshow\",\"param\":{\"da_dom_id\":\"p_main_job_00\",\"tb\":\"JOB_1\",\"unit\":\"SU10200\",\"calp\":\"-\"},\"type\":{\"position\":\"rel\",\"positionIndex\":0,\"subject\":\"contents\"},\"dom\":null}]},{\"menu\":\"LAW\",\"childMenu\":\"\",\"adType\":\"singleDom\",\"multiDomAdUrl\":\"\",\"multiDomUnit\":\"\",\"infoList\":[{\"adposId\":\"1000100\",\"singleDomAdUrl\":\"http://nv.veta.naver.com/fxshow\",\"param\":{\"da_dom_id\":\"p_main_law_00\",\"tb\":\"LAW_1\",\"unit\":\"SU10255\",\"calp\":\"-\"},\"type\":{\"position\":\"rel\",\"positionIndex\":0,\"subject\":\"contents\"},\"dom\":null}]},{\"menu\":\"LIVING\",\"childMenu\":\"\",\"adType\":\"singleDom\",\"multiDomAdUrl\":\"\",\"multiDomUnit\":\"\",\"infoList\":[{\"adposId\":\"1000104\",\"singleDomAdUrl\":\"http://nv.veta.naver.com/fxshow\",\"param\":{\"da_dom_id\":\"p_main_living_00\",\"tb\":\"LIVING_1\",\"unit\":\"SU10251\",\"calp\":\"-\"},\"type\":{\"position\":\"rel\",\"positionIndex\":0,\"subject\":\"contents\"},\"dom\":null}]},{\"menu\":\"LIVINGHOME\",\"childMenu\":\"\",\"adType\":\"singleDom\",\"multiDomAdUrl\":\"\",\"multiDomUnit\":\"\",\"infoList\":[{\"adposId\":\"1000103\",\"singleDomAdUrl\":\"http://nv.veta.naver.com/fxshow\",\"param\":{\"da_dom_id\":\"p_main_livinghome_00\",\"tb\":\"LIVINGHOME_1\",\"unit\":\"SU10252\",\"calp\":\"-\"},\"type\":{\"position\":\"rel\",\"positionIndex\":0,\"subject\":\"contents\"},\"dom\":null}]},{\"menu\":\"MOMKIDS\",\"childMenu\":\"\",\"adType\":\"singleDom\",\"multiDomAdUrl\":\"\",\"multiDomUnit\":\"\",\"infoList\":[{\"adposId\":\"1000089\",\"singleDomAdUrl\":\"http://nv.veta.naver.com/fxshow\",\"param\":{\"da_dom_id\":\"p_main_momkids_00\",\"tb\":\"MOMKIDS_1\",\"unit\":\"SU10226\",\"calp\":\"-\"},\"type\":{\"position\":\"rel\",\"positionIndex\":0,\"subject\":\"contents\"},\"dom\":null}]},{\"menu\":\"MOVIE\",\"childMenu\":\"\",\"adType\":\"singleDom\",\"multiDomAdUrl\":\"\",\"multiDomUnit\":\"\",\"infoList\":[{\"adposId\":\"1000087\",\"singleDomAdUrl\":\"http://nv.veta.naver.com/fxshow\",\"param\":{\"da_dom_id\":\"p_main_movie_00\",\"tb\":\"MOVIE_1\",\"unit\":\"SU10199\",\"calp\":\"-\"},\"type\":{\"position\":\"rel\",\"positionIndex\":0,\"subject\":\"contents\"},\"dom\":null}]},{\"menu\":\"SCHOOL\",\"childMenu\":\"\",\"adType\":\"singleDom\",\"multiDomAdUrl\":\"\",\"multiDomUnit\":\"\",\"infoList\":[{\"adposId\":\"1000085\",\"singleDomAdUrl\":\"http://nv.veta.naver.com/fxshow\",\"param\":{\"da_dom_id\":\"p_main_school_01\",\"tb\":\"SCHOOL_1\",\"unit\":\"SU10210\",\"calp\":\"-\"},\"type\":{\"position\":\"rel\",\"positionIndex\":0,\"subject\":\"contents\"},\"dom\":null}]},{\"menu\":\"SHOW\",\"childMenu\":\"\",\"adType\":\"singleDom\",\"multiDomAdUrl\":\"\",\"multiDomUnit\":\"\",\"infoList\":[{\"adposId\":\"1000112\",\"singleDomAdUrl\":\"https://nv.veta.naver.com/fxshow\",\"param\":{\"da_dom_id\":\"p_main_show_00\",\"tb\":\"SHOW_1\",\"unit\":\"SU10262\",\"calp\":\"-\"},\"type\":{\"position\":\"rel\",\"positionIndex\":0,\"subject\":\"contents\"},\"dom\":null}]},{\"menu\":\"TRAVEL\",\"childMenu\":\"\",\"adType\":\"singleDom\",\"multiDomAdUrl\":\"\",\"multiDomUnit\":\"\",\"infoList\":[{\"adposId\":\"1000086\",\"singleDomAdUrl\":\"http://nv.veta.naver.com/fxshow\",\"param\":{\"da_dom_id\":\"p_main_travel_00\",\"tb\":\"TRAVEL_1\",\"unit\":\"SU10198\",\"calp\":\"-\"},\"type\":{\"position\":\"rel\",\"positionIndex\":0,\"subject\":\"contents\"},\"dom\":null}]},{\"menu\":\"WEDDING\",\"childMenu\":\"\",\"adType\":\"singleDom\",\"multiDomAdUrl\":\"\",\"multiDomUnit\":\"\",\"infoList\":[{\"adposId\":\"1000128\",\"singleDomAdUrl\":\"https://nv.veta.naver.com/fxshow\",\"param\":{\"da_dom_id\":\"p_main_wedding_00\",\"tb\":\"WEDDING_1\",\"unit\":\"SU10263\",\"calp\":\"-\"},\"type\":{\"position\":\"rel\",\"positionIndex\":0,\"subject\":\"contents\"},\"dom\":null}]}]}}\\'\\n\\t\\t\\t\\t});\\n\\t\\t\\t\\tnaver.main.CenterBanner.init();\\n\\t\\t\\t\\tnewSmartSearch();\\n\\t\\n\\t\\t\\t\\tnew naver.main.Newsstand({\\n\\t\\t\\t\\t\\trcode : \"09290125\",\\n        \\t\\t    newspaperURL : \"newspaper.naver.com\",\\n            \\t\\tnewsStandURL : \"newsstand.naver.com\",\\n\\t\\t            userInfoURL : \"userinfo.www.naver.com\",\\n    \\t\\t        newsCastInfo : \"\",\\n        \\t\\t    newsStandInfo : \"\",\\n            \\t\\theadlineList : {\"pid\" : [\"002\",\"003\",\"005\",\"006\",\"008\",\"009\",\"011\",\"013\",\"014\",\"015\",\"016\",\"018\",\"020\",\"021\",\"022\",\"023\",\"024\",\"025\",\"028\",\"029\",\"030\",\"031\",\"032\",\"038\",\"042\",\"044\",\"047\",\"050\",\"052\",\"055\",\"056\",\"057\",\"073\",\"075\",\"076\",\"079\",\"081\",\"082\",\"083\",\"087\",\"088\",\"089\",\"092\",\"108\",\"109\",\"117\",\"120\",\"122\",\"123\",\"135\",\"138\",\"139\",\"140\",\"143\",\"144\",\"213\",\"214\",\"215\",\"241\",\"243\",\"277\",\"293\",\"296\",\"301\",\"308\",\"310\",\"311\",\"312\",\"314\",\"326\",\"327\",\"328\",\"329\",\"330\",\"331\",\"332\",\"333\",\"334\",\"335\",\"336\",\"337\",\"338\",\"339\",\"340\",\"344\",\"345\",\"346\",\"353\",\"354\",\"355\",\"356\",\"361\",\"362\",\"363\",\"364\",\"366\",\"368\",\"374\",\"376\",\"384\",\"385\",\"387\",\"388\",\"389\",\"390\",\"391\",\"396\",\"404\",\"410\",\"416\",\"417\",\"421\",\"422\",\"440\",\"447\",\"477\",\"529\",\"536\",\"539\",\"801\",\"802\",\"803\",\"804\",\"806\",\"807\",\"808\",\"809\",\"810\",\"901\",\"902\",\"903\",\"904\",\"905\",\"906\",\"907\",\"908\",\"909\",\"910\",\"911\",\"912\",\"913\",\"914\",\"915\",\"916\",\"917\",\"920\",\"921\",\"922\",\"923\",\"924\",\"925\",\"926\",\"927\",\"928\",\"930\",\"932\",\"933\",\"934\",\"935\",\"936\",\"937\",\"938\",\"939\",\"940\",\"941\",\"942\",\"943\",\"944\",\"945\",\"946\",\"947\",\"948\",\"949\",\"950\",\"951\",\"952\",\"953\",\"954\",\"955\",\"956\",\"957\",\"958\",\"959\",\"960\",\"961\",\"962\",\"963\",\"964\",\"965\",\"966\",\"967\",\"968\",\"969\",\"970\",\"971\",\"972\",\"973\",\"974\",\"975\",\"976\",\"977\",\"978\",\"979\",\"980\",\"981\",\"982\",\"983\",\"984\",\"986\",\"987\",\"988\",\"989\",\"990\",\"991\",\"993\"], \"amigo\" : [], \"invalid\" : []},\\n\\t\\t\\t\\t\\tpressCategory : {\"ct1\":[{\"pid\":\"032\",\"name\":\"경향신문\",\"img\":\"https://s.pstatic.net/static/newsstand/up/2017/0424/nsd14372435.png\",\"cate\":\"ct2\",\"amigo\":\"N\",\"viewer\":\"Y\",\"today\":\"N\",\"local\":null},{\"pid\":\"005\",\"name\":\"국민일보\",\"img\":\"https://s.pstatic.net/static/newsstand/up/2017/0424/nsd1438916.png\",\"cate\":\"ct2\",\"amigo\":\"N\",\"viewer\":\"Y\",\"today\":\"N\",\"local\":null},{\"pid\":\"079\",\"name\":\"노컷뉴스\",\"img\":\"https://s.pstatic.net/static/newsstand/up/2017/0424/nsd143958887.png\",\"cate\":\"ct2\",\"amigo\":\"N\",\"viewer\":\"Y\",\"today\":\"N\",\"local\":null},{\"pid\":\"327\",\"name\":\"뉴데일리\",\"img\":\"https://s.pstatic.net/static/newsstand/up/2017/0424/nsd144037935.png\",\"cate\":\"ct2\",\"amigo\":\"N\",\"viewer\":\"Y\",\"today\":\"N\",\"local\":null},{\"pid\":\"930\",\"name\":\"뉴스타파\",\"img\":\"https://s.pstatic.net/static/newsstand/up/2017/0424/nsd144152433.png\",\"cate\":\"ct2\",\"amigo\":\"N\",\"viewer\":\"Y\",\"today\":\"N\",\"local\":null},{\"pid\":\"003\",\"name\":\"뉴시스\",\"img\":\"https://s.pstatic.net/static/newsstand/up/2017/0424/nsd14449981.png\",\"cate\":\"ct3\",\"amigo\":\"N\",\"viewer\":\"Y\",\"today\":\"N\",\"local\":null},{\"pid\":\"368\",\"name\":\"데일리안\",\"img\":\"https://s.pstatic.net/static/newsstand/up/2017/0424/nsd14463367.png\",\"cate\":\"ct2\",\"amigo\":\"N\",\"viewer\":\"Y\",\"today\":\"N\",\"local\":null},{\"pid\":\"020\",\"name\":\"동아일보\",\"img\":\"https://s.pstatic.net/static/newsstand/up/2017/0424/nsd14479875.png\",\"cate\":\"ct2\",\"amigo\":\"N\",\"viewer\":\"Y\",\"today\":\"N\",\"local\":null},{\"pid\":\"029\",\"name\":\"디지털타임스\",\"img\":\"https://s.pstatic.net/static/newsstand/up/2018/0719/nsd162516824.png\",\"cate\":\"ct4\",\"amigo\":\"N\",\"viewer\":\"Y\",\"today\":\"N\",\"local\":null},{\"pid\":\"117\",\"name\":\"마이데일리\",\"img\":\"https://s.pstatic.net/static/newsstand/up/2017/0424/nsd144944309.png\",\"cate\":\"ct6\",\"amigo\":\"N\",\"viewer\":\"Y\",\"today\":\"N\",\"local\":null},{\"pid\":\"009\",\"name\":\"매일경제\",\"img\":\"https://s.pstatic.net/static/newsstand/up/2017/0424/nsd145032565.png\",\"cate\":\"ct2\",\"amigo\":\"N\",\"viewer\":\"Y\",\"today\":\"N\",\"local\":null},{\"pid\":\"008\",\"name\":\"머니투데이\",\"img\":\"https://s.pstatic.net/static/newsstand/up/2017/0424/nsd145214517.png\",\"cate\":\"ct2\",\"amigo\":\"N\",\"viewer\":\"Y\",\"today\":\"N\",\"local\":null},{\"pid\":\"021\",\"name\":\"문화일보\",\"img\":\"https://s.pstatic.net/static/newsstand/up/2017/0424/nsd19245981.png\",\"cate\":\"ct2\",\"amigo\":\"N\",\"viewer\":\"Y\",\"today\":\"N\",\"local\":null},{\"pid\":\"006\",\"name\":\"미디어오늘\",\"img\":\"https://s.pstatic.net/static/newsstand/up/2017/0424/nsd145346617.png\",\"cate\":\"ct2\",\"amigo\":\"N\",\"viewer\":\"Y\",\"today\":\"N\",\"local\":null},{\"pid\":\"293\",\"name\":\"블로터\",\"img\":\"https://s.pstatic.net/static/newsstand/up/2018/0316/nsd175350622.png\",\"cate\":\"ct4\",\"amigo\":\"N\",\"viewer\":\"Y\",\"today\":\"N\",\"local\":null},{\"pid\":\"011\",\"name\":\"서울경제\",\"img\":\"https://s.pstatic.net/static/newsstand/up/2017/0424/nsd145718601.png\",\"cate\":\"ct2\",\"amigo\":\"N\",\"viewer\":\"Y\",\"today\":\"N\",\"local\":null},{\"pid\":\"081\",\"name\":\"서울신문\",\"img\":\"https://s.pstatic.net/static/newsstand/up/2017/0424/nsd145738195.png\",\"cate\":\"ct2\",\"amigo\":\"N\",\"viewer\":\"Y\",\"today\":\"N\",\"local\":null},{\"pid\":\"022\",\"name\":\"세계일보\",\"img\":\"https://s.pstatic.net/static/newsstand/up/2017/0424/nsd145813557.png\",\"cate\":\"ct2\",\"amigo\":\"N\",\"viewer\":\"Y\",\"today\":\"N\",\"local\":null},{\"pid\":\"314\",\"name\":\"스포츠동아\",\"img\":\"https://s.pstatic.net/static/newsstand/up/2017/0424/nsd145951763.png\",\"cate\":\"ct6\",\"amigo\":\"N\",\"viewer\":\"Y\",\"today\":\"N\",\"local\":null},{\"pid\":\"073\",\"name\":\"스포츠서울\",\"img\":\"https://s.pstatic.net/static/newsstand/up/2017/0424/nsd15042554.png\",\"cate\":\"ct6\",\"amigo\":\"N\",\"viewer\":\"Y\",\"today\":\"N\",\"local\":null},{\"pid\":\"076\",\"name\":\"스포츠조선\",\"img\":\"https://s.pstatic.net/static/newsstand/up/2017/0424/nsd183553864.png\",\"cate\":\"ct6\",\"amigo\":\"N\",\"viewer\":\"Y\",\"today\":\"N\",\"local\":null},{\"pid\":\"139\",\"name\":\"스포탈코리아\",\"img\":\"https://s.pstatic.net/static/newsstand/up/2017/0424/nsd151840663.png\",\"cate\":\"ct6\",\"amigo\":\"N\",\"viewer\":\"Y\",\"today\":\"N\",\"local\":null},{\"pid\":\"308\",\"name\":\"시사인\",\"img\":\"https://s.pstatic.net/static/newsstand/up/2017/0424/nsd151929775.png\",\"cate\":\"ct7\",\"amigo\":\"N\",\"viewer\":\"Y\",\"today\":\"N\",\"local\":null},{\"pid\":\"277\",\"name\":\"아시아경제\",\"img\":\"https://s.pstatic.net/static/newsstand/up/2017/0424/nsd153432228.png\",\"cate\":\"ct2\",\"amigo\":\"N\",\"viewer\":\"Y\",\"today\":\"N\",\"local\":null},{\"pid\":\"031\",\"name\":\"아이뉴스24\",\"img\":\"https://s.pstatic.net/static/newsstand/up/2017/0424/nsd153955864.png\",\"cate\":\"ct2\",\"amigo\":\"N\",\"viewer\":\"Y\",\"today\":\"N\",\"local\":null},{\"pid\":\"422\",\"name\":\"연합뉴스TV\",\"img\":\"https://s.pstatic.net/static/newsstand/up/2017/0424/nsd154219877.png\",\"cate\":\"ct3\",\"amigo\":\"N\",\"viewer\":\"Y\",\"today\":\"N\",\"local\":null},{\"pid\":\"047\",\"name\":\"오마이뉴스\",\"img\":\"https://s.pstatic.net/static/newsstand/up/2017/0424/nsd154314463.png\",\"cate\":\"ct2\",\"amigo\":\"N\",\"viewer\":\"Y\",\"today\":\"N\",\"local\":null},{\"pid\":\"018\",\"name\":\"이데일리\",\"img\":\"https://s.pstatic.net/static/newsstand/up/2017/0424/nsd154426359.png\",\"cate\":\"ct2\",\"amigo\":\"N\",\"viewer\":\"Y\",\"today\":\"N\",\"local\":null},{\"pid\":\"241\",\"name\":\"일간스포츠\",\"img\":\"https://s.pstatic.net/static/newsstand/up/2017/0424/nsd154619739.png\",\"cate\":\"ct6\",\"amigo\":\"N\",\"viewer\":\"Y\",\"today\":\"N\",\"local\":null},{\"pid\":\"030\",\"name\":\"전자신문\",\"img\":\"https://s.pstatic.net/static/newsstand/up/2017/0424/nsd162528724.png\",\"cate\":\"ct4\",\"amigo\":\"N\",\"viewer\":\"Y\",\"today\":\"N\",\"local\":null},{\"pid\":\"366\",\"name\":\"조선비즈\",\"img\":\"https://s.pstatic.net/static/newsstand/up/2017/0424/nsd162659528.png\",\"cate\":\"ct2\",\"amigo\":\"N\",\"viewer\":\"Y\",\"today\":\"N\",\"local\":null},{\"pid\":\"023\",\"name\":\"조선일보\",\"img\":\"https://s.pstatic.net/static/newsstand/up/2017/0424/nsd162718792.png\",\"cate\":\"ct2\",\"amigo\":\"N\",\"viewer\":\"Y\",\"today\":\"N\",\"local\":null},{\"pid\":\"330\",\"name\":\"중앙데일리\",\"img\":\"https://s.pstatic.net/static/newsstand/up/2018/0626/nsd103519292.png\",\"cate\":\"ct5\",\"amigo\":\"N\",\"viewer\":\"Y\",\"today\":\"N\",\"local\":null},{\"pid\":\"025\",\"name\":\"중앙일보\",\"img\":\"https://s.pstatic.net/static/newsstand/up/2018/0807/nsd1484475.png\",\"cate\":\"ct2\",\"amigo\":\"N\",\"viewer\":\"Y\",\"today\":\"N\",\"local\":null},{\"pid\":\"092\",\"name\":\"지디넷코리아\",\"img\":\"https://s.pstatic.net/static/newsstand/up/2017/0424/nsd16425834.png\",\"cate\":\"ct4\",\"amigo\":\"N\",\"viewer\":\"Y\",\"today\":\"N\",\"local\":null},{\"pid\":\"376\",\"name\":\"지지통신\",\"img\":\"https://s.pstatic.net/static/newsstand/up/2017/0424/nsd16432873.png\",\"cate\":\"ct3\",\"amigo\":\"N\",\"viewer\":\"Y\",\"today\":\"N\",\"local\":null},{\"pid\":\"044\",\"name\":\"코리아헤럴드\",\"img\":\"https://s.pstatic.net/static/newsstand/up/2017/0424/nsd17341942.png\",\"cate\":\"ct5\",\"amigo\":\"N\",\"viewer\":\"Y\",\"today\":\"N\",\"local\":null},{\"pid\":\"014\",\"name\":\"파이낸셜뉴스\",\"img\":\"https://s.pstatic.net/static/newsstand/up/2017/0424/nsd172557496.png\",\"cate\":\"ct2\",\"amigo\":\"N\",\"viewer\":\"Y\",\"today\":\"N\",\"local\":null},{\"pid\":\"002\",\"name\":\"프레시안\",\"img\":\"https://s.pstatic.net/static/newsstand/up/2017/0424/nsd172615885.png\",\"cate\":\"ct2\",\"amigo\":\"N\",\"viewer\":\"Y\",\"today\":\"N\",\"local\":null},{\"pid\":\"028\",\"name\":\"한겨레\",\"img\":\"https://s.pstatic.net/static/newsstand/up/2017/0424/nsd17263596.png\",\"cate\":\"ct2\",\"amigo\":\"N\",\"viewer\":\"Y\",\"today\":\"N\",\"local\":null},{\"pid\":\"015\",\"name\":\"한국경제\",\"img\":\"https://s.pstatic.net/static/newsstand/up/2017/0424/nsd172736175.png\",\"cate\":\"ct2\",\"amigo\":\"N\",\"viewer\":\"Y\",\"today\":\"N\",\"local\":null},{\"pid\":\"215\",\"name\":\"한국경제TV\",\"img\":\"https://s.pstatic.net/static/newsstand/up/2017/0424/nsd172755139.png\",\"cate\":\"ct3\",\"amigo\":\"N\",\"viewer\":\"Y\",\"today\":\"N\",\"local\":null},{\"pid\":\"038\",\"name\":\"한국일보\",\"img\":\"https://s.pstatic.net/static/newsstand/up/2017/0424/nsd172837200.png\",\"cate\":\"ct2\",\"amigo\":\"N\",\"viewer\":\"Y\",\"today\":\"N\",\"local\":null},{\"pid\":\"016\",\"name\":\"헤럴드경제\",\"img\":\"https://s.pstatic.net/static/newsstand/up/2017/0424/nsd172855569.png\",\"cate\":\"ct2\",\"amigo\":\"N\",\"viewer\":\"Y\",\"today\":\"N\",\"local\":null},{\"pid\":\"904\",\"name\":\"JTBC\",\"img\":\"https://s.pstatic.net/static/newsstand/up/2017/0424/nsd173111263.png\",\"cate\":\"ct3\",\"amigo\":\"N\",\"viewer\":\"Y\",\"today\":\"N\",\"local\":null},{\"pid\":\"056\",\"name\":\"KBS\",\"img\":\"https://s.pstatic.net/static/newsstand/up/2017/0424/nsd173124306.png\",\"cate\":\"ct3\",\"amigo\":\"N\",\"viewer\":\"Y\",\"today\":\"N\",\"local\":null},{\"pid\":\"326\",\"name\":\"KBS World\",\"img\":\"https://s.pstatic.net/static/newsstand/up/2017/0424/nsd173138949.png\",\"cate\":\"ct5\",\"amigo\":\"N\",\"viewer\":\"Y\",\"today\":\"N\",\"local\":null},{\"pid\":\"214\",\"name\":\"MBC\",\"img\":\"https://s.pstatic.net/static/newsstand/up/2017/0424/nsd17324940.png\",\"cate\":\"ct3\",\"amigo\":\"N\",\"viewer\":\"Y\",\"today\":\"N\",\"local\":null},{\"pid\":\"057\",\"name\":\"MBN\",\"img\":\"https://s.pstatic.net/static/newsstand/up/2017/0424/nsd173223533.png\",\"cate\":\"ct3\",\"amigo\":\"N\",\"viewer\":\"Y\",\"today\":\"N\",\"local\":null},{\"pid\":\"109\",\"name\":\"OSEN\",\"img\":\"https://s.pstatic.net/static/newsstand/up/2017/0424/nsd17338859.png\",\"cate\":\"ct6\",\"amigo\":\"N\",\"viewer\":\"Y\",\"today\":\"N\",\"local\":null},{\"pid\":\"055\",\"name\":\"SBS\",\"img\":\"https://s.pstatic.net/static/newsstand/up/2017/0424/nsd173335676.png\",\"cate\":\"ct3\",\"amigo\":\"N\",\"viewer\":\"Y\",\"today\":\"N\",\"local\":null},{\"pid\":\"052\",\"name\":\"YTN\",\"img\":\"https://s.pstatic.net/static/newsstand/up/2017/0424/nsd173559874.png\",\"cate\":\"ct3\",\"amigo\":\"N\",\"viewer\":\"Y\",\"today\":\"N\",\"local\":null}],\"ct2\":[{\"pid\":\"960\",\"name\":\"건설경제신문\",\"img\":\"https://s.pstatic.net/static/newsstand/up/2017/1201/nsd161545206.png\",\"cate\":\"ct2\",\"amigo\":\"N\",\"viewer\":\"Y\",\"today\":\"N\",\"local\":null},{\"pid\":\"032\",\"name\":\"경향신문\",\"img\":\"https://s.pstatic.net/static/newsstand/up/2017/0424/nsd14372435.png\",\"cate\":\"ct2\",\"amigo\":\"N\",\"viewer\":\"Y\",\"today\":\"N\",\"local\":null},{\"pid\":\"005\",\"name\":\"국민일보\",\"img\":\"https://s.pstatic.net/static/newsstand/up/2017/0424/nsd1438916.png\",\"cate\":\"ct2\",\"amigo\":\"N\",\"viewer\":\"Y\",\"today\":\"N\",\"local\":null},{\"pid\":\"944\",\"name\":\"나우뉴스\",\"img\":\"https://s.pstatic.net/static/newsstand/up/2017/0424/nsd14392079.png\",\"cate\":\"ct2\",\"amigo\":\"N\",\"viewer\":\"Y\",\"today\":\"N\",\"local\":null},{\"pid\":\"079\",\"name\":\"노컷뉴스\",\"img\":\"https://s.pstatic.net/static/newsstand/up/2017/0424/nsd143958887.png\",\"cate\":\"ct2\",\"amigo\":\"N\",\"viewer\":\"Y\",\"today\":\"N\",\"local\":null},{\"pid\":\"327\",\"name\":\"뉴데일리\",\"img\":\"https://s.pstatic.net/static/newsstand/up/2017/0424/nsd144037935.png\",\"cate\":\"ct2\",\"amigo\":\"N\",\"viewer\":\"Y\",\"today\":\"N\",\"local\":null},{\"pid\":\"930\",\"name\":\"뉴스타파\",\"img\":\"https://s.pstatic.net/static/newsstand/up/2017/0424/nsd144152433.png\",\"cate\":\"ct2\",\"amigo\":\"N\",\"viewer\":\"Y\",\"today\":\"N\",\"local\":null},{\"pid\":\"913\",\"name\":\"뉴스토마토\",\"img\":\"https://s.pstatic.net/static/newsstand/up/2017/0424/nsd14431117.png\",\"cate\":\"ct2\",\"amigo\":\"N\",\"viewer\":\"Y\",\"today\":\"N\",\"local\":null},{\"pid\":\"914\",\"name\":\"뉴스핌\",\"img\":\"https://s.pstatic.net/static/newsstand/up/2017/0613/nsd173430698.png\",\"cate\":\"ct2\",\"amigo\":\"N\",\"viewer\":\"Y\",\"today\":\"N\",\"local\":null},{\"pid\":\"536\",\"name\":\"더팩트\",\"img\":\"https://s.pstatic.net/static/newsstand/up/2017/0424/nsd144543120.png\",\"cate\":\"ct2\",\"amigo\":\"N\",\"viewer\":\"Y\",\"today\":\"N\",\"local\":null},{\"pid\":\"804\",\"name\":\"데이터뉴스\",\"img\":\"https://s.pstatic.net/static/newsstand/up/2019/0311/nsd10146709.png\",\"cate\":\"ct2\",\"amigo\":\"N\",\"viewer\":\"Y\",\"today\":\"N\",\"local\":null},{\"pid\":\"368\",\"name\":\"데일리안\",\"img\":\"https://s.pstatic.net/static/newsstand/up/2017/0424/nsd14463367.png\",\"cate\":\"ct2\",\"amigo\":\"N\",\"viewer\":\"Y\",\"today\":\"N\",\"local\":null},{\"pid\":\"020\",\"name\":\"동아일보\",\"img\":\"https://s.pstatic.net/static/newsstand/up/2017/0424/nsd14479875.png\",\"cate\":\"ct2\",\"amigo\":\"N\",\"viewer\":\"Y\",\"today\":\"N\",\"local\":null},{\"pid\":\"009\",\"name\":\"매일경제\",\"img\":\"https://s.pstatic.net/static/newsstand/up/2017/0424/nsd145032565.png\",\"cate\":\"ct2\",\"amigo\":\"N\",\"viewer\":\"Y\",\"today\":\"N\",\"local\":null},{\"pid\":\"969\",\"name\":\"매일노동뉴스\",\"img\":\"https://s.pstatic.net/static/newsstand/up/2017/1201/nsd161443290.png\",\"cate\":\"ct2\",\"amigo\":\"N\",\"viewer\":\"Y\",\"today\":\"N\",\"local\":null},{\"pid\":\"417\",\"name\":\"머니에스\",\"img\":\"https://s.pstatic.net/static/newsstand/up/2017/0424/nsd145150694.png\",\"cate\":\"ct2\",\"amigo\":\"N\",\"viewer\":\"Y\",\"today\":\"N\",\"local\":null},{\"pid\":\"008\",\"name\":\"머니투데이\",\"img\":\"https://s.pstatic.net/static/newsstand/up/2017/0424/nsd145214517.png\",\"cate\":\"ct2\",\"amigo\":\"N\",\"viewer\":\"Y\",\"today\":\"N\",\"local\":null},{\"pid\":\"961\",\"name\":\"메트로신문\",\"img\":\"https://s.pstatic.net/static/newsstand/up/2017/1201/nsd161618979.png\",\"cate\":\"ct2\",\"amigo\":\"N\",\"viewer\":\"Y\",\"today\":\"N\",\"local\":null},{\"pid\":\"021\",\"name\":\"문화일보\",\"img\":\"https://s.pstatic.net/static/newsstand/up/2017/0424/nsd19245981.png\",\"cate\":\"ct2\",\"amigo\":\"N\",\"viewer\":\"Y\",\"today\":\"N\",\"local\":null},{\"pid\":\"006\",\"name\":\"미디어오늘\",\"img\":\"https://s.pstatic.net/static/newsstand/up/2017/0424/nsd145346617.png\",\"cate\":\"ct2\",\"amigo\":\"N\",\"viewer\":\"Y\",\"today\":\"N\",\"local\":null},{\"pid\":\"809\",\"name\":\"미디어펜\",\"img\":\"https://s.pstatic.net/static/newsstand/up/2019/0520/nsd172316495.png\",\"cate\":\"ct2\",\"amigo\":\"N\",\"viewer\":\"Y\",\"today\":\"N\",\"local\":null},{\"pid\":\"939\",\"name\":\"브릿지경제\",\"img\":\"https://s.pstatic.net/static/newsstand/up/2017/0424/nsd145512265.png\",\"cate\":\"ct2\",\"amigo\":\"N\",\"viewer\":\"Y\",\"today\":\"N\",\"local\":null},{\"pid\":\"943\",\"name\":\"비즈니스워치\",\"img\":\"https://s.pstatic.net/static/newsstand/up/2017/1102/nsd155540688.png\",\"cate\":\"ct2\",\"amigo\":\"N\",\"viewer\":\"Y\",\"today\":\"N\",\"local\":null},{\"pid\":\"942\",\"name\":\"비즈니스포스트\",\"img\":\"https://s.pstatic.net/static/newsstand/up/2017/0424/nsd145630550.png\",\"cate\":\"ct2\",\"amigo\":\"N\",\"viewer\":\"Y\",\"today\":\"N\",\"local\":null},{\"pid\":\"973\",\"name\":\"비즈한국\",\"img\":\"https://s.pstatic.net/static/newsstand/up/2017/1209/nsd14224593.png\",\"cate\":\"ct2\",\"amigo\":\"N\",\"viewer\":\"Y\",\"today\":\"N\",\"local\":null},{\"pid\":\"011\",\"name\":\"서울경제\",\"img\":\"https://s.pstatic.net/static/newsstand/up/2017/0424/nsd145718601.png\",\"cate\":\"ct2\",\"amigo\":\"N\",\"viewer\":\"Y\",\"today\":\"N\",\"local\":null},{\"pid\":\"081\",\"name\":\"서울신문\",\"img\":\"https://s.pstatic.net/static/newsstand/up/2017/0424/nsd145738195.png\",\"cate\":\"ct2\",\"amigo\":\"N\",\"viewer\":\"Y\",\"today\":\"N\",\"local\":null},{\"pid\":\"022\",\"name\":\"세계일보\",\"img\":\"https://s.pstatic.net/static/newsstand/up/2017/0424/nsd145813557.png\",\"cate\":\"ct2\",\"amigo\":\"N\",\"viewer\":\"Y\",\"today\":\"N\",\"local\":null},{\"pid\":\"970\",\"name\":\"소비자가만드는신문\",\"img\":\"https://s.pstatic.net/static/newsstand/up/2018/1016/nsd1687672.png\",\"cate\":\"ct2\",\"amigo\":\"N\",\"viewer\":\"Y\",\"today\":\"N\",\"local\":null},{\"pid\":\"957\",\"name\":\"시사위크\",\"img\":\"https://s.pstatic.net/static/newsstand/up/2017/1127/nsd8401364.png\",\"cate\":\"ct2\",\"amigo\":\"N\",\"viewer\":\"Y\",\"today\":\"N\",\"local\":null},{\"pid\":\"975\",\"name\":\"시사저널이코노미\",\"img\":\"https://s.pstatic.net/static/newsstand/up/2017/1209/nsd1413096.png\",\"cate\":\"ct2\",\"amigo\":\"N\",\"viewer\":\"Y\",\"today\":\"N\",\"local\":null},{\"pid\":\"810\",\"name\":\"신아일보\",\"img\":\"https://s.pstatic.net/static/newsstand/up/2019/0318/nsd15471273.png\",\"cate\":\"ct2\",\"amigo\":\"N\",\"viewer\":\"Y\",\"today\":\"N\",\"local\":null},{\"pid\":\"277\",\"name\":\"아시아경제\",\"img\":\"https://s.pstatic.net/static/newsstand/up/2017/0424/nsd153432228.png\",\"cate\":\"ct2\",\"amigo\":\"N\",\"viewer\":\"Y\",\"today\":\"N\",\"local\":null},{\"pid\":\"920\",\"name\":\"아시아투데이\",\"img\":\"https://s.pstatic.net/static/newsstand/up/2017/0424/nsd153458161.png\",\"cate\":\"ct2\",\"amigo\":\"N\",\"viewer\":\"Y\",\"today\":\"N\",\"local\":null},{\"pid\":\"031\",\"name\":\"아이뉴스24\",\"img\":\"https://s.pstatic.net/static/newsstand/up/2017/0424/nsd153955864.png\",\"cate\":\"ct2\",\"amigo\":\"N\",\"viewer\":\"Y\",\"today\":\"N\",\"local\":null},{\"pid\":\"921\",\"name\":\"아주경제\",\"img\":\"https://s.pstatic.net/static/newsstand/up/2018/0611/nsd111954432.png\",\"cate\":\"ct2\",\"amigo\":\"N\",\"viewer\":\"Y\",\"today\":\"N\",\"local\":null},{\"pid\":\"963\",\"name\":\"에너지경제\",\"img\":\"https://s.pstatic.net/static/newsstand/up/2018/0118/nsd105113618.png\",\"cate\":\"ct2\",\"amigo\":\"N\",\"viewer\":\"Y\",\"today\":\"N\",\"local\":null},{\"pid\":\"013\",\"name\":\"연합인포맥스\",\"img\":\"https://s.pstatic.net/static/newsstand/up/2017/0424/nsd154238686.png\",\"cate\":\"ct2\",\"amigo\":\"N\",\"viewer\":\"Y\",\"today\":\"N\",\"local\":null},{\"pid\":\"047\",\"name\":\"오마이뉴스\",\"img\":\"https://s.pstatic.net/static/newsstand/up/2017/0424/nsd154314463.png\",\"cate\":\"ct2\",\"amigo\":\"N\",\"viewer\":\"Y\",\"today\":\"N\",\"local\":null},{\"pid\":\"801\",\"name\":\"위키리크스한국\",\"img\":\"https://s.pstatic.net/static/newsstand/up/2019/0311/nsd10043701.png\",\"cate\":\"ct2\",\"amigo\":\"N\",\"viewer\":\"Y\",\"today\":\"N\",\"local\":null},{\"pid\":\"539\",\"name\":\"위키트리\",\"img\":\"https://s.pstatic.net/static/newsstand/up/2017/0424/nsd15444343.png\",\"cate\":\"ct2\",\"amigo\":\"N\",\"viewer\":\"Y\",\"today\":\"N\",\"local\":null},{\"pid\":\"964\",\"name\":\"이뉴스투데이\",\"img\":\"https://s.pstatic.net/static/newsstand/up/2017/1201/nsd16174237.png\",\"cate\":\"ct2\",\"amigo\":\"N\",\"viewer\":\"Y\",\"today\":\"N\",\"local\":null},{\"pid\":\"018\",\"name\":\"이데일리\",\"img\":\"https://s.pstatic.net/static/newsstand/up/2017/0424/nsd154426359.png\",\"cate\":\"ct2\",\"amigo\":\"N\",\"viewer\":\"Y\",\"today\":\"N\",\"local\":null},{\"pid\":\"243\",\"name\":\"이코노미스트\",\"img\":\"https://s.pstatic.net/static/newsstand/up/2017/0424/nsd15444742.png\",\"cate\":\"ct2\",\"amigo\":\"N\",\"viewer\":\"Y\",\"today\":\"N\",\"local\":null},{\"pid\":\"922\",\"name\":\"이투데이\",\"img\":\"https://s.pstatic.net/static/newsstand/up/2018/1016/nsd16842870.png\",\"cate\":\"ct2\",\"amigo\":\"N\",\"viewer\":\"Y\",\"today\":\"N\",\"local\":null},{\"pid\":\"803\",\"name\":\"인더스트리뉴스\",\"img\":\"https://s.pstatic.net/static/newsstand/up/2019/0313/nsd71954506.png\",\"cate\":\"ct2\",\"amigo\":\"N\",\"viewer\":\"Y\",\"today\":\"N\",\"local\":null},{\"pid\":\"923\",\"name\":\"인민망\",\"img\":\"https://s.pstatic.net/static/newsstand/up/2017/0424/nsd154522345.png\",\"cate\":\"ct2\",\"amigo\":\"N\",\"viewer\":\"Y\",\"today\":\"N\",\"local\":null},{\"pid\":\"971\",\"name\":\"일요시사\",\"img\":\"https://s.pstatic.net/static/newsstand/up/2019/0318/nsd154758272.png\",\"cate\":\"ct2\",\"amigo\":\"N\",\"viewer\":\"Y\",\"today\":\"N\",\"local\":null},{\"pid\":\"925\",\"name\":\"일요신문\",\"img\":\"https://s.pstatic.net/static/newsstand/up/2017/0424/nsd192546763.png\",\"cate\":\"ct2\",\"amigo\":\"N\",\"viewer\":\"Y\",\"today\":\"N\",\"local\":null},{\"pid\":\"366\",\"name\":\"조선비즈\",\"img\":\"https://s.pstatic.net/static/newsstand/up/2017/0424/nsd162659528.png\",\"cate\":\"ct2\",\"amigo\":\"N\",\"viewer\":\"Y\",\"today\":\"N\",\"local\":null},{\"pid\":\"023\",\"name\":\"조선일보\",\"img\":\"https://s.pstatic.net/static/newsstand/up/2017/0424/nsd162718792.png\",\"cate\":\"ct2\",\"amigo\":\"N\",\"viewer\":\"Y\",\"today\":\"N\",\"local\":null},{\"pid\":\"123\",\"name\":\"조세일보\",\"img\":\"https://s.pstatic.net/static/newsstand/up/2017/0424/nsd162739461.png\",\"cate\":\"ct2\",\"amigo\":\"N\",\"viewer\":\"Y\",\"today\":\"N\",\"local\":null},{\"pid\":\"353\",\"name\":\"중앙SUNDAY\",\"img\":\"https://s.pstatic.net/static/newsstand/up/2019/0319/nsd152835299.png\",\"cate\":\"ct2\",\"amigo\":\"N\",\"viewer\":\"Y\",\"today\":\"N\",\"local\":null},{\"pid\":\"025\",\"name\":\"중앙일보\",\"img\":\"https://s.pstatic.net/static/newsstand/up/2018/0807/nsd1484475.png\",\"cate\":\"ct2\",\"amigo\":\"N\",\"viewer\":\"Y\",\"today\":\"N\",\"local\":null},{\"pid\":\"941\",\"name\":\"초이스경제\",\"img\":\"https://s.pstatic.net/static/newsstand/up/2017/0424/nsd164431529.png\",\"cate\":\"ct2\",\"amigo\":\"N\",\"viewer\":\"Y\",\"today\":\"N\",\"local\":null},{\"pid\":\"143\",\"name\":\"쿠키뉴스\",\"img\":\"https://s.pstatic.net/static/newsstand/up/2017/0424/nsd172415111.png\",\"cate\":\"ct2\",\"amigo\":\"N\",\"viewer\":\"Y\",\"today\":\"N\",\"local\":null},{\"pid\":\"014\",\"name\":\"파이낸셜뉴스\",\"img\":\"https://s.pstatic.net/static/newsstand/up/2017/0424/nsd172557496.png\",\"cate\":\"ct2\",\"amigo\":\"N\",\"viewer\":\"Y\",\"today\":\"N\",\"local\":null},{\"pid\":\"002\",\"name\":\"프레시안\",\"img\":\"https://s.pstatic.net/static/newsstand/up/2017/0424/nsd172615885.png\",\"cate\":\"ct2\",\"amigo\":\"N\",\"viewer\":\"Y\",\"today\":\"N\",\"local\":null},{\"pid\":\"028\",\"name\":\"한겨레\",\"img\":\"https://s.pstatic.net/static/newsstand/up/2017/0424/nsd17263596.png\",\"cate\":\"ct2\",\"amigo\":\"N\",\"viewer\":\"Y\",\"today\":\"N\",\"local\":null},{\"pid\":\"015\",\"name\":\"한국경제\",\"img\":\"https://s.pstatic.net/static/newsstand/up/2017/0424/nsd172736175.png\",\"cate\":\"ct2\",\"amigo\":\"N\",\"viewer\":\"Y\",\"today\":\"N\",\"local\":null},{\"pid\":\"968\",\"name\":\"한국금융신문\",\"img\":\"https://s.pstatic.net/static/newsstand/up/2017/1201/nsd161235556.png\",\"cate\":\"ct2\",\"amigo\":\"N\",\"viewer\":\"Y\",\"today\":\"N\",\"local\":null},{\"pid\":\"038\",\"name\":\"한국일보\",\"img\":\"https://s.pstatic.net/static/newsstand/up/2017/0424/nsd172837200.png\",\"cate\":\"ct2\",\"amigo\":\"N\",\"viewer\":\"Y\",\"today\":\"N\",\"local\":null},{\"pid\":\"993\",\"name\":\"허프포스트코리아\",\"img\":\"https://s.pstatic.net/static/newsstand/up/2018/1210/nsd162234841.png\",\"cate\":\"ct2\",\"amigo\":\"N\",\"viewer\":\"Y\",\"today\":\"N\",\"local\":null},{\"pid\":\"016\",\"name\":\"헤럴드경제\",\"img\":\"https://s.pstatic.net/static/newsstand/up/2017/0424/nsd172855569.png\",\"cate\":\"ct2\",\"amigo\":\"N\",\"viewer\":\"Y\",\"today\":\"N\",\"local\":null},{\"pid\":\"974\",\"name\":\"BBS NEWS\",\"img\":\"https://s.pstatic.net/static/newsstand/up/2017/1209/nsd14324918.png\",\"cate\":\"ct2\",\"amigo\":\"N\",\"viewer\":\"Y\",\"today\":\"N\",\"local\":null},{\"pid\":\"932\",\"name\":\"CEO스코어데일리\",\"img\":\"https://s.pstatic.net/static/newsstand/up/2018/0627/nsd124328796.png\",\"cate\":\"ct2\",\"amigo\":\"N\",\"viewer\":\"Y\",\"today\":\"N\",\"local\":null},{\"pid\":\"954\",\"name\":\"CNB뉴스\",\"img\":\"https://s.pstatic.net/static/newsstand/up/2017/1122/nsd113655834.png\",\"cate\":\"ct2\",\"amigo\":\"N\",\"viewer\":\"Y\",\"today\":\"N\",\"local\":null},{\"pid\":\"120\",\"name\":\"EBN\",\"img\":\"https://s.pstatic.net/static/newsstand/up/2017/1017/nsd173540697.png\",\"cate\":\"ct2\",\"amigo\":\"N\",\"viewer\":\"Y\",\"today\":\"N\",\"local\":null},{\"pid\":\"959\",\"name\":\"M이코노미뉴스\",\"img\":\"https://s.pstatic.net/static/newsstand/up/2017/1201/nsd161518383.png\",\"cate\":\"ct2\",\"amigo\":\"N\",\"viewer\":\"Y\",\"today\":\"N\",\"local\":null},{\"pid\":\"972\",\"name\":\"PD저널\",\"img\":\"https://s.pstatic.net/static/newsstand/up/2017/1207/nsd13738461.png\",\"cate\":\"ct2\",\"amigo\":\"N\",\"viewer\":\"Y\",\"today\":\"N\",\"local\":null}],\"ct3\":[{\"pid\":\"421\",\"name\":\"뉴스1\",\"img\":\"https://s.pstatic.net/static/newsstand/up/2017/0424/nsd14405515.png\",\"cate\":\"ct3\",\"amigo\":\"N\",\"viewer\":\"Y\",\"today\":\"N\",\"local\":null},{\"pid\":\"003\",\"name\":\"뉴시스\",\"img\":\"https://s.pstatic.net/static/newsstand/up/2017/0424/nsd14449981.png\",\"cate\":\"ct3\",\"amigo\":\"N\",\"viewer\":\"Y\",\"today\":\"N\",\"local\":null},{\"pid\":\"916\",\"name\":\"머니투데이방송\",\"img\":\"https://s.pstatic.net/static/newsstand/up/2017/0424/nsd145249746.png\",\"cate\":\"ct3\",\"amigo\":\"N\",\"viewer\":\"Y\",\"today\":\"N\",\"local\":null},{\"pid\":\"934\",\"name\":\"아리랑TV\",\"img\":\"https://s.pstatic.net/static/newsstand/up/2017/0424/nsd153357809.png\",\"cate\":\"ct3\",\"amigo\":\"N\",\"viewer\":\"Y\",\"today\":\"N\",\"local\":null},{\"pid\":\"422\",\"name\":\"연합뉴스TV\",\"img\":\"https://s.pstatic.net/static/newsstand/up/2017/0424/nsd154219877.png\",\"cate\":\"ct3\",\"amigo\":\"N\",\"viewer\":\"Y\",\"today\":\"N\",\"local\":null},{\"pid\":\"376\",\"name\":\"지지통신\",\"img\":\"https://s.pstatic.net/static/newsstand/up/2017/0424/nsd16432873.png\",\"cate\":\"ct3\",\"amigo\":\"N\",\"viewer\":\"Y\",\"today\":\"N\",\"local\":null},{\"pid\":\"903\",\"name\":\"채널에이\",\"img\":\"https://s.pstatic.net/static/newsstand/up/2017/0424/nsd164352456.png\",\"cate\":\"ct3\",\"amigo\":\"N\",\"viewer\":\"Y\",\"today\":\"N\",\"local\":null},{\"pid\":\"215\",\"name\":\"한국경제TV\",\"img\":\"https://s.pstatic.net/static/newsstand/up/2017/0424/nsd172755139.png\",\"cate\":\"ct3\",\"amigo\":\"N\",\"viewer\":\"Y\",\"today\":\"N\",\"local\":null},{\"pid\":\"933\",\"name\":\"CNN\",\"img\":\"https://s.pstatic.net/static/newsstand/up/2017/0424/nsd173010586.png\",\"cate\":\"ct3\",\"amigo\":\"N\",\"viewer\":\"Y\",\"today\":\"N\",\"local\":null},{\"pid\":\"344\",\"name\":\"EBS\",\"img\":\"https://s.pstatic.net/static/newsstand/up/2017/0424/nsd173043431.png\",\"cate\":\"ct3\",\"amigo\":\"N\",\"viewer\":\"Y\",\"today\":\"N\",\"local\":null},{\"pid\":\"904\",\"name\":\"JTBC\",\"img\":\"https://s.pstatic.net/static/newsstand/up/2017/0424/nsd173111263.png\",\"cate\":\"ct3\",\"amigo\":\"N\",\"viewer\":\"Y\",\"today\":\"N\",\"local\":null},{\"pid\":\"980\",\"name\":\"KBC광주방송\",\"img\":\"https://s.pstatic.net/static/newsstand/up/2018/0126/nsd114019464.png\",\"cate\":\"ct3\",\"amigo\":\"N\",\"viewer\":\"Y\",\"today\":\"N\",\"local\":null},{\"pid\":\"056\",\"name\":\"KBS\",\"img\":\"https://s.pstatic.net/static/newsstand/up/2017/0424/nsd173124306.png\",\"cate\":\"ct3\",\"amigo\":\"N\",\"viewer\":\"Y\",\"today\":\"N\",\"local\":null},{\"pid\":\"906\",\"name\":\"KNN\",\"img\":\"https://s.pstatic.net/static/newsstand/up/2017/0424/nsd173151831.png\",\"cate\":\"ct3\",\"amigo\":\"N\",\"viewer\":\"Y\",\"today\":\"N\",\"local\":null},{\"pid\":\"214\",\"name\":\"MBC\",\"img\":\"https://s.pstatic.net/static/newsstand/up/2017/0424/nsd17324940.png\",\"cate\":\"ct3\",\"amigo\":\"N\",\"viewer\":\"Y\",\"today\":\"N\",\"local\":null},{\"pid\":\"057\",\"name\":\"MBN\",\"img\":\"https://s.pstatic.net/static/newsstand/up/2017/0424/nsd173223533.png\",\"cate\":\"ct3\",\"amigo\":\"N\",\"viewer\":\"Y\",\"today\":\"N\",\"local\":null},{\"pid\":\"340\",\"name\":\"OBS\",\"img\":\"https://s.pstatic.net/static/newsstand/up/2017/0424/nsd173252323.png\",\"cate\":\"ct3\",\"amigo\":\"N\",\"viewer\":\"Y\",\"today\":\"N\",\"local\":null},{\"pid\":\"055\",\"name\":\"SBS\",\"img\":\"https://s.pstatic.net/static/newsstand/up/2017/0424/nsd173335676.png\",\"cate\":\"ct3\",\"amigo\":\"N\",\"viewer\":\"Y\",\"today\":\"N\",\"local\":null},{\"pid\":\"374\",\"name\":\"SBSCNBC\",\"img\":\"https://s.pstatic.net/static/newsstand/up/2017/0424/nsd173348251.png\",\"cate\":\"ct3\",\"amigo\":\"N\",\"viewer\":\"Y\",\"today\":\"N\",\"local\":null},{\"pid\":\"989\",\"name\":\"TBC대구방송\",\"img\":\"https://s.pstatic.net/static/newsstand/up/2018/1004/nsd113150397.png\",\"cate\":\"ct3\",\"amigo\":\"N\",\"viewer\":\"Y\",\"today\":\"N\",\"local\":null},{\"pid\":\"902\",\"name\":\"TV조선\",\"img\":\"https://s.pstatic.net/static/newsstand/up/2018/0904/nsd153923387.png\",\"cate\":\"ct3\",\"amigo\":\"N\",\"viewer\":\"Y\",\"today\":\"N\",\"local\":null},{\"pid\":\"052\",\"name\":\"YTN\",\"img\":\"https://s.pstatic.net/static/newsstand/up/2017/0424/nsd173559874.png\",\"cate\":\"ct3\",\"amigo\":\"N\",\"viewer\":\"Y\",\"today\":\"N\",\"local\":null},{\"pid\":\"945\",\"name\":\"YTN사이언스\",\"img\":\"https://s.pstatic.net/static/newsstand/up/2017/0424/nsd173618176.png\",\"cate\":\"ct3\",\"amigo\":\"N\",\"viewer\":\"Y\",\"today\":\"N\",\"local\":null},{\"pid\":\"981\",\"name\":\"tbs교통방송\",\"img\":\"https://s.pstatic.net/static/newsstand/up/2018/0201/nsd19842442.png\",\"cate\":\"ct3\",\"amigo\":\"N\",\"viewer\":\"Y\",\"today\":\"N\",\"local\":null}],\"ct4\":[{\"pid\":\"910\",\"name\":\"넥스트데일리\",\"img\":\"https://s.pstatic.net/static/newsstand/up/2017/0424/nsd143938201.png\",\"cate\":\"ct4\",\"amigo\":\"N\",\"viewer\":\"Y\",\"today\":\"N\",\"local\":null},{\"pid\":\"138\",\"name\":\"디지털데일리\",\"img\":\"https://s.pstatic.net/static/newsstand/up/2017/0424/nsd14481127.png\",\"cate\":\"ct4\",\"amigo\":\"N\",\"viewer\":\"Y\",\"today\":\"N\",\"local\":null},{\"pid\":\"029\",\"name\":\"디지털타임스\",\"img\":\"https://s.pstatic.net/static/newsstand/up/2018/0719/nsd162516824.png\",\"cate\":\"ct4\",\"amigo\":\"N\",\"viewer\":\"Y\",\"today\":\"N\",\"local\":null},{\"pid\":\"952\",\"name\":\"보안뉴스\",\"img\":\"https://s.pstatic.net/static/newsstand/up/2017/1122/nsd113617499.png\",\"cate\":\"ct4\",\"amigo\":\"N\",\"viewer\":\"Y\",\"today\":\"N\",\"local\":null},{\"pid\":\"293\",\"name\":\"블로터\",\"img\":\"https://s.pstatic.net/static/newsstand/up/2018/0316/nsd175350622.png\",\"cate\":\"ct4\",\"amigo\":\"N\",\"viewer\":\"Y\",\"today\":\"N\",\"local\":null},{\"pid\":\"030\",\"name\":\"전자신문\",\"img\":\"https://s.pstatic.net/static/newsstand/up/2017/0424/nsd162528724.png\",\"cate\":\"ct4\",\"amigo\":\"N\",\"viewer\":\"Y\",\"today\":\"N\",\"local\":null},{\"pid\":\"092\",\"name\":\"지디넷코리아\",\"img\":\"https://s.pstatic.net/static/newsstand/up/2017/0424/nsd16425834.png\",\"cate\":\"ct4\",\"amigo\":\"N\",\"viewer\":\"Y\",\"today\":\"N\",\"local\":null},{\"pid\":\"953\",\"name\":\"키뉴스\",\"img\":\"https://s.pstatic.net/static/newsstand/up/2017/1122/nsd113635611.png\",\"cate\":\"ct4\",\"amigo\":\"N\",\"viewer\":\"Y\",\"today\":\"N\",\"local\":null},{\"pid\":\"977\",\"name\":\"헬로디디\",\"img\":\"https://s.pstatic.net/static/newsstand/up/2017/1214/nsd112148521.png\",\"cate\":\"ct4\",\"amigo\":\"N\",\"viewer\":\"Y\",\"today\":\"N\",\"local\":null},{\"pid\":\"917\",\"name\":\"IT조선\",\"img\":\"https://s.pstatic.net/static/newsstand/up/2017/0424/nsd173057968.png\",\"cate\":\"ct4\",\"amigo\":\"N\",\"viewer\":\"Y\",\"today\":\"N\",\"local\":null}],\"ct5\":[{\"pid\":\"330\",\"name\":\"중앙데일리\",\"img\":\"https://s.pstatic.net/static/newsstand/up/2018/0626/nsd103519292.png\",\"cate\":\"ct5\",\"amigo\":\"N\",\"viewer\":\"Y\",\"today\":\"N\",\"local\":null},{\"pid\":\"044\",\"name\":\"코리아헤럴드\",\"img\":\"https://s.pstatic.net/static/newsstand/up/2017/0424/nsd17341942.png\",\"cate\":\"ct5\",\"amigo\":\"N\",\"viewer\":\"Y\",\"today\":\"N\",\"local\":null},{\"pid\":\"326\",\"name\":\"KBS World\",\"img\":\"https://s.pstatic.net/static/newsstand/up/2017/0424/nsd173138949.png\",\"cate\":\"ct5\",\"amigo\":\"N\",\"viewer\":\"Y\",\"today\":\"N\",\"local\":null},{\"pid\":\"946\",\"name\":\"YONHAPNEWS\",\"img\":\"https://s.pstatic.net/static/newsstand/up/2017/0424/nsd173542219.png\",\"cate\":\"ct5\",\"amigo\":\"N\",\"viewer\":\"Y\",\"today\":\"N\",\"local\":null}],\"ct6\":[{\"pid\":\"447\",\"name\":\"뉴스엔\",\"img\":\"https://s.pstatic.net/static/newsstand/up/2017/0424/nsd144110729.png\",\"cate\":\"ct6\",\"amigo\":\"N\",\"viewer\":\"Y\",\"today\":\"N\",\"local\":null},{\"pid\":\"117\",\"name\":\"마이데일리\",\"img\":\"https://s.pstatic.net/static/newsstand/up/2017/0424/nsd144944309.png\",\"cate\":\"ct6\",\"amigo\":\"N\",\"viewer\":\"Y\",\"today\":\"N\",\"local\":null},{\"pid\":\"108\",\"name\":\"스타뉴스\",\"img\":\"https://s.pstatic.net/static/newsstand/up/2017/0424/nsd14592836.png\",\"cate\":\"ct6\",\"amigo\":\"N\",\"viewer\":\"Y\",\"today\":\"N\",\"local\":null},{\"pid\":\"802\",\"name\":\"스포츠Q\",\"img\":\"https://s.pstatic.net/static/newsstand/up/2019/0313/nsd71851694.png\",\"cate\":\"ct6\",\"amigo\":\"N\",\"viewer\":\"Y\",\"today\":\"N\",\"local\":null},{\"pid\":\"144\",\"name\":\"스포츠경향\",\"img\":\"https://s.pstatic.net/static/newsstand/up/2017/0424/nsd14593063.png\",\"cate\":\"ct6\",\"amigo\":\"N\",\"viewer\":\"Y\",\"today\":\"N\",\"local\":null},{\"pid\":\"314\",\"name\":\"스포츠동아\",\"img\":\"https://s.pstatic.net/static/newsstand/up/2017/0424/nsd145951763.png\",\"cate\":\"ct6\",\"amigo\":\"N\",\"viewer\":\"Y\",\"today\":\"N\",\"local\":null},{\"pid\":\"073\",\"name\":\"스포츠서울\",\"img\":\"https://s.pstatic.net/static/newsstand/up/2017/0424/nsd15042554.png\",\"cate\":\"ct6\",\"amigo\":\"N\",\"viewer\":\"Y\",\"today\":\"N\",\"local\":null},{\"pid\":\"396\",\"name\":\"스포츠월드\",\"img\":\"https://s.pstatic.net/static/newsstand/up/2017/0424/nsd1521496.png\",\"cate\":\"ct6\",\"amigo\":\"N\",\"viewer\":\"Y\",\"today\":\"N\",\"local\":null},{\"pid\":\"076\",\"name\":\"스포츠조선\",\"img\":\"https://s.pstatic.net/static/newsstand/up/2017/0424/nsd183553864.png\",\"cate\":\"ct6\",\"amigo\":\"N\",\"viewer\":\"Y\",\"today\":\"N\",\"local\":null},{\"pid\":\"940\",\"name\":\"스포츠투데이\",\"img\":\"https://s.pstatic.net/static/newsstand/up/2017/0424/nsd183628961.png\",\"cate\":\"ct6\",\"amigo\":\"N\",\"viewer\":\"Y\",\"today\":\"N\",\"local\":null},{\"pid\":\"962\",\"name\":\"스포츠한국\",\"img\":\"https://s.pstatic.net/static/newsstand/up/2017/1201/nsd161647719.png\",\"cate\":\"ct6\",\"amigo\":\"N\",\"viewer\":\"Y\",\"today\":\"N\",\"local\":null},{\"pid\":\"139\",\"name\":\"스포탈코리아\",\"img\":\"https://s.pstatic.net/static/newsstand/up/2017/0424/nsd151840663.png\",\"cate\":\"ct6\",\"amigo\":\"N\",\"viewer\":\"Y\",\"today\":\"N\",\"local\":null},{\"pid\":\"477\",\"name\":\"스포티비뉴스\",\"img\":\"https://s.pstatic.net/static/newsstand/up/2017/1221/nsd134325318.png\",\"cate\":\"ct6\",\"amigo\":\"N\",\"viewer\":\"Y\",\"today\":\"N\",\"local\":null},{\"pid\":\"311\",\"name\":\"엑스포츠뉴스\",\"img\":\"https://s.pstatic.net/static/newsstand/up/2017/0424/nsd154117.png\",\"cate\":\"ct6\",\"amigo\":\"N\",\"viewer\":\"Y\",\"today\":\"N\",\"local\":null},{\"pid\":\"529\",\"name\":\"엠스플뉴스\",\"img\":\"https://s.pstatic.net/static/newsstand/up/2018/1122/nsd113027714.png\",\"cate\":\"ct6\",\"amigo\":\"N\",\"viewer\":\"Y\",\"today\":\"N\",\"local\":null},{\"pid\":\"241\",\"name\":\"일간스포츠\",\"img\":\"https://s.pstatic.net/static/newsstand/up/2017/0424/nsd154619739.png\",\"cate\":\"ct6\",\"amigo\":\"N\",\"viewer\":\"Y\",\"today\":\"N\",\"local\":null},{\"pid\":\"947\",\"name\":\"조이뉴스24\",\"img\":\"https://s.pstatic.net/static/newsstand/up/2017/0424/nsd162759461.png\",\"cate\":\"ct6\",\"amigo\":\"N\",\"viewer\":\"Y\",\"today\":\"N\",\"local\":null},{\"pid\":\"312\",\"name\":\"텐아시아\",\"img\":\"https://s.pstatic.net/static/newsstand/up/2017/0424/nsd172519405.png\",\"cate\":\"ct6\",\"amigo\":\"N\",\"viewer\":\"Y\",\"today\":\"N\",\"local\":null},{\"pid\":\"440\",\"name\":\"티브이데일리\",\"img\":\"https://s.pstatic.net/static/newsstand/up/2017/0424/nsd172538465.png\",\"cate\":\"ct6\",\"amigo\":\"N\",\"viewer\":\"Y\",\"today\":\"N\",\"local\":null},{\"pid\":\"410\",\"name\":\"MK스포츠\",\"img\":\"https://s.pstatic.net/static/newsstand/up/2017/0424/nsd173237747.png\",\"cate\":\"ct6\",\"amigo\":\"N\",\"viewer\":\"Y\",\"today\":\"N\",\"local\":null},{\"pid\":\"109\",\"name\":\"OSEN\",\"img\":\"https://s.pstatic.net/static/newsstand/up/2017/0424/nsd17338859.png\",\"cate\":\"ct6\",\"amigo\":\"N\",\"viewer\":\"Y\",\"today\":\"N\",\"local\":null},{\"pid\":\"416\",\"name\":\"SBS연예스포츠\",\"img\":\"https://s.pstatic.net/static/newsstand/up/2017/0424/nsd173430905.png\",\"cate\":\"ct6\",\"amigo\":\"N\",\"viewer\":\"Y\",\"today\":\"N\",\"local\":null},{\"pid\":\"213\",\"name\":\"TV리포트\",\"img\":\"https://s.pstatic.net/static/newsstand/up/2017/0424/nsd173446621.png\",\"cate\":\"ct6\",\"amigo\":\"N\",\"viewer\":\"Y\",\"today\":\"N\",\"local\":null},{\"pid\":\"404\",\"name\":\"enews24\",\"img\":\"https://s.pstatic.net/static/newsstand/up/2017/0424/nsd173715121.png\",\"cate\":\"ct6\",\"amigo\":\"N\",\"viewer\":\"Y\",\"today\":\"N\",\"local\":null}],\"ct7\":[{\"pid\":\"356\",\"name\":\"게임메카\",\"img\":\"https://s.pstatic.net/static/newsstand/up/2017/0424/nsd143454437.png\",\"cate\":\"ct7\",\"amigo\":\"N\",\"viewer\":\"Y\",\"today\":\"N\",\"local\":null},{\"pid\":\"363\",\"name\":\"과학동아\",\"img\":\"https://s.pstatic.net/static/newsstand/up/2017/0424/nsd143721586.png\",\"cate\":\"ct7\",\"amigo\":\"N\",\"viewer\":\"Y\",\"today\":\"N\",\"local\":null},{\"pid\":\"908\",\"name\":\"국방일보\",\"img\":\"https://s.pstatic.net/static/newsstand/up/2017/0424/nsd143827635.png\",\"cate\":\"ct7\",\"amigo\":\"N\",\"viewer\":\"Y\",\"today\":\"N\",\"local\":null},{\"pid\":\"938\",\"name\":\"그린포스트코리아\",\"img\":\"https://s.pstatic.net/static/newsstand/up/2017/1106/nsd95428551.png\",\"cate\":\"ct7\",\"amigo\":\"N\",\"viewer\":\"Y\",\"today\":\"N\",\"local\":null},{\"pid\":\"984\",\"name\":\"낚시춘추\",\"img\":\"https://s.pstatic.net/static/newsstand/up/2018/0312/nsd11361752.png\",\"cate\":\"ct7\",\"amigo\":\"N\",\"viewer\":\"Y\",\"today\":\"N\",\"local\":null},{\"pid\":\"911\",\"name\":\"농민신문\",\"img\":\"https://s.pstatic.net/static/newsstand/up/2017/0424/nsd144020188.png\",\"cate\":\"ct7\",\"amigo\":\"N\",\"viewer\":\"Y\",\"today\":\"N\",\"local\":null},{\"pid\":\"912\",\"name\":\"뉴스컬처\",\"img\":\"https://s.pstatic.net/static/newsstand/up/2018/0525/nsd141715196.png\",\"cate\":\"ct7\",\"amigo\":\"N\",\"viewer\":\"Y\",\"today\":\"N\",\"local\":null},{\"pid\":\"905\",\"name\":\"더스쿠프\",\"img\":\"https://s.pstatic.net/static/newsstand/up/2018/0626/nsd103415937.png\",\"cate\":\"ct7\",\"amigo\":\"N\",\"viewer\":\"Y\",\"today\":\"N\",\"local\":null},{\"pid\":\"991\",\"name\":\"데일리NK\",\"img\":\"https://s.pstatic.net/static/newsstand/up/2018/1008/nsd101815434.png\",\"cate\":\"ct7\",\"amigo\":\"N\",\"viewer\":\"Y\",\"today\":\"N\",\"local\":null},{\"pid\":\"042\",\"name\":\"데일리한국\",\"img\":\"https://s.pstatic.net/static/newsstand/up/2017/0424/nsd144629578.png\",\"cate\":\"ct7\",\"amigo\":\"N\",\"viewer\":\"Y\",\"today\":\"N\",\"local\":null},{\"pid\":\"955\",\"name\":\"독서신문\",\"img\":\"https://s.pstatic.net/static/newsstand/up/2019/0207/nsd141354748.png\",\"cate\":\"ct7\",\"amigo\":\"N\",\"viewer\":\"Y\",\"today\":\"N\",\"local\":null},{\"pid\":\"345\",\"name\":\"디자인정글\",\"img\":\"https://s.pstatic.net/static/newsstand/up/2017/0424/nsd144732945.png\",\"cate\":\"ct7\",\"amigo\":\"N\",\"viewer\":\"Y\",\"today\":\"N\",\"local\":null},{\"pid\":\"915\",\"name\":\"르몽드 디플로마티크\",\"img\":\"https://s.pstatic.net/static/newsstand/up/2017/0424/nsd1449112.png\",\"cate\":\"ct7\",\"amigo\":\"N\",\"viewer\":\"Y\",\"today\":\"N\",\"local\":null},{\"pid\":\"024\",\"name\":\"매경이코노미\",\"img\":\"https://s.pstatic.net/static/newsstand/up/2017/0424/nsd145011543.png\",\"cate\":\"ct7\",\"amigo\":\"N\",\"viewer\":\"Y\",\"today\":\"N\",\"local\":null},{\"pid\":\"075\",\"name\":\"맥스무비\",\"img\":\"https://s.pstatic.net/static/newsstand/up/2017/0424/nsd183033195.png\",\"cate\":\"ct7\",\"amigo\":\"N\",\"viewer\":\"Y\",\"today\":\"N\",\"local\":null},{\"pid\":\"122\",\"name\":\"법률신문\",\"img\":\"https://s.pstatic.net/static/newsstand/up/2017/0424/nsd145431309.png\",\"cate\":\"ct7\",\"amigo\":\"N\",\"viewer\":\"Y\",\"today\":\"N\",\"local\":null},{\"pid\":\"958\",\"name\":\"베리타스알파\",\"img\":\"https://s.pstatic.net/static/newsstand/up/2017/1201/nsd161315555.png\",\"cate\":\"ct7\",\"amigo\":\"N\",\"viewer\":\"Y\",\"today\":\"N\",\"local\":null},{\"pid\":\"355\",\"name\":\"사이언스타임즈\",\"img\":\"https://s.pstatic.net/static/newsstand/up/2017/0424/nsd145657590.png\",\"cate\":\"ct7\",\"amigo\":\"N\",\"viewer\":\"Y\",\"today\":\"N\",\"local\":null},{\"pid\":\"808\",\"name\":\"산업일보\",\"img\":\"https://s.pstatic.net/static/newsstand/up/2019/0314/nsd11030667.png\",\"cate\":\"ct7\",\"amigo\":\"N\",\"viewer\":\"Y\",\"today\":\"N\",\"local\":null},{\"pid\":\"329\",\"name\":\"소년한국일보\",\"img\":\"https://s.pstatic.net/static/newsstand/up/2017/0424/nsd14583498.png\",\"cate\":\"ct7\",\"amigo\":\"N\",\"viewer\":\"Y\",\"today\":\"N\",\"local\":null},{\"pid\":\"308\",\"name\":\"시사인\",\"img\":\"https://s.pstatic.net/static/newsstand/up/2017/0424/nsd151929775.png\",\"cate\":\"ct7\",\"amigo\":\"N\",\"viewer\":\"Y\",\"today\":\"N\",\"local\":null},{\"pid\":\"135\",\"name\":\"시사저널\",\"img\":\"https://s.pstatic.net/static/newsstand/up/2017/0424/nsd153228485.png\",\"cate\":\"ct7\",\"amigo\":\"N\",\"viewer\":\"Y\",\"today\":\"N\",\"local\":null},{\"pid\":\"140\",\"name\":\"씨네21\",\"img\":\"https://s.pstatic.net/static/newsstand/up/2017/0424/nsd153251814.png\",\"cate\":\"ct7\",\"amigo\":\"N\",\"viewer\":\"Y\",\"today\":\"N\",\"local\":null},{\"pid\":\"979\",\"name\":\"약사공론\",\"img\":\"https://s.pstatic.net/static/newsstand/up/2018/0212/nsd161550299.png\",\"cate\":\"ct7\",\"amigo\":\"N\",\"viewer\":\"Y\",\"today\":\"N\",\"local\":null},{\"pid\":\"328\",\"name\":\"에이블뉴스\",\"img\":\"https://s.pstatic.net/static/newsstand/up/2017/0424/nsd154040656.png\",\"cate\":\"ct7\",\"amigo\":\"N\",\"viewer\":\"Y\",\"today\":\"N\",\"local\":null},{\"pid\":\"354\",\"name\":\"엘르\",\"img\":\"https://s.pstatic.net/static/newsstand/up/2017/0424/nsd154119884.png\",\"cate\":\"ct7\",\"amigo\":\"N\",\"viewer\":\"Y\",\"today\":\"N\",\"local\":null},{\"pid\":\"310\",\"name\":\"여성신문\",\"img\":\"https://s.pstatic.net/static/newsstand/up/2017/0424/nsd154151666.png\",\"cate\":\"ct7\",\"amigo\":\"N\",\"viewer\":\"Y\",\"today\":\"N\",\"local\":null},{\"pid\":\"950\",\"name\":\"월간중앙\",\"img\":\"https://s.pstatic.net/static/newsstand/up/2017/1122/nsd113515807.png\",\"cate\":\"ct7\",\"amigo\":\"N\",\"viewer\":\"Y\",\"today\":\"N\",\"local\":null},{\"pid\":\"988\",\"name\":\"이웃집과학자\",\"img\":\"https://s.pstatic.net/static/newsstand/up/2018/0906/nsd1125619.png\",\"cate\":\"ct7\",\"amigo\":\"N\",\"viewer\":\"Y\",\"today\":\"N\",\"local\":null},{\"pid\":\"982\",\"name\":\"이코노미조선\",\"img\":\"https://s.pstatic.net/static/newsstand/up/2018/0226/nsd13574834.png\",\"cate\":\"ct7\",\"amigo\":\"N\",\"viewer\":\"Y\",\"today\":\"N\",\"local\":null},{\"pid\":\"924\",\"name\":\"인벤\",\"img\":\"https://s.pstatic.net/static/newsstand/up/2017/0424/nsd154539705.png\",\"cate\":\"ct7\",\"amigo\":\"N\",\"viewer\":\"Y\",\"today\":\"N\",\"local\":null},{\"pid\":\"807\",\"name\":\"인사이트코리아\",\"img\":\"https://s.pstatic.net/static/newsstand/up/2019/0311/nsd10115926.png\",\"cate\":\"ct7\",\"amigo\":\"N\",\"viewer\":\"Y\",\"today\":\"N\",\"local\":null},{\"pid\":\"362\",\"name\":\"자동차생활\",\"img\":\"https://s.pstatic.net/static/newsstand/up/2017/0424/nsd162354371.png\",\"cate\":\"ct7\",\"amigo\":\"N\",\"viewer\":\"Y\",\"today\":\"N\",\"local\":null},{\"pid\":\"965\",\"name\":\"전기신문\",\"img\":\"https://s.pstatic.net/static/newsstand/up/2017/1201/nsd161818802.png\",\"cate\":\"ct7\",\"amigo\":\"N\",\"viewer\":\"Y\",\"today\":\"N\",\"local\":null},{\"pid\":\"966\",\"name\":\"정신의학신문\",\"img\":\"https://s.pstatic.net/static/newsstand/up/2017/1201/nsd161847464.png\",\"cate\":\"ct7\",\"amigo\":\"N\",\"viewer\":\"Y\",\"today\":\"N\",\"local\":null},{\"pid\":\"990\",\"name\":\"주간조선\",\"img\":\"https://s.pstatic.net/static/newsstand/up/2018/0913/nsd104554287.png\",\"cate\":\"ct7\",\"amigo\":\"N\",\"viewer\":\"Y\",\"today\":\"N\",\"local\":null},{\"pid\":\"361\",\"name\":\"채널예스\",\"img\":\"https://s.pstatic.net/static/newsstand/up/2017/0424/nsd164412540.png\",\"cate\":\"ct7\",\"amigo\":\"N\",\"viewer\":\"Y\",\"today\":\"N\",\"local\":null},{\"pid\":\"956\",\"name\":\"철강금속신문\",\"img\":\"https://s.pstatic.net/static/newsstand/up/2018/0406/nsd201637238.png\",\"cate\":\"ct7\",\"amigo\":\"N\",\"viewer\":\"Y\",\"today\":\"N\",\"local\":null},{\"pid\":\"928\",\"name\":\"컴퓨터월드\",\"img\":\"https://s.pstatic.net/static/newsstand/up/2017/0424/nsd17150763.png\",\"cate\":\"ct7\",\"amigo\":\"N\",\"viewer\":\"Y\",\"today\":\"N\",\"local\":null},{\"pid\":\"967\",\"name\":\"코리아쉬핑가제트\",\"img\":\"https://s.pstatic.net/static/newsstand/up/2017/1201/nsd162046351.png\",\"cate\":\"ct7\",\"amigo\":\"N\",\"viewer\":\"Y\",\"today\":\"N\",\"local\":null},{\"pid\":\"296\",\"name\":\"코메디닷컴\",\"img\":\"https://s.pstatic.net/static/newsstand/up/2017/0424/nsd172354656.png\",\"cate\":\"ct7\",\"amigo\":\"N\",\"viewer\":\"Y\",\"today\":\"N\",\"local\":null},{\"pid\":\"986\",\"name\":\"투데이신문\",\"img\":\"https://s.pstatic.net/static/newsstand/up/2018/0903/nsd92617272.png\",\"cate\":\"ct7\",\"amigo\":\"N\",\"viewer\":\"Y\",\"today\":\"N\",\"local\":null},{\"pid\":\"951\",\"name\":\"포브스코리아\",\"img\":\"https://s.pstatic.net/static/newsstand/up/2017/1122/nsd113546163.png\",\"cate\":\"ct7\",\"amigo\":\"N\",\"viewer\":\"Y\",\"today\":\"N\",\"local\":null},{\"pid\":\"948\",\"name\":\"한겨레21\",\"img\":\"https://s.pstatic.net/static/newsstand/up/2017/0424/nsd172654646.png\",\"cate\":\"ct7\",\"amigo\":\"N\",\"viewer\":\"Y\",\"today\":\"N\",\"local\":null},{\"pid\":\"050\",\"name\":\"한경비즈니스\",\"img\":\"https://s.pstatic.net/static/newsstand/up/2017/0424/nsd172712628.png\",\"cate\":\"ct7\",\"amigo\":\"N\",\"viewer\":\"Y\",\"today\":\"N\",\"local\":null},{\"pid\":\"384\",\"name\":\"한국대학신문\",\"img\":\"https://s.pstatic.net/static/newsstand/up/2017/0424/nsd172816434.png\",\"cate\":\"ct7\",\"amigo\":\"N\",\"viewer\":\"Y\",\"today\":\"N\",\"local\":null},{\"pid\":\"346\",\"name\":\"헬스조선\",\"img\":\"https://s.pstatic.net/static/newsstand/up/2017/0424/nsd172911723.png\",\"cate\":\"ct7\",\"amigo\":\"N\",\"viewer\":\"Y\",\"today\":\"N\",\"local\":null},{\"pid\":\"806\",\"name\":\"MONEY\",\"img\":\"https://s.pstatic.net/static/newsstand/up/2019/0319/nsd13114644.png\",\"cate\":\"ct7\",\"amigo\":\"N\",\"viewer\":\"Y\",\"today\":\"N\",\"local\":null},{\"pid\":\"364\",\"name\":\"PC사랑\",\"img\":\"https://s.pstatic.net/static/newsstand/up/2017/0424/nsd173322105.png\",\"cate\":\"ct7\",\"amigo\":\"N\",\"viewer\":\"Y\",\"today\":\"N\",\"local\":null},{\"pid\":\"949\",\"name\":\"TheAsiaN\",\"img\":\"https://s.pstatic.net/static/newsstand/up/2017/0424/nsd173523100.png\",\"cate\":\"ct7\",\"amigo\":\"N\",\"viewer\":\"Y\",\"today\":\"N\",\"local\":null}],\"ct8\":[{\"pid\":\"335\",\"name\":\"강원도민일보\",\"img\":\"https://s.pstatic.net/static/newsstand/up/2017/0424/nsd14341394.png\",\"cate\":\"ct8\",\"amigo\":\"N\",\"viewer\":\"Y\",\"today\":\"N\",\"local\":[{\"name\":\"강원\",\"code\":\"01\"}]},{\"pid\":\"087\",\"name\":\"강원일보\",\"img\":\"https://s.pstatic.net/static/newsstand/up/2017/0424/nsd143434899.png\",\"cate\":\"ct8\",\"amigo\":\"N\",\"viewer\":\"Y\",\"today\":\"N\",\"local\":[{\"name\":\"강원\",\"code\":\"01\"}]},{\"pid\":\"339\",\"name\":\"경기일보\",\"img\":\"https://s.pstatic.net/static/newsstand/up/2017/0424/nsd143511509.png\",\"cate\":\"ct8\",\"amigo\":\"N\",\"viewer\":\"Y\",\"today\":\"N\",\"local\":[{\"name\":\"경기\",\"code\":\"02\"},{\"name\":\"인천\",\"code\":\"11\"}]},{\"pid\":\"333\",\"name\":\"경남신문\",\"img\":\"https://s.pstatic.net/static/newsstand/up/2017/0424/nsd143531816.png\",\"cate\":\"ct8\",\"amigo\":\"N\",\"viewer\":\"Y\",\"today\":\"N\",\"local\":[{\"name\":\"경남\",\"code\":\"03\"},{\"name\":\"부산\",\"code\":\"08\"},{\"name\":\"울산\",\"code\":\"10\"}]},{\"pid\":\"978\",\"name\":\"경북도민일보\",\"img\":\"https://s.pstatic.net/static/newsstand/up/2017/1214/nsd111929299.png\",\"cate\":\"ct8\",\"amigo\":\"N\",\"viewer\":\"Y\",\"today\":\"N\",\"local\":[{\"name\":\"경북\",\"code\":\"04\"},{\"name\":\"대구\",\"code\":\"06\"}]},{\"pid\":\"907\",\"name\":\"경북매일신문\",\"img\":\"https://s.pstatic.net/static/newsstand/up/2017/0424/nsd143555345.png\",\"cate\":\"ct8\",\"amigo\":\"N\",\"viewer\":\"Y\",\"today\":\"N\",\"local\":[{\"name\":\"경북\",\"code\":\"04\"},{\"name\":\"대구\",\"code\":\"06\"}]},{\"pid\":\"337\",\"name\":\"경북일보\",\"img\":\"https://s.pstatic.net/static/newsstand/up/2017/0424/nsd143612100.png\",\"cate\":\"ct8\",\"amigo\":\"N\",\"viewer\":\"Y\",\"today\":\"N\",\"local\":[{\"name\":\"경북\",\"code\":\"04\"},{\"name\":\"대구\",\"code\":\"06\"},{\"name\":\"울산\",\"code\":\"10\"}]},{\"pid\":\"935\",\"name\":\"경상일보\",\"img\":\"https://s.pstatic.net/static/newsstand/up/2017/0424/nsd143628241.png\",\"cate\":\"ct8\",\"amigo\":\"N\",\"viewer\":\"Y\",\"today\":\"N\",\"local\":[{\"name\":\"울산\",\"code\":\"10\"}]},{\"pid\":\"338\",\"name\":\"경인일보\",\"img\":\"https://s.pstatic.net/static/newsstand/up/2017/0424/nsd143645415.png\",\"cate\":\"ct8\",\"amigo\":\"N\",\"viewer\":\"Y\",\"today\":\"N\",\"local\":[{\"name\":\"경기\",\"code\":\"02\"},{\"name\":\"인천\",\"code\":\"11\"}]},{\"pid\":\"301\",\"name\":\"광주드림\",\"img\":\"https://s.pstatic.net/static/newsstand/up/2017/1201/nsd17629468.png\",\"cate\":\"ct8\",\"amigo\":\"N\",\"viewer\":\"Y\",\"today\":\"N\",\"local\":[{\"name\":\"광주\",\"code\":\"05\"}]},{\"pid\":\"083\",\"name\":\"광주일보\",\"img\":\"https://s.pstatic.net/static/newsstand/up/2017/0424/nsd143742681.png\",\"cate\":\"ct8\",\"amigo\":\"N\",\"viewer\":\"Y\",\"today\":\"N\",\"local\":[{\"name\":\"광주\",\"code\":\"05\"},{\"name\":\"전남\",\"code\":\"12\"}]},{\"pid\":\"332\",\"name\":\"국제신문\",\"img\":\"https://s.pstatic.net/static/newsstand/up/2017/0424/nsd143844997.png\",\"cate\":\"ct8\",\"amigo\":\"N\",\"viewer\":\"Y\",\"today\":\"N\",\"local\":[{\"name\":\"경남\",\"code\":\"03\"},{\"name\":\"부산\",\"code\":\"08\"},{\"name\":\"울산\",\"code\":\"10\"}]},{\"pid\":\"909\",\"name\":\"기호일보\",\"img\":\"https://s.pstatic.net/static/newsstand/up/2017/0424/nsd14392544.png\",\"cate\":\"ct8\",\"amigo\":\"N\",\"viewer\":\"Y\",\"today\":\"N\",\"local\":[{\"name\":\"경기\",\"code\":\"02\"},{\"name\":\"인천\",\"code\":\"11\"}]},{\"pid\":\"936\",\"name\":\"대구일보\",\"img\":\"https://s.pstatic.net/static/newsstand/up/2017/0424/nsd144433908.png\",\"cate\":\"ct8\",\"amigo\":\"N\",\"viewer\":\"Y\",\"today\":\"N\",\"local\":[{\"name\":\"경북\",\"code\":\"04\"},{\"name\":\"대구\",\"code\":\"06\"}]},{\"pid\":\"089\",\"name\":\"대전일보\",\"img\":\"https://s.pstatic.net/static/newsstand/up/2017/0424/nsd144457151.png\",\"cate\":\"ct8\",\"amigo\":\"N\",\"viewer\":\"Y\",\"today\":\"N\",\"local\":[{\"name\":\"대전\",\"code\":\"07\"},{\"name\":\"충남\",\"code\":\"15\"},{\"name\":\"충북\",\"code\":\"16\"},{\"name\":\"세종\",\"code\":\"17\"}]},{\"pid\":\"088\",\"name\":\"매일신문\",\"img\":\"https://s.pstatic.net/static/newsstand/up/2017/0424/nsd14505572.png\",\"cate\":\"ct8\",\"amigo\":\"N\",\"viewer\":\"Y\",\"today\":\"N\",\"local\":[{\"name\":\"경북\",\"code\":\"04\"},{\"name\":\"대구\",\"code\":\"06\"}]},{\"pid\":\"976\",\"name\":\"무등일보\",\"img\":\"https://s.pstatic.net/static/newsstand/up/2017/1221/nsd13422489.png\",\"cate\":\"ct8\",\"amigo\":\"N\",\"viewer\":\"Y\",\"today\":\"N\",\"local\":[{\"name\":\"광주\",\"code\":\"05\"},{\"name\":\"전남\",\"code\":\"12\"}]},{\"pid\":\"082\",\"name\":\"부산일보\",\"img\":\"https://s.pstatic.net/static/newsstand/up/2017/0424/nsd145450220.png\",\"cate\":\"ct8\",\"amigo\":\"N\",\"viewer\":\"Y\",\"today\":\"N\",\"local\":[{\"name\":\"경남\",\"code\":\"03\"},{\"name\":\"부산\",\"code\":\"08\"},{\"name\":\"울산\",\"code\":\"10\"}]},{\"pid\":\"385\",\"name\":\"영남일보\",\"img\":\"https://s.pstatic.net/static/newsstand/up/2017/0424/nsd154255890.png\",\"cate\":\"ct8\",\"amigo\":\"N\",\"viewer\":\"Y\",\"today\":\"N\",\"local\":[{\"name\":\"경북\",\"code\":\"04\"},{\"name\":\"대구\",\"code\":\"06\"}]},{\"pid\":\"387\",\"name\":\"인천일보\",\"img\":\"https://s.pstatic.net/static/newsstand/up/2017/0424/nsd154558680.png\",\"cate\":\"ct8\",\"amigo\":\"N\",\"viewer\":\"Y\",\"today\":\"N\",\"local\":[{\"name\":\"경기\",\"code\":\"02\"},{\"name\":\"인천\",\"code\":\"11\"}]},{\"pid\":\"388\",\"name\":\"전남일보\",\"img\":\"https://s.pstatic.net/static/newsstand/up/2019/0207/nsd141413617.png\",\"cate\":\"ct8\",\"amigo\":\"N\",\"viewer\":\"Y\",\"today\":\"N\",\"local\":[{\"name\":\"광주\",\"code\":\"05\"},{\"name\":\"전남\",\"code\":\"12\"}]},{\"pid\":\"937\",\"name\":\"전북도민일보\",\"img\":\"https://s.pstatic.net/static/newsstand/up/2017/0424/nsd16244628.png\",\"cate\":\"ct8\",\"amigo\":\"N\",\"viewer\":\"Y\",\"today\":\"N\",\"local\":[{\"name\":\"전북\",\"code\":\"13\"}]},{\"pid\":\"336\",\"name\":\"전북일보\",\"img\":\"https://s.pstatic.net/static/newsstand/up/2017/0424/nsd16256807.png\",\"cate\":\"ct8\",\"amigo\":\"N\",\"viewer\":\"Y\",\"today\":\"N\",\"local\":[{\"name\":\"전북\",\"code\":\"13\"}]},{\"pid\":\"901\",\"name\":\"제민일보\",\"img\":\"https://s.pstatic.net/static/newsstand/up/2017/0424/nsd16254923.png\",\"cate\":\"ct8\",\"amigo\":\"N\",\"viewer\":\"Y\",\"today\":\"N\",\"local\":[{\"name\":\"제주\",\"code\":\"14\"}]},{\"pid\":\"389\",\"name\":\"제주도민일보\",\"img\":\"https://s.pstatic.net/static/newsstand/up/2017/0424/nsd1626960.png\",\"cate\":\"ct8\",\"amigo\":\"N\",\"viewer\":\"Y\",\"today\":\"N\",\"local\":[{\"name\":\"제주\",\"code\":\"14\"}]},{\"pid\":\"334\",\"name\":\"제주의소리\",\"img\":\"https://s.pstatic.net/static/newsstand/up/2017/0424/nsd162631114.png\",\"cate\":\"ct8\",\"amigo\":\"N\",\"viewer\":\"Y\",\"today\":\"N\",\"local\":[{\"name\":\"제주\",\"code\":\"14\"}]},{\"pid\":\"390\",\"name\":\"중도일보\",\"img\":\"https://s.pstatic.net/static/newsstand/up/2017/0424/nsd162822857.png\",\"cate\":\"ct8\",\"amigo\":\"N\",\"viewer\":\"Y\",\"today\":\"N\",\"local\":[{\"name\":\"대전\",\"code\":\"07\"},{\"name\":\"충남\",\"code\":\"15\"}]},{\"pid\":\"983\",\"name\":\"중부매일신문\",\"img\":\"https://s.pstatic.net/static/newsstand/up/2018/0212/nsd162058391.png\",\"cate\":\"ct8\",\"amigo\":\"N\",\"viewer\":\"Y\",\"today\":\"N\",\"local\":[{\"name\":\"대전\",\"code\":\"07\"},{\"name\":\"충남\",\"code\":\"15\"},{\"name\":\"충북\",\"code\":\"16\"},{\"name\":\"세종\",\"code\":\"17\"}]},{\"pid\":\"926\",\"name\":\"중부일보\",\"img\":\"https://s.pstatic.net/static/newsstand/up/2017/0424/nsd162931439.png\",\"cate\":\"ct8\",\"amigo\":\"N\",\"viewer\":\"Y\",\"today\":\"N\",\"local\":[{\"name\":\"경기\",\"code\":\"02\"},{\"name\":\"인천\",\"code\":\"11\"}]},{\"pid\":\"927\",\"name\":\"충북일보\",\"img\":\"https://s.pstatic.net/static/newsstand/up/2017/0424/nsd164449667.png\",\"cate\":\"ct8\",\"amigo\":\"N\",\"viewer\":\"Y\",\"today\":\"N\",\"local\":[{\"name\":\"충북\",\"code\":\"16\"},{\"name\":\"세종\",\"code\":\"17\"}]},{\"pid\":\"391\",\"name\":\"충청일보\",\"img\":\"https://s.pstatic.net/static/newsstand/up/2017/0424/nsd17115481.png\",\"cate\":\"ct8\",\"amigo\":\"N\",\"viewer\":\"Y\",\"today\":\"N\",\"local\":[{\"name\":\"대전\",\"code\":\"07\"},{\"name\":\"충남\",\"code\":\"15\"},{\"name\":\"충북\",\"code\":\"16\"},{\"name\":\"세종\",\"code\":\"17\"}]},{\"pid\":\"331\",\"name\":\"충청투데이\",\"img\":\"https://s.pstatic.net/static/newsstand/up/2017/0424/nsd17133978.png\",\"cate\":\"ct8\",\"amigo\":\"N\",\"viewer\":\"Y\",\"today\":\"N\",\"local\":[{\"name\":\"대전\",\"code\":\"07\"},{\"name\":\"충남\",\"code\":\"15\"},{\"name\":\"충북\",\"code\":\"16\"},{\"name\":\"세종\",\"code\":\"17\"}]},{\"pid\":\"987\",\"name\":\"한라일보\",\"img\":\"https://s.pstatic.net/static/newsstand/up/2018/0917/nsd1045519.png\",\"cate\":\"ct8\",\"amigo\":\"N\",\"viewer\":\"Y\",\"today\":\"N\",\"local\":null}]},\\n\\t\\t\\t\\t\\tisSupportedFlicking : false\\n    \\t\\t    });\\n\\n\\t\\t\\t\\tnew naver.main.Timesquare({\\n    \\t    \\t    aOrderedPanel : [{\"code\":\"weather\",\"name\":\"날씨\"},{\"code\":\"news\",\"name\":\"뉴스\"},{\"code\":\"sports\",\"name\":\"스포츠\"},{\"code\":\"finance\",\"name\":\"금융\"},{\"code\":\"conversation\",\"name\":\"회화\"},{\"code\":\"lifetools\",\"name\":\"생활도구\"}],\\n        \\t    \\tisSupportedFlicking : false\\n\\t\\t        });\\n\\n\\t\\t\\t\\tnew naver.main.RealtimeKeyword();\\n\\t\\t\\t\\tif ( !($Agent().navigator().ie && $Agent().navigator().version <= 8) ) {\\t\\n\\t\\t\\t\\t\\tnaver_adbd.Manager().activate();\\n\\t\\t\\t\\t}\\n\\n\\t\\t\\t\\tnaver.main.SchoolFixed.init(\"(none)\");\\n\\t\\t\\t\\tnaver.main.bestseller.init();\\n\\t\\t\\t\\tnaver.main.PromotionTopBanner.init();\\n\\n\\t\\t\\t\\tsetTimeout(function() {\\n\\t\\t\\t\\t\\tif (iframeLazyLoad) {\\n\\t\\t\\t\\t\\t\\t$Element(\"da_iframe_time\").attr(\"src\", urlDaIframeTime);\\n\\t\\t\\t\\t\\t\\tvar welMinime = $Element(\"minime\");\\n\\t\\t\\t\\t\\t\\tif (welMinime) {\\n\\t\\t\\t\\t\\t\\t\\twelMinime.attr(\"src\", urlMinime);\\n\\t\\t\\t\\t\\t\\t}\\n\\t\\t\\t\\t\\t\\t$Element(\"da_iframe_rolling\").attr(\"src\", urlDaIframeRolling);\\n\\t\\t\\t\\t\\t\\t$Element(\"cnsv_shbx\").attr(\"src\", urlCnsvShbx);\\n\\t\\t\\t\\t\\t\\t$Element(\"da_iframe_below\").attr(\"src\", urlDaIframeBelow);\\n\\t\\t\\t\\t\\t}\\n\\t\\t\\t\\t\\t//console.log(performance.timing.loadEventEnd - performance.timing.navigationStart);\\n\\t\\t\\t\\t}, 0);\\n\\n\\t\\t\\t});\\n\\t\\t}\\n\\n\\t\\tif (window.addEventListener) { \\n\\t\\t\\twindow.addEventListener(\"load\", function() { loadJS(); }, true);\\n\\t\\t} else if (window.attachEvent) { \\n\\t\\t\\twindow.attachEvent(\"onload\", loadJS);\\n\\t\\t} else {\\n\\t\\t\\twindow.onload = loadJS;\\n\\t\\t}\\n\\t\\t\\n\\t</script>\\n\\n\\n</body></html>'"
      ]
     },
     "execution_count": 52,
     "metadata": {},
     "output_type": "execute_result"
    }
   ],
   "source": [
    "dirver.page_source"
   ]
  },
  {
   "cell_type": "markdown",
   "metadata": {},
   "source": [
    "이전 url로 먼저 실습을 해보자."
   ]
  },
  {
   "cell_type": "code",
   "execution_count": 53,
   "metadata": {},
   "outputs": [],
   "source": [
    "dirver.get(\"http://example.webscraping.com/places/default/search\")"
   ]
  },
  {
   "cell_type": "code",
   "execution_count": 54,
   "metadata": {},
   "outputs": [],
   "source": [
    "inputTag = dirver.find_element_by_id(\"search_term\")"
   ]
  },
  {
   "cell_type": "code",
   "execution_count": 55,
   "metadata": {},
   "outputs": [
    {
     "data": {
      "text/plain": [
       "<selenium.webdriver.remote.webelement.WebElement (session=\"13835a38b0bb5def066fcd43f207b203\", element=\"02bdf0df-81d1-467e-90c2-11f5e0c934fc\")>"
      ]
     },
     "execution_count": 55,
     "metadata": {},
     "output_type": "execute_result"
    }
   ],
   "source": [
    "inputTag"
   ]
  },
  {
   "cell_type": "code",
   "execution_count": 56,
   "metadata": {},
   "outputs": [],
   "source": [
    "inputTag.send_keys(\"korea\")"
   ]
  },
  {
   "cell_type": "code",
   "execution_count": 60,
   "metadata": {},
   "outputs": [],
   "source": [
    "dirver.find_element_by_xpath(\"//input[@type='submit']\").click()"
   ]
  },
  {
   "cell_type": "code",
   "execution_count": 61,
   "metadata": {},
   "outputs": [],
   "source": [
    "dom = BeautifulSoup(dirver.page_source,\"lxml\")"
   ]
  },
  {
   "cell_type": "code",
   "execution_count": 62,
   "metadata": {},
   "outputs": [
    {
     "data": {
      "text/plain": [
       "<html class=\"js flexbox flexboxlegacy canvas canvastext webgl no-touch geolocation postmessage websqldatabase indexeddb hashchange history draganddrop websockets rgba hsla multiplebgs backgroundsize borderimage borderradius boxshadow textshadow opacity cssanimations csscolumns cssgradients cssreflections csstransforms csstransforms3d csstransitions fontface generatedcontent video audio localstorage sessionstorage webworkers no-applicationcache svg inlinesvg smil svgclippaths\" lang=\"en-us\" style=\"\"><!--<![endif]--><head>\n",
       "<title>Example web scraping website</title>\n",
       "<!--[if !HTML5]>\n",
       "      <meta http-equiv=\"X-UA-Compatible\" content=\"IE=edge,chrome=1\">\n",
       "  <![endif]-->\n",
       "<!-- www.phpied.com/conditional-comments-block-downloads/ -->\n",
       "<!-- Always force latest IE rendering engine\n",
       "       (even in intranet) & Chrome Frame\n",
       "       Remove this if you use the .htaccess -->\n",
       "<meta charset=\"utf-8\"/>\n",
       "<!-- http://dev.w3.org/html5/markup/meta.name.html -->\n",
       "<meta content=\"places\" name=\"application-name\"/>\n",
       "<!--  Mobile Viewport Fix\n",
       "        j.mp/mobileviewport & davidbcalhoun.com/2010/viewport-metatag\n",
       "        device-width: Occupy full width of the screen in its current orientation\n",
       "        initial-scale = 1.0 retains dimensions instead of zooming out if page height > device height\n",
       "        user-scalable = yes allows the user to zoom in -->\n",
       "<meta content=\"width=device-width, initial-scale=1.0\" name=\"viewport\"/>\n",
       "<link href=\"/places/static/images/favicon.ico\" rel=\"shortcut icon\" type=\"image/x-icon\"/>\n",
       "<link href=\"/places/static/images/favicon.png\" rel=\"apple-touch-icon\"/>\n",
       "<!-- All JavaScript at the bottom, except for Modernizr which enables\n",
       "       HTML5 elements & feature detects -->\n",
       "<script src=\"/places/static/js/modernizr.custom.js\"></script>\n",
       "<!-- include stylesheets -->\n",
       "<script type=\"text/javascript\"><!--\n",
       "    // These variables are used by the web2py_ajax_init function in web2py_ajax.js (which is loaded below).\n",
       "    var w2p_ajax_confirm_message = \"Are you sure you want to delete this object?\";\n",
       "    var w2p_ajax_disable_with_message = \"Working...\";\n",
       "    var w2p_ajax_date_format = \"%Y-%m-%d\";\n",
       "    var w2p_ajax_datetime_format = \"%Y-%m-%d %H:%M:%S\";\n",
       "    var ajax_error_500 = 'An error occured, please <a href=\"/places/default/search\">reload</a> the page'\n",
       "    //--></script>\n",
       "<meta content=\"web2py, python, web scraping\" name=\"keywords\"/>\n",
       "<meta content=\"Web2py Web Framework\" name=\"generator\"/>\n",
       "<meta content=\"Richard Penman\" name=\"author\"/>\n",
       "<script src=\"/places/static/js/jquery.js\" type=\"text/javascript\"></script><link href=\"/places/static/css/calendar.css\" rel=\"stylesheet\" type=\"text/css\"/><script src=\"/places/static/js/calendar.js\" type=\"text/javascript\"></script><script src=\"/places/static/js/web2py.js\" type=\"text/javascript\"></script><link href=\"/places/static/css/web2py.css\" rel=\"stylesheet\" type=\"text/css\"/><link href=\"/places/static/css/bootstrap.min.css\" rel=\"stylesheet\" type=\"text/css\"/><link href=\"/places/static/css/bootstrap-responsive.min.css\" rel=\"stylesheet\" type=\"text/css\"/><link href=\"/places/static/css/style.css\" rel=\"stylesheet\" type=\"text/css\"/><link href=\"/places/static/css/web2py_bootstrap.css\" rel=\"stylesheet\" type=\"text/css\"/>\n",
       "<!-- uncomment here to load jquery-ui\n",
       "       <link rel=\"stylesheet\" href=\"http://ajax.googleapis.com/ajax/libs/jqueryui/1.10.3/themes/ui-lightness/jquery-ui.css\" type=\"text/css\" media=\"all\" />\n",
       "       <script src=\"http://ajax.googleapis.com/ajax/libs/jqueryui/1.10.3/jquery-ui.min.js\" type=\"text/javascript\"></script>\n",
       "       uncomment to load jquery-ui //-->\n",
       "<noscript><link href=\"/places/static/css/web2py_bootstrap_nojs.css\" rel=\"stylesheet\" type=\"text/css\"/></noscript>\n",
       "</head>\n",
       "<body>\n",
       "<!-- Navbar ================================================== -->\n",
       "<div class=\"navbar navbar-inverse\">\n",
       "<div class=\"flash\" style=\"display: none;\"></div>\n",
       "<div class=\"navbar-inner\">\n",
       "<div class=\"container\">\n",
       "<!-- the next tag is necessary for bootstrap menus, do not remove -->\n",
       "<button class=\"btn btn-navbar\" data-target=\".nav-collapse\" data-toggle=\"collapse\" style=\"display:none;\" type=\"button\">\n",
       "<span class=\"icon-bar\"></span>\n",
       "<span class=\"icon-bar\"></span>\n",
       "<span class=\"icon-bar\"></span>\n",
       "</button>\n",
       "<ul class=\"nav pull-right\" id=\"navbar\"><li class=\"dropdown\"><a class=\"dropdown-toggle\" data-toggle=\"dropdown\" href=\"#\" rel=\"nofollow\">Log In<b class=\"caret\"></b></a><ul class=\"dropdown-menu\"><li><a href=\"/places/default/user/register?_next=/places/default/search\" rel=\"nofollow\"><i class=\"icon icon-user glyphicon glyphicon-user\"></i> Sign Up</a></li><li class=\"divider\"></li><li><a href=\"/places/default/user/login?_next=/places/default/search\" rel=\"nofollow\"><i class=\"icon icon-off glyphicon glyphicon-off\"></i> Log In</a></li></ul></li></ul>\n",
       "<div class=\"nav\">\n",
       "<ul class=\"nav\"><li class=\"web2py-menu-first\"><a href=\"/places/default/index\">Home</a></li><li class=\"web2py-menu-last\"><a href=\"/places/default/search\">Search</a></li></ul>\n",
       "</div><!--/.nav-collapse -->\n",
       "</div>\n",
       "</div>\n",
       "</div><!--/top navbar -->\n",
       "<div class=\"container\">\n",
       "<!-- Masthead ================================================== -->\n",
       "<header class=\"mastheader row\" id=\"header\">\n",
       "<div class=\"span12\">\n",
       "<div class=\"page-header\">\n",
       "<h1>\n",
       "                    Example web scraping website\n",
       "                    <small></small>\n",
       "</h1>\n",
       "</div>\n",
       "</div>\n",
       "</header>\n",
       "<section class=\"main row\" id=\"main\">\n",
       "<div class=\"span12\">\n",
       "<form>\n",
       "<table>\n",
       "<tbody><tr>\n",
       "<th>Name:</th>\n",
       "<td><input id=\"search_term\"/></td>\n",
       "</tr>\n",
       "<tr>\n",
       "<th>Page size:</th>\n",
       "<td>\n",
       "<select id=\"page_size\">\n",
       "<option>4</option>\n",
       "<option selected=\"\">10</option>\n",
       "<option>20</option>\n",
       "</select>\n",
       "</td>\n",
       "</tr>\n",
       "<tr>\n",
       "<td></td>\n",
       "<td>\n",
       "<input class=\"btn\" id=\"search\" type=\"submit\" value=\"Search\"/>\n",
       "</td>\n",
       "</tr>\n",
       "</tbody></table>\n",
       "</form>\n",
       "<div id=\"results\"><table><tbody><tr><td><div><a href=\"/places/default/view/North-Korea-165\"><img src=\"/places/static/images/flags/kp.png\"/> North Korea</a></div></td><td><div><a href=\"/places/default/view/South-Korea-211\"><img src=\"/places/static/images/flags/kr.png\"/> South Korea</a></div></td></tr></tbody></table></div>\n",
       "<div id=\"pagination\"></div>\n",
       "<script language=\"javascript\" type=\"text/javascript\">\n",
       "var NUM_COLUMNS = 2;\n",
       "var page = 0;\n",
       "\n",
       "\n",
       "$(function() {\n",
       "    $(\"form\").submit(function() {\n",
       "        page = 0;\n",
       "        search();\n",
       "        return false;\n",
       "    });\n",
       "\n",
       "    load_hash();\n",
       "    window.onhashchange = load_hash;\n",
       "});\n",
       "\n",
       "\n",
       "function load_hash() {\n",
       "    // load previous state from hash string\n",
       "    var args = window.location.hash.slice(1).split('|')\n",
       "    if(args.length == 3) {\n",
       "        $(\"#search_term\").val(args[0]);\n",
       "        $(\"#page_size\").val(args[1]);\n",
       "        page = parseInt(args[2]);\n",
       "        search();\n",
       "    }\n",
       "}\n",
       "\n",
       "\n",
       "function previous() {\n",
       "    page = page - 1;\n",
       "    search();\n",
       "}\n",
       "function next() {\n",
       "    page = page + 1;\n",
       "    search();\n",
       "}\n",
       "\n",
       "function search() {\n",
       "    var data = {\n",
       "        search_term: $(\"#search_term\").val(),\n",
       "        page_size: parseInt($(\"#page_size\").val()),\n",
       "        page: page,\n",
       "    };\n",
       "    //window.location.hash = data.search_term + '|' + data.page_size + '|' + page;\n",
       "\n",
       "    $.ajax({\n",
       "        dataType: \"json\",\n",
       "        url: \"/places/ajax/search.json?\",\n",
       "        data: data,\n",
       "        success: function(results) {\n",
       "            render(results)\n",
       "        }\n",
       "    });\n",
       "}\n",
       "\n",
       "function render(results) {\n",
       "    // add resulting records\n",
       "    var html = \"<table>\";\n",
       "    for(var i=0; i < results.records.length; i++) {\n",
       "        var record = results.records[i];\n",
       "        if(i % NUM_COLUMNS == 0) html += \"<tr>\";\n",
       "        html += \"<td>\" + record[\"pretty_link\"] + \"</td>\";\n",
       "        if(i % NUM_COLUMNS == NUM_COLUMNS - 1) html += \"</tr>\";\n",
       "    }\n",
       "    $(\"#results\").html(html + \"</table>\");\n",
       "\n",
       "    // add pagination if necessary\n",
       "    html = \"\";\n",
       "    if(results.num_pages > 1) {\n",
       "        if(page > 0) {\n",
       "            html += \"<a id='previous' href='javascript:void(0)' onclick='previous()'>&lt; Previous</a>\";\n",
       "        } else {\n",
       "            html += \"&lt; Previous\";\n",
       "        }\n",
       "        html += \" | \";\n",
       "        if(page + 1 < results.num_pages) {\n",
       "            html += \"<a id='next' href='javascript:void(0)' onclick='next()'>Next &gt;</a>\";\n",
       "        } else {\n",
       "            html += \"Next &gt;\";\n",
       "        \n",
       "        }\n",
       "    }\n",
       "    $(\"#pagination\").html(html);\n",
       "}\n",
       "</script>\n",
       "</div>\n",
       "</section><!--/main-->\n",
       "<!-- Footer ================================================== -->\n",
       "<div class=\"row\">\n",
       "<footer class=\"footer span12\" id=\"footer\">\n",
       "</footer>\n",
       "</div>\n",
       "</div> <!-- /container -->\n",
       "<!-- The javascript =============================================\n",
       "       (Placed at the end of the document so the pages load faster) -->\n",
       "<script src=\"/places/static/js/bootstrap.min.js\"></script>\n",
       "<script src=\"/places/static/js/web2py_bootstrap.js\"></script>\n",
       "<!--[if lt IE 7 ]>\n",
       "      <script src=\"/places/static/js/dd_belatedpng.js\"></script>\n",
       "      <script> DD_belatedPNG.fix('img, .png_bg'); //fix any <img> or .png_bg background-images </script>\n",
       "      <![endif]-->\n",
       "</body></html>"
      ]
     },
     "execution_count": 62,
     "metadata": {},
     "output_type": "execute_result"
    }
   ],
   "source": [
    "dom"
   ]
  },
  {
   "cell_type": "code",
   "execution_count": 63,
   "metadata": {},
   "outputs": [
    {
     "data": {
      "text/plain": [
       "[<div id=\"results\"><table><tbody><tr><td><div><a href=\"/places/default/view/North-Korea-165\"><img src=\"/places/static/images/flags/kp.png\"/> North Korea</a></div></td><td><div><a href=\"/places/default/view/South-Korea-211\"><img src=\"/places/static/images/flags/kr.png\"/> South Korea</a></div></td></tr></tbody></table></div>]"
      ]
     },
     "execution_count": 63,
     "metadata": {},
     "output_type": "execute_result"
    }
   ],
   "source": [
    "dom.select(\"#results\")"
   ]
  },
  {
   "cell_type": "code",
   "execution_count": 68,
   "metadata": {},
   "outputs": [
    {
     "data": {
      "text/plain": [
       "'North Korea\\nSouth Korea'"
      ]
     },
     "execution_count": 68,
     "metadata": {},
     "output_type": "execute_result"
    }
   ],
   "source": [
    "dirver.find_element_by_css_selector(\"#results\").text"
   ]
  },
  {
   "cell_type": "markdown",
   "metadata": {},
   "source": [
    "렌더링을 기다려주는 시간이 꼭 필요하다."
   ]
  },
  {
   "cell_type": "code",
   "execution_count": 72,
   "metadata": {},
   "outputs": [],
   "source": [
    "dirver.get(\"https://nid.naver.com/nidlogin.login?mode=form&url=https%3A%2F%2Fwww.naver.com\")"
   ]
  },
  {
   "cell_type": "code",
   "execution_count": 73,
   "metadata": {},
   "outputs": [],
   "source": [
    "idInput = dirver.find_element_by_css_selector(\".id_area #id\")"
   ]
  },
  {
   "cell_type": "code",
   "execution_count": 74,
   "metadata": {},
   "outputs": [
    {
     "data": {
      "text/plain": [
       "<selenium.webdriver.remote.webelement.WebElement (session=\"13835a38b0bb5def066fcd43f207b203\", element=\"c6c67d50-b9ab-4f6e-b976-a28ddffc1156\")>"
      ]
     },
     "execution_count": 74,
     "metadata": {},
     "output_type": "execute_result"
    }
   ],
   "source": [
    "idInput"
   ]
  },
  {
   "cell_type": "code",
   "execution_count": 86,
   "metadata": {},
   "outputs": [
    {
     "data": {
      "text/plain": [
       "'salaryw'"
      ]
     },
     "execution_count": 86,
     "metadata": {},
     "output_type": "execute_result"
    }
   ],
   "source": [
    "account[\"id\"]"
   ]
  },
  {
   "cell_type": "code",
   "execution_count": 92,
   "metadata": {},
   "outputs": [],
   "source": [
    "idInput.send_keys(account[\"id\"])"
   ]
  },
  {
   "cell_type": "code",
   "execution_count": 89,
   "metadata": {},
   "outputs": [],
   "source": [
    "pwInput = dirver.find_element_by_css_selector(\".pw_area #pw\")"
   ]
  },
  {
   "cell_type": "code",
   "execution_count": 90,
   "metadata": {},
   "outputs": [
    {
     "data": {
      "text/plain": [
       "<selenium.webdriver.remote.webelement.WebElement (session=\"13835a38b0bb5def066fcd43f207b203\", element=\"786d3901-45d4-4208-bde8-1c88ae95f860\")>"
      ]
     },
     "execution_count": 90,
     "metadata": {},
     "output_type": "execute_result"
    }
   ],
   "source": [
    "pwInput"
   ]
  },
  {
   "cell_type": "code",
   "execution_count": 93,
   "metadata": {},
   "outputs": [],
   "source": [
    "pwInput.send_keys(account[\"pw\"])"
   ]
  },
  {
   "cell_type": "code",
   "execution_count": 94,
   "metadata": {},
   "outputs": [],
   "source": [
    "loginInput = dirver.find_element_by_css_selector(\"input.btn_global\")"
   ]
  },
  {
   "cell_type": "code",
   "execution_count": 95,
   "metadata": {},
   "outputs": [],
   "source": [
    "dirver.find_element_by_xpath(\"//input[@type='submit']\").click()"
   ]
  },
  {
   "cell_type": "markdown",
   "metadata": {},
   "source": [
    "보안때문에 로그인이 튕기고, 캡처가 뜬다."
   ]
  },
  {
   "cell_type": "markdown",
   "metadata": {},
   "source": [
    "\"https://nid.naver.com/nidlogin.login?mode=form&url=https%3A%2F%2Fwww.naver.com\"\n",
    "\n",
    "-> url=https%3A%2F%2Fwww.naver.com \n",
    "\n",
    "redirect url"
   ]
  },
  {
   "cell_type": "code",
   "execution_count": 96,
   "metadata": {},
   "outputs": [],
   "source": [
    "dirver.get(\"https://mail.naver.com/\")"
   ]
  },
  {
   "cell_type": "code",
   "execution_count": 97,
   "metadata": {},
   "outputs": [],
   "source": [
    "dom = BeautifulSoup(dirver.page_source,\"lxml\")"
   ]
  },
  {
   "cell_type": "code",
   "execution_count": 101,
   "metadata": {},
   "outputs": [
    {
     "data": {
      "text/plain": [
       "[<a class=\"_d2(mcDragndrop|html5DragStart)\" draggable=\"true\" href=\"/read/popup/?nMailId=20\"><span class=\"text _ccr(lst.title) _c1(mrCore|clickTitle|20) _m2(mrCore|middleClickTitle|20)\" foldersn=\"\" mailsn=\"20\"><span class=\"folderName _ccr(lst.title) _c1(mrCore|clickTitle|20) _m2(mrCore|middleClickTitle|20)\" foldersn=\"\" mailsn=\"20\"><span class=\"blind\">에 분류됨</span></span><strong class=\"mail_title _ccr(lst.title) _c1(mrCore|clickTitle|20) _m2(mrCore|middleClickTitle|20)\" foldersn=\"\" mailsn=\"20\"><span class=\"blind\">메일 제목:</span>instagram, balqeesfathi and katyperry님이 새로운 게시물을 올렸습니다</strong></span></a>,\n",
       " <a class=\"_d2(mcDragndrop|html5DragStart)\" draggable=\"true\" href=\"/read/popup/?nMailId=19\"><span class=\"text _ccr(lst.title) _c1(mrCore|clickTitle|19) _m2(mrCore|middleClickTitle|19)\" foldersn=\"\" mailsn=\"19\"><span class=\"folderName _ccr(lst.title) _c1(mrCore|clickTitle|19) _m2(mrCore|middleClickTitle|19)\" foldersn=\"\" mailsn=\"19\"><span class=\"blind\">에 분류됨</span></span><strong class=\"mail_title _ccr(lst.title) _c1(mrCore|clickTitle|19) _m2(mrCore|middleClickTitle|19)\" foldersn=\"\" mailsn=\"19\"><span class=\"blind\">메일 제목:</span>yeooooooony님, instagram, liltunechi, priyankachopra님을 포함한 다른 사람들의 새로운 게시물을 확인해보세요</strong></span></a>,\n",
       " <a class=\"_d2(mcDragndrop|html5DragStart)\" draggable=\"true\" href=\"/read/popup/?nMailId=18\"><span class=\"text _ccr(lst.title) _c1(mrCore|clickTitle|18) _m2(mrCore|middleClickTitle|18)\" foldersn=\"\" mailsn=\"18\"><span class=\"folderName _ccr(lst.title) _c1(mrCore|clickTitle|18) _m2(mrCore|middleClickTitle|18)\" foldersn=\"\" mailsn=\"18\"><span class=\"blind\">에 분류됨</span></span><strong class=\"mail_title _ccr(lst.title) _c1(mrCore|clickTitle|18) _m2(mrCore|middleClickTitle|18)\" foldersn=\"\" mailsn=\"18\"><span class=\"blind\">메일 제목:</span>[그라폴리오] 서비스 이용약관 개정 안내</strong></span></a>,\n",
       " <a class=\"_d2(mcDragndrop|html5DragStart)\" draggable=\"true\" href=\"/read/popup/?nMailId=17\"><span class=\"text _ccr(lst.title) _c1(mrCore|clickTitle|17) _m2(mrCore|middleClickTitle|17)\" foldersn=\"\" mailsn=\"17\"><span class=\"folderName _ccr(lst.title) _c1(mrCore|clickTitle|17) _m2(mrCore|middleClickTitle|17)\" foldersn=\"\" mailsn=\"17\"><span class=\"blind\">에 분류됨</span></span><strong class=\"mail_title _ccr(lst.title) _c1(mrCore|clickTitle|17) _m2(mrCore|middleClickTitle|17)\" foldersn=\"\" mailsn=\"17\"><span class=\"blind\">메일 제목:</span>yeooooooony님, instagram, marykatrantzou, zayn님을 포함한 다른 사람들의 새로운 게시물을 확인해보세요</strong></span></a>,\n",
       " <a class=\"_d2(mcDragndrop|html5DragStart)\" draggable=\"true\" href=\"/read/popup/?nMailId=16\"><span class=\"text _ccr(lst.title) _c1(mrCore|clickTitle|16) _m2(mrCore|middleClickTitle|16)\" foldersn=\"\" mailsn=\"16\"><span class=\"folderName _ccr(lst.title) _c1(mrCore|clickTitle|16) _m2(mrCore|middleClickTitle|16)\" foldersn=\"\" mailsn=\"16\"><span class=\"blind\">에 분류됨</span></span><strong class=\"mail_title _ccr(lst.title) _c1(mrCore|clickTitle|16) _m2(mrCore|middleClickTitle|16)\" foldersn=\"\" mailsn=\"16\"><span class=\"blind\">메일 제목:</span>yeooooooony님, instagram, isabellasantoni, nachofdez90님을 포함한 다른 사람들의 새로운 게시물을 확인해보세요</strong></span></a>,\n",
       " <a class=\"_d2(mcDragndrop|html5DragStart)\" draggable=\"true\" href=\"/read/popup/?nMailId=15\"><span class=\"text _ccr(lst.title) _c1(mrCore|clickTitle|15) _m2(mrCore|middleClickTitle|15)\" foldersn=\"\" mailsn=\"15\"><span class=\"folderName _ccr(lst.title) _c1(mrCore|clickTitle|15) _m2(mrCore|middleClickTitle|15)\" foldersn=\"\" mailsn=\"15\"><span class=\"blind\">에 분류됨</span></span><strong class=\"mail_title _ccr(lst.title) _c1(mrCore|clickTitle|15) _m2(mrCore|middleClickTitle|15)\" foldersn=\"\" mailsn=\"15\"><span class=\"blind\">메일 제목:</span>yeooooooony님, instagram, jordialbaoficial, shraddhakapoor님을 포함한 다른 사람들의 새로운 게시물을 확인해보세요</strong></span></a>,\n",
       " <a class=\"_d2(mcDragndrop|html5DragStart)\" draggable=\"true\" href=\"/read/popup/?nMailId=14\"><span class=\"text _ccr(lst.title) _c1(mrCore|clickTitle|14) _m2(mrCore|middleClickTitle|14)\" foldersn=\"\" mailsn=\"14\"><span class=\"folderName _ccr(lst.title) _c1(mrCore|clickTitle|14) _m2(mrCore|middleClickTitle|14)\" foldersn=\"\" mailsn=\"14\"><span class=\"blind\">에 분류됨</span></span><strong class=\"mail_title _ccr(lst.title) _c1(mrCore|clickTitle|14) _m2(mrCore|middleClickTitle|14)\" foldersn=\"\" mailsn=\"14\"><span class=\"blind\">메일 제목:</span>새로운 환경에서 로그인 되었습니다.</strong></span></a>,\n",
       " <a class=\"_d2(mcDragndrop|html5DragStart)\" draggable=\"true\" href=\"/read/popup/?nMailId=13\"><span class=\"text _ccr(lst.title) _c1(mrCore|clickTitle|13) _m2(mrCore|middleClickTitle|13)\" foldersn=\"\" mailsn=\"13\"><span class=\"folderName _ccr(lst.title) _c1(mrCore|clickTitle|13) _m2(mrCore|middleClickTitle|13)\" foldersn=\"\" mailsn=\"13\"><span class=\"blind\">에 분류됨</span></span><strong class=\"mail_title _ccr(lst.title) _c1(mrCore|clickTitle|13) _m2(mrCore|middleClickTitle|13)\" foldersn=\"\" mailsn=\"13\"><span class=\"blind\">메일 제목:</span>yeooooooony님, instagram, nyknicks, maiaestiantyreal님을 포함한 다른 사람들의 새로운 게시물을 확인해보세요</strong></span></a>,\n",
       " <a class=\"_d2(mcDragndrop|html5DragStart)\" draggable=\"true\" href=\"/read/popup/?nMailId=12\"><span class=\"text _ccr(lst.title) _c1(mrCore|clickTitle|12) _m2(mrCore|middleClickTitle|12)\" foldersn=\"\" mailsn=\"12\"><span class=\"folderName _ccr(lst.title) _c1(mrCore|clickTitle|12) _m2(mrCore|middleClickTitle|12)\" foldersn=\"\" mailsn=\"12\"><span class=\"blind\">에 분류됨</span></span><strong class=\"mail_title _ccr(lst.title) _c1(mrCore|clickTitle|12) _m2(mrCore|middleClickTitle|12)\" foldersn=\"\" mailsn=\"12\"><span class=\"blind\">메일 제목:</span>yeooooooony님, instagram, tessabrooks, anwarhadid님을 포함한 다른 사람들의 새로운 게시물을 확인해보세요</strong></span></a>,\n",
       " <a class=\"_d2(mcDragndrop|html5DragStart)\" draggable=\"true\" href=\"/read/popup/?nMailId=11\"><span class=\"text _ccr(lst.title) _c1(mrCore|clickTitle|11) _m2(mrCore|middleClickTitle|11)\" foldersn=\"\" mailsn=\"11\"><span class=\"folderName _ccr(lst.title) _c1(mrCore|clickTitle|11) _m2(mrCore|middleClickTitle|11)\" foldersn=\"\" mailsn=\"11\"><span class=\"blind\">에 분류됨</span></span><strong class=\"mail_title _ccr(lst.title) _c1(mrCore|clickTitle|11) _m2(mrCore|middleClickTitle|11)\" foldersn=\"\" mailsn=\"11\"><span class=\"blind\">메일 제목:</span>yeooooooony님, instagram, shaymitchell, rosiehw님을 포함한 다른 사람들의 새로운 게시물을 확인해보세요</strong></span></a>,\n",
       " <a class=\"_d2(mcDragndrop|html5DragStart)\" draggable=\"true\" href=\"/read/popup/?nMailId=10\"><span class=\"text _ccr(lst.title) _c1(mrCore|clickTitle|10) _m2(mrCore|middleClickTitle|10)\" foldersn=\"\" mailsn=\"10\"><span class=\"folderName _ccr(lst.title) _c1(mrCore|clickTitle|10) _m2(mrCore|middleClickTitle|10)\" foldersn=\"\" mailsn=\"10\"><span class=\"blind\">에 분류됨</span></span><strong class=\"mail_title _ccr(lst.title) _c1(mrCore|clickTitle|10) _m2(mrCore|middleClickTitle|10)\" foldersn=\"\" mailsn=\"10\"><span class=\"blind\">메일 제목:</span>yeooooooony님, instagram, mileycyrus, qk20님을 포함한 다른 사람들의 새로운 게시물을 확인해보세요</strong></span></a>,\n",
       " <a class=\"_d2(mcDragndrop|html5DragStart)\" draggable=\"true\" href=\"/read/popup/?nMailId=9\"><span class=\"text _ccr(lst.title) _c1(mrCore|clickTitle|9) _m2(mrCore|middleClickTitle|9)\" foldersn=\"\" mailsn=\"9\"><span class=\"folderName _ccr(lst.title) _c1(mrCore|clickTitle|9) _m2(mrCore|middleClickTitle|9)\" foldersn=\"\" mailsn=\"9\"><span class=\"blind\">에 분류됨</span></span><strong class=\"mail_title _ccr(lst.title) _c1(mrCore|clickTitle|9) _m2(mrCore|middleClickTitle|9)\" foldersn=\"\" mailsn=\"9\"><span class=\"blind\">메일 제목:</span>Welcome! Confirm your email.</strong></span></a>,\n",
       " <a class=\"_d2(mcDragndrop|html5DragStart)\" draggable=\"true\" href=\"/read/popup/?nMailId=6\"><span class=\"text _ccr(lst.title) _c1(mrCore|clickTitle|6) _m2(mrCore|middleClickTitle|6)\" foldersn=\"\" mailsn=\"6\"><span class=\"folderName _ccr(lst.title) _c1(mrCore|clickTitle|6) _m2(mrCore|middleClickTitle|6)\" foldersn=\"\" mailsn=\"6\"><span class=\"blind\">에 분류됨</span></span><strong class=\"mail_title _ccr(lst.title) _c1(mrCore|clickTitle|6) _m2(mrCore|middleClickTitle|6)\" foldersn=\"\" mailsn=\"6\"><span class=\"blind\">메일 제목:</span>그라폴리오 회원 가입 확인</strong></span></a>]"
      ]
     },
     "execution_count": 101,
     "metadata": {},
     "output_type": "execute_result"
    }
   ],
   "source": [
    "dom.select(\".subject  a:first-child\")"
   ]
  },
  {
   "cell_type": "code",
   "execution_count": 110,
   "metadata": {},
   "outputs": [
    {
     "data": {
      "text/plain": [
       "['메일 제목:instagram, balqeesfathi and katyperry님이 새로운 게시물을 올렸습니다',\n",
       " '메일 제목:yeooooooony님, instagram, liltunechi, priyankachopra님을 포함한 다른 사람들의 새로운 게시물을 확인해보세요',\n",
       " '메일 제목:[그라폴리오] 서비스 이용약관 개정 안내',\n",
       " '메일 제목:yeooooooony님, instagram, marykatrantzou, zayn님을 포함한 다른 사람들의 새로운 게시물을 확인해보세요',\n",
       " '메일 제목:yeooooooony님, instagram, isabellasantoni, nachofdez90님을 포함한 다른 사람들의 새로운 게시물을 확인해보세요',\n",
       " '메일 제목:yeooooooony님, instagram, jordialbaoficial, shraddhakapoor님을 포함한 다른 사람들의 새로운 게시물을 확인해보세요',\n",
       " '메일 제목:새로운 환경에서 로그인 되었습니다.',\n",
       " '메일 제목:yeooooooony님, instagram, nyknicks, maiaestiantyreal님을 포함한 다른 사람들의 새로운 게시물을 확인해보세요',\n",
       " '메일 제목:yeooooooony님, instagram, tessabrooks, anwarhadid님을 포함한 다른 사람들의 새로운 게시물을 확인해보세요',\n",
       " '메일 제목:yeooooooony님, instagram, shaymitchell, rosiehw님을 포함한 다른 사람들의 새로운 게시물을 확인해보세요',\n",
       " '메일 제목:yeooooooony님, instagram, mileycyrus, qk20님을 포함한 다른 사람들의 새로운 게시물을 확인해보세요',\n",
       " '메일 제목:Welcome! Confirm your email.',\n",
       " '메일 제목:그라폴리오 회원 가입 확인']"
      ]
     },
     "execution_count": 110,
     "metadata": {},
     "output_type": "execute_result"
    }
   ],
   "source": [
    "[_.text for _ in dom.select(\".subject  .mail_title\")]"
   ]
  },
  {
   "cell_type": "code",
   "execution_count": 111,
   "metadata": {},
   "outputs": [
    {
     "data": {
      "text/plain": [
       "[<selenium.webdriver.remote.webelement.WebElement (session=\"13835a38b0bb5def066fcd43f207b203\", element=\"684ed327-b121-40a3-9938-97db6a527025\")>,\n",
       " <selenium.webdriver.remote.webelement.WebElement (session=\"13835a38b0bb5def066fcd43f207b203\", element=\"9543f626-3ed4-44cc-b6c3-2bcb4f67efd1\")>,\n",
       " <selenium.webdriver.remote.webelement.WebElement (session=\"13835a38b0bb5def066fcd43f207b203\", element=\"f2660585-0b29-415d-8a6a-7452bd498834\")>,\n",
       " <selenium.webdriver.remote.webelement.WebElement (session=\"13835a38b0bb5def066fcd43f207b203\", element=\"0739a261-ded8-4fda-92f0-b2d4b1a0caad\")>,\n",
       " <selenium.webdriver.remote.webelement.WebElement (session=\"13835a38b0bb5def066fcd43f207b203\", element=\"fde41acc-e292-4dd4-b6eb-9a1fca0a1981\")>,\n",
       " <selenium.webdriver.remote.webelement.WebElement (session=\"13835a38b0bb5def066fcd43f207b203\", element=\"5da753a9-169c-4dd9-b82f-561499f75497\")>,\n",
       " <selenium.webdriver.remote.webelement.WebElement (session=\"13835a38b0bb5def066fcd43f207b203\", element=\"3b76c3ad-75e4-4be2-84a3-0717b2b007e7\")>,\n",
       " <selenium.webdriver.remote.webelement.WebElement (session=\"13835a38b0bb5def066fcd43f207b203\", element=\"9791d99a-5227-4dcc-bffe-c812acecd676\")>,\n",
       " <selenium.webdriver.remote.webelement.WebElement (session=\"13835a38b0bb5def066fcd43f207b203\", element=\"3864ef44-1691-40ac-9c88-c7a01daf05e0\")>,\n",
       " <selenium.webdriver.remote.webelement.WebElement (session=\"13835a38b0bb5def066fcd43f207b203\", element=\"e3f30458-db50-4cc8-8dca-f5501ebbbd2d\")>,\n",
       " <selenium.webdriver.remote.webelement.WebElement (session=\"13835a38b0bb5def066fcd43f207b203\", element=\"3b341354-102f-47fa-bbf6-ff9af83d37a2\")>,\n",
       " <selenium.webdriver.remote.webelement.WebElement (session=\"13835a38b0bb5def066fcd43f207b203\", element=\"e83cbd20-52fb-486d-83f6-19a059053479\")>,\n",
       " <selenium.webdriver.remote.webelement.WebElement (session=\"13835a38b0bb5def066fcd43f207b203\", element=\"7c3477a6-e63a-4b7e-ab9c-e90675da0d4f\")>]"
      ]
     },
     "execution_count": 111,
     "metadata": {},
     "output_type": "execute_result"
    }
   ],
   "source": [
    "dirver.find_elements_by_css_selector(\".subject  .mail_title\")"
   ]
  },
  {
   "cell_type": "code",
   "execution_count": 123,
   "metadata": {},
   "outputs": [
    {
     "data": {
      "text/plain": [
       "[<selenium.webdriver.remote.webelement.WebElement (session=\"13835a38b0bb5def066fcd43f207b203\", element=\"684ed327-b121-40a3-9938-97db6a527025\")>,\n",
       " <selenium.webdriver.remote.webelement.WebElement (session=\"13835a38b0bb5def066fcd43f207b203\", element=\"9543f626-3ed4-44cc-b6c3-2bcb4f67efd1\")>,\n",
       " <selenium.webdriver.remote.webelement.WebElement (session=\"13835a38b0bb5def066fcd43f207b203\", element=\"f2660585-0b29-415d-8a6a-7452bd498834\")>,\n",
       " <selenium.webdriver.remote.webelement.WebElement (session=\"13835a38b0bb5def066fcd43f207b203\", element=\"0739a261-ded8-4fda-92f0-b2d4b1a0caad\")>,\n",
       " <selenium.webdriver.remote.webelement.WebElement (session=\"13835a38b0bb5def066fcd43f207b203\", element=\"fde41acc-e292-4dd4-b6eb-9a1fca0a1981\")>,\n",
       " <selenium.webdriver.remote.webelement.WebElement (session=\"13835a38b0bb5def066fcd43f207b203\", element=\"5da753a9-169c-4dd9-b82f-561499f75497\")>,\n",
       " <selenium.webdriver.remote.webelement.WebElement (session=\"13835a38b0bb5def066fcd43f207b203\", element=\"3b76c3ad-75e4-4be2-84a3-0717b2b007e7\")>,\n",
       " <selenium.webdriver.remote.webelement.WebElement (session=\"13835a38b0bb5def066fcd43f207b203\", element=\"9791d99a-5227-4dcc-bffe-c812acecd676\")>,\n",
       " <selenium.webdriver.remote.webelement.WebElement (session=\"13835a38b0bb5def066fcd43f207b203\", element=\"3864ef44-1691-40ac-9c88-c7a01daf05e0\")>,\n",
       " <selenium.webdriver.remote.webelement.WebElement (session=\"13835a38b0bb5def066fcd43f207b203\", element=\"e3f30458-db50-4cc8-8dca-f5501ebbbd2d\")>,\n",
       " <selenium.webdriver.remote.webelement.WebElement (session=\"13835a38b0bb5def066fcd43f207b203\", element=\"3b341354-102f-47fa-bbf6-ff9af83d37a2\")>,\n",
       " <selenium.webdriver.remote.webelement.WebElement (session=\"13835a38b0bb5def066fcd43f207b203\", element=\"e83cbd20-52fb-486d-83f6-19a059053479\")>,\n",
       " <selenium.webdriver.remote.webelement.WebElement (session=\"13835a38b0bb5def066fcd43f207b203\", element=\"7c3477a6-e63a-4b7e-ab9c-e90675da0d4f\")>]"
      ]
     },
     "execution_count": 123,
     "metadata": {},
     "output_type": "execute_result"
    }
   ],
   "source": [
    "dirver.find_elements_by_xpath(\"//div[@class='mTitle']//span/strong\")"
   ]
  },
  {
   "cell_type": "code",
   "execution_count": 114,
   "metadata": {},
   "outputs": [
    {
     "data": {
      "text/plain": [
       "['instagram, balqeesfathi and katyperry님이 새로운 게시물을 올렸습니다',\n",
       " 'yeooooooony님, instagram, liltunechi, priyankachopra님을 포함한 다른 사람들의 새로운 게시물을 확인해보세요',\n",
       " '[그라폴리오] 서비스 이용약관 개정 안내',\n",
       " 'yeooooooony님, instagram, marykatrantzou, zayn님을 포함한 다른 사람들의 새로운 게시물을 확인해보세요',\n",
       " 'yeooooooony님, instagram, isabellasantoni, nachofdez90님을 포함한 다른 사람들의 새로운 게시물을 확인해보세요',\n",
       " 'yeooooooony님, instagram, jordialbaoficial, shraddhakapoor님을 포함한 다른 사람들의 새로운 게시물을 확인해보세요',\n",
       " '새로운 환경에서 로그인 되었습니다.',\n",
       " 'yeooooooony님, instagram, nyknicks, maiaestiantyreal님을 포함한 다른 사람들의 새로운 게시물을 확인해보세요',\n",
       " 'yeooooooony님, instagram, tessabrooks, anwarhadid님을 포함한 다른 사람들의 새로운 게시물을 확인해보세요',\n",
       " 'yeooooooony님, instagram, shaymitchell, rosiehw님을 포함한 다른 사람들의 새로운 게시물을 확인해보세요',\n",
       " 'yeooooooony님, instagram, mileycyrus, qk20님을 포함한 다른 사람들의 새로운 게시물을 확인해보세요',\n",
       " 'Welcome! Confirm your email.',\n",
       " '그라폴리오 회원 가입 확인']"
      ]
     },
     "execution_count": 114,
     "metadata": {},
     "output_type": "execute_result"
    }
   ],
   "source": [
    "[_.text for _ in dirver.find_elements_by_css_selector(\".subject  .mail_title\")]"
   ]
  },
  {
   "cell_type": "code",
   "execution_count": 124,
   "metadata": {},
   "outputs": [
    {
     "data": {
      "text/plain": [
       "['instagram, balqeesfathi and katyperry님이 새로운 게시물을 올렸습니다',\n",
       " 'yeooooooony님, instagram, liltunechi, priyankachopra님을 포함한 다른 사람들의 새로운 게시물을 확인해보세요',\n",
       " '[그라폴리오] 서비스 이용약관 개정 안내',\n",
       " 'yeooooooony님, instagram, marykatrantzou, zayn님을 포함한 다른 사람들의 새로운 게시물을 확인해보세요',\n",
       " 'yeooooooony님, instagram, isabellasantoni, nachofdez90님을 포함한 다른 사람들의 새로운 게시물을 확인해보세요',\n",
       " 'yeooooooony님, instagram, jordialbaoficial, shraddhakapoor님을 포함한 다른 사람들의 새로운 게시물을 확인해보세요',\n",
       " '새로운 환경에서 로그인 되었습니다.',\n",
       " 'yeooooooony님, instagram, nyknicks, maiaestiantyreal님을 포함한 다른 사람들의 새로운 게시물을 확인해보세요',\n",
       " 'yeooooooony님, instagram, tessabrooks, anwarhadid님을 포함한 다른 사람들의 새로운 게시물을 확인해보세요',\n",
       " 'yeooooooony님, instagram, shaymitchell, rosiehw님을 포함한 다른 사람들의 새로운 게시물을 확인해보세요',\n",
       " 'yeooooooony님, instagram, mileycyrus, qk20님을 포함한 다른 사람들의 새로운 게시물을 확인해보세요',\n",
       " 'Welcome! Confirm your email.',\n",
       " '그라폴리오 회원 가입 확인']"
      ]
     },
     "execution_count": 124,
     "metadata": {},
     "output_type": "execute_result"
    }
   ],
   "source": [
    "[_.text for _ in dirver.find_elements_by_xpath(\"//div[@class='mTitle']//span/strong\")]"
   ]
  },
  {
   "cell_type": "markdown",
   "metadata": {},
   "source": [
    "---\n",
    "\n",
    "휴지통 메일 들고오기"
   ]
  },
  {
   "cell_type": "code",
   "execution_count": 134,
   "metadata": {},
   "outputs": [],
   "source": [
    "# _d6(mcDragndrop|html5DragOver) _d7(mcDragndrop|html5Drop)\n",
    "dirver.find_element_by_css_selector(\".item_wrap.bu7\").click()"
   ]
  },
  {
   "cell_type": "code",
   "execution_count": 135,
   "metadata": {},
   "outputs": [
    {
     "data": {
      "text/plain": [
       "['[네이버 블로그] 네이버 블로거가 되신 것을 환영합니다.',\n",
       " '똑!소리나는 네이버 메일 가입을 환영합니다.',\n",
       " '네이버 회원가입을 환영합니다.']"
      ]
     },
     "execution_count": 135,
     "metadata": {},
     "output_type": "execute_result"
    }
   ],
   "source": [
    "[_.text for _ in dirver.find_elements_by_xpath(\"//div[@class='mTitle']//span/strong\")]"
   ]
  },
  {
   "cell_type": "code",
   "execution_count": 137,
   "metadata": {},
   "outputs": [
    {
     "ename": "InvalidSessionIdException",
     "evalue": "Message: invalid session id\n",
     "output_type": "error",
     "traceback": [
      "\u001b[1;31m---------------------------------------------------------------------------\u001b[0m",
      "\u001b[1;31mInvalidSessionIdException\u001b[0m                 Traceback (most recent call last)",
      "\u001b[1;32m<ipython-input-137-7bdcc2eb2677>\u001b[0m in \u001b[0;36m<module>\u001b[1;34m\u001b[0m\n\u001b[1;32m----> 1\u001b[1;33m \u001b[0mdirver\u001b[0m\u001b[1;33m.\u001b[0m\u001b[0mclose\u001b[0m\u001b[1;33m(\u001b[0m\u001b[1;33m)\u001b[0m\u001b[1;33m\u001b[0m\u001b[1;33m\u001b[0m\u001b[0m\n\u001b[0m",
      "\u001b[1;32m~\\Anaconda3\\lib\\site-packages\\selenium\\webdriver\\remote\\webdriver.py\u001b[0m in \u001b[0;36mclose\u001b[1;34m(self)\u001b[0m\n\u001b[0;32m    686\u001b[0m             \u001b[0mdriver\u001b[0m\u001b[1;33m.\u001b[0m\u001b[0mclose\u001b[0m\u001b[1;33m(\u001b[0m\u001b[1;33m)\u001b[0m\u001b[1;33m\u001b[0m\u001b[1;33m\u001b[0m\u001b[0m\n\u001b[0;32m    687\u001b[0m         \"\"\"\n\u001b[1;32m--> 688\u001b[1;33m         \u001b[0mself\u001b[0m\u001b[1;33m.\u001b[0m\u001b[0mexecute\u001b[0m\u001b[1;33m(\u001b[0m\u001b[0mCommand\u001b[0m\u001b[1;33m.\u001b[0m\u001b[0mCLOSE\u001b[0m\u001b[1;33m)\u001b[0m\u001b[1;33m\u001b[0m\u001b[1;33m\u001b[0m\u001b[0m\n\u001b[0m\u001b[0;32m    689\u001b[0m \u001b[1;33m\u001b[0m\u001b[0m\n\u001b[0;32m    690\u001b[0m     \u001b[1;32mdef\u001b[0m \u001b[0mquit\u001b[0m\u001b[1;33m(\u001b[0m\u001b[0mself\u001b[0m\u001b[1;33m)\u001b[0m\u001b[1;33m:\u001b[0m\u001b[1;33m\u001b[0m\u001b[1;33m\u001b[0m\u001b[0m\n",
      "\u001b[1;32m~\\Anaconda3\\lib\\site-packages\\selenium\\webdriver\\remote\\webdriver.py\u001b[0m in \u001b[0;36mexecute\u001b[1;34m(self, driver_command, params)\u001b[0m\n\u001b[0;32m    319\u001b[0m         \u001b[0mresponse\u001b[0m \u001b[1;33m=\u001b[0m \u001b[0mself\u001b[0m\u001b[1;33m.\u001b[0m\u001b[0mcommand_executor\u001b[0m\u001b[1;33m.\u001b[0m\u001b[0mexecute\u001b[0m\u001b[1;33m(\u001b[0m\u001b[0mdriver_command\u001b[0m\u001b[1;33m,\u001b[0m \u001b[0mparams\u001b[0m\u001b[1;33m)\u001b[0m\u001b[1;33m\u001b[0m\u001b[1;33m\u001b[0m\u001b[0m\n\u001b[0;32m    320\u001b[0m         \u001b[1;32mif\u001b[0m \u001b[0mresponse\u001b[0m\u001b[1;33m:\u001b[0m\u001b[1;33m\u001b[0m\u001b[1;33m\u001b[0m\u001b[0m\n\u001b[1;32m--> 321\u001b[1;33m             \u001b[0mself\u001b[0m\u001b[1;33m.\u001b[0m\u001b[0merror_handler\u001b[0m\u001b[1;33m.\u001b[0m\u001b[0mcheck_response\u001b[0m\u001b[1;33m(\u001b[0m\u001b[0mresponse\u001b[0m\u001b[1;33m)\u001b[0m\u001b[1;33m\u001b[0m\u001b[1;33m\u001b[0m\u001b[0m\n\u001b[0m\u001b[0;32m    322\u001b[0m             response['value'] = self._unwrap_value(\n\u001b[0;32m    323\u001b[0m                 response.get('value', None))\n",
      "\u001b[1;32m~\\Anaconda3\\lib\\site-packages\\selenium\\webdriver\\remote\\errorhandler.py\u001b[0m in \u001b[0;36mcheck_response\u001b[1;34m(self, response)\u001b[0m\n\u001b[0;32m    240\u001b[0m                 \u001b[0malert_text\u001b[0m \u001b[1;33m=\u001b[0m \u001b[0mvalue\u001b[0m\u001b[1;33m[\u001b[0m\u001b[1;34m'alert'\u001b[0m\u001b[1;33m]\u001b[0m\u001b[1;33m.\u001b[0m\u001b[0mget\u001b[0m\u001b[1;33m(\u001b[0m\u001b[1;34m'text'\u001b[0m\u001b[1;33m)\u001b[0m\u001b[1;33m\u001b[0m\u001b[1;33m\u001b[0m\u001b[0m\n\u001b[0;32m    241\u001b[0m             \u001b[1;32mraise\u001b[0m \u001b[0mexception_class\u001b[0m\u001b[1;33m(\u001b[0m\u001b[0mmessage\u001b[0m\u001b[1;33m,\u001b[0m \u001b[0mscreen\u001b[0m\u001b[1;33m,\u001b[0m \u001b[0mstacktrace\u001b[0m\u001b[1;33m,\u001b[0m \u001b[0malert_text\u001b[0m\u001b[1;33m)\u001b[0m\u001b[1;33m\u001b[0m\u001b[1;33m\u001b[0m\u001b[0m\n\u001b[1;32m--> 242\u001b[1;33m         \u001b[1;32mraise\u001b[0m \u001b[0mexception_class\u001b[0m\u001b[1;33m(\u001b[0m\u001b[0mmessage\u001b[0m\u001b[1;33m,\u001b[0m \u001b[0mscreen\u001b[0m\u001b[1;33m,\u001b[0m \u001b[0mstacktrace\u001b[0m\u001b[1;33m)\u001b[0m\u001b[1;33m\u001b[0m\u001b[1;33m\u001b[0m\u001b[0m\n\u001b[0m\u001b[0;32m    243\u001b[0m \u001b[1;33m\u001b[0m\u001b[0m\n\u001b[0;32m    244\u001b[0m     \u001b[1;32mdef\u001b[0m \u001b[0m_value_or_default\u001b[0m\u001b[1;33m(\u001b[0m\u001b[0mself\u001b[0m\u001b[1;33m,\u001b[0m \u001b[0mobj\u001b[0m\u001b[1;33m,\u001b[0m \u001b[0mkey\u001b[0m\u001b[1;33m,\u001b[0m \u001b[0mdefault\u001b[0m\u001b[1;33m)\u001b[0m\u001b[1;33m:\u001b[0m\u001b[1;33m\u001b[0m\u001b[1;33m\u001b[0m\u001b[0m\n",
      "\u001b[1;31mInvalidSessionIdException\u001b[0m: Message: invalid session id\n"
     ]
    }
   ],
   "source": [
    "dirver.close()"
   ]
  },
  {
   "cell_type": "code",
   "execution_count": null,
   "metadata": {},
   "outputs": [],
   "source": []
  }
 ],
 "metadata": {
  "kernelspec": {
   "display_name": "Python 3",
   "language": "python",
   "name": "python3"
  },
  "language_info": {
   "codemirror_mode": {
    "name": "ipython",
    "version": 3
   },
   "file_extension": ".py",
   "mimetype": "text/x-python",
   "name": "python",
   "nbconvert_exporter": "python",
   "pygments_lexer": "ipython3",
   "version": "3.7.3"
  }
 },
 "nbformat": 4,
 "nbformat_minor": 2
}
