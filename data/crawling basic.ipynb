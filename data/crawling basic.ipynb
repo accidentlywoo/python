{
 "cells": [
  {
   "cell_type": "markdown",
   "metadata": {},
   "source": [
    "### crawler 만들기\n",
    "\n",
    "자연어 수많은 언어 패턴 수집\n",
    "\n",
    "데이터 마이닝 다양한 데이터 수집\n",
    "\n",
    "*indexing -> 좋은 피처를 찾기위해 중요하다. 자연어 처리\n",
    "\n",
    "focused crawling\n",
    "\n",
    "starting url -> seed\n",
    "\n",
    "url list -> que형식으로 메모리에 올려서 쓴다. - URL work pool handler/Work -thread manager\n",
    "\n",
    "-> 나중에 DB로 바꾸는 작업까지\n",
    "\n",
    "Scrapy -> 봇 vs 뷰솝 -> 파싱 목적\n",
    "\n",
    "우리는 뷰숍으로 로우레벨로 접근할 수 있어야 한다.\n"
   ]
  },
  {
   "cell_type": "markdown",
   "metadata": {},
   "source": [
    "---"
   ]
  },
  {
   "cell_type": "markdown",
   "metadata": {},
   "source": [
    "http://example.webscraping.com/place/default/index\n",
    "\n",
    "1. -> seed 주소지정\n",
    "\n",
    "2. a태그의 href값 털기"
   ]
  },
  {
   "cell_type": "code",
   "execution_count": null,
   "metadata": {},
   "outputs": [],
   "source": [
    "import requests"
   ]
  },
  {
   "cell_type": "code",
   "execution_count": null,
   "metadata": {},
   "outputs": [],
   "source": [
    "from bs4 import BeautifulSoup"
   ]
  },
  {
   "cell_type": "code",
   "execution_count": 285,
   "metadata": {},
   "outputs": [],
   "source": [
    "headers = {\"user-agent\":\"Mozilla/5.0 (Windows NT 10.0; Win64; x64) AppleWebKit/537.36 (KHTML, like Gecko) Chrome/75.0.3770.100 Safari/537.36\"}\n",
    "def download(method, url, param=None, data=None):\n",
    "    try:\n",
    "        resp = requests.request(method, url,\n",
    "                         params=None, data=None,\n",
    "                         headers=headers)\n",
    "        resp.raise_for_status()\n",
    "    except requests.exceptions.HTTPError as e:\n",
    "        if 500 <= e.response.status_code < 600\\\n",
    "            and maxretries > 0:\n",
    "            print(maxretries)\n",
    "            time.sleep(timeout)\n",
    "            resp = download(method, url, param, data, timeout, maxretries-1)\n",
    "            print(\"재시도\")\n",
    "        else:\n",
    "            print(e.response.status_code)\n",
    "            print(e.response.reason)       \n",
    "    return resp"
   ]
  },
  {
   "cell_type": "code",
   "execution_count": 7,
   "metadata": {},
   "outputs": [],
   "source": [
    "url = \"http://example.webscraping.com/place/default/index\"\n",
    "\n",
    "html = download(\"get\",url)"
   ]
  },
  {
   "cell_type": "code",
   "execution_count": 9,
   "metadata": {},
   "outputs": [],
   "source": [
    "dom = BeautifulSoup(html.text, \"lxml\")"
   ]
  },
  {
   "cell_type": "code",
   "execution_count": 10,
   "metadata": {},
   "outputs": [
    {
     "data": {
      "text/plain": [
       "['/places/default/user/register?_next=/places/default/index',\n",
       " '/places/default/user/login?_next=/places/default/index',\n",
       " '/places/default/index',\n",
       " '/places/default/search',\n",
       " '/places/default/view/Afghanistan-1',\n",
       " '/places/default/view/Aland-Islands-2',\n",
       " '/places/default/view/Albania-3',\n",
       " '/places/default/view/Algeria-4',\n",
       " '/places/default/view/American-Samoa-5',\n",
       " '/places/default/view/Andorra-6',\n",
       " '/places/default/view/Angola-7',\n",
       " '/places/default/view/Anguilla-8',\n",
       " '/places/default/view/Antarctica-9',\n",
       " '/places/default/view/Antigua-and-Barbuda-10',\n",
       " '/places/default/index/1']"
      ]
     },
     "execution_count": 10,
     "metadata": {},
     "output_type": "execute_result"
    }
   ],
   "source": [
    "[_[\"href\"] for _ in dom.find_all(\"a\") if len(_[\"href\"])>3]"
   ]
  },
  {
   "cell_type": "code",
   "execution_count": 11,
   "metadata": {},
   "outputs": [
    {
     "data": {
      "text/plain": [
       "['http://example.webscraping.com/places/default/user/register?_next=/places/default/index',\n",
       " 'http://example.webscraping.com/places/default/user/login?_next=/places/default/index',\n",
       " 'http://example.webscraping.com/places/default/index',\n",
       " 'http://example.webscraping.com/places/default/search',\n",
       " 'http://example.webscraping.com/places/default/view/Afghanistan-1',\n",
       " 'http://example.webscraping.com/places/default/view/Aland-Islands-2',\n",
       " 'http://example.webscraping.com/places/default/view/Albania-3',\n",
       " 'http://example.webscraping.com/places/default/view/Algeria-4',\n",
       " 'http://example.webscraping.com/places/default/view/American-Samoa-5',\n",
       " 'http://example.webscraping.com/places/default/view/Andorra-6',\n",
       " 'http://example.webscraping.com/places/default/view/Angola-7',\n",
       " 'http://example.webscraping.com/places/default/view/Anguilla-8',\n",
       " 'http://example.webscraping.com/places/default/view/Antarctica-9',\n",
       " 'http://example.webscraping.com/places/default/view/Antigua-and-Barbuda-10',\n",
       " 'http://example.webscraping.com/places/default/index/1']"
      ]
     },
     "execution_count": 11,
     "metadata": {},
     "output_type": "execute_result"
    }
   ],
   "source": [
    "[requests.compat.urljoin(url,_[\"href\"]) \n",
    " for _ in dom.find_all(\"a\") if len(_[\"href\"])>3]"
   ]
  },
  {
   "cell_type": "markdown",
   "metadata": {},
   "source": [
    "-- 1. row process(pdf)"
   ]
  },
  {
   "cell_type": "code",
   "execution_count": 129,
   "metadata": {},
   "outputs": [],
   "source": [
    "def parseURL(seed):\n",
    "    html = download(\"get\",url)\n",
    "    dom = BeautifulSoup(html.text,\"lxml\")\n",
    "    \n",
    "    return [requests.compat.urljoin(url,_[\"href\"]) \n",
    " for _ in dom.find_all(\"a\") if _.has_attr(\"href\") and len(_[\"href\"])>3]"
   ]
  },
  {
   "cell_type": "code",
   "execution_count": 61,
   "metadata": {},
   "outputs": [],
   "source": [
    "queue = list()"
   ]
  },
  {
   "cell_type": "code",
   "execution_count": 62,
   "metadata": {},
   "outputs": [],
   "source": [
    "queue.append(\"http://example.webscraping.com/place/default/index\")"
   ]
  },
  {
   "cell_type": "code",
   "execution_count": 63,
   "metadata": {},
   "outputs": [],
   "source": [
    "import time"
   ]
  },
  {
   "cell_type": "code",
   "execution_count": 64,
   "metadata": {},
   "outputs": [
    {
     "name": "stdout",
     "output_type": "stream",
     "text": [
      "http://example.webscraping.com/place/default/index\n",
      "Queue : 15, Seen : 1\n",
      "http://example.webscraping.com/places/default/user/register?_next=/places/default/index\n",
      "Queue : 14, Seen : 2\n",
      "http://example.webscraping.com/places/default/user/login?_next=/places/default/index\n",
      "Queue : 13, Seen : 3\n",
      "http://example.webscraping.com/places/default/index\n",
      "Queue : 12, Seen : 4\n",
      "http://example.webscraping.com/places/default/search\n",
      "Queue : 11, Seen : 5\n",
      "http://example.webscraping.com/places/default/view/Afghanistan-1\n",
      "Queue : 10, Seen : 6\n",
      "http://example.webscraping.com/places/default/view/Aland-Islands-2\n",
      "Queue : 9, Seen : 7\n",
      "http://example.webscraping.com/places/default/view/Albania-3\n",
      "Queue : 8, Seen : 8\n",
      "http://example.webscraping.com/places/default/view/Algeria-4\n",
      "Queue : 7, Seen : 9\n",
      "http://example.webscraping.com/places/default/view/American-Samoa-5\n",
      "Queue : 6, Seen : 10\n",
      "http://example.webscraping.com/places/default/view/Andorra-6\n",
      "Queue : 5, Seen : 11\n",
      "http://example.webscraping.com/places/default/view/Angola-7\n",
      "Queue : 4, Seen : 12\n",
      "http://example.webscraping.com/places/default/view/Anguilla-8\n",
      "Queue : 3, Seen : 13\n",
      "http://example.webscraping.com/places/default/view/Antarctica-9\n",
      "Queue : 2, Seen : 14\n",
      "http://example.webscraping.com/places/default/view/Antigua-and-Barbuda-10\n",
      "Queue : 1, Seen : 15\n",
      "http://example.webscraping.com/places/default/index/1\n",
      "Queue : 0, Seen : 16\n"
     ]
    }
   ],
   "source": [
    "seen = list()\n",
    "while queue:\n",
    "    baseURL = queue.pop(0)\n",
    "    print(baseURL)\n",
    "    seen.append(baseURL)\n",
    "    time.sleep(1) # \n",
    "    linkList = parseURL(baseURL)\n",
    "    for link in linkList: #\n",
    "        if link not in queue and link not in seen:\n",
    "            queue.append(link)\n",
    "            \n",
    "    print(\"Queue : {0}, Seen : {1}\".format(len(queue), len(seen)))\n",
    "    # queue.extend(linkList)\n",
    "    \n",
    "    # -> time sleep , login/menu 메뉴 구성들은 사이트마다 중복될 것이다.\n",
    "    # URL seen?"
   ]
  },
  {
   "cell_type": "markdown",
   "metadata": {},
   "source": [
    "-- 2. 크롤러 만둘기"
   ]
  },
  {
   "cell_type": "code",
   "execution_count": null,
   "metadata": {},
   "outputs": [],
   "source": []
  },
  {
   "cell_type": "code",
   "execution_count": 65,
   "metadata": {},
   "outputs": [],
   "source": [
    "queue = list()\n",
    "queue.append(\"https://www.google.com/search?ei=h98rXYOTLsWF8gWDgoa4BQ&q=%EB%B0%95%EB%B3%B4%EC%98%81&oq=%EB%B0%95%EB%B3%B4%EC%98%81&gs_l=psy-ab.3..35i39j0l9.151894.154727..154845...6.0..1.107.1339.1j12......0....1..gws-wiz.....10..0i71j35i39i19j0i10j0i131j0i10i42.-98QJTcPmIo\")"
   ]
  },
  {
   "cell_type": "code",
   "execution_count": 66,
   "metadata": {},
   "outputs": [],
   "source": [
    "seen = list()\n",
    "baseURL = 0"
   ]
  },
  {
   "cell_type": "code",
   "execution_count": 67,
   "metadata": {},
   "outputs": [
    {
     "data": {
      "text/plain": [
       "1"
      ]
     },
     "execution_count": 67,
     "metadata": {},
     "output_type": "execute_result"
    }
   ],
   "source": [
    "len(queue)"
   ]
  },
  {
   "cell_type": "code",
   "execution_count": 69,
   "metadata": {},
   "outputs": [],
   "source": [
    "while queue:\n",
    "    baseURL = queue.pop(0)\n",
    "    seen.append(baseURL)\n",
    "    time.sleep(1) \n",
    "    linkList = parseURL(baseURL)\n",
    "    for link in linkList:\n",
    "        if link not in queue and link not in seen:\n",
    "            queue.append(link)   \n",
    "    print(\"Queue : {0}, Seen : {1}\".format(len(queue), len(seen)))"
   ]
  },
  {
   "cell_type": "code",
   "execution_count": 59,
   "metadata": {},
   "outputs": [],
   "source": [
    "a = ['http://example.webscraping.com/places/default/user/register?_next=/places/default/index', 'http://example.webscraping.com/places/default/user/login?_next=/places/default/index', 'http://example.webscraping.com/places/default/index', 'http://example.webscraping.com/places/default/search', 'http://example.webscraping.com/places/default/view/Afghanistan-1', 'http://example.webscraping.com/places/default/view/Aland-Islands-2', 'http://example.webscraping.com/places/default/view/Albania-3', 'http://example.webscraping.com/places/default/view/Algeria-4', 'http://example.webscraping.com/places/default/view/American-Samoa-5', 'http://example.webscraping.com/places/default/view/Andorra-6', 'http://example.webscraping.com/places/default/view/Angola-7', 'http://example.webscraping.com/places/default/view/Anguilla-8', 'http://example.webscraping.com/places/default/view/Antarctica-9', 'http://example.webscraping.com/places/default/view/Antigua-and-Barbuda-10', 'http://example.webscraping.com/places/default/index/1']"
   ]
  },
  {
   "cell_type": "code",
   "execution_count": 60,
   "metadata": {},
   "outputs": [
    {
     "data": {
      "text/plain": [
       "15"
      ]
     },
     "execution_count": 60,
     "metadata": {},
     "output_type": "execute_result"
    }
   ],
   "source": [
    "len(a)"
   ]
  },
  {
   "cell_type": "code",
   "execution_count": 76,
   "metadata": {},
   "outputs": [],
   "source": [
    "html = download(\"get\",\"https://search.naver.com/search.naver?where=image&sm=tab_jum&query=%EB%BD%80%EB%B8%94%EB%A6%AC\")"
   ]
  },
  {
   "cell_type": "code",
   "execution_count": 77,
   "metadata": {},
   "outputs": [],
   "source": [
    "dom= BeautifulSoup(html.text, \"lxml\")"
   ]
  },
  {
   "cell_type": "code",
   "execution_count": 78,
   "metadata": {},
   "outputs": [
    {
     "data": {
      "text/plain": [
       "['http://www.derang.me/product/detail.html?product_no=13273',\n",
       " 'https://tv.naver.com/v/8921526',\n",
       " 'http://news.naver.com/main/read.nhn?oid=241&aid=0002811035',\n",
       " 'http://sports.chosun.com/news/ntype.htm?id=201806190100152060011759&ServiceDate=20180618',\n",
       " 'http://news.naver.com/main/read.nhn?oid=213&aid=0001103211',\n",
       " 'http://news.naver.com/main/read.nhn?oid=076&aid=0003311356',\n",
       " 'http://news.naver.com/main/read.nhn?oid=213&aid=0001052449',\n",
       " 'http://www.seoul.co.kr/news/newsView.php?id=20180723801001',\n",
       " 'https://cafe.naver.com/anycallusershow/2184427',\n",
       " 'http://news.naver.com/main/read.nhn?oid=469&aid=0000382447',\n",
       " 'http://news.naver.com/main/read.nhn?oid=109&aid=0003866322',\n",
       " 'http://news.naver.com/main/read.nhn?oid=018&aid=0003375824',\n",
       " 'http://news.naver.com/main/read.nhn?oid=213&aid=0001056904',\n",
       " 'http://news.naver.com/main/read.nhn?oid=008&aid=0004081586',\n",
       " 'https://blog.naver.com/yeji4772/220956554699',\n",
       " 'http://news.naver.com/main/read.nhn?oid=382&aid=0000729106',\n",
       " 'http://news.naver.com/main/read.nhn?oid=382&aid=0000662681',\n",
       " 'http://news.naver.com/main/read.nhn?oid=382&aid=0000675681',\n",
       " 'http://news.naver.com/main/read.nhn?oid=112&aid=0003177976',\n",
       " 'https://blog.naver.com/pandamelodymoomoo436/221220830273',\n",
       " 'http://news.naver.com/main/read.nhn?oid=433&aid=0000016909',\n",
       " 'http://news.naver.com/main/read.nhn?oid=433&aid=0000035151',\n",
       " 'http://tvn.tving.com/tvn/vod/view/CLIP/EA_242662',\n",
       " 'https://blog.naver.com/hyunsuk1024/220195813483',\n",
       " 'http://news.naver.com/main/read.nhn?oid=421&aid=0003496603',\n",
       " 'https://blog.naver.com/theall1644/221255938155',\n",
       " 'https://blog.naver.com/oming_holic/221232133833',\n",
       " 'https://blog.naver.com/kimby0007/221227821788',\n",
       " 'http://news.naver.com/main/read.nhn?oid=382&aid=0000662670',\n",
       " 'http://isplus.live.joins.com/news/article/article.asp?total_id=22915116',\n",
       " 'http://m.post.naver.com/viewer/postView.nhn?volumeNo=7100439&memberNo=31541974&vType=VERTICAL',\n",
       " 'http://news.naver.com/main/read.nhn?oid=382&aid=0000662683',\n",
       " 'http://news.naver.com/main/read.nhn?oid=112&aid=0002955594',\n",
       " 'http://isplus.live.joins.com/news/article/article.asp?total_id=21691446',\n",
       " 'https://tv.kakao.com/channel/2653445/cliplink/378556330',\n",
       " 'http://news.naver.com/main/read.nhn?oid=213&aid=0000958641',\n",
       " 'https://blog.naver.com/hyunsuk1024/150190156158',\n",
       " 'https://i.orbi.kr/profile/530624',\n",
       " 'https://blog.naver.com/yeji4772/220956554947',\n",
       " 'http://wagle.isplus.joins.com/app/wg_tv/7978366',\n",
       " 'https://tv.naver.com/v/1501118',\n",
       " 'https://blog.naver.com/bbbbovely/220126055860',\n",
       " 'http://www.yapcar.co.kr/bbs/board.php?bo_table=community&wr_id=31944',\n",
       " 'http://isplus.live.joins.com/news/article/article.asp?total_id=21566285',\n",
       " 'http://news.naver.com/main/read.nhn?oid=609&aid=0000126108',\n",
       " 'https://blog.naver.com/luppy_mom/80174596553',\n",
       " 'http://news.naver.com/main/read.nhn?oid=382&aid=0000729116',\n",
       " 'http://news.naver.com/main/read.nhn?oid=433&aid=0000013343',\n",
       " 'http://www.seoul.co.kr/news/newsView.php?id=20180723801001',\n",
       " 'http://sports.chosun.com/news/ntype.htm?id=201806190100152060011759&ServiceDate=20180618']"
      ]
     },
     "execution_count": 78,
     "metadata": {},
     "output_type": "execute_result"
    }
   ],
   "source": [
    "[_[\"href\"] for _ in dom.select(\".photo_grid div a\") if _[\"href\"]!='#']"
   ]
  },
  {
   "cell_type": "code",
   "execution_count": 79,
   "metadata": {},
   "outputs": [],
   "source": [
    "queue = list()"
   ]
  },
  {
   "cell_type": "code",
   "execution_count": 82,
   "metadata": {},
   "outputs": [],
   "source": [
    "queue.append(\n",
    "    (_[\"href\"] for _ in dom.select(\".photo_grid div a\") if _[\"href\"]!='#')\n",
    ")"
   ]
  },
  {
   "cell_type": "code",
   "execution_count": 83,
   "metadata": {},
   "outputs": [
    {
     "data": {
      "text/plain": [
       "[['http://www.derang.me/product/detail.html?product_no=13273',\n",
       "  'https://tv.naver.com/v/8921526',\n",
       "  'http://news.naver.com/main/read.nhn?oid=241&aid=0002811035',\n",
       "  'http://sports.chosun.com/news/ntype.htm?id=201806190100152060011759&ServiceDate=20180618',\n",
       "  'http://news.naver.com/main/read.nhn?oid=213&aid=0001103211',\n",
       "  'http://news.naver.com/main/read.nhn?oid=076&aid=0003311356',\n",
       "  'http://news.naver.com/main/read.nhn?oid=213&aid=0001052449',\n",
       "  'http://www.seoul.co.kr/news/newsView.php?id=20180723801001',\n",
       "  'https://cafe.naver.com/anycallusershow/2184427',\n",
       "  'http://news.naver.com/main/read.nhn?oid=469&aid=0000382447',\n",
       "  'http://news.naver.com/main/read.nhn?oid=109&aid=0003866322',\n",
       "  'http://news.naver.com/main/read.nhn?oid=018&aid=0003375824',\n",
       "  'http://news.naver.com/main/read.nhn?oid=213&aid=0001056904',\n",
       "  'http://news.naver.com/main/read.nhn?oid=008&aid=0004081586',\n",
       "  'https://blog.naver.com/yeji4772/220956554699',\n",
       "  'http://news.naver.com/main/read.nhn?oid=382&aid=0000729106',\n",
       "  'http://news.naver.com/main/read.nhn?oid=382&aid=0000662681',\n",
       "  'http://news.naver.com/main/read.nhn?oid=382&aid=0000675681',\n",
       "  'http://news.naver.com/main/read.nhn?oid=112&aid=0003177976',\n",
       "  'https://blog.naver.com/pandamelodymoomoo436/221220830273',\n",
       "  'http://news.naver.com/main/read.nhn?oid=433&aid=0000016909',\n",
       "  'http://news.naver.com/main/read.nhn?oid=433&aid=0000035151',\n",
       "  'http://tvn.tving.com/tvn/vod/view/CLIP/EA_242662',\n",
       "  'https://blog.naver.com/hyunsuk1024/220195813483',\n",
       "  'http://news.naver.com/main/read.nhn?oid=421&aid=0003496603',\n",
       "  'https://blog.naver.com/theall1644/221255938155',\n",
       "  'https://blog.naver.com/oming_holic/221232133833',\n",
       "  'https://blog.naver.com/kimby0007/221227821788',\n",
       "  'http://news.naver.com/main/read.nhn?oid=382&aid=0000662670',\n",
       "  'http://isplus.live.joins.com/news/article/article.asp?total_id=22915116',\n",
       "  'http://m.post.naver.com/viewer/postView.nhn?volumeNo=7100439&memberNo=31541974&vType=VERTICAL',\n",
       "  'http://news.naver.com/main/read.nhn?oid=382&aid=0000662683',\n",
       "  'http://news.naver.com/main/read.nhn?oid=112&aid=0002955594',\n",
       "  'http://isplus.live.joins.com/news/article/article.asp?total_id=21691446',\n",
       "  'https://tv.kakao.com/channel/2653445/cliplink/378556330',\n",
       "  'http://news.naver.com/main/read.nhn?oid=213&aid=0000958641',\n",
       "  'https://blog.naver.com/hyunsuk1024/150190156158',\n",
       "  'https://i.orbi.kr/profile/530624',\n",
       "  'https://blog.naver.com/yeji4772/220956554947',\n",
       "  'http://wagle.isplus.joins.com/app/wg_tv/7978366',\n",
       "  'https://tv.naver.com/v/1501118',\n",
       "  'https://blog.naver.com/bbbbovely/220126055860',\n",
       "  'http://www.yapcar.co.kr/bbs/board.php?bo_table=community&wr_id=31944',\n",
       "  'http://isplus.live.joins.com/news/article/article.asp?total_id=21566285',\n",
       "  'http://news.naver.com/main/read.nhn?oid=609&aid=0000126108',\n",
       "  'https://blog.naver.com/luppy_mom/80174596553',\n",
       "  'http://news.naver.com/main/read.nhn?oid=382&aid=0000729116',\n",
       "  'http://news.naver.com/main/read.nhn?oid=433&aid=0000013343',\n",
       "  'http://www.seoul.co.kr/news/newsView.php?id=20180723801001',\n",
       "  'http://sports.chosun.com/news/ntype.htm?id=201806190100152060011759&ServiceDate=20180618'],\n",
       " <generator object <genexpr> at 0x000001356418BED0>]"
      ]
     },
     "execution_count": 83,
     "metadata": {},
     "output_type": "execute_result"
    }
   ],
   "source": [
    "queue"
   ]
  },
  {
   "cell_type": "code",
   "execution_count": 139,
   "metadata": {},
   "outputs": [],
   "source": [
    "url = \"https://www.google.com/search\""
   ]
  },
  {
   "cell_type": "code",
   "execution_count": 140,
   "metadata": {},
   "outputs": [],
   "source": [
    "param = {\n",
    "    \"q\":\"박보영\"\n",
    "}"
   ]
  },
  {
   "cell_type": "code",
   "execution_count": 141,
   "metadata": {},
   "outputs": [],
   "source": [
    "html = download(\"get\",url,param)"
   ]
  },
  {
   "cell_type": "code",
   "execution_count": 144,
   "metadata": {},
   "outputs": [
    {
     "data": {
      "text/plain": [
       "{'User-Agent': 'python-requests/2.21.0', 'Accept-Encoding': 'gzip, deflate', 'Accept': '*/*', 'Connection': 'keep-alive', 'Cookie': '1P_JAR=2019-07-15-02; NID=187=OSbjeH5k0DH4DHu0EJw109o8XIkrEruPPvirBWHCtEC3QDgYPdXl8WaAB4Y8HXMxGDynt_vcEjfqWx70scethIo52F3PmdfbJUMYYBU3PhthYkRVy909Dhyjg47Kfo-saJkSBFCkqOvJ-AWjf3e7sGCwDHl-kmGEsXXNmLBNSrY'}"
      ]
     },
     "execution_count": 144,
     "metadata": {},
     "output_type": "execute_result"
    }
   ],
   "source": [
    "html.request.headers"
   ]
  },
  {
   "cell_type": "code",
   "execution_count": 145,
   "metadata": {},
   "outputs": [],
   "source": [
    "dom = BeautifulSoup(html.text, \"lxml\")"
   ]
  },
  {
   "cell_type": "code",
   "execution_count": 146,
   "metadata": {},
   "outputs": [
    {
     "name": "stdout",
     "output_type": "stream",
     "text": [
      "<bound method Tag.prettify of <!DOCTYPE html>\n",
      "<html itemscope=\"\" itemtype=\"http://schema.org/WebPage\" lang=\"ko\"><head><meta content=\"text/html; charset=utf-8\" http-equiv=\"Content-Type\"/><meta content=\"/images/branding/googleg/1x/googleg_standard_color_128dp.png\" itemprop=\"image\"/><title>Google</title><script nonce=\"YvB6qCwIZW5TjiYVFNsNeA==\">(function(){window.google={kEI:'WukrXdOrI8uA8QXV26OgDQ',kEXPI:'0,1353804,1957,2423,1225,730,224,510,1065,3151,57,322,206,397,620,175,1032,75,202,56,184,55,408,10,231,2331152,404,329140,1294,12383,4855,32692,15247,867,12163,5281,11240,363,3320,5505,2442,260,5107,575,835,284,2,579,727,2432,1361,4323,4967,774,2255,2816,1923,2650,250,223,2590,3601,669,1050,1808,1397,81,7,491,2044,7747,1162,5297,796,1222,36,920,746,7,120,1217,1211,68,85,346,1,1264,2736,3064,2,628,2403,837,44,1469,2,905,2406,2608,632,1139,1089,655,21,318,1117,475,427,104,1247,777,1,369,1317,79,625,756,98,392,30,399,992,509,598,10,170,6,109,1018,1495,174,967,48,553,11,14,12,411,856,1436,776,25,177,25,143,155,5,1245,7,840,124,200,193,14,304,213,537,416,38,157,547,116,1464,1156,818,260,39,6,1144,2,7,7,1495,554,606,1831,8,184,545,50,942,240,17,503,360,142,104,738,77,525,554,194,29,216,184,348,798,328,1284,16,84,135,282,486,20,1253,225,382,60,42,105,48,21,701,1145,184,91,10,146,204,18,5,509,108,87,338,9,22,2,4,55,21,643,41,229,61,440,120,437,592,8,71,1576,615,21,343,16,1018,485,534,904,91,233,8,43,2,213,34,58,97,5915964,8800339,4,1572,549,333,444,1,2,80,1,900,575,17,304,1,8,1,2,2132,1,1,1,1,1,414,1,748,141,59,726,3,7,563,1,2849,1,40,32,1,19,53,17,5',authuser:0,kscs:'c9c918f0_WukrXdOrI8uA8QXV26OgDQ',kGL:'KR'};google.sn='webhp';google.kHL='ko';})();(function(){google.lc=[];google.li=0;google.getEI=function(a){for(var b;a&&(!a.getAttribute||!(b=a.getAttribute(\"eid\")));)a=a.parentNode;return b||google.kEI};google.getLEI=function(a){for(var b=null;a&&(!a.getAttribute||!(b=a.getAttribute(\"leid\")));)a=a.parentNode;return b};google.https=function(){return\"https:\"==window.location.protocol};google.ml=function(){return null};google.time=function(){return(new Date).getTime()};google.log=function(a,b,e,c,g){if(a=google.logUrl(a,b,e,c,g)){b=new Image;var d=google.lc,f=google.li;d[f]=b;b.onerror=b.onload=b.onabort=function(){delete d[f]};google.vel&&google.vel.lu&&google.vel.lu(a);b.src=a;google.li=f+1}};google.logUrl=function(a,b,e,c,g){var d=\"\",f=google.ls||\"\";e||-1!=b.search(\"&ei=\")||(d=\"&ei=\"+google.getEI(c),-1==b.search(\"&lei=\")&&(c=google.getLEI(c))&&(d+=\"&lei=\"+c));c=\"\";!e&&google.cshid&&-1==b.search(\"&cshid=\")&&\"slh\"!=a&&(c=\"&cshid=\"+google.cshid);a=e||\"/\"+(g||\"gen_204\")+\"?atyp=i&ct=\"+a+\"&cad=\"+b+d+f+\"&zx=\"+google.time()+c;/^http:/i.test(a)&&google.https()&&(google.ml(Error(\"a\"),!1,{src:a,glmm:1}),a=\"\");return a};}).call(this);(function(){google.y={};google.x=function(a,b){if(a)var c=a.id;else{do c=Math.random();while(google.y[c])}google.y[c]=[a,b];return!1};google.lm=[];google.plm=function(a){google.lm.push.apply(google.lm,a)};google.lq=[];google.load=function(a,b,c){google.lq.push([[a],b,c])};google.loadAll=function(a,b){google.lq.push([a,b])};}).call(this);google.f={};var a=window.location,b=a.href.indexOf(\"#\");if(0<=b){var c=a.href.substring(b+1);/(^|&)q=/.test(c)&&-1==c.indexOf(\"#\")&&a.replace(\"/search?\"+c.replace(/(^|&)fp=[^&]*/g,\"\")+\"&cad=h\")};</script><style>#gbar,#guser{font-size:13px;padding-top:1px !important;}#gbar{height:22px}#guser{padding-bottom:7px !important;text-align:right}.gbh,.gbd{border-top:1px solid #c9d7f1;font-size:1px}.gbh{height:0;position:absolute;top:24px;width:100%}@media all{.gb1{height:22px;margin-right:.5em;vertical-align:top}#gbar{float:left}}a.gb1,a.gb4{text-decoration:underline !important}a.gb1,a.gb4{color:#00c !important}.gbi .gb4{color:#dd8e27 !important}.gbf .gb4{color:#900 !important}\n",
      "</style><style>body,td,a,p,.h{font-family:&#44404;&#47548;,&#46027;&#50880;,arial,sans-serif}.ko{font-size:9pt}body{margin:0;overflow-y:scroll}#gog{padding:3px 8px 0}td{line-height:.8em}.gac_m td{line-height:17px}form{margin-bottom:20px}.h{color:#36c}.q{color:#00c}.ts td{padding:0}.ts{border-collapse:collapse}em{font-weight:bold;font-style:normal}.lst{height:25px;width:496px}.gsfi,.lst{font:18px arial,sans-serif}.gsfs{font:17px arial,sans-serif}.ds{display:inline-box;display:inline-block;margin:3px 0 4px;margin-left:4px}input{font-family:inherit}a.gb1,a.gb2,a.gb3,a.gb4{color:#11c !important}body{background:#fff;color:black}a{color:#11c;text-decoration:none}a:hover,a:active{text-decoration:underline}.fl a{color:#36c}a:visited{color:#551a8b}a.gb1,a.gb4{text-decoration:underline}a.gb3:hover{text-decoration:none}#ghead a.gb2:hover{color:#fff !important}.sblc{padding-top:5px}.sblc a{display:block;margin:2px 0;margin-left:13px;font-size:11px}.lsbb{background:#eee;border:solid 1px;border-color:#ccc #999 #999 #ccc;height:30px}.lsbb{display:block}.ftl,#fll a{display:inline-block;margin:0 12px}.lsb{background:url(/images/nav_logo229.png) 0 -261px repeat-x;border:none;color:#000;cursor:pointer;height:30px;margin:0;outline:0;font:15px arial,sans-serif;vertical-align:top}.lsb:active{background:#ccc}.lst:focus{outline:none}.tiah{width:458px}</style><script nonce=\"YvB6qCwIZW5TjiYVFNsNeA==\"></script></head><body bgcolor=\"#fff\"><script nonce=\"YvB6qCwIZW5TjiYVFNsNeA==\">(function(){var src='/images/nav_logo229.png';var iesg=false;document.body.onload = function(){window.n && window.n();if (document.images){new Image().src=src;}\n",
      "if (!iesg){document.f&&document.f.q.focus();document.gbqf&&document.gbqf.q.focus();}\n",
      "}\n",
      "})();</script><div id=\"mngb\"> <div id=\"gbar\"><nobr><b class=\"gb1\">검색</b> <a class=\"gb1\" href=\"https://www.google.co.kr/imghp?hl=ko&amp;tab=wi\">이미지</a> <a class=\"gb1\" href=\"https://maps.google.co.kr/maps?hl=ko&amp;tab=wl\">지도</a> <a class=\"gb1\" href=\"https://play.google.com/?hl=ko&amp;tab=w8\">Play</a> <a class=\"gb1\" href=\"https://www.youtube.com/?gl=KR&amp;tab=w1\">YouTube</a> <a class=\"gb1\" href=\"https://news.google.co.kr/nwshp?hl=ko&amp;tab=wn\">뉴스</a> <a class=\"gb1\" href=\"https://mail.google.com/mail/?tab=wm\">Gmail</a> <a class=\"gb1\" href=\"https://drive.google.com/?tab=wo\">드라이브</a> <a class=\"gb1\" href=\"https://www.google.co.kr/intl/ko/about/products?tab=wh\" style=\"text-decoration:none\"><u>더보기</u> »</a></nobr></div><div id=\"guser\" width=\"100%\"><nobr><span class=\"gbi\" id=\"gbn\"></span><span class=\"gbf\" id=\"gbf\"></span><span id=\"gbe\"></span><a class=\"gb4\" href=\"http://www.google.co.kr/history/optout?hl=ko\">웹 기록</a> | <a class=\"gb4\" href=\"/preferences?hl=ko\">설정</a> | <a class=\"gb4\" href=\"https://accounts.google.com/ServiceLogin?hl=ko&amp;passive=true&amp;continue=https://www.google.com/webhp\" id=\"gb_70\" target=\"_top\">로그인</a></nobr></div><div class=\"gbh\" style=\"left:0\"></div><div class=\"gbh\" style=\"right:0\"></div> </div><center><br clear=\"all\" id=\"lgpd\"/><div id=\"lga\"><img alt=\"Google\" height=\"92\" id=\"hplogo\" src=\"/images/branding/googlelogo/1x/googlelogo_white_background_color_272x92dp.png\" style=\"padding:28px 0 14px\" width=\"272\"/><br/><br/></div><form action=\"/search\" name=\"f\"><table cellpadding=\"0\" cellspacing=\"0\"><tr valign=\"top\"><td width=\"25%\"> </td><td align=\"center\" nowrap=\"\"><input name=\"ie\" type=\"hidden\" value=\"ISO-8859-1\"/><input name=\"hl\" type=\"hidden\" value=\"ko\"/><input name=\"source\" type=\"hidden\" value=\"hp\"/><input name=\"biw\" type=\"hidden\"/><input name=\"bih\" type=\"hidden\"/><div class=\"ds\" style=\"height:32px;margin:4px 0\"><div style=\"position:relative;zoom:1\"><input autocomplete=\"off\" class=\"lst tiah\" maxlength=\"2048\" name=\"q\" size=\"57\" style=\"color:#000;margin:0;padding:5px 8px 0 6px;vertical-align:top;padding-right:38px\" title=\"Google 검색\" value=\"\"/><img alt=\"\" data-script-url=\"/textinputassistant/11/ko_tia.js\" height=\"23\" onclick=\"var s=document.createElement('script');s.src=this.getAttribute('data-script-url');(document.getElementById('xjsc')||document.body).appendChild(s);\" src=\"/textinputassistant/tia.png\" style=\"position:absolute;cursor:pointer;right:5px;top:4px;z-index:300\" width=\"27\"/></div></div><br style=\"line-height:0\"/><span class=\"ds\"><span class=\"lsbb\"><input class=\"lsb\" name=\"btnG\" type=\"submit\" value=\"Google 검색\"/></span></span><span class=\"ds\"><span class=\"lsbb\"><input class=\"lsb\" name=\"btnI\" onclick=\"if(this.form.q.value)this.checked=1; else top.location='/doodles/'\" type=\"submit\" value=\"I’m Feeling Lucky\"/></span></span></td><td align=\"left\" class=\"fl sblc\" nowrap=\"\" width=\"25%\"><a href=\"/advanced_search?hl=ko&amp;authuser=0\">고급검색</a><a href=\"/language_tools?hl=ko&amp;authuser=0\">언어도구</a></td></tr></table><input id=\"gbv\" name=\"gbv\" type=\"hidden\" value=\"1\"/><script nonce=\"YvB6qCwIZW5TjiYVFNsNeA==\">(function(){var a,b=\"1\";if(document&&document.getElementById)if(\"undefined\"!=typeof XMLHttpRequest)b=\"2\";else if(\"undefined\"!=typeof ActiveXObject){var c,d,e=[\"MSXML2.XMLHTTP.6.0\",\"MSXML2.XMLHTTP.3.0\",\"MSXML2.XMLHTTP\",\"Microsoft.XMLHTTP\"];for(c=0;d=e[c++];)try{new ActiveXObject(d),b=\"2\"}catch(h){}}a=b;if(\"2\"==a&&-1==location.search.indexOf(\"&gbv=2\")){var f=google.gbvu,g=document.getElementById(\"gbv\");g&&(g.value=a);f&&window.setTimeout(function(){location.href=f},0)};}).call(this);</script></form><div id=\"gac_scont\"></div><div style=\"font-size:83%;min-height:3.5em\"><br/></div><span id=\"footer\"><div style=\"font-size:10pt\"><div id=\"fll\" style=\"margin:19px auto;text-align:center\"><a href=\"/intl/ko/ads/\">광고 프로그램</a><a href=\"http://www.google.co.kr/intl/ko/services/\">비즈니스 솔루션</a><a href=\"/intl/ko/about.html\">Google 정보</a><a href=\"https://www.google.com/setprefdomain?prefdom=KR&amp;prev=https://www.google.co.kr/&amp;sig=K_T8P0_UCZ5OoJisy9KyHl2VzaJ4o%3D\">Google.co.kr</a></div></div><p style=\"color:#767676;font-size:8pt\">© 2019 - <a href=\"/intl/ko/policies/privacy/\">개인정보처리방침</a> - <a href=\"/intl/ko/policies/terms/\">약관</a></p></span></center><script nonce=\"YvB6qCwIZW5TjiYVFNsNeA==\">(function(){window.google.cdo={height:0,width:0};(function(){var a=window.innerWidth,b=window.innerHeight;if(!a||!b){var c=window.document,d=\"CSS1Compat\"==c.compatMode?c.documentElement:c.body;a=d.clientWidth;b=d.clientHeight}a&&b&&(a!=google.cdo.width||b!=google.cdo.height)&&google.log(\"\",\"\",\"/client_204?&atyp=i&biw=\"+a+\"&bih=\"+b+\"&ei=\"+google.kEI);}).call(this);})();(function(){var u='/xjs/_/js/k\\x3dxjs.hp.en.wiy1bgixabg.O/m\\x3dsb_he,d/am\\x3dABbUBA/d\\x3d1/rs\\x3dACT90oEmdwdVROC_0uhF6VVdKIFRJr-D2Q';setTimeout(function(){var a=document.createElement(\"script\");a.src=u;google.timers&&google.timers.load&&google.tick&&google.tick(\"load\",\"xjsls\");document.body.appendChild(a)},0);})();(function(){window.google.xjsu='/xjs/_/js/k\\x3dxjs.hp.en.wiy1bgixabg.O/m\\x3dsb_he,d/am\\x3dABbUBA/d\\x3d1/rs\\x3dACT90oEmdwdVROC_0uhF6VVdKIFRJr-D2Q';})();function _DumpException(e){throw e;}\n",
      "function _F_installCss(c){}\n",
      "(function(){google.spjs=false;google.snet=true;google.em=[];google.emw=false;})();google.sm=1;(function(){var pmc='{\\x22Qnk92g\\x22:{},\\x22RWGcrA\\x22:{},\\x22U5B21g\\x22:{},\\x22YFCs/g\\x22:{},\\x22ZI/YVQ\\x22:{},\\x22d\\x22:{},\\x22mVopag\\x22:{},\\x22sb_he\\x22:{\\x22agen\\x22:true,\\x22cgen\\x22:true,\\x22client\\x22:\\x22heirloom-hp\\x22,\\x22dh\\x22:true,\\x22dhqt\\x22:true,\\x22ds\\x22:\\x22\\x22,\\x22ffql\\x22:\\x22ko\\x22,\\x22fl\\x22:true,\\x22host\\x22:\\x22google.com\\x22,\\x22isbh\\x22:28,\\x22jsonp\\x22:true,\\x22msgs\\x22:{\\x22cibl\\x22:\\x22&#44160;&#49353;&#50612; &#51648;&#50864;&#44592;\\x22,\\x22dym\\x22:\\x22&#51060;&#44163;&#51012; &#52286;&#51004;&#49512;&#45208;&#50836;?\\x22,\\x22lcky\\x22:\\x22I&#8217;m Feeling Lucky\\x22,\\x22lml\\x22:\\x22&#51088;&#49464;&#55176; &#50508;&#50500;&#48372;&#44592;\\x22,\\x22oskt\\x22:\\x22&#51077;&#47141; &#46020;&#44396;\\x22,\\x22psrc\\x22:\\x22&#44160;&#49353;&#50612;&#44032; \\\\u003Ca href\\x3d\\\\\\x22/history\\\\\\x22\\\\u003E&#50937; &#44592;&#47197;\\\\u003C/a\\\\u003E&#50640;&#49436; &#49325;&#51228;&#46104;&#50632;&#49845;&#45768;&#45796;.\\x22,\\x22psrl\\x22:\\x22&#49325;&#51228;\\x22,\\x22sbit\\x22:\\x22&#51060;&#48120;&#51648;&#47196; &#44160;&#49353;\\x22,\\x22srch\\x22:\\x22Google &#44160;&#49353;\\x22},\\x22ovr\\x22:{},\\x22pq\\x22:\\x22\\x22,\\x22refpd\\x22:true,\\x22refspre\\x22:true,\\x22rfs\\x22:[],\\x22sbpl\\x22:24,\\x22sbpr\\x22:24,\\x22scd\\x22:10,\\x22sce\\x22:5,\\x22stok\\x22:\\x227WuLXXf4Q5VGC44rA6TCAFaHR_0\\x22,\\x22uhde\\x22:false}}';google.pmc=JSON.parse(pmc);})();</script> </body></html>>\n"
     ]
    }
   ],
   "source": [
    "print(dom.prettify)"
   ]
  },
  {
   "cell_type": "code",
   "execution_count": 124,
   "metadata": {},
   "outputs": [
    {
     "data": {
      "text/plain": [
       "[]"
      ]
     },
     "execution_count": 124,
     "metadata": {},
     "output_type": "execute_result"
    }
   ],
   "source": [
    "[_[\"href\"] for _ in dom.select(\"div.r a\")]"
   ]
  },
  {
   "cell_type": "code",
   "execution_count": 130,
   "metadata": {},
   "outputs": [],
   "source": [
    "queue = list()\n",
    "queue.extend([_[\"href\"] for _ in dom.select(\"div.r a\")])\n",
    "seen = list()\n",
    "while queue:\n",
    "    baseURL = queue.pop(0)\n",
    "    seen.append(baseURL)\n",
    "    time.sleep(1) \n",
    "    linkList = parseURL(baseURL)\n",
    "    for link in linkList:\n",
    "        if link not in queue and link not in seen:\n",
    "            queue.append(link)   \n",
    "    print(\"Queue : {0}, Seen : {1}\".format(len(queue), len(seen)))\n",
    "    "
   ]
  },
  {
   "cell_type": "markdown",
   "metadata": {},
   "source": [
    " --> 너비 우선 탐색 -> queue 구조"
   ]
  },
  {
   "cell_type": "code",
   "execution_count": null,
   "metadata": {},
   "outputs": [],
   "source": [
    "\n",
    "\n",
    "while queue:\n",
    "    baseURL = queue.pop(-1)#\n",
    "    seen.append(baseURL)\n",
    "    time.sleep(1) \n",
    "    linkList = parseURL(baseURL)\n",
    "    for link in linkList:\n",
    "        if link not in queue and link not in seen:\n",
    "            queue.append(link)   \n",
    "    print(\"Queue : {0}, Seen : {1}\".format(len(queue), len(seen)))\n",
    "    "
   ]
  },
  {
   "cell_type": "markdown",
   "metadata": {},
   "source": [
    "--> 깊이 우선 탐색 -> stack 구조"
   ]
  },
  {
   "cell_type": "code",
   "execution_count": 153,
   "metadata": {},
   "outputs": [],
   "source": [
    "url = \"https://search.naver.com/search.naver\""
   ]
  },
  {
   "cell_type": "code",
   "execution_count": 154,
   "metadata": {},
   "outputs": [],
   "source": [
    "param = {\n",
    "    \"query\":\"박보영\"\n",
    "}"
   ]
  },
  {
   "cell_type": "code",
   "execution_count": 157,
   "metadata": {},
   "outputs": [],
   "source": [
    "html = download(\"get\",url)"
   ]
  },
  {
   "cell_type": "code",
   "execution_count": 161,
   "metadata": {},
   "outputs": [
    {
     "data": {
      "text/plain": [
       "'<!doctype html> <html lang=\"ko\"> <head> <meta charset=\"utf-8\"> <meta name=\"referrer\" content=\"always\">  <meta name=\"format-detection\" content=\"telephone=no,address=no,email=no\"> <meta name=\"viewport\" content=\"width=device-width,initial-scale=1.0,maximum-scale=2.0\"> <meta property=\"og:title\" content=\" : 네이버 통합검색\"/> <meta property=\"og:image\" content=\"https://ssl.pstatic.net/sstatic/search/common/og_v3.png\"> <meta property=\"og:description\" content=\"\\'\\'의 네이버 통합검색 결과입니다.\"> <meta name=\"description\" lang=\"ko\" content=\"\\'\\'의 네이버 통합검색 결과입니다.\"> <title> : 네이버 통합검색</title> <link rel=\"shortcut icon\" href=\"https://ssl.pstatic.net/sstatic/search/favicon/favicon_140327.ico\">  <link rel=\"search\" type=\"application/opensearchdescription+xml\" href=\"https://ssl.pstatic.net/sstatic/search/opensearch-description.https.xml\" title=\"Naver\" /><link rel=\"stylesheet\" type=\"text/css\" href=\"https://ssl.pstatic.net/sstatic/search/pc/css/search1_190711.css\"> <link rel=\"stylesheet\" type=\"text/css\" href=\"https://ssl.pstatic.net/sstatic/search/pc/css/search2_190711.css\"> <link rel=\"stylesheet\" type=\"text/css\" href=\"https://ssl.pstatic.net/sstatic/search/pc/css/api_atcmp_190612.css\"><script type=\"text/javascript\"> naver = window.naver || {}; naver.search = naver.search || {}; var g_D = 0 ; if (!String.prototype.trim) { String.prototype.trim = function () { return this.replace(/^[\\\\s\\\\uFEFF\\\\xA0]+|[\\\\s\\\\uFEFF\\\\xA0]+$/g, \\'\\'); }; } function urlencode (q) { return escape(q).replace(/\\\\+/g, \"%2B\") ; } function urlexpand (url) { var href = document.location.href ; if (url == \"\") return href ; if (url.match(/^[-.A-Za-z]+:/)) return url ; if (url.charAt(0) == \\'#\\') return href.split(\"#\")[0] + url ; if (url.charAt(0) == \\'?\\') return href.split(\"?\")[0] + url ; if (url.charAt(0) == \\'/\\') return href.replace(/([^:\\\\/])\\\\/.*$/, \"$1\") + url ; return href.substring(0, href.lastIndexOf(\"/\")+1) + url ; } naver.search.error = (function () { var errorList = Array() ; return { add : function (s) { errorList.push(s) ; }, clear : function () { delete errorList ; }, get : function (s) { return errorList ; }, getString : function (d) { if (typeof d === \\'undefined\\') d = \\'|\\' ; return errorList.join(d) ; } } })(); naver.search.cookie = (function () { return { set : function (key, value, expire, domain) { var cookie = key + \"=\" + escape(value); if (typeof expire !== \\'undefined\\') { if (expire instanceof Date) { cookie = cookie + \"; expires=\" + expire.toUTCString(); } else { var exdate = new Date((new Date()).getTime() + expire*1000); cookie = cookie + \"; expires=\" + exdate.toUTCString(); } } cookie = cookie + \"; path=/\"; if (domain != null) { cookie = cookie + \"; domain=\" + domain; } document.cookie = cookie; }, get : function (key) { var cookie_list = document.cookie.split(/\\\\s*;\\\\s*/); for (var i = 0; i < cookie_list.length; i++) { var tmp_list = cookie_list[i].split(\"=\"); var c_key = tmp_list[0].trim(); var c_value = tmp_list[1]; if (key == c_key) { return unescape(c_value); } } return null; } } })(); naver.search.https = window.location.protocol == \"https:\"; naver.search.meta_referrer = 0; var _nx_js_load = (function () { var scrs = {} ; return function (script, callback) { scrs[script] = {} ; scrs[script].domscript = document.createElement(\\'script\\'); scrs[script].domscript.src = script ; if (callback) scrs[script].callback = (callback instanceof Array) ? callback : [callback]; scrs[script].domscript.onloadDone = false; scrs[script].domscript.onload = function() { scrs[script].domscript.onloadDone = true; if (scrs[script].callback) { for (var i = 0; i < scrs[script].callback.length; i++) { scrs[script].callback[i]() ; } } scrs[script].domscript.onload = scrs[script].domscript.onreadystatechange = null; } ; scrs[script].domscript.onreadystatechange = function() { if ( (\"loaded\" === scrs[script].domscript.readyState || \"complete\" === scrs[script].domscript.readyState) && !scrs[script].domscript.onloadDone ) { scrs[script].domscript.onload(); } } ; document.getElementsByTagName(\\'head\\')[0].appendChild(scrs[script].domscript); }; })() ; var nx_js_defer_load = (function() { var info = {} ; return function(scrname, callback, t) { var nx_load_once = (function() { return function(scrname) { if (info[scrname].t > 0) setTimeout(function() { _nx_js_load(scrname, info[scrname].callback) ; }, t) ; else _nx_js_load(scrname, info[scrname].callback) ; } ; })(); if (t < 0) t = 0 ; if (info[scrname]) { n = info[scrname].length; for (var i = 0; i < n; i++) { if (info[scrname][i] == callback) return ; } if (t < info[scrname].t) info[scrname].t = t ; } else { info[scrname] = {} ; info[scrname].callback = [] ; info[scrname].t = t ; jindo.$Fn(function() { nx_load_once(scrname) ; }).attach(window, \"load\") ; } info[scrname].callback.push(callback) ; }; })(); function nx_js_lazyload(scripts, onload, is_serial) { if (!(scripts instanceof Array)) { scripts = [scripts]; } if (is_serial) { function load_next() { if (scripts.length == 0) { onload(); return; } _nx_js_load( scripts.shift(), load_next ) ; } load_next(); } else { var load_check = function() { var num_js = scripts.length; return function() { num_js--; if (num_js <= 0) { onload(); } } }(); for (var i = 0; i < scripts.length; i++) { _nx_js_load( scripts[i], load_check ) ; } } } function nx_defer_eval (id) { var codeElement = document.getElementById(id), code = codeElement.innerHTML; eval(code.replace(/\\\\/\\\\*/, \\'\\').replace(/\\\\*\\\\//, \\'\\')); } </script><script> try { document.execCommand(\\'BackgroundImageCache\\', false, true); } catch(e) {} if (top.frames.length!=0 || window!=top) window.open(location, \"_top\") ; naver = window.naver || {}; naver.search = naver.search || {}; naver.search.ext = naver.search.ext || {}; naver.search.map_api = { v2 : \"https://ssl.pstatic.net/sstatic.map/openapi/openapi_v23.js\", v3 : \"https://ssl.pstatic.net/sstatic.map/openapi/maps3.js\" } ; var nx_au_cookie_domain = \"search.naver.com\" ; var nx_mobile_agent = 0 ; var headerfooter_query = \"\" ; var headerfooter_query_encoded = \"\" ; var headerfooter_query_encoded_uhc = \"\" ; var headerfooter_query_encoded_utf8 = \"\" ; var headerfooter_time_year = 2019 ; var headerfooter_time_month = 7 ; var headerfooter_time_day = 15 ; var headerfooter_time_hour = 11 ; var headerfooter_time_minute = 55 ; var headerfooter_time_second = 5 ; var headerfooter_time_wday = 1 ; var headerfooter_time_year_s = \"2019\" ; var headerfooter_time_month_s = \"07\" ; var headerfooter_time_day_s = \"15\" ; var headerfooter_time_hour_s = \"11\" ; var headerfooter_time_minute_s = \"55\" ; var headerfooter_time_second_s = \"05\" ; var headerfooter_time_wday_s = \"1\" ; var g_ssc = \"tab.nx.all\" ; var g_query = headerfooter_query_encoded_uhc ; var g_url_query = \"\" ; var g_puid = \"UfYrudprvxsssRLavjGssssstEV-227937\" ; var g_suid = \"uqITHBGPTUF2HoDTFSXpfA==\" ; var g_tab = \"nexearch\" ; var g_content_tab = \"nexearch\" ; var g_stab = \"nexearch\" ; var g_stab_orig = \"nexearch\" ; var g_crt = \"\" ; var g_m_str = \"\" ; var g_tablet_device = 0 ; var g_nx_splugin ; document.domain = \"naver.com\" ; document.documentElement.setAttribute(\\'data-useragent\\', window.navigator.userAgent.toLowerCase()) ; document.documentElement.setAttribute(\\'data-platform\\', window.navigator.platform.toLowerCase()) ; var g_er_image, g_er_count = 0 ; function g_er (msg) { if (g_er_count++ > 0) return ; g_er_image = new Image() ; g_er_image.src = \"http://er.search.naver.com/er?f=\"+g_tab+\"&w=\"+g_stab+\"&q=&u=\"+encodeURIComponent(document.location)+\"&m=\"+encodeURIComponent(msg) ; } function trim_space (q) { var head_re = /^ */; var tail_re = / *$/; q = q.replace(head_re, \"\"); q = q.replace(tail_re, \"\"); return q; } function trim_crlf (q) { var crlf = /[\\\\r|\\\\n]/ ; q = q.replace(crlf, \"\") ; return q ; } if (typeof(encodeURIComponent) != \"function\") { encodeURIComponent = function (s) { function toHex (n) { var hexchars = \"0123456789ABCDEF\" ; return \"%\" + hexchars.charAt(n>>4) + hexchars.charAt(n&0xF) ; } var es = \"\" ; for (var i = 0; i < s.length;) { var c = s.charCodeAt(i++) ; if ((c&0xF800) == 0xD800) { var sc = s.charCodeAt(i++) ; c = ((c-0xD800)<<10) + (sc-0xDC00) + 0x10000 ; } if (!(c&~0x7F)) { if ((c>=65&&c<=90) || (c>=97&&c<=122) || (c>=48&&c<=57) || (c>=45&&c<=46) || c==95 || c==33 || c==126 || (c>=39&&c<=42)) es += String.fromCharCode(c) ; else es += toHex(c) ; } else if (!(c&~0x7FF)) es += toHex(0xC0+(c>>6)) + toHex(c&0x3F) ; else if (!(c&~0xFFFF)) es += toHex(0xE0+(c>>12)) + toHex(0x80+(c>>6&0x3F)) + toHex(0x80+(c&0x3F)) ; else es += toHex(0xF0+(c>>18)) + toHex(0x80+(c>>12&0x3F)) + toHex(0x80+(c>>6&0x3F)) + toHex(0x80+(c&0x3F)) ; } return es ; } } function include_script (type, defer, src, charset) { var script = document.createElement(\"script\") ; script.type = type, script.defer = defer ; script.src = src ; if (charset) script.charset = charset ; else script.charset = \\'utf-8\\' ; document.getElementsByTagName(\\'head\\')[0].appendChild(script) ; return script ; } function include_style (src, charset) { var h = document.getElementsByTagName(\"head\")[0] ; var l = document.createElement(\\'link\\') ; l.type = \\'text/css\\' ; l.rel = \\'stylesheet\\' ; if (charset) l.charset = charset ; else l.charset = \\'utf-8\\' ; l.media = \\'screen\\' ; l.href = src ; h.appendChild(l) ; } function bt (id, after) { document.getElementById(id).src = after ; } function tt_sub_disable (o) { if (typeof(o.tt_sub) == \"undefined\") return false ; if ((typeof(o.tt_sub) == \"object\") && (o.tt_sub.length)) { var i ; for (var i=0; i<o.tt_sub.length; i++) o.tt_sub[i].disabled = true ; } else o.tt_sub.disabled = true ; return true ; } function cpip () { var evt, sx = sy = px = py = -1 ; try { evt = window.event ; } catch (e) {} try { sx=evt.clientX-document.body.clientLeft, sy=evt.clientY-document.body.clientTop ; } catch (e) {} try { px=document.body.scrollLeft+(sx<0?0:sx), py=document.documentElement.scrollTop+(sy<0?0:sy) ; } catch (e) {} try { if (evt.pageX) px=evt.pageX ; if (evt.pageY) py=evt.pageY ; } catch (e) {} return \"px=\"+px+\"&py=\"+py+\"&sx=\"+sx+\"&sy=\"+sy ; } function nxGetCommonCRParam () { return \"p=\"+g_puid+\"&q=\"+g_query+\"&ssc=\"+g_ssc+\"&f=\"+g_tab+\"&w=\"+g_stab+\"&s=\"+g_suid+\"&time=\"+(new Date()).getTime()+g_crt ; } function getCRRankingByParam (p, info) { if (typeof info == \\'undefined\\' || info == null) return 0 ; var cr = 0 ; try { var y, z ; var y = p.split(\\'&\\') ; for (var i = 0; i < y.length; i++) { if (z = y[i].split(\\'=\\')) { if (z[0] == \\'a\\') { for (var j = 0; j < info.length; j++) { if (z[1].substr(0, info[j].n.length) == info[j].n) { cr = info[j].r ; break ; } } break ; } } } } catch (e) { } return cr ; } function getCRRanking (p) { var cr = 0 ; if (typeof nx_cr_area_info != \\'undefined\\') cr = getCRRankingByParam(p, nx_cr_area_info) ; if (cr) return cr ; if (typeof nx_cr_right_area_info != \\'undefined\\') cr = getCRRankingByParam(p, nx_cr_right_area_info) ; return cr ; } function isOutlink (u) { if (!u || u.indexOf(\"://\") < 0) return false; var b = (u.search(/^\\\\w*:\\\\/\\\\/([^:/?]*\\\\.|)*(?!(ad)?cr\\\\.)[^.:/?]+\\\\.+naver\\\\.com(:\\\\d*)?(\\\\/|$)/) < 0);  return b; } function nxGetCRURL (m, a, b, c, d, e) { var p = \"\" ; var u ; if (c==undefined && d==undefined && e==undefined) { p = (a==undefined?\"\":\"&\"+a) + (b==undefined || a.indexOf(\"u=\")==0 || a.indexOf(\"&u=\") > 0 ?\"\":\"&u=\"+urlencode(b)) ; u = b ; } else { p = (a==undefined ? \"\" : \"&a=\"+urlencode(a)) + (b==undefined ? \"\" : \"&r=\"+urlencode(b)) + (c==undefined ? \"\" : \"&i=\"+urlencode(c)) + (d==undefined ? \"\" : \"&u=\"+urlencode(d)) + (e==undefined ? \"\" : \"&\"+e) ; u = d ; } if (! p) return null ; var url ; if (naver.search.https) { url = (naver.search.meta_referrer ? \"/p/crd\" : \"/p/cr\") + \"/rd\"; if (m != 0) m = 1; } else { out = isOutlink(u); url = \"http://cr.naver.com\" + (g_D && out ? \"/nr\" : \"/rd\"); if (m != 0) m = g_D && out ? 2 : 1; } url += \"?m=\" + m + \"&\" + cpip() + \"&\" + nxGetCommonCRParam() + p; return url; } function tCR (a, b, c, d, e) { var l = nxGetCRURL(0, a, b, c, d, e) ; var cr = getCRRanking(l) ; if (cr > 0) l = l + \"&cr=\" + cr ; if (document.images) (new Image()).src = l ; else document.location = l ; return false ; } function gCR (u, a, r, i, e, t) { if (u) u = urlexpand(u) ; var l = nxGetCRURL(1, a, r, i, u, e) ; var o = document.createElement(\"a\") ; var cr = getCRRanking(l) ; if (cr > 0) l = l + \"&cr=\" + cr ; if (o.click) { o.href = l ; o.style.display = \"none\" ; document.body.appendChild(o) ; o.click() ; } else document.location = l ; } function goCR (o, p, t) { var u = o.href ; tt_sub_disable(o) ; if (p.indexOf(\"u=javascript\") >= 0) t = true ; var n = (o.ownerDocument==document && o.target && o.target!=\"_self\" && o.target!=\"_parent\" && o.target!=\"_top\") && !(window.location.protocol&&window.location.protocol.indexOf(\"https:\")==0) ; var cr = getCRRanking(p) ; if (cr > 0) p = p + \"&cr=\" + cr ;  if (!(u && u.indexOf(\"http://cr.naver.com/\")==0) && !(o.getAttribute !== undefined && o.getAttribute(\"crurl\"))) { if (0 && u && u.indexOf(\"/search.naver?\") >= 0) { var str = \"\" ; if (0) u += \"&crcp=1\", str += urlencode(\"&crcp=1\") ; if (0) u += \"&debug=1\", str += urlencode(\"&debug=1\") ; p = p.replace(/(((?:^|&)u=).*\\\\/search.naver%3F[^&]*)/, \\'$1\\' + str) ; } u = nxGetCRURL(t?0:(n?-1:1), p, u) ; } if (u && !u.match(/m=0&/)) { var a = o.innerHTML ; if (g_D && naver.search.https && naver.search.meta_referrer && o.href && isOutlink(o.href)) o.setAttribute(\"rel\", \"noreferrer\"); o.href = u ; if (o.getAttribute !== undefined) o.setAttribute(\"crurl\", \"1\"); if (o.innerHTML != a) o.innerHTML = a ; } else if (document.images) (new Image()).src = u ; return true ; } function goOtherCR (o, p) { return goCR(o, p, false) ; } function goOtherTCR (o, p) { return goCR(o, p, true) ; } function get_form_url (o) { var url = o.getAttribute(\"action\") ; if (url == null) url = \"\" ; var e, n = 0 ; for (var i=0; i<o.elements.length; i++) { e = o.elements[i] ; if (e.disabled || !e.name) continue ; url += (n++>0?\"&\":url.indexOf(\"?\")<0?\"?\":url.indexOf(\"?\")<url.length-1?\"&\":\"\") + encodeURIComponent(e.name) + \"=\" + encodeURIComponent(e.value) ; } return url ; } function formCR (o, area, rank, id) { if (typeof o == \\'string\\') o = document.getElementById(o) ; var target = o.getAttribute(\"target\") ; if (target && target!=\"_self\" && target!=\"_parent\" && target!=\"_top\" || /^post$/i.test(o.getAttribute(\"method\"))) { tCR(area, rank, id) ; o.submit() ; return false ; } var url = get_form_url(o) ; var a = document.createElement(\"a\") ; a.href = url ; var p = area != undefined ? \"a=\" + area : \"\" ; if (rank != undefined) p += (p?\"&\":\"\") + \"r=\" + encodeURIComponent(rank) ; if (id != undefined) p += (p?\"&\":\"\") + \"i=\" + encodeURIComponent(id) ; if (url != undefined) p += (p?\"&\":\"\") + \"u=\" + encodeURIComponent(urlexpand(url)) ; goCR(a, p) ; if (navigator.userAgent.indexOf(\\'MSIE\\') > 0) { a.style.display = \\'none\\' ; o.appendChild(a) ; a.click() ; } else document.location = a.href ; return false ; } function goHist (o, a, e) { return true ; } function rank_val (rank, name, sign, number, ad_onair) { this.rank = rank ; this.name = name ; this.sign = sign ; this.number = number ; this.ad_onair = ad_onair ; } function rr_hotquery_val (titleImg, totalLink, ad_onair) { this.titleImg = titleImg ; this.totalLink = totalLink ; this.ad_onair = ad_onair ; } function rr_append () { for (var i=0; i<rr_list.length; i++) if (rr_list[i].qname==hotqry_Name && rr_list[i].dir==hotqry_Dir) return 0 ; var o = { order:hotqry_Order, contid:hotqry_ContID, qname:hotqry_Name, dir:hotqry_Dir, toprank:hotqry_TopRank, rankdown:hotqry_RankDown, clicklog:hotqry_ClickLog, toprank_idx:toprank_idx, lowrank_idx:lowrank_idx, topranklist:toprank, lowranklist:lowrank_idx>=0?lowrank:null } ; rr_list = rr_list.concat(o) ; return 1 ; } function winload (str) { w = 870, h = 651 ; ww = 880, hh = 700 ; l = (screen.availWidth/2) - (ww/2) ; t = (screen.availHeight/2) - (hh/2) ; window.open(str,\"sdsgis\",\"top=\"+t+\",left=\"+l+\",width=\"+w+\",height=\"+h+\",status=yes,resizable=yes,toolbars=no,location=no,scrollbars=no\") ; } function winload_map (str) { t = 0; l = 0; w = screen.availWidth - 10; h = screen.availHeight - 30; window.open(str,\"sdsgis\",\"top=\"+t+\",left=\"+l+\",width=\"+w+\",height=\"+h+\",status=yes,resizable=yes,toolbars=no,location=no,scrollbars=yes\") ; } function sitevalue (title, sid) { var target_name = \"value\" ; window.open(\"about:blank\", target_name, \"width=380, height=343, resizable=no, menubar=no, statusbar=no, scrollbar=no\") ; siteform.action = \"http://dir.naver.com/siteview/sitevalue.php\"; siteform.target = target_name ; siteform.title.value = title ; siteform.sid.value = sid ; siteform.pageid.value = g_puid ; siteform.sessionid.value = g_suid ; siteform.submit() ; return false ; } function open_mapbrowser (x, y, scale, title) { var host = \"http://maps.naver.com\" ; if (x == null) x = \"\" ; else x = new String(x) ; if (y == null) y = \"\" ; else y = new String(y) ; if (title == null) title = \"\" ; if (x.indexOf(\".\")>=0 && y.indexOf(\".\")>=0) { if (x>=122.8957333 && x<=133.4503243 && y>=31.1396418 && y<=43.4549896) host = \"http://map.naver.com\" ; } win = window.open(host+\"/?x=\"+x+\"&y=\"+y+\"&title=\"+title, \"_blank\") ; win.focus() ; } function open_mapbrowser_etc (args, t) { var host = \"http://maps.naver.com\" ; if (t && t==1) host = \"http://map.naver.com\" ; if (args == null) args=\"\" ; win = window.open(host+\"/?\"+args, \"_blank\") ; if (win != null) { win.focus() ; return true ; } else return false ; } function nx_open_mapbrowser (x, y, scale, title, id, type) { var host = \"http://map.naver.com\" ; var param ; if (x == null) x = \"\" ; else x = new String(x) ; if (y == null) y = \"\" ; else y = new String(y) ; if (title == null) title = \"\" ; if (arguments.length <= 4) param = host+\"/?x=\"+x+\"&y=\"+y+\"&title=\"+title ; else param = host+\"/index.nhn?enc=utf8&mapMode=0&level=2&lng=\"+x+\"&lat=\"+y+\"&pinTitle=\"+title+\"&pinId=\"+id+\"&pinType=\"+type ; win = window.open(param, \"_blank\") ; win.focus() ; } function nx_open_mapbrowser_etc (args, t) { var host = \"http://map.naver.com\" ; if (args == null) args=\"\" ; win = window.open(host+\"/?\"+args, \"_blank\") ; if (win != null) { win.focus() ; return true ; } else return false ; } function goMap (txtAddr, txtX, txtY, rAddr, rTel) { if (txtX == \"\") alert(txtAddr+\\'을 찾을 수 없습니다. 다른 조건을 가지고 검색하여 주십시요.\\') ; else winload_map(\\'http://map.naver.com/view?item=\\'+txtAddr+\\'&x=\\'+txtX+\\'&y=\\'+txtY+\\'&strAddr=\\'+rAddr+\\'&strTel=\\'+rTel) ; } function goSanghoMap (encTitle, x, y, encAddr, encTel) { var v_args = \"&x=\" + x + \"&y=\"+ y + \"&title=\" + encTitle + \"&address=\" + encAddr + \"&tel=\" + encTel ; open_mapbrowser_etc(v_args) ; } function nx_onkeydown (e) { function cancel_event (event) { if (event.preventDefault) { event.preventDefault() ; event.stopPropagation() ; } else event.returnValue = false ; } function ignore_input (e, k, c) { var el = e.target || e.srcElement ; var el_upper = el && el.tagName ? el.tagName.toUpperCase() : \"\" ; if (el_upper == \"INPUT\" || el_upper == \"SELECT\" || el_upper == \"TEXTAREA\" || el_upper == \"EMBED\" || el_upper == \"OBJECT\") return true ; else if (k & m.ALT) return true ; else if (k == m.CTRL && c != 86) return true ; else if (k & m.META || c == 91 || c == 224) return true ; return false ; } try { if (typeof(e) == \\'undefined\\') e = event ; var f = document.getElementsByName(\"search\")[0] ; var k = 0, c = 0 ; var m = { ALT:1, CTRL:2, SHIFT:4, META:8 } ; if ((typeof(e.altKey) != \\'undefined\\') ? e.altKey : (e.modifiers & Event.ALT_MASK > 0)) k |= m.ALT ; if ((typeof(e.ctrlKey) != \\'undefined\\') ? e.ctrlKey : (e.modifiers & Event.CONTROL_MASK > 0)) k |= m.CTRL ; if ((typeof(e.shiftKey) != \\'undefined\\') ? e.shiftKey : (e.modifiers & Event.SHIFT_MASK > 0)) k |= m.SHIFT ; if ((typeof(e.metaKey) != \\'undefined\\') && e.metaKey) k |= m.META ; c = e.keyCode ? e.keyCode : e.which ; if (ignore_input(e, k, c)) return true ; if (((k === 0 || k === m.SHIFT) && (c === 21 || c === 229)) || (k === m.SHIFT && c === 32) || c === 113 || c === 45) { cancel_event(e) ; scrollTo(0, 0) ; f.query.focus() ; f.query.select() ; return false ; } else if (c > 44) { scrollTo(0, 0) ; f.query.value = \\'\\' ; f.query.focus() ; f.query.select() ; return true ; } } catch (err) {} return true ; } function Init () { if (document.captureEvents && Event.KEYDOWN) document.captureEvents (Event.KEYDOWN) ; document.onkeydown = nx_onkeydown ; } var msg_hidden_idle=null; function msg (id) { if(msg_hidden_idle) clearInterval(msg_hidden_idle); if(id) { var mid=document.getElementById(id); mid.style.display=\\'\\'; mid.style.visibility=\\'visible\\'; } } function msg_hidden (id, f) { if(f) hidden(id); else msg_hidden_idle=setInterval(\"hidden(\\'\"+id+\"\\')\",100); } function hidden (id) { var mid=document.getElementById(id); mid.style.display=\\'none\\'; mid.style.visibility=\\'hidden\\'; } function nx_check_basic () { return ; } function nx_set_cookie (name, value, expire, domain) { var cookie = name + \"=\" + escape(value); if (expire != null) { if (expire instanceof Date) { cookie = cookie + \"; expires=\" + expire.toUTCString(); } else { var exdate = new Date((new Date()).getTime() + expire*1000); cookie = cookie + \"; expires=\" + exdate.toUTCString(); } } cookie = cookie + \"; path=/\"; if (domain != null) { cookie = cookie + \"; domain=\" + domain; } document.cookie = cookie; } function nx_get_cookie (name) { var cookie_list = document.cookie.split(/\\\\s*;\\\\s*/); for (var i = 0; i < cookie_list.length; i++) { var tmp_list = cookie_list[i].split(\"=\"); var c_name = trim_space(tmp_list[0]); var c_value = tmp_list[1]; if (name == c_name) { return unescape(c_value); } } return null; } var nx_default_charset = document.charset ; function nx_form_emul_charset (form) { if (/msie/i.test(navigator.userAgent) && !/opera/i.test(navigator.userAgent)) { document.charset = form.acceptCharset ; window.onbeforeunload = function () { document.charset = nx_default_charset ; } ; } return true; } Init() ; (function(exportTarget) { var lcs_options = { nnb: true }; var lcs_version = \"v0.8.0\"; var lcs_add = {}; var lcs_bc = {}; var lcs_perf = {}; var lcs_do_count = 0; var lcs_do_retry_count = 0; var lcs_waiting_pageshow = false; function lcs_do(optional_etc) { var etc = optional_etc || {}; if (lcs_waiting_pageshow) { return; } var retry = function(__etc) { return function() { window.setTimeout(function() { lcs_waiting_pageshow = false; lcs_do(__etc); }, 10); } }(etc); if (document.readyState !== \"complete\") { var eventName = \"onpageshow\" in window ? \"pageshow\" : \"load\"; if (document.addEventListener) { window.addEventListener(eventName, retry, false); } else { window.attachEvent(\"on\"+ eventName, retry); } lcs_do_retry_count++; lcs_waiting_pageshow = true; return; } if (!window.lcs_SerName) { window.lcs_SerName = \"lcs.naver.com\"; } var rs = \"\"; var index; var itarVal; var doc = document; var wlt = window.location; var lcsServerAddr; try { lcsServerAddr = (wlt.protocol ? wlt.protocol : \"http:\") + \"//\" + window.lcs_SerName + \"/m?\"; } catch (e) { return; } try { rs = lcsServerAddr + \"u=\" + encodeURIComponent(wlt.href) + \"&e=\" + (doc.referrer ? encodeURIComponent(doc.referrer) : \"\"); } catch (e) {} try { if (typeof lcs_add.i == \"undefined\") lcs_add.i = \"\"; if (lcs_do_count < 1) { lcs_setBrowserCapa(); if (lcs_options.nnb) { lcs_setNNB(); } lcs_add[\"ct\"] = lcs_getConnectType(); lcs_setNavigationTiming(); var loadEventStart = lcs_perf[\"loadEventStart\"] || 0; var loadEventEnd = lcs_perf[\"loadEventEnd\"] || 0; if (loadEventEnd < loadEventStart && lcs_do_retry_count < 3) { lcs_do_retry_count++; lcs_waiting_pageshow = true; retry(); return; } lcs_setPaintTiming(); lcs_setNavigationType(); } for (index in lcs_bc) { if (typeof lcs_bc[index] !== \"function\") rs += \"&\" + index + \"=\" + encodeURIComponent(lcs_bc[index]); } for (index in lcs_add) { itarVal = lcs_add[index]; if (itarVal !== undefined && typeof itarVal !== \"function\") { rs += \"&\" + index + \"=\" + encodeURIComponent(itarVal); } } if (lcs_do_count < 1) { for (index in lcs_perf) { itarVal = lcs_perf[index]; if (itarVal) { rs += \"&\" + index + \"=\" + encodeURIComponent(itarVal); } } } var dni = !!etc.dni ? etc.dni : getCookie(\"NAPP_DI\"); if (!!dni) { etc.dni = dni; } else { delete etc.dni; } for (index in etc) { if ( (index.length >= 3 && typeof etc[index] !== \"function\") || index === \"qy\" ) { rs += \"&\" + index + \"=\" + encodeURIComponent(etc[index]); } } if (!!etc === false || !!etc.pid === false) { var pidFallback; if (window.g_pid) { pidFallback = g_pid; } else { pidFallback = lcs_get_lpid(); } rs += \"&pid=\" + encodeURIComponent(pidFallback); } var timeStr = new Date().getTime(); rs += \"&ts=\" + timeStr; rs += \"&EOU\"; var obj = document.createElement(\"img\"); obj.src = rs; obj.onload = function() { obj.onload = null; return; }; lcs_do_count++; } catch (e) { return; } } function getCookie(name) { var value = document.cookie.match(\\'(^|;) ?\\' + name + \\'=([^;]*)(;|$)\\'); return value? value[2] : \"\"; } function lcs_do_gdid(gdid, etc) { try { if (gdid) { lcs_add[\"i\"] = gdid; if (etc) { lcs_do(etc); } else { lcs_do(); } } } catch (e) {} } function getLocalStorage() { var localStorage = null; try { localStorage = window.localStorage; } catch (e) {} try { if (!localStorage) localStorage = window.sessionStorage; } catch (e) {} return localStorage || null; } function lcs_setNNB() { try { var lsg = getLocalStorage(); if (lsg) { if (lsg.ls) { var lc = lsg.ls; if (lc.length == 13) { lcs_add[\"ls\"] = lc; return; } } var nnb = lcs_getNNBfromCookie(); if (nnb != null && nnb != \"\") { lsg.ls = nnb; lcs_add[\"ls\"] = nnb; } } } catch (e) {} } function lcs_setBrowserCapa() { lcs_bc[\"os\"] = lcs_getOS(); lcs_bc[\"ln\"] = lcs_getlanguage(); lcs_bc[\"sr\"] = lcs_getScreen(); lcs_bc[\"pr\"] = window.devicePixelRatio || 1; var windowSize = lcs_getWindowSize(); lcs_bc[\"bw\"] = windowSize[\"bw\"]; lcs_bc[\"bh\"] = windowSize[\"bh\"]; lcs_bc[\"c\"] = lcs_getColorDepth(); lcs_bc[\"j\"] = lcs_getJavaEnabled(); lcs_bc[\"k\"] = lcs_getCookieEnabled(); } function lcs_getOS() { var lcs_os = \"\"; try { navigator.platform ? (lcs_os = navigator.platform) : \"\"; } catch (e) {} return lcs_os; } function lcs_getlanguage() { var lcs_ln = \"\"; try { navigator.userLanguage ? (lcs_ln = navigator.userLanguage) : navigator.language ? (lcs_ln = navigator.language) : \"\"; } catch (e) {} return lcs_ln; } function lcs_getScreen() { var lcs_sr = \"\"; try { if (window.screen && screen.width && screen.height) { lcs_sr = screen.width + \"x\" + screen.height; } else if (window.java || self.java) { var sr = java.awt.Toolkit.getDefaultToolkit().getScreenSize(); lcs_sr = sr.width + \"x\" + sr.height; } } catch (e) { lcs_sr = \"\"; } return lcs_sr; } function lcs_getWindowSize() { var doc = document; var size = { bw: \"\", bh: \"\" }; try { size[\"bw\"] = doc.documentElement.clientWidth ? doc.documentElement.clientWidth : doc.body.clientWidth; size[\"bh\"] = doc.documentElement.clientHeight ? doc.documentElement.clientHeight : doc.body.clientHeight; } catch (e) {} return size; } function lcs_getColorDepth() { var colorDepth = \"\"; try { if (window.screen) { colorDepth = screen.colorDepth ? screen.colorDepth : screen.pixelDepth; } else if (window.java || self.java) { var c = java.awt.Toolkit.getDefaultToolkit() .getColorModel() .getPixelSize(); colorDepth = c; } } catch (e) { colorDepth = \"\"; } return colorDepth; } function lcs_getJavaEnabled() { var jsEnable = \"\"; try { jsEnable = navigator.javaEnabled() ? \"Y\" : \"N\"; } catch (e) {} return jsEnable; } function lcs_getCookieEnabled() { var cookieEnable = \"\"; try { cookieEnable = navigator.cookieEnabled ? \"Y\" : \"N\"; } catch (e) {} return cookieEnable; } function lcs_getNNBfromCookie() { try { var ck = document.cookie; var k, v, i, ArrCookies = ck.split(\";\"); for (i = 0; i < ArrCookies.length; i++) { k = ArrCookies[i].substr(0, ArrCookies[i].indexOf(\"=\")); v = ArrCookies[i].substr(ArrCookies[i].indexOf(\"=\") + 1); k = k.replace(/^s+|s+$/g, \"\"); if (k == \"NNB\") { return unescape(v); } } } catch (e) {} } function lcs_getConnectType() { var ct = \"\"; try { var conn = navigator.connection || navigator.mozConnection || navigator.webkitConnection; if (conn && typeof conn.type != \"undefined\") { switch (conn.type) { case conn.CELL_2G: ct = \"2g\"; break; case conn.CELL_3G: ct = \"3g\"; break; case conn.CELL_4G: ct = \"4g\"; break; case conn.WIFI: ct = \"wifi\"; break; case conn.ETHERNET: ct = \"eth\"; break; case conn.UNKNOWN: ct = \"unknown\"; break; case conn.NONE: ct = \"none\"; break; default: ct = \"\"; } } else if ( typeof blackberry != \"undefined\" && typeof blackberry.network != \"undefined\" ) { var bnet = blackberry.network; if (bnet == \"Wi-Fi\") { ct = \"wifi\"; } else if (bnet == \"3G\") { ct = \"3g\"; } else { ct = bnet; } } else { var lcs_isie = navigator.appName == \"Microsoft Internet Explorer\"; var lcs_ismac = navigator.userAgent.indexOf(\"MAC\") >= 0; if (lcs_isie && !lcs_ismac && bd && bd.addBehavior) { var bd = document.body; var lcs_ct = \"\"; var obj = bd.addBehavior(\"#default#clientCaps\"); ct = bd.connectionType; bd.removeBehavior(obj); } } } catch (e) { console.warn(e); } return ct; } function lcs_setNavigationTiming() { var performance = window.performance || {}; if (performance.timing) { var pt = performance.timing; for (var key in pt) { var value = pt[key]; if (typeof value === \"number\") { lcs_perf[key] = value; } } } } function lcs_setPaintTiming() { var performance = window.performance || {}; try { if (performance.getEntriesByType) { var performanceEntries = performance.getEntriesByType(\"paint\"); performanceEntries.forEach(function(performanceEntry, i, entries) { var name = performanceEntry.name; switch (name) { case \"first-paint\": case \"first-contentful-paint\": lcs_perf[name] = performanceEntry.startTime; break; default: break; } }); } else { } } catch (e) { console.warn(e); } } function lcs_setNavigationType() { var ngt = getNavigationType(); if (ngt !== undefined) { lcs_perf[\"ngt\"] = ngt; } } function getNavigationType() { var performance = window.performance || {}; if (performance.navigation) { return performance.navigation.type; } return; } var lpid = null; function lcs_create_lpid() { var uaID; var lsg = getLocalStorage(); var nnb = lsg ? lsg.ls : null; if (nnb) { uaID = nnb; } else { var nnbFallback; nnbFallback = navigator.userAgent + Math.random(); uaID = nnbFallback; } var performance = window.performance || {}; var pageURL = location.href; var currentTime; if (performance.now) { currentTime = performance.now(); } else { currentTime = new Date().getTime(); } lpid = hashFunction.md5(uaID + pageURL + currentTime); return lpid; } function lcs_get_lpid() { if (lpid === null) { lpid = lcs_create_lpid(); } return lpid; } function lcs_update_lpid() { lpid = lcs_create_lpid(); return lpid; } var hashFunction = {}; (function(exportTarget) { function safeAdd(x, y) { var lsw = (x & 0xffff) + (y & 0xffff); var msw = (x >> 16) + (y >> 16) + (lsw >> 16); return (msw << 16) | (lsw & 0xffff); } function bitRotateLeft(num, cnt) { return (num << cnt) | (num >>> (32 - cnt)); } function md5cmn(q, a, b, x, s, t) { return safeAdd( bitRotateLeft(safeAdd(safeAdd(a, q), safeAdd(x, t)), s), b ); } function md5ff(a, b, c, d, x, s, t) { return md5cmn((b & c) | (~b & d), a, b, x, s, t); } function md5gg(a, b, c, d, x, s, t) { return md5cmn((b & d) | (c & ~d), a, b, x, s, t); } function md5hh(a, b, c, d, x, s, t) { return md5cmn(b ^ c ^ d, a, b, x, s, t); } function md5ii(a, b, c, d, x, s, t) { return md5cmn(c ^ (b | ~d), a, b, x, s, t); } function binlMD5(x, len) { x[len >> 5] |= 0x80 << len % 32; x[(((len + 64) >>> 9) << 4) + 14] = len; var i; var olda; var oldb; var oldc; var oldd; var a = 1732584193; var b = -271733879; var c = -1732584194; var d = 271733878; for (i = 0; i < x.length; i += 16) { olda = a; oldb = b; oldc = c; oldd = d; a = md5ff(a, b, c, d, x[i], 7, -680876936); d = md5ff(d, a, b, c, x[i + 1], 12, -389564586); c = md5ff(c, d, a, b, x[i + 2], 17, 606105819); b = md5ff(b, c, d, a, x[i + 3], 22, -1044525330); a = md5ff(a, b, c, d, x[i + 4], 7, -176418897); d = md5ff(d, a, b, c, x[i + 5], 12, 1200080426); c = md5ff(c, d, a, b, x[i + 6], 17, -1473231341); b = md5ff(b, c, d, a, x[i + 7], 22, -45705983); a = md5ff(a, b, c, d, x[i + 8], 7, 1770035416); d = md5ff(d, a, b, c, x[i + 9], 12, -1958414417); c = md5ff(c, d, a, b, x[i + 10], 17, -42063); b = md5ff(b, c, d, a, x[i + 11], 22, -1990404162); a = md5ff(a, b, c, d, x[i + 12], 7, 1804603682); d = md5ff(d, a, b, c, x[i + 13], 12, -40341101); c = md5ff(c, d, a, b, x[i + 14], 17, -1502002290); b = md5ff(b, c, d, a, x[i + 15], 22, 1236535329); a = md5gg(a, b, c, d, x[i + 1], 5, -165796510); d = md5gg(d, a, b, c, x[i + 6], 9, -1069501632); c = md5gg(c, d, a, b, x[i + 11], 14, 643717713); b = md5gg(b, c, d, a, x[i], 20, -373897302); a = md5gg(a, b, c, d, x[i + 5], 5, -701558691); d = md5gg(d, a, b, c, x[i + 10], 9, 38016083); c = md5gg(c, d, a, b, x[i + 15], 14, -660478335); b = md5gg(b, c, d, a, x[i + 4], 20, -405537848); a = md5gg(a, b, c, d, x[i + 9], 5, 568446438); d = md5gg(d, a, b, c, x[i + 14], 9, -1019803690); c = md5gg(c, d, a, b, x[i + 3], 14, -187363961); b = md5gg(b, c, d, a, x[i + 8], 20, 1163531501); a = md5gg(a, b, c, d, x[i + 13], 5, -1444681467); d = md5gg(d, a, b, c, x[i + 2], 9, -51403784); c = md5gg(c, d, a, b, x[i + 7], 14, 1735328473); b = md5gg(b, c, d, a, x[i + 12], 20, -1926607734); a = md5hh(a, b, c, d, x[i + 5], 4, -378558); d = md5hh(d, a, b, c, x[i + 8], 11, -2022574463); c = md5hh(c, d, a, b, x[i + 11], 16, 1839030562); b = md5hh(b, c, d, a, x[i + 14], 23, -35309556); a = md5hh(a, b, c, d, x[i + 1], 4, -1530992060); d = md5hh(d, a, b, c, x[i + 4], 11, 1272893353); c = md5hh(c, d, a, b, x[i + 7], 16, -155497632); b = md5hh(b, c, d, a, x[i + 10], 23, -1094730640); a = md5hh(a, b, c, d, x[i + 13], 4, 681279174); d = md5hh(d, a, b, c, x[i], 11, -358537222); c = md5hh(c, d, a, b, x[i + 3], 16, -722521979); b = md5hh(b, c, d, a, x[i + 6], 23, 76029189); a = md5hh(a, b, c, d, x[i + 9], 4, -640364487); d = md5hh(d, a, b, c, x[i + 12], 11, -421815835); c = md5hh(c, d, a, b, x[i + 15], 16, 530742520); b = md5hh(b, c, d, a, x[i + 2], 23, -995338651); a = md5ii(a, b, c, d, x[i], 6, -198630844); d = md5ii(d, a, b, c, x[i + 7], 10, 1126891415); c = md5ii(c, d, a, b, x[i + 14], 15, -1416354905); b = md5ii(b, c, d, a, x[i + 5], 21, -57434055); a = md5ii(a, b, c, d, x[i + 12], 6, 1700485571); d = md5ii(d, a, b, c, x[i + 3], 10, -1894986606); c = md5ii(c, d, a, b, x[i + 10], 15, -1051523); b = md5ii(b, c, d, a, x[i + 1], 21, -2054922799); a = md5ii(a, b, c, d, x[i + 8], 6, 1873313359); d = md5ii(d, a, b, c, x[i + 15], 10, -30611744); c = md5ii(c, d, a, b, x[i + 6], 15, -1560198380); b = md5ii(b, c, d, a, x[i + 13], 21, 1309151649); a = md5ii(a, b, c, d, x[i + 4], 6, -145523070); d = md5ii(d, a, b, c, x[i + 11], 10, -1120210379); c = md5ii(c, d, a, b, x[i + 2], 15, 718787259); b = md5ii(b, c, d, a, x[i + 9], 21, -343485551); a = safeAdd(a, olda); b = safeAdd(b, oldb); c = safeAdd(c, oldc); d = safeAdd(d, oldd); } return [a, b, c, d]; } function binl2rstr(input) { var i; var output = \"\"; var length32 = input.length * 32; for (i = 0; i < length32; i += 8) { output += String.fromCharCode((input[i >> 5] >>> i % 32) & 0xff); } return output; } function rstr2binl(input) { var i; var output = []; output[(input.length >> 2) - 1] = undefined; for (i = 0; i < output.length; i += 1) { output[i] = 0; } var length8 = input.length * 8; for (i = 0; i < length8; i += 8) { output[i >> 5] |= (input.charCodeAt(i / 8) & 0xff) << i % 32; } return output; } function rstrMD5(s) { return binl2rstr(binlMD5(rstr2binl(s), s.length * 8)); } function rstrHMACMD5(key, data) { var i; var bkey = rstr2binl(key); var ipad = []; var opad = []; var hash; ipad[15] = opad[15] = undefined; if (bkey.length > 16) { bkey = binlMD5(bkey, key.length * 8); } for (i = 0; i < 16; i += 1) { ipad[i] = bkey[i] ^ 0x36363636; opad[i] = bkey[i] ^ 0x5c5c5c5c; } hash = binlMD5(ipad.concat(rstr2binl(data)), 512 + data.length * 8); return binl2rstr(binlMD5(opad.concat(hash), 512 + 128)); } function rstr2hex(input) { var hexTab = \"0123456789abcdef\"; var output = \"\"; var x; var i; for (i = 0; i < input.length; i += 1) { x = input.charCodeAt(i); output += hexTab.charAt((x >>> 4) & 0x0f) + hexTab.charAt(x & 0x0f); } return output; } function str2rstrUTF8(input) { return unescape(encodeURIComponent(input)); } function rawMD5(s) { return rstrMD5(str2rstrUTF8(s)); } function hexMD5(s) { return rstr2hex(rawMD5(s)); } function rawHMACMD5(k, d) { return rstrHMACMD5(str2rstrUTF8(k), str2rstrUTF8(d)); } function hexHMACMD5(k, d) { return rstr2hex(rawHMACMD5(k, d)); } function md5(string, key, raw) { if (!key) { if (!raw) { return hexMD5(string); } return rawMD5(string); } if (!raw) { return hexHMACMD5(key, string); } return rawHMACMD5(key, string); } exportTarget.md5 = md5; })(hashFunction); exportTarget.lcs_do = lcs_do; exportTarget.lcs_do_gdid = lcs_do_gdid; exportTarget.lcs_get_lpid = lcs_get_lpid; exportTarget.lcs_update_lpid = lcs_update_lpid; exportTarget.lcs_version = lcs_version; })(window); if (window.addEventListener) window.addEventListener(\"load\", function() { lcs_do({\"pid\": \"UfYrudprvxsssRLavjGssssstEV-227937\"}) }, false) ; else lcs_do({\"pid\": \"UfYrudprvxsssRLavjGssssstEV-227937\"}) ; </script> <script type=\"text/javascript\" src=\"https://ssl.pstatic.net/sstatic/sdyn.js?f=/au/pc/_nx/jindo_1.5.3_171116.js+/search/js/nhn.Component.js+/search/js/jindo.Component.1.1.0.js+/search/js/jindo.component.library_120927.js+/search/js/flashObject_121025.js+/au/pc/search_option/app_181122.js+/au/pc/naver_autocomplete/nhn.common.atcmp.naver_web_181127.js+/au/s/pc/_common/jindo/jindo.Rolling_140526.js+/au/pc/_common/nhn.common_181106.js+/au/pc/_nx/2017/nx_jquery_0622b.js+/au/pc/_nx/2019/nhn.common.ScriptErrorLogger.sauPc_0711a.js&amp;o=search\" crossorigin=\"anonymous\"></script> <script type=\"text/javascript\"> var displayControlFuncObject ; var displayControlObject = { renderCount : 0, func : function () { if (this.renderCount > 5) return ; var elem = $Element(\\'content\\') ; if (! elem) return ; var child = elem.child() ; for (var i = 0; i < child.length; i++) { if (child[i].hasClass(\\'section\\') && !child[i].hasClass(\\'nx_no_control\\')) { if (!child[i].visible()) child[i].show() ; } } if (this.renderCount++ > 5) displayControlFuncObject.detach(window, \\'scroll\\') ; } } ; displayControlFuncObject = $Fn(displayControlObject.func, displayControlObject) ; displayControlFuncObject.attach(window, \\'scroll\\') ; </script> <script> if (0 && nhn.common.ScriptErrorLogger) { nhn.common.ScriptErrorLogger.sauPcStart(); } function nx_add_event_handler (event, func) { $Fn(func).attach(document, event) ; } </script> <script type=\"text/javascript\"> function nx_form_submit (f) { if (g_D || 0) f.action = \"\" ; if (typeof naver.search.option !== \\'undefined\\' && naver.search.option.mson) naver.search.option.append_params(f) ; return true ; } </script><script type=\"text/javascript\"> var g_site = \"\" ; function document_write (s) { document.write(s) ; } function nx_social_toggle (o) { var l = $Element($(\"social_use\")) ; if (o || l.hasClass(\\'on\\')) l.removeClass(\\'on\\') ; else l.addClass(\\'on\\') ; } $Fn(function() { $Fn(function(e) { var link = $$.getSingle(\"div.social_layer\", document.body); if (link) { var el = e.element; var wel = $Element(el); elLink = $Element(link).$value(); if (!(link && (el == link || wel.isChildOf(link)))) { var l = $Element($(\"social_use\")) ; if (o || l.hasClass(\\'on\\')) l.removeClass(\\'on\\') ; } } }).attach(document.body, \"click\"); }).attach(window, \"load\"); nhn.jsLazyLoad = { include: function(a, b, c) { nx_js_lazyload(a, b, 0) ; } } ; nx_js_defer_load(\"https://ssl.pstatic.net/sstatic/au/s/pc/_others/nxtt/search_om.js\", function() {NXTT.div=document.getElementById(\"nxtt_div\");}, 50); </script></head> <body class=\\'\\'> <div id=nxtt_div style=\"display:none;position:absolute;border-width:0;z-index:11000\"></div> <div id=\"u_skip\"> <a href=\"#lnb\"><span>메뉴 영역으로 바로가기</span></a> <a href=\"#content\"><span>본문 영역으로 바로가기</span></a> </div> <div id=\"wrap\"> <div id=\"header_wrap\" role=\"heading\"> <div class=\"header_group\"> <div class=\"search_area\"> <h1><a href=\"https://www.naver.com\" onclick=\"return goOtherCR(this, \\'a=sta.naver&amp;r=&amp;i=&amp;u=\\'+urlencode(this.href));\" class=\"spnew logo_naver\">NAVER</a></h1> <form id=\"nx_search_form\" name=\"search\" action=\"?\" method=\"get\" role=\"search\" onsubmit=\"return nx_form_submit(this)\"> <fieldset class=\"greenwindow\"> <legend>검색</legend> <input type=\"hidden\" name=\"sm\" value=\"tab_hty.top\"> <input type=\"hidden\" name=\"where\" value=\"nexearch\"> <div class=\"greenbox\"> <span class=\"keyword\"> <input type=\"text\" id=\"nx_query\" name=\"query\" class=\"box_window\" maxlength=255 accesskey=\"s\" value=\"\" autocomplete=\"off\" title=\"검색어 입력\"> </span> </div> <input type=\"hidden\" name=\"oquery\" value=\"\"> <input type=\"hidden\" name=\"tqi\" value=\"UfYrudprvxsssRLavjGssssstEV-227937\"> <input type=\"hidden\" value=\"\" name=\"acq\" disabled> <input type=\"hidden\" value=\"\" name=\"acr\" disabled> <input type=\"hidden\" value=\"\" name=\"qdt\" disabled> <input type=\"hidden\" value=\"\" name=\"acir\" disabled> <input type=\"hidden\" value=\"\" name=\"os\" disabled> <input type=\"hidden\" value=\"\" name=\"bid\" disabled> <input type=\"hidden\" value=\"\" name=\"pkid\" disabled> <input type=\"hidden\" value=\"\" name=\"eid\" disabled> <input type=\"hidden\" value=\"\" name=\"mra\" disabled>       <div class=\"setkr_area\"> <!-- [D] 레이어 상태에 따라 title값 변화 필요 * 닫힌 경우 : title=\"한글 입력기 열기\" * 열린 경우 : title=\"한글 입력기 닫기\" --> <button id=\"ke_kbd_btn\" type=\"button\" class=\"bt_setkr\" title=\"한글 입력기 열기\" onclick=\"nx_ime_load(this);return tCR(\\'a=sch.ime\\');\"><span class=\"spnew ico_keyboard\">한글 입력기</span></button> <style type=\"text/css\" id=\"_nx_kbd_style\"></style><div id=\"_nx_kbd\" style=\"display:none;\"></div> </div> <!--@code lang=\"html\" title=\"[JS] 한글입력기 레이지 로딩 하거나 열기/닫기 수행.\"--> <script type=\"text/javascript\"> function nx_ime_load_fail () { alert(\"네트워크 상태가 안 좋아 한영입력기를 불러오지 못했습니다.\\\\n잠시 후 다시 시도해 주세요.\"); } function nx_ime_load (elBtn) { if (window.nx_kbd_toggle) { nx_kbd_toggle(elBtn); return; } new $Ajax(\"https://ssl.pstatic.net/sstatic/au/pc/ime/ime.contents_170920.js\", { type : \"jsonp\", timeout : 3, callbackid : \"$get_ime\", onload : function (res) { var oData = res.json(); if (oData) { var elStyle = $(\"_nx_kbd_style\"); oData.ime_css += \"#_nx_kbd .setkorhelp a { display:none; }\" ; if (elStyle.styleSheet) { elStyle.styleSheet.cssText = oData.ime_css; } else { elStyle.innerHTML = oData.ime_css; } $(\"_nx_kbd\").innerHTML = oData.ime_html; nx_js_lazyload(\"https://ssl.pstatic.net/sstatic/au/s/pc/_common/ime/nhn.ime_search_140825.js\", function () { nx_kbd_toggle(elBtn); }); } else { nx_ime_load_fail(); } }, ontimeout : nx_ime_load_fail, onerror : nx_ime_load_fail }).request(); } </script> <div id=\"nautocomplete\" class=\"autocomplete\"> <a href=\"#\" class=\"bt_atcp _btn_arw fold\" onclick=\"return false;\"><span class=\"blind _text\">자동완성 펼치기</span><span class=\"ico_arrow spnew\"></span></a> </div> <button type=\"submit\" class=\"bt_search\" onmouseover=\"$Element(this).addClass(\\'over\\');\" onmouseout=\"$Element(this).removeClass(\\'over down\\');\" onmousedown=\"$Element(this).removeClass(\\'over\\');$Element(this).addClass(\\'down\\');\"><span class=\"spnew ico_search\">검색</span></button> <div class=\"ly_atcmp\" id=\"nx_autoframe_top\" style=\"display:none;\"> <iframe frameborder=\"0\" title=\"빈프레임\" style=\"display:none;display:block\\\\9;display:block\\\\0/;position:absolute;top:-1px;left:-1px;z-index:-1;width:100%;height:100%;padding:1px;filter:alpha(opacity=0);opacity:0\"></iframe> <div class=\"api_atcmp_wrap _atcmp\" style=\"display:none;\"> <div class=\"words _words\"> <div class=\"_atcmp_result_wrap\"> <ul class=\"_resultBox\"></ul> <ul class=\"_resultBox\"></ul> <ul class=\"_resultBox\"></ul> <ul class=\"_resultBox\"></ul> </div> <div class=\"add_group _atcmp_answer_wrap\"></div> </div> <div class=\"atcmp_plus _plus\"> <span class=\"desc\"> <span class=\"plus_txt\">시간대와 관심사에 맞춘 <em class=\\'txt\\'>컨텍스트 자동완성</em></span> <a onclick=\"__atcmpCR(event, this, \\'plus.help\\', \\'\\',\\'\\',\\'\\');\" href=\"https://help.naver.com/support/alias/search/word/word_16.naver\" target=\"_blank\" class=\"spat ico_info\"><span class=\"blind\">도움말 보기</span></a> </span> <span class=\"switch _plus_btn\"> <a href=\"#\" class=\"btn_turnon active\" onclick=\"__atcmpCR(event, this, \\'plus.use\\', \\'\\',\\'\\',\\'\\');\">ON<span class=\"blind\">선택됨</span></a> <a href=\"#\" class=\"btn_turnoff\" onclick=\"__atcmpCR(event, this, \\'plus.unuse\\', \\'\\',\\'\\',\\'\\');\">OFF</a> </span> <div class=\"layer_plus _plusAlert\"> <strong class=\"tit\">컨텍스트 자동완성</strong> <div class=\"_logout\" style=\"display:block;\"> <p class=\"dsc\"><em class=\"txt\">동일한 시간대/연령/남녀별</em> 사용자 그룹의<br>관심사에 맞춰 자동완성을 제공합니다.</p> <div class=\"btn_area\"> <a onclick=\"__atcmpCR(event, this, \\'plus.login\\', \\'\\',\\'\\',\\'\\');\" href=\"https://nid.naver.com/nidlogin.login?url=https%3A%2F%2Fsearch.naver.com%2Fsearch.naver\" class=\"btn btn_login\">로그인</a> <a onclick=\"__atcmpCR(event, this, \\'plus.detail\\', \\'\\',\\'\\',\\'\\');\" href=\"https://help.naver.com/support/alias/search/word/word_16.naver\" target=\"_blank\" class=\"btn btn_view\">자세히</a> </div> </div> <div class=\"_login\" style=\"display:none;\"> <p class=\"dsc\">ON/OFF설정은<br>해당 기기(브라우저)에 저장됩니다.</p> <div class=\"btn_area\"> <a onclick=\"__atcmpCR(event, this, \\'plus.detail\\', \\'\\',\\'\\',\\'\\');\" href=\"https://help.naver.com/support/alias/search/word/word_21.naver\" target=\"_blank\" class=\"btn btn_view\">자세히</a> </div> </div> <button type=\"button\" class=\"btn_close _close\" onclick=\"__atcmpCR(event, this, \\'plus.close\\', \\'\\',\\'\\',\\'\\');\"><i class=\"spat ico_close\">컨텍스트 자동완성 레이어 닫기</i></button> </div> </div> <p class=\"func _atcmpBtnGroup\"><span class=\"fl\"><a class=\"_help\" onclick=\"__atcmpCR(event, this, \\'help\\', \\'\\',\\'\\',\\'\\');\" href=\"https://help.naver.com/support/alias/search/word/word_17.naver\" target=\"_blank\">도움말</a><span class=\"atcmp_bar\"></span><a onclick=\"__atcmpCR(event, this, \\'report\\', \\'\\',\\'\\',\\'\\');\" href=\"https://help.naver.com/support/alias/search/word/word_18.naver\" target=\"_blank\" class=\"report\">신고</a></span><span><em><a class=\"hisoff\" href=\"javascript:;\">검색어저장 켜기</a><span class=\"atcmp_bar\"></span></em><a class=\"funoff\" href=\"javascript:;\">자동완성 끄기</a></span></p> <span class=\"atcmp_helper _help_tooltip1\">기능을 다시 켤 때는 <em class=\"ico_search spat\">검색창 오른쪽 화살표 버튼</em>을 클릭하세요</span> </div> <div class=\"api_atcmp_wrap _atcmpIng\" style=\"display:none;\"> <div class=\"words\"><p class=\"info_words\">현재 자동완성 기능을 사용하고 계십니다.</p></div> <p class=\"func _atcmpBtnGroup\"><span class=\"fl\"><a class=\"_help\" onclick=\"__atcmpCR(event, this, \\'help\\', \\'\\',\\'\\',\\'\\');\" href=\"https://help.naver.com/support/alias/search/word/word_17.naver\" target=\"_blank\">도움말</a><span class=\"atcmp_bar\"></span><a onclick=\"__atcmpCR(event, this, \\'report\\', \\'\\',\\'\\',\\'\\');\" href=\"https://help.naver.com/support/alias/search/word/word_18.naver\" target=\"_blank\" class=\"report\">신고</a></span><span><em><a class=\"hisoff\" href=\"javascript:;\">검색어저장 켜기</a><span class=\"atcmp_bar\"></span></em><a class=\"funoff\" href=\"javascript:;\">자동완성 끄기</a></span></p> <span class=\"atcmp_helper _help_tooltip2\">기능을 다시 켤 때는 <em class=\"ico_search spat\">검색창 오른쪽 화살표 버튼</em>을 클릭하세요</span> </div> <div class=\"api_atcmp_wrap _atcmpStart\" style=\"display:none;\"> <div class=\"words\"><p class=\"info_words\">자동완성 기능이 활성화되었습니다.</p></div> <p class=\"func _atcmpBtnGroup\"><span class=\"fl\"><a class=\"_help\" onclick=\"__atcmpCR(event, this, \\'help\\', \\'\\',\\'\\',\\'\\');\" href=\"https://help.naver.com/support/alias/search/word/word_17.naver\" target=\"_blank\">도움말</a><span class=\"atcmp_bar\"></span><a onclick=\"__atcmpCR(event, this, \\'report\\', \\'\\',\\'\\',\\'\\');\" href=\"https://help.naver.com/support/alias/search/word/word_18.naver\" target=\"_blank\" class=\"report\">신고</a></span><span><em><a class=\"hisoff\" href=\"javascript:;\">검색어저장 켜기</a><span class=\"atcmp_bar\"></span></em><a class=\"funoff\" href=\"javascript:;\">자동완성 끄기</a></span></p> <span class=\"atcmp_helper _help_tooltip3\">기능을 다시 켤 때는 <em class=\"ico_search spat\">검색창 오른쪽 화살표 버튼</em>을 클릭하세요</span> </div> <div class=\"api_atcmp_wrap _atcmpOff\" style=\"display:none;\"> <div class=\"words\"><p class=\"info_words\">자동완성 기능이 꺼져 있습니다.</p></div> <p class=\"func _atcmpBtnGroup\"><span class=\"fl\"><a class=\"_help\" onclick=\"__atcmpCR(event, this, \\'help\\', \\'\\',\\'\\',\\'\\');\" href=\"https://help.naver.com/support/alias/search/word/word_17.naver\" target=\"_blank\">도움말</a><span class=\"atcmp_bar\"></span><a onclick=\"__atcmpCR(event, this, \\'report\\', \\'\\',\\'\\',\\'\\');\" href=\"https://help.naver.com/support/alias/search/word/word_18.naver\" target=\"_blank\" class=\"report\">신고</a></span><span><em><a class=\"hisoff\" href=\"javascript:;\">검색어저장 켜기</a><span class=\"atcmp_bar\"></span></em><a class=\"funoff\" href=\"javascript:;\">자동완성 켜기</a></span></p> </div> <div class=\"api_atcmp_wrap _keywords\" style=\"display:none;\"> <div class=\"my_words\"> <div class=\"lst_tab\"> <ul><li class=\"on _recentTab\"><a href=\"javascript:;\">최근검색어</a></li> <li class=\"_myTab\"><a href=\"javascript:;\">내 검색어</a></li></ul> </div> <div class=\"words _recent\"> <ul><li data-rank=\"@rank@\"><a class=\"t@my@ _star _myBtn\" title=\"내 검색어 등록\" href=\"javascript:;\"><em class=\"spat\">내 검색어 등록</em></a><a href=\"javascript:;\" class=\"keyword\">@txt@</a><em class=\"keyword_date\">@date@.</em><a href=\"javascript:;\" class=\"btn_delete spat _del\" title=\"검색어삭제\">삭제</a><span style=\"display:none\">@in_txt@</span></li></ul> <div class=\"info_words _recentNone\" style=\"display:none\">최근검색어 내역이 없습니다.</div> <p class=\"info_words _offMsg\" style=\"display:none\">검색어 저장 기능이 꺼져 있습니다.</p> </div> <div class=\"words _my\" style=\"display:none\"> <ul><li data-rank=\"@rank@\"><a class=\"ton _star _myBtn\" title=\"내 검색어 해제\" href=\"javascript:;\"><em class=\"spat\">내 검색어 해제</em></a><a href=\"javascript:;\" class=\"keyword\">@txt@</a></li></ul> <div class=\"info_words _myNone\" style=\"display:none\">설정된 내 검색어가 없습니다.<br>최근검색어에서 <span class=\"star spat\">내 검색어 등록</span>를 선택하여 자주 찾는 검색어를<br />내 검색어로 저장해 보세요.</div> <p class=\"info_words _offMsg\" style=\"display:none\">검색어 저장 기능이 꺼져 있습니다.</p> </div> <p class=\"noti _noti\" style=\"display:none\"><em class=\"ico_noti spat\"><span class=\"blind\">알림</span></em>공용 PC에서는 개인정보 보호를 위하여 반드시 로그아웃을 해 주세요.</p> <p class=\"func _recentBtnGroup\"><span class=\"fl\"><a class=\"_delMode\" href=\"javascript:;\">기록 삭제</a></span><span><a class=\"_keywordOff\" href=\"javascript:;\">검색어저장 끄기</a><span class=\"atcmp_bar\"></span><a class=\"_acOff\" href=\"javascript:;\">자동완성 끄기</a></span></p> <p class=\"func _recentDelBtnGroup\" style=\"display:none\"><span class=\"fl\"><a class=\"_delAll\" href=\"javascript:;\" title=\"최근 검색어 기록을 모두 삭제합니다.\">기록 전체 삭제</a></span><span><a class=\"_delDone\" href=\"javascript:;\">완료</a></span></p> <p class=\"func _myBtnGroup\" style=\"display:none\"><span class=\"fl\"><a class=\"_delAll\" href=\"javascript:;\" title=\"설정된 내 검색어를 모두 삭제합니다.\">기록 전체 삭제</a></span><span><a class=\"_keywordOff\" href=\"javascript:;\">검색어저장 끄기</a><span class=\"atcmp_bar\"></span><a class=\"_acOff\" href=\"javascript:;\">자동완성 끄기</a></span></p> <span class=\"atcmp_helper _help2\">기능을 다시 켤 때는 <em class=\"ico_search spat\">검색창 오른쪽 화살표 버튼</em>을 클릭하세요</span> <div class=\"ly_noti _maxLayer\" style=\"display:none\"> <span class=\"mask\"></span> <p><span class=\"ico_alert spat\"></span>내 검색어는 <em>최대 10</em>개 까지 저장할 수 있습니다.<br />추가하시려면 기존 내 검색어를 지워주세요. <a href=\"javascript:;\" class=\"btn_close _close\"><i class=\"spat ico_close\">닫기</i></a></p> </div> </div> </div> <div class=\"api_atcmp_wrap _alert\" style=\"display:none;\"> <div class=\"api_atcmp_alert\"> <span class=\"ico_alert spat\"></span> <p class=\"dsc_txt\"><em class=\"_passage\"></em><br> <a class=\"_link\" target=\"_blank\" href=\"\" onclick=\"return goOtherCR(this,\\'a=sug.vote&r=&i=&u=\\'+urlencode(this.href));\">자세히보기</a></p> </div> </div> </div> </fieldset> </form> </div> <div id=\"gnb\"> <script type=\"text/javascript\"> var gnb_option = { gnb_service : \"search\", gnb_template : \"gnb_utf8\", gnb_logout : encodeURIComponent(location.href), gnb_login : encodeURIComponent(location.href), gnb_brightness : 1 , gnb_item_hide_option : 0 } ; var gnb_url = \"https://ssl.pstatic.net/static.gn/templates/gnb_utf8.nhn\" ; nx_js_defer_load(gnb_url + \"?\" + headerfooter_time_year_s + headerfooter_time_month_s + headerfooter_time_day_s + headerfooter_time_hour_s, function() { getGNB() ; $Fn(function(we) { if (typeof gnbAllLayerClose == \"function\") { var bShowLayer = gnbUserLayer.show || gnbNaverMeLayer.show || gnbMoreLayer.show; var bClickGNBArea = $Element($$.getSingle(\"ul.gnb_lst\")).isEqual(we.element) || $Element($$.getSingle(\"ul.gnb_lst\")).isParentOf(we.element); if (bShowLayer && !bClickGNBArea) { gnbAllLayerClose(); } } }, this).attach(document, \"click\"); }, 0) ; </script> </div> </div><script> var nx_usain_beacon = function() { var sent = 0; var tags = []; var sampling = 1 ; (function addUagentInfo() { var nav = jindo.$Agent().navigator(); if (nav.version) { var version = \"\"; var vers = (nav.version + \"\").split(\\'.\\'); version = vers[0]; if (version > 0) { tags.push(\\'ua.\\' + nav.getName() + \\'.\\' + version); } } })(); var usain_obj = { send: function() { if (sent > 0) { return; } sent = 1; if( tags.length > 1 ) sampling = 0 ; if(sampling) { return; } setTimeout(function() { var perf = \"\" ; perf = (function () { function _(t) { return (t?(t-window.performance.timing.navigationStart):0); } ; if (typeof(window.performance) == \"undefined\"){ return \"\"} if (typeof(window.performance.timing) == \"undefined\"){ return \"\"} if (typeof(window.performance.navigation) == \"undefined\"){ return \"\"} var t = window.performance.timing ; var n = window.performance.navigation ; return \"navt=\" + [_(t.navigationStart), _(t.unloadEventStart), _(t.unloadEventEnd), _(t.redirectStart), _(t.redirectEnd), _(t.fetchStart), _(t.domainLookupStart), _(t.domainLookupEnd), _(t.connectStart), _(t.connectEnd), _(t.requestStart), _(t.responseStart), _(t.responseEnd), _(t.domLoading), _(t.domInteractive), _(t.domContentLoadedEventStart), _(t.domContentLoadedEventEnd), _(t.domComplete), _(t.loadEventStart), _(t.loadEventEnd), n.type, n.redirectCount].join(\":\") ; }) () ; if (document.location.protocol === \\'https:\\') { tags.push(\\'_ssl\\'); } else { tags.push(\\'_nossl\\'); } tags.push(\\'p_\\' + \\'http/1.1\\') ; var queries = []; if (perf) { queries.push(perf); } queries.push(\"tags=\" + tags.join(\":\") ); var u = new Image() ; u.src = \"https://er.search.naver.com/er?v=2&\" + queries.join(\"&\"); u.onload = function() { u.onload = null ; } }, 250); }, add_tag: function(tag) { tags.push(tag); } }; return usain_obj; }(); </script> <div id=\"lnb\" tabindex=\"0\"> <div class=\"lnb_group\"><div class=\"lnb_menu\"> <ul class=\"base\"> <li class=\"lnb0\"><a href=\"//search.naver.com/search.naver?where=nexearch&amp;sm=tab_jum&amp;query=\" onclick=\"return goOtherCR(this,\\'a=tab*N.now&amp;r=1&amp;i=&amp;u=\\'+urlencode(this.href));\" class=\"tab on\"><span class=\"spnew name\">통합검색</span></a></li><li class=\"lnb3\"><a href=\"?where=post&amp;sm=tab_jum&amp;query=\" onclick=\"return goOtherCR(this,\\'a=tab*b.jmp&amp;r=2&amp;i=&amp;u=\\'+urlencode(this.href))\" class=\"tab\"><span class=\"spnew name\">블로그</span></a></li><li class=\"lnb2\"><a href=\"?where=image&amp;sm=tab_jum&amp;query=\" onclick=\"return goOtherCR(this,\\'a=tab*i.jmp&amp;r=3&amp;i=&amp;u=\\'+urlencode(this.href));\" class=\"tab\"><span class=\"spnew name\">이미지</span></a></li><li class=\"lnb5\"><a href=\"?where=kin&amp;sm=tab_jum&amp;query=\" onclick=\"return goOtherCR(this,\\'a=tab*k.jmp&amp;r=4&amp;i=&amp;u=\\'+urlencode(this.href));\" class=\"tab\"><span class=\"spnew name\">지식iN</span></a></li><li class=\"lnb6\"><a href=\"?where=article&amp;sm=tab_jum&amp;query=\" onclick=\"return goOtherCR(this,\\'a=tab*c.jmp&amp;r=5&amp;i=&amp;u=\\'+urlencode(this.href));\" class=\"tab\"><span class=\"spnew name\">카페</span></a></li><li class=\"lnb1\"><a href=\"?where=video&amp;sm=tab_jum&amp;query=\" onclick=\"return goOtherCR(this,\\'a=tab*v.jmp&amp;r=6&amp;i=&amp;u=\\'+urlencode(this.href));\" class=\"tab\"><span class=\"spnew name\">동영상</span></a></li><li class=\"lnb12\"><a href=\"https://search.shopping.naver.com/search/all.nhn?where=all&amp;frm=NVSCTAB&amp;query=\" onclick=\"return goOtherCR(this,\\'a=tab*S.jmp&amp;r=7&i=&amp;u=\\'+urlencode(this.href));\" class=\"tab\" target=\"_blank\"><span class=\"spnew name\">쇼핑</span><i class=\"spnew ico_window\">새창</i></a></li><li class=\"lnb4\"><a href=\"?where=news&amp;sm=tab_jum&amp;query=\" onclick=\"return goOtherCR(this,\\'a=tab*n.jmp&amp;r=8&amp;i=&amp;u=\\'+urlencode(this.href));\" class=\"tab\"><span class=\"spnew name\">뉴스</span></a></li></ul> <div id=\"_nx_lnb_more\" class=\"more_area\"> <a href=\"#\" class=\"lnb_more\" onclick=\"jQuery(\\'#_nx_lnb_more\\').toggleClass(\\'more_on\\'); tCR(jQuery(\\'#_nx_lnb_more\\').hasClass(\\'more_on\\') ? \\'a=tab.more\\' : \\'a=tmr.less\\'); return false;\"><span class=\"spnew name\">더보기</span></a> <div class=\"addon\"> <iframe frameborder=\"0\" title=\"빈프레임\" style=\"display:none;display:block\\\\9;display:block\\\\0/;position:absolute;top:-1px;left:-1px;z-index:-1;width:100%;height:100%;padding:1px;filter:alpha(opacity=0);opacity:0\"></iframe> <ul><li class=\"lnb7\"><a href=\"?where=realtime&amp;sm=tab_jum&amp;query=\" onclick=\"return goOtherCR(this,\\'a=tmr*r.jmp&amp;r=1&amp;i=&amp;u=\\'+urlencode(this.href));\" class=\"tab\"><span class=\"spnew name\">실시간검색</span></a></li><li class=\"lnb8\"><a href=\"https://dict.naver.com/search.nhn?dicQuery=&amp;query=&amp;target=dic&amp;query_utf=&amp;isOnlyViewEE=\" onclick=\"return goOtherCR(this,\\'a=tmr*L.jmp&amp;r=2&amp;i=&amp;u=\\'+urlencode(this.href));\" class=\"tab\" target=\"_blank\"><span class=\"spnew name\">어학사전</span><i class=\"spnew ico_window\">새창</i></a></li><li class=\"lnb13\"><a href=\"https://map.naver.com/local/search.nhn?query=\" onclick=\"return goOtherCR(this,\\'a=tmr*M.jmp&amp;r=3&amp;i=&amp;u=\\'+urlencode(this.href));\" class=\"tab\" target=\"_blank\"><span class=\"spnew name\">지도</span><i class=\"spnew ico_window\">새창</i></a></li><li class=\"lnb15\"><a href=\"https://book.naver.com/search/search.nhn?query=\" onclick=\"return goOtherCR(this,\\'a=tmr*B.jmp&amp;r=4&amp;i=&amp;u=\\'+urlencode(this.href));\" class=\"tab\" target=\"_blank\"><span class=\"spnew name\">책</span><i class=\"spnew ico_window\">새창</i></a></li><li class=\"lnb21\"><a href=\"?where=webkr&amp;sm=tab_jum&amp;query=\" onclick=\"return goOtherCR(this,\\'a=tmr*w.jmp&amp;r=5&amp;i=&amp;u=\\'+urlencode(this.href));\" class=\"tab\"><span class=\"spnew name\">웹사이트</span></a></li><li class=\"lnb10\"><a href=\"?where=kdic&amp;sm=tab_jum&amp;query=\" onclick=\"return goOtherCR(this,\\'a=tmr*K.jmp&amp;r=6&amp;i=&amp;u=\\'+urlencode(this.href));\" class=\"tab\"><span class=\"spnew name\">지식백과</span></a></li><li class=\"lnb16\"><a href=\"https://academic.naver.com/search.naver?field=0&amp;query=\" onclick=\"return goOtherCR(this,\\'a=tmr*a.jmp&amp;r=7&amp;i=&amp;u=\\'+urlencode(this.href));\" class=\"tab\" target=\"_blank\"><span class=\"spnew name\">학술정보</span><i class=\"spnew ico_window\">새창</i></a></li><li class=\"lnb14\"><a href=\"https://music.naver.com/search/search.nhn?query=\" onclick=\"return goOtherCR(this,\\'a=tmr*m.jmp&amp;r=8&amp;i=&amp;u=\\'+urlencode(this.href));\" class=\"tab\" target=\"_blank\"><span class=\"spnew name\">뮤직</span><i class=\"spnew ico_window\">새창</i></a></li><li class=\"lnb20\"><a href=\"https://m.post.naver.com/search/post.nhn?keyword=\" onclick=\"return goOtherCR(this,\\'a=tmr*p.jmp&amp;r=9&amp;i=&amp;u=\\'+urlencode(this.href));\" class=\"tab\" target=\"_blank\"><span class=\"spnew name\">포스트</span><i class=\"spnew ico_window\">새창</i></a></li> </ul> </div> </div> <a href=\"#\" id=\"_search_option_btn\" class=\"bt_option\" onclick=\"return tCR(\\'a=fno.option\\');\" title=\"검색옵션 열기\">검색옵션<span class=\"spnew ico_arrow\"></span></a> </div><div class=\"lnb_util\"> <ul class=\"list_util\"> <li> <a href=\"https://help.naver.com/support/alias/search/integration/integration_1.naver\" onclick=\"return goOtherCR(this, \\'u=\\'+urlencode(this.href)+\\'&amp;a=fno.help&amp;r=&amp;i=\\'); return false;\" class=\"bt_help\" target=\"_blank\"><span class=\"spnew ico_help\">도움말</span></a> </li> <li> <a href=\"https://help.naver.com/support/alias/search/integration/integration_2.naver\" onclick=\"return goOtherCR(this, \\'u=\\'+urlencode(this.href)+\\'&amp;a=fno.origin&amp;r=&amp;i=\\'); return false;\" class=\"bt_origin\" target=\"_blank\"><span class=\"spnew ico_origin\">원본반영</span></a> </li> <li> <a href=\"#\" id=\"spiButton2\" class=\"bt_share naver-splugin\" onclick=\"return tCR(\\'a=fno.pplugin\\');\" data-evkey=\"search\" data-service-name=\"통합검색\" data-style=\"unity-v2\" data-use-short-url=\"on\" data-me-display=\"off\" data-mail-display=\"off\" data-option=\"{baseElement:\\'spiButton2\\', layerPosition:\\'outside-bottom\\', align:\\'right\\', top:4, left:0, marginLeft:8, marginTop:10}\" data-blog-url=\"https://search.naver.com/search.naver?sm=svc_pin.blog\" data-cafe-url=\"https://search.naver.com/search.naver?sm=svc_pin.cafe\" data-cafe-source-form=\"2\" data-memo-url=\"https://search.naver.com/search.naver?sm=svc_pin.memo\" data-calendar-url=\"https://search.naver.com/search.naver?sm=svc_pin.cal\" data-twitter-url=\"https://search.naver.com/search.naver?sm=twp_pin\" data-facebook-url=\"https://search.naver.com/search.naver?sm=fbp_pin\" data-band-url=\"https://search.naver.com/search.naver?sm=bdp_pin\" title=\"보내기 열기/닫기\"><span class=\"spnew naver-splugin-c ico_share\"></span><span class=\"blind\">보내기</span></a> </li> </ul> </div><script type=\"text/javascript\"> nx_js_defer_load(\"https://ssl.pstatic.net/spi/js/release/ko_KR/splugin.js?\" + headerfooter_time_year_s + headerfooter_time_month_s + headerfooter_time_day_s, function() { g_nx_splugin = SocialPlugIn_Core({ \"evKey\" : \"search\", \"serviceName\" : \"통합검색\" }) ; }, 150) ; function splugin_oninitialize(sTargetId) { var elTarget = document.getElementById(sTargetId) ; var sUrl = $$.getSingle(\\'a._sp_each_url\\', elTarget ).href ; var sTitle = $Element($$.getSingle(\\'._sp_each_title\\', elTarget)).text() ; var sSource = $Element($$.getSingle(\\'._sp_each_source\\', elTarget)) ; if (sSource) sSource = sSource.text() ; return { \"url\" : sUrl, \"title\" : sTitle, \"option\" : {baseElement:sTargetId + \\'_base\\', layerPosition:\\'outside-bottom\\', align:\\'right\\', top:18, left:-28, marginLeft:8, marginTop:10}, \"me\" : { display : \"off\" }, \"mail\" : { display : \"off\" }, \"sourceName\" : sSource } ; } </script><script> nx_js_defer_load(\"//search.like.naver.com/static/js/likeIt.list.js?\" + headerfooter_time_year_s + headerfooter_time_month_s + headerfooter_time_day_s, function() { nhn.LikeIt.list.util.init({ sId : \"SEARCH\", sDomain : \"//search.like.naver.com\", bMobile : false }) ; }, 150) ; </script></div> </div><script type=\"text/javascript\"> naver.search.option = {} ; naver.search.option.mson = 0 ; naver.search.option.params = {} ; naver.search.option.append_params = (function () { return function (f) { for (var k in naver.search.option.params) { var v = naver.search.option.params[k] ; var input = document.createElement(\"input\"); input.type = \"hidden\"; input.name = k ; input.value = v ; f.appendChild(input); } return true ; } ; })() ; naver.search.option.get_params = (function () { return function () { var option_params = \"\" ; if (naver.search.option.mson) { for (var k in naver.search.option.params) { var v = naver.search.option.params[k] ; option_params = option_params.concat(\"&\" + k + \"=\" + urlencode(v)) ; } } return option_params ; } ; })() ; function nx_set_option_switch (on) { var o_on = $Element(\"nx_option_mson\") ; var o_off = $Element(\"nx_option_msoff\") ; var ton ; var toff ; var domain = \"search.naver.com\" ; if (on) { ton = o_on ; toff = o_off ; if (1) naver.search.option.mson = 2 ; else naver.search.option.mson = 1 ; nx_set_cookie(\"nx_mson\", naver.search.option.mson, null, domain) ; } else { ton = o_off ; toff = o_on ; naver.search.option.mson = 0 ; nx_set_cookie(\"nx_mson\", \"\", new Date(new Date().getTime() - 86400), domain) ; } if (!ton.hasClass(\"on\")) { ton.html(ton.text() + \\'<span class=\"blind\">(선택됨)</span>\\') ; ton.addClass(\"on\") ; } if (toff.hasClass(\"on\")) { var c = toff.child()[0] ; if (c) toff.remove(c) ; toff.removeClass(\"on\") ; } } </script><div id=\"snb\" style=\"display:none;\"> <div class=\"snb_inner\"> <ul class=\"option_menu\"><li class=\"menu\"> <a href=\"#\" class=\"m\" onclick=\"return tCR(\\'a=fno.sortlink\\');\" id=\"_nx_search_option_sort_link\">정렬<span class=\"spim\"></span></a> <div class=\"snb_itembox\"> <iframe frameborder=\"0\" title=\"빈프레임\" style=\"display:none;display:block\\\\9;display:block\\\\0/;position:absolute;top:-1px;left:-1px;z-index:-1;width:100%;height:100%;padding:1px;filter:alpha(opacity=0);opacity:0\"></iframe> <ul class=\"lst_choice\"> <li id=\"_nx_option_sort_relevance\"><a href=\"#\" onclick=\"nx_searchOptionSelect(\\'so\\', \\'r\\'); return false;\">관련도순</a></li> <li id=\"_nx_option_sort_date\"><a href=\"#\" onclick=\"nx_searchOptionSelect(\\'so\\', \\'dd\\'); return false;\">최신순</a></li> </ul> </div> </li> <li class=\"menu\"> <a href=\"#\" class=\"m\" onclick=\"return tCR(\\'a=fno.datelink\\');\" id=\"_nx_search_option_date_link\">기간<span class=\"spim\"></span></a> <div id=\"_nx_option_date\" class=\"snb_itembox\"> <iframe frameborder=\"0\" title=\"빈프레임\" style=\"display:none;display:block\\\\9;display:block\\\\0/;position:absolute;top:-1px;left:-1px;z-index:-1;width:100%;height:100%;padding:1px;filter:alpha(opacity=0);opacity:0\"></iframe> <ul class=\"lst_choice\"> <li id=\"_nx_option_period_all\"><a href=\"#\" onclick=\"nx_searchOptionSelect(\\'p\\', \\'all\\'); return false;\">전체</a></li> <li id=\"_nx_option_period_1d\"><a href=\"#\" onclick=\"nx_searchOptionSelect(\\'p\\', \\'1d\\'); return false;\">1일</a></li> <li id=\"_nx_option_period_1w\"><a href=\"#\" onclick=\"nx_searchOptionSelect(\\'p\\', \\'1w\\'); return false;\">1주</a></li> <li id=\"_nx_option_period_1m\"><a href=\"#\" onclick=\"nx_searchOptionSelect(\\'p\\', \\'1m\\'); return false;\">1개월</a></li> <li id=\"_nx_option_period_1y\"><a href=\"#\" onclick=\"nx_searchOptionSelect(\\'p\\', \\'1y\\'); return false;\">1년</a></li> </ul> <div class=\"item_option set_calendar\"> <p class=\"tit\">직접입력</p> <div class=\"input_box _input_box_start\"> <input type=\"text\" title=\"검색기간 시작일\" value=\"\" class=\"input_txt _input_start\" id=\"_nx_date_from\"> <a href=\"#\" class=\"spim _btn_start\" onclick=\"return tCR(\\'a=fno.datecalenderopen\\');\">달력 레이어 호출</a> </div> <div class=\"input_box _input_box_end\"> <input type=\"text\" title=\"검색기간 종료일\" value=\"\" class=\"input_txt _input_end\" id=\"_nx_date_to\"> <a href=\"#\" class=\"spim _btn_end\" onclick=\"return tCR(\\'a=fno.datecalenderopen\\');\">달력 레이어 호출</a> </div> <div class=\"ly_option_alert _alert_layer\" style=\"top:127px; display:none;\">잘못된 날짜형식입니다.<br> <em>(yyy.mm.dd)</em><span class=\"spim arrow\" style=\"left:101px;\"></span></div> <span class=\"btn_inp\"><button class=\"_btn_submit\" type=\"button\"><span class=\"tx\">적용하기</span></button></span> </div> </div> </li> <li class=\"menu\"> <a href=\"#\" class=\"m\" onclick=\"return tCR(\\'a=fno.alink\\');\" id=\"_nx_search_option_area_link\">영역<span class=\"spim\"></span></a> <div class=\"snb_itembox\"> <iframe frameborder=\"0\" title=\"빈프레임\" style=\"display:none;display:block\\\\9;display:block\\\\0/;position:absolute;top:-1px;left:-1px;z-index:-1;width:100%;height:100%;padding:1px;filter:alpha(opacity=0);opacity:0\"></iframe> <ul class=\"lst_choice\"> <li id=\"_nx_option_area_all\"><a href=\"#\" onclick=\"nx_searchOptionSelect(\\'a\\', \\'all\\'); return false;\">전체</a></li> <li id=\"_nx_option_area_title\"><a href=\"#\" onclick=\"nx_searchOptionSelect(\\'a\\', \\'t\\'); return false;\">제목</a></li> </ul> </div> </li> <li class=\"option_keep\"> <div class=\"option_choice\"> 옵션유지 <span class=\"option\"> <button id=\"nx_option_msoff\" type=\"button\" onclick=\"nx_set_option_switch(false); return tCR(\\'a=fno.msoff\\');\">꺼짐</button><button id=\"nx_option_mson\" type=\"button\" onclick=\"nx_set_option_switch(true); return tCR(\\'a=fno.mson\\');\">켜짐</button> </span> <span class=\"bar\"></span> </div> </li><script type=\"text/javascript\"> nx_set_option_switch(naver.search.option.mson) ; var nx_opt_sort = \\'r\\' ; var nx_opt_period = \\'all\\' ; var nx_opt_area = \\'all\\' ; var nx_opt_sm_def = \\'tab_opt\\' ; function nx_searchOptionSelect (type, value) { var sm = undefined ; var cr_area = \"\" ; if (type == \\'so\\') { sm = \\'tab_srt\\' ; switch (value) { case \\'dd\\' : nx_opt_sort = value ; cr_area = \\'fno.sortdate\\' ; break ; case \\'r\\' : default : nx_opt_sort = \\'r\\' ; cr_area = \\'fno.sortsim\\' ; break ; } }else if (type == \\'p\\') { switch (value) { case \\'1d\\' : nx_opt_period = value ; cr_area = \\'fno.dateoneday\\' ; break ; case \\'1w\\' : nx_opt_period = value ; cr_area = \\'fno.dateoneweek\\' ; break ; case \\'1m\\' : nx_opt_period = value ; cr_area = \\'fno.dateonemonth\\' ; break ; case \\'1y\\' : nx_opt_period = value ; cr_area = \\'fno.dateoneyear\\' ; break ; case \\'all\\' : default : nx_opt_period = \\'all\\' ; cr_area = \\'fno.dateperiodall\\' ; break ; case \\'direct\\' : var from = document.getElementById(\\'_nx_date_from\\') ; var to = document.getElementById(\\'_nx_date_to\\') ; if (!from.value) { from.value = \\'1990.01.01\\' ; } if (!to.value) { var d = new Date(); to.value = d.getFullYear() + \\'.\\' + ((d.getMonth()+1) < 10 ? \"0\" : \"\") + (d.getMonth()+1) + \\'.\\' + (d.getDate() < 10 ? \"0\" : \"\") + d.getDate() ; } var from_val = from.value.replace(/\\\\./g, \\'\\') ; var to_val = to.value.replace(/\\\\./g, \\'\\') ; if (from_val > to_val) { var tmp_val = from_val ; from_val = to_val ; to_val = tmp_val ; } nx_opt_period=\\'from\\' + from_val + \\'to\\' + to_val ; cr_area = \\'fno.datecustomapply\\' ; break ; } } else if (type == \\'a\\') { switch (value) { case \\'t\\' : nx_opt_area = value ; cr_area = \\'fno.areafieldtit\\' ; break ; case \\'all\\' : default : nx_opt_area = \\'all\\' ; cr_area = \\'fno.areafieldall\\' ; break ; } } else { alert(\\'Invalid option!\\') ; } nx_searchOptionSubmit(cr_area, sm) ; } function nx_searchOptionSubmit (area, s) { var sm = (s == undefined ? nx_opt_sm_def : s) ; var nso = \\'so:\\' + nx_opt_sort + \\',p:\\' + nx_opt_period + \\',a:\\' + nx_opt_area ; var formElem = document.getElementById(\\'nx_search_form\\') ; naver.search.option.params[\"nso\"] = nso ; naver.search.option.append_params(formElem) ; formElem.sm.value = urlencode(sm) ; formCR(\\'nx_search_form\\', area) ; } function nx_searchOptionReset () { var formElem = document.getElementById(\\'nx_search_form\\') ; formElem.query.value = headerfooter_query ; formElem.sm.value = urlencode(nx_opt_sm_def) ; formCR(\\'nx_search_form\\', \\'opt.default\\') ; } function nx_searchOptionConvertPeriodFormat (val) { switch (val) { case \\'1d\\' : return \"1day\" ; case \\'1w\\' : return \"1week\" ; case \\'1m\\' : return \"1month\" ; case \\'1y\\' : return \"1year\" ; case \\'all\\' : return \"all\" ; default : return \"all\" ; } } var start_year = headerfooter_time_year ; var start_month = headerfooter_time_month ; var start_day = headerfooter_time_day ; var end_year = headerfooter_time_year ; var end_month = headerfooter_time_month ; var end_day = headerfooter_time_day ; function nx_set_strong (elem) { elem.addClass(\\'selected\\') ; elem.first().appendHTML(\\'<span class=\"blind\">선택됨</span>\\') ; } function nx_searchOptionInit () { var elem ; if (nx_opt_sort == \\'dd\\') { elem = $Element(\\'_nx_option_sort_date\\') ; if (elem) $Element(\\'_nx_search_option_sort_link\\').html(elem.first().text() + \\'<span class=\"spim\"></span>\\') ; } else { elem = $Element(\\'_nx_option_sort_relevance\\') ; } if (elem) nx_set_strong(elem) ; if (nx_opt_area == \\'t\\') { elem = $Element(\\'_nx_option_area_title\\') ; if (elem) $Element(\\'_nx_search_option_area_link\\').html(elem.first().text() + \\'<span class=\"spim\"></span>\\') ; } else { elem = $Element(\\'_nx_option_area_all\\') ; } if (elem) nx_set_strong(elem) ; if (nx_opt_period == \\'all\\') { elem = $Element(\\'_nx_option_period_all\\') ; } else if (nx_opt_period.match(\\'^from\\') == \\'from\\') { var period_start = nx_opt_period.replace(/^from/g, \\'\\').replace(/to.*$/g,\\'\\') ; var period_end = nx_opt_period.replace(/^from[0-9]*to/g, \\'\\') ; period_start = period_start.replace(/(....)(..)(..)/g, \\'$1-$2-$3\\') ; period_end = period_end.replace(/(....)(..)(..)/g, \\'$1-$2-$3\\') ; $Element(\\'_nx_search_option_date_link\\').html(period_start + \\' -\\' + period_end + \\'<span class=\"spim\"></span>\\') ; } else { elem = $Element(\\'_nx_option_period_\\' + nx_opt_period) ; if (elem) $Element(\\'_nx_search_option_date_link\\').html(elem.first().text() + \\'<span class=\"spim\"></span>\\') ; } if (elem) nx_set_strong(elem) ; else { result = nx_opt_period.match(/^from(\\\\d{4})(\\\\d{2})(\\\\d{2})to(\\\\d{4})(\\\\d{2})(\\\\d{2})/) ; if (result && result.length >= 6) { start_year = result[1] ; start_month = result[2] ; start_day = result[3] ; end_year = result[4] ; end_month = result[5] ; end_day = result[6] ; } } } nx_searchOptionInit() ; </script><li class=\"menu\"> <a href=\"#\" class=\"m\" onclick=\"return tCR(\\'a=fno.dtslink\\');\">상세검색<span class=\"spim\"></span></a> <div id=\"_nx_option_detail\" class=\"snb_itembox ly_detailsch\"> <iframe frameborder=\"0\" title=\"빈프레임\" style=\"display:none;display:block\\\\9;display:block\\\\0/;position:absolute;top:-1px;left:-1px;z-index:-1;width:100%;height:100%;padding:1px;filter:alpha(opacity=0);opacity:0\"></iframe> <div class=\"sch_inner\"> <div class=\"sctitle_txt scroll _preview\"></div> <div class=\"sch_data\"> <dl class=\"sch_option\"> <dt><label for=\"inpop0\">기본검색</label></dt> <dd> <div class=\"inp_op\"><input type=\"text\" id=\"inpop0\" title=\"기본검색어 입력\" class=\"_base\"></div> <p class=\"rule_check\"><input type=\"checkbox\" id=\"rch\" class=\"incr _or\" onclick=\"tCR(\\'a=fno.dtsors\\');\"><label for=\"rch\">입력한 단어가 하나이상 포함된 문서 검색</label></p> </dd> </dl> <dl class=\"sch_option more_sch\"> <dt><label for=\"inpop1\">상세검색</label></dt> <dd> <div class=\"inp_op\"><input type=\"text\" id=\"inpop1\" class=\"_exact\"><label for=\"inpop1\" class=\"_placeholder_exact\">정확히 일치하는 단어/문장(\" \")</label></div> <div class=\"inp_op\"><input type=\"text\" id=\"inpop2\" class=\"_include\"><label for=\"inpop2\" class=\"_placeholder_include\">반드시 포함하는 단어(+)</label></div> <div class=\"inp_op\"><input type=\"text\" id=\"inpop3\" class=\"_exclude\"><label for=\"inpop3\" class=\"_placeholder_exclude\">제외하는 단어(-)</label></div> <div class=\"tx_area\"> <p class=\"tx_noti\">기본검색의 결과 범위를 줄이고자 할 때 사용합니다.<br>여러개의 단어를 입력하실 때는<span class=\"tx\">쉼표(,)</span>로 구분해서 입력하세요.</p> </div> </dd> </dl> </div> <div class=\"sch_foot\"> <a href=\"https://help.naver.com/support/alias/search/integration/integration_4.naver\" target=\"_blank\" class=\"btn_help\" onclick=\"return goOtherCR(this, \\'u=\\'+urlencode(this.href)+\\'&amp;a=fno.dtshelp\\');\">도움말</a> <a href=\"#\" class=\"btn_initial _reset\" onclick=\"return tCR(\\'a=fno.dtsclear\\');\">초기화</a> <button class=\"btn_ft ty_green _search\" onclick=\"return tCR(\\'a=fno.dtssrch\\');\"><span>검색</span></button><button class=\"btn_ft _close\" onclick=\"return tCR(\\'a=fno.dtsclose\\');\"><span>닫기</span></button> </div> </div> </div> </li></ul> </div> </div> <script type=\"text/javascript\"> /* 검색옵션 모듈 생성 */ var oNXSearchOption = new nhn.SearchOption($(\\'_search_option_btn\\'), $(\\'snb\\'), {open:false}); </script><script> /* 검색옵션 - 상세검색 - !!상세 옵션이 있는 탭에서만 생성해주세요. */ new nhn.SearchOption.Detail( $(\"_nx_option_detail\"), { s_base: \"\", b_or: false, a_exact: [], a_include: [], a_exclude: [] } ); </script><div class=\"op_calendar _date_option_calendar_layer\"> <div class=\"h_cal\"> <strong class=\"calendar-title\">2014.04</strong> <a class=\"bt_pv2 calendar-btn-prev-year\" href=\"#\" onclick=\"return tCR(\\'a=fno.datecalendercheck\\');\" title=\"이전 년도\"><span>이전 년도</span></a> <a class=\"bt_pv calendar-btn-prev-mon\" href=\"#\" onclick=\"return tCR(\\'a=fno.datecalendercheck\\');\" title=\"이전 달\"><span>이전 달</span></a> <a class=\"bt_nx calendar-btn-next-mon\" href=\"#\" onclick=\"return tCR(\\'a=fno.datecalendercheck\\');\" title=\"다음 달\"><span>다음 달</span></a> <a class=\"bt_nx2 calendar-btn-next-year\" href=\"#\" onclick=\"return tCR(\\'a=fno.datecalendercheck\\');\" title=\"다음 년도\"><span>다음 년도</span></a> </div> <div class=\"cal_date\"> <table cellspacing=\"0\" cellpadding=\"0\"> <caption class=\"blind\">기간 설정 달력</caption> <thead> <tr> <th scope=\"col\">일</th> <th scope=\"col\">월</th> <th scope=\"col\">화</th> <th scope=\"col\">수</th> <th scope=\"col\">목</th> <th scope=\"col\">금</th> <th scope=\"col\">토</th> </tr> </thead> <tbody> <tr class=\"calendar-week\"> <td> <a href=\"#\" class=\"calendar-date\" onclick=\"return tCR(\\'a=fno.datecalendercheck\\');\"></a> </td> <td> <a href=\"#\" class=\"calendar-date\" onclick=\"return tCR(\\'a=fno.datecalendercheck\\');\"></a> </td> <td> <a href=\"#\" class=\"calendar-date\" onclick=\"return tCR(\\'a=fno.datecalendercheck\\');\"></a> </td> <td> <a href=\"#\" class=\"calendar-date\" onclick=\"return tCR(\\'a=fno.datecalendercheck\\');\"></a> </td> <td> <a href=\"#\" class=\"calendar-date\" onclick=\"return tCR(\\'a=fno.datecalendercheck\\');\"></a> </td> <td> <a href=\"#\" class=\"calendar-date\" onclick=\"return tCR(\\'a=fno.datecalendercheck\\');\"></a> </td> <td> <a href=\"#\" class=\"calendar-date\" onclick=\"return tCR(\\'a=fno.datecalendercheck\\');\"></a> </td> </tr> </tbody> </table> </div> <p class=\"today _footer\"><span>오늘날짜</span><a href=\"#\" class=\"_today\" onclick=\"return tCR(\\'a=fno.datecalendertoday\\');\"></a> </p> <a class=\"ly_close _close\" href=\"#\" onclick=\"return tCR(\\'a=fno.datecalenderclose\\');\"> <img src=\"https://ssl.pstatic.net/sstatic/keypage/lifesrch/sports/img2010/bt_ly_close.gif\" width=\"11\" height=\"11\" alt=\"닫기\"> </a> </div><script> /* 검색옵션 - 기간 - !!기간 옵션이 있는 탭에서만 생성해주세요.!! */ $Fn(function () { new nhn.SearchOption.Date( $(\"_nx_option_date\"), { /* 적용 버튼 혹은 enter 키 입력시 호출되는 함수 */ fSubmit: function(p) { if (p) { nx_searchOptionSelect(\\'p\\', \\'direct\\'); } else { return tCR(\\'a=opt.periodinputapply\\'); } }, htCalendar: { /* 시작일을 나타내는 캘린더의 초기 설정될 날짜 값 */ htStartDate: {nYear: start_year,nMonth: start_month,nDate: start_day}, /* 종료일을 나타내는 캘린더의 초기 설정될 날짜 값 */ htEndDate: {nYear: end_year,nMonth: end_month,nDate: end_day}, /* 유효한 날짜 범위중 최소 날짜 (예. 1990.1.1) */ htMinDate: {nYear: 1990,nMonth: 1,nDate: 1}, /* 유효한 날짜 범위중 최대 날짜 (예. 오늘날자) */ htMaxDate: {nYear: headerfooter_time_year,nMonth: headerfooter_time_month,nDate: headerfooter_time_day}, /* 오늘날자 */ htTodayDate: {nYear: headerfooter_time_year,nMonth: headerfooter_time_month,nDate: headerfooter_time_day,nDay: headerfooter_time_wday} } } ); }).attach(window, \"load\") ; </script><script type=\"text/javascript\"> $Fn(function (we) { var el = we.element, elLnbMore = $(\"_nx_lnb_more\"); if (el != elLnbMore && !$Element(elLnbMore).isParentOf(el)) { $Element(\\'_nx_lnb_more\\').removeClass(\\'more_on\\'); } }).attach(document, \"click\"); </script></div><script type=\"text/javascript\"> var nx_location_rcode = \"09290125\" ; </script><div id=\"container\" role=\"main\"> <div id=\"content\" class=\"pack_group\"> <h1 class=\"blind\"> 통합검색 결과</h1> <div id=\"main_pack\" class=\"main_pack\"><script>g_crt+=\"\";</script>\\n<div id=\"notfound\" class=\"noresult_type3\"> <div class=\"not_found02\"> <p><em>\\'\\'</em>에 대한 검색결과가 없습니다.</p>  <ul> <li>단어의 철자가 정확한지 확인해 보세요.</li> <li>한글을 영어로 혹은 영어를 한글로 입력했는지 확인해 보세요.</li> <li>검색어의 단어 수를 줄이거나, 보다 일반적인 검색어로 다시 검색해 보세요.</li> <li>두 단어 이상의 검색어인 경우, 띄어쓰기를 확인해 보세요. <a href=\"//search.naver.com/search.naver?sm=tab_nex&amp;where=nexearch&amp;query=%EB%84%A4%EC%9D%B4%EB%B2%84+%EB%A7%9E%EC%B6%A4%EB%B2%95+%EA%B2%80%EC%82%AC%EA%B8%B0\" onclick=\"return goOtherCR(this, \\'a=nrs.naverlab&amp;r=&amp;i=&amp;u=\\'+urlencode(this.href))\">네이버 맞춤법 검사기</a></li> <li>검색 옵션을 변경해서 다시 검색해 보세요.</li> </ul> </div> </div></div><div id=\"sub_pack\" class=\"sub_pack\"><div id=\"_missingChildren\" style=\"display:none;\"></div> <script type=\"text/javascript\"> nx_js_lazyload(\"https://ssl.pstatic.net/sstatic/au/s/pc/_search/noresult_missing_children/nhn.search.noresult.missing_children_150428.js\" , function () { new nhn.search.noresult.missing_children.AddOnToSub(jindo.$(\"_missingChildren\"), { sAPI : \"https://m.search.naver.com/p/csearch/content/qapirender.nhn?display=1&pkid=176&q=%EC%8B%A4%EC%A2%85%EC%95%84%EB%8F%99&start=0&where=nexearch\", htRequestOption : { timeout : 3 } }) ; }) ; </script><div id=\"nxfr_htp\" class=\"z_aside section\"> <div class=\"section_head\"><h2>뉴스토픽</h2></div> <div class=\"realtime_srch _aside_news_tab\"> <div class=\"hotkwd\"> <ul class=\"api_realtime_tab _tab\"> <li class=\"selected\" data-blind-text=\"뉴스토픽 뉴스\" data-index=\"0\"><a href=\"#\" onclick=\"return tCR(\\'htk.nws\\', 1, \\'\\');\">뉴스</a></li> <li data-blind-text=\"뉴스토픽 연예·스포츠\" data-index=\"1\"><a href=\"#\" onclick=\"return tCR(\\'htk.ents\\', 1, \\'\\');\">연예·스포츠</a></li> </ul> </div> <h6 class=\"blind _blind\">뉴스토픽 뉴스</h6> <ol class=\"lst_realtime_srch _tab_area\"><li><a href=\"//search.naver.com/search.naver?where=nexearch&sm=tab_htk.nws&ie=utf8&query=%EC%98%A4%EB%8A%98+%EB%AF%B8%EC%84%B8%EB%A8%BC%EC%A7%80+%EB%86%8D%EB%8F%84\" class=\"bx bx_item\" onclick=\"return goOtherCR(this, \\'a=htk.nwslist&r=1&i=&u=\\'+urlencode(urlexpand(this.href)));\"><span class=\"keyword\"><em class=\"num\">1</em><span class=\"tit\">오늘 미세먼지 농도</span></span><em class=\"rank new\"><span class=\"spim\"></span><span>NEW</span></em></a></li><li><a href=\"//search.naver.com/search.naver?where=nexearch&sm=tab_htk.nws&ie=utf8&query=%EC%A0%84%EA%B5%AD+%EA%B3%B3%EA%B3%B3+%EB%B9%84+%EC%86%8C%EC%8B%9D\" class=\"bx bx_item\" onclick=\"return goOtherCR(this, \\'a=htk.nwslist&r=2&i=&u=\\'+urlencode(urlexpand(this.href)));\"><span class=\"keyword\"><em class=\"num\">2</em><span class=\"tit\">전국 곳곳 비 소식</span></span><em class=\"rank new\"><span class=\"spim\"></span><span>NEW</span></em></a></li><li><a href=\"//search.naver.com/search.naver?where=nexearch&sm=tab_htk.nws&ie=utf8&query=%EA%B4%91%EC%A3%BC+%EC%88%98%EC%98%81%EB%8C%80%ED%9A%8C\" class=\"bx\" onclick=\"return goOtherCR(this, \\'a=htk.nwslist&r=3&i=&u=\\'+urlencode(urlexpand(this.href)));\"><span class=\"keyword\"><em class=\"num\">3</em><span class=\"tit\">광주 수영대회</span></span></a></li><li><a href=\"//search.naver.com/search.naver?where=nexearch&sm=tab_htk.nws&ie=utf8&query=%EB%A7%89%EB%A7%90+%EB%85%BC%EB%9E%80+%EC%A0%84%EA%B4%91%ED%9B%88\" class=\"bx bx_item\" onclick=\"return goOtherCR(this, \\'a=htk.nwslist&r=4&i=&u=\\'+urlencode(urlexpand(this.href)));\"><span class=\"keyword\"><em class=\"num\">4</em><span class=\"tit\">막말 논란 전광훈</span></span><em class=\"rank new\"><span class=\"spim\"></span><span>NEW</span></em></a></li><li><a href=\"//search.naver.com/search.naver?where=nexearch&sm=tab_htk.nws&ie=utf8&query=%ED%8E%9C%EC%8A%A4%EB%A3%B0+%EB%85%BC%EB%9E%80+%EA%B0%95%EC%82%AC+%EA%B0%95%EC%9D%98%EB%B0%B0%EC%A0%9C\" class=\"bx bx_item\" onclick=\"return goOtherCR(this, \\'a=htk.nwslist&r=5&i=&u=\\'+urlencode(urlexpand(this.href)));\"><span class=\"keyword\"><em class=\"num\">5</em><span class=\"tit\">펜스룰 논란 강사 강의배제</span></span><em class=\"rank new\"><span class=\"spim\"></span><span>NEW</span></em></a></li><li><a href=\"//search.naver.com/search.naver?where=nexearch&sm=tab_htk.nws&ie=utf8&query=%EC%97%AC%EC%95%BC+3%EB%8B%B9+%EC%9B%90%EB%82%B4%EB%8C%80%ED%91%9C\" class=\"bx bx_item\" onclick=\"return goOtherCR(this, \\'a=htk.nwslist&r=6&i=&u=\\'+urlencode(urlexpand(this.href)));\"><span class=\"keyword\"><em class=\"num\">6</em><span class=\"tit\">여야 3당 원내대표</span></span><em class=\"rank new\"><span class=\"spim\"></span><span>NEW</span></em></a></li><li><a href=\"//search.naver.com/search.naver?where=nexearch&sm=tab_htk.nws&ie=utf8&query=%EC%98%A4%EB%8A%98+%EC%9A%B4%EC%84%B8\" class=\"bx\" onclick=\"return goOtherCR(this, \\'a=htk.nwslist&r=7&i=&u=\\'+urlencode(urlexpand(this.href)));\"><span class=\"keyword\"><em class=\"num\">7</em><span class=\"tit\">오늘 운세</span></span></a></li><li><a href=\"//search.naver.com/search.naver?where=nexearch&sm=tab_htk.nws&ie=utf8&query=%EC%B5%9C%EC%A0%80%EC%9E%84%EA%B8%88+1%EB%A7%8C%EC%9B%90+%EA%B3%B5%EC%95%BD\" class=\"bx\" onclick=\"return goOtherCR(this, \\'a=htk.nwslist&r=8&i=&u=\\'+urlencode(urlexpand(this.href)));\"><span class=\"keyword\"><em class=\"num\">8</em><span class=\"tit\">최저임금 1만원 공약</span></span></a></li><li><a href=\"//search.naver.com/search.naver?where=nexearch&sm=tab_htk.nws&ie=utf8&query=%EA%B2%BD%EC%B0%B0+%EC%8B%9C%EC%9C%84%EB%8C%80+%EC%B6%A9%EB%8F%8C\" class=\"bx bx_item\" onclick=\"return goOtherCR(this, \\'a=htk.nwslist&r=9&i=&u=\\'+urlencode(urlexpand(this.href)));\"><span class=\"keyword\"><em class=\"num\">9</em><span class=\"tit\">경찰 시위대 충돌</span></span><em class=\"rank new\"><span class=\"spim\"></span><span>NEW</span></em></a></li><li><a href=\"//search.naver.com/search.naver?where=nexearch&sm=tab_htk.nws&ie=utf8&query=%EC%A7%81%EC%9E%A5+%EB%82%B4+%EA%B4%B4%EB%A1%AD%ED%9E%98+%EA%B8%88%EC%A7%80%EB%B2%95\" class=\"bx bx_item\" onclick=\"return goOtherCR(this, \\'a=htk.nwslist&r=10&i=&u=\\'+urlencode(urlexpand(this.href)));\"><span class=\"keyword\"><em class=\"num\">10</em><span class=\"tit\">직장 내 괴롭힘 금지법</span></span><em class=\"rank new\"><span class=\"spim\"></span><span>NEW</span></em></a></li></ol> <ol class=\"lst_realtime_srch _tab_area\" style=\"display:none;\"><li><a href=\"//search.naver.com/search.naver?where=nexearch&sm=tab_htk.ent&ie=utf8&query=%EA%B9%80%EC%84%B8%EC%98%81+%EB%A7%88%EB%9D%BC%ED%86%A4+%ED%81%B4%EB%9E%98%EC%8B%9D+%EC%9A%B0%EC%8A%B9\" class=\"bx bx_item\" onclick=\"return goOtherCR(this, \\'a=htk.entslist&r=1&i=&u=\\'+urlencode(urlexpand(this.href)));\"><span class=\"keyword\"><em class=\"num\">1</em><span class=\"tit\">김세영 마라톤 클래식 우승</span></span><em class=\"rank new\"><span class=\"spim\"></span><span>NEW</span></em></a></li><li><a href=\"//search.naver.com/search.naver?where=nexearch&sm=tab_htk.ent&ie=utf8&query=%EC%9E%A5%EC%9C%A4%EC%A0%95+%EC%A7%91\" class=\"bx\" onclick=\"return goOtherCR(this, \\'a=htk.entslist&r=2&i=&u=\\'+urlencode(urlexpand(this.href)));\"><span class=\"keyword\"><em class=\"num\">2</em><span class=\"tit\">장윤정 집</span></span></a></li><li><a href=\"//search.naver.com/search.naver?where=nexearch&sm=tab_htk.ent&ie=utf8&query=2019+%EC%9C%94%EB%B8%94%EB%8D%98\" class=\"bx bx_item\" onclick=\"return goOtherCR(this, \\'a=htk.entslist&r=3&i=&u=\\'+urlencode(urlexpand(this.href)));\"><span class=\"keyword\"><em class=\"num\">3</em><span class=\"tit\">2019 윔블던</span></span><em class=\"rank new\"><span class=\"spim\"></span><span>NEW</span></em></a></li><li><a href=\"//search.naver.com/search.naver?where=nexearch&sm=tab_htk.ent&ie=utf8&query=%EC%A7%91%EC%82%AC%EB%B6%80%EC%9D%BC%EC%B2%B4+%EC%9E%A5%EC%9C%A4%EC%A0%95\" class=\"bx\" onclick=\"return goOtherCR(this, \\'a=htk.entslist&r=4&i=&u=\\'+urlencode(urlexpand(this.href)));\"><span class=\"keyword\"><em class=\"num\">4</em><span class=\"tit\">집사부일체 장윤정</span></span></a></li><li><a href=\"//search.naver.com/search.naver?where=nexearch&sm=tab_htk.ent&ie=utf8&query=%EC%BA%A0%ED%95%91%ED%81%B4%EB%9F%BD+%ED%95%91%ED%81%B4\" class=\"bx\" onclick=\"return goOtherCR(this, \\'a=htk.entslist&r=5&i=&u=\\'+urlencode(urlexpand(this.href)));\"><span class=\"keyword\"><em class=\"num\">5</em><span class=\"tit\">캠핑클럽 핑클</span></span></a></li><li><a href=\"//search.naver.com/search.naver?where=nexearch&sm=tab_htk.ent&ie=utf8&query=%EC%9D%B4%ED%9A%A8%EB%A6%AC+%EC%9D%B4%EC%A7%84\" class=\"bx\" onclick=\"return goOtherCR(this, \\'a=htk.entslist&r=6&i=&u=\\'+urlencode(urlexpand(this.href)));\"><span class=\"keyword\"><em class=\"num\">6</em><span class=\"tit\">이효리 이진</span></span></a></li><li><a href=\"//search.naver.com/search.naver?where=nexearch&sm=tab_htk.ent&ie=utf8&query=%EC%97%AC%EC%A7%84%EA%B5%AC+%EC%9D%B4%EC%A7%80%EC%9D%80\" class=\"bx bx_item\" onclick=\"return goOtherCR(this, \\'a=htk.entslist&r=7&i=&u=\\'+urlencode(urlexpand(this.href)));\"><span class=\"keyword\"><em class=\"num\">7</em><span class=\"tit\">여진구 이지은</span></span><em class=\"rank new\"><span class=\"spim\"></span><span>NEW</span></em></a></li><li><a href=\"//search.naver.com/search.naver?where=nexearch&sm=tab_htk.ent&ie=utf8&query=%EB%B3%B4%EC%A2%8C%EA%B4%80+%EA%B9%80%EB%8F%99%EC%A4%80\" class=\"bx\" onclick=\"return goOtherCR(this, \\'a=htk.entslist&r=8&i=&u=\\'+urlencode(urlexpand(this.href)));\"><span class=\"keyword\"><em class=\"num\">8</em><span class=\"tit\">보좌관 김동준</span></span></a></li><li><a href=\"//search.naver.com/search.naver?where=nexearch&sm=tab_htk.ent&ie=utf8&query=%EC%84%A0%EC%9A%B0%EC%84%A0-%EC%9D%B4%EC%88%98%EB%AF%BC+%EA%B2%B0%ED%98%BC\" class=\"bx bx_item\" onclick=\"return goOtherCR(this, \\'a=htk.entslist&r=9&i=&u=\\'+urlencode(urlexpand(this.href)));\"><span class=\"keyword\"><em class=\"num\">9</em><span class=\"tit\">선우선-이수민 결혼</span></span><em class=\"rank new\"><span class=\"spim\"></span><span>NEW</span></em></a></li><li><a href=\"//search.naver.com/search.naver?where=nexearch&sm=tab_htk.ent&ie=utf8&query=%ED%8E%98%EB%8D%94%EB%9F%AC+%EA%BA%BE%EA%B3%A0+%EC%9C%94%EB%B8%94%EB%8D%98+2%EC%97%B0%ED%8C%A8\" class=\"bx\" onclick=\"return goOtherCR(this, \\'a=htk.entslist&r=10&i=&u=\\'+urlencode(urlexpand(this.href)));\"><span class=\"keyword\"><em class=\"num\">10</em><span class=\"tit\">페더러 꺾고 윔블던 2연패</span></span></a></li></ol><div class=\"realtime_srch_area\"><p class=\"dsc\"><time>2019.07.15. 05:30 ~ 08:30</time> 기준 <a href=\"https://help.naver.com/support/alias/search/word/word_3.naver\" target=\"_blank\" class=\"link_rts_help\" onclick=\"return goOtherCR(this, \\'a=htk.guide&r=&i=&u=\\'+urlencode(this.href));\"><i class=\"sprenew api_ico_help2\">도움말</i></a></p></div> </div> </div> <script type=\"text/javascript\"> (function() { var sJavascriptFile = \"https://ssl.pstatic.net/sstatic/au/pc/realtime_keyword/nhn.aside_keyword_tab_181127.js\"; var fnCallback = function() { new nhn.AsideKeywordTab($$.getSingle(\"._aside_news_tab\")); }; if (typeof(nxrtrank) == \"undefined\") nx_js_defer_load(\"https://ssl.pstatic.net/sstatic/au/pc/realtime_keyword/nhn.nxrtrank_150610.js\", function() {nx_js_lazyload(sJavascriptFile, fnCallback, 1);}, 150) ; else nx_js_defer_load(sJavascriptFile, fnCallback, 300) ; }()); </script> </div><div class=\"ly_dimmed\"></div> </div> </div><div id=\"footer\"> <div class=\"footer_group\"> <div class=\"sub_pack_btm\"> <a href=\"#\" class=\"top\" onclick=\"window.scrollTo(0,0); document.querySelector(\\'#wrap a\\').focus(); return false;\"><span class=\"spim\"></span>맨위로</a> </div> <div class=\"search_area\"><div id=\"_nx_footer_realtime\" class=\"realtime_srch_rolling\"> <h3 class=\"tit_rts\">급상승 검색어 <a href=\"https://help.naver.com/support/alias/search/word/word_5.naver\" target=\"_blank\" class=\"link_rts_help\" onclick=\"return goOtherCR(this, \\'a=fkc_def.guide&r=&i=&u=\\'+urlencode(this.href));\"><i class=\"sprenew api_ico_help2\">도움말</i></a></h3> <div class=\"realtime_srch _roling_realtime\"> <ol class=\"lst_realtime_srch\"> <li> <span class=\"bx bx_item _link\" title=\"슈퍼스타아이\"> <a href=\"//search.naver.com/search.naver?where=nexearch&sm=tab_lvf.allnow&ie=utf8&query=%EC%8A%88%ED%8D%BC%EC%8A%A4%ED%83%80%EC%95%84%EC%9D%B4\" class=\"keyword\" onclick=\"return goOtherCR(this, \\'a=fkc_def.list&r=1&i=&u=\\'+urlencode(this.href));\"> <em class=\"num\">1</em> <span class=\"tit _text\">슈퍼스타아이</span> </a> </span> </li> <li> <span class=\"bx bx_item _link\" title=\"류현진 중계\"> <a href=\"//search.naver.com/search.naver?where=nexearch&sm=tab_lvf.allnow&ie=utf8&query=%EB%A5%98%ED%98%84%EC%A7%84+%EC%A4%91%EA%B3%84\" class=\"keyword\" onclick=\"return goOtherCR(this, \\'a=fkc_def.list&r=2&i=&u=\\'+urlencode(this.href));\"> <em class=\"num\">2</em> <span class=\"tit _text\">류현진 중계</span> </a> </span> </li> <li> <span class=\"bx bx_item _link\" title=\"용담섬바위\"> <a href=\"//search.naver.com/search.naver?where=nexearch&sm=tab_lvf.allnow&ie=utf8&query=%EC%9A%A9%EB%8B%B4%EC%84%AC%EB%B0%94%EC%9C%84\" class=\"keyword\" onclick=\"return goOtherCR(this, \\'a=fkc_def.list&r=3&i=&u=\\'+urlencode(this.href));\"> <em class=\"num\">3</em> <span class=\"tit _text\">용담섬바위</span> </a> </span> </li> <li> <span class=\"bx bx_item _link\" title=\"위메프투어 이스타항공\"> <a href=\"//search.naver.com/search.naver?where=nexearch&sm=tab_lvf.allnow&ie=utf8&query=%EC%9C%84%EB%A9%94%ED%94%84%ED%88%AC%EC%96%B4+%EC%9D%B4%EC%8A%A4%ED%83%80%ED%95%AD%EA%B3%B5\" class=\"keyword\" onclick=\"return goOtherCR(this, \\'a=fkc_def.list&r=4&i=&u=\\'+urlencode(this.href));\"> <em class=\"num\">4</em> <span class=\"tit _text\">위메프투어 이스타항공</span> </a> </span> </li> <li> <span class=\"bx bx_item _link\" title=\"캠핑클럽\"> <a href=\"//search.naver.com/search.naver?where=nexearch&sm=tab_lvf.allnow&ie=utf8&query=%EC%BA%A0%ED%95%91%ED%81%B4%EB%9F%BD\" class=\"keyword\" onclick=\"return goOtherCR(this, \\'a=fkc_def.list&r=5&i=&u=\\'+urlencode(this.href));\"> <em class=\"num\">5</em> <span class=\"tit _text\">캠핑클럽</span> </a> </span> </li> <li> <span class=\"bx bx_item _link\" title=\"이진\"> <a href=\"//search.naver.com/search.naver?where=nexearch&sm=tab_lvf.allnow&ie=utf8&query=%EC%9D%B4%EC%A7%84\" class=\"keyword\" onclick=\"return goOtherCR(this, \\'a=fkc_def.list&r=6&i=&u=\\'+urlencode(this.href));\"> <em class=\"num\">6</em> <span class=\"tit _text\">이진</span> </a> </span> </li> <li> <span class=\"bx bx_item _link\" title=\"성유리\"> <a href=\"//search.naver.com/search.naver?where=nexearch&sm=tab_lvf.allnow&ie=utf8&query=%EC%84%B1%EC%9C%A0%EB%A6%AC\" class=\"keyword\" onclick=\"return goOtherCR(this, \\'a=fkc_def.list&r=7&i=&u=\\'+urlencode(this.href));\"> <em class=\"num\">7</em> <span class=\"tit _text\">성유리</span> </a> </span> </li> <li> <span class=\"bx bx_item _link\" title=\"핑클\"> <a href=\"//search.naver.com/search.naver?where=nexearch&sm=tab_lvf.allnow&ie=utf8&query=%ED%95%91%ED%81%B4\" class=\"keyword\" onclick=\"return goOtherCR(this, \\'a=fkc_def.list&r=8&i=&u=\\'+urlencode(this.href));\"> <em class=\"num\">8</em> <span class=\"tit _text\">핑클</span> </a> </span> </li> <li> <span class=\"bx bx_item _link\" title=\"로로벨\"> <a href=\"//search.naver.com/search.naver?where=nexearch&sm=tab_lvf.allnow&ie=utf8&query=%EB%A1%9C%EB%A1%9C%EB%B2%A8\" class=\"keyword\" onclick=\"return goOtherCR(this, \\'a=fkc_def.list&r=9&i=&u=\\'+urlencode(this.href));\"> <em class=\"num\">9</em> <span class=\"tit _text\">로로벨</span> </a> </span> </li> <li> <span class=\"bx bx_item _link\" title=\"이효리\"> <a href=\"//search.naver.com/search.naver?where=nexearch&sm=tab_lvf.allnow&ie=utf8&query=%EC%9D%B4%ED%9A%A8%EB%A6%AC\" class=\"keyword\" onclick=\"return goOtherCR(this, \\'a=fkc_def.list&r=10&i=&u=\\'+urlencode(this.href));\"> <em class=\"num\">10</em> <span class=\"tit _text\">이효리</span> </a> </span> </li> <li> <span class=\"bx bx_item _link\" title=\"옥주현\"> <a href=\"//search.naver.com/search.naver?where=nexearch&sm=tab_lvf.allnow&ie=utf8&query=%EC%98%A5%EC%A3%BC%ED%98%84\" class=\"keyword\" onclick=\"return goOtherCR(this, \\'a=fkc_def.list&r=11&i=&u=\\'+urlencode(this.href));\"> <em class=\"num\">11</em> <span class=\"tit _text\">옥주현</span> </a> </span> </li> <li> <span class=\"bx bx_item _link\" title=\"이진 남편\"> <a href=\"//search.naver.com/search.naver?where=nexearch&sm=tab_lvf.allnow&ie=utf8&query=%EC%9D%B4%EC%A7%84+%EB%82%A8%ED%8E%B8\" class=\"keyword\" onclick=\"return goOtherCR(this, \\'a=fkc_def.list&r=12&i=&u=\\'+urlencode(this.href));\"> <em class=\"num\">12</em> <span class=\"tit _text\">이진 남편</span> </a> </span> </li> <li> <span class=\"bx bx_item _link\" title=\"이진 결혼\"> <a href=\"//search.naver.com/search.naver?where=nexearch&sm=tab_lvf.allnow&ie=utf8&query=%EC%9D%B4%EC%A7%84+%EA%B2%B0%ED%98%BC\" class=\"keyword\" onclick=\"return goOtherCR(this, \\'a=fkc_def.list&r=13&i=&u=\\'+urlencode(this.href));\"> <em class=\"num\">13</em> <span class=\"tit _text\">이진 결혼</span> </a> </span> </li> <li> <span class=\"bx bx_item _link\" title=\"롯데백화점 휴무일\"> <a href=\"//search.naver.com/search.naver?where=nexearch&sm=tab_lvf.allnow&ie=utf8&query=%EB%A1%AF%EB%8D%B0%EB%B0%B1%ED%99%94%EC%A0%90+%ED%9C%B4%EB%AC%B4%EC%9D%BC\" class=\"keyword\" onclick=\"return goOtherCR(this, \\'a=fkc_def.list&r=14&i=&u=\\'+urlencode(this.href));\"> <em class=\"num\">14</em> <span class=\"tit _text\">롯데백화점 휴무일</span> </a> </span> </li> <li> <span class=\"bx bx_item _link\" title=\"장윤정 집\"> <a href=\"//search.naver.com/search.naver?where=nexearch&sm=tab_lvf.allnow&ie=utf8&query=%EC%9E%A5%EC%9C%A4%EC%A0%95+%EC%A7%91\" class=\"keyword\" onclick=\"return goOtherCR(this, \\'a=fkc_def.list&r=15&i=&u=\\'+urlencode(this.href));\"> <em class=\"num\">15</em> <span class=\"tit _text\">장윤정 집</span> </a> </span> </li> <li> <span class=\"bx bx_item _link\" title=\"la다저스\"> <a href=\"//search.naver.com/search.naver?where=nexearch&sm=tab_lvf.allnow&ie=utf8&query=la%EB%8B%A4%EC%A0%80%EC%8A%A4\" class=\"keyword\" onclick=\"return goOtherCR(this, \\'a=fkc_def.list&r=16&i=&u=\\'+urlencode(this.href));\"> <em class=\"num\">16</em> <span class=\"tit _text\">la다저스</span> </a> </span> </li> <li> <span class=\"bx bx_item _link\" title=\"통모짜와퍼\"> <a href=\"//search.naver.com/search.naver?where=nexearch&sm=tab_lvf.allnow&ie=utf8&query=%ED%86%B5%EB%AA%A8%EC%A7%9C%EC%99%80%ED%8D%BC\" class=\"keyword\" onclick=\"return goOtherCR(this, \\'a=fkc_def.list&r=17&i=&u=\\'+urlencode(this.href));\"> <em class=\"num\">17</em> <span class=\"tit _text\">통모짜와퍼</span> </a> </span> </li> <li> <span class=\"bx bx_item _link\" title=\"바에즈\"> <a href=\"//search.naver.com/search.naver?where=nexearch&sm=tab_lvf.allnow&ie=utf8&query=%EB%B0%94%EC%97%90%EC%A6%88\" class=\"keyword\" onclick=\"return goOtherCR(this, \\'a=fkc_def.list&r=18&i=&u=\\'+urlencode(this.href));\"> <em class=\"num\">18</em> <span class=\"tit _text\">바에즈</span> </a> </span> </li> <li> <span class=\"bx bx_item _link\" title=\"캠핑카렌트\"> <a href=\"//search.naver.com/search.naver?where=nexearch&sm=tab_lvf.allnow&ie=utf8&query=%EC%BA%A0%ED%95%91%EC%B9%B4%EB%A0%8C%ED%8A%B8\" class=\"keyword\" onclick=\"return goOtherCR(this, \\'a=fkc_def.list&r=19&i=&u=\\'+urlencode(this.href));\"> <em class=\"num\">19</em> <span class=\"tit _text\">캠핑카렌트</span> </a> </span> </li> <li> <span class=\"bx bx_item _link\" title=\"집사부일체\"> <a href=\"//search.naver.com/search.naver?where=nexearch&sm=tab_lvf.allnow&ie=utf8&query=%EC%A7%91%EC%82%AC%EB%B6%80%EC%9D%BC%EC%B2%B4\" class=\"keyword\" onclick=\"return goOtherCR(this, \\'a=fkc_def.list&r=20&i=&u=\\'+urlencode(this.href));\"> <em class=\"num\">20</em> <span class=\"tit _text\">집사부일체</span> </a> </span> </li> <li class=\"_dummy_first\"> <span class=\"bx bx_item _link\" title=\"슈퍼스타아이\"> <a href=\"//search.naver.com/search.naver?where=nexearch&sm=tab_lvf.allnow&ie=utf8&query=%EC%8A%88%ED%8D%BC%EC%8A%A4%ED%83%80%EC%95%84%EC%9D%B4\" class=\"keyword\" onclick=\"return goOtherCR(this, \\'a=fkc_def.list&r=20&i=&u=\\'+urlencode(this.href));\"> <em class=\"num\">1</em> <span class=\"tit _text\">슈퍼스타아이</span> </a> </span> </li> </ol> </div> <div class=\"ly_realtime_srch v2 _tab_chart\" id=\"nxfr_brlayer\" style=\"height:385px\"> <div class=\"tab_realtime_srch _tab\"> <ul role=\"tablist\"> <li class=\"selected\" data-index=\"0\"><a href=\"#\" onclick=\"return tCR(\\'fkc.tabrkl\\', 1, \\'\\');\" role=\"tab\">급상승 검색어</a></li> <li data-index=\"1\"><a href=\"#\" onclick=\"return tCR(\\'fkc.tabhtk\\', 1, \\'\\');\" role=\"tab\">뉴스토픽</a></li> </ul> </div> <div class=\"tab_area _tab_area _tabRealtime\" style=\"display: block;\"> <h3 class=\"blind\">급상승 검색어</h3> <div class=\"group_ranking\"> <div class=\"hotkwd\"> <ul class=\"api_realtime_tab _realtime_tab\"> <li class=\"selected\" data-index=\"0\" data-blind-text=\"급상승 검색어 1~10위\"><a href=\"#\" onclick=\"return tCR(\\'fkc_rkl.lefttab\\', 1, \\'\\');\">1~10위</a></li> <li data-index=\"1\" data-blind-text=\"급상승 검색어 11~20위\"><a href=\"#\" onclick=\"return tCR(\\'fkc_rkl.righttab\\', 1, \\'\\');\">11~20위</a></li> </ul> </div> <h6 class=\"blind _blind_realtime\">급상승 검색어 1~10위</h6> <ol class=\"lst_realtime_srch _realtime_tab_area\"> <li > <span class=\"bx bx_item _link\" title=\"슈퍼스타아이\"> <a href=\"//search.naver.com/search.naver?where=nexearch&sm=tab_lvf.allnow&ie=utf8&query=%EC%8A%88%ED%8D%BC%EC%8A%A4%ED%83%80%EC%95%84%EC%9D%B4\" class=\"keyword\" onclick=\"return goOtherCR(this, \\'a=fkc_rkl.list&r=1&i=&u=\\'+urlencode(this.href));\"> <em class=\"num\">1</em> <span class=\"tit _text\">슈퍼스타아이</span> </a> <a href=\"https://datalab.naver.com/keyword/realtimeDetail.naver?query=%EC%8A%88%ED%8D%BC%EC%8A%A4%ED%83%80%EC%95%84%EC%9D%B4&datetime=2019-07-15T11%3A55%3A00&age=all&period=now&where=search\" class=\"datalab _status\" target=\"_blank\" onclick=\"return goOtherCR(this, \\'a=fkc_rkl.numv&r=1&i=&u=\\'+urlencode(this.href));\"><i class=\"spim ico_graph\">검색 추이</i></a> </span> </li> <li > <span class=\"bx bx_item _link\" title=\"류현진 중계\"> <a href=\"//search.naver.com/search.naver?where=nexearch&sm=tab_lvf.allnow&ie=utf8&query=%EB%A5%98%ED%98%84%EC%A7%84+%EC%A4%91%EA%B3%84\" class=\"keyword\" onclick=\"return goOtherCR(this, \\'a=fkc_rkl.list&r=2&i=&u=\\'+urlencode(this.href));\"> <em class=\"num\">2</em> <span class=\"tit _text\">류현진 중계</span> </a> <a href=\"https://datalab.naver.com/keyword/realtimeDetail.naver?query=%EB%A5%98%ED%98%84%EC%A7%84+%EC%A4%91%EA%B3%84&datetime=2019-07-15T11%3A55%3A00&age=all&period=now&where=search\" class=\"datalab _status\" target=\"_blank\" onclick=\"return goOtherCR(this, \\'a=fkc_rkl.numv&r=2&i=&u=\\'+urlencode(this.href));\"><i class=\"spim ico_graph\">검색 추이</i></a> </span> </li> <li > <span class=\"bx bx_item _link\" title=\"용담섬바위\"> <a href=\"//search.naver.com/search.naver?where=nexearch&sm=tab_lvf.allnow&ie=utf8&query=%EC%9A%A9%EB%8B%B4%EC%84%AC%EB%B0%94%EC%9C%84\" class=\"keyword\" onclick=\"return goOtherCR(this, \\'a=fkc_rkl.list&r=3&i=&u=\\'+urlencode(this.href));\"> <em class=\"num\">3</em> <span class=\"tit _text\">용담섬바위</span> </a> <a href=\"https://datalab.naver.com/keyword/realtimeDetail.naver?query=%EC%9A%A9%EB%8B%B4%EC%84%AC%EB%B0%94%EC%9C%84&datetime=2019-07-15T11%3A55%3A00&age=all&period=now&where=search\" class=\"datalab _status\" target=\"_blank\" onclick=\"return goOtherCR(this, \\'a=fkc_rkl.numv&r=3&i=&u=\\'+urlencode(this.href));\"><i class=\"spim ico_graph\">검색 추이</i></a> </span> </li> <li > <span class=\"bx bx_item _link\" title=\"위메프투어 이스타항공\"> <a href=\"//search.naver.com/search.naver?where=nexearch&sm=tab_lvf.allnow&ie=utf8&query=%EC%9C%84%EB%A9%94%ED%94%84%ED%88%AC%EC%96%B4+%EC%9D%B4%EC%8A%A4%ED%83%80%ED%95%AD%EA%B3%B5\" class=\"keyword\" onclick=\"return goOtherCR(this, \\'a=fkc_rkl.list&r=4&i=&u=\\'+urlencode(this.href));\"> <em class=\"num\">4</em> <span class=\"tit _text\">위메프투어 이스타항공</span> </a> <a href=\"https://datalab.naver.com/keyword/realtimeDetail.naver?query=%EC%9C%84%EB%A9%94%ED%94%84%ED%88%AC%EC%96%B4+%EC%9D%B4%EC%8A%A4%ED%83%80%ED%95%AD%EA%B3%B5&datetime=2019-07-15T11%3A55%3A00&age=all&period=now&where=search\" class=\"datalab _status\" target=\"_blank\" onclick=\"return goOtherCR(this, \\'a=fkc_rkl.numv&r=4&i=&u=\\'+urlencode(this.href));\"><i class=\"spim ico_graph\">검색 추이</i></a> </span> </li> <li > <span class=\"bx bx_item _link\" title=\"캠핑클럽\"> <a href=\"//search.naver.com/search.naver?where=nexearch&sm=tab_lvf.allnow&ie=utf8&query=%EC%BA%A0%ED%95%91%ED%81%B4%EB%9F%BD\" class=\"keyword\" onclick=\"return goOtherCR(this, \\'a=fkc_rkl.list&r=5&i=&u=\\'+urlencode(this.href));\"> <em class=\"num\">5</em> <span class=\"tit _text\">캠핑클럽</span> </a> <a href=\"https://datalab.naver.com/keyword/realtimeDetail.naver?query=%EC%BA%A0%ED%95%91%ED%81%B4%EB%9F%BD&datetime=2019-07-15T11%3A55%3A00&age=all&period=now&where=search\" class=\"datalab _status\" target=\"_blank\" onclick=\"return goOtherCR(this, \\'a=fkc_rkl.numv&r=5&i=&u=\\'+urlencode(this.href));\"><i class=\"spim ico_graph\">검색 추이</i></a> </span> </li> <li > <span class=\"bx bx_item _link\" title=\"이진\"> <a href=\"//search.naver.com/search.naver?where=nexearch&sm=tab_lvf.allnow&ie=utf8&query=%EC%9D%B4%EC%A7%84\" class=\"keyword\" onclick=\"return goOtherCR(this, \\'a=fkc_rkl.list&r=6&i=&u=\\'+urlencode(this.href));\"> <em class=\"num\">6</em> <span class=\"tit _text\">이진</span> </a> <a href=\"https://datalab.naver.com/keyword/realtimeDetail.naver?query=%EC%9D%B4%EC%A7%84&datetime=2019-07-15T11%3A55%3A00&age=all&period=now&where=search\" class=\"datalab _status\" target=\"_blank\" onclick=\"return goOtherCR(this, \\'a=fkc_rkl.numv&r=6&i=&u=\\'+urlencode(this.href));\"><i class=\"spim ico_graph\">검색 추이</i></a> </span> </li> <li > <span class=\"bx bx_item _link\" title=\"성유리\"> <a href=\"//search.naver.com/search.naver?where=nexearch&sm=tab_lvf.allnow&ie=utf8&query=%EC%84%B1%EC%9C%A0%EB%A6%AC\" class=\"keyword\" onclick=\"return goOtherCR(this, \\'a=fkc_rkl.list&r=7&i=&u=\\'+urlencode(this.href));\"> <em class=\"num\">7</em> <span class=\"tit _text\">성유리</span> </a> <a href=\"https://datalab.naver.com/keyword/realtimeDetail.naver?query=%EC%84%B1%EC%9C%A0%EB%A6%AC&datetime=2019-07-15T11%3A55%3A00&age=all&period=now&where=search\" class=\"datalab _status\" target=\"_blank\" onclick=\"return goOtherCR(this, \\'a=fkc_rkl.numv&r=7&i=&u=\\'+urlencode(this.href));\"><i class=\"spim ico_graph\">검색 추이</i></a> </span> </li> <li > <span class=\"bx bx_item _link\" title=\"핑클\"> <a href=\"//search.naver.com/search.naver?where=nexearch&sm=tab_lvf.allnow&ie=utf8&query=%ED%95%91%ED%81%B4\" class=\"keyword\" onclick=\"return goOtherCR(this, \\'a=fkc_rkl.list&r=8&i=&u=\\'+urlencode(this.href));\"> <em class=\"num\">8</em> <span class=\"tit _text\">핑클</span> </a> <a href=\"https://datalab.naver.com/keyword/realtimeDetail.naver?query=%ED%95%91%ED%81%B4&datetime=2019-07-15T11%3A55%3A00&age=all&period=now&where=search\" class=\"datalab _status\" target=\"_blank\" onclick=\"return goOtherCR(this, \\'a=fkc_rkl.numv&r=8&i=&u=\\'+urlencode(this.href));\"><i class=\"spim ico_graph\">검색 추이</i></a> </span> </li> <li > <span class=\"bx bx_item _link\" title=\"로로벨\"> <a href=\"//search.naver.com/search.naver?where=nexearch&sm=tab_lvf.allnow&ie=utf8&query=%EB%A1%9C%EB%A1%9C%EB%B2%A8\" class=\"keyword\" onclick=\"return goOtherCR(this, \\'a=fkc_rkl.list&r=9&i=&u=\\'+urlencode(this.href));\"> <em class=\"num\">9</em> <span class=\"tit _text\">로로벨</span> </a> <a href=\"https://datalab.naver.com/keyword/realtimeDetail.naver?query=%EB%A1%9C%EB%A1%9C%EB%B2%A8&datetime=2019-07-15T11%3A55%3A00&age=all&period=now&where=search\" class=\"datalab _status\" target=\"_blank\" onclick=\"return goOtherCR(this, \\'a=fkc_rkl.numv&r=9&i=&u=\\'+urlencode(this.href));\"><i class=\"spim ico_graph\">검색 추이</i></a> </span> </li> <li > <span class=\"bx bx_item _link\" title=\"이효리\"> <a href=\"//search.naver.com/search.naver?where=nexearch&sm=tab_lvf.allnow&ie=utf8&query=%EC%9D%B4%ED%9A%A8%EB%A6%AC\" class=\"keyword\" onclick=\"return goOtherCR(this, \\'a=fkc_rkl.list&r=10&i=&u=\\'+urlencode(this.href));\"> <em class=\"num\">10</em> <span class=\"tit _text\">이효리</span> </a> <a href=\"https://datalab.naver.com/keyword/realtimeDetail.naver?query=%EC%9D%B4%ED%9A%A8%EB%A6%AC&datetime=2019-07-15T11%3A55%3A00&age=all&period=now&where=search\" class=\"datalab _status\" target=\"_blank\" onclick=\"return goOtherCR(this, \\'a=fkc_rkl.numv&r=10&i=&u=\\'+urlencode(this.href));\"><i class=\"spim ico_graph\">검색 추이</i></a> </span> </li> </ol> <ol start=\"11\" class=\"lst_realtime_srch _realtime_tab_area\" style=\"display:none;\"> <li > <span class=\"bx bx_item _link\" title=\"옥주현\"> <a href=\"//search.naver.com/search.naver?where=nexearch&sm=tab_lvf.allnow&ie=utf8&query=%EC%98%A5%EC%A3%BC%ED%98%84\" class=\"keyword\" onclick=\"return goOtherCR(this, \\'a=fkc_rkl.list&r=11&i=&u=\\'+urlencode(this.href));\"> <em class=\"num\">11</em> <span class=\"tit _text\">옥주현</span> </a> <a href=\"https://datalab.naver.com/keyword/realtimeDetail.naver?query=%EC%98%A5%EC%A3%BC%ED%98%84&datetime=2019-07-15T11%3A55%3A00&age=all&period=now&where=search\" class=\"datalab _status\" target=\"_blank\" onclick=\"return goOtherCR(this, \\'a=fkc_rkl.numv&r=11&i=&u=\\'+urlencode(this.href));\"><i class=\"spim ico_graph\">검색 추이</i></a> </span> </li> <li > <span class=\"bx bx_item _link\" title=\"이진 남편\"> <a href=\"//search.naver.com/search.naver?where=nexearch&sm=tab_lvf.allnow&ie=utf8&query=%EC%9D%B4%EC%A7%84+%EB%82%A8%ED%8E%B8\" class=\"keyword\" onclick=\"return goOtherCR(this, \\'a=fkc_rkl.list&r=12&i=&u=\\'+urlencode(this.href));\"> <em class=\"num\">12</em> <span class=\"tit _text\">이진 남편</span> </a> <a href=\"https://datalab.naver.com/keyword/realtimeDetail.naver?query=%EC%9D%B4%EC%A7%84+%EB%82%A8%ED%8E%B8&datetime=2019-07-15T11%3A55%3A00&age=all&period=now&where=search\" class=\"datalab _status\" target=\"_blank\" onclick=\"return goOtherCR(this, \\'a=fkc_rkl.numv&r=12&i=&u=\\'+urlencode(this.href));\"><i class=\"spim ico_graph\">검색 추이</i></a> </span> </li> <li > <span class=\"bx bx_item _link\" title=\"이진 결혼\"> <a href=\"//search.naver.com/search.naver?where=nexearch&sm=tab_lvf.allnow&ie=utf8&query=%EC%9D%B4%EC%A7%84+%EA%B2%B0%ED%98%BC\" class=\"keyword\" onclick=\"return goOtherCR(this, \\'a=fkc_rkl.list&r=13&i=&u=\\'+urlencode(this.href));\"> <em class=\"num\">13</em> <span class=\"tit _text\">이진 결혼</span> </a> <a href=\"https://datalab.naver.com/keyword/realtimeDetail.naver?query=%EC%9D%B4%EC%A7%84+%EA%B2%B0%ED%98%BC&datetime=2019-07-15T11%3A55%3A00&age=all&period=now&where=search\" class=\"datalab _status\" target=\"_blank\" onclick=\"return goOtherCR(this, \\'a=fkc_rkl.numv&r=13&i=&u=\\'+urlencode(this.href));\"><i class=\"spim ico_graph\">검색 추이</i></a> </span> </li> <li > <span class=\"bx bx_item _link\" title=\"롯데백화점 휴무일\"> <a href=\"//search.naver.com/search.naver?where=nexearch&sm=tab_lvf.allnow&ie=utf8&query=%EB%A1%AF%EB%8D%B0%EB%B0%B1%ED%99%94%EC%A0%90+%ED%9C%B4%EB%AC%B4%EC%9D%BC\" class=\"keyword\" onclick=\"return goOtherCR(this, \\'a=fkc_rkl.list&r=14&i=&u=\\'+urlencode(this.href));\"> <em class=\"num\">14</em> <span class=\"tit _text\">롯데백화점 휴무일</span> </a> <a href=\"https://datalab.naver.com/keyword/realtimeDetail.naver?query=%EB%A1%AF%EB%8D%B0%EB%B0%B1%ED%99%94%EC%A0%90+%ED%9C%B4%EB%AC%B4%EC%9D%BC&datetime=2019-07-15T11%3A55%3A00&age=all&period=now&where=search\" class=\"datalab _status\" target=\"_blank\" onclick=\"return goOtherCR(this, \\'a=fkc_rkl.numv&r=14&i=&u=\\'+urlencode(this.href));\"><i class=\"spim ico_graph\">검색 추이</i></a> </span> </li> <li > <span class=\"bx bx_item _link\" title=\"장윤정 집\"> <a href=\"//search.naver.com/search.naver?where=nexearch&sm=tab_lvf.allnow&ie=utf8&query=%EC%9E%A5%EC%9C%A4%EC%A0%95+%EC%A7%91\" class=\"keyword\" onclick=\"return goOtherCR(this, \\'a=fkc_rkl.list&r=15&i=&u=\\'+urlencode(this.href));\"> <em class=\"num\">15</em> <span class=\"tit _text\">장윤정 집</span> </a> <a href=\"https://datalab.naver.com/keyword/realtimeDetail.naver?query=%EC%9E%A5%EC%9C%A4%EC%A0%95+%EC%A7%91&datetime=2019-07-15T11%3A55%3A00&age=all&period=now&where=search\" class=\"datalab _status\" target=\"_blank\" onclick=\"return goOtherCR(this, \\'a=fkc_rkl.numv&r=15&i=&u=\\'+urlencode(this.href));\"><i class=\"spim ico_graph\">검색 추이</i></a> </span> </li> <li > <span class=\"bx bx_item _link\" title=\"la다저스\"> <a href=\"//search.naver.com/search.naver?where=nexearch&sm=tab_lvf.allnow&ie=utf8&query=la%EB%8B%A4%EC%A0%80%EC%8A%A4\" class=\"keyword\" onclick=\"return goOtherCR(this, \\'a=fkc_rkl.list&r=16&i=&u=\\'+urlencode(this.href));\"> <em class=\"num\">16</em> <span class=\"tit _text\">la다저스</span> </a> <a href=\"https://datalab.naver.com/keyword/realtimeDetail.naver?query=la%EB%8B%A4%EC%A0%80%EC%8A%A4&datetime=2019-07-15T11%3A55%3A00&age=all&period=now&where=search\" class=\"datalab _status\" target=\"_blank\" onclick=\"return goOtherCR(this, \\'a=fkc_rkl.numv&r=16&i=&u=\\'+urlencode(this.href));\"><i class=\"spim ico_graph\">검색 추이</i></a> </span> </li> <li > <span class=\"bx bx_item _link\" title=\"통모짜와퍼\"> <a href=\"//search.naver.com/search.naver?where=nexearch&sm=tab_lvf.allnow&ie=utf8&query=%ED%86%B5%EB%AA%A8%EC%A7%9C%EC%99%80%ED%8D%BC\" class=\"keyword\" onclick=\"return goOtherCR(this, \\'a=fkc_rkl.list&r=17&i=&u=\\'+urlencode(this.href));\"> <em class=\"num\">17</em> <span class=\"tit _text\">통모짜와퍼</span> </a> <a href=\"https://datalab.naver.com/keyword/realtimeDetail.naver?query=%ED%86%B5%EB%AA%A8%EC%A7%9C%EC%99%80%ED%8D%BC&datetime=2019-07-15T11%3A55%3A00&age=all&period=now&where=search\" class=\"datalab _status\" target=\"_blank\" onclick=\"return goOtherCR(this, \\'a=fkc_rkl.numv&r=17&i=&u=\\'+urlencode(this.href));\"><i class=\"spim ico_graph\">검색 추이</i></a> </span> </li> <li > <span class=\"bx bx_item _link\" title=\"바에즈\"> <a href=\"//search.naver.com/search.naver?where=nexearch&sm=tab_lvf.allnow&ie=utf8&query=%EB%B0%94%EC%97%90%EC%A6%88\" class=\"keyword\" onclick=\"return goOtherCR(this, \\'a=fkc_rkl.list&r=18&i=&u=\\'+urlencode(this.href));\"> <em class=\"num\">18</em> <span class=\"tit _text\">바에즈</span> </a> <a href=\"https://datalab.naver.com/keyword/realtimeDetail.naver?query=%EB%B0%94%EC%97%90%EC%A6%88&datetime=2019-07-15T11%3A55%3A00&age=all&period=now&where=search\" class=\"datalab _status\" target=\"_blank\" onclick=\"return goOtherCR(this, \\'a=fkc_rkl.numv&r=18&i=&u=\\'+urlencode(this.href));\"><i class=\"spim ico_graph\">검색 추이</i></a> </span> </li> <li > <span class=\"bx bx_item _link\" title=\"캠핑카렌트\"> <a href=\"//search.naver.com/search.naver?where=nexearch&sm=tab_lvf.allnow&ie=utf8&query=%EC%BA%A0%ED%95%91%EC%B9%B4%EB%A0%8C%ED%8A%B8\" class=\"keyword\" onclick=\"return goOtherCR(this, \\'a=fkc_rkl.list&r=19&i=&u=\\'+urlencode(this.href));\"> <em class=\"num\">19</em> <span class=\"tit _text\">캠핑카렌트</span> </a> <a href=\"https://datalab.naver.com/keyword/realtimeDetail.naver?query=%EC%BA%A0%ED%95%91%EC%B9%B4%EB%A0%8C%ED%8A%B8&datetime=2019-07-15T11%3A55%3A00&age=all&period=now&where=search\" class=\"datalab _status\" target=\"_blank\" onclick=\"return goOtherCR(this, \\'a=fkc_rkl.numv&r=19&i=&u=\\'+urlencode(this.href));\"><i class=\"spim ico_graph\">검색 추이</i></a> </span> </li> <li > <span class=\"bx bx_item _link\" title=\"집사부일체\"> <a href=\"//search.naver.com/search.naver?where=nexearch&sm=tab_lvf.allnow&ie=utf8&query=%EC%A7%91%EC%82%AC%EB%B6%80%EC%9D%BC%EC%B2%B4\" class=\"keyword\" onclick=\"return goOtherCR(this, \\'a=fkc_rkl.list&r=20&i=&u=\\'+urlencode(this.href));\"> <em class=\"num\">20</em> <span class=\"tit _text\">집사부일체</span> </a> <a href=\"https://datalab.naver.com/keyword/realtimeDetail.naver?query=%EC%A7%91%EC%82%AC%EB%B6%80%EC%9D%BC%EC%B2%B4&datetime=2019-07-15T11%3A55%3A00&age=all&period=now&where=search\" class=\"datalab _status\" target=\"_blank\" onclick=\"return goOtherCR(this, \\'a=fkc_rkl.numv&r=20&i=&u=\\'+urlencode(this.href));\"><i class=\"spim ico_graph\">검색 추이</i></a> </span> </li> </ol> </div> <div class=\"realtime_srch_area\"> <p class=\"dsc\"><time><span class=\"_time\">2019.07.15. 11:55:00</span></time> 기준 <a href=\"https://help.naver.com/support/alias/search/word/word_5.naver\" target=\"_blank\" class=\"link_rts_help\" onclick=\"return goOtherCR(this, \\'a=fkc_rkl.guide&r=&i=&u=\\'+urlencode(this.href))\"><i class=\"sprenew api_ico_help2\">도움말</i></a></p> <a href=\"https://datalab.naver.com/keyword/realtimeList.naver?where=search\" class=\"link_history\" target=\"_blank\" onclick=\"return goOtherCR(this, \\'a=fkc_rkl.trmore&r=&i=&u=\\'+urlencode(this.href));\"><i class=\"spim ico_datalab\">DataLab</i>급상승 트래킹<i class=\"spim ico_arr\"></i></a> </div> </div> <div class=\"tab_area _tab_area\" style=\"display: none;\"> <h3 class=\"blind\">뉴스토픽</h3> <div class=\"hotkwd\"> <ul class=\"api_realtime_tab _news_tab\"> <li class=\"selected\" data-index=\"0\" data-blind-text=\"뉴스토픽 뉴스\"><a href=\"#\" onclick=\"return tCR(\\'fkc_htk.nws\\', 1, \\'\\');\">뉴스</a></li> <li data-index=\"1\" data-blind-text=\"뉴스토픽 연예·스포츠\"><a href=\"#\" onclick=\"return tCR(\\'fkc_htk.ents\\', 1, \\'\\');\">연예·스포츠</a></li> </ul> </div> <h6 class=\"blind _blind_news\">뉴스토픽 뉴스</h6> <ol class=\"lst_realtime_srch _news_tab_area\"> <li > <a href=\"//search.naver.com/search.naver?where=nexearch&sm=tab_htf.nws&ie=utf8&query=%EC%98%A4%EB%8A%98+%EB%AF%B8%EC%84%B8%EB%A8%BC%EC%A7%80+%EB%86%8D%EB%8F%84\" class=\"bx bx_item\" onclick=\"return goOtherCR(this, \\'a=fkc_htk.nwslist&r=20&i=&u=\\'+urlencode(this.href));\"> <span class=\"keyword\"> <em class=\"num\">1</em> <span class=\"tit _text\">오늘 미세먼지 농도</span> </span> <em class=\"rank new\"><span class=\"spim\"></span><span>NEW</span></em> </a> </li> <li > <a href=\"//search.naver.com/search.naver?where=nexearch&sm=tab_htf.nws&ie=utf8&query=%EC%A0%84%EA%B5%AD+%EA%B3%B3%EA%B3%B3+%EB%B9%84+%EC%86%8C%EC%8B%9D\" class=\"bx bx_item\" onclick=\"return goOtherCR(this, \\'a=fkc_htk.nwslist&r=20&i=&u=\\'+urlencode(this.href));\"> <span class=\"keyword\"> <em class=\"num\">2</em> <span class=\"tit _text\">전국 곳곳 비 소식</span> </span> <em class=\"rank new\"><span class=\"spim\"></span><span>NEW</span></em> </a> </li> <li > <a href=\"//search.naver.com/search.naver?where=nexearch&sm=tab_htf.nws&ie=utf8&query=%EA%B4%91%EC%A3%BC+%EC%88%98%EC%98%81%EB%8C%80%ED%9A%8C\" class=\"bx\" onclick=\"return goOtherCR(this, \\'a=fkc_htk.nwslist&r=20&i=&u=\\'+urlencode(this.href));\"> <span class=\"keyword\"> <em class=\"num\">3</em> <span class=\"tit _text\">광주 수영대회</span> </span> </a> </li> <li > <a href=\"//search.naver.com/search.naver?where=nexearch&sm=tab_htf.nws&ie=utf8&query=%EB%A7%89%EB%A7%90+%EB%85%BC%EB%9E%80+%EC%A0%84%EA%B4%91%ED%9B%88\" class=\"bx bx_item\" onclick=\"return goOtherCR(this, \\'a=fkc_htk.nwslist&r=20&i=&u=\\'+urlencode(this.href));\"> <span class=\"keyword\"> <em class=\"num\">4</em> <span class=\"tit _text\">막말 논란 전광훈</span> </span> <em class=\"rank new\"><span class=\"spim\"></span><span>NEW</span></em> </a> </li> <li > <a href=\"//search.naver.com/search.naver?where=nexearch&sm=tab_htf.nws&ie=utf8&query=%ED%8E%9C%EC%8A%A4%EB%A3%B0+%EB%85%BC%EB%9E%80+%EA%B0%95%EC%82%AC+%EA%B0%95%EC%9D%98%EB%B0%B0%EC%A0%9C\" class=\"bx bx_item\" onclick=\"return goOtherCR(this, \\'a=fkc_htk.nwslist&r=20&i=&u=\\'+urlencode(this.href));\"> <span class=\"keyword\"> <em class=\"num\">5</em> <span class=\"tit _text\">펜스룰 논란 강사 강의배제</span> </span> <em class=\"rank new\"><span class=\"spim\"></span><span>NEW</span></em> </a> </li> <li > <a href=\"//search.naver.com/search.naver?where=nexearch&sm=tab_htf.nws&ie=utf8&query=%EC%97%AC%EC%95%BC+3%EB%8B%B9+%EC%9B%90%EB%82%B4%EB%8C%80%ED%91%9C\" class=\"bx bx_item\" onclick=\"return goOtherCR(this, \\'a=fkc_htk.nwslist&r=20&i=&u=\\'+urlencode(this.href));\"> <span class=\"keyword\"> <em class=\"num\">6</em> <span class=\"tit _text\">여야 3당 원내대표</span> </span> <em class=\"rank new\"><span class=\"spim\"></span><span>NEW</span></em> </a> </li> <li > <a href=\"//search.naver.com/search.naver?where=nexearch&sm=tab_htf.nws&ie=utf8&query=%EC%98%A4%EB%8A%98+%EC%9A%B4%EC%84%B8\" class=\"bx\" onclick=\"return goOtherCR(this, \\'a=fkc_htk.nwslist&r=20&i=&u=\\'+urlencode(this.href));\"> <span class=\"keyword\"> <em class=\"num\">7</em> <span class=\"tit _text\">오늘 운세</span> </span> </a> </li> <li > <a href=\"//search.naver.com/search.naver?where=nexearch&sm=tab_htf.nws&ie=utf8&query=%EC%B5%9C%EC%A0%80%EC%9E%84%EA%B8%88+1%EB%A7%8C%EC%9B%90+%EA%B3%B5%EC%95%BD\" class=\"bx\" onclick=\"return goOtherCR(this, \\'a=fkc_htk.nwslist&r=20&i=&u=\\'+urlencode(this.href));\"> <span class=\"keyword\"> <em class=\"num\">8</em> <span class=\"tit _text\">최저임금 1만원 공약</span> </span> </a> </li> <li > <a href=\"//search.naver.com/search.naver?where=nexearch&sm=tab_htf.nws&ie=utf8&query=%EA%B2%BD%EC%B0%B0+%EC%8B%9C%EC%9C%84%EB%8C%80+%EC%B6%A9%EB%8F%8C\" class=\"bx bx_item\" onclick=\"return goOtherCR(this, \\'a=fkc_htk.nwslist&r=20&i=&u=\\'+urlencode(this.href));\"> <span class=\"keyword\"> <em class=\"num\">9</em> <span class=\"tit _text\">경찰 시위대 충돌</span> </span> <em class=\"rank new\"><span class=\"spim\"></span><span>NEW</span></em> </a> </li> <li > <a href=\"//search.naver.com/search.naver?where=nexearch&sm=tab_htf.nws&ie=utf8&query=%EC%A7%81%EC%9E%A5+%EB%82%B4+%EA%B4%B4%EB%A1%AD%ED%9E%98+%EA%B8%88%EC%A7%80%EB%B2%95\" class=\"bx bx_item\" onclick=\"return goOtherCR(this, \\'a=fkc_htk.nwslist&r=20&i=&u=\\'+urlencode(this.href));\"> <span class=\"keyword\"> <em class=\"num\">10</em> <span class=\"tit _text\">직장 내 괴롭힘 금지법</span> </span> <em class=\"rank new\"><span class=\"spim\"></span><span>NEW</span></em> </a> </li> </ol> <ol class=\"lst_realtime_srch _news_tab_area\" style=\"display:none;\"> <li > <a href=\"//search.naver.com/search.naver?where=nexearch&sm=tab_htf.ent&ie=utf8&query=%EA%B9%80%EC%84%B8%EC%98%81+%EB%A7%88%EB%9D%BC%ED%86%A4+%ED%81%B4%EB%9E%98%EC%8B%9D+%EC%9A%B0%EC%8A%B9\" class=\"bx bx_item\" onclick=\"return goOtherCR(this, \\'a=fkc_htk.entslist&r=20&i=&u=\\'+urlencode(this.href));\">  <span class=\"keyword\"> <em class=\"num\">1</em> <span class=\"tit _text\">김세영 마라톤 클래식 우승</span> </span> <em class=\"rank new\"><span class=\"spim\"></span><span>NEW</span></em> </a> </li> <li > <a href=\"//search.naver.com/search.naver?where=nexearch&sm=tab_htf.ent&ie=utf8&query=%EC%9E%A5%EC%9C%A4%EC%A0%95+%EC%A7%91\" class=\"bx\" onclick=\"return goOtherCR(this, \\'a=fkc_htk.entslist&r=20&i=&u=\\'+urlencode(this.href));\"> <span class=\"keyword\"> <em class=\"num\">2</em> <span class=\"tit _text\">장윤정 집</span> </span> </a> </li> <li > <a href=\"//search.naver.com/search.naver?where=nexearch&sm=tab_htf.ent&ie=utf8&query=2019+%EC%9C%94%EB%B8%94%EB%8D%98\" class=\"bx bx_item\" onclick=\"return goOtherCR(this, \\'a=fkc_htk.entslist&r=20&i=&u=\\'+urlencode(this.href));\"> <span class=\"keyword\"> <em class=\"num\">3</em> <span class=\"tit _text\">2019 윔블던</span> </span> <em class=\"rank new\"><span class=\"spim\"></span><span>NEW</span></em> </a> </li> <li > <a href=\"//search.naver.com/search.naver?where=nexearch&sm=tab_htf.ent&ie=utf8&query=%EC%A7%91%EC%82%AC%EB%B6%80%EC%9D%BC%EC%B2%B4+%EC%9E%A5%EC%9C%A4%EC%A0%95\" class=\"bx\" onclick=\"return goOtherCR(this, \\'a=fkc_htk.entslist&r=20&i=&u=\\'+urlencode(this.href));\"> <span class=\"keyword\"> <em class=\"num\">4</em> <span class=\"tit _text\">집사부일체 장윤정</span> </span> </a> </li> <li > <a href=\"//search.naver.com/search.naver?where=nexearch&sm=tab_htf.ent&ie=utf8&query=%EC%BA%A0%ED%95%91%ED%81%B4%EB%9F%BD+%ED%95%91%ED%81%B4\" class=\"bx\" onclick=\"return goOtherCR(this, \\'a=fkc_htk.entslist&r=20&i=&u=\\'+urlencode(this.href));\"> <span class=\"keyword\"> <em class=\"num\">5</em> <span class=\"tit _text\">캠핑클럽 핑클</span> </span> </a> </li> <li > <a href=\"//search.naver.com/search.naver?where=nexearch&sm=tab_htf.ent&ie=utf8&query=%EC%9D%B4%ED%9A%A8%EB%A6%AC+%EC%9D%B4%EC%A7%84\" class=\"bx\" onclick=\"return goOtherCR(this, \\'a=fkc_htk.entslist&r=20&i=&u=\\'+urlencode(this.href));\"> <span class=\"keyword\"> <em class=\"num\">6</em> <span class=\"tit _text\">이효리 이진</span> </span> </a> </li> <li > <a href=\"//search.naver.com/search.naver?where=nexearch&sm=tab_htf.ent&ie=utf8&query=%EC%97%AC%EC%A7%84%EA%B5%AC+%EC%9D%B4%EC%A7%80%EC%9D%80\" class=\"bx bx_item\" onclick=\"return goOtherCR(this, \\'a=fkc_htk.entslist&r=20&i=&u=\\'+urlencode(this.href));\"> <span class=\"keyword\"> <em class=\"num\">7</em> <span class=\"tit _text\">여진구 이지은</span> </span> <em class=\"rank new\"><span class=\"spim\"></span><span>NEW</span></em> </a> </li> <li > <a href=\"//search.naver.com/search.naver?where=nexearch&sm=tab_htf.ent&ie=utf8&query=%EB%B3%B4%EC%A2%8C%EA%B4%80+%EA%B9%80%EB%8F%99%EC%A4%80\" class=\"bx\" onclick=\"return goOtherCR(this, \\'a=fkc_htk.entslist&r=20&i=&u=\\'+urlencode(this.href));\"> <span class=\"keyword\"> <em class=\"num\">8</em> <span class=\"tit _text\">보좌관 김동준</span> </span> </a> </li> <li > <a href=\"//search.naver.com/search.naver?where=nexearch&sm=tab_htf.ent&ie=utf8&query=%EC%84%A0%EC%9A%B0%EC%84%A0-%EC%9D%B4%EC%88%98%EB%AF%BC+%EA%B2%B0%ED%98%BC\" class=\"bx bx_item\" onclick=\"return goOtherCR(this, \\'a=fkc_htk.entslist&r=20&i=&u=\\'+urlencode(this.href));\"> <span class=\"keyword\"> <em class=\"num\">9</em> <span class=\"tit _text\">선우선-이수민 결혼</span> </span> <em class=\"rank new\"><span class=\"spim\"></span><span>NEW</span></em> </a> </li> <li > <a href=\"//search.naver.com/search.naver?where=nexearch&sm=tab_htf.ent&ie=utf8&query=%ED%8E%98%EB%8D%94%EB%9F%AC+%EA%BA%BE%EA%B3%A0+%EC%9C%94%EB%B8%94%EB%8D%98+2%EC%97%B0%ED%8C%A8\" class=\"bx\" onclick=\"return goOtherCR(this, \\'a=fkc_htk.entslist&r=20&i=&u=\\'+urlencode(this.href));\"> <span class=\"keyword\"> <em class=\"num\">10</em> <span class=\"tit _text\">페더러 꺾고 윔블던 2연패</span> </span> </a> </li> </ol> <div class=\"realtime_srch_area\"> <p class=\"dsc\"><time>2019.07.15. 05:30 ~ 08:30</time> 기준 <a href=\"https://help.naver.com/support/alias/search/word/word_3.naver\" target=\"_blank\" class=\"link_rts_help\" onclick=\"return goOtherCR(this, \\'a=fkc_htk.guide&r=&i=&u=\\'+urlencode(this.href))\"><i class=\"sprenew api_ico_help2\">도움말</i></a></p> </div> </div> <iframe frameborder=\"0\" title=\"빈프레임\" style=\"display:block;position:absolute;top:0;left:0;z-index:-1;width:100%;height:100%\"></iframe> </div> </div> <script type=\"text/javascript\"> (function() { var fnCallback = function() { var oFooterRealTime = new nhn.FooterRealtimeKeyword($(\"_nx_footer_realtime\"), \"nexearch\", null, null); nxrtrank.registRealtimeKeyword(\"nexearch\", oFooterRealTime); }; if (typeof(nxrtrank) == \"undefined\") nx_js_defer_load(\"https://ssl.pstatic.net/sstatic/au/pc/realtime_keyword/nhn.nxrtrank_150610.js\", function() {nx_js_lazyload(\"https://ssl.pstatic.net/sstatic/au/pc/realtime_keyword/nhn.footer_realtime_keyword_181127.js\", fnCallback, 1);}, 150) ; else nx_js_defer_load(\"https://ssl.pstatic.net/sstatic/au/pc/realtime_keyword/nhn.footer_realtime_keyword_181127.js\", fnCallback, 300) ; }) (); </script> <form id=\"nx_search_form_btm\" name=\"searchu\" method=\"get\" action=\"?\" onsubmit=\"return nx_form_submit(this);\"> <fieldset class=\"greenwindow\"> <legend>검색</legend> <div class=\"greenbox\"> <span class=\"keyword\"> <input type=\"hidden\" name=\"sm\" value=\"tab_hty.btm\"> <input type=\"hidden\" name=\"where\" value=\"nexearch\"> <input type=\"text\" title=\"검색어 입력\" name=\"query\" id=\"nx_query_btm\" maxlength=\\'255\\' class=\"box_window\" autocomplete=\"off\" value=\"\"> <input type=\"hidden\" name=\"oquery\" value=\"\"> <input type=\"hidden\" name=\"tqi\" value=\"UfYrudprvxsssRLavjGssssstEV-227937\"> <input type=\"hidden\" value=\"\" name=\"acq\" disabled> <input type=\"hidden\" value=\"\" name=\"acr\" disabled> <input type=\"hidden\" value=\"\" name=\"qdt\" disabled> <input type=\"hidden\" value=\"\" name=\"acir\" disabled> <input type=\"hidden\" value=\"\" name=\"os\" disabled> <input type=\"hidden\" value=\"\" name=\"bid\" disabled> <input type=\"hidden\" value=\"\" name=\"pkid\" disabled> <input type=\"hidden\" value=\"\" name=\"eid\" disabled> <input type=\"hidden\" value=\"\" name=\"mra\" disabled>      </span> </div> <div id=\"nautocomplete_btm\" class=\"autocomplete\"> <a href=\"#\" class=\"bt_atcp _btn_arw fold\" onclick=\"return false;\"><span class=\"blind _text\">자동완성 펼치기</span><span class=\"ico_arrow spnew\"></span></a> </div> <button type=\"submit\" class=\"bt_search\" onmouseover=\"$Element(this).addClass(\\'over\\');\" onmouseout=\"$Element(this).removeClass(\\'over down\\');\" onmousedown=\"$Element(this).removeClass(\\'over\\');$Element(this).addClass(\\'down\\');\"><span class=\"spnew ico_search\">검색</span></button> <div class=\"ly_atcmp ly_atcmp_v1\" id=\"nx_autoframe_btm\" style=\"display:none;\"> <iframe frameborder=\"0\" title=\"빈프레임\" style=\"display:none;display:block\\\\9;display:block\\\\0/;position:absolute;top:-1px;left:-1px;z-index:-1;width:100%;height:100%;padding:1px;filter:alpha(opacity=0);opacity:0\"></iframe> <div class=\"api_atcmp_wrap api_atcmp_wrap_v1 _atcmp\" style=\"display:none;\"> <p class=\"func _atcmpBtnGroup\"><span class=\"fl\"><a class=\"_help\" onclick=\"__atcmpCR(event, this, \\'help\\', \\'\\',\\'\\',\\'\\');\" href=\"https://help.naver.com/support/alias/search/word/word_17.naver\" target=\"_blank\">도움말</a><span class=\"atcmp_bar\"></span><a onclick=\"__atcmpCR(event, this, \\'report\\', \\'\\',\\'\\',\\'\\');\" href=\"https://help.naver.com/support/alias/search/word/word_18.naver\" target=\"_blank\" class=\"report\">신고</a></span><span><em><a class=\"hisoff\" href=\"javascript:;\">검색어저장 켜기</a><span class=\"atcmp_bar\"></span></em><a class=\"funoff\" href=\"javascript:;\">자동완성 끄기</a></span></p> <div class=\"atcmp_plus _plus\"> <span class=\"desc\"> <span class=\"plus_txt\">시간대와 관심사에 맞춘 <em class=\\'txt\\'>컨텍스트 자동완성</em></span> <a onclick=\"__atcmpCR(event, this, \\'plus.help\\', \\'\\',\\'\\',\\'\\');\" href=\"https://help.naver.com/support/alias/search/word/word_16.naver\" target=\"_blank\" class=\"spat ico_info\"><span class=\"blind\">도움말 보기</span></a> </span> <span class=\"switch _plus_btn\"> <a href=\"#\" class=\"btn_turnon active\" onclick=\"__atcmpCR(event, this, \\'plus.use\\', \\'\\',\\'\\',\\'\\');\">ON<span class=\"blind\">선택됨</span></a> <a href=\"#\" class=\"btn_turnoff\" onclick=\"__atcmpCR(event, this, \\'plus.unuse\\', \\'\\',\\'\\',\\'\\');\">OFF</a> </span> <div class=\"layer_plus _plusAlert\"> <strong class=\"tit\">컨텍스트 자동완성</strong> <div class=\"_logout\" style=\"display:block;\"> <p class=\"dsc\"><em class=\"txt\">동일한 시간대/연령/남녀별</em> 사용자 그룹의<br>관심사에 맞춰 자동완성을 제공합니다.</p> <div class=\"btn_area\"> <a onclick=\"__atcmpCR(event, this, \\'plus.login\\', \\'\\',\\'\\',\\'\\');\" href=\"https://nid.naver.com/nidlogin.login?url=https%3A%2F%2Fsearch.naver.com%2Fsearch.naver\" class=\"btn btn_login\">로그인</a> <a onclick=\"__atcmpCR(event, this, \\'plus.detail\\', \\'\\',\\'\\',\\'\\');\" href=\"https://help.naver.com/support/alias/search/word/word_16.naver\" target=\"_blank\" class=\"btn btn_view\">자세히</a> </div> </div> <div class=\"_login\" style=\"display:none;\"> <p class=\"dsc\">ON/OFF설정은<br>해당 기기(브라우저)에 저장됩니다.</p> <div class=\"btn_area\"> <a onclick=\"__atcmpCR(event, this, \\'plus.detail\\', \\'\\',\\'\\',\\'\\');\" href=\"https://help.naver.com/support/alias/search/word/word_21.naver\" target=\"_blank\" class=\"btn btn_view\">자세히</a> </div> </div> <button type=\"button\" class=\"btn_close _close\" onclick=\"__atcmpCR(event, this, \\'plus.close\\', \\'\\',\\'\\',\\'\\');\"><i class=\"spat ico_close\">컨텍스트 자동완성 레이어 닫기</i></button> </div> </div> <div class=\"words _words\"> <div class=\"_atcmp_result_wrap\"> <ul class=\"_resultBox\"></ul> <ul class=\"_resultBox\"></ul> <ul class=\"_resultBox\"></ul> <ul class=\"_resultBox\"></ul> </div> <div class=\"add_group _atcmp_answer_wrap\"></div> </div> <span class=\"atcmp_helper _help_tooltip1\">기능을 다시 켤 때는 <em class=\"ico_search spat\">검색창 오른쪽 화살표 버튼</em>을 클릭하세요</span> </div> <div class=\"api_atcmp_wrap api_atcmp_wrap_v1 _atcmpIng\" style=\"display:none;\"> <p class=\"func _atcmpBtnGroup\"><span class=\"fl\"><a class=\"_help\" onclick=\"__atcmpCR(event, this, \\'help\\', \\'\\',\\'\\',\\'\\');\" href=\"https://help.naver.com/support/alias/search/word/word_17.naver\" target=\"_blank\">도움말</a><span class=\"atcmp_bar\"></span><a onclick=\"__atcmpCR(event, this, \\'report\\', \\'\\',\\'\\',\\'\\');\" href=\"https://help.naver.com/support/alias/search/word/word_18.naver\" target=\"_blank\" class=\"report\">신고</a></span><span><em><a class=\"hisoff\" href=\"javascript:;\">검색어저장 켜기</a><span class=\"atcmp_bar\"></span></em><a class=\"funoff\" href=\"javascript:;\">자동완성 끄기</a></span></p> <div class=\"words\"><p class=\"info_words\">현재 자동완성 기능을 사용하고 계십니다.</p></div> <span class=\"atcmp_helper _help_tooltip2\">기능을 다시 켤 때는 <em class=\"ico_search spat\">검색창 오른쪽 화살표 버튼</em>을 클릭하세요</span> </div> <div class=\"api_atcmp_wrap api_atcmp_wrap_v1 _atcmpStart\" style=\"display:none;\"> <p class=\"func _atcmpBtnGroup\"><span class=\"fl\"><a class=\"_help\" onclick=\"__atcmpCR(event, this, \\'help\\', \\'\\',\\'\\',\\'\\');\" href=\"https://help.naver.com/support/alias/search/word/word_17.naver\" target=\"_blank\">도움말</a><span class=\"atcmp_bar\"></span><a onclick=\"__atcmpCR(event, this, \\'report\\', \\'\\',\\'\\',\\'\\');\" href=\"https://help.naver.com/support/alias/search/word/word_18.naver\" target=\"_blank\" class=\"report\">신고</a></span><span><em><a class=\"hisoff\" href=\"javascript:;\">검색어저장 켜기</a><span class=\"atcmp_bar\"></span></em><a class=\"funoff\" href=\"javascript:;\">자동완성 끄기</a></span></p> <div class=\"words\"><p class=\"info_words\">자동완성 기능이 활성화되었습니다.</p></div> <span class=\"atcmp_helper _help_tooltip3\">기능을 다시 켤 때는 <em class=\"ico_search spat\">검색창 오른쪽 화살표 버튼</em>을 클릭하세요</span> </div> <div class=\"api_atcmp_wrap api_atcmp_wrap_v1 _atcmpOff\" style=\"display:none;\"> <p class=\"func _atcmpBtnGroup\"><span class=\"fl\"><a class=\"_help\" onclick=\"__atcmpCR(event, this, \\'help\\', \\'\\',\\'\\',\\'\\');\" href=\"https://help.naver.com/support/alias/search/word/word_17.naver\" target=\"_blank\">도움말</a><span class=\"atcmp_bar\"></span><a onclick=\"__atcmpCR(event, this, \\'report\\', \\'\\',\\'\\',\\'\\');\" href=\"https://help.naver.com/support/alias/search/word/word_18.naver\" target=\"_blank\" class=\"report\">신고</a></span><span><em><a class=\"hisoff\" href=\"javascript:;\">검색어저장 켜기</a><span class=\"atcmp_bar\"></span></em><a class=\"funoff\" href=\"javascript:;\">자동완성 켜기</a></span></p> <div class=\"words\"><p class=\"info_words\">자동완성 기능이 꺼져 있습니다.</p></div> </div> <div class=\"api_atcmp_wrap api_atcmp_wrap_v1 _keywords\" id=\"keyword\" style=\"display:none;\"> <div class=\"my_words\"> <p class=\"func _recentBtnGroup\"><span class=\"fl\"><a class=\"_delMode\" href=\"javascript:;\">기록 삭제</a></span><span><a class=\"_keywordOff\" href=\"javascript:;\">검색어저장 끄기</a><span class=\"atcmp_bar\"></span><a class=\"_acOff\" href=\"javascript:;\">자동완성 끄기</a></span></p> <p class=\"func _recentDelBtnGroup\" style=\"display:none\"><span class=\"fl\"><a class=\"_delAll\" href=\"javascript:;\" title=\"최근 검색어 기록을 모두 삭제합니다.\">기록 전체 삭제</a></span><span><a class=\"_delDone\" href=\"javascript:;\">완료</a></span></p> <p class=\"func _myBtnGroup\" style=\"display:none\"><span class=\"fl\"><a class=\"_delAll\" href=\"javascript:;\" title=\"설정된 내 검색어를 모두 삭제합니다.\">기록 전체 삭제</a></span><span><a class=\"_keywordOff\" href=\"javascript:;\">검색어저장 끄기</a><span class=\"atcmp_bar\"></span><a class=\"_acOff\" href=\"javascript:;\">자동완성 끄기</a></span></p> <span class=\"atcmp_helper _help2\">기능을 다시 켤 때는 <em class=\"ico_search spat\">검색창 오른쪽 화살표 버튼</em>을 클릭하세요</span> <p class=\"noti _noti\" style=\"display:none\"><em class=\"ico_noti spat\"><span class=\"blind\">알림</span></em>공용 PC에서는 개인정보 보호를 위하여 반드시 로그아웃을 해 주세요.</p> <div class=\"words _recent\"> <ul><li data-rank=\"@rank@\"><a class=\"t@my@ _star _myBtn\" title=\"내 검색어 등록\" href=\"javascript:;\"><em class=\"spat\">내 검색어 등록</em></a><a href=\"javascript:;\" class=\"keyword\">@txt@</a><em class=\"keyword_date\">@date@.</em><a href=\"javascript:;\" class=\"btn_delete spat _del\" title=\"검색어삭제\">삭제</a><span style=\"display:none\">@in_txt@</span></li></ul> <div class=\"info_words _recentNone\" style=\"display:none\">최근검색어 내역이 없습니다.</div> <p class=\"info_words _offMsg\" style=\"display:none\">검색어 저장 기능이 꺼져 있습니다.</p> </div> <div class=\"words _my\" style=\"display:none\"> <ul><li data-rank=\"@rank@\"><a class=\"ton _star _myBtn\" title=\"내 검색어 해제\" href=\"javascript:;\"><em class=\"spat\">내 검색어 해제</em></a><a href=\"javascript:;\" class=\"keyword\">@txt@</a></li></ul> <div class=\"info_words _myNone\" style=\"display:none\">설정된 내 검색어가 없습니다.<br>최근검색어에서 <span class=\"star spat\">내 검색어 등록</span>를 선택하여 자주 찾는 검색어를<br />내 검색어로 저장해 보세요.</div> <p class=\"info_words _offMsg\" style=\"display:none\">검색어 저장 기능이 꺼져 있습니다.</p> </div> <div class=\"lst_tab\"> <ul> <li class=\"on _recentTab\"><a href=\"javascript:;\">최근검색어</a></li> <li class=\"_myTab\"><a href=\"javascript:;\">내 검색어</a></li> </ul> </div> <div class=\"ly_noti _maxLayer\" style=\"display:none\"> <span class=\"mask\"></span> <p><span class=\"ico_alert spat\"></span>내 검색어는 <em>최대 10</em>개 까지 저장할 수 있습니다.<br />추가하시려면 기존 내 검색어를 지워주세요. <a href=\"javascript:;\" class=\"btn_close _close\"><i class=\"spat ico_close\">닫기</i></a></p> </div> </div> </div> <div class=\"api_atcmp_wrap _alert\" style=\"display:none;\"> <div class=\"api_atcmp_alert\"> <span class=\"ico_alert spat\"></span> <p class=\"dsc_txt\"><em class=\"_passage\"></em><br> <a class=\"_link\" target=\"_blank\" href=\"\" onclick=\"return goOtherCR(this,\\'a=sug.vote&r=&i=&u=\\'+urlencode(this.href));\">자세히보기</a></p> </div> </div> </div> </fieldset> </form> </div> <ul class=\"lst_foot\"> <li class=\"first\"><a href=\"https://help.naver.com/support/alias/search/footer/policy.naver\" target=\"_blank\" onclick=\"return goOtherCR(this, \\'a=fot.web&amp;r=&amp;i=&amp;u=\\'+urlencode(this.href));\">웹문서 수집 및 삭제 정책</a><span class=\"bar\"></span></li> <li><a href=\"https://smartplace.naver.com/\" target=\"_blank\" onclick=\"return goOtherCR(this, \\'a=fot.submit&amp;r=&amp;i=&amp;u=\\'+urlencode(this.href));\">플레이스업체 등록</a><span class=\"bar\"></span></li> <li><a href=\"https://searchad.naver.com/\" target=\"_blank\" onclick=\"return goOtherCR(this, \\'a=fot.searchad&amp;r=&amp;i=&amp;u=\\'+urlencode(this.href));\">검색광고 안내</a><span class=\"bar\"></span></li>  <li><a href=\"https://help.naver.com/support/alias/search/integration/integration_1.naver\" target=\"_blank\" onclick=\"return goOtherCR(this, \\'u=\\'+urlencode(this.href)+\\'&amp;a=fot.help&amp;r=&amp;i=\\');\">통합검색 고객센터</a><span class=\"bar\"></span></li> <li><a href=\"https://help.naver.com/support/alias/report/unsound.naver\" target=\"_blank\" onclick=\"return goOtherCR(this, \\'u=\\'+urlencode(this.href)+\\'&amp;a=fot.inform&amp;r=&amp;i=\\');\">유해게시물신고</a><span class=\"bar\"></span></li> </ul> <address><em>©</em> <a href=\"https://www.navercorp.com/\" target=\"_blank\" onclick=\"return goOtherCR(this, \\'u=\\'+urlencode(this.href)+\\'&amp;a=fot.nhn&amp;r=&amp;i=\\');\">NAVER Corp.</a></address>  </div>  </div> <div id=\"bck_layer_map\" class=\"layer_map\" style=\"left:440px; top:284px; display:none\"> <div class=\"layer_bd\"> <iframe title=\"약도 보기\" name=\"map\" frameborder=\"0\" width=\"440\" height=\"373\" marginwidth=\"0\" marginheight=\"0\" scrolling=\"no\"></iframe> </div> <!--[if IE 6]><iframe title=\"약도 보기\" frameborder=\"0\" width=\"444\" height=\"377\" style=\"position:absolute; left:0; top:0; z-index:10\"></iframe><![endif]--> </div> <script type=\"text/template\" id=\"_atcmp_answer_0\"> <div class=\"add_opt _item\" data-sm=\"@2@\" data-keyword=\"@1@\" data-template_id=\"@0@\" data-acir=\"@rank@\" data-os=\"@8@\" data-bid=\"@9@\" data-eid=\"@3@\" data-pkid=\"@10@\" data-mra=\"@11@\" > <a href=\"#\" class=\"opt_dsc\"> <span class=\"dsc_thmb\" style=\"@style7@\">@image7@</span> <span class=\"dsc_group\"> <span class=\"dsc_cate\">@6@</span> <strong class=\"dsc_word\">@1@</strong> <span class=\"dsc_sub\" style=\"@style12@\">@12@</span> </span> </a> </div> </script> <script type=\"text/template\" id=\"_atcmp_answer_3\"> <div class=\"add_opt _item\" data-sm=\"@2@\" data-keyword=\"@1@\" data-template_id=\"@0@\" data-acir=\"@rank@\"> <a href=\"javascript:;\" class=\"opt_lotto\"> <span class=\"lotto_num_area\"> <span class=\"spat lotto_num lotto_num@6@\">@6@</span><span class=\"spat lotto_num lotto_num@7@\">@7@</span><span class=\"spat lotto_num lotto_num@8@\">@8@</span><span class=\"spat lotto_num lotto_num@9@\">@9@</span><span class=\"spat lotto_num lotto_num@10@\">@10@</span><span class=\"spat lotto_num lotto_num@11@\">@11@</span><span class=\"spat lotto_bonus\">+</span><span class=\"spat lotto_num lotto_num@12@\">@12@</span> </span> <span class=\"lotto_sub\">@5@회차<em class=\"lotto_date\">(@13@.)</em></span> </a> </div> </script> <script type=\"text/template\" id=\"_atcmp_answer_9\"> <div class=\"add_opt _item\" data-sm=\"@2@\" data-keyword=\"@1@\" data-template_id=\"@0@\" data-acir=\"@rank@\"> <a href=\"javascript:;\" class=\"opt_exchange opt_exchange_@11@\"> <span class=\"opt_nation\"> <img src=\"https://ssl.pstatic.net/sstatic/keypage/lifesrch/exchange/ico_@12@1.gif\" alt=\"\" /> @14@ <span class=\"tx_nation\">@money@</span> </span> <span class=\"opt_amount\"> <span class=\"amount\"><strong>@6@</strong>원</span><span class=\"changes\"><i class=\"bullet\">@10@</i> @8@ (@9@%)<span class=\"opt_time\"><time datetime=\"@fulldate@\">@7@</time></span></span> </span> </a> </div> </script> <script type=\"text/template\" id=\"_atcmp_answer_10\"> <div class=\"add_opt _item\" data-sm=\"@2@\" data-keyword=\"@1@\" data-template_id=\"@0@\" data-acir=\"@rank@\"> <a href=\"javascript:;\" class=\"opt_weather\"> <span class=\"opt_weather_thmb\"> <img src=\"https://ssl.pstatic.net/sstatic/search/pc/img/wt_@6@.png\" width=\"56\" height=\"56\" alt=\"@7@\"> </span> <span class=\"opt_weather_group\"> <span class=\"opt_weather_state\">@7@</span> <span class=\"opt_weather_state\">기온 <em class=\"opt_deg\">@8@</em><span class=\"opt_unit\">℃</span></span> <span class=\"opt_weather_state\">@9@ <em>@10@</em><span class=\"opt_unit\">@11@</span></span> <span class=\"opt_weather_state\"><span class=\"opt_time\"><time datetime=\"@fulldate@\">@5@</time></span></span> </span> </a> </div> </script> <script type=\"text/template\" id=\"_atcmp_answer_11\"> <div class=\"add_opt _item\" data-sm=\"@2@\" data-keyword=\"@1@\" data-template_id=\"@0@\" data-acir=\"@rank@\"> <a href=\"javascript:;\" class=\"opt_weather\"> <span class=\"opt_weather_thmb\"> <img src=\"https://ssl.pstatic.net/sstatic/search/pc/img/wt_@6@.png\" width=\"56\" height=\"56\" alt=\"@7@\"> </span> <span class=\"opt_weather_group\"> <span class=\"opt_weather_state\">@7@</span> <span class=\"opt_weather_state\">기온 <em class=\"opt_deg\">@8@</em><span class=\"opt_unit\">℃</span></span> <span class=\"opt_weather_state\">@9@ <em>@10@</em><span class=\"opt_unit\">@11@</span></span> <span class=\"opt_weather_state\"><span class=\"opt_time\"><time datetime=\"@fulldate@\">@5@</time></span></span> </span> </a> </div> </script> <script type=\"text/template\" id=\"_atcmp_answer_17\"> <div class=\"add_opt _item\" data-sm=\"@2@\" data-keyword=\"@1@\" data-template_id=\"@0@\" data-acir=\"@rank@\"> <a href=\"@5@\" target=\"_blank\" class=\"opt_shortcut\"> <span class=\"opt_url\">@display_link@</span> <span class=\"opt_txt\">사이트로 바로 이동</span> </a> </div> </script> <script type=\"text/template\" id=\"_atcmp_answer_20\"></script> <script type=\"text/template\" id=\"_atcmp_intend\"> <div class=\"add_opt type_context _item\" data-sm=\"asct\" data-keyword=\"@transquery@\" data-acir=\"@rank@\"> <a href=\"#\" class=\"opt_context\"> <span class=\"opt_tit\"><strong>@query@</strong></span> <span class=\"opt_sub\">@intend@</span> </a> </div> </script> <script type=\"text/template\" id=\"_atcmp_result_item_tpl\"> <li class=\"_item @url_class@\" data-acr=\"@rank@\"> <a href=\"#\" class=\"atcmp_keyword\" onclick=\"return false;\" title=\"\"><span class=\"atcmp_keyword_txt\">@txt@<span class=\"spat ic_expand\"></span></span></a> <a href=\"@url@\" target=\"_blank\" class=\"mquick\">바로이동</a> <span style=\"display:none\">@in_txt@</span> </li> </script> <script type=\"text/template\" id=\"_atcmp_keyword_highlight_tpl\"> @mismatch_before@<strong>@match@</strong>@mismatch_after@ </script> <script type=\"text/template\" id=\"_atcmp_keyword_partial_match_highlight_tpl\"> @mismatch_before@<strong>@match@</strong>@mismatch_after@ </script> <script type=\"text/javascript\"> /* [PR] 서비스에서 사용하는 클릭로그함수 설정 */ window.__atcmpCR = function(we, el, name, order, areaCode, rank) { var htAreaCode = __ghtAutoCompleteConfig[\"htAreaCode\"]; if(typeof htAreaCode[name] !== \\'undefined\\') { var areaCode = htAreaCode[name][0]; var rank = htAreaCode[name][1]; if(areaCode !== \\'\\') { tCR(\\'a=\\'+areaCode+\\'&u=\\'+urlencode(el.href)); /* clickcr(el, areaCode, rank, \\'\\', we); */ /* console.log(areaCode + rank); */ } } return false; }; /* [PR] 서비스별로 form submit 전에 처리해야하는 내용은 이곳에 작성해주세요. */ window.__atcmpSubmitBefore = function(elForm) { try { top.nx_form_submit(elForm); } catch (e) { try { nx_form_submit(elForm); } catch (e) {} } }; /* [PR] 각 서비스별 옵션 : 로그인여부는 pr에서 정의필요합니다. */ window.__ghtAutoCompleteConfig = { /* 자동완성 설정 (Top&Bottom) */ \"bLogin\" : false, /* 로그인 여부 */ \"sFromWhere\" : \\'nx\\', /* 검색 출처 (폼전송시 함께 전송) */ \"nStrMax\" : 55, /* 최대 말줄임 길이 */ \"sCookie\" : \\'NaverSuggestUse\\', /* 사용 쿠키명 */ \"htApiUrl\" : { /* 자동완성 API 정보 */ \"sMyKeyword\" : \\'https://s.search.naver.com/n/mykeyword/search\\', \"sAcKeyword\" : \\'//ac.search.naver.com/nx/ac\\', \"sAcAnsType\" : \\'2\\' /* 1 : 기존정답형만 lookup (탭검인 경우 1로 설정) */ }, \"ahtOption\" : [ { \"sOrder\" : \"asc\", /* 정렬방식 (asc/desc) */ \"sFormId\" : \\'nx_search_form\\', /* 폼엘리먼트 ID */ \"sInputId\" : \\'nx_query\\', /* 입력창 엘리먼트 ID */ \"sViewId\" : \\'nx_autoframe_top\\', /* 자동완성 레이어 ID */ \"sViewToggleButtonId\" : \\'nautocomplete\\' /* 레이어토글 버튼 ID */ } ,{ \"sOrder\" : \"desc\", /* 정렬방식 (asc/desc) */ \"sFormId\" : \\'nx_search_form_btm\\', /* 폼엘리먼트 ID */ \"sInputId\" : \\'nx_query_btm\\', /* 입력창 엘리먼트 ID */ \"sViewId\" : \\'nx_autoframe_btm\\', /* 자동완성 레이어 ID */ \"sViewToggleButtonId\" : \\'nautocomplete_btm\\' /* 레이어토글 버튼 ID */ } ], \"htButtonImg\" : { \"show\" : \"https://ssl.pstatic.net/sstatic/search/2015/btn_atcmp_up.gif\", \"unuseShow\" : \"https://ssl.pstatic.net/sstatic/search/images11/btn_atcmp_up_off.gif\", \"hide\" : \"https://ssl.pstatic.net/sstatic/search/2015/btn_atcmp_down.gif\", \"unuse\" : \"https://ssl.pstatic.net/sstatic/search/images11/btn_atcmp_down_off2.gif\" }, /* 서비스별 클릭영역코드 매핑정보 (sch.xxx: 검색창영역, sug.xxx: 자동완성 영역, sly.xxx: 최근/내검색어 영역) */ \"htAreaCode\": { \"expand\": [\\'sch.expand\\', \\'0\\'], /* 우측 역삼각형 펼침 */ \"close\": [\\'sch.close\\', \\'0\\'], /* 우측 역삼각형 접힘 */ \"autokeyword\": [\\'\\', \\'\\'], /* 자동완성키워드 클릭 (종료: 폼액션으로 넘어가므로 클릭로그 대신 SM파라미터로 수집함) */ \"ansdirect\": [\\'sug.ansdirect\\', \\'\\'], /* 정답형 바로가기 (엔터/클릭) */ \"go1\": [\\'sug.go1\\', \\'\\'], /* 바로이동 클릭 */ \"go2\": [\\'sug.go2\\', \\'\\'], /* 바로이동 클릭 (하단영역이 있는 통검 및 SE통검 에서만 유효함) */ \"help\": [\\'sug.help\\', \\'\\'], /* 도움말 클릭 */ \"report\": [\\'sug.report\\', \\'\\'], /* 신고 클릭 */ \"sugoff\": [\\'sug.sugoff\\', \\'\\'], /* 자동완성 끄기 클릭 */ \"sugon\": [\\'sug.sugon\\', \\'\\'], /* 자동완성 켜기 클릭 */ \"plus.close\": [\\'sug.cxhide\\', \\'\\'], /* 자동완성 플러스 닫기버튼 */ \"plus.login\": [\\'sug.cxlogin\\', \\'\\'], /* 자동완성 플러스 로그인 버튼 */ \"plus.detail\": [\\'sug.cxlink\\', \\'\\'], /* 자동완성 플러스 자세히 버튼 */ \"plus.help\": [\\'sug.cxhelp\\', \\'\\'], /* 자동완성 플러스 도움말 */ \"plus.use\": [\\'sug.cxon\\', \\'\\'], /* 자동완성 플러스 사용 */ \"plus.unuse\": [\\'sug.cxoff\\', \\'\\'], /* 자동완성 플러스 사용안함 */ \"saveoff\": [\\'sug.saveoff\\', \\'\\'], /* 검색어저장 끄기 클릭 */ \"saveon\": [\\'sug.saveon\\', \\'\\'], /* 검색어저장 켜기 클릭 */ \"rtab\": [\\'sly.rtab\\', \\'\\'], /* 최근검색어 탭 클릭 */ \"mytab\": [\\'sly.mytab\\', \\'\\'], /* 내검색어 탭 클릭 */ \"rx\": [\\'sly.rx\\', \\'\\'], /* 최근검색어 개별삭제 클릭 */ \"rdel\": [\\'sly.rdel\\', \\'\\'], /* 최근검색어 기록삭제 클릭 */ \"rdelend\": [\\'sly.rdelend\\', \\'\\'], /* 최근검색어 완료 클릭 */ \"ralldel\": [\\'sly.ralldel\\', \\'\\'], /* 최근검색어 전체삭제 클릭 */ \"myalldel\": [\\'sly.myalldel\\', \\'\\'], /* 내검색어 전체삭제 */ \"mydel\": [\\'sly.mydel\\', \\'\\'], /* 내검색어 삭제 */ \"myadd\": [\\'sly.myadd\\', \\'\\'] /* 내검색어 등록 */ }, /* 서비스별 SM파라미터 매핑정보 * sm파라미터 추가시 https://oss.navercorp.com/sau-pc/naver_autocomplete/issues/19 확인 필요 */ \"htSmParam\" : { \"hty\" : \\'tab_hty.top\\', /* sm 파라미터 초기값 */ \"htyb\" : \\'tab_hty.btm\\', /* sm 파라미터 초기값(검색창 하단) */ \"hst\" : \\'tab_sly.hst\\', /* 최근검색키워드 */ \"my\" : \\'tab_sly.my\\', /* 내검색키워드 */ \"prefix\" : \\'tab_sug\\', /* sm 파라미터 서비스별 prefix */ \"top\" : \\'tab_sug.top\\', /* 자동완성키워드 */ \"btm\" : \\'tab_sug.btm\\', /* 자동완성키워드 (역순) */ \"pat\" : \\'tab_sug.pat\\', /* 자동완성키워드 (부분자동완성) */ \"mbk\" : \\'tab_sug.mbk\\', /* 자동완성키워드 (오타교정자동완성) */ \"nlq\" : \\'tab_sug.nlq\\', /* 자연어검색 */ \"asgl\" : \\'tab_sug.asgl\\', /* 1국가번호 (한국 국가번호) */ \"asga\" : \\'tab_sug.asga\\', /* 1국가번호 다른중복지역 */ \"aslt\" : \\'tab_sug.aslt\\', /* 3로또당첨번호 */ \"aspl\" : \\'tab_sug.aspl\\', /* 6연금복권당첨번호 */ \"astm\" : \\'tab_sug.astm\\', /* 7영업시간 (신한은행 영업시간) */ \"ast\" : \\'tab_sug.ast\\', /* 8전화번호 (국세청 전화번호) */ \"ase\" : \\'tab_sug.ase\\', /* 9환율 (엔화환율) */ \"aswt\" : \\'tab_sug.aswt\\', /* 10해외날씨 (일본날씨) */ \"asis\" : \\'tab_sug.asis\\', /* 12올림픽순위 */ \"extension\" : \\'tab_sug.search\\' /* 검색기반 자동완성 */ } }; </script> <script type=\"text/javascript\"> /* 자동완성 객체 생성 (Top & Bottom) */ new nhn.common.atcmp.naver_web.Controller(__ghtAutoCompleteConfig).attach({ onSelect : function(oCustomEvent) {__atcmpSubmitBefore(oCustomEvent.elForm);}, onClickLog : function(oCustomEvent) {__atcmpCR(oCustomEvent.event, oCustomEvent.element, oCustomEvent.name, oCustomEvent.order, \\'\\', \\'\\');} }); </script> </div> <script type=\"text/javascript\"> (function() { var needFix = navigator.userAgent.toLowerCase().indexOf(\\'webkit\\') > -1; d = document; if (!needFix || !d.querySelectorAll) return; var toArray = function(list){ var armap=[]; i=0; for(;i<list.length;++i){ armap.push(list[i]); } return Array.prototype.slice.call(armap, 0); } ; window.addEventListener(\\'load\\', function() { toArray(d.querySelectorAll(\\'#u_skip a\\')).forEach(function(el) { el.addEventListener(\\'click\\', function() { var target = d.getElementById(this.href.split(\\'#\\')[1]); oldTabIndex = target.getAttribute(\\'tabindex\\'); oldOutlineWidth = d.defaultView.getComputedStyle(target, null).getPropertyValue(\\'outline-width\\'); target.setAttribute(\\'tabindex\\', 0); target.style.outlineWidth = 0; target.focus(); if (oldTabIndex === null) target.removeAttribute(\\'tabindex\\'); else target.setAttribute(\\'tabindex\\', oldTabIndex); }, false); }); }, false); })(); </script><script type=\"text/javascript\"> if(typeof nx_usain_beacon !== \\'undefined\\') {  $Fn(function () { nx_usain_beacon.send(); }).attach(window, \"load\") ; } </script></body> </html>'"
      ]
     },
     "execution_count": 161,
     "metadata": {},
     "output_type": "execute_result"
    }
   ],
   "source": [
    "html.text"
   ]
  },
  {
   "cell_type": "code",
   "execution_count": 127,
   "metadata": {},
   "outputs": [],
   "source": [
    "dom = BeautifulSoup(html.text, \"lxml\")"
   ]
  },
  {
   "cell_type": "code",
   "execution_count": 128,
   "metadata": {},
   "outputs": [
    {
     "name": "stdout",
     "output_type": "stream",
     "text": [
      "<bound method Tag.prettify of <!DOCTYPE html>\n",
      "<html itemscope=\"\" itemtype=\"http://schema.org/WebPage\" lang=\"ko\"><head><meta content=\"text/html; charset=utf-8\" http-equiv=\"Content-Type\"/><meta content=\"/images/branding/googleg/1x/googleg_standard_color_128dp.png\" itemprop=\"image\"/><title>Google</title><script nonce=\"Fky5hzBfxXtgxLu9/zWyUg==\">(function(){window.google={kEI:'5-grXdinFcij8AXpwaCQDA',kEXPI:'0,1353804,1957,2423,1225,590,140,224,510,19,1046,3152,378,206,1017,1203,79,202,32,21,187,55,317,91,10,72,158,2331141,329556,1294,12383,4855,32692,15247,867,12163,16521,364,3319,5505,2442,260,5107,575,835,284,2,578,728,2432,1361,4323,4968,773,2251,2819,1924,3122,2591,3601,669,1050,1808,1397,81,7,491,2044,8909,5297,796,101,1119,38,920,746,7,120,1217,1364,346,1,1264,2736,3061,2,631,3248,36,2374,1774,635,1161,1446,632,2228,656,20,317,1119,474,430,101,1247,777,1,372,1315,703,756,98,392,29,400,992,98,1009,10,168,8,109,1018,1495,1141,48,553,11,14,10,1269,2212,25,177,25,298,7,1243,7,840,324,193,318,214,952,38,158,662,1464,1156,818,260,1189,2,7,7,1495,554,606,1830,9,184,1538,239,18,502,360,947,37,603,553,194,29,216,184,348,798,328,1203,81,16,86,133,166,116,486,21,333,1144,113,268,61,917,722,608,90,10,144,224,5,509,108,87,338,9,19,2,5,721,41,229,61,440,557,592,79,1576,615,22,358,333,153,313,219,485,460,2,381,595,90,241,47,2,246,56,444,612,5915004,1873,1012,8797455,194,1382,549,333,444,1,2,80,1,900,576,16,304,1,8,1,2,2132,1,1,1,1,1,414,1,748,141,59,726,3,7,563,1,2849,1,40,32,1,19,53,18,4',authuser:0,kscs:'c9c918f0_5-grXdinFcij8AXpwaCQDA',kGL:'KR'};google.sn='webhp';google.kHL='ko';})();(function(){google.lc=[];google.li=0;google.getEI=function(a){for(var b;a&&(!a.getAttribute||!(b=a.getAttribute(\"eid\")));)a=a.parentNode;return b||google.kEI};google.getLEI=function(a){for(var b=null;a&&(!a.getAttribute||!(b=a.getAttribute(\"leid\")));)a=a.parentNode;return b};google.https=function(){return\"https:\"==window.location.protocol};google.ml=function(){return null};google.time=function(){return(new Date).getTime()};google.log=function(a,b,e,c,g){if(a=google.logUrl(a,b,e,c,g)){b=new Image;var d=google.lc,f=google.li;d[f]=b;b.onerror=b.onload=b.onabort=function(){delete d[f]};google.vel&&google.vel.lu&&google.vel.lu(a);b.src=a;google.li=f+1}};google.logUrl=function(a,b,e,c,g){var d=\"\",f=google.ls||\"\";e||-1!=b.search(\"&ei=\")||(d=\"&ei=\"+google.getEI(c),-1==b.search(\"&lei=\")&&(c=google.getLEI(c))&&(d+=\"&lei=\"+c));c=\"\";!e&&google.cshid&&-1==b.search(\"&cshid=\")&&\"slh\"!=a&&(c=\"&cshid=\"+google.cshid);a=e||\"/\"+(g||\"gen_204\")+\"?atyp=i&ct=\"+a+\"&cad=\"+b+d+f+\"&zx=\"+google.time()+c;/^http:/i.test(a)&&google.https()&&(google.ml(Error(\"a\"),!1,{src:a,glmm:1}),a=\"\");return a};}).call(this);(function(){google.y={};google.x=function(a,b){if(a)var c=a.id;else{do c=Math.random();while(google.y[c])}google.y[c]=[a,b];return!1};google.lm=[];google.plm=function(a){google.lm.push.apply(google.lm,a)};google.lq=[];google.load=function(a,b,c){google.lq.push([[a],b,c])};google.loadAll=function(a,b){google.lq.push([a,b])};}).call(this);google.f={};var a=window.location,b=a.href.indexOf(\"#\");if(0<=b){var c=a.href.substring(b+1);/(^|&)q=/.test(c)&&-1==c.indexOf(\"#\")&&a.replace(\"/search?\"+c.replace(/(^|&)fp=[^&]*/g,\"\")+\"&cad=h\")};</script><style>#gbar,#guser{font-size:13px;padding-top:1px !important;}#gbar{height:22px}#guser{padding-bottom:7px !important;text-align:right}.gbh,.gbd{border-top:1px solid #c9d7f1;font-size:1px}.gbh{height:0;position:absolute;top:24px;width:100%}@media all{.gb1{height:22px;margin-right:.5em;vertical-align:top}#gbar{float:left}}a.gb1,a.gb4{text-decoration:underline !important}a.gb1,a.gb4{color:#00c !important}.gbi .gb4{color:#dd8e27 !important}.gbf .gb4{color:#900 !important}\n",
      "</style><style>body,td,a,p,.h{font-family:&#44404;&#47548;,&#46027;&#50880;,arial,sans-serif}.ko{font-size:9pt}body{margin:0;overflow-y:scroll}#gog{padding:3px 8px 0}td{line-height:.8em}.gac_m td{line-height:17px}form{margin-bottom:20px}.h{color:#36c}.q{color:#00c}.ts td{padding:0}.ts{border-collapse:collapse}em{font-weight:bold;font-style:normal}.lst{height:25px;width:496px}.gsfi,.lst{font:18px arial,sans-serif}.gsfs{font:17px arial,sans-serif}.ds{display:inline-box;display:inline-block;margin:3px 0 4px;margin-left:4px}input{font-family:inherit}a.gb1,a.gb2,a.gb3,a.gb4{color:#11c !important}body{background:#fff;color:black}a{color:#11c;text-decoration:none}a:hover,a:active{text-decoration:underline}.fl a{color:#36c}a:visited{color:#551a8b}a.gb1,a.gb4{text-decoration:underline}a.gb3:hover{text-decoration:none}#ghead a.gb2:hover{color:#fff !important}.sblc{padding-top:5px}.sblc a{display:block;margin:2px 0;margin-left:13px;font-size:11px}.lsbb{background:#eee;border:solid 1px;border-color:#ccc #999 #999 #ccc;height:30px}.lsbb{display:block}.ftl,#fll a{display:inline-block;margin:0 12px}.lsb{background:url(/images/nav_logo229.png) 0 -261px repeat-x;border:none;color:#000;cursor:pointer;height:30px;margin:0;outline:0;font:15px arial,sans-serif;vertical-align:top}.lsb:active{background:#ccc}.lst:focus{outline:none}.tiah{width:458px}</style><script nonce=\"Fky5hzBfxXtgxLu9/zWyUg==\"></script></head><body bgcolor=\"#fff\"><script nonce=\"Fky5hzBfxXtgxLu9/zWyUg==\">(function(){var src='/images/nav_logo229.png';var iesg=false;document.body.onload = function(){window.n && window.n();if (document.images){new Image().src=src;}\n",
      "if (!iesg){document.f&&document.f.q.focus();document.gbqf&&document.gbqf.q.focus();}\n",
      "}\n",
      "})();</script><div id=\"mngb\"> <div id=\"gbar\"><nobr><b class=\"gb1\">검색</b> <a class=\"gb1\" href=\"https://www.google.co.kr/imghp?hl=ko&amp;tab=wi\">이미지</a> <a class=\"gb1\" href=\"https://maps.google.co.kr/maps?hl=ko&amp;tab=wl\">지도</a> <a class=\"gb1\" href=\"https://play.google.com/?hl=ko&amp;tab=w8\">Play</a> <a class=\"gb1\" href=\"https://www.youtube.com/?gl=KR&amp;tab=w1\">YouTube</a> <a class=\"gb1\" href=\"https://news.google.co.kr/nwshp?hl=ko&amp;tab=wn\">뉴스</a> <a class=\"gb1\" href=\"https://mail.google.com/mail/?tab=wm\">Gmail</a> <a class=\"gb1\" href=\"https://drive.google.com/?tab=wo\">드라이브</a> <a class=\"gb1\" href=\"https://www.google.co.kr/intl/ko/about/products?tab=wh\" style=\"text-decoration:none\"><u>더보기</u> »</a></nobr></div><div id=\"guser\" width=\"100%\"><nobr><span class=\"gbi\" id=\"gbn\"></span><span class=\"gbf\" id=\"gbf\"></span><span id=\"gbe\"></span><a class=\"gb4\" href=\"http://www.google.co.kr/history/optout?hl=ko\">웹 기록</a> | <a class=\"gb4\" href=\"/preferences?hl=ko\">설정</a> | <a class=\"gb4\" href=\"https://accounts.google.com/ServiceLogin?hl=ko&amp;passive=true&amp;continue=https://www.google.com/webhp\" id=\"gb_70\" target=\"_top\">로그인</a></nobr></div><div class=\"gbh\" style=\"left:0\"></div><div class=\"gbh\" style=\"right:0\"></div> </div><center><br clear=\"all\" id=\"lgpd\"/><div id=\"lga\"><img alt=\"Google\" height=\"92\" id=\"hplogo\" src=\"/images/branding/googlelogo/1x/googlelogo_white_background_color_272x92dp.png\" style=\"padding:28px 0 14px\" width=\"272\"/><br/><br/></div><form action=\"/search\" name=\"f\"><table cellpadding=\"0\" cellspacing=\"0\"><tr valign=\"top\"><td width=\"25%\"> </td><td align=\"center\" nowrap=\"\"><input name=\"ie\" type=\"hidden\" value=\"ISO-8859-1\"/><input name=\"hl\" type=\"hidden\" value=\"ko\"/><input name=\"source\" type=\"hidden\" value=\"hp\"/><input name=\"biw\" type=\"hidden\"/><input name=\"bih\" type=\"hidden\"/><div class=\"ds\" style=\"height:32px;margin:4px 0\"><div style=\"position:relative;zoom:1\"><input autocomplete=\"off\" class=\"lst tiah\" maxlength=\"2048\" name=\"q\" size=\"57\" style=\"color:#000;margin:0;padding:5px 8px 0 6px;vertical-align:top;padding-right:38px\" title=\"Google 검색\" value=\"\"/><img alt=\"\" data-script-url=\"/textinputassistant/11/ko_tia.js\" height=\"23\" onclick=\"var s=document.createElement('script');s.src=this.getAttribute('data-script-url');(document.getElementById('xjsc')||document.body).appendChild(s);\" src=\"/textinputassistant/tia.png\" style=\"position:absolute;cursor:pointer;right:5px;top:4px;z-index:300\" width=\"27\"/></div></div><br style=\"line-height:0\"/><span class=\"ds\"><span class=\"lsbb\"><input class=\"lsb\" name=\"btnG\" type=\"submit\" value=\"Google 검색\"/></span></span><span class=\"ds\"><span class=\"lsbb\"><input class=\"lsb\" name=\"btnI\" onclick=\"if(this.form.q.value)this.checked=1; else top.location='/doodles/'\" type=\"submit\" value=\"I’m Feeling Lucky\"/></span></span></td><td align=\"left\" class=\"fl sblc\" nowrap=\"\" width=\"25%\"><a href=\"/advanced_search?hl=ko&amp;authuser=0\">고급검색</a><a href=\"/language_tools?hl=ko&amp;authuser=0\">언어도구</a></td></tr></table><input id=\"gbv\" name=\"gbv\" type=\"hidden\" value=\"1\"/><script nonce=\"Fky5hzBfxXtgxLu9/zWyUg==\">(function(){var a,b=\"1\";if(document&&document.getElementById)if(\"undefined\"!=typeof XMLHttpRequest)b=\"2\";else if(\"undefined\"!=typeof ActiveXObject){var c,d,e=[\"MSXML2.XMLHTTP.6.0\",\"MSXML2.XMLHTTP.3.0\",\"MSXML2.XMLHTTP\",\"Microsoft.XMLHTTP\"];for(c=0;d=e[c++];)try{new ActiveXObject(d),b=\"2\"}catch(h){}}a=b;if(\"2\"==a&&-1==location.search.indexOf(\"&gbv=2\")){var f=google.gbvu,g=document.getElementById(\"gbv\");g&&(g.value=a);f&&window.setTimeout(function(){location.href=f},0)};}).call(this);</script></form><div id=\"gac_scont\"></div><div style=\"font-size:83%;min-height:3.5em\"><br/></div><span id=\"footer\"><div style=\"font-size:10pt\"><div id=\"fll\" style=\"margin:19px auto;text-align:center\"><a href=\"/intl/ko/ads/\">광고 프로그램</a><a href=\"http://www.google.co.kr/intl/ko/services/\">비즈니스 솔루션</a><a href=\"/intl/ko/about.html\">Google 정보</a><a href=\"https://www.google.com/setprefdomain?prefdom=KR&amp;prev=https://www.google.co.kr/&amp;sig=K_r_jfQVb741rOCnKQo1bST7TMf4M%3D\">Google.co.kr</a></div></div><p style=\"color:#767676;font-size:8pt\">© 2019 - <a href=\"/intl/ko/policies/privacy/\">개인정보처리방침</a> - <a href=\"/intl/ko/policies/terms/\">약관</a></p></span></center><script nonce=\"Fky5hzBfxXtgxLu9/zWyUg==\">(function(){window.google.cdo={height:0,width:0};(function(){var a=window.innerWidth,b=window.innerHeight;if(!a||!b){var c=window.document,d=\"CSS1Compat\"==c.compatMode?c.documentElement:c.body;a=d.clientWidth;b=d.clientHeight}a&&b&&(a!=google.cdo.width||b!=google.cdo.height)&&google.log(\"\",\"\",\"/client_204?&atyp=i&biw=\"+a+\"&bih=\"+b+\"&ei=\"+google.kEI);}).call(this);})();(function(){var u='/xjs/_/js/k\\x3dxjs.hp.en.wiy1bgixabg.O/m\\x3dsb_he,d/am\\x3dABbUBA/d\\x3d1/rs\\x3dACT90oEmdwdVROC_0uhF6VVdKIFRJr-D2Q';setTimeout(function(){var a=document.createElement(\"script\");a.src=u;google.timers&&google.timers.load&&google.tick&&google.tick(\"load\",\"xjsls\");document.body.appendChild(a)},0);})();(function(){window.google.xjsu='/xjs/_/js/k\\x3dxjs.hp.en.wiy1bgixabg.O/m\\x3dsb_he,d/am\\x3dABbUBA/d\\x3d1/rs\\x3dACT90oEmdwdVROC_0uhF6VVdKIFRJr-D2Q';})();function _DumpException(e){throw e;}\n",
      "function _F_installCss(c){}\n",
      "(function(){google.spjs=false;google.snet=true;google.em=[];google.emw=false;})();google.sm=1;(function(){var pmc='{\\x22Qnk92g\\x22:{},\\x22RWGcrA\\x22:{},\\x22U5B21g\\x22:{},\\x22YFCs/g\\x22:{},\\x22ZI/YVQ\\x22:{},\\x22d\\x22:{},\\x22mVopag\\x22:{},\\x22sb_he\\x22:{\\x22agen\\x22:true,\\x22cgen\\x22:true,\\x22client\\x22:\\x22heirloom-hp\\x22,\\x22dh\\x22:true,\\x22dhqt\\x22:true,\\x22ds\\x22:\\x22\\x22,\\x22ffql\\x22:\\x22ko\\x22,\\x22fl\\x22:true,\\x22host\\x22:\\x22google.com\\x22,\\x22isbh\\x22:28,\\x22jsonp\\x22:true,\\x22msgs\\x22:{\\x22cibl\\x22:\\x22&#44160;&#49353;&#50612; &#51648;&#50864;&#44592;\\x22,\\x22dym\\x22:\\x22&#51060;&#44163;&#51012; &#52286;&#51004;&#49512;&#45208;&#50836;?\\x22,\\x22lcky\\x22:\\x22I&#8217;m Feeling Lucky\\x22,\\x22lml\\x22:\\x22&#51088;&#49464;&#55176; &#50508;&#50500;&#48372;&#44592;\\x22,\\x22oskt\\x22:\\x22&#51077;&#47141; &#46020;&#44396;\\x22,\\x22psrc\\x22:\\x22&#44160;&#49353;&#50612;&#44032; \\\\u003Ca href\\x3d\\\\\\x22/history\\\\\\x22\\\\u003E&#50937; &#44592;&#47197;\\\\u003C/a\\\\u003E&#50640;&#49436; &#49325;&#51228;&#46104;&#50632;&#49845;&#45768;&#45796;.\\x22,\\x22psrl\\x22:\\x22&#49325;&#51228;\\x22,\\x22sbit\\x22:\\x22&#51060;&#48120;&#51648;&#47196; &#44160;&#49353;\\x22,\\x22srch\\x22:\\x22Google &#44160;&#49353;\\x22},\\x22ovr\\x22:{},\\x22pq\\x22:\\x22\\x22,\\x22refpd\\x22:true,\\x22refspre\\x22:true,\\x22rfs\\x22:[],\\x22sbpl\\x22:24,\\x22sbpr\\x22:24,\\x22scd\\x22:10,\\x22sce\\x22:5,\\x22stok\\x22:\\x22XC7-2exvUN6M97Ezd7UTV6xyD0o\\x22,\\x22uhde\\x22:false}}';google.pmc=JSON.parse(pmc);})();</script> </body></html>>\n"
     ]
    }
   ],
   "source": [
    "print(dom.prettify)"
   ]
  },
  {
   "cell_type": "code",
   "execution_count": 148,
   "metadata": {},
   "outputs": [],
   "source": [
    "queue = list()\n",
    "queue.extend([_[\"href\"] for _ in dom.select(\"._sp_each_url._sp_each_title\")])\n",
    "seen = list()"
   ]
  },
  {
   "cell_type": "code",
   "execution_count": 149,
   "metadata": {},
   "outputs": [
    {
     "data": {
      "text/plain": [
       "[]"
      ]
     },
     "execution_count": 149,
     "metadata": {},
     "output_type": "execute_result"
    }
   ],
   "source": [
    "queue"
   ]
  },
  {
   "cell_type": "code",
   "execution_count": 147,
   "metadata": {},
   "outputs": [],
   "source": [
    "while queue:\n",
    "    baseURL = queue.pop(0)\n",
    "    seen.append(baseURL)\n",
    "    time.sleep(1) \n",
    "    linkList = parseURL(baseURL)\n",
    "    for link in linkList:\n",
    "        if link not in queue and link not in seen:\n",
    "            queue.append(link)   \n",
    "    print(\"Queue : {0}, Seen : {1}\".format(len(queue), len(seen)))"
   ]
  },
  {
   "cell_type": "markdown",
   "metadata": {},
   "source": [
    "---"
   ]
  },
  {
   "cell_type": "code",
   "execution_count": 201,
   "metadata": {},
   "outputs": [],
   "source": [
    "url = \"https://blog.naver.com/shrnrgus80/221579714671\""
   ]
  },
  {
   "cell_type": "code",
   "execution_count": 193,
   "metadata": {},
   "outputs": [],
   "source": [
    "html = download(\"get\",url)"
   ]
  },
  {
   "cell_type": "code",
   "execution_count": 194,
   "metadata": {},
   "outputs": [],
   "source": [
    "dom = BeautifulSoup(html.text, \"lxml\")"
   ]
  },
  {
   "cell_type": "code",
   "execution_count": 195,
   "metadata": {},
   "outputs": [
    {
     "data": {
      "text/plain": [
       "<!DOCTYPE html PUBLIC \"-//W3C//DTD XHTML 1.0 Transitional//EN\" \"http://www.w3.org/TR/xhtml1/DTD/xhtml1-transitional.dtd\">\n",
       "<html lang=\"ko\">\n",
       "<head>\n",
       "<meta content=\"no-cache\" http-equiv=\"Pragma\"/>\n",
       "<meta content=\"-1\" http-equiv=\"Expires\"/>\n",
       "<meta content=\"noindex,follow\" name=\"robots\"/>\n",
       "<meta content=\"always\" name=\"referrer\"/>\n",
       "<meta content=\"text/html;charset=utf-8\" http-equiv=\"content-type\"/>\n",
       "<meta content=\"IE=edge,chrome=1\" http-equiv=\"X-UA-Compatible\"/>\n",
       "<link href=\"/favicon.ico?2\" rel=\"shortcut icon\" type=\"image/x-icon\"/>\n",
       "<link href=\"https://rss.blog.naver.com/shrnrgus80.xml\" rel=\"alternate\" title=\"RSS feed for shrnrgus80 Blog\" type=\"application/rss+xml\"/>\n",
       "<link href=\"https://blog.naver.com/NBlogWlwLayout.nhn?blogId=shrnrgus80\" rel=\"wlwmanifest\" type=\"application/wlwmanifest+xml\"/>\n",
       "<title>노로라의ForeverYoung : 네이버 블로그</title>\n",
       "</head>\n",
       "<script charset=\"UTF-8\" src=\"https://ssl.pstatic.net/t.static.blog/mylog/versioning/Frameset-657805386_https.js\" type=\"text/javascript\"></script>\n",
       "<script charset=\"UTF-8\" type=\"text/javascript\">\n",
       "var photoContent=\"\";\n",
       "var postContent=\"\";\n",
       "\n",
       "var videoId \t  = \"\";\n",
       "var thumbnail \t  = \"\";\n",
       "var inKey \t\t  = \"\";\n",
       "var movieFileSize = \"\";\n",
       "var playTime \t  = \"\";\n",
       "var screenSize \t  = \"\";\n",
       "\n",
       "var blogId = 'shrnrgus80';\n",
       "var blogURL = 'https://blog.naver.com';\n",
       "var eventCnt = '';\n",
       "\n",
       "var g_ShareObject = {};\n",
       "g_ShareObject.referer = \"\";\n",
       "\n",
       "\n",
       "jsMVC.setController(\"framesetTitleController\", FramesetTitleController);\n",
       "jsMVC.setController(\"framesetUrlController\", FramesetUrlController);\n",
       "jsMVC.setController(\"framesetMusicController\", FramesetMusicController);\n",
       "var oFramesetTitleController = jsMVC.getController(\"framesetTitleController\");\n",
       "var oFramesetUrlController = jsMVC.getController(\"framesetUrlController\");\n",
       "var oFramesetMusicController = jsMVC.getController(\"framesetMusicController\");\n",
       "var sTitle = document.title;\n",
       "\n",
       "</script>\n",
       "<style type=\"text/css\">\n",
       "    html{width:100%;height:100%;}\n",
       "    body{width:100%;height:100%;margin:0;padding:0;font-size:0;}\n",
       "    #mainFrame{width:100%;height:99.8%;margin:0;padding:0;border:0;}\n",
       "    #hiddenFrame{width:0;height:0;margin:0;padding:0;border:0;}\n",
       "</style>\n",
       "<body>\n",
       "<iframe allowfullscreen=\"true\" id=\"mainFrame\" name=\"mainFrame\" onload=\"oFramesetTitleController.start(self.frames['mainFrame'], self, sTitle);oFramesetTitleController.onLoadFrame();oFramesetUrlController.start(self.frames['mainFrame']);oFramesetUrlController.onLoadFrame()\" scrolling=\"auto\" src=\"/PostView.nhn?blogId=shrnrgus80&amp;logNo=221579714671&amp;redirect=Dlog&amp;widgetTypeCall=true&amp;directAccess=false\"></iframe>\n",
       "<iframe id=\"hiddenFrame\" name=\"hiddenFrame\" noresize=\"noresize\" scrolling=\"no\" src=\"/NBlogHidden.nhn?blogId=shrnrgus80&amp;musicYN=false\"></iframe>\n",
       "</body>\n",
       "</html>"
      ]
     },
     "execution_count": 195,
     "metadata": {},
     "output_type": "execute_result"
    }
   ],
   "source": [
    "dom"
   ]
  },
  {
   "cell_type": "code",
   "execution_count": 170,
   "metadata": {},
   "outputs": [
    {
     "data": {
      "text/plain": [
       "[]"
      ]
     },
     "execution_count": 170,
     "metadata": {},
     "output_type": "execute_result"
    }
   ],
   "source": [
    "[_ for _ in dom.select(\"div\")]"
   ]
  },
  {
   "cell_type": "code",
   "execution_count": 196,
   "metadata": {},
   "outputs": [],
   "source": [
    "def checkBlog(url):\n",
    "    return requests.compat.urlparse(url)[1] == \"blog.naver.com\""
   ]
  },
  {
   "cell_type": "code",
   "execution_count": 207,
   "metadata": {},
   "outputs": [],
   "source": [
    "def parseURL(seed):\n",
    "    html = download(\"get\",seed)\n",
    "    dom = BeautifulSoup(html.text, \"lxml\")\n",
    "    \n",
    "    if len(dom.select(\"#mainFrame\")) < 1:\n",
    "        return []\n",
    "    \n",
    "    seed = requests.compat.urljoin(seed,\n",
    "                           dom.select(\"#mainFrame\")[0][\"src\"])\n",
    "    \n",
    "    return [requests.compat.urljoin(seed,_[\"href\"])\n",
    "           for _ in dom.select(\"a\")\n",
    "           if _.has_attr(\"href\") and len(_[\"href\"])>3 and \n",
    "           checkBlog(requests.compat.urljoin(seed, _[\"href\"]))]"
   ]
  },
  {
   "cell_type": "code",
   "execution_count": 227,
   "metadata": {},
   "outputs": [
    {
     "data": {
      "text/plain": [
       "[<iframe allowfullscreen=\"true\" id=\"mainFrame\" name=\"mainFrame\" onload=\"oFramesetTitleController.start(self.frames['mainFrame'], self, sTitle);oFramesetTitleController.onLoadFrame();oFramesetUrlController.start(self.frames['mainFrame']);oFramesetUrlController.onLoadFrame()\" scrolling=\"auto\" src=\"/PostView.nhn?blogId=shrnrgus80&amp;logNo=221579714671&amp;redirect=Dlog&amp;widgetTypeCall=true&amp;directAccess=false\"></iframe>]"
      ]
     },
     "execution_count": 227,
     "metadata": {},
     "output_type": "execute_result"
    }
   ],
   "source": [
    "dom.select(\"#mainFrame\")"
   ]
  },
  {
   "cell_type": "code",
   "execution_count": 204,
   "metadata": {},
   "outputs": [
    {
     "data": {
      "text/plain": [
       "['https://blog.naver.com',\n",
       " 'https://blog.naver.com/prologue/PrologueList.nhn?blogId=shrnrgus80',\n",
       " 'https://blog.naver.com/PostView.nhn?blogId=shrnrgus80&logNo=221579714671&redirect=Dlog&widgetTypeCall=true&directAccess=false#blog-menu',\n",
       " 'https://blog.naver.com/PostView.nhn?blogId=shrnrgus80&logNo=221579714671&redirect=Dlog&widgetTypeCall=true&directAccess=false#post_1',\n",
       " 'https://blog.naver.com/MyBlog.nhn',\n",
       " 'https://blog.naver.com/prologue/PrologueList.nhn?blogId=shrnrgus80',\n",
       " 'https://blog.naver.com/prologue/PrologueList.nhn?blogId=shrnrgus80&skinType=&skinId=&from=menu',\n",
       " 'https://blog.naver.com/PostList.nhn?blogId=shrnrgus80&skinType=&skinId=&from=menu',\n",
       " 'https://blog.naver.com/PostList.nhn?blogId=shrnrgus80&categoryNo=12&skinType=&skinId=&from=menu',\n",
       " 'https://blog.naver.com/PostList.nhn?blogId=shrnrgus80&categoryNo=11&skinType=&skinId=&from=menu',\n",
       " 'https://blog.naver.com/PostList.nhn?blogId=shrnrgus80&categoryNo=1&skinType=&skinId=&from=menu',\n",
       " 'https://blog.naver.com/PostList.nhn?blogId=shrnrgus80&categoryNo=7&skinType=&skinId=&from=menu',\n",
       " 'https://blog.naver.com/mapview/MapView.nhn?blogId=shrnrgus80&skinType=&skinId=&from=menu',\n",
       " 'https://blog.naver.com/library/LibraryView.nhn?blogId=shrnrgus80&skinType=&skinId=&from=menu',\n",
       " 'https://blog.naver.com/BlogPrivateTagCloud.nhn?blogId=shrnrgus80&Redirect=Dtagcloud&skinType=&skinId=&from=menu',\n",
       " 'https://blog.naver.com/PostList.nhn?blogId=shrnrgus80&categoryNo=1&from=postList&parentCategoryNo=1',\n",
       " 'https://blog.naver.com/shrnrgus80',\n",
       " 'https://blog.naver.com/shrnrgus80',\n",
       " 'https://blog.naver.com/PostList.nhn?blogId=shrnrgus80&categoryNo=1&from=thumbnailList&parentCategoryNo=0',\n",
       " 'https://blog.naver.com/PostList.nhn?blogId=shrnrgus80&categoryNo=1&from=thumbnailList&parentCategoryNo=0',\n",
       " 'https://blog.naver.com/FILEPATH',\n",
       " 'https://blog.naver.com/FILEPATH',\n",
       " 'https://blog.naver.com/PostView.nhn?blogId=shrnrgus80&logNo=221579714671&redirect=Dlog&widgetTypeCall=true&directAccess=false#BtnCLose',\n",
       " 'https://blog.naver.com/PostView.nhn?blogId=shrnrgus80&logNo=221579714671&redirect=Dlog&widgetTypeCall=true&directAccess=false#BtnCLose']"
      ]
     },
     "execution_count": 204,
     "metadata": {},
     "output_type": "execute_result"
    }
   ],
   "source": [
    "parseURL(url)"
   ]
  },
  {
   "cell_type": "code",
   "execution_count": 208,
   "metadata": {},
   "outputs": [
    {
     "name": "stdout",
     "output_type": "stream",
     "text": [
      "<bound method Tag.prettify of <!DOCTYPE html PUBLIC \"-//W3C//DTD XHTML 1.0 Transitional//EN\" \"http://www.w3.org/TR/xhtml1/DTD/xhtml1-transitional.dtd\">\n",
      "<html lang=\"ko\">\n",
      "<head>\n",
      "<meta content=\"no-cache\" http-equiv=\"Pragma\"/>\n",
      "<meta content=\"-1\" http-equiv=\"Expires\"/>\n",
      "<meta content=\"noindex,follow\" name=\"robots\"/>\n",
      "<meta content=\"always\" name=\"referrer\"/>\n",
      "<meta content=\"text/html;charset=utf-8\" http-equiv=\"content-type\"/>\n",
      "<meta content=\"IE=edge,chrome=1\" http-equiv=\"X-UA-Compatible\"/>\n",
      "<link href=\"/favicon.ico?2\" rel=\"shortcut icon\" type=\"image/x-icon\"/>\n",
      "<link href=\"https://rss.blog.naver.com/shrnrgus80.xml\" rel=\"alternate\" title=\"RSS feed for shrnrgus80 Blog\" type=\"application/rss+xml\"/>\n",
      "<link href=\"https://blog.naver.com/NBlogWlwLayout.nhn?blogId=shrnrgus80\" rel=\"wlwmanifest\" type=\"application/wlwmanifest+xml\"/>\n",
      "<title>노로라의ForeverYoung : 네이버 블로그</title>\n",
      "</head>\n",
      "<script charset=\"UTF-8\" src=\"https://ssl.pstatic.net/t.static.blog/mylog/versioning/Frameset-657805386_https.js\" type=\"text/javascript\"></script>\n",
      "<script charset=\"UTF-8\" type=\"text/javascript\">\n",
      "var photoContent=\"\";\n",
      "var postContent=\"\";\n",
      "\n",
      "var videoId \t  = \"\";\n",
      "var thumbnail \t  = \"\";\n",
      "var inKey \t\t  = \"\";\n",
      "var movieFileSize = \"\";\n",
      "var playTime \t  = \"\";\n",
      "var screenSize \t  = \"\";\n",
      "\n",
      "var blogId = 'shrnrgus80';\n",
      "var blogURL = 'https://blog.naver.com';\n",
      "var eventCnt = '';\n",
      "\n",
      "var g_ShareObject = {};\n",
      "g_ShareObject.referer = \"\";\n",
      "\n",
      "\n",
      "jsMVC.setController(\"framesetTitleController\", FramesetTitleController);\n",
      "jsMVC.setController(\"framesetUrlController\", FramesetUrlController);\n",
      "jsMVC.setController(\"framesetMusicController\", FramesetMusicController);\n",
      "var oFramesetTitleController = jsMVC.getController(\"framesetTitleController\");\n",
      "var oFramesetUrlController = jsMVC.getController(\"framesetUrlController\");\n",
      "var oFramesetMusicController = jsMVC.getController(\"framesetMusicController\");\n",
      "var sTitle = document.title;\n",
      "\n",
      "</script>\n",
      "<style type=\"text/css\">\n",
      "    html{width:100%;height:100%;}\n",
      "    body{width:100%;height:100%;margin:0;padding:0;font-size:0;}\n",
      "    #mainFrame{width:100%;height:99.8%;margin:0;padding:0;border:0;}\n",
      "    #hiddenFrame{width:0;height:0;margin:0;padding:0;border:0;}\n",
      "</style>\n",
      "<body>\n",
      "<iframe allowfullscreen=\"true\" id=\"mainFrame\" name=\"mainFrame\" onload=\"oFramesetTitleController.start(self.frames['mainFrame'], self, sTitle);oFramesetTitleController.onLoadFrame();oFramesetUrlController.start(self.frames['mainFrame']);oFramesetUrlController.onLoadFrame()\" scrolling=\"auto\" src=\"/PostView.nhn?blogId=shrnrgus80&amp;logNo=221579714671&amp;redirect=Dlog&amp;widgetTypeCall=true&amp;directAccess=false\"></iframe>\n",
      "<iframe id=\"hiddenFrame\" name=\"hiddenFrame\" noresize=\"noresize\" scrolling=\"no\" src=\"/NBlogHidden.nhn?blogId=shrnrgus80&amp;musicYN=false\"></iframe>\n",
      "</body>\n",
      "</html>>\n"
     ]
    }
   ],
   "source": [
    "print(dom.prettify)"
   ]
  },
  {
   "cell_type": "code",
   "execution_count": 223,
   "metadata": {},
   "outputs": [],
   "source": [
    "queue = list()"
   ]
  },
  {
   "cell_type": "code",
   "execution_count": 224,
   "metadata": {},
   "outputs": [],
   "source": [
    "queue.extend(parseURL(url))"
   ]
  },
  {
   "cell_type": "code",
   "execution_count": 225,
   "metadata": {},
   "outputs": [],
   "source": [
    "seen = list()"
   ]
  },
  {
   "cell_type": "code",
   "execution_count": 226,
   "metadata": {},
   "outputs": [
    {
     "name": "stdout",
     "output_type": "stream",
     "text": [
      "Queue : 23, Seen : 1\n",
      "Queue : 22, Seen : 2\n",
      "Queue : 21, Seen : 3\n",
      "Queue : 20, Seen : 4\n",
      "Queue : 19, Seen : 5\n",
      "Queue : 18, Seen : 6\n",
      "Queue : 17, Seen : 7\n",
      "Queue : 16, Seen : 8\n",
      "Queue : 15, Seen : 9\n",
      "Queue : 14, Seen : 10\n",
      "Queue : 13, Seen : 11\n",
      "Queue : 12, Seen : 12\n",
      "Queue : 11, Seen : 13\n",
      "Queue : 10, Seen : 14\n",
      "Queue : 9, Seen : 15\n",
      "Queue : 8, Seen : 16\n",
      "https://blog.naver.com/prologue/PrologueList.nhn?blogId=shrnrgus80&&directAccess=true#blog-menu\n",
      "https://blog.naver.com/prologue/PrologueList.nhn?blogId=shrnrgus80&&directAccess=true#post_1\n",
      "https://blog.naver.com/PostView.nhn?blogId=shrnrgus80&logNo=221571576703&redirect=Dlog\n",
      "https://blog.naver.com/PostView.nhn?blogId=shrnrgus80&logNo=221553305550&redirect=Dlog\n",
      "https://blog.naver.com/PostView.nhn?blogId=shrnrgus80&logNo=221491592898&redirect=Dlog\n",
      "https://blog.naver.com/PostView.nhn?blogId=shrnrgus80&logNo=221488532493&redirect=Dlog\n",
      "https://blog.naver.com/PostView.nhn?blogId=shrnrgus80&logNo=221486827809&redirect=Dlog\n",
      "https://blog.naver.com/PostView.nhn?blogId=shrnrgus80&logNo=221558207693&redirect=Dlog\n",
      "https://blog.naver.com/PostView.nhn?blogId=shrnrgus80&logNo=221544649930&redirect=Dlog\n",
      "https://blog.naver.com/PostView.nhn?blogId=shrnrgus80&logNo=221516266746&redirect=Dlog\n",
      "https://blog.naver.com/PostView.nhn?blogId=shrnrgus80&logNo=221579714671&redirect=Dlog\n",
      "https://blog.naver.com/PostView.nhn?blogId=shrnrgus80&logNo=221481223506&redirect=Dlog\n",
      "https://blog.naver.com/PostView.nhn?blogId=shrnrgus80&logNo=221446927399&redirect=Dlog\n",
      "https://blog.naver.com/prologue/FILEPATH\n",
      "https://blog.naver.com/prologue/PrologueList.nhn?blogId=shrnrgus80&&directAccess=true#BtnCLose\n",
      "Queue : 22, Seen : 17\n",
      "Queue : 21, Seen : 18\n",
      "Queue : 20, Seen : 19\n",
      "Queue : 19, Seen : 20\n",
      "404\n",
      "Not Found\n",
      "Queue : 18, Seen : 21\n",
      "404\n",
      "Not Found\n",
      "Queue : 17, Seen : 22\n",
      "Queue : 16, Seen : 23\n",
      "Queue : 15, Seen : 24\n",
      "Queue : 14, Seen : 25\n",
      "Queue : 13, Seen : 26\n",
      "Queue : 12, Seen : 27\n",
      "Queue : 11, Seen : 28\n",
      "Queue : 10, Seen : 29\n",
      "Queue : 9, Seen : 30\n",
      "Queue : 8, Seen : 31\n",
      "Queue : 7, Seen : 32\n",
      "Queue : 6, Seen : 33\n",
      "Queue : 5, Seen : 34\n",
      "Queue : 4, Seen : 35\n",
      "Queue : 3, Seen : 36\n",
      "Queue : 2, Seen : 37\n",
      "404\n",
      "Not Found\n",
      "Queue : 1, Seen : 38\n",
      "Queue : 0, Seen : 39\n"
     ]
    }
   ],
   "source": [
    "while queue:\n",
    "    baseURL = queue.pop(0)\n",
    "    seen.append(baseURL)\n",
    "    time.sleep(1) \n",
    "    linkList = parseURL(baseURL)\n",
    "    for link in linkList:\n",
    "        if link not in queue and link not in seen:\n",
    "            print(link)\n",
    "            queue.append(link)   \n",
    "    print(\"Queue : {0}, Seen : {1}\".format(len(queue), len(seen)))\n",
    "    "
   ]
  },
  {
   "cell_type": "markdown",
   "metadata": {},
   "source": [
    " -> Focused crawling\n",
    " \n",
    " 내부구조를 어느 정도 알아야 한다. iframe 이 들어있는 구조."
   ]
  },
  {
   "cell_type": "code",
   "execution_count": 286,
   "metadata": {},
   "outputs": [],
   "source": [
    "url = \"https://adam24eve.tistory.com/858\"\n",
    "param = {\n",
    "    \"q\":\"박보영\"\n",
    "}\n",
    "html = download(\"get\", url, param)\n",
    "dom = BeautifulSoup(html.text, \"lxml\")"
   ]
  },
  {
   "cell_type": "code",
   "execution_count": 317,
   "metadata": {},
   "outputs": [],
   "source": [
    "def parseURL(seed):\n",
    "    html = download(\"get\",seed[0])\n",
    "    dom = BeautifulSoup(html.text, \"lxml\")\n",
    "    \n",
    "#    if len(dom.select(\"#mainFrame\")) < 1:\n",
    "#        return []\n",
    "    \n",
    "#    seed = requests.compat.urljoin(seed,\n",
    "#                           dom.select(\"#mainFrame\")[0][\"src\"])\n",
    "    \n",
    "    return [(requests.compat.urljoin(seed,_[\"href\"]),seed[1]+1)\n",
    "           for _ in dom.select(\"a\")\n",
    "           if seed[1] < 2 and _.has_attr(\"href\") and len(_[\"href\"])\n",
    "           and checkBlog(requests.compat.urljoin(seed[0], _[\"href\"]))]\n",
    "           #if _.has_attr(\"href\") and len(_[\"href\"])>3 and \n",
    "           #checkBlog(requests.compat.urljoin(seed, _[\"href\"]))]"
   ]
  },
  {
   "cell_type": "code",
   "execution_count": 288,
   "metadata": {},
   "outputs": [],
   "source": [
    "def checkBlog(url):\n",
    "    return requests.compat.urlparse(url)[1].endswith(\"tistory.com\")"
   ]
  },
  {
   "cell_type": "code",
   "execution_count": 289,
   "metadata": {},
   "outputs": [
    {
     "data": {
      "text/plain": [
       "True"
      ]
     },
     "execution_count": 289,
     "metadata": {},
     "output_type": "execute_result"
    }
   ],
   "source": [
    "checkBlog(\"https://adam24eve.tistory.com\")"
   ]
  },
  {
   "cell_type": "code",
   "execution_count": 295,
   "metadata": {},
   "outputs": [
    {
     "name": "stdout",
     "output_type": "stream",
     "text": [
      "<bound method Tag.prettify of <!DOCTYPE html>\n",
      "<!--\n",
      "  JB SKIN 109 Version 0.3.0\n",
      "  https://www.jbfactory.net/\n",
      "  # Open Source\n",
      "    normalize.css v5.0.0    MIT License\n",
      "    HTML5 Shiv v3.7.3       MIT/GPL2 License\n",
      "    jQuery v1.12.3          MIT License\n",
      "    modernizr v3.3.1        MIT License\n",
      "    Placeholders.js v4.0.1  MIT License\n",
      "\t\tFontAwesome v4.7.0\t\t\thttp://fontawesome.io/license/\n",
      "--><html lang=\"ko\">\n",
      "<head>\n",
      "<link href=\"https://t1.daumcdn.net/tistory_admin/lib/lightbox/css/lightbox.min.css\" rel=\"stylesheet\" type=\"text/css\"/><link href=\"https://t1.daumcdn.net/tistory_admin/assets/blog/cacc21797df8aa77ca75c9c748b07e9eb0ca9f80/blogs/style/content/font.css?_version_=cacc21797df8aa77ca75c9c748b07e9eb0ca9f80\" rel=\"stylesheet\" type=\"text/css\"/><link href=\"https://t1.daumcdn.net/tistory_admin/assets/blog/cacc21797df8aa77ca75c9c748b07e9eb0ca9f80/blogs/style/content/content.css?_version_=cacc21797df8aa77ca75c9c748b07e9eb0ca9f80\" rel=\"stylesheet\" type=\"text/css\"/><!--[if lt IE 9]><script src=\"https://t1.daumcdn.net/tistory_admin/lib/jquery/jquery-1.12.4.min.js\"></script><![endif]--><!--[if gte IE 9]>\n",
      "<!--><script src=\"https://t1.daumcdn.net/tistory_admin/lib/jquery/jquery-3.2.1.min.js\"></script><!--<![endif]-->\n",
      "<script src=\"https://t1.daumcdn.net/tistory_admin/lib/lightbox/js/lightbox-plus-jquery.min.js\"></script>\n",
      "<script>\n",
      "lightbox.options.fadeDuration = 200;\n",
      "lightbox.options.resizeDuration = 200;\n",
      "lightbox.options.wrapAround = false;\n",
      "lightbox.options.albumLabel = \"%1 / %2\";\n",
      "</script>\n",
      "<script>var tjQuery = jQuery.noConflict(true);</script><style type=\"text/css\">.tt_article_useless_p_margin p {padding-top:0 !important;padding-bottom:0 !important;margin-top:0 !important;margin-bottom:0 !important;}</style><meta content=\"always\" name=\"referrer\"/><link href=\"//t1.daumcdn.net/tistory_admin/static/top/favicon_0630.ico\" rel=\"icon\"/><link href=\"//img1.daumcdn.net/thumb/C180x180/?fname=https%3A%2F%2Ftistory2.daumcdn.net%2Ftistory%2F2817538%2Fattach%2F01d402c44be6453a9e33dac687de75c8\" rel=\"apple-touch-icon\"/>\n",
      "<link href=\"//img1.daumcdn.net/thumb/C76x76/?fname=https%3A%2F%2Ftistory2.daumcdn.net%2Ftistory%2F2817538%2Fattach%2F01d402c44be6453a9e33dac687de75c8\" rel=\"apple-touch-icon\" sizes=\"76x76\"/>\n",
      "<link href=\"//img1.daumcdn.net/thumb/C120x120/?fname=https%3A%2F%2Ftistory2.daumcdn.net%2Ftistory%2F2817538%2Fattach%2F01d402c44be6453a9e33dac687de75c8\" rel=\"apple-touch-icon\" sizes=\"120x120\"/>\n",
      "<link href=\"//img1.daumcdn.net/thumb/C152x152/?fname=https%3A%2F%2Ftistory2.daumcdn.net%2Ftistory%2F2817538%2Fattach%2F01d402c44be6453a9e33dac687de75c8\" rel=\"apple-touch-icon\" sizes=\"152x152\"/><meta content=\"오늘은 미우새에 출연하는 김영광과 배우 박보영 열애설에 대해 알아 보도록 하자. 김영광 박보영 열애? 이 두 사람은 진짜 사귀는 것일까? 김영광 나이 33세, 2006년 서울컬렉션 'Lone Costume 06,07 F/W' 모델..\" name=\"description\"/>\n",
      "<!-- BEGIN OPENGRAPH -->\n",
      "<link href=\"https://adam24eve.tistory.com/858\" rel=\"canonical\"/><meta content=\"article\" property=\"og:type\"/><meta content=\"https://adam24eve.tistory.com/858\" property=\"og:url\"/><meta content=\"아담의 미스터리 월드\" property=\"og:site_name\"/><meta content=\"김영광 박보영 열애 터진 이유\" property=\"og:title\"/><meta content=\"신비한 SP레이블-진\" name=\"by\"/><meta content=\"오늘은 미우새에 출연하는 김영광과 배우 박보영 열애설에 대해 알아 보도록 하자. 김영광 박보영 열애? 이 두 사람은 진짜 사귀는 것일까? 김영광 나이 33세, 2006년 서울컬렉션 'Lone Costume 06,07 F/W' 모델..\" property=\"og:description\"/><meta content=\"https://img1.daumcdn.net/thumb/R800x0/?scode=mtistory2&amp;fname=https%3A%2F%2Ft1.daumcdn.net%2Fcfile%2Ftistory%2F9909773E5CBC5EDB1F\" property=\"og:image\"/><meta content=\"858\" property=\"dable:item_id\"/>\n",
      "<!-- END OPENGRAPH -->\n",
      "<!-- BEGIN TWITTERCARD -->\n",
      "<meta content=\"summary_large_image\" name=\"twitter:card\"/><meta content=\"@TISTORY\" name=\"twitter:site\"/><meta content=\"김영광 박보영 열애 터진 이유\" name=\"twitter:title\"/><meta content=\"오늘은 미우새에 출연하는 김영광과 배우 박보영 열애설에 대해 알아 보도록 하자. 김영광 박보영 열애? 이 두 사람은 진짜 사귀는 것일까? 김영광 나이 33세, 2006년 서울컬렉션 'Lone Costume 06,07 F/W' 모델..\" name=\"twitter:description\"/><meta content=\"https://img1.daumcdn.net/thumb/R800x0/?scode=mtistory2&amp;fname=https%3A%2F%2Ft1.daumcdn.net%2Fcfile%2Ftistory%2F9909773E5CBC5EDB1F\" property=\"twitter:image\"/>\n",
      "<!-- END TWITTERCARD -->\n",
      "<!-- BEGIN DAUMAPP -->\n",
      "<meta content=\"https://adam24eve.tistory.com/858\" property=\"dg:plink\"/><meta content=\"https://adam24eve.tistory.com/858\" name=\"plink\"/><meta content=\"김영광 박보영 열애 터진 이유\" name=\"title\"/><meta content=\"아담의 미스터리 월드\" name=\"article:media_name\"/><meta content=\"https://adam24eve.tistory.com/m/858\" property=\"article:mobile_url\"/><meta content=\"https://adam24eve.tistory.com/858\" property=\"article:pc_url\"/><meta content=\"https://adam24eve.tistory.com/m/858\" property=\"article:mobile_view_url\"/><meta content=\"https://adam24eve.tistory.com/858\" property=\"article:pc_view_url\"/><meta content=\"https://adam24eve.tistory.com/m/858\" property=\"article:talk_channel_view_url\"/><meta content=\"https://www.tistory.com\" property=\"article:pc_service_home\"/><meta content=\"https://www.tistory.com/m\" property=\"article:mobile_service_home\"/><meta content=\"2817538_858\" property=\"article:txid\"/><meta content=\"2019-04-21T21:31:36+09:00\" property=\"article:published_time\"/><meta content=\"20190421213136\" property=\"og:regDate\"/><meta content=\"2019-04-21T21:32:23+09:00\" property=\"article:modified_time\"/>\n",
      "<!-- END DAUMAPP -->\n",
      "<!-- BEGIN STRUCTURED_DATA -->\n",
      "<script type=\"application/ld+json\">{\"@context\":\"http:\\/\\/schema.org\",\"@type\":\"BlogPosting\",\"mainEntityOfPage\":{\"@id\":\"https:\\/\\/adam24eve.tistory.com\\/858\"},\"url\":\"https:\\/\\/adam24eve.tistory.com\\/858\",\"headline\":\"\\uae40\\uc601\\uad11 \\ubc15\\ubcf4\\uc601 \\uc5f4\\uc560 \\ud130\\uc9c4 \\uc774\\uc720\",\"description\":\"\\uc624\\ub298\\uc740 \\ubbf8\\uc6b0\\uc0c8\\uc5d0 \\ucd9c\\uc5f0\\ud558\\ub294 \\uae40\\uc601\\uad11\\uacfc \\ubc30\\uc6b0 \\ubc15\\ubcf4\\uc601 \\uc5f4\\uc560\\uc124\\uc5d0 \\ub300\\ud574 \\uc54c\\uc544 \\ubcf4\\ub3c4\\ub85d \\ud558\\uc790. \\uae40\\uc601\\uad11 \\ubc15\\ubcf4\\uc601 \\uc5f4\\uc560? \\uc774 \\ub450 \\uc0ac\\ub78c\\uc740 \\uc9c4\\uc9dc \\uc0ac\\uadc0\\ub294 \\uac83\\uc77c\\uae4c? \\uae40\\uc601\\uad11 \\ub098\\uc774 33\\uc138, 2006\\ub144 \\uc11c\\uc6b8\\uceec\\ub809\\uc158 'Lone Costume 06,07 F\\/W' \\ubaa8\\ub378..\",\"author\":{\"@type\":\"Person\",\"name\":\"\\uc2e0\\ube44\\ud55c SP\\ub808\\uc774\\ube14-\\uc9c4\"},\"image\":{\"@type\":\"ImageObject\",\"url\":\"https:\\/\\/img1.daumcdn.net\\/thumb\\/R800x0\\/?scode=mtistory2&fname=https%3A%2F%2Ft1.daumcdn.net%2Fcfile%2Ftistory%2F9909773E5CBC5EDB1F\",\"width\":\"800px\",\"height\":\"800px\"},\"datePublished\":\"20190421T21:31:36+09:00\",\"dateModified\":\"20190421T21:32:23+09:00\",\"publisher\":{\"@type\":\"Organization\",\"name\":\"TISTORY\",\"logo\":{\"@type\":\"ImageObject\",\"url\":\"https:\\/\\/t1.daumcdn.net\\/tistory_admin\\/static\\/images\\/openGraph\\/opengraph.png\",\"width\":\"800px\",\"height\":\"800px\"}}}</script>\n",
      "<!-- END STRUCTURED_DATA -->\n",
      "<meta charset=\"utf-8\"/>\n",
      "<meta content=\"IE=edge\" http-equiv=\"X-UA-Compatible\"/>\n",
      "<meta content=\"width=device-width, initial-scale=1\" name=\"viewport\"/>\n",
      "<title>김영광 박보영 열애 터진 이유 :: 아담의 미스터리 월드</title>\n",
      "<link href=\"/favicon.ico\" rel=\"shortcut icon\"/>\n",
      "<link href=\"https://adam24eve.tistory.com/rss\" rel=\"alternate\" title=\"아담의 미스터리 월드\" type=\"application/rss+xml\"/>\n",
      "<link href=\"https://maxcdn.bootstrapcdn.com/font-awesome/4.7.0/css/font-awesome.min.css\" rel=\"stylesheet\"/>\n",
      "<link href=\"https://tistory2.daumcdn.net/tistory/2817538/skin/images/normalize-5.0.0.min.css\" rel=\"stylesheet\"/>\n",
      "<link href=\"https://tistory2.daumcdn.net/tistory/2817538/skin/images/jquery.nivo.slider.css\" rel=\"stylesheet\"/>\n",
      "<link href=\"https://tistory2.daumcdn.net/tistory/2817538/skin/images/jquery.nivo.slider.default.css\" rel=\"stylesheet\"/>\n",
      "<link href=\"https://tistory2.daumcdn.net/tistory/2817538/skin/style.css?_T_=1557333187\" rel=\"stylesheet\"/>\n",
      "<script src=\"https://tistory2.daumcdn.net/tistory/2817538/skin/images/modernizr-3.3.1.min.js\"></script>\n",
      "<script>\n",
      "      var jbSliderImage = new Array();\n",
      "      var jbSliderLink = new Array();\n",
      "      var jbSliderCaption = new Array();\n",
      "\t\t\tvar jbInfeedCount = 0;\n",
      "      // Skin Options - Start\n",
      "        var jbShowSlider = 0;     // 0 -> Yes, 1 -> No\n",
      "          jbSliderImage[0] = 'https://tistory2.daumcdn.net/tistory/2817538/skin/images/jbSlider01.jpg';\n",
      "          jbSliderLink[0] = '#';\n",
      "          jbSliderCaption[0] = '';\n",
      "          jbSliderImage[1] = 'https://tistory2.daumcdn.net/tistory/2817538/skin/images/jbSlider02.jpg';\n",
      "          jbSliderLink[1] = '#';\n",
      "          jbSliderCaption[1] = '';\n",
      "          jbSliderImage[2] = 'https://tistory2.daumcdn.net/tistory/2817538/skin/images/jbSlider03.jpg';\n",
      "          jbSliderLink[2] = '#';\n",
      "          jbSliderCaption[2] = '';\n",
      "\t\t\t\tvar jbShowInfeedAdSense = 1;  // 0 -> Yes, 1 -> No\n",
      "\t\t\t\tvar jbInfeedAdSenseInterval = 3;\n",
      "\t\t\t\tvar jbInfeedAdSenseCode = '<ins class=\"adsbygoogle\" style=\"display:block\" data-ad-format=\"fluid\" data-ad-layout=\"image-side\" data-ad-layout-key=\"-fb+5j+5b-iv+je\" data-ad-client=\"ca-pub-xxxxxx\" data-ad-slot=\"xxxxxx\"></ins>';\n",
      "      // Skin Options - End\n",
      "    </script>\n",
      "<!--[if lt IE 9]>\n",
      "      <script src=\"https://tistory2.daumcdn.net/tistory/2817538/skin/images/html5shiv-3.7.3.min.js\"></script>\n",
      "      <script src=\"https://tistory2.daumcdn.net/tistory/2817538/skin/images/placeholders-4.0.1.min.js\"></script>\n",
      "      <script>\n",
      "        var head = document.getElementsByTagName('head')[0], style = document.createElement('style');\n",
      "        style.type = 'text/css';\n",
      "        style.styleSheet.cssText = ':before,:after{content:none !important';\n",
      "        head.appendChild(style);\n",
      "        setTimeout(function(){\n",
      "            head.removeChild(style);\n",
      "        }, 0);\n",
      "      </script>\n",
      "    <![endif]-->\n",
      "<meta content=\"no\" http-equiv=\"imagetoolbar\"/>\n",
      "<style type=\"text/css\">\n",
      "\t\t#daumSearchBox {\n",
      "\t\t\theight: 21px;\n",
      "\t\t\tbackground-image : url(//i1.daumcdn.net/imgsrc.search/search_all/show/tistory/plugin/bg_search2_2.gif);\n",
      "\t\t\tmargin: 5px auto ;\n",
      "\t\t\tpadding: 0;\n",
      "\t\t}\n",
      "\t\t#daumSearchBox input {\n",
      "\t\t\tbackground: none;\n",
      "\t\t\tmargin : 0;\n",
      "\t\t\tpadding : 0;\n",
      "\t\t\tborder : 0;\n",
      "\t\t}\n",
      "\t\t#daumSearchBox #daumLogo {\n",
      "\t\t\twidth: 34px;\n",
      "\t\t\theight: 21px;\n",
      "\t\t\tfloat: left;\n",
      "\t\t\tmargin-right: 5px;\n",
      "\t\t\tbackground-image : url(//i1.daumcdn.net/img-media/tistory/img/bg_search1_2_2010ci.gif);\n",
      "\t\t}\n",
      "\t\t#daumSearchBox #show_q {\n",
      "\t\t\tbackground-color: transparent;\n",
      "\t\t\tborder: none;\n",
      "\t\t\tfont: 12px Gulim, Sans-serif;\n",
      "\t\t\tcolor: #555;\n",
      "\t\t\tmargin-top: 4px;\n",
      "\t\t\tmargin-right: 15px;\n",
      "\t\t\tfloat: left;\n",
      "\t\t}\n",
      "\n",
      "\t\t#daumSearchBox #show_btn {\n",
      "\t\t\tbackground-image : url(//i1.daumcdn.net/imgsrc.search/search_all/show/tistory/plugin/bt_search_2.gif);\n",
      "\t\t\twidth: 37px;\n",
      "\t\t\theight: 21px;\n",
      "\t\t\tfloat: left;\n",
      "\t\t\tmargin:0;\n",
      "\t\t\tcursor:pointer;\n",
      "\t\t\ttext-indent:-1000em;\n",
      "\t\t}\n",
      "\t</style>\n",
      "<link href=\"https://t1.daumcdn.net/tistory_admin/assets/blog/cacc21797df8aa77ca75c9c748b07e9eb0ca9f80/blogs/plugins/TistoryProfileLayer/style.css?_version_=cacc21797df8aa77ca75c9c748b07e9eb0ca9f80\" rel=\"stylesheet\" type=\"text/css\"/>\n",
      "<script src=\"https://t1.daumcdn.net/tistory_admin/assets/blog/cacc21797df8aa77ca75c9c748b07e9eb0ca9f80/blogs/plugins/TistoryProfileLayer/profile.js?_version_=cacc21797df8aa77ca75c9c748b07e9eb0ca9f80\" type=\"text/javascript\"></script>\n",
      "<script type=\"text/javascript\">\n",
      "        window.TistoryBlog = {\n",
      "            url: \"https://adam24eve.tistory.com\",\n",
      "            tistoryUrl: \"https://adam24eve.tistory.com\",\n",
      "\t\t\tmanageUrl: 'https://adam24eve.tistory.com/manage',\n",
      "            token: '8JixEhlQNfROpMTEVoHUAw%3D%3D'\n",
      "        };\n",
      "        var servicePath = \"\";\n",
      "        var blogURL = \"\";\n",
      "    </script>\n",
      "<script> (function() { window.orgjQuery = window.jQuery; window.jQuery = tjQuery })()</script>\n",
      "<script src=\"https://t1.daumcdn.net/section/uoclike/news/uoclike.min.js\"></script>\n",
      "<script> (function() { window.jQuery = window.orgjQuery; delete window.orgjQuery })()</script>\n",
      "<script>\n",
      "\t\t(function($) {\n",
      "\t\t\t$.fn.extend({\n",
      "\t\t\t\tsize: function () {\n",
      "\t\t\t\t\treturn this.length\n",
      "\t\t\t\t}\n",
      "\t\t\t});\n",
      "\t\t\t$.fn.UOCLike.defaults.updateServiceCategory = true;\n",
      "\t\t\t\t\t})(tjQuery)\n",
      "    </script>\n",
      "<script src=\"https://t1.daumcdn.net/tistory_admin/assets/blog/cacc21797df8aa77ca75c9c748b07e9eb0ca9f80/blogs/script/_/base.js?_version_=cacc21797df8aa77ca75c9c748b07e9eb0ca9f80\" type=\"text/javascript\"></script>\n",
      "<link href=\"https://t1.daumcdn.net/tistory_admin/assets/blog/cacc21797df8aa77ca75c9c748b07e9eb0ca9f80/blogs/style/dialog.css?_version_=cacc21797df8aa77ca75c9c748b07e9eb0ca9f80\" rel=\"stylesheet\" type=\"text/css\"/>\n",
      "<link href=\"//t1.daumcdn.net/tistory_admin/www/style/top/font.css\" rel=\"stylesheet\" type=\"text/css\"/>\n",
      "<link href=\"https://t1.daumcdn.net/tistory_admin/assets/blog/cacc21797df8aa77ca75c9c748b07e9eb0ca9f80/blogs/style/postBtn.css?_version_=cacc21797df8aa77ca75c9c748b07e9eb0ca9f80\" rel=\"stylesheet\" type=\"text/css\"/>\n",
      "<link href=\"https://t1.daumcdn.net/tistory_admin/assets/blog/cacc21797df8aa77ca75c9c748b07e9eb0ca9f80/blogs/style/menubar.css?_version_=cacc21797df8aa77ca75c9c748b07e9eb0ca9f80\" rel=\"stylesheet\" type=\"text/css\"/>\n",
      "<script src=\"//developers.kakao.com/sdk/js/kakao.min.js\"></script>\n",
      "<script defer=\"\" src=\"//static.dable.io/dist/tistory.min.js\"> </script></head>\n",
      "<body id=\"tt-body-page\"><script type=\"text/javascript\">\n",
      "\t(function() {\n",
      "\t\tif (!window.T) {\n",
      "\t\t\twindow.T = {}\n",
      "\t\t}\n",
      "\t\twindow.T.config = {\"TOP_SSL_URL\":\"https:\\/\\/www.tistory.com\",\"PREVIEW\":false,\"ROLE\":\"guest\",\"PREV_PAGE\":\"\\/859\",\"NEXT_PAGE\":\"\\/857\",\"BLOG\":{\"isDormancy\":false,\"title\":\"\\uc544\\ub2f4\\uc758 \\ubbf8\\uc2a4\\ud130\\ub9ac \\uc6d4\\ub4dc\"},\"NEED_COMMENT_LOGIN\":true,\"COMMENT_LOGIN_CONFIRM_MESSAGE\":\"\\uc774 \\ube14\\ub85c\\uadf8\\ub294 \\ub85c\\uadf8\\uc778\\ud55c \\uc0ac\\uc6a9\\uc790\\uc5d0\\uac8c\\ub9cc \\ub313\\uae00 \\uc791\\uc131\\uc744 \\ud5c8\\uc6a9\\ud588\\uc2b5\\ub2c8\\ub2e4. \\uc9c0\\uae08 \\ub85c\\uadf8\\uc778\\ud558\\uc2dc\\uaca0\\uc2b5\\ub2c8\\uae4c?\",\"LOGIN_URL\":\"https:\\/\\/www.tistory.com\\/auth\\/login\\/?redirectUrl=https%3A%2F%2Fadam24eve.tistory.com%2F858\",\"DEFAULT_URL\":\"https:\\/\\/adam24eve.tistory.com\",\"USER\":{\"name\":null,\"homepage\":null}};\n",
      "\t\twindow.appInfo = {\"domain\":\"tistory.com\",\"topUrl\":\"https:\\/\\/www.tistory.com\",\"loginUrl\":\"https:\\/\\/www.tistory.com\\/auth\\/login\",\"logoutUrl\":\"https:\\/\\/www.tistory.com\\/auth\\/logout\"};\n",
      "\n",
      "        window.initData = {};\n",
      "        \n",
      "\t})();\n",
      "</script>\n",
      "<script src=\"https://t1.daumcdn.net/tistory_admin/assets/blog/cacc21797df8aa77ca75c9c748b07e9eb0ca9f80/blogs/script/blog/common.js?_version_=cacc21797df8aa77ca75c9c748b07e9eb0ca9f80\" type=\"text/javascript\"></script>\n",
      "<div style=\"margin:0; padding:0; border:none; background:none; float:none; clear:none; z-index:0\"></div>\n",
      "<div class=\"jb-page jb-youtube-auto\">\n",
      "<div class=\"jb-background jb-background-header\">\n",
      "<div class=\"jb-container jb-container-header\">\n",
      "<div class=\"jb-row jb-row-header\">\n",
      "<div class=\"jb-line jb-line-header-top\"></div>\n",
      "<div class=\"jb-column jb-column-header\">\n",
      "<div class=\"jb-cell jb-cell-header\">\n",
      "<div class=\"jb-header-table\">\n",
      "<div class=\"jb-header-table-row\">\n",
      "<div class=\"jb-header-table-cell jb-header-table-cell-site-title\">\n",
      "<div class=\"jb-header-mobile-table\">\n",
      "<div class=\"jb-header-mobile-table-row\">\n",
      "<div class=\"jb-header-mobile-table-cell jb-header-mobile-table-cell-site-title\">\n",
      "<header>\n",
      "<h1 class=\"jb-site-title\"><a href=\"/\">아담의 미스터리 월드</a></h1>\n",
      "<!--<h1 class=\"jb-site-title-image\"><a href=\"/\"><img src=\"https://tistory2.daumcdn.net/tistory/2817538/skin/images/jb-logo-skin-109.png\" alt=\"\"></a></h1>-->\n",
      "</header>\n",
      "</div>\n",
      "<div class=\"jb-header-mobile-table-cell jb-header-mobile-table-cell-bars\">\n",
      "<div class=\"jb-bars\"><img alt=\"\" src=\"https://tistory2.daumcdn.net/tistory/2817538/skin/images/ic_menu_white_48dp_2x.png\"/></div>\n",
      "</div>\n",
      "</div>\n",
      "</div>\n",
      "</div>\n",
      "<div class=\"jb-header-table-cell jb-header-table-cell-navigation\">\n",
      "<nav>\n",
      "<h2 class=\"jb-section-title jb-section-title-main-menu\">Main Menu</h2>\n",
      "<div class=\"jb-navigation jb-navigation-category\">\n",
      "<div class=\"jb-navigation-category-title\">\n",
      "<ul>\n",
      "<li>카테고리</li>\n",
      "</ul>\n",
      "</div>\n",
      "<div class=\"jb-navigation-category-list\">\n",
      "<ul class=\"tt_category\">\n",
      "<li class=\"\">\n",
      "<a class=\"link_tit\" href=\"/category\">\n",
      "\t\t\t분류 전체보기\t\t\t\t\t\t\t<span class=\"c_cnt\">(752)</span>\n",
      "<img alt=\"N\" src=\"https://t1.daumcdn.net/tistory_admin/assets/blog/cacc21797df8aa77ca75c9c748b07e9eb0ca9f80/blogs/image/category/new_ico_5.gif?_version_=cacc21797df8aa77ca75c9c748b07e9eb0ca9f80\" style=\"vertical-align:middle;padding-left:2px;\"/>\n",
      "</a>\n",
      "<ul class=\"category_list\">\n",
      "<li class=\"\">\n",
      "<a class=\"link_item\" href=\"/category/Cosmos\">\n",
      "\t\t\t\t\t\tCosmos\t\t\t\t\t\t\t\t\t\t\t\t\t<span class=\"c_cnt\">(95)</span>\n",
      "</a>\n",
      "</li>\n",
      "<li class=\"\">\n",
      "<a class=\"link_item\" href=\"/category/Mystery%20world\">\n",
      "\t\t\t\t\t\tMystery world\t\t\t\t\t\t\t\t\t\t\t\t\t<span class=\"c_cnt\">(130)</span>\n",
      "</a>\n",
      "</li>\n",
      "<li class=\"\">\n",
      "<a class=\"link_item\" href=\"/category/Star\">\n",
      "\t\t\t\t\t\tStar\t\t\t\t\t\t\t\t\t\t\t\t\t<span class=\"c_cnt\">(458)</span>\n",
      "<img alt=\"N\" src=\"https://t1.daumcdn.net/tistory_admin/assets/blog/cacc21797df8aa77ca75c9c748b07e9eb0ca9f80/blogs/image/category/new_ico_5.gif?_version_=cacc21797df8aa77ca75c9c748b07e9eb0ca9f80\" style=\"vertical-align:middle;padding-left:2px;\"/>\n",
      "</a>\n",
      "</li>\n",
      "<li class=\"\">\n",
      "<a class=\"link_item\" href=\"/category/Political%20\">\n",
      "\t\t\t\t\t\tPolitical\t\t\t\t\t\t\t\t\t\t\t\t\t<span class=\"c_cnt\">(64)</span>\n",
      "</a>\n",
      "</li>\n",
      "<li class=\"\">\n",
      "<a class=\"link_item\" href=\"/category/It-game\">\n",
      "\t\t\t\t\t\tIt-game\t\t\t\t\t\t\t\t\t\t\t\t\t<span class=\"c_cnt\">(5)</span>\n",
      "</a>\n",
      "</li>\n",
      "</ul>\n",
      "</li>\n",
      "</ul>\n",
      "</div>\n",
      "</div>\n",
      "<div class=\"jb-navigation jb-navigation-blog-menu\">\n",
      "<div class=\"jb-navigation-blog-menu-title\">\n",
      "<ul>\n",
      "<li>블로그 메뉴</li>\n",
      "</ul>\n",
      "</div>\n",
      "<div class=\"jb-navigation-blog-menu-list\">\n",
      "<ul> <li class=\"t_menu_guestbook first\">\n",
      "<a href=\"/guestbook\">방명록</a>\n",
      "</li>\n",
      "</ul>\n",
      "</div>\n",
      "</div>\n",
      "<div class=\"jb-navigation jb-navigation-sns jb-navigation-sns-icon\">\n",
      "<div class=\"jb-navigation-sns-title\">\n",
      "<ul>\n",
      "<li>SNS</li>\n",
      "</ul>\n",
      "</div>\n",
      "<div class=\"jb-navigation-sns-list\">\n",
      "<ul>\n",
      "<li><a href=\"#\" title=\"Facebook\"><img alt=\"\" src=\"https://tistory2.daumcdn.net/tistory/2817538/skin/images/jb-sns-logo-facebook.png\"/></a></li>\n",
      "<li><a href=\"#\" title=\"Twitter\"><img alt=\"\" src=\"https://tistory2.daumcdn.net/tistory/2817538/skin/images/jb-sns-logo-twitter.png\"/></a></li>\n",
      "<li><a href=\"#\" title=\"Google +\"><img alt=\"\" src=\"https://tistory2.daumcdn.net/tistory/2817538/skin/images/jb-sns-logo-google-plus.png\"/></a></li>\n",
      "<!-- <li><a href=\"#\" title=\"Kakao Story\"><img src=\"https://tistory2.daumcdn.net/tistory/2817538/skin/images/jb-sns-logo-kakaostory.png\" alt=\"\"></a></li> -->\n",
      "<!-- <li><a href=\"#\" title=\"Instagram\"><img src=\"https://tistory2.daumcdn.net/tistory/2817538/skin/images/jb-sns-logo-instagram.png\" alt=\"\"></a></li> -->\n",
      "<!-- <li><a href=\"#\" title=\"Pinterest\"><img src=\"https://tistory2.daumcdn.net/tistory/2817538/skin/images/jb-sns-logo-pinterest.png\" alt=\"\"></a></li> -->\n",
      "<!-- <li><a href=\"#\" title=\"Linkedin\"><img src=\"https://tistory2.daumcdn.net/tistory/2817538/skin/images/jb-sns-logo-linkedin.png\" alt=\"\"></a></li> -->\n",
      "<li><a href=\"https://adam24eve.tistory.com/rss\" title=\"RSS\"><img alt=\"\" src=\"https://tistory2.daumcdn.net/tistory/2817538/skin/images/jb-sns-logo-rss.png\"/></a></li>\n",
      "</ul>\n",
      "</div>\n",
      "</div>\n",
      "</nav>\n",
      "</div>\n",
      "</div>\n",
      "</div>\n",
      "</div>\n",
      "</div>\n",
      "<div class=\"jb-line jb-line-header-bottom\"></div>\n",
      "</div>\n",
      "</div>\n",
      "</div>\n",
      "<div class=\"jb-background jb-background-main\">\n",
      "<div class=\"jb-container jb-container-main\">\n",
      "<div class=\"jb-row jb-row-main\">\n",
      "<div class=\"jb-column jb-column-content\">\n",
      "<div class=\"jb-cell jb-cell-content jb-cell-content-article\">\n",
      "<article>\n",
      "<header>\n",
      "<div class=\"jb-content-title jb-content-title-article\">\n",
      "<h2><a href=\"/858\">김영광 박보영 열애 터진 이유</a></h2>\n",
      "<div class=\"jb-article-information\">\n",
      "<ul>\n",
      "<li><span class=\"jb-article-information-category\"><a href=\"/category/Star\">Star</a></span></li>\n",
      "<!--<li><span class=\"jb-article-information-author\">신비한 SP레이블-진</span></li>-->\n",
      "<li><span class=\"jb-article-information-date\">2019.04.21 21:31</span></li>\n",
      "</ul>\n",
      "</div>\n",
      "</div>\n",
      "</header>\n",
      "<div class=\"jb-adsense jb-adsense-ct\">\n",
      "<!-- AdSense CT -->\n",
      "</div>\n",
      "<div class=\"jb-adsense jb-adsense-ctr\">\n",
      "<!-- AdSense CTR -->\n",
      "</div>\n",
      "<section>\n",
      "<div class=\"jb-content jb-content-article\">\n",
      "<div class=\"jb-article\">\n",
      "<div itemprop=\"articleBody\">\n",
      "<div class=\"tt_article_useless_p_margin\"><p style=\"text-align: left; clear: none; float: none;\"><span class=\"imageblock\" style=\"display:inline-block;width:573px;;height:auto;max-width:100%\"><img filemime=\"image/jpeg\" filename=\"0012.jpg\" height=\"342\" src=\"https://t1.daumcdn.net/cfile/tistory/9909773E5CBC5EDB1F\" style=\"max-width:100%;height:auto\" width=\"573\"/></span></p><p><br/></p><p><span style=\"font-size: 12pt; color: rgb(0, 0, 0);\">오늘은 미우새에 출연하는 김영광과 배우 박보영 열애설에 대해 알아 보도록 하자.</span></p><p><br/></p><p><span style=\"font-size: 12pt; color: rgb(0, 0, 0);\">김영광 박보영 열애? 이 두 사람은 진짜 사귀는 것일까?</span></p><p><span style=\"font-size: 12pt; color: rgb(0, 0, 0);\"><br/></span></p><p><span style=\"font-size: 12pt; color: rgb(0, 0, 0);\"><script async=\"\" src=\"//pagead2.googlesyndication.com/pagead/js/adsbygoogle.js\"></script>\n",
      "<!-- adam24eve99 -->\n",
      "<ins class=\"adsbygoogle\" data-ad-client=\"ca-pub-6053973150257673\" data-ad-slot=\"8609426184\" style=\"display:inline-block;width:336px;height:280px\"></ins>\n",
      "<script>\n",
      "(adsbygoogle = window.adsbygoogle || []).push({});\n",
      "</script></span></p><p><br/></p><p><span style=\"font-size: 12pt; color: rgb(0, 0, 0);\">김영광 나이 33세, 2006년 서울컬렉션 'Lone Costume 06,07 F/W' 모델로 데뷔했다.</span></p><p><br/></p><p><span style=\"font-size: 12pt; color: rgb(0, 0, 0);\">이후 17편의 드라마와 4편의 영화를 찍으며 배우로서 성장을 거듭하고 있다.</span></p><p><span style=\"font-size: 12pt; color: rgb(0, 0, 0);\"><br/></span></p><p style=\"text-align: left; clear: none; float: none;\"><span class=\"imageblock\" style=\"display:inline-block;width:615px;;height:auto;max-width:100%\"><img filemime=\"image/jpeg\" filename=\"0001.jpg\" height=\"413\" src=\"https://t1.daumcdn.net/cfile/tistory/99F07C3A5CBC5EEA23\" style=\"max-width:100%;height:auto\" width=\"615\"/></span></p><p><br/></p><p><span style=\"font-size: 12pt; color: rgb(0, 0, 0);\">박보영 나이 30세, 단국대학교 연극영화과 졸업했으며 2006년 EBS 드라마 '비밀의 교정'를 통해 데뷔했다.</span></p><p><br/></p><p><span style=\"font-size: 12pt; color: rgb(0, 0, 0);\">이미 수 많은 드라마와 영화에 출연해 문근영의 뒤를 이어 국민 여동생 타이틀을 달 정도로 대단한 인기를 누리고 있다.</span></p><p><span style=\"font-size: 12pt; color: rgb(0, 0, 0);\"><br/></span></p><p style=\"text-align: left; clear: none; float: none;\"><span class=\"imageblock\" style=\"display:inline-block;width:511px;;height:auto;max-width:100%\"><img filemime=\"image/jpeg\" filename=\"0017.jpg\" height=\"320\" src=\"https://t1.daumcdn.net/cfile/tistory/992708365CBC5EFC28\" style=\"max-width:100%;height:auto\" width=\"511\"/></span></p><p><br/></p><p><span style=\"font-size: 12pt; color: rgb(0, 0, 0);\">이런 박보영과 김영광이 열애 설이 터진 이유는 딱 하나 밖에 없다.</span></p><p><br/></p><p><span style=\"font-size: 12pt; color: rgb(0, 0, 0);\">바로 영화 '너의 결혼식'에서 함께 남녀 주인공으로 출연했기 때문이다.</span></p><p><span style=\"font-size: 12pt; color: rgb(0, 0, 0);\"><br/></span></p><p style=\"text-align: left; clear: none; float: none;\"><span class=\"imageblock\" style=\"display:inline-block;width:528px;;height:auto;max-width:100%\"><img filemime=\"image/jpeg\" filename=\"0011.jpg\" height=\"342\" src=\"https://t1.daumcdn.net/cfile/tistory/996B0D405CBC5F3110\" style=\"max-width:100%;height:auto\" width=\"528\"/></span></p><p style=\"text-align: left; clear: none; float: none;\"></p><p><span style=\"font-size: 12pt; color: rgb(0, 0, 0);\"><br/></span></p><p><span style=\"font-size: 12pt; color: rgb(0, 0, 0);\">여기서 완벽하게 보여준 케미가 두 사람을 열애설로 이끌 정도로 너무 좋았다는 후문이다.</span></p><p><br/></p><p><span style=\"font-size: 12pt; color: rgb(0, 0, 0);\">참고로 지난 2018년 8월 개봉한 영화 '너의 결혼식'은 전학생 승희(박보영)에게 첫눈에 반한 우연(김영광)의 이야기를 담은 영화다. </span></p><p><span style=\"font-size: 12pt; color: rgb(0, 0, 0);\"><br/></span></p><p><span class=\"imageblock\" style=\"display:inline-block;width:528px;width: 528px; height: 331px;;height:auto;max-width:100%\"><span data-lightbox=\"lightbox\" data-url=\"https://t1.daumcdn.net/cfile/tistory/993D70405CBC5F3112?download\"><img filemime=\"image/jpeg\" filename=\"0014.jpg\" height=\"331\" src=\"https://t1.daumcdn.net/cfile/tistory/993D70405CBC5F3112\" style=\"cursor: pointer;max-width:100%;height:auto\" width=\"528\"/></span></span></p><p><br/></p><p><span style=\"font-size: 12pt; color: rgb(0, 0, 0);\">그럼 줄거리 내용이 무엇인 잠시 살펴보자.</span></p><p><br/></p><p><span style=\"font-size: 12pt; color: rgb(0, 0, 0);\">고등학교 3학년의 여름, 우연은 전학생 승희에게 첫눈에 반한다. </span></p><p><span style=\"font-size: 12pt; color: rgb(0, 0, 0);\"><br/></span></p><p style=\"text-align: left; clear: none; float: none;\"><span class=\"imageblock\" style=\"display:inline-block;width:518px;;height:auto;max-width:100%\"><img filemime=\"image/jpeg\" filename=\"0013.jpg\" height=\"330\" src=\"https://t1.daumcdn.net/cfile/tistory/99E69F365CBC5F512C\" style=\"max-width:100%;height:auto\" width=\"518\"/></span></p><p><br/></p><p><span style=\"font-size: 12pt; color: rgb(0, 0, 0);\">우연은 승희를 졸졸 쫓아다닌 끝에 마침내 그와 공식 커플로 거듭나려 하지만, 곧 승희는 \"잘 지내라\"라는 전화 한 통만을 남기고 사라져버린다.</span></p><p><span style=\"font-size: 12pt; color: rgb(0, 0, 0);\"><br/></span></p><p><span style=\"font-size: 12pt; color: rgb(0, 0, 0);\"><script async=\"\" src=\"//pagead2.googlesyndication.com/pagead/js/adsbygoogle.js\"></script>\n",
      "<!-- adam24eve101 -->\n",
      "<ins class=\"adsbygoogle\" data-ad-client=\"ca-pub-6053973150257673\" data-ad-slot=\"3279944356\" style=\"display:inline-block;width:336px;height:280px\"></ins>\n",
      "<script>\n",
      "(adsbygoogle = window.adsbygoogle || []).push({});\n",
      "</script></span></p><p><span style=\"font-size: 12pt; color: rgb(0, 0, 0);\"><br/></span></p><p><span style=\"font-size: 12pt;\">1년 뒤, 우연은 승희의 흔적을 쫓아 끈질긴 노력으로 그와 같은 대학교에 합격했다. </span></p><p><span style=\"font-size: 12pt;\"><br/></span></p><p><span style=\"font-size: 12pt;\">하지만 그의 앞을 가로막은 것은 바로 승희의 남자친구였다.</span></p><p><span style=\"font-size: 12pt;\"><br/></span></p><p style=\"text-align: left; clear: none; float: none;\"><span class=\"imageblock\" style=\"display:inline-block;width:511px;;height:auto;max-width:100%\"><img filemime=\"image/jpeg\" filename=\"0015.jpg\" height=\"320\" src=\"https://t1.daumcdn.net/cfile/tistory/992A60385CBC5F7234\" style=\"max-width:100%;height:auto\" width=\"511\"/></span></p><p style=\"text-align: left; clear: none; float: none;\"><span class=\"imageblock\" style=\"display:inline-block;width:511px;;height:auto;max-width:100%\"><img filemime=\"image/jpeg\" filename=\"0016.jpg\" height=\"320\" src=\"https://t1.daumcdn.net/cfile/tistory/99D91B385CBC5F732B\" style=\"max-width:100%;height:auto\" width=\"511\"/></span></p><p><br/></p><p><span style=\"font-size: 12pt; color: rgb(0, 0, 0);\">영화는 이렇게 박보영 김영광의 사랑 얘기를 다루고 있다.</span></p><p><br/></p><p><span style=\"font-size: 12pt; color: rgb(0, 0, 0);\">특히 두 명의 사랑스러운 케미스트리로 시선을 끈 이 작품은 국내 누적관객만 280만 명을 기록했을 정도로 성공했다.</span></p><p><span style=\"font-size: 12pt; color: rgb(0, 0, 0);\"><br/></span></p><p style=\"text-align: left; clear: none; float: none;\"><span class=\"imageblock\" style=\"display:inline-block;width:511px;;height:auto;max-width:100%\"><img filemime=\"image/jpeg\" filename=\"0018.jpg\" height=\"320\" src=\"https://t1.daumcdn.net/cfile/tistory/9909E8405CBC5F8216\" style=\"max-width:100%;height:auto\" width=\"511\"/></span></p><p style=\"text-align: left; clear: none; float: none;\"><span class=\"imageblock\" style=\"display:inline-block;width:511px;;height:auto;max-width:100%\"><img filemime=\"image/jpeg\" filename=\"0019.jpg\" height=\"320\" src=\"https://t1.daumcdn.net/cfile/tistory/99222E405CBC5F8225\" style=\"max-width:100%;height:auto\" width=\"511\"/></span></p><p><br/></p><p><span style=\"font-size: 12pt; color: rgb(0, 0, 0);\">마음을 설레게 하는 첫사랑 이야기를 잘 담아 냈다는 평가를 받았기 때문이다.</span></p><p><br/></p><p><span style=\"font-size: 12pt; color: rgb(0, 0, 0);\">이런 이유로 영화 속에서 너무나도 잘 어울렸던 김영광 박보영 열애설이 나돌았다.</span></p><p><span style=\"font-size: 12pt; color: rgb(0, 0, 0);\"><br/></span></p><p style=\"text-align: left; clear: none; float: none;\"><span class=\"imageblock\" style=\"display:inline-block;width:518px;;height:auto;max-width:100%\"><img filemime=\"image/jpeg\" filename=\"0020.jpg\" height=\"276\" src=\"https://t1.daumcdn.net/cfile/tistory/99BFD03A5CBC5F8E26\" style=\"max-width:100%;height:auto\" width=\"518\"/></span></p><p style=\"text-align: left; clear: none; float: none;\"><span class=\"imageblock\" style=\"display:inline-block;width:518px;;height:auto;max-width:100%\"><img filemime=\"image/jpeg\" filename=\"0021.jpg\" height=\"276\" src=\"https://t1.daumcdn.net/cfile/tistory/99C1913A5CBC5F8E27\" style=\"max-width:100%;height:auto\" width=\"518\"/></span></p><p><br/></p><p><span style=\"font-size: 12pt; color: rgb(0, 0, 0);\">또한 영화를 찍으면서 겪었던 에피소드가 전해지면서 김영광과 박보영 열애설에 불을 지폈다.</span></p><p><br/></p><p><span style=\"font-size: 12pt; color: rgb(0, 0, 0);\">모델 출신인 김영광은 키가 187cm로 상당히 큰 편이다.</span></p><p><span style=\"font-size: 12pt; color: rgb(0, 0, 0);\"><br/></span></p><p style=\"text-align: left; clear: none; float: none;\"><span class=\"imageblock\" style=\"display:inline-block;width:350px;;height:auto;max-width:100%\"><img filemime=\"image/jpeg\" filename=\"0004.jpg\" height=\"393\" src=\"https://t1.daumcdn.net/cfile/tistory/997838335CBC5FB917\" style=\"max-width:100%;height:auto\" width=\"350\"/></span><span class=\"imageblock\" style=\"display:inline-block;width:350px;;height:auto;max-width:100%\"><img filemime=\"image/jpeg\" filename=\"0031.jpg\" height=\"393\" src=\"https://t1.daumcdn.net/cfile/tistory/992D6D355CBC604523\" style=\"max-width:100%;height:auto\" width=\"350\"/></span></p><p style=\"text-align: left; clear: none; float: none;\"><span class=\"imageblock\" style=\"display:inline-block;width:350px;;height:auto;max-width:100%\"><img filemime=\"image/jpeg\" filename=\"0006.jpg\" height=\"393\" src=\"https://t1.daumcdn.net/cfile/tistory/99BA2E365CBC5FC930\" style=\"max-width:100%;height:auto\" width=\"350\"/></span><span class=\"imageblock\" style=\"display:inline-block;width:350px;;height:auto;max-width:100%\"><img filemime=\"image/jpeg\" filename=\"0005.jpg\" height=\"393\" src=\"https://t1.daumcdn.net/cfile/tistory/99C9D9335CBC5FB912\" style=\"max-width:100%;height:auto\" width=\"350\"/></span></p><p style=\"text-align: left; clear: none; float: none;\"><br/></p><p><span style=\"font-size: 12pt; color: rgb(0, 0, 0);\">그런데 김영광은 영화 '너의 결혼식'에서 키가 158cm인 박보영을 만나면서 난관에 부딪혔다.</span></p><p><span style=\"font-size: 12pt; color: rgb(0, 0, 0);\"><br/></span></p><p><span style=\"font-size: 12pt;\">두 사람의 키 차이가 무려 29cm로 너무나도 많이 차이가 났기 때문이다.</span></p><p><span style=\"font-size: 12pt;\"><br/></span></p><p style=\"text-align: left; clear: none; float: none;\"><span class=\"imageblock\" style=\"display:inline-block;width:350px;;height:auto;max-width:100%\"><img filemime=\"image/jpeg\" filename=\"0007.jpg\" height=\"393\" src=\"https://t1.daumcdn.net/cfile/tistory/99A26A365CBC5FC930\" style=\"max-width:100%;height:auto\" width=\"350\"/></span><span class=\"imageblock\" style=\"display:inline-block;width:350px;;height:auto;max-width:100%\"><img filemime=\"image/jpeg\" filename=\"0008.jpg\" height=\"393\" src=\"https://t1.daumcdn.net/cfile/tistory/9933F1375CBC613916\" style=\"max-width:100%;height:auto\" width=\"350\"/></span></p><p><br/></p><p><span style=\"font-size: 12pt; color: rgb(0, 0, 0);\">하지만, 영화를 찍으면서 박보영은 전혀 어려움을 느끼지 않았다고 한다.</span></p><p><br/></p><p><span style=\"font-size: 12pt; color: rgb(0, 0, 0);\">박보영이 키 차이을 맞추기 위해 때론 박스 위에 올라가 촬영하기도 했지만, 대부분의 장면에서는 김영광이 항상 다리를 넓게 벌려 박보영과 키를 맞추어 찍었기 때문이라고 한다. </span></p><p><span style=\"font-size: 12pt; color: rgb(0, 0, 0);\"><br/></span></p><p><span style=\"font-size: 12pt; color: rgb(0, 0, 0);\"><script async=\"\" src=\"//pagead2.googlesyndication.com/pagead/js/adsbygoogle.js\"></script>\n",
      "<!-- adam24eve102 -->\n",
      "<ins class=\"adsbygoogle\" data-ad-client=\"ca-pub-6053973150257673\" data-ad-slot=\"6528978124\" style=\"display:inline-block;width:336px;height:280px\"></ins>\n",
      "<script>\n",
      "(adsbygoogle = window.adsbygoogle || []).push({});\n",
      "</script></span></p><p><br/></p><p><span style=\"font-size: 12pt; color: rgb(0, 0, 0);\">이에 고마움을 느낀 박보영은 영화 '너의 결혼식' 제작보고회에서 김영광에게 감사의 마음을 전하기도 했다.</span></p><p><span style=\"font-size: 12pt; color: rgb(0, 0, 0);\"><br/></span></p><p style=\"text-align: left; clear: none; float: none;\"><span class=\"imageblock\" style=\"display:inline-block;width:350px;;height:auto;max-width:100%\"><img filemime=\"image/jpeg\" filename=\"0010.jpg\" height=\"393\" src=\"https://t1.daumcdn.net/cfile/tistory/99B8813B5CBC5FDF23\" style=\"max-width:100%;height:auto\" width=\"350\"/></span><span class=\"imageblock\" style=\"display:inline-block;width:350px;;height:auto;max-width:100%\"><img filemime=\"image/jpeg\" filename=\"0009.jpg\" height=\"393\" src=\"https://t1.daumcdn.net/cfile/tistory/998CCE3B5CBC5FDF26\" style=\"max-width:100%;height:auto\" width=\"350\"/></span></p><p></p><p><span style=\"font-size: 12pt; color: rgb(0, 0, 0);\"><br/></span></p><p><span style=\"font-size: 12pt; color: rgb(0, 0, 0);\">그러나 영화 홍보를 넘어 박보영 김영광 열애설은 솔직히 두 사람 모두에게 부담스러웠던 것 같다.</span></p><p><br/></p><p><span style=\"font-size: 12pt; color: rgb(0, 0, 0);\">연예가중계에 출연했을 때 박보영과 김영광은 열애설에 대해 확실히 선을 그었기 때문이다.</span></p><p><span style=\"font-size: 12pt; color: rgb(0, 0, 0);\"><br/></span></p><p style=\"text-align: left; clear: none; float: none;\"><span class=\"imageblock\" style=\"display:inline-block;width:464px;;height:auto;max-width:100%\"><img filemime=\"image/jpeg\" filename=\"0003.jpg\" height=\"471\" src=\"https://t1.daumcdn.net/cfile/tistory/99CAE6375CBC5FF529\" style=\"max-width:100%;height:auto\" width=\"464\"/></span></p><p><br/></p><p><span style=\"font-size: 12pt; color: rgb(0, 0, 0);\">당시 두 사람은 '연예가중계' 게릴라 데이트 현장에서 거짓말 탐지기 사용해 서로의 마음을 알아 보는 시간을 가졌었다.</span></p><p><span style=\"font-size: 12pt; color: rgb(0, 0, 0);\"><br/></span></p><p><span class=\"imageblock\" style=\"display:inline-block;width:508px;width: 508px; height: 314px;;height:auto;max-width:100%\"><span data-lightbox=\"lightbox\" data-url=\"https://t1.daumcdn.net/cfile/tistory/99D978405CBC60081B?download\"><img filemime=\"image/jpeg\" filename=\"0022.jpg\" height=\"314\" src=\"https://t1.daumcdn.net/cfile/tistory/99D978405CBC60081B\" style=\"cursor: pointer;max-width:100%;height:auto\" width=\"508\"/></span></span></p><p><br/></p><p><span style=\"font-size: 12pt; color: rgb(0, 0, 0);\">먼저 거짓말탐지기에 손을 얹은 김영광은 \"박보영이 최고다\"는 질문에 망설임 없이 \"그렇다\"고 답했지만, 탐지기가 울려 거짓으로 판명됐다.</span></p><p style=\"text-align: left; clear: none; float: none;\"><br/></p><p style=\"text-align: left; clear: none; float: none;\"><span class=\"imageblock\" style=\"display:inline-block;width:508px;width: 508px; height: 298px;;height:auto;max-width:100%\"><span data-lightbox=\"lightbox\" data-url=\"https://t1.daumcdn.net/cfile/tistory/99C36D405CBC60081C?download\"><img filemime=\"image/jpeg\" filename=\"0023.jpg\" height=\"298\" src=\"https://t1.daumcdn.net/cfile/tistory/99C36D405CBC60081C\" style=\"cursor: pointer;max-width:100%;height:auto\" width=\"508\"/></span></span></p><p style=\"text-align: left; clear: none; float: none;\"><span class=\"imageblock\" style=\"display:inline-block;width:508px;width: 508px; height: 298px;;height:auto;max-width:100%\"><span data-lightbox=\"lightbox\" data-url=\"https://t1.daumcdn.net/cfile/tistory/99CB71405CBC60082C?download\"><img filemime=\"image/jpeg\" filename=\"0024.jpg\" height=\"298\" src=\"https://t1.daumcdn.net/cfile/tistory/99CB71405CBC60082C\" style=\"cursor: pointer;max-width:100%;height:auto\" width=\"508\"/></span></span></p><p style=\"text-align: left; clear: none; float: none;\"><span class=\"imageblock\" style=\"display:inline-block;width:508px;width: 508px; height: 298px;;height:auto;max-width:100%\"><span data-lightbox=\"lightbox\" data-url=\"https://t1.daumcdn.net/cfile/tistory/99274C405CBC600926?download\"><img filemime=\"image/jpeg\" filename=\"0025.jpg\" height=\"298\" src=\"https://t1.daumcdn.net/cfile/tistory/99274C405CBC600926\" style=\"cursor: pointer;max-width:100%;height:auto\" width=\"508\"/></span></span></p><p><br/></p><p><span style=\"font-size: 12pt; color: rgb(0, 0, 0);\">그리고 거짓말 탐지기의 오작동?이 두 사람에게 좋은 빌미가 됐다.</span></p><p><br/></p><p><span style=\"font-size: 12pt; color: rgb(0, 0, 0);\">박보영과 김영광은 기다렸다는 듯 이렇게 말했다.</span></p><p><span style=\"font-size: 12pt; color: rgb(0, 0, 0);\"><br/></span></p><p><span class=\"imageblock\" style=\"display:inline-block;width:508px;width: 508px; height: 298px;;height:auto;max-width:100%\"><span data-lightbox=\"lightbox\" data-url=\"https://t1.daumcdn.net/cfile/tistory/9906EC405CBC600918?download\"><img filemime=\"image/jpeg\" filename=\"0026.jpg\" height=\"298\" src=\"https://t1.daumcdn.net/cfile/tistory/9906EC405CBC600918\" style=\"cursor: pointer;max-width:100%;height:auto\" width=\"508\"/></span></span></p><p><br/></p><p><span style=\"font-size: 12pt; color: rgb(0, 0, 0);\">\"사실 철저한 비즈니스 관계다. 일할 때 아니면 연락도 안하고 만나지도 않는다\"</span></p><p><br/></p><p><span style=\"font-size: 12pt; color: rgb(0, 0, 0);\">\"영화 홍보하러 나왔다\"</span></p><p><span style=\"font-size: 12pt; color: rgb(0, 0, 0);\"><br/></span></p><p><span style=\"font-size: 12pt; color: rgb(0, 0, 0);\">결국 김영광과 박보영은 열애가 아닌 비즈니스 관계로 일단락이 되었지만, 팬들은 여전히 두 사람이 잘 어울린다는 반응이다.</span></p><p><span style=\"font-size: 12pt; color: rgb(0, 0, 0);\"><br/></span></p><p><span style=\"font-size: 12pt; color: rgb(0, 0, 0);\"><script async=\"\" src=\"//pagead2.googlesyndication.com/pagead/js/adsbygoogle.js\"></script>\n",
      "<!-- adam24eve99 -->\n",
      "<ins class=\"adsbygoogle\" data-ad-client=\"ca-pub-6053973150257673\" data-ad-slot=\"8609426184\" style=\"display:inline-block;width:336px;height:280px\"></ins>\n",
      "<script>\n",
      "(adsbygoogle = window.adsbygoogle || []).push({});\n",
      "</script></span></p><p><span style=\"font-size: 12pt;\"><br/></span></p><p><span style=\"font-size: 12pt;\"><span style=\"color: rgb(0, 0, 0);\">하지만 화보 촬영현장에서 보여준 김영광 박보영의 스킨십과 꽁냥 꽁냥한 </span><span style=\"color: rgb(0, 0, 0);\">애정 포착 장면은 여전히 그 불씨를 남기고 있다.</span></span></p><p><span style=\"font-size: 12pt;\"><br/></span></p><p style=\"text-align: left; clear: none; float: none;\"><span class=\"imageblock\" style=\"display:inline-block;width:420px;width: 420px; height: 504px;;height:auto;max-width:100%\"><span data-lightbox=\"lightbox\" data-url=\"https://t1.daumcdn.net/cfile/tistory/99A7DD355CBC603B2C?download\"><img filemime=\"image/gif\" filename=\"0027.gif\" height=\"504\" src=\"https://t1.daumcdn.net/cfile/tistory/99A7DD355CBC603B2C\" style=\"cursor: pointer;max-width:100%;height:auto\" width=\"420\"/></span></span></p><p style=\"text-align: left; clear: none; float: none;\"><span class=\"imageblock\" style=\"display:inline-block;width:420px;width: 420px; height: 504px;;height:auto;max-width:100%\"><span data-lightbox=\"lightbox\" data-url=\"https://t1.daumcdn.net/cfile/tistory/99F49E355CBC603E36?download\"><img filemime=\"image/gif\" filename=\"0028.gif\" height=\"504\" src=\"https://t1.daumcdn.net/cfile/tistory/99F49E355CBC603E36\" style=\"cursor: pointer;max-width:100%;height:auto\" width=\"420\"/></span></span></p><p style=\"text-align: left; clear: none; float: none;\"><span class=\"imageblock\" style=\"display:inline-block;width:420px;width: 420px; height: 506px;;height:auto;max-width:100%\"><span data-lightbox=\"lightbox\" data-url=\"https://t1.daumcdn.net/cfile/tistory/991D3A355CBC604024?download\"><img filemime=\"image/gif\" filename=\"0029.gif\" height=\"506\" src=\"https://t1.daumcdn.net/cfile/tistory/991D3A355CBC604024\" style=\"cursor: pointer;max-width:100%;height:auto\" width=\"420\"/></span></span></p><p style=\"text-align: left; clear: none; float: none;\"><br/></p><p style=\"text-align: left; clear: none; float: none;\"><span style=\"font-size: 12pt; color: rgb(0, 0, 0);\">이건 아무리 봐도 사랑하는 커플의 모습과 흡사하기 때문이다.</span></p><p style=\"text-align: left; clear: none; float: none;\"><br/></p><p style=\"text-align: left; clear: none; float: none;\"><span style=\"font-size: 12pt; color: rgb(0, 0, 0);\">하지면 여전히 김영광과 박보영은 열애에 대해 부인하고 있다는 것이 공식적인 입장이다.</span></p><p style=\"text-align: left; clear: none; float: none;\"><br/></p><p style=\"text-align: left; clear: none; float: none;\"><span class=\"imageblock\" style=\"display:inline-block;width:600px;;height:auto;max-width:100%\"><img filemime=\"image/gif\" filename=\"0030.gif\" height=\"464\" src=\"https://t1.daumcdn.net/cfile/tistory/99C9BB355CBC60432A\" style=\"max-width:100%;height:auto\" width=\"600\"/></span></p><p style=\"text-align: left; clear: none; float: none;\"><br/></p><p><span style=\"font-size: 12pt; color: rgb(0, 0, 0);\">하지만 언젠가는 그 사랑이 커진다면 고백하는 날도 오지 않을까 응원해 본다.</span></p><p><span style=\"font-size: 12pt;\"><br/></span></p><p><span style=\"font-size: 12pt; color: rgb(0, 0, 0);\">그러고 보니 정말 두 사람 너무 잘 어울린 다는 생각이 든다.</span></p><p><span style=\"font-size: 12pt;\"><br/></span></p><p><span style=\"font-size: 12pt; color: rgb(0, 0, 0);\">공감하시면 아래 공감 하트를 꾹 눌러주세요.</span></p><div class=\"container_postbtn #post_button_group\"><div class=\"postbtn_like\"><div class=\"wrap_btn\"><button class=\"btn_post like_btn uoc-icon\" data-uoc-fetchurl=\"http://api.kakao.tistory.com/like/fetch?uid=2817538_858\" data-uoc-pcurl=\"https://adam24eve.tistory.com/858\" data-uoc-sc=\"\" data-uoc-svc=\"tistory\" data-uoc-uid=\"2817538_858\" type=\"button\">\n",
      "<div class=\"uoc-icon\">\n",
      "<span class=\"ico_postbtn ico_like\">좋아요</span>\n",
      "<span class=\"txt_like uoc-text screen_out\">공감</span>\n",
      "<span class=\"txt_like uoc-count\"></span>\n",
      "</div>\n",
      "</button></div><div class=\"wrap_btn wrap_btn_share\"><button class=\"btn_post sns_btn btn_share\" data-blog-title=\"아담의 미스터리 월드\" data-description=\"오늘은 미우새에 출연하는 김영광과 배우 박보영 열애설에 대해 알아 보도록 하자. 김영광 박보영 열애? 이 두 사람은 진짜 사귀는 것일까? 김영광 나이 33세, 2006년 서울컬렉션 'Lone Costume 06,07 F/W' 모델..\" data-pc-url=\"https://adam24eve.tistory.com/858\" data-profile-image=\"https://tistory3.daumcdn.net/tistory/2817538/attach/01d402c44be6453a9e33dac687de75c8\" data-profile-name=\"SP레이블-진\" data-thumbnail-url=\"https://img1.daumcdn.net/thumb/R800x0/?scode=mtistory2&amp;fname=https%3A%2F%2Ft1.daumcdn.net%2Fcfile%2Ftistory%2F9909773E5CBC5EDB1F\" data-title=\"김영광 박보영 열애 터진 이유\" type=\"button\">\n",
      "<span class=\"ico_postbtn ico_share\">공유하기</span>\n",
      "</button></div><div class=\"wrap_btn wrap_btn_etc\" data-category-visibility=\"public\" data-entry-id=\"858\" data-entry-visibility=\"public\"><button class=\"btn_post btn_etc2\" type=\"button\"><span class=\"ico_postbtn ico_etc\">글 요소</span></button></div></div><button class=\"btn_menu_toolbar btn_subscription #subscribe\" data-blog-id=\"2817538\" data-device=\"web_pc\" data-url=\"https://adam24eve.tistory.com/858\" type=\"button\">\n",
      "<em class=\"txt_state\">구독하기</em>\n",
      "<strong class=\"txt_tool_id\">아담의 미스터리 월드</strong>\n",
      "<span class=\"img_common_tistory ico_check_type1\"></span>\n",
      "</button><div class=\"postbtn_ccl\" data-ccl-type=\"3\"><a class=\"link_ccl\" href=\"http://creativecommons.org/licenses/by/4.0/deed.ko\" target=\"_blank\"><span class=\"bundle_ccl\"><span class=\"ico_postbtn ico_ccl1\">저작자표시</span></span></a></div></div> <!--\n",
      "\t<rdf:RDF xmlns=\"http://web.resource.org/cc/\" xmlns:dc=\"http://purl.org/dc/elements/1.1/\" xmlns:rdf=\"http://www.w3.org/1999/02/22-rdf-syntax-ns#\">\n",
      "\t\t<Work rdf:about=\"\">\n",
      "\t\t\t<license rdf:resource=\"http://creativecommons.org/licenses/by-fr/2.0/kr/\" />\n",
      "\t\t</Work>\n",
      "\t\t<License rdf:about=\"http://creativecommons.org/licenses/by-fr/\">\n",
      "\t\t\t<permits rdf:resource=\"http://web.resource.org/cc/Reproduction\"/>\n",
      "\t\t\t<permits rdf:resource=\"http://web.resource.org/cc/Distribution\"/>\n",
      "\t\t\t<requires rdf:resource=\"http://web.resource.org/cc/Notice\"/>\n",
      "\t\t\t<requires rdf:resource=\"http://web.resource.org/cc/Attribution\"/>\n",
      "\t\t\t<permits rdf:resource=\"http://web.resource.org/cc/DerivativeWorks\"/>\n",
      "\t\t</License>\n",
      "\t</rdf:RDF>\n",
      "\t--></div>\n",
      "</div>\n",
      "<script defer=\"\" src=\"//static.dable.io/dist/tistory.min.js\"></script>\n",
      "<div data-widget_id=\"zlvnmLl8\" id=\"dablewidget_zlvnmLl8\">\n",
      "<script>\n",
      "(function(d,a,b,l,e,_) {\n",
      "if(d[b]&&d[b].q)return;d[b]=function(){(d[b].q=d[b].q||[]).push(arguments)};e=a.createElement(l);\n",
      "e.async=1;e.charset='utf-8';e.src='//static.dable.io/dist/plugin.min.js';\n",
      "_=a.getElementsByTagName(l)[0];_.parentNode.insertBefore(e,_);\n",
      "})(window,document,'dable','script');\n",
      "dable('setService', 'adam24eve.tistory.com');\n",
      "dable('sendLogOnce');\n",
      "dable('renderWidget', 'dablewidget_zlvnmLl8', {ignore_items: true});\n",
      "</script>\n",
      "</div>\n",
      "</div>\n",
      "</div>\n",
      "</section>\n",
      "<p class=\"jb-article-tag\"><span class=\"jb-article-tag-list\"><a href=\"/tag/%EA%B9%80%EC%98%81%EA%B4%91\" rel=\"tag\">김영광</a>,\r\n",
      "<a href=\"/tag/%EA%B9%80%EC%98%81%EA%B4%91%20%EB%82%98%EC%9D%B4\" rel=\"tag\">김영광 나이</a>,\r\n",
      "<a href=\"/tag/%EA%B9%80%EC%98%81%EA%B4%91%20%EB%B0%95%EB%B3%B4%EC%98%81%20%EC%97%B4%EC%95%A0\" rel=\"tag\">김영광 박보영 열애</a>,\r\n",
      "<a href=\"/tag/%EA%B9%80%EC%98%81%EA%B4%91%20%ED%82%A4\" rel=\"tag\">김영광 키</a>,\r\n",
      "<a href=\"/tag/%EB%AF%B8%EC%9A%B0%EC%83%88\" rel=\"tag\">미우새</a>,\r\n",
      "<a href=\"/tag/%EB%AF%B8%EC%9A%B4%EC%9A%B0%EB%A6%AC%EC%83%88%EB%81%BC\" rel=\"tag\">미운우리새끼</a>,\r\n",
      "<a href=\"/tag/%EB%B0%95%EB%B3%B4%EC%98%81\" rel=\"tag\">박보영</a>,\r\n",
      "<a href=\"/tag/%EB%B0%95%EB%B3%B4%EC%98%81%20%ED%82%A4\" rel=\"tag\">박보영 키</a></span></p>\n",
      "<div class=\"jb-adsense jb-adsense-cb\">\n",
      "<!-- AdSense CB -->\n",
      "</div>\n",
      "<!-- SNS Share -->\n",
      "<div class=\"jb-wrap-sns-share\">\n",
      "<p>이 글을 공유하기</p>\n",
      "<div class=\"jb-sns-share jb-sns-share-facebook\">\n",
      "<a href=\"#\" onclick=\"javascript:window.open( 'https://www.facebook.com/sharer/sharer.php?u=' + encodeURIComponent( document.URL ) + '&amp;t=' + encodeURIComponent( document.title ), 'jb-share-window-facebook', 'menubar=no, toolbar=no, resizable=yes, scrollbars=yes, width=600, height=600' ); return false;\" target=\"_blank\"><div class=\"jb-sns-share-logo\"><img alt=\"\" src=\"https://tistory2.daumcdn.net/tistory/2817538/skin/images/jb-sns-logo-facebook.png\"/></div><div class=\"jb-sns-share-label\">Facebook</div></a>\n",
      "</div>\n",
      "<div class=\"jb-sns-share jb-sns-share-twitter\">\n",
      "<a href=\"#\" onclick=\"javascript:window.open( 'https://twitter.com/intent/tweet?text=' + encodeURIComponent( document.title ) + '%20(' + encodeURIComponent( document.URL ) + ')', 'jb-share-window-google-plus', 'menubar=no, toolbar=no, resizable=yes, scrollbars=yes, width=600, height=600' ); return false;\" target=\"_blank\"><div class=\"jb-sns-share-logo\"><img alt=\"\" src=\"https://tistory2.daumcdn.net/tistory/2817538/skin/images/jb-sns-logo-twitter.png\"/></div><div class=\"jb-sns-share-label\">Twitter</div></a>\n",
      "</div>\n",
      "<div class=\"jb-sns-share jb-sns-share-google-plus\">\n",
      "<a href=\"#\" onclick=\"javascript:window.open( 'https://plus.google.com/share?url=' + encodeURIComponent( document.URL ), 'jb-share-window-google-plus', 'menubar=no, toolbar=no, resizable=yes, scrollbars=yes, width=600, height=600' ); return false;\" target=\"_blank\"><div class=\"jb-sns-share-logo\"><img alt=\"\" src=\"https://tistory2.daumcdn.net/tistory/2817538/skin/images/jb-sns-logo-google-plus.png\"/></div><div class=\"jb-sns-share-label\">Google +</div></a>\n",
      "</div>\n",
      "<div class=\"jb-sns-share jb-sns-share-kakaostory\">\n",
      "<a href=\"#\" onclick=\"javascript:window.open( 'https://story.kakao.com/share?url=' + encodeURIComponent( document.URL ), 'jb-share-window-kakostory', 'menubar=no, toolbar=no, resizable=yes, scrollbars=yes, width=600, height=600' ); return false;\" target=\"_blank\"><div class=\"jb-sns-share-logo\"><img alt=\"\" src=\"https://tistory2.daumcdn.net/tistory/2817538/skin/images/jb-sns-logo-kakaostory.png\"/></div><div class=\"jb-sns-share-label\">Kakao</div></a>\n",
      "</div>\n",
      "<div class=\"jb-sns-share jb-sns-share-naver\">\n",
      "<a href=\"#\" onclick=\"javascript:window.open( 'http://share.naver.com/web/shareView.nhn?url=' + encodeURIComponent( document.URL ) + '&amp;title=' + encodeURIComponent( document.title ), 'jb-share-window-naver', 'menubar=no, toolbar=no, resizable=yes, scrollbars=yes, width=600, height=600' ); return false;\" target=\"_blank\"><div class=\"jb-sns-share-logo\"><img alt=\"\" src=\"https://tistory2.daumcdn.net/tistory/2817538/skin/images/jb-sns-logo-naver.png\"/></div><div class=\"jb-sns-share-label\">Naver</div></a>\n",
      "</div>\n",
      "</div>\n",
      "<div class=\"jb-related\">\n",
      "<div class=\"jb-related-header-table\">\n",
      "<div class=\"jb-related-header-table-row\">\n",
      "<div class=\"jb-related-header-table-cell jb-related-header-table-cell-title\">\n",
      "<h2>'Star' 관련 글</h2>\n",
      "</div>\n",
      "<div class=\"jb-related-header-table-cell jb-related-header-table-cell-more\">\n",
      "</div>\n",
      "</div>\n",
      "</div>\n",
      "<div class=\"jb-cell jb-cell-content jb-cell-index jb-cell-index-related thumb_type\">\n",
      "<div class=\"jb-index-table jb-index-table-related\">\n",
      "<div class=\"jb-index-table-row jb-index-table-row-related\">\n",
      "<div class=\"jb-index-table-cell jb-index-table-cell-thumbnail jb-index-table-cell-related jb-index-table-cell-thumbnail-related\">\n",
      "<a href=\"/860?category=820301\">\n",
      "<div class=\"jb-index-thumbnail jb-index-thumbnail-related\">\n",
      "<img alt=\"\" src=\"//i1.daumcdn.net/thumb/C400x300/?fname=https://t1.daumcdn.net/cfile/tistory/99A400385CBD99482E\"/>\n",
      "</div>\n",
      "</a>\n",
      "</div>\n",
      "<div class=\"jb-index-table-cell jb-index-table-cell-information jb-index-table-cell-related jb-index-table-cell-information-related\">\n",
      "<h3 class=\"jb-index-title jb-index-title-related\"><a href=\"/860?category=820301\">이외수 졸혼 이유가 반전</a></h3>\n",
      "<p class=\"jb-index-information jb-index-information-related\">\n",
      "<span class=\"jb-index-information-date jb-index-information-date-related\">2019.04.22</span>\n",
      "</p>\n",
      "</div>\n",
      "</div>\n",
      "</div>\n",
      "</div>\n",
      "<div class=\"jb-cell jb-cell-content jb-cell-index jb-cell-index-related thumb_type\">\n",
      "<div class=\"jb-index-table jb-index-table-related\">\n",
      "<div class=\"jb-index-table-row jb-index-table-row-related\">\n",
      "<div class=\"jb-index-table-cell jb-index-table-cell-thumbnail jb-index-table-cell-related jb-index-table-cell-thumbnail-related\">\n",
      "<a href=\"/859?category=820301\">\n",
      "<div class=\"jb-index-thumbnail jb-index-thumbnail-related\">\n",
      "<img alt=\"\" src=\"//i1.daumcdn.net/thumb/C400x300/?fname=https://t1.daumcdn.net/cfile/tistory/9981B9505CBD6F3C1C\"/>\n",
      "</div>\n",
      "</a>\n",
      "</div>\n",
      "<div class=\"jb-index-table-cell jb-index-table-cell-information jb-index-table-cell-related jb-index-table-cell-information-related\">\n",
      "<h3 class=\"jb-index-title jb-index-title-related\"><a href=\"/859?category=820301\">조수용 박지윤 재혼 왜 욕하나</a></h3>\n",
      "<p class=\"jb-index-information jb-index-information-related\">\n",
      "<span class=\"jb-index-information-date jb-index-information-date-related\">2019.04.22</span>\n",
      "</p>\n",
      "</div>\n",
      "</div>\n",
      "</div>\n",
      "</div>\n",
      "<div class=\"jb-cell jb-cell-content jb-cell-index jb-cell-index-related thumb_type\">\n",
      "<div class=\"jb-index-table jb-index-table-related\">\n",
      "<div class=\"jb-index-table-row jb-index-table-row-related\">\n",
      "<div class=\"jb-index-table-cell jb-index-table-cell-thumbnail jb-index-table-cell-related jb-index-table-cell-thumbnail-related\">\n",
      "<a href=\"/857?category=820301\">\n",
      "<div class=\"jb-index-thumbnail jb-index-thumbnail-related\">\n",
      "<img alt=\"\" src=\"//i1.daumcdn.net/thumb/C400x300/?fname=https://t1.daumcdn.net/cfile/tistory/99C6AB3D5CBC1CF60C\"/>\n",
      "</div>\n",
      "</a>\n",
      "</div>\n",
      "<div class=\"jb-index-table-cell jb-index-table-cell-information jb-index-table-cell-related jb-index-table-cell-information-related\">\n",
      "<h3 class=\"jb-index-title jb-index-title-related\"><a href=\"/857?category=820301\">구본임 비인두암 사망 김우빈 4기</a></h3>\n",
      "<p class=\"jb-index-information jb-index-information-related\">\n",
      "<span class=\"jb-index-information-date jb-index-information-date-related\">2019.04.21</span>\n",
      "</p>\n",
      "</div>\n",
      "</div>\n",
      "</div>\n",
      "</div>\n",
      "<div class=\"jb-cell jb-cell-content jb-cell-index jb-cell-index-related thumb_type\">\n",
      "<div class=\"jb-index-table jb-index-table-related\">\n",
      "<div class=\"jb-index-table-row jb-index-table-row-related\">\n",
      "<div class=\"jb-index-table-cell jb-index-table-cell-thumbnail jb-index-table-cell-related jb-index-table-cell-thumbnail-related\">\n",
      "<a href=\"/855?category=820301\">\n",
      "<div class=\"jb-index-thumbnail jb-index-thumbnail-related\">\n",
      "<img alt=\"\" src=\"//i1.daumcdn.net/thumb/C400x300/?fname=https://t1.daumcdn.net/cfile/tistory/99D216465CB9B3DE34\"/>\n",
      "</div>\n",
      "</a>\n",
      "</div>\n",
      "<div class=\"jb-index-table-cell jb-index-table-cell-information jb-index-table-cell-related jb-index-table-cell-information-related\">\n",
      "<h3 class=\"jb-index-title jb-index-title-related\"><a href=\"/855?category=820301\">휘성 녹취록 에이미 용서해줘</a></h3>\n",
      "<p class=\"jb-index-information jb-index-information-related\">\n",
      "<span class=\"jb-index-information-date jb-index-information-date-related\">2019.04.19</span>\n",
      "</p>\n",
      "</div>\n",
      "</div>\n",
      "</div>\n",
      "</div>\n",
      "<div class=\"jb-related-more\"><a href=\"/category/Star\">'Star' 관련 글 더보기</a></div>\n",
      "</div>\n",
      "<p class=\"jb-discuss-count\">\n",
      "<span class=\"jb-discuss-count-reply\"><a href=\"#rp\" onclick=\"toggleLayerForEntry('858', 'comment'); return false\"><span class=\"jb-discuss-count-label\">댓글</span><span id=\"commentCount858_0\"><span class=\"jb-discuss-count-number\">(0)</span></span></a></span>\n",
      "</p>\n",
      "<div id=\"entry858Comment\" style=\"display:block\">\n",
      "<form action=\"/comment/add/858\" method=\"post\" onsubmit=\"return false\" style=\"margin: 0\">\n",
      "<div class=\"jb-wrap-form-discuss jb-wrap-form-discuss-reply\">\n",
      "<div class=\"jb-form-discuss jb-form-discuss-name jb-form-discuss-table\">\n",
      "<div class=\"jb-form-discuss-table-row\">\n",
      "<div class=\"jb-form-discuss-table-cell jb-form-discuss-table-cell-icon\">\n",
      "<div class=\"jb-form-discuss-icon jb-form-discuss-icon-name\">\n",
      "<i class=\"fa fa-user fa-fw\"></i>\n",
      "</div>\n",
      "</div>\n",
      "<div class=\"jb-form-discuss-table-cell jb-form-discuss-table-cell-input\">\n",
      "<input class=\"jb-form-input-text\" id=\"name_\" name=\"name\" placeholder=\"Name\" type=\"text\" value=\"\"/>\n",
      "</div>\n",
      "</div>\n",
      "</div>\n",
      "<div class=\"jb-form-discuss jb-form-discuss-homepage jb-form-discuss-table\">\n",
      "<div class=\"jb-form-discuss-table-row\">\n",
      "<div class=\"jb-form-discuss-table-cell jb-form-discuss-table-cell-icon\">\n",
      "<div class=\"jb-form-discuss-icon jb-form-discuss-icon-homepage\">\n",
      "<i class=\"fa fa-home fa-fw\"></i>\n",
      "</div>\n",
      "</div>\n",
      "<div class=\"jb-form-discuss-table-cell jb-form-discuss-table-cell-input\">\n",
      "<input class=\"jb-form-input-text\" id=\"homepage_\" name=\"homepage\" type=\"text\" value=\"http://\"/>\n",
      "</div>\n",
      "</div>\n",
      "</div>\n",
      "<div class=\"jb-form-discuss jb-form-discuss-password jb-form-discuss-table\">\n",
      "<div class=\"jb-form-discuss-table-row\">\n",
      "<div class=\"jb-form-discuss-table-cell jb-form-discuss-table-cell-icon\">\n",
      "<div class=\"jb-form-discuss-icon jb-form-discuss-icon-password\">\n",
      "<i class=\"fa fa-key fa-fw\"></i>\n",
      "</div>\n",
      "</div>\n",
      "<div class=\"jb-form-discuss-table-cell jb-form-discuss-table-cell-input\">\n",
      "<input class=\"jb-form-input-text\" id=\"password_\" name=\"password\" placeholder=\"Password\" type=\"password\" value=\"\"/>\n",
      "</div>\n",
      "</div>\n",
      "</div>\n",
      "<div class=\"jb-form-discuss jb-form-discuss-secret\">\n",
      "<label class=\"jb-form-label\" for=\"secret_\"><input class=\"jb-form-input-checkbox\" id=\"secret_\" name=\"secret\" type=\"checkbox\" value=\"1\"/> 비밀 글</label>\n",
      "</div>\n",
      "<div class=\"jb-form-discuss jb-form-discuss-content\">\n",
      "<textarea class=\"jb-form-textarea\" name=\"comment\" rows=\"5\"></textarea>\n",
      "</div>\n",
      "<div class=\"jb-form-discuss jb-form-discuss-submit\">\n",
      "<button class=\"jb-form-button\" onclick=\"addComment(this, 858); return false;\">등록</button>\n",
      "</div>\n",
      "</div>\n",
      "</form>\n",
      "</div><script type=\"text/javascript\">loadedComments[858]=true;findFragmentAndHighlight(858)</script>\n",
      "</article>\n",
      "</div>\n",
      "<div class=\"jb-cell jb-cell-pagination\">\n",
      "<div class=\"jb-pagination\">\n",
      "<ul>\n",
      "<li><a href=\"/859\"><i class=\"fa fa-caret-left\"></i></a></li>\n",
      "<li><a href=\"/983\"><span>1</span></a></li>\n",
      "<li><a><span>···</span></a></li>\n",
      "<li><a href=\"/862\"><span>100</span></a></li>\n",
      "<li><a href=\"/861\"><span>101</span></a></li>\n",
      "<li><a href=\"/860\"><span>102</span></a></li>\n",
      "<li><a href=\"/859\"><span>103</span></a></li>\n",
      "<li><a><span class=\"selected\">104</span></a></li>\n",
      "<li><a href=\"/857\"><span>105</span></a></li>\n",
      "<li><a href=\"/856\"><span>106</span></a></li>\n",
      "<li><a href=\"/855\"><span>107</span></a></li>\n",
      "<li><a href=\"/854\"><span>108</span></a></li>\n",
      "<li><a><span>···</span></a></li>\n",
      "<li><a href=\"/2\"><span>752</span></a></li>\n",
      "<li><a href=\"/857\"><i class=\"fa fa-caret-right\"></i></a></li>\n",
      "</ul>\n",
      "</div>\n",
      "</div>\n",
      "</div>\n",
      "<div class=\"jb-column jb-column-sidebar\">\n",
      "<aside>\n",
      "<h2 class=\"jb-section-title jb-section-title-sidebar\">Sidebar</h2>\n",
      "<!-- Notices -->\n",
      "<div class=\"jb-cell jb-cell-sidebar jb-cell-sidebar-notices\">\n",
      "<div class=\"jb-sidebar-title jb-sidebar-title-notices\">\n",
      "<h3>공지사항</h3>\n",
      "</div>\n",
      "<div class=\"jb-sidebar-content jb-sidebar-content-notices jb-sidebar-content-list\">\n",
      "<ul>\n",
      "<li><span class=\"jb-sidebar-list\"><a href=\"/notice/406\">유튜브 무단 불펌시 신고처리 됩니다</a></span></li>\n",
      "</ul>\n",
      "</div>\n",
      "</div>\n",
      "<!-- Category -->\n",
      "<div class=\"jb-cell jb-cell-sidebar jb-cell-sidebar-category\">\n",
      "<div class=\"jb-sidebar-title jb-sidebar-title-category\">\n",
      "<h3>카테고리</h3>\n",
      "</div>\n",
      "<div class=\"jb-sidebar-content jb-sidebar-content-category\">\n",
      "<ul class=\"tt_category\">\n",
      "<li class=\"\">\n",
      "<a class=\"link_tit\" href=\"/category\">\n",
      "\t\t\t분류 전체보기\t\t\t\t\t\t\t<span class=\"c_cnt\">(752)</span>\n",
      "<img alt=\"N\" src=\"https://t1.daumcdn.net/tistory_admin/assets/blog/cacc21797df8aa77ca75c9c748b07e9eb0ca9f80/blogs/image/category/new_ico_5.gif?_version_=cacc21797df8aa77ca75c9c748b07e9eb0ca9f80\" style=\"vertical-align:middle;padding-left:2px;\"/>\n",
      "</a>\n",
      "<ul class=\"category_list\">\n",
      "<li class=\"\">\n",
      "<a class=\"link_item\" href=\"/category/Cosmos\">\n",
      "\t\t\t\t\t\tCosmos\t\t\t\t\t\t\t\t\t\t\t\t\t<span class=\"c_cnt\">(95)</span>\n",
      "</a>\n",
      "</li>\n",
      "<li class=\"\">\n",
      "<a class=\"link_item\" href=\"/category/Mystery%20world\">\n",
      "\t\t\t\t\t\tMystery world\t\t\t\t\t\t\t\t\t\t\t\t\t<span class=\"c_cnt\">(130)</span>\n",
      "</a>\n",
      "</li>\n",
      "<li class=\"\">\n",
      "<a class=\"link_item\" href=\"/category/Star\">\n",
      "\t\t\t\t\t\tStar\t\t\t\t\t\t\t\t\t\t\t\t\t<span class=\"c_cnt\">(458)</span>\n",
      "<img alt=\"N\" src=\"https://t1.daumcdn.net/tistory_admin/assets/blog/cacc21797df8aa77ca75c9c748b07e9eb0ca9f80/blogs/image/category/new_ico_5.gif?_version_=cacc21797df8aa77ca75c9c748b07e9eb0ca9f80\" style=\"vertical-align:middle;padding-left:2px;\"/>\n",
      "</a>\n",
      "</li>\n",
      "<li class=\"\">\n",
      "<a class=\"link_item\" href=\"/category/Political%20\">\n",
      "\t\t\t\t\t\tPolitical\t\t\t\t\t\t\t\t\t\t\t\t\t<span class=\"c_cnt\">(64)</span>\n",
      "</a>\n",
      "</li>\n",
      "<li class=\"\">\n",
      "<a class=\"link_item\" href=\"/category/It-game\">\n",
      "\t\t\t\t\t\tIt-game\t\t\t\t\t\t\t\t\t\t\t\t\t<span class=\"c_cnt\">(5)</span>\n",
      "</a>\n",
      "</li>\n",
      "</ul>\n",
      "</li>\n",
      "</ul>\n",
      "</div>\n",
      "</div>\n",
      "<div class=\"module module_plugin\"><script defer=\"\" src=\"//static.dable.io/dist/tistory.min.js\"></script>\n",
      "<div data-widget_id=\"Pl1JEdXE\" id=\"dablewidget_Pl1JEdXE\">\n",
      "<script>\n",
      "(function(d,a){d[a]=d[a]||function(){(d[a].q=d[a].q||[]).push(arguments)};}(window,'dable'));\n",
      "dable('renderWidget', 'dablewidget_Pl1JEdXE');\n",
      "</script>\n",
      "</div>\n",
      "</div>\n",
      "</aside>\n",
      "</div>\n",
      "</div>\n",
      "</div>\n",
      "</div>\n",
      "<div class=\"jb-background jb-background-footer\">\n",
      "<div class=\"jb-container jb-container-footer\">\n",
      "<div class=\"jb-row jb-row-footer\">\n",
      "<div class=\"jb-column jb-column-footer jb-column-footer-1\">\n",
      "<aside>\n",
      "<h2 class=\"jb-section-title jb-section-title-footer-1\">Footer 1</h2>\n",
      "<!-- Recent Posts -->\n",
      "<div class=\"jb-cell jb-cell-sidebar jb-cell-sidebar-recent-posts\">\n",
      "<div class=\"jb-sidebar-title jb-sidebar-title-recent-posts\">\n",
      "<h3>최근 글</h3>\n",
      "</div>\n",
      "<div class=\"jb-sidebar-content jb-sidebar-content-recent-posts jb-sidebar-content-list\">\n",
      "<ul>\n",
      "<li><span class=\"jb-sidebar-list\"><a href=\"/983\"><span class=\"jb-recent-posts-title\">예지원 남편 결혼상대 김종국</span><span class=\"jb-recent-posts-reply-count\"><span id=\"commentCountOnRecentEntries983\"></span></span><span class=\"jb-recent-posts-author\">신비한 SP레이블-진</span></a></span></li>\n",
      "<li><span class=\"jb-sidebar-list\"><a href=\"/982\"><span class=\"jb-recent-posts-title\">홍록기 부인 사업대박</span><span class=\"jb-recent-posts-reply-count\"><span id=\"commentCountOnRecentEntries982\"></span></span><span class=\"jb-recent-posts-author\">신비한 SP레이블-진</span></a></span></li>\n",
      "<li><span class=\"jb-sidebar-list\"><a href=\"/981\"><span class=\"jb-recent-posts-title\">미스코리아 김세연 총정리</span><span class=\"jb-recent-posts-reply-count\"><span id=\"commentCountOnRecentEntries981\"></span></span><span class=\"jb-recent-posts-author\">신비한 SP레이블-진</span></a></span></li>\n",
      "<li><span class=\"jb-sidebar-list\"><a href=\"/980\"><span class=\"jb-recent-posts-title\">오승윤 윤선영 농락했나</span><span class=\"jb-recent-posts-reply-count\"><span id=\"commentCountOnRecentEntries980\"></span></span><span class=\"jb-recent-posts-author\">신비한 SP레이블-진</span></a></span></li>\n",
      "<li><span class=\"jb-sidebar-list\"><a href=\"/979\"><span class=\"jb-recent-posts-title\">강지환 총정리</span><span class=\"jb-recent-posts-reply-count\"><span id=\"commentCountOnRecentEntries979\"></span></span><span class=\"jb-recent-posts-author\">신비한 SP레이블-진</span></a></span></li>\n",
      "</ul>\n",
      "</div>\n",
      "</div>\n",
      "</aside>\n",
      "</div>\n",
      "<div class=\"jb-column jb-column-footer jb-column-footer-2\">\n",
      "<aside>\n",
      "<h2 class=\"jb-section-title jb-section-title-footer-2\">Footer 2</h2>\n",
      "<!-- Recent Replies -->\n",
      "<div class=\"jb-cell jb-cell-sidebar jb-cell-sidebar-recent-replies\">\n",
      "<div class=\"jb-sidebar-title jb-sidebar-title-recent-replies\">\n",
      "<h3>최근 댓글</h3>\n",
      "</div>\n",
      "<div class=\"jb-sidebar-content jb-sidebar-content-recent-replies jb-sidebar-content-list\">\n",
      "<ul>\n",
      "<li><span class=\"jb-sidebar-list\"><a href=\"/957#comment15494479\"><span class=\"jb-recent-replies-title\">윤석열 검찰총장 임명을 환영합니다</span><span class=\"jb-recent-replies-name\">모두의유머</span><span class=\"jb-recent-replies-time\">06.18</span></a></span></li>\n",
      "<li><span class=\"jb-sidebar-list\"><a href=\"/810#comment15492825\"><span class=\"jb-recent-replies-title\">송가인 감동 그자체!!!</span><span class=\"jb-recent-replies-name\">제임스 남</span><span class=\"jb-recent-replies-time\">06.14</span></a></span></li>\n",
      "<li><span class=\"jb-sidebar-list\"><a href=\"/934#comment15492756\"><span class=\"jb-recent-replies-title\">ㅎㅎㅎ 멋진 사랑이라.</span><span class=\"jb-recent-replies-name\">사랑?</span><span class=\"jb-recent-replies-time\">06.14</span></a></span></li>\n",
      "<li><span class=\"jb-sidebar-list\"><a href=\"/114#comment15492408\"><span class=\"jb-recent-replies-title\">역시 ufo는 있는거였군</span><span class=\"jb-recent-replies-name\">미카엘</span><span class=\"jb-recent-replies-time\">06.13</span></a></span></li>\n",
      "<li><span class=\"jb-sidebar-list\"><a href=\"/820#comment15492397\"><span class=\"jb-recent-replies-title\">니엄마가 더 상식없음</span><span class=\"jb-recent-replies-name\"> 댓글엄마</span><span class=\"jb-recent-replies-time\">06.13</span></a></span></li>\n",
      "</ul>\n",
      "</div>\n",
      "</div>\n",
      "</aside>\n",
      "</div>\n",
      "<div class=\"jb-column jb-column-footer jb-column-footer-3\">\n",
      "<aside>\n",
      "<h2 class=\"jb-section-title jb-section-title-footer-3\">Footer 3</h2>\n",
      "<!-- Admin Menu -->\n",
      "<div class=\"jb-cell jb-cell-sidebar jb-cell-sidebar-admin\">\n",
      "<div class=\"jb-sidebar-title jb-sidebar-title-admin\">\n",
      "<h3>관리</h3>\n",
      "</div>\n",
      "<div class=\"jb-sidebar-content jb-sidebar-content-admin jb-sidebar-content-list\">\n",
      "<ul>\n",
      "<li><span class=\"jb-sidebar-list\"><a href=\"https://adam24eve.tistory.com/manage\">관리자</a></span></li>\n",
      "<li><span class=\"jb-sidebar-list\"><a href=\"https://adam24eve.tistory.com/manage/entry/post\">글쓰기</a></span></li>\n",
      "</ul>\n",
      "</div>\n",
      "</div>\n",
      "</aside>\n",
      "</div>\n",
      "</div>\n",
      "</div>\n",
      "</div>\n",
      "<div class=\"jb-background jb-background-foot\">\n",
      "<div class=\"jb-container jb-container-foot\">\n",
      "<div class=\"jb-row jb-row-foot\">\n",
      "<div class=\"jb-line jb-line-foot-top\"></div>\n",
      "<div class=\"jb-column jb-column-foot jb-column-foot-1\">\n",
      "<div class=\"jb-cell jb-cell-foot jb-cell-foot-1\">\n",
      "<div class=\"jb-copyright\">\n",
      "<h6>Copyright © 아담의 미스터리 월드 All Rights Reserved</h6>\n",
      "</div>\n",
      "</div>\n",
      "</div>\n",
      "<div class=\"jb-column jb-column-foot jb-column-foot-2\">\n",
      "<div class=\"jb-cell jb-cell-foot jb-cell-foot-2\">\n",
      "<div class=\"jb-designed\">\n",
      "<h6>Designed by <a href=\"https://www.jbfactory.net\" target=\"_blank\">JB FACTORY</a></h6>\n",
      "</div>\n",
      "</div>\n",
      "</div>\n",
      "</div>\n",
      "</div>\n",
      "</div>\n",
      "</div><!-- .jb-page -->\n",
      "<a class=\"jb-top\" href=\"#\"><i class=\"fa fa-arrow-up\"></i></a>\n",
      "<script src=\"https://tistory2.daumcdn.net/tistory/2817538/skin/images/jquery-1.12.3.min.js\"></script>\n",
      "<script src=\"https://tistory2.daumcdn.net/tistory/2817538/skin/images/jquery.nivo.slider.min.js\"></script>\n",
      "<script>\n",
      "  jQuery.noConflict();\n",
      "  jQuery( document ).ready( function( $ ) {\n",
      "    // Variables\n",
      "      var jbCurrentUrl = window.location.pathname;\n",
      "\t\t// Page\n",
      "\t\t\tif ( jbCurrentUrl.indexOf( '/pages/' ) > -1 ) {\n",
      "\t\t\t\t$( '.jb-article-information' ).remove();\n",
      "\t\t\t\t$( '.jb-discuss-count' ).remove();\n",
      "\t\t\t}\n",
      "    // Menu\n",
      "      $( '.jb-navigation-category-list > ul > li > ul > li:has( ul ) > a' ).append( '<i class=\"fa fa-angle-down\"></i>' );\n",
      "      $( '.jb-bars img' ).click( function() {\n",
      "        $( '.jb-header-table-cell-navigation' ).slideToggle();\n",
      "      } );\n",
      "    // Admin Menu\n",
      "      $( '.jb-admin-button' ).click( function() {\n",
      "        $( '.jb-admin-menu' ).slideToggle();\n",
      "      } );\n",
      "\t\t// Discuss\n",
      "\t\t\t$( '.jb-discuss-information-name' ).not( ':has( img )' ).prepend( '<img src=\"https://tistory2.daumcdn.net/tistory/2817538/skin/images/ic_person_white_48dp_2x.png\" alt=\"\">' );\n",
      "\t\t// 신고\n",
      "\t\t\t$( 'img[src=\"//t1.daumcdn.net/tistory_admin/static/ico/ico_spam_report.png\"]' ).parent().wrap( '<span class=\"jb-singo jb-singo-post\"></span>');\n",
      "\t\t\t$( '.jb-singo-post' ).parent().removeAttr( 'style' );\n",
      "\t\t\t$( 'img[src=\"//t1.daumcdn.net/tistory_admin/static/ico/ico_spam_report.png\"]' ).before( '<i class=\"fa fa-bell\"></i> 신고' ).remove();\n",
      "\t\t\t$( '.jb-discuss-information-date a' ).prepend( '<i class=\"fa fa-bell\"></i>' ).wrap( '<span class=\"jb-singo jb-singo-reply\"></span>' );\n",
      "    // Index\n",
      "      //$( '.jb-cell-index' ).wrapAll( '<div class=\"jb-row jb-row-index\"></div>' );\n",
      "\t\t  //$( '.jb-row-index .jb-cell-index:nth-child(1) .jb-index-table' ).addClass( 'jb-index-table-1' );\n",
      "\t\t\t//$( '.jb-row-index .jb-cell-index:nth-child(2) .jb-index-table' ).addClass( 'jb-index-table-2' );\n",
      "\t\t  //$( '.jb-row-index .jb-cell-index:nth-child(2n+1)' ).addClass( 'jb-cell-index-odd' );\n",
      "\t\t  //$( '.jb-row-index .jb-cell-index:nth-child(2n+2)' ).addClass( 'jb-cell-index-even' );\n",
      "      //$( '.jb-row-index .jb-cell-index:nth-child(2n+2)' ).after( '<div class=\"jb-clearfix\"></div>' );\n",
      "      $( '.jb-index-table-cell-thumbnail a' ).not( ':has( .jb-index-thumbnail )' ).append( '<div class=\"jb-index-thumbnail jb-index-thumbnail-no-image\"><img src=\"https://tistory2.daumcdn.net/tistory/2817538/skin/images/jb-blank-400x300.png\" alt=\"\"></div>' );\n",
      "    // Pagination\n",
      "      $( 'span.interword' ).replaceWith( '<li><a>&middot;&middot;&middot;</a></li>' );\n",
      "      $( '.jb-pagination span[class=\"selected\"]' ).parent( 'a' ).parent( 'li' ).addClass( 'jb-active' );\n",
      "    // Calendar\n",
      "      $( '.jb-sidebar-content-calendar table td' ).has( 'a' ).addClass( 'jb-day-has-post' );\n",
      "    // Top Button\n",
      "      $( window ).scroll( function() {\n",
      "        if ( $( this ).scrollTop() > 200 ) { $( '.jb-top' ).fadeIn(); }\n",
      "        else { $( '.jb-top' ).fadeOut(); }\n",
      "      } );\n",
      "      $( '.jb-top' ).click( function() { $( 'html, body' ).animate( { scrollTop : 0 }, 600 ); return false; } );\n",
      "    // AdSense\n",
      "      $( '.jb-adsense-cb' ).appendTo( '#jb-adsense-cm' );\n",
      "    // Youtube\n",
      "      $( '.jb-youtube-auto .jb-article iframe[src^=\"https://www.youtube.com/\"]' ).wrap( '<div class=\"jb-youtube-16x9\"></div>' );\n",
      "      $( '.jb-youtube-auto .jb-article .jb-youtube-16x9:has( .jb-youtube-16x9 )' ).css( 'padding-bottom', '0px' );\n",
      "    // Slider\n",
      "      if ( jbShowSlider == 0 && $( 'body' ).attr( 'id' ) == 'tt-body-index' && jbCurrentUrl.indexOf( '/notice' ) < 0 ) {\n",
      "        $( '.jb-column-content' ).prepend( '<div class=\"jb-cell jb-cell-slider\"><div class=\"slider-wrapper theme-default\"><div class=\"ribbon\"></div><div id=\"jb-slider\" class=\"nivoSlider\"></div></div></div>' );\n",
      "        for ( var i = 0; i < jbSliderImage.length; i++) {\n",
      "          if ( jbSliderLink[ i ] == '' && jbSliderCaption[ i ] == '' ) {\n",
      "            var jbSliderCode = '<img src=\"' + jbSliderImage[ i ] + '\">';\n",
      "          }\n",
      "          if ( jbSliderLink[ i ] !== '' && jbSliderCaption[ i ] == '' ) {\n",
      "            var jbSliderCode = '<a href=\"' + jbSliderLink[ i ] + '\"><img src=\"' + jbSliderImage[ i ] + '\"></a>';\n",
      "          }\n",
      "          if ( jbSliderLink[ i ] == '' && jbSliderCaption[ i ] !== '' ) {\n",
      "            var jbSliderCode = '<img src=\"' + jbSliderImage[ i ] + '\" title=\"' + jbSliderCaption[ i ] + '\">';\n",
      "          }\n",
      "          if ( jbSliderLink[ i ] !== '' && jbSliderCaption[ i ] !== '' ) {\n",
      "            var jbSliderCode = '<a href=\"' + jbSliderLink[ i ] + '\"><img src=\"' + jbSliderImage[ i ] + '\" title=\"' + jbSliderCaption[ i ] + '\"></a>';\n",
      "          }\n",
      "          $( '#jb-slider' ).append( jbSliderCode );\n",
      "        }\n",
      "        $( '#jb-slider' ).nivoSlider( {\n",
      "          effect: 'fade', // Specify sets like: 'fold,fade,sliceDown'\n",
      "          slices: 15, // For slice animations\n",
      "          boxCols: 8, // For box animations\n",
      "          boxRows: 4, // For box animations\n",
      "          animSpeed: 500, // Slide transition speed\n",
      "          pauseTime: 5000, // How long each slide will show\n",
      "          startSlide: 0, // Set starting Slide (0 index)\n",
      "          directionNav: true, // Next & Prev navigation\n",
      "          controlNav: true, // 1,2,3... navigation\n",
      "          controlNavThumbs: false, // Use thumbnails for Control Nav\n",
      "          pauseOnHover: true, // Stop animation while hovering\n",
      "          manualAdvance: false, // Force manual transitions\n",
      "          prevText: 'Prev', // Prev directionNav text\n",
      "          nextText: 'Next', // Next directionNav text\n",
      "          randomStart: false, // Start on a random slide\n",
      "          beforeChange: function(){}, // Triggers before a slide transition\n",
      "          afterChange: function(){}, // Triggers after a slide transition\n",
      "          slideshowEnd: function(){}, // Triggers after all slides have been shown\n",
      "          lastSlide: function(){}, // Triggers when last slide is shown\n",
      "          afterLoad: function(){} // Triggers when slider has loaded\n",
      "        } );\n",
      "      }\n",
      "      $( '#jb-slider' ).nivoSlider();\n",
      "    // Show\n",
      "      $( '.jb-background-header' ).css( { visibility: 'visible' } );\n",
      "      $( '.jb-background-main' ).css( { visibility: 'visible' } );\n",
      "      $( '.jb-background-footer' ).css( { visibility: 'visible' } );\n",
      "      $( '.jb-background-foot' ).css( { visibility: 'visible' } );\n",
      "  } );\n",
      "</script>\n",
      "<meta content=\"439669bed5f92a3dfaf51b3cf7b39960a965a4b7\" name=\"naver-site-verification\"/>\n",
      "<script type=\"text/javascript\">\r\n",
      " document.oncontextmenu = new Function ('return false');\r\n",
      " document.ondragstart = new Function ('return false');\r\n",
      " document.onselectstart = new Function ('return false');\r\n",
      "  document.body.style.MozUserSelect = 'none';\r\n",
      "</script>\n",
      "<script src=\"https://t1.daumcdn.net/tistory_admin/assets/blog/cacc21797df8aa77ca75c9c748b07e9eb0ca9f80/blogs/plugins/PreventCopyContents/js/functions.js?_version_=cacc21797df8aa77ca75c9c748b07e9eb0ca9f80\" type=\"text/javascript\"></script>\n",
      "<script src=\"//wcs.naver.net/wcslog.js\" type=\"text/javascript\"></script>\n",
      "<script type=\"text/javascript\">\n",
      "\tif(!wcs_add) var wcs_add = {};\n",
      "\twcs_add[\"wa\"] = encodeURI(\"3e8fcea8bc8a80\");\n",
      "\twcs_do();\n",
      "</script><script>\n",
      "\t(function(i,s,o,g,r,a,m){i['GoogleAnalyticsObject']=r;i[r]=i[r]||function(){\n",
      "\t\t\t(i[r].q=i[r].q||[]).push(arguments)},i[r].l=1*new Date();a=s.createElement(o),\n",
      "\t\tm=s.getElementsByTagName(o)[0];a.async=1;a.src=g;m.parentNode.insertBefore(a,m)\n",
      "\t})(window,document,'script','//www.google-analytics.com/analytics.js','ga');\n",
      "\tga('create', 'UA-107943463-1', 'auto');\n",
      "\tga('send', 'pageview');\n",
      "</script><script src=\"//search1.daumcdn.net/search/statics/common/js/g/search_dragselection.min.js\"></script>\n",
      "<script>\n",
      "    (function($) {\n",
      "        $(\"body\").bind('copy', function (e) {\n",
      "\n",
      "            var url = document.location.href,\n",
      "                decodedUrl = decodeURI(url),\n",
      "                selection = window.getSelection();\n",
      "\n",
      "\n",
      "            if (typeof window.getSelection == \"undefined\") {//IE8 or earlier...\n",
      "                event.preventDefault();\n",
      "\n",
      "                var pagelink = '\\n\\n 출처: ' + decodedUrl,\n",
      "                    copytext = selection + pagelink;\n",
      "\n",
      "                if (window.clipboardData) {\n",
      "                    window.clipboardData.setData('Text', copytext);\n",
      "                }\n",
      "                return;\n",
      "            }\n",
      "            var body_element = document.getElementsByTagName('body')[0];\n",
      "\n",
      "            //if the selection is short let's not annoy our users\n",
      "            if ((\"\" + selection).length < 30) return;\n",
      "\n",
      "            //create a div outside of the visible area\n",
      "            var newdiv = document.createElement('div');\n",
      "            newdiv.style.position = 'absolute';\n",
      "            newdiv.style.left = '-99999px';\n",
      "            body_element.appendChild(newdiv);\n",
      "            newdiv.appendChild(selection.getRangeAt(0).cloneContents());\n",
      "\n",
      "            //we need a <pre> tag workaround\n",
      "            //otherwise the text inside \"pre\" loses all the line breaks!\n",
      "            if (selection.getRangeAt(0).commonAncestorContainer.nodeName == \"PRE\") {\n",
      "                newdiv.innerHTML = \"<pre>\" + newdiv.innerHTML + \"</pre>\";\n",
      "            }\n",
      "\n",
      "            newdiv.innerHTML += '<br /><br />출처: <a href=\"' + url + '\">' + decodedUrl + '</a> [아담의 미스터리 월드]';\n",
      "\n",
      "            selection.selectAllChildren(newdiv);\n",
      "            window.setTimeout(function () {\n",
      "                body_element.removeChild(newdiv);\n",
      "            }, 200);\n",
      "\n",
      "        });\n",
      "    })(tjQuery);\n",
      "</script>\n",
      "<script>\n",
      "\t    lightbox.option({\n",
      "\t\t\t\"fadeDuration\": 200,\n",
      "\t\t    \"resizeDuration\": 200,\n",
      "\t\t    \"wrapAround\": false,\n",
      "\t\t\t\"albumLabel\": \"%1 / %2\",\n",
      "\t\t\t\"fitImagesInViewport\":true ,\n",
      "\t\t\t\"stopEvent\": false\n",
      "\t    })\n",
      "\t</script><script type=\"text/javascript\">\r\n",
      "var _tiq = 'undefined' !== typeof _tiq ? _tiq : [];\r\n",
      "_tiq.push(['__setConfig', {enableScroll:true, enableClick:true, enableButton:true}]);\r\n",
      "_tiq.push([\"__setParam\", \"svcdomain\", \"user.tistory.com\"]);\r\n",
      "(function(d) {\r\n",
      "\tvar se = d.createElement('script'); se.type = 'text/javascript'; se.async = true;\r\n",
      "\tse.src = location.protocol + '//m2.daumcdn.net/tiara/js/td.min.js';\r\n",
      "\tvar s = d.getElementsByTagName('head')[0]; s.appendChild(se);\r\n",
      "})(document);\r\n",
      "_tiq.push(['__setParam', 'param_ex', JSON.stringify({\"userId\":\"3695911\",\"blogId\":\"2817538\",\"role\":\"guest\",\"filterTarget\":false,\"entryId\":\"858\"})]);\r\n",
      "_tiq.push(['__trackPageview']);\r\n",
      "_tiq.push(['__content', 't_content', {\r\n",
      "'c_id':'2817538_858', \r\n",
      "'c_title':'김영광 박보영 열애 터진 이유', \r\n",
      "'type':'article', \r\n",
      "'author':'', \r\n",
      "'author_id':'3695911', \r\n",
      "'cp':'아담의 미스터리 월드', \r\n",
      "'cp_id':'2817538', \r\n",
      "'regdata':'2019-04-21 21:31:36', \r\n",
      "'plink':'https://adam24eve.tistory.com/858', \r\n",
      "'media':'pcweb', \r\n",
      "}]);\r\n",
      "var addEvent = function (evt, fn) { window.addEventListener ? window.addEventListener(evt, fn, false) : window.attachEvent('on' + evt, fn); };\r\n",
      "var removeEvent = function(evt, fn) { window.removeEventListener ? window.removeEventListener(evt, fn, false) : window.detachEvent('on' + evt, fn);};\r\n",
      "var ua = navigator.userAgent.toLowerCase(); var isIOS = /iP[ao]d|iPhone/i.test(ua);\r\n",
      "var contentExStat = function() {\r\n",
      "\t\t_tiq.push(['__content', 't_content_ex', {\r\n",
      "\t\t\t'data_type':'usage'\r\n",
      ", 'meta': {\r\n",
      "'c_id':'2817538_858', \r\n",
      "'c_title':'김영광 박보영 열애 터진 이유', \r\n",
      "'type':'article', \r\n",
      "'author':'', \r\n",
      "'author_id':'3695911', \r\n",
      "'cp':'아담의 미스터리 월드', \r\n",
      "'cp_id':'2817538', \r\n",
      "'regdata':'2019-04-21 21:31:36', \r\n",
      "'plink':'https://adam24eve.tistory.com/858', \r\n",
      "'media':'pcweb', \r\n",
      "}\r\n",
      "}]);\r\n",
      "\t\tremoveEvent(isIOS ? 'pagehide' : 'beforeunload', contentExStat);\r\n",
      "};\r\n",
      "addEvent(isIOS ? 'pagehide' : 'beforeunload', contentExStat);\r\n",
      "</script>\n",
      "<script type=\"text/javascript\">window.roosevelt_params_queue = window.roosevelt_params_queue || []; window.roosevelt_params_queue.push({channel_id: \"dk\", channel_label: 'tistory'});</script>\n",
      "<script async=\"\" src=\"//t1.daumcdn.net/midas/rt/dk_bt/roosevelt_dk_bt.js\" type=\"text/javascript\"></script><script type=\"text/javascript\">if(window.console!=undefined){setTimeout(console.log.bind(console,\"%cTISTORY\",\"font:8em Arial;color:#EC6521;font-weight:bold\"),0);setTimeout(console.log.bind(console,\"%c  나를 표현하는 블로그\",\"font:2em sans-serif;color:#333;\"),0);}</script><iframe id=\"editEntry\" src=\"//adam24eve.tistory.com/api\" style=\"position:absolute;width:1px;height:1px;left:-100px;top:-100px\"></iframe><div class=\"layer_tooltip\">\n",
      "<div class=\"inner_layer_tooltip\">\n",
      "<p class=\"desc_g\"></p>\n",
      "</div>\n",
      "</div><div class=\"layer_post\" id=\"tistoryEtcLayer\"></div><div class=\"layer_post\" id=\"tistorySnsLayer\"></div></body>\n",
      "</html>>\n"
     ]
    }
   ],
   "source": [
    "print(dom.prettify)"
   ]
  },
  {
   "cell_type": "code",
   "execution_count": 318,
   "metadata": {},
   "outputs": [
    {
     "data": {
      "text/plain": [
       "['/category/Cosmos',\n",
       " '/category/Mystery%20world',\n",
       " '/category/Star',\n",
       " '/category/Political%20',\n",
       " '/category/It-game',\n",
       " '/category/Cosmos',\n",
       " '/category/Mystery%20world',\n",
       " '/category/Star',\n",
       " '/category/Political%20',\n",
       " '/category/It-game']"
      ]
     },
     "execution_count": 318,
     "metadata": {},
     "output_type": "execute_result"
    }
   ],
   "source": [
    "[_[\"href\"] for _ in dom.select('.link_item')]"
   ]
  },
  {
   "cell_type": "code",
   "execution_count": 319,
   "metadata": {},
   "outputs": [],
   "source": [
    "queue = list()"
   ]
  },
  {
   "cell_type": "code",
   "execution_count": 320,
   "metadata": {},
   "outputs": [],
   "source": [
    "queue.extend([requests.compat.urljoin(url,_[\"href\"]) for _ in dom.select('.link_item')])"
   ]
  },
  {
   "cell_type": "code",
   "execution_count": 321,
   "metadata": {},
   "outputs": [
    {
     "data": {
      "text/plain": [
       "['https://adam24eve.tistory.com/category/Cosmos',\n",
       " 'https://adam24eve.tistory.com/category/Mystery%20world',\n",
       " 'https://adam24eve.tistory.com/category/Star',\n",
       " 'https://adam24eve.tistory.com/category/Political%20',\n",
       " 'https://adam24eve.tistory.com/category/It-game',\n",
       " 'https://adam24eve.tistory.com/category/Cosmos',\n",
       " 'https://adam24eve.tistory.com/category/Mystery%20world',\n",
       " 'https://adam24eve.tistory.com/category/Star',\n",
       " 'https://adam24eve.tistory.com/category/Political%20',\n",
       " 'https://adam24eve.tistory.com/category/It-game']"
      ]
     },
     "execution_count": 321,
     "metadata": {},
     "output_type": "execute_result"
    }
   ],
   "source": [
    "queue"
   ]
  },
  {
   "cell_type": "code",
   "execution_count": 322,
   "metadata": {},
   "outputs": [],
   "source": [
    "seen = list()"
   ]
  },
  {
   "cell_type": "code",
   "execution_count": 323,
   "metadata": {},
   "outputs": [
    {
     "ename": "MissingSchema",
     "evalue": "Invalid URL 'h': No schema supplied. Perhaps you meant http://h?",
     "output_type": "error",
     "traceback": [
      "\u001b[1;31m---------------------------------------------------------------------------\u001b[0m",
      "\u001b[1;31mMissingSchema\u001b[0m                             Traceback (most recent call last)",
      "\u001b[1;32m<ipython-input-323-f0036d4516d5>\u001b[0m in \u001b[0;36m<module>\u001b[1;34m\u001b[0m\n\u001b[0;32m      3\u001b[0m     \u001b[0mseen\u001b[0m\u001b[1;33m.\u001b[0m\u001b[0mappend\u001b[0m\u001b[1;33m(\u001b[0m\u001b[0mbaseURL\u001b[0m\u001b[1;33m)\u001b[0m\u001b[1;33m\u001b[0m\u001b[1;33m\u001b[0m\u001b[0m\n\u001b[0;32m      4\u001b[0m     \u001b[0mtime\u001b[0m\u001b[1;33m.\u001b[0m\u001b[0msleep\u001b[0m\u001b[1;33m(\u001b[0m\u001b[1;36m1\u001b[0m\u001b[1;33m)\u001b[0m\u001b[1;33m\u001b[0m\u001b[1;33m\u001b[0m\u001b[0m\n\u001b[1;32m----> 5\u001b[1;33m     \u001b[0mlinkList\u001b[0m \u001b[1;33m=\u001b[0m \u001b[0mparseURL\u001b[0m\u001b[1;33m(\u001b[0m\u001b[0mbaseURL\u001b[0m\u001b[1;33m)\u001b[0m\u001b[1;33m\u001b[0m\u001b[1;33m\u001b[0m\u001b[0m\n\u001b[0m\u001b[0;32m      6\u001b[0m     \u001b[1;32mfor\u001b[0m \u001b[0mlink\u001b[0m \u001b[1;32min\u001b[0m \u001b[0mlinkList\u001b[0m\u001b[1;33m:\u001b[0m\u001b[1;33m\u001b[0m\u001b[1;33m\u001b[0m\u001b[0m\n\u001b[0;32m      7\u001b[0m         \u001b[1;32mif\u001b[0m \u001b[0mlink\u001b[0m \u001b[1;32mnot\u001b[0m \u001b[1;32min\u001b[0m \u001b[0mqueue\u001b[0m \u001b[1;32mand\u001b[0m \u001b[0mlink\u001b[0m \u001b[1;32mnot\u001b[0m \u001b[1;32min\u001b[0m \u001b[0mseen\u001b[0m\u001b[1;33m:\u001b[0m\u001b[1;33m\u001b[0m\u001b[1;33m\u001b[0m\u001b[0m\n",
      "\u001b[1;32m<ipython-input-317-8c7a11645e71>\u001b[0m in \u001b[0;36mparseURL\u001b[1;34m(seed)\u001b[0m\n\u001b[0;32m      1\u001b[0m \u001b[1;32mdef\u001b[0m \u001b[0mparseURL\u001b[0m\u001b[1;33m(\u001b[0m\u001b[0mseed\u001b[0m\u001b[1;33m)\u001b[0m\u001b[1;33m:\u001b[0m\u001b[1;33m\u001b[0m\u001b[1;33m\u001b[0m\u001b[0m\n\u001b[1;32m----> 2\u001b[1;33m     \u001b[0mhtml\u001b[0m \u001b[1;33m=\u001b[0m \u001b[0mdownload\u001b[0m\u001b[1;33m(\u001b[0m\u001b[1;34m\"get\"\u001b[0m\u001b[1;33m,\u001b[0m\u001b[0mseed\u001b[0m\u001b[1;33m[\u001b[0m\u001b[1;36m0\u001b[0m\u001b[1;33m]\u001b[0m\u001b[1;33m)\u001b[0m\u001b[1;33m\u001b[0m\u001b[1;33m\u001b[0m\u001b[0m\n\u001b[0m\u001b[0;32m      3\u001b[0m     \u001b[0mdom\u001b[0m \u001b[1;33m=\u001b[0m \u001b[0mBeautifulSoup\u001b[0m\u001b[1;33m(\u001b[0m\u001b[0mhtml\u001b[0m\u001b[1;33m.\u001b[0m\u001b[0mtext\u001b[0m\u001b[1;33m,\u001b[0m \u001b[1;34m\"lxml\"\u001b[0m\u001b[1;33m)\u001b[0m\u001b[1;33m\u001b[0m\u001b[1;33m\u001b[0m\u001b[0m\n\u001b[0;32m      4\u001b[0m \u001b[1;33m\u001b[0m\u001b[0m\n\u001b[0;32m      5\u001b[0m \u001b[1;31m#    if len(dom.select(\"#mainFrame\")) < 1:\u001b[0m\u001b[1;33m\u001b[0m\u001b[1;33m\u001b[0m\u001b[1;33m\u001b[0m\u001b[0m\n",
      "\u001b[1;32m<ipython-input-285-82aa7e38b793>\u001b[0m in \u001b[0;36mdownload\u001b[1;34m(method, url, param, data)\u001b[0m\n\u001b[0;32m      4\u001b[0m         resp = requests.request(method, url,\n\u001b[0;32m      5\u001b[0m                          \u001b[0mparams\u001b[0m\u001b[1;33m=\u001b[0m\u001b[1;32mNone\u001b[0m\u001b[1;33m,\u001b[0m \u001b[0mdata\u001b[0m\u001b[1;33m=\u001b[0m\u001b[1;32mNone\u001b[0m\u001b[1;33m,\u001b[0m\u001b[1;33m\u001b[0m\u001b[1;33m\u001b[0m\u001b[0m\n\u001b[1;32m----> 6\u001b[1;33m                          headers=headers)\n\u001b[0m\u001b[0;32m      7\u001b[0m         \u001b[0mresp\u001b[0m\u001b[1;33m.\u001b[0m\u001b[0mraise_for_status\u001b[0m\u001b[1;33m(\u001b[0m\u001b[1;33m)\u001b[0m\u001b[1;33m\u001b[0m\u001b[1;33m\u001b[0m\u001b[0m\n\u001b[0;32m      8\u001b[0m     \u001b[1;32mexcept\u001b[0m \u001b[0mrequests\u001b[0m\u001b[1;33m.\u001b[0m\u001b[0mexceptions\u001b[0m\u001b[1;33m.\u001b[0m\u001b[0mHTTPError\u001b[0m \u001b[1;32mas\u001b[0m \u001b[0me\u001b[0m\u001b[1;33m:\u001b[0m\u001b[1;33m\u001b[0m\u001b[1;33m\u001b[0m\u001b[0m\n",
      "\u001b[1;32m~\\Anaconda3\\lib\\site-packages\\requests\\api.py\u001b[0m in \u001b[0;36mrequest\u001b[1;34m(method, url, **kwargs)\u001b[0m\n\u001b[0;32m     58\u001b[0m     \u001b[1;31m# cases, and look like a memory leak in others.\u001b[0m\u001b[1;33m\u001b[0m\u001b[1;33m\u001b[0m\u001b[1;33m\u001b[0m\u001b[0m\n\u001b[0;32m     59\u001b[0m     \u001b[1;32mwith\u001b[0m \u001b[0msessions\u001b[0m\u001b[1;33m.\u001b[0m\u001b[0mSession\u001b[0m\u001b[1;33m(\u001b[0m\u001b[1;33m)\u001b[0m \u001b[1;32mas\u001b[0m \u001b[0msession\u001b[0m\u001b[1;33m:\u001b[0m\u001b[1;33m\u001b[0m\u001b[1;33m\u001b[0m\u001b[0m\n\u001b[1;32m---> 60\u001b[1;33m         \u001b[1;32mreturn\u001b[0m \u001b[0msession\u001b[0m\u001b[1;33m.\u001b[0m\u001b[0mrequest\u001b[0m\u001b[1;33m(\u001b[0m\u001b[0mmethod\u001b[0m\u001b[1;33m=\u001b[0m\u001b[0mmethod\u001b[0m\u001b[1;33m,\u001b[0m \u001b[0murl\u001b[0m\u001b[1;33m=\u001b[0m\u001b[0murl\u001b[0m\u001b[1;33m,\u001b[0m \u001b[1;33m**\u001b[0m\u001b[0mkwargs\u001b[0m\u001b[1;33m)\u001b[0m\u001b[1;33m\u001b[0m\u001b[1;33m\u001b[0m\u001b[0m\n\u001b[0m\u001b[0;32m     61\u001b[0m \u001b[1;33m\u001b[0m\u001b[0m\n\u001b[0;32m     62\u001b[0m \u001b[1;33m\u001b[0m\u001b[0m\n",
      "\u001b[1;32m~\\Anaconda3\\lib\\site-packages\\requests\\sessions.py\u001b[0m in \u001b[0;36mrequest\u001b[1;34m(self, method, url, params, data, headers, cookies, files, auth, timeout, allow_redirects, proxies, hooks, stream, verify, cert, json)\u001b[0m\n\u001b[0;32m    517\u001b[0m             \u001b[0mhooks\u001b[0m\u001b[1;33m=\u001b[0m\u001b[0mhooks\u001b[0m\u001b[1;33m,\u001b[0m\u001b[1;33m\u001b[0m\u001b[1;33m\u001b[0m\u001b[0m\n\u001b[0;32m    518\u001b[0m         )\n\u001b[1;32m--> 519\u001b[1;33m         \u001b[0mprep\u001b[0m \u001b[1;33m=\u001b[0m \u001b[0mself\u001b[0m\u001b[1;33m.\u001b[0m\u001b[0mprepare_request\u001b[0m\u001b[1;33m(\u001b[0m\u001b[0mreq\u001b[0m\u001b[1;33m)\u001b[0m\u001b[1;33m\u001b[0m\u001b[1;33m\u001b[0m\u001b[0m\n\u001b[0m\u001b[0;32m    520\u001b[0m \u001b[1;33m\u001b[0m\u001b[0m\n\u001b[0;32m    521\u001b[0m         \u001b[0mproxies\u001b[0m \u001b[1;33m=\u001b[0m \u001b[0mproxies\u001b[0m \u001b[1;32mor\u001b[0m \u001b[1;33m{\u001b[0m\u001b[1;33m}\u001b[0m\u001b[1;33m\u001b[0m\u001b[1;33m\u001b[0m\u001b[0m\n",
      "\u001b[1;32m~\\Anaconda3\\lib\\site-packages\\requests\\sessions.py\u001b[0m in \u001b[0;36mprepare_request\u001b[1;34m(self, request)\u001b[0m\n\u001b[0;32m    460\u001b[0m             \u001b[0mauth\u001b[0m\u001b[1;33m=\u001b[0m\u001b[0mmerge_setting\u001b[0m\u001b[1;33m(\u001b[0m\u001b[0mauth\u001b[0m\u001b[1;33m,\u001b[0m \u001b[0mself\u001b[0m\u001b[1;33m.\u001b[0m\u001b[0mauth\u001b[0m\u001b[1;33m)\u001b[0m\u001b[1;33m,\u001b[0m\u001b[1;33m\u001b[0m\u001b[1;33m\u001b[0m\u001b[0m\n\u001b[0;32m    461\u001b[0m             \u001b[0mcookies\u001b[0m\u001b[1;33m=\u001b[0m\u001b[0mmerged_cookies\u001b[0m\u001b[1;33m,\u001b[0m\u001b[1;33m\u001b[0m\u001b[1;33m\u001b[0m\u001b[0m\n\u001b[1;32m--> 462\u001b[1;33m             \u001b[0mhooks\u001b[0m\u001b[1;33m=\u001b[0m\u001b[0mmerge_hooks\u001b[0m\u001b[1;33m(\u001b[0m\u001b[0mrequest\u001b[0m\u001b[1;33m.\u001b[0m\u001b[0mhooks\u001b[0m\u001b[1;33m,\u001b[0m \u001b[0mself\u001b[0m\u001b[1;33m.\u001b[0m\u001b[0mhooks\u001b[0m\u001b[1;33m)\u001b[0m\u001b[1;33m,\u001b[0m\u001b[1;33m\u001b[0m\u001b[1;33m\u001b[0m\u001b[0m\n\u001b[0m\u001b[0;32m    463\u001b[0m         )\n\u001b[0;32m    464\u001b[0m         \u001b[1;32mreturn\u001b[0m \u001b[0mp\u001b[0m\u001b[1;33m\u001b[0m\u001b[1;33m\u001b[0m\u001b[0m\n",
      "\u001b[1;32m~\\Anaconda3\\lib\\site-packages\\requests\\models.py\u001b[0m in \u001b[0;36mprepare\u001b[1;34m(self, method, url, headers, files, data, params, auth, cookies, hooks, json)\u001b[0m\n\u001b[0;32m    311\u001b[0m \u001b[1;33m\u001b[0m\u001b[0m\n\u001b[0;32m    312\u001b[0m         \u001b[0mself\u001b[0m\u001b[1;33m.\u001b[0m\u001b[0mprepare_method\u001b[0m\u001b[1;33m(\u001b[0m\u001b[0mmethod\u001b[0m\u001b[1;33m)\u001b[0m\u001b[1;33m\u001b[0m\u001b[1;33m\u001b[0m\u001b[0m\n\u001b[1;32m--> 313\u001b[1;33m         \u001b[0mself\u001b[0m\u001b[1;33m.\u001b[0m\u001b[0mprepare_url\u001b[0m\u001b[1;33m(\u001b[0m\u001b[0murl\u001b[0m\u001b[1;33m,\u001b[0m \u001b[0mparams\u001b[0m\u001b[1;33m)\u001b[0m\u001b[1;33m\u001b[0m\u001b[1;33m\u001b[0m\u001b[0m\n\u001b[0m\u001b[0;32m    314\u001b[0m         \u001b[0mself\u001b[0m\u001b[1;33m.\u001b[0m\u001b[0mprepare_headers\u001b[0m\u001b[1;33m(\u001b[0m\u001b[0mheaders\u001b[0m\u001b[1;33m)\u001b[0m\u001b[1;33m\u001b[0m\u001b[1;33m\u001b[0m\u001b[0m\n\u001b[0;32m    315\u001b[0m         \u001b[0mself\u001b[0m\u001b[1;33m.\u001b[0m\u001b[0mprepare_cookies\u001b[0m\u001b[1;33m(\u001b[0m\u001b[0mcookies\u001b[0m\u001b[1;33m)\u001b[0m\u001b[1;33m\u001b[0m\u001b[1;33m\u001b[0m\u001b[0m\n",
      "\u001b[1;32m~\\Anaconda3\\lib\\site-packages\\requests\\models.py\u001b[0m in \u001b[0;36mprepare_url\u001b[1;34m(self, url, params)\u001b[0m\n\u001b[0;32m    385\u001b[0m             \u001b[0merror\u001b[0m \u001b[1;33m=\u001b[0m \u001b[0merror\u001b[0m\u001b[1;33m.\u001b[0m\u001b[0mformat\u001b[0m\u001b[1;33m(\u001b[0m\u001b[0mto_native_string\u001b[0m\u001b[1;33m(\u001b[0m\u001b[0murl\u001b[0m\u001b[1;33m,\u001b[0m \u001b[1;34m'utf8'\u001b[0m\u001b[1;33m)\u001b[0m\u001b[1;33m)\u001b[0m\u001b[1;33m\u001b[0m\u001b[1;33m\u001b[0m\u001b[0m\n\u001b[0;32m    386\u001b[0m \u001b[1;33m\u001b[0m\u001b[0m\n\u001b[1;32m--> 387\u001b[1;33m             \u001b[1;32mraise\u001b[0m \u001b[0mMissingSchema\u001b[0m\u001b[1;33m(\u001b[0m\u001b[0merror\u001b[0m\u001b[1;33m)\u001b[0m\u001b[1;33m\u001b[0m\u001b[1;33m\u001b[0m\u001b[0m\n\u001b[0m\u001b[0;32m    388\u001b[0m \u001b[1;33m\u001b[0m\u001b[0m\n\u001b[0;32m    389\u001b[0m         \u001b[1;32mif\u001b[0m \u001b[1;32mnot\u001b[0m \u001b[0mhost\u001b[0m\u001b[1;33m:\u001b[0m\u001b[1;33m\u001b[0m\u001b[1;33m\u001b[0m\u001b[0m\n",
      "\u001b[1;31mMissingSchema\u001b[0m: Invalid URL 'h': No schema supplied. Perhaps you meant http://h?"
     ]
    }
   ],
   "source": [
    "while queue:\n",
    "    baseURL = queue.pop(0)\n",
    "    seen.append(baseURL)\n",
    "    time.sleep(1) \n",
    "    linkList = parseURL(baseURL)\n",
    "    for link in linkList:\n",
    "        if link not in queue and link not in seen:\n",
    "            print(link)\n",
    "            queue.append(link)   \n",
    "    print(\"Queue : {0}, Seen : {1}\".format(len(queue), len(seen)))"
   ]
  },
  {
   "cell_type": "markdown",
   "metadata": {},
   "source": [
    "-- link depth handling cf) SEO"
   ]
  },
  {
   "cell_type": "code",
   "execution_count": 270,
   "metadata": {},
   "outputs": [],
   "source": [
    "import re"
   ]
  },
  {
   "cell_type": "code",
   "execution_count": 271,
   "metadata": {},
   "outputs": [
    {
     "data": {
      "text/plain": [
       "<re.Match object; span=(0, 28), match='http://adam24eve.tistory.com'>"
      ]
     },
     "execution_count": 271,
     "metadata": {},
     "output_type": "execute_result"
    }
   ],
   "source": [
    "re.search(\".+?\\.tistory.com\",\"http://adam24eve.tistory.com/\")"
   ]
  },
  {
   "cell_type": "markdown",
   "metadata": {},
   "source": []
  }
 ],
 "metadata": {
  "kernelspec": {
   "display_name": "Python 3",
   "language": "python",
   "name": "python3"
  },
  "language_info": {
   "codemirror_mode": {
    "name": "ipython",
    "version": 3
   },
   "file_extension": ".py",
   "mimetype": "text/x-python",
   "name": "python",
   "nbconvert_exporter": "python",
   "pygments_lexer": "ipython3",
   "version": "3.7.3"
  }
 },
 "nbformat": 4,
 "nbformat_minor": 2
}
