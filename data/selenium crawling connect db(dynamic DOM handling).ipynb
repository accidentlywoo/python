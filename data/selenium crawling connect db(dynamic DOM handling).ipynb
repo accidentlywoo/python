{
 "cells": [
  {
   "cell_type": "code",
   "execution_count": 3,
   "metadata": {},
   "outputs": [],
   "source": [
    "import requests\n",
    "from bs4 import BeautifulSoup\n",
    "import select\n",
    "import sqlite3\n",
    "import time\n",
    "import selenium\n",
    "from selenium import webdriver"
   ]
  },
  {
   "cell_type": "code",
   "execution_count": 4,
   "metadata": {},
   "outputs": [],
   "source": [
    "driver = webdriver.Chrome()"
   ]
  },
  {
   "cell_type": "code",
   "execution_count": 5,
   "metadata": {},
   "outputs": [],
   "source": [
    "con = sqlite3.connect(\"news.db\")"
   ]
  },
  {
   "cell_type": "code",
   "execution_count": 6,
   "metadata": {},
   "outputs": [],
   "source": [
    "cur = con.cursor()"
   ]
  },
  {
   "cell_type": "code",
   "execution_count": 7,
   "metadata": {},
   "outputs": [
    {
     "data": {
      "text/plain": [
       "<sqlite3.Cursor at 0x1ad1e019c00>"
      ]
     },
     "execution_count": 7,
     "metadata": {},
     "output_type": "execute_result"
    }
   ],
   "source": [
    "cur.executescript(\"\"\"\n",
    "    CREATE TABLE table1(\n",
    "        id INTEGER PRIMARY KEY AUTOINCREMENT NOT NULL,\n",
    "        title TEXT NOT NULL,\n",
    "        url TEXT NOT NULL\n",
    "    );\n",
    "    CREATE TABLE table2(\n",
    "        id INTEGER PRIMARY KEY AUTOINCREMENT NOT NULL,\n",
    "        table1_id INTEGER NOT NULL,\n",
    "        content TEXT NOT NULL\n",
    "    );\n",
    "\"\"\")"
   ]
  },
  {
   "cell_type": "code",
   "execution_count": 8,
   "metadata": {},
   "outputs": [],
   "source": [
    "driver.get(\"https://news.naver.com\")"
   ]
  },
  {
   "cell_type": "code",
   "execution_count": 9,
   "metadata": {},
   "outputs": [],
   "source": [
    "# main_content > div > .com_list li > a"
   ]
  },
  {
   "cell_type": "code",
   "execution_count": 10,
   "metadata": {},
   "outputs": [],
   "source": [
    "for _ in driver.find_elements_by_css_selector(\"#main_content > div > .com_list li > a\"):\n",
    "    if len(_.get_attribute(\"href\")) > 1:\n",
    "        cur.execute(\"INSERT INTO table1(title, url) VALUES(?, ?)\",[_.text, _.get_attribute(\"href\")])\n",
    "        con.commit()"
   ]
  },
  {
   "cell_type": "markdown",
   "metadata": {},
   "source": [
    "--> Comprehension"
   ]
  },
  {
   "cell_type": "code",
   "execution_count": 19,
   "metadata": {
    "scrolled": false
   },
   "outputs": [
    {
     "data": {
      "text/plain": [
       "[<sqlite3.Cursor at 0x1ad1e019c00>,\n",
       " <sqlite3.Cursor at 0x1ad1e019c00>,\n",
       " <sqlite3.Cursor at 0x1ad1e019c00>,\n",
       " <sqlite3.Cursor at 0x1ad1e019c00>,\n",
       " <sqlite3.Cursor at 0x1ad1e019c00>,\n",
       " <sqlite3.Cursor at 0x1ad1e019c00>,\n",
       " <sqlite3.Cursor at 0x1ad1e019c00>,\n",
       " <sqlite3.Cursor at 0x1ad1e019c00>,\n",
       " <sqlite3.Cursor at 0x1ad1e019c00>,\n",
       " <sqlite3.Cursor at 0x1ad1e019c00>,\n",
       " <sqlite3.Cursor at 0x1ad1e019c00>,\n",
       " <sqlite3.Cursor at 0x1ad1e019c00>,\n",
       " <sqlite3.Cursor at 0x1ad1e019c00>,\n",
       " <sqlite3.Cursor at 0x1ad1e019c00>,\n",
       " <sqlite3.Cursor at 0x1ad1e019c00>,\n",
       " <sqlite3.Cursor at 0x1ad1e019c00>,\n",
       " <sqlite3.Cursor at 0x1ad1e019c00>,\n",
       " <sqlite3.Cursor at 0x1ad1e019c00>,\n",
       " <sqlite3.Cursor at 0x1ad1e019c00>,\n",
       " <sqlite3.Cursor at 0x1ad1e019c00>,\n",
       " <sqlite3.Cursor at 0x1ad1e019c00>,\n",
       " <sqlite3.Cursor at 0x1ad1e019c00>,\n",
       " <sqlite3.Cursor at 0x1ad1e019c00>,\n",
       " <sqlite3.Cursor at 0x1ad1e019c00>,\n",
       " <sqlite3.Cursor at 0x1ad1e019c00>,\n",
       " <sqlite3.Cursor at 0x1ad1e019c00>,\n",
       " <sqlite3.Cursor at 0x1ad1e019c00>,\n",
       " <sqlite3.Cursor at 0x1ad1e019c00>,\n",
       " <sqlite3.Cursor at 0x1ad1e019c00>,\n",
       " <sqlite3.Cursor at 0x1ad1e019c00>]"
      ]
     },
     "execution_count": 19,
     "metadata": {},
     "output_type": "execute_result"
    }
   ],
   "source": [
    "[cur.execute(\"INSERT INTO table1(title, url) VALUES(?, ?)\",[_.text, _.get_attribute(\"href\")]) \n",
    " for _ in driver.find_elements_by_css_selector(\"#main_content > div > .com_list li > a\")\n",
    "    if len(_.get_attribute(\"href\")) > 1]"
   ]
  },
  {
   "cell_type": "code",
   "execution_count": 20,
   "metadata": {},
   "outputs": [],
   "source": [
    "con.commit()"
   ]
  },
  {
   "cell_type": "code",
   "execution_count": 70,
   "metadata": {},
   "outputs": [
    {
     "data": {
      "text/plain": [
       "<sqlite3.Cursor at 0x1ad1e019c00>"
      ]
     },
     "execution_count": 70,
     "metadata": {},
     "output_type": "execute_result"
    }
   ],
   "source": [
    "cur.execute(\"SELECT * FROM table1\")"
   ]
  },
  {
   "cell_type": "markdown",
   "metadata": {},
   "source": [
    "위 쿼리 insert는 왜 알아서 30개까지만 되지?-> 여러번하면 31번부터 60번, 61번부터 90번\n",
    "\n",
    "_에 담긴 list를 초기화하려면 어떡하지?"
   ]
  },
  {
   "cell_type": "code",
   "execution_count": 57,
   "metadata": {
    "scrolled": true
   },
   "outputs": [],
   "source": [
    "for _ in cur.fetchall():\n",
    "   #print(driver.get(_))   \n",
    "    driver.get(_[2])\n",
    "    \n",
    "    cur.execute(\"INSERT INTO table2(table1_id, content) VALUES(?, ?)\",\n",
    "               [_[0], driver.find_element_by_css_selector(\"#articleBodyContents\").text])\n",
    "    con.commit()\n",
    "    "
   ]
  },
  {
   "cell_type": "markdown",
   "metadata": {},
   "source": [
    "-> Comprehension"
   ]
  },
  {
   "cell_type": "code",
   "execution_count": null,
   "metadata": {},
   "outputs": [],
   "source": [
    "[cur.execut\"INSERT INTO table2(table1_id, content) VALUES(?,?)\",\n",
    "            [_[0],driver.find_element_by_css_selector(\"#articleBodyContents\").text]) \n",
    " for _ in [row for row in cur.fetchall()]]\n",
    "# 람다쓰로 한번"
   ]
  },
  {
   "cell_type": "code",
   "execution_count": 73,
   "metadata": {},
   "outputs": [],
   "source": [
    "insertlist = [lambda x: (\"INSERT INTO table2(table1_id) VALUES(\"+x[0]+\")\",x[2])\n",
    " for x in [row for row in cur.fetchall()]]"
   ]
  },
  {
   "cell_type": "code",
   "execution_count": 74,
   "metadata": {},
   "outputs": [
    {
     "data": {
      "text/plain": [
       "[<function __main__.<listcomp>.<lambda>(x)>,\n",
       " <function __main__.<listcomp>.<lambda>(x)>,\n",
       " <function __main__.<listcomp>.<lambda>(x)>,\n",
       " <function __main__.<listcomp>.<lambda>(x)>,\n",
       " <function __main__.<listcomp>.<lambda>(x)>,\n",
       " <function __main__.<listcomp>.<lambda>(x)>,\n",
       " <function __main__.<listcomp>.<lambda>(x)>,\n",
       " <function __main__.<listcomp>.<lambda>(x)>,\n",
       " <function __main__.<listcomp>.<lambda>(x)>,\n",
       " <function __main__.<listcomp>.<lambda>(x)>,\n",
       " <function __main__.<listcomp>.<lambda>(x)>,\n",
       " <function __main__.<listcomp>.<lambda>(x)>,\n",
       " <function __main__.<listcomp>.<lambda>(x)>,\n",
       " <function __main__.<listcomp>.<lambda>(x)>,\n",
       " <function __main__.<listcomp>.<lambda>(x)>,\n",
       " <function __main__.<listcomp>.<lambda>(x)>,\n",
       " <function __main__.<listcomp>.<lambda>(x)>,\n",
       " <function __main__.<listcomp>.<lambda>(x)>,\n",
       " <function __main__.<listcomp>.<lambda>(x)>,\n",
       " <function __main__.<listcomp>.<lambda>(x)>,\n",
       " <function __main__.<listcomp>.<lambda>(x)>,\n",
       " <function __main__.<listcomp>.<lambda>(x)>,\n",
       " <function __main__.<listcomp>.<lambda>(x)>,\n",
       " <function __main__.<listcomp>.<lambda>(x)>,\n",
       " <function __main__.<listcomp>.<lambda>(x)>,\n",
       " <function __main__.<listcomp>.<lambda>(x)>,\n",
       " <function __main__.<listcomp>.<lambda>(x)>,\n",
       " <function __main__.<listcomp>.<lambda>(x)>,\n",
       " <function __main__.<listcomp>.<lambda>(x)>,\n",
       " <function __main__.<listcomp>.<lambda>(x)>,\n",
       " <function __main__.<listcomp>.<lambda>(x)>,\n",
       " <function __main__.<listcomp>.<lambda>(x)>,\n",
       " <function __main__.<listcomp>.<lambda>(x)>,\n",
       " <function __main__.<listcomp>.<lambda>(x)>,\n",
       " <function __main__.<listcomp>.<lambda>(x)>,\n",
       " <function __main__.<listcomp>.<lambda>(x)>,\n",
       " <function __main__.<listcomp>.<lambda>(x)>,\n",
       " <function __main__.<listcomp>.<lambda>(x)>,\n",
       " <function __main__.<listcomp>.<lambda>(x)>,\n",
       " <function __main__.<listcomp>.<lambda>(x)>,\n",
       " <function __main__.<listcomp>.<lambda>(x)>,\n",
       " <function __main__.<listcomp>.<lambda>(x)>,\n",
       " <function __main__.<listcomp>.<lambda>(x)>,\n",
       " <function __main__.<listcomp>.<lambda>(x)>,\n",
       " <function __main__.<listcomp>.<lambda>(x)>,\n",
       " <function __main__.<listcomp>.<lambda>(x)>,\n",
       " <function __main__.<listcomp>.<lambda>(x)>,\n",
       " <function __main__.<listcomp>.<lambda>(x)>,\n",
       " <function __main__.<listcomp>.<lambda>(x)>,\n",
       " <function __main__.<listcomp>.<lambda>(x)>,\n",
       " <function __main__.<listcomp>.<lambda>(x)>,\n",
       " <function __main__.<listcomp>.<lambda>(x)>,\n",
       " <function __main__.<listcomp>.<lambda>(x)>,\n",
       " <function __main__.<listcomp>.<lambda>(x)>,\n",
       " <function __main__.<listcomp>.<lambda>(x)>,\n",
       " <function __main__.<listcomp>.<lambda>(x)>,\n",
       " <function __main__.<listcomp>.<lambda>(x)>,\n",
       " <function __main__.<listcomp>.<lambda>(x)>,\n",
       " <function __main__.<listcomp>.<lambda>(x)>,\n",
       " <function __main__.<listcomp>.<lambda>(x)>]"
      ]
     },
     "execution_count": 74,
     "metadata": {},
     "output_type": "execute_result"
    }
   ],
   "source": [
    "insertlist"
   ]
  },
  {
   "cell_type": "code",
   "execution_count": 72,
   "metadata": {},
   "outputs": [
    {
     "ename": "TypeError",
     "evalue": "'function' object is not subscriptable",
     "output_type": "error",
     "traceback": [
      "\u001b[1;31m---------------------------------------------------------------------------\u001b[0m",
      "\u001b[1;31mTypeError\u001b[0m                                 Traceback (most recent call last)",
      "\u001b[1;32m<ipython-input-72-1a53bebdf73b>\u001b[0m in \u001b[0;36m<module>\u001b[1;34m\u001b[0m\n\u001b[1;32m----> 1\u001b[1;33m \u001b[1;33m[\u001b[0m\u001b[0mdriver\u001b[0m\u001b[1;33m.\u001b[0m\u001b[0mget\u001b[0m\u001b[1;33m(\u001b[0m\u001b[0m_\u001b[0m\u001b[1;33m[\u001b[0m\u001b[1;36m1\u001b[0m\u001b[1;33m]\u001b[0m\u001b[1;33m(\u001b[0m\u001b[1;33m)\u001b[0m\u001b[1;33m)\u001b[0m \u001b[1;32mfor\u001b[0m \u001b[0m_\u001b[0m \u001b[1;32min\u001b[0m \u001b[0minsertlist\u001b[0m\u001b[1;33m]\u001b[0m\u001b[1;33m\u001b[0m\u001b[1;33m\u001b[0m\u001b[0m\n\u001b[0m",
      "\u001b[1;32m<ipython-input-72-1a53bebdf73b>\u001b[0m in \u001b[0;36m<listcomp>\u001b[1;34m(.0)\u001b[0m\n\u001b[1;32m----> 1\u001b[1;33m \u001b[1;33m[\u001b[0m\u001b[0mdriver\u001b[0m\u001b[1;33m.\u001b[0m\u001b[0mget\u001b[0m\u001b[1;33m(\u001b[0m\u001b[0m_\u001b[0m\u001b[1;33m[\u001b[0m\u001b[1;36m1\u001b[0m\u001b[1;33m]\u001b[0m\u001b[1;33m(\u001b[0m\u001b[1;33m)\u001b[0m\u001b[1;33m)\u001b[0m \u001b[1;32mfor\u001b[0m \u001b[0m_\u001b[0m \u001b[1;32min\u001b[0m \u001b[0minsertlist\u001b[0m\u001b[1;33m]\u001b[0m\u001b[1;33m\u001b[0m\u001b[1;33m\u001b[0m\u001b[0m\n\u001b[0m",
      "\u001b[1;31mTypeError\u001b[0m: 'function' object is not subscriptable"
     ]
    }
   ],
   "source": [
    "[driver.get(_[1]) for _ in insertlist]"
   ]
  },
  {
   "cell_type": "code",
   "execution_count": null,
   "metadata": {},
   "outputs": [],
   "source": []
  },
  {
   "cell_type": "code",
   "execution_count": 52,
   "metadata": {},
   "outputs": [],
   "source": [
    "con.commit()"
   ]
  },
  {
   "cell_type": "code",
   "execution_count": 42,
   "metadata": {
    "scrolled": false
   },
   "outputs": [
    {
     "data": {
      "text/plain": [
       "[(31,\n",
       "  '돌아온 홍영표 \"다음주부터 정개특위 가동…원안 고집 안해\"',\n",
       "  'https://news.naver.com/main/read.nhn?mode=LSD&mid=shm&sid1=100&oid=079&aid=0003250307'),\n",
       " (32,\n",
       "  '단식 조롱, 바른미래당 내홍 격화 “손학규 주변인 도 넘은 비난”',\n",
       "  'https://news.naver.com/main/read.nhn?mode=LSD&mid=shm&sid1=100&oid=005&aid=0001219694'),\n",
       " (33,\n",
       "  '文지지율 50%대 회복…대일 강경모드 효과?',\n",
       "  'https://news.naver.com/main/read.nhn?mode=LSD&mid=shm&sid1=100&oid=079&aid=0003250304'),\n",
       " (34,\n",
       "  '중재위 오늘 시한…日 언론 “韓정부 불응에 타개책 안 보여”',\n",
       "  'https://news.naver.com/main/read.nhn?mode=LSD&mid=shm&sid1=100&oid=374&aid=0000189254'),\n",
       " (35,\n",
       "  \"이인영 '결자해지론'에 정개특위 위원장 수락한 홍영표\",\n",
       "  'https://news.naver.com/main/read.nhn?mode=LSD&mid=shm&sid1=100&oid=025&aid=0002923185'),\n",
       " (36,\n",
       "  '금융당국 “외화보험 주의해야…환율 따라 보험금도 변동”',\n",
       "  'https://news.naver.com/main/read.nhn?mode=LSD&mid=shm&sid1=101&oid=374&aid=0000189264'),\n",
       " (37,\n",
       "  '한국 온 유학생 ‘사상 최대’…한국인 유학 붐은 감소',\n",
       "  'https://news.naver.com/main/read.nhn?mode=LSD&mid=shm&sid1=101&oid=469&aid=0000406521'),\n",
       " (38,\n",
       "  '‘화재가능성 발견’ 현대차 제네시스 등 12개 차종 리콜',\n",
       "  'https://news.naver.com/main/read.nhn?mode=LSD&mid=shm&sid1=101&oid=374&aid=0000189260'),\n",
       " (39,\n",
       "  '지난해 국내 입국 외국인 수 역대 최대... 중국·태국·베트남인 절반 이상',\n",
       "  'https://news.naver.com/main/read.nhn?mode=LSD&mid=shm&sid1=101&oid=014&aid=0004263563'),\n",
       " (40,\n",
       "  '대전 유일 수소충전소 엿새째 멈춰…수소차 운전자 불편',\n",
       "  'https://news.naver.com/main/read.nhn?mode=LSD&mid=shm&sid1=101&oid=001&aid=0010962581'),\n",
       " (41,\n",
       "  '떠나는 검사장들 ‘윤석열 검찰’에 쓴소리 쏟아내',\n",
       "  'http://news.naver.com/main/read.nhn?mode=LSD&mid=shm&sid1=102&oid=021&aid=0002397332'),\n",
       " (42,\n",
       "  '시민단체 \"경찰 정보국 폐지하라\"…靑에 서한 전달',\n",
       "  'http://news.naver.com/main/read.nhn?mode=LSD&mid=shm&sid1=102&oid=003&aid=0009351418'),\n",
       " (43,\n",
       "  '\"고유정 밥 잘먹고 인사도 잘해…TV에 얼굴 나오면 부담스러워해\"',\n",
       "  'http://news.naver.com/main/read.nhn?mode=LSD&mid=shm&sid1=102&oid=421&aid=0004100550'),\n",
       " (44,\n",
       "  '이순자 \"연희동 자택 내 명의, 매각 무효\"…자산공사 \"불법재산\"',\n",
       "  'http://news.naver.com/main/read.nhn?mode=LSD&mid=shm&sid1=102&oid=421&aid=0004100547'),\n",
       " (45,\n",
       "  \"최순실, 구치소 목욕탕서 '꽈당'…이마 30바늘 봉합\",\n",
       "  'http://news.naver.com/main/read.nhn?mode=LSD&mid=shm&sid1=102&oid=003&aid=0009351417'),\n",
       " (46,\n",
       "  '아차車｜주차해둔 차를 누군가 긁고 도망가 버렸습니다',\n",
       "  'https://news.naver.com/main/read.nhn?mode=LSD&mid=shm&sid1=103&oid=015&aid=0004177887'),\n",
       " (47,\n",
       "  '양현석 ‘성매매 알선’ 혐의…경찰, 공소시효와 전쟁',\n",
       "  'https://news.naver.com/main/read.nhn?mode=LSD&mid=shm&sid1=103&oid=016&aid=0001559294'),\n",
       " (48,\n",
       "  '아직도 일본 여행 꿈꾸십니까?',\n",
       "  'https://news.naver.com/main/read.nhn?mode=LSD&mid=shm&sid1=103&oid=003&aid=0009350993'),\n",
       " (49,\n",
       "  \"[클릭!이 차]르노삼성 '더 뉴 QM6' 돌풍…한 달 만에 '4400대' 팔렸다\",\n",
       "  'https://news.naver.com/main/read.nhn?mode=LSD&mid=shm&sid1=103&oid=030&aid=0002829778'),\n",
       " (50,\n",
       "  '美 인구 20% 넘는 7천만에 열파 주의보…피닉스 최고기온 46℃',\n",
       "  'https://news.naver.com/main/read.nhn?mode=LSD&mid=shm&sid1=103&oid=001&aid=0010962077'),\n",
       " (51,\n",
       "  '\"日정부, \\'중재위\\' 기한인 오늘까지는 일단 기다려\"…한국 압박 계속할 듯',\n",
       "  'https://news.naver.com/main/read.nhn?mode=LSD&mid=shm&sid1=104&oid=079&aid=0003250282'),\n",
       " (52,\n",
       "  '“여행 취소, 큰 변화 없다” 일본관광청은 밝혔지만 실제는…',\n",
       "  'https://news.naver.com/main/read.nhn?mode=LSD&mid=shm&sid1=104&oid=469&aid=0000406509'),\n",
       " (53,\n",
       "  '유리병에 넣어 호주 바다에 띄운 편지, 50년만에 주인에게로',\n",
       "  'https://news.naver.com/main/read.nhn?mode=LSD&mid=shm&sid1=104&oid=001&aid=0010962413'),\n",
       " (54,\n",
       "  '日언론 “수출 규제, 日기업에 부메랑으로 돌아올 것”',\n",
       "  'https://news.naver.com/main/read.nhn?mode=LSD&mid=shm&sid1=104&oid=056&aid=0010723298'),\n",
       " (55,\n",
       "  '왕관 던지고 사랑 택했던 말레이 국왕 1년만에 이혼… 왜?',\n",
       "  'https://news.naver.com/main/read.nhn?mode=LSD&mid=shm&sid1=104&oid=469&aid=0000406503'),\n",
       " (56,\n",
       "  '넷플릭스, 美 가입자 8년만에 감소',\n",
       "  'https://news.naver.com/main/read.nhn?mode=LSD&mid=shm&sid1=105&oid=031&aid=0000501482'),\n",
       " (57,\n",
       "  '\"보안 담당자도 당한다\" 무심코 열어본 이메일에 \\'기밀 유출\\'',\n",
       "  'https://news.naver.com/main/read.nhn?mode=LSD&mid=shm&sid1=105&oid=469&aid=0000406508'),\n",
       " (58,\n",
       "  '렌터카 불허로 위기 몰린 타다…\"계속 달린다\"',\n",
       "  'https://news.naver.com/main/read.nhn?mode=LSD&mid=shm&sid1=105&oid=277&aid=0004503718'),\n",
       " (59,\n",
       "  '삼성SDS, ‘직원 비리’ 기소 뒤 공공입찰 참여…업계 “부적절”',\n",
       "  'https://news.naver.com/main/read.nhn?mode=LSD&mid=shm&sid1=105&oid=028&aid=0002461476'),\n",
       " (60,\n",
       "  '삼성전자 \"역대 최고속도 12Gb 모바일 D램 세계최초 양산\"',\n",
       "  'https://news.naver.com/main/read.nhn?mode=LSD&mid=shm&sid1=105&oid=079&aid=0003250261'),\n",
       " (61,\n",
       "  '돌아온 홍영표 \"다음주부터 정개특위 가동…원안 고집 안해\"',\n",
       "  'https://news.naver.com/main/read.nhn?mode=LSD&mid=shm&sid1=100&oid=079&aid=0003250307'),\n",
       " (62,\n",
       "  '단식 조롱, 바른미래당 내홍 격화 “손학규 주변인 도 넘은 비난”',\n",
       "  'https://news.naver.com/main/read.nhn?mode=LSD&mid=shm&sid1=100&oid=005&aid=0001219694'),\n",
       " (63,\n",
       "  '文지지율 50%대 회복…대일 강경모드 효과?',\n",
       "  'https://news.naver.com/main/read.nhn?mode=LSD&mid=shm&sid1=100&oid=079&aid=0003250304'),\n",
       " (64,\n",
       "  '중재위 오늘 시한…日 언론 “韓정부 불응에 타개책 안 보여”',\n",
       "  'https://news.naver.com/main/read.nhn?mode=LSD&mid=shm&sid1=100&oid=374&aid=0000189254'),\n",
       " (65,\n",
       "  \"이인영 '결자해지론'에 정개특위 위원장 수락한 홍영표\",\n",
       "  'https://news.naver.com/main/read.nhn?mode=LSD&mid=shm&sid1=100&oid=025&aid=0002923185'),\n",
       " (66,\n",
       "  '금융당국 “외화보험 주의해야…환율 따라 보험금도 변동”',\n",
       "  'https://news.naver.com/main/read.nhn?mode=LSD&mid=shm&sid1=101&oid=374&aid=0000189264'),\n",
       " (67,\n",
       "  '한국 온 유학생 ‘사상 최대’…한국인 유학 붐은 감소',\n",
       "  'https://news.naver.com/main/read.nhn?mode=LSD&mid=shm&sid1=101&oid=469&aid=0000406521'),\n",
       " (68,\n",
       "  '‘화재가능성 발견’ 현대차 제네시스 등 12개 차종 리콜',\n",
       "  'https://news.naver.com/main/read.nhn?mode=LSD&mid=shm&sid1=101&oid=374&aid=0000189260'),\n",
       " (69,\n",
       "  '지난해 국내 입국 외국인 수 역대 최대... 중국·태국·베트남인 절반 이상',\n",
       "  'https://news.naver.com/main/read.nhn?mode=LSD&mid=shm&sid1=101&oid=014&aid=0004263563'),\n",
       " (70,\n",
       "  '대전 유일 수소충전소 엿새째 멈춰…수소차 운전자 불편',\n",
       "  'https://news.naver.com/main/read.nhn?mode=LSD&mid=shm&sid1=101&oid=001&aid=0010962581'),\n",
       " (71,\n",
       "  '떠나는 검사장들 ‘윤석열 검찰’에 쓴소리 쏟아내',\n",
       "  'http://news.naver.com/main/read.nhn?mode=LSD&mid=shm&sid1=102&oid=021&aid=0002397332'),\n",
       " (72,\n",
       "  '시민단체 \"경찰 정보국 폐지하라\"…靑에 서한 전달',\n",
       "  'http://news.naver.com/main/read.nhn?mode=LSD&mid=shm&sid1=102&oid=003&aid=0009351418'),\n",
       " (73,\n",
       "  '\"고유정 밥 잘먹고 인사도 잘해…TV에 얼굴 나오면 부담스러워해\"',\n",
       "  'http://news.naver.com/main/read.nhn?mode=LSD&mid=shm&sid1=102&oid=421&aid=0004100550'),\n",
       " (74,\n",
       "  '이순자 \"연희동 자택 내 명의, 매각 무효\"…자산공사 \"불법재산\"',\n",
       "  'http://news.naver.com/main/read.nhn?mode=LSD&mid=shm&sid1=102&oid=421&aid=0004100547'),\n",
       " (75,\n",
       "  \"최순실, 구치소 목욕탕서 '꽈당'…이마 30바늘 봉합\",\n",
       "  'http://news.naver.com/main/read.nhn?mode=LSD&mid=shm&sid1=102&oid=003&aid=0009351417'),\n",
       " (76,\n",
       "  '아차車｜주차해둔 차를 누군가 긁고 도망가 버렸습니다',\n",
       "  'https://news.naver.com/main/read.nhn?mode=LSD&mid=shm&sid1=103&oid=015&aid=0004177887'),\n",
       " (77,\n",
       "  '양현석 ‘성매매 알선’ 혐의…경찰, 공소시효와 전쟁',\n",
       "  'https://news.naver.com/main/read.nhn?mode=LSD&mid=shm&sid1=103&oid=016&aid=0001559294'),\n",
       " (78,\n",
       "  '아직도 일본 여행 꿈꾸십니까?',\n",
       "  'https://news.naver.com/main/read.nhn?mode=LSD&mid=shm&sid1=103&oid=003&aid=0009350993'),\n",
       " (79,\n",
       "  \"[클릭!이 차]르노삼성 '더 뉴 QM6' 돌풍…한 달 만에 '4400대' 팔렸다\",\n",
       "  'https://news.naver.com/main/read.nhn?mode=LSD&mid=shm&sid1=103&oid=030&aid=0002829778'),\n",
       " (80,\n",
       "  '美 인구 20% 넘는 7천만에 열파 주의보…피닉스 최고기온 46℃',\n",
       "  'https://news.naver.com/main/read.nhn?mode=LSD&mid=shm&sid1=103&oid=001&aid=0010962077'),\n",
       " (81,\n",
       "  '\"日정부, \\'중재위\\' 기한인 오늘까지는 일단 기다려\"…한국 압박 계속할 듯',\n",
       "  'https://news.naver.com/main/read.nhn?mode=LSD&mid=shm&sid1=104&oid=079&aid=0003250282'),\n",
       " (82,\n",
       "  '“여행 취소, 큰 변화 없다” 일본관광청은 밝혔지만 실제는…',\n",
       "  'https://news.naver.com/main/read.nhn?mode=LSD&mid=shm&sid1=104&oid=469&aid=0000406509'),\n",
       " (83,\n",
       "  '유리병에 넣어 호주 바다에 띄운 편지, 50년만에 주인에게로',\n",
       "  'https://news.naver.com/main/read.nhn?mode=LSD&mid=shm&sid1=104&oid=001&aid=0010962413'),\n",
       " (84,\n",
       "  '日언론 “수출 규제, 日기업에 부메랑으로 돌아올 것”',\n",
       "  'https://news.naver.com/main/read.nhn?mode=LSD&mid=shm&sid1=104&oid=056&aid=0010723298'),\n",
       " (85,\n",
       "  '왕관 던지고 사랑 택했던 말레이 국왕 1년만에 이혼… 왜?',\n",
       "  'https://news.naver.com/main/read.nhn?mode=LSD&mid=shm&sid1=104&oid=469&aid=0000406503'),\n",
       " (86,\n",
       "  '넷플릭스, 美 가입자 8년만에 감소',\n",
       "  'https://news.naver.com/main/read.nhn?mode=LSD&mid=shm&sid1=105&oid=031&aid=0000501482'),\n",
       " (87,\n",
       "  '\"보안 담당자도 당한다\" 무심코 열어본 이메일에 \\'기밀 유출\\'',\n",
       "  'https://news.naver.com/main/read.nhn?mode=LSD&mid=shm&sid1=105&oid=469&aid=0000406508'),\n",
       " (88,\n",
       "  '렌터카 불허로 위기 몰린 타다…\"계속 달린다\"',\n",
       "  'https://news.naver.com/main/read.nhn?mode=LSD&mid=shm&sid1=105&oid=277&aid=0004503718'),\n",
       " (89,\n",
       "  '삼성SDS, ‘직원 비리’ 기소 뒤 공공입찰 참여…업계 “부적절”',\n",
       "  'https://news.naver.com/main/read.nhn?mode=LSD&mid=shm&sid1=105&oid=028&aid=0002461476'),\n",
       " (90,\n",
       "  '삼성전자 \"역대 최고속도 12Gb 모바일 D램 세계최초 양산\"',\n",
       "  'https://news.naver.com/main/read.nhn?mode=LSD&mid=shm&sid1=105&oid=079&aid=0003250261')]"
      ]
     },
     "execution_count": 42,
     "metadata": {},
     "output_type": "execute_result"
    }
   ],
   "source": [
    "[row for row in cur.fetchall()]"
   ]
  },
  {
   "cell_type": "markdown",
   "metadata": {},
   "source": [
    "---\n",
    "\n",
    "linked in - out scraping "
   ]
  },
  {
   "cell_type": "code",
   "execution_count": null,
   "metadata": {},
   "outputs": [],
   "source": [
    "for _ in [_ for _ in driver.find_elements_by_css_selector(\"#main_content > div > .com_list li > a\")\n",
    "         if len(_.get_attribute(\"href\")) > 1]:\n",
    "    news = (_.text, _.get_attribute(\"href\"))\n",
    "    \n",
    "    cur.execute(\"INSERT INTO table1(title, url) VALUES(?,?)\",[news[0], news[1]])\n",
    "    con.commit()\n",
    "    \n",
    "    cur.execute(\"SELECT id FROM table1 WHERE url=?\", [news[1]])\n",
    "    newsID = cur.fetchone()[0]\n",
    "    \n",
    "    driver.execute_script(\"window.open('about:blank');\")\n",
    "    driver.execute_script(\"console.log('%$');\" % news[0].replace('\\'','\\\"'))\n",
    "    \n",
    "    driver.switch_to_window(driver.window_handles[-1])\n",
    "    driver.get(news[1])\n",
    "    \n",
    "    cur.execute(\"INSERT INTO table2(table1_id, content) VALUES(?, ?)\",\n",
    "                [newsID, driver.find_element_by_css_selector(\"#articleBodyContents\").text])\n",
    "    con.commit()\n",
    "    \n",
    "    driver.close()\n",
    "    driver.switch_to_window(driver.window_handles[0])\n",
    "    \n",
    "driver.close()"
   ]
  },
  {
   "cell_type": "code",
   "execution_count": null,
   "metadata": {},
   "outputs": [],
   "source": []
  }
 ],
 "metadata": {
  "kernelspec": {
   "display_name": "Python 3",
   "language": "python",
   "name": "python3"
  },
  "language_info": {
   "codemirror_mode": {
    "name": "ipython",
    "version": 3
   },
   "file_extension": ".py",
   "mimetype": "text/x-python",
   "name": "python",
   "nbconvert_exporter": "python",
   "pygments_lexer": "ipython3",
   "version": "3.7.3"
  }
 },
 "nbformat": 4,
 "nbformat_minor": 2
}
