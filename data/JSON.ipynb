{
 "cells": [
  {
   "cell_type": "code",
   "execution_count": 15,
   "metadata": {},
   "outputs": [],
   "source": [
    "import json"
   ]
  },
  {
   "cell_type": "markdown",
   "metadata": {},
   "source": [
    "dump / dumps"
   ]
  },
  {
   "cell_type": "code",
   "execution_count": 2,
   "metadata": {},
   "outputs": [],
   "source": [
    "name = (\"Kim\",\"Lee\",\"Park\")\n",
    "age = [30, 28, 31]\n",
    "person = {\"name\":\"kim\",\"age\":30,\"car\":False}"
   ]
  },
  {
   "cell_type": "code",
   "execution_count": 3,
   "metadata": {},
   "outputs": [],
   "source": [
    "nameStr = json.dumps(name)"
   ]
  },
  {
   "cell_type": "code",
   "execution_count": 4,
   "metadata": {},
   "outputs": [
    {
     "name": "stdout",
     "output_type": "stream",
     "text": [
      "[\"Kim\", \"Lee\", \"Park\"]\n"
     ]
    }
   ],
   "source": [
    "print(nameStr)"
   ]
  },
  {
   "cell_type": "code",
   "execution_count": 5,
   "metadata": {},
   "outputs": [],
   "source": [
    "ageStr = json.dumps(age)"
   ]
  },
  {
   "cell_type": "code",
   "execution_count": 6,
   "metadata": {},
   "outputs": [
    {
     "name": "stdout",
     "output_type": "stream",
     "text": [
      "[30, 28, 31]\n"
     ]
    }
   ],
   "source": [
    "print(ageStr)"
   ]
  },
  {
   "cell_type": "code",
   "execution_count": 7,
   "metadata": {},
   "outputs": [],
   "source": [
    "personStr = json.dumps(person, indent=\"   \")\n",
    "# indent나 space 쓰지말자"
   ]
  },
  {
   "cell_type": "code",
   "execution_count": 8,
   "metadata": {},
   "outputs": [
    {
     "name": "stdout",
     "output_type": "stream",
     "text": [
      "{\n",
      "   \"name\": \"kim\",\n",
      "   \"age\": 30,\n",
      "   \"car\": false\n",
      "}\n"
     ]
    }
   ],
   "source": [
    "print(personStr)"
   ]
  },
  {
   "cell_type": "code",
   "execution_count": 9,
   "metadata": {},
   "outputs": [],
   "source": [
    "kname = (\"김\",\"이\",\"박\")"
   ]
  },
  {
   "cell_type": "code",
   "execution_count": 10,
   "metadata": {},
   "outputs": [],
   "source": [
    "knameStr = json.dumps(kname)"
   ]
  },
  {
   "cell_type": "code",
   "execution_count": 11,
   "metadata": {},
   "outputs": [
    {
     "name": "stdout",
     "output_type": "stream",
     "text": [
      "[\"\\uae40\", \"\\uc774\", \"\\ubc15\"]\n"
     ]
    }
   ],
   "source": [
    "print(knameStr)"
   ]
  },
  {
   "cell_type": "code",
   "execution_count": 12,
   "metadata": {},
   "outputs": [],
   "source": [
    "knameStr = json.dumps(kname, ensure_ascii=False)"
   ]
  },
  {
   "cell_type": "code",
   "execution_count": 13,
   "metadata": {},
   "outputs": [
    {
     "name": "stdout",
     "output_type": "stream",
     "text": [
      "[\"김\", \"이\", \"박\"]\n"
     ]
    }
   ],
   "source": [
    "print(knameStr)"
   ]
  },
  {
   "cell_type": "code",
   "execution_count": 14,
   "metadata": {},
   "outputs": [
    {
     "name": "stdout",
     "output_type": "stream",
     "text": [
      "{'name': 'kim', 'age': 30, 'car': False}\n"
     ]
    }
   ],
   "source": [
    "print(person)"
   ]
  },
  {
   "cell_type": "code",
   "execution_count": 15,
   "metadata": {},
   "outputs": [],
   "source": [
    "personObj = json.loads(personStr)"
   ]
  },
  {
   "cell_type": "code",
   "execution_count": 16,
   "metadata": {},
   "outputs": [
    {
     "data": {
      "text/plain": [
       "True"
      ]
     },
     "execution_count": 16,
     "metadata": {},
     "output_type": "execute_result"
    }
   ],
   "source": [
    "person == personObj"
   ]
  },
  {
   "cell_type": "code",
   "execution_count": 17,
   "metadata": {},
   "outputs": [
    {
     "name": "stdout",
     "output_type": "stream",
     "text": [
      "{\n",
      "   \"name\": \"kim\",\n",
      "   \"age\": 30,\n",
      "   \"car\": false\n",
      "}\n"
     ]
    }
   ],
   "source": [
    "print(personStr)"
   ]
  },
  {
   "cell_type": "code",
   "execution_count": null,
   "metadata": {},
   "outputs": [],
   "source": [
    "person[\"car\"] = [\"레이\",\"모닝\"]\n",
    "\n",
    "with open(\"person.json\", \"w\") as f:\n",
    "    json.dump(person, f)\n",
    "    "
   ]
  },
  {
   "cell_type": "code",
   "execution_count": 5,
   "metadata": {},
   "outputs": [],
   "source": [
    "import urllib"
   ]
  },
  {
   "cell_type": "code",
   "execution_count": 6,
   "metadata": {},
   "outputs": [],
   "source": [
    "url = 'http://openapi.airkorea.or.kr/openapi/services/rest/ArpltnInforInqireSvc/getCtprvnMesureSidoLIst'\n",
    "params = {\n",
    "    \"serviceKey\": \"PGlojt4q3MXsNb2WywMWZNXPnV0sMYmPnZHjdER8uUq0ceI9rGlicEnKMGOoGnFeTGeEZZI9MeJAWZ43cXokzw%3D%3D\",\n",
    "    \"numOfRows\":10,\n",
    "    \"pageNo\":1,\n",
    "    \"sidoName\":\"서울\",\n",
    "    \"searchCondition\":\"DAILY\",\n",
    "    \"_returnType\":\"JSON\"\n",
    "}"
   ]
  },
  {
   "cell_type": "code",
   "execution_count": 7,
   "metadata": {},
   "outputs": [
    {
     "data": {
      "text/plain": [
       "{'serviceKey': 'PGlojt4q3MXsNb2WywMWZNXPnV0sMYmPnZHjdER8uUq0ceI9rGlicEnKMGOoGnFeTGeEZZI9MeJAWZ43cXokzw%3D%3D',\n",
       " 'numOfRows': 10,\n",
       " 'pageNo': 1,\n",
       " 'sidoName': '서울',\n",
       " 'searchCondition': 'DAILY',\n",
       " '_returnType': 'JSON'}"
      ]
     },
     "execution_count": 7,
     "metadata": {},
     "output_type": "execute_result"
    }
   ],
   "source": [
    "params"
   ]
  },
  {
   "cell_type": "code",
   "execution_count": 8,
   "metadata": {},
   "outputs": [],
   "source": [
    "params[\"serviceKey\"] = urllib.parse.unquote(params[\"serviceKey\"])\n",
    "params = urllib.parse.urlencode(params)\n",
    "# byte type 으로 serial rise "
   ]
  },
  {
   "cell_type": "code",
   "execution_count": 9,
   "metadata": {},
   "outputs": [
    {
     "data": {
      "text/plain": [
       "'serviceKey=PGlojt4q3MXsNb2WywMWZNXPnV0sMYmPnZHjdER8uUq0ceI9rGlicEnKMGOoGnFeTGeEZZI9MeJAWZ43cXokzw%3D%3D&numOfRows=10&pageNo=1&sidoName=%EC%84%9C%EC%9A%B8&searchCondition=DAILY&_returnType=JSON'"
      ]
     },
     "execution_count": 9,
     "metadata": {},
     "output_type": "execute_result"
    }
   ],
   "source": [
    "params"
   ]
  },
  {
   "cell_type": "code",
   "execution_count": 10,
   "metadata": {},
   "outputs": [],
   "source": [
    "params = params.encode(\"utf-8\")"
   ]
  },
  {
   "cell_type": "code",
   "execution_count": 11,
   "metadata": {},
   "outputs": [
    {
     "data": {
      "text/plain": [
       "b'serviceKey=PGlojt4q3MXsNb2WywMWZNXPnV0sMYmPnZHjdER8uUq0ceI9rGlicEnKMGOoGnFeTGeEZZI9MeJAWZ43cXokzw%3D%3D&numOfRows=10&pageNo=1&sidoName=%EC%84%9C%EC%9A%B8&searchCondition=DAILY&_returnType=JSON'"
      ]
     },
     "execution_count": 11,
     "metadata": {},
     "output_type": "execute_result"
    }
   ],
   "source": [
    "params"
   ]
  },
  {
   "cell_type": "code",
   "execution_count": 23,
   "metadata": {},
   "outputs": [],
   "source": [
    "req = urllib.request.Request(url, data=params)\n",
    "res = urllib.request.urlopen(req)"
   ]
  },
  {
   "cell_type": "markdown",
   "metadata": {},
   "source": [
    "request는 byte로 넘긴다."
   ]
  },
  {
   "cell_type": "code",
   "execution_count": 24,
   "metadata": {},
   "outputs": [],
   "source": [
    "resStr = res.read()"
   ]
  },
  {
   "cell_type": "code",
   "execution_count": 25,
   "metadata": {},
   "outputs": [],
   "source": [
    "resStr = resStr.decode(\"utf-8\")"
   ]
  },
  {
   "cell_type": "code",
   "execution_count": 26,
   "metadata": {},
   "outputs": [],
   "source": [
    "resObj = json.loads(resStr)"
   ]
  },
  {
   "cell_type": "code",
   "execution_count": 27,
   "metadata": {},
   "outputs": [
    {
     "data": {
      "text/plain": [
       "'{\"list\":[{\"_returnType\":\"json\",\"cityName\":\"강남구\",\"cityNameEng\":\"Gangnam-gu\",\"coValue\":\"0.2\",\"dataGubun\":\"\",\"dataTime\":\"2019-07-10 15:00\",\"districtCode\":\"02\",\"districtNumSeq\":\"001\",\"itemCode\":\"\",\"khaiValue\":\"\",\"no2Value\":\"0.011\",\"numOfRows\":\"10\",\"o3Value\":\"0.028\",\"pageNo\":\"1\",\"pm10Value\":\"12\",\"pm25Value\":\"5\",\"resultCode\":\"\",\"resultMsg\":\"\",\"searchCondition\":\"\",\"serviceKey\":\"\",\"sidoName\":\"서울\",\"so2Value\":\"0.004\",\"totalCount\":\"\"},{\"_returnType\":\"json\",\"cityName\":\"강동구\",\"cityNameEng\":\"Gangdong-gu\",\"coValue\":\"0.3\",\"dataGubun\":\"\",\"dataTime\":\"2019-07-10 15:00\",\"districtCode\":\"02\",\"districtNumSeq\":\"002\",\"itemCode\":\"\",\"khaiValue\":\"\",\"no2Value\":\"0.009\",\"numOfRows\":\"10\",\"o3Value\":\"0.030\",\"pageNo\":\"1\",\"pm10Value\":\"12\",\"pm25Value\":\"7\",\"resultCode\":\"\",\"resultMsg\":\"\",\"searchCondition\":\"\",\"serviceKey\":\"\",\"sidoName\":\"서울\",\"so2Value\":\"0.003\",\"totalCount\":\"\"},{\"_returnType\":\"json\",\"cityName\":\"강북구\",\"cityNameEng\":\"Gangbuk-gu\",\"coValue\":\"0.2\",\"dataGubun\":\"\",\"dataTime\":\"2019-07-10 15:00\",\"districtCode\":\"02\",\"districtNumSeq\":\"003\",\"itemCode\":\"\",\"khaiValue\":\"\",\"no2Value\":\"0.010\",\"numOfRows\":\"10\",\"o3Value\":\"0.032\",\"pageNo\":\"1\",\"pm10Value\":\"9\",\"pm25Value\":\"2\",\"resultCode\":\"\",\"resultMsg\":\"\",\"searchCondition\":\"\",\"serviceKey\":\"\",\"sidoName\":\"서울\",\"so2Value\":\"\",\"totalCount\":\"\"},{\"_returnType\":\"json\",\"cityName\":\"강서구\",\"cityNameEng\":\"Gangseo-gu\",\"coValue\":\"0.3\",\"dataGubun\":\"\",\"dataTime\":\"2019-07-10 15:00\",\"districtCode\":\"02\",\"districtNumSeq\":\"004\",\"itemCode\":\"\",\"khaiValue\":\"\",\"no2Value\":\"0.017\",\"numOfRows\":\"10\",\"o3Value\":\"0.034\",\"pageNo\":\"1\",\"pm10Value\":\"13\",\"pm25Value\":\"5\",\"resultCode\":\"\",\"resultMsg\":\"\",\"searchCondition\":\"\",\"serviceKey\":\"\",\"sidoName\":\"서울\",\"so2Value\":\"0.005\",\"totalCount\":\"\"},{\"_returnType\":\"json\",\"cityName\":\"관악구\",\"cityNameEng\":\"Gwanak-gu\",\"coValue\":\"0.1\",\"dataGubun\":\"\",\"dataTime\":\"2019-07-10 15:00\",\"districtCode\":\"02\",\"districtNumSeq\":\"005\",\"itemCode\":\"\",\"khaiValue\":\"\",\"no2Value\":\"0.013\",\"numOfRows\":\"10\",\"o3Value\":\"0.037\",\"pageNo\":\"1\",\"pm10Value\":\"10\",\"pm25Value\":\"5\",\"resultCode\":\"\",\"resultMsg\":\"\",\"searchCondition\":\"\",\"serviceKey\":\"\",\"sidoName\":\"서울\",\"so2Value\":\"0.003\",\"totalCount\":\"\"},{\"_returnType\":\"json\",\"cityName\":\"광진구\",\"cityNameEng\":\"Gwangjin-gu\",\"coValue\":\"0.4\",\"dataGubun\":\"\",\"dataTime\":\"2019-07-10 15:00\",\"districtCode\":\"02\",\"districtNumSeq\":\"006\",\"itemCode\":\"\",\"khaiValue\":\"\",\"no2Value\":\"0.011\",\"numOfRows\":\"10\",\"o3Value\":\"0.029\",\"pageNo\":\"1\",\"pm10Value\":\"10\",\"pm25Value\":\"9\",\"resultCode\":\"\",\"resultMsg\":\"\",\"searchCondition\":\"\",\"serviceKey\":\"\",\"sidoName\":\"서울\",\"so2Value\":\"0.003\",\"totalCount\":\"\"},{\"_returnType\":\"json\",\"cityName\":\"구로구\",\"cityNameEng\":\"Guro-gu\",\"coValue\":\"\",\"dataGubun\":\"\",\"dataTime\":\"2019-07-10 15:00\",\"districtCode\":\"02\",\"districtNumSeq\":\"007\",\"itemCode\":\"\",\"khaiValue\":\"\",\"no2Value\":\"0.011\",\"numOfRows\":\"10\",\"o3Value\":\"0.038\",\"pageNo\":\"1\",\"pm10Value\":\"12\",\"pm25Value\":\"7\",\"resultCode\":\"\",\"resultMsg\":\"\",\"searchCondition\":\"\",\"serviceKey\":\"\",\"sidoName\":\"서울\",\"so2Value\":\"0.004\",\"totalCount\":\"\"},{\"_returnType\":\"json\",\"cityName\":\"금천구\",\"cityNameEng\":\"Geumcheon-gu\",\"coValue\":\"0.2\",\"dataGubun\":\"\",\"dataTime\":\"2019-07-10 15:00\",\"districtCode\":\"02\",\"districtNumSeq\":\"008\",\"itemCode\":\"\",\"khaiValue\":\"\",\"no2Value\":\"0.012\",\"numOfRows\":\"10\",\"o3Value\":\"0.030\",\"pageNo\":\"1\",\"pm10Value\":\"14\",\"pm25Value\":\"7\",\"resultCode\":\"\",\"resultMsg\":\"\",\"searchCondition\":\"\",\"serviceKey\":\"\",\"sidoName\":\"서울\",\"so2Value\":\"0.002\",\"totalCount\":\"\"},{\"_returnType\":\"json\",\"cityName\":\"노원구\",\"cityNameEng\":\"Nowon-gu\",\"coValue\":\"0.2\",\"dataGubun\":\"\",\"dataTime\":\"2019-07-10 15:00\",\"districtCode\":\"02\",\"districtNumSeq\":\"009\",\"itemCode\":\"\",\"khaiValue\":\"\",\"no2Value\":\"0.007\",\"numOfRows\":\"10\",\"o3Value\":\"0.031\",\"pageNo\":\"1\",\"pm10Value\":\"12\",\"pm25Value\":\"7\",\"resultCode\":\"\",\"resultMsg\":\"\",\"searchCondition\":\"\",\"serviceKey\":\"\",\"sidoName\":\"서울\",\"so2Value\":\"\",\"totalCount\":\"\"},{\"_returnType\":\"json\",\"cityName\":\"도봉구\",\"cityNameEng\":\"Dobong-gu\",\"coValue\":\"0.3\",\"dataGubun\":\"\",\"dataTime\":\"2019-07-10 15:00\",\"districtCode\":\"02\",\"districtNumSeq\":\"010\",\"itemCode\":\"\",\"khaiValue\":\"\",\"no2Value\":\"0.005\",\"numOfRows\":\"10\",\"o3Value\":\"0.036\",\"pageNo\":\"1\",\"pm10Value\":\"12\",\"pm25Value\":\"4\",\"resultCode\":\"\",\"resultMsg\":\"\",\"searchCondition\":\"\",\"serviceKey\":\"\",\"sidoName\":\"서울\",\"so2Value\":\"\",\"totalCount\":\"\"}],\"parm\":{\"_returnType\":\"json\",\"cityName\":\"\",\"cityNameEng\":\"\",\"coValue\":\"\",\"dataGubun\":\"\",\"dataTime\":\"\",\"districtCode\":\"\",\"districtNumSeq\":\"\",\"itemCode\":\"\",\"khaiValue\":\"\",\"no2Value\":\"\",\"numOfRows\":\"10\",\"o3Value\":\"\",\"pageNo\":\"1\",\"pm10Value\":\"\",\"pm25Value\":\"\",\"resultCode\":\"\",\"resultMsg\":\"\",\"searchCondition\":\"DAILY\",\"serviceKey\":\"PGlojt4q3MXsNb2WywMWZNXPnV0sMYmPnZHjdER8uUq0ceI9rGlicEnKMGOoGnFeTGeEZZI9MeJAWZ43cXokzw==\",\"sidoName\":\"서울\",\"so2Value\":\"\",\"totalCount\":\"\"},\"CtprvnMesureLIstVo2\":{\"_returnType\":\"json\",\"cityName\":\"\",\"cityNameEng\":\"\",\"coValue\":\"\",\"dataGubun\":\"\",\"dataTime\":\"\",\"districtCode\":\"\",\"districtNumSeq\":\"\",\"itemCode\":\"\",\"khaiValue\":\"\",\"no2Value\":\"\",\"numOfRows\":\"10\",\"o3Value\":\"\",\"pageNo\":\"1\",\"pm10Value\":\"\",\"pm25Value\":\"\",\"resultCode\":\"\",\"resultMsg\":\"\",\"searchCondition\":\"DAILY\",\"serviceKey\":\"PGlojt4q3MXsNb2WywMWZNXPnV0sMYmPnZHjdER8uUq0ceI9rGlicEnKMGOoGnFeTGeEZZI9MeJAWZ43cXokzw==\",\"sidoName\":\"서울\",\"so2Value\":\"\",\"totalCount\":\"\"},\"totalCount\":600}'"
      ]
     },
     "execution_count": 27,
     "metadata": {},
     "output_type": "execute_result"
    }
   ],
   "source": [
    "resStr"
   ]
  },
  {
   "cell_type": "code",
   "execution_count": 28,
   "metadata": {},
   "outputs": [
    {
     "data": {
      "text/plain": [
       "{'list': [{'_returnType': 'json',\n",
       "   'cityName': '강남구',\n",
       "   'cityNameEng': 'Gangnam-gu',\n",
       "   'coValue': '0.2',\n",
       "   'dataGubun': '',\n",
       "   'dataTime': '2019-07-10 15:00',\n",
       "   'districtCode': '02',\n",
       "   'districtNumSeq': '001',\n",
       "   'itemCode': '',\n",
       "   'khaiValue': '',\n",
       "   'no2Value': '0.011',\n",
       "   'numOfRows': '10',\n",
       "   'o3Value': '0.028',\n",
       "   'pageNo': '1',\n",
       "   'pm10Value': '12',\n",
       "   'pm25Value': '5',\n",
       "   'resultCode': '',\n",
       "   'resultMsg': '',\n",
       "   'searchCondition': '',\n",
       "   'serviceKey': '',\n",
       "   'sidoName': '서울',\n",
       "   'so2Value': '0.004',\n",
       "   'totalCount': ''},\n",
       "  {'_returnType': 'json',\n",
       "   'cityName': '강동구',\n",
       "   'cityNameEng': 'Gangdong-gu',\n",
       "   'coValue': '0.3',\n",
       "   'dataGubun': '',\n",
       "   'dataTime': '2019-07-10 15:00',\n",
       "   'districtCode': '02',\n",
       "   'districtNumSeq': '002',\n",
       "   'itemCode': '',\n",
       "   'khaiValue': '',\n",
       "   'no2Value': '0.009',\n",
       "   'numOfRows': '10',\n",
       "   'o3Value': '0.030',\n",
       "   'pageNo': '1',\n",
       "   'pm10Value': '12',\n",
       "   'pm25Value': '7',\n",
       "   'resultCode': '',\n",
       "   'resultMsg': '',\n",
       "   'searchCondition': '',\n",
       "   'serviceKey': '',\n",
       "   'sidoName': '서울',\n",
       "   'so2Value': '0.003',\n",
       "   'totalCount': ''},\n",
       "  {'_returnType': 'json',\n",
       "   'cityName': '강북구',\n",
       "   'cityNameEng': 'Gangbuk-gu',\n",
       "   'coValue': '0.2',\n",
       "   'dataGubun': '',\n",
       "   'dataTime': '2019-07-10 15:00',\n",
       "   'districtCode': '02',\n",
       "   'districtNumSeq': '003',\n",
       "   'itemCode': '',\n",
       "   'khaiValue': '',\n",
       "   'no2Value': '0.010',\n",
       "   'numOfRows': '10',\n",
       "   'o3Value': '0.032',\n",
       "   'pageNo': '1',\n",
       "   'pm10Value': '9',\n",
       "   'pm25Value': '2',\n",
       "   'resultCode': '',\n",
       "   'resultMsg': '',\n",
       "   'searchCondition': '',\n",
       "   'serviceKey': '',\n",
       "   'sidoName': '서울',\n",
       "   'so2Value': '',\n",
       "   'totalCount': ''},\n",
       "  {'_returnType': 'json',\n",
       "   'cityName': '강서구',\n",
       "   'cityNameEng': 'Gangseo-gu',\n",
       "   'coValue': '0.3',\n",
       "   'dataGubun': '',\n",
       "   'dataTime': '2019-07-10 15:00',\n",
       "   'districtCode': '02',\n",
       "   'districtNumSeq': '004',\n",
       "   'itemCode': '',\n",
       "   'khaiValue': '',\n",
       "   'no2Value': '0.017',\n",
       "   'numOfRows': '10',\n",
       "   'o3Value': '0.034',\n",
       "   'pageNo': '1',\n",
       "   'pm10Value': '13',\n",
       "   'pm25Value': '5',\n",
       "   'resultCode': '',\n",
       "   'resultMsg': '',\n",
       "   'searchCondition': '',\n",
       "   'serviceKey': '',\n",
       "   'sidoName': '서울',\n",
       "   'so2Value': '0.005',\n",
       "   'totalCount': ''},\n",
       "  {'_returnType': 'json',\n",
       "   'cityName': '관악구',\n",
       "   'cityNameEng': 'Gwanak-gu',\n",
       "   'coValue': '0.1',\n",
       "   'dataGubun': '',\n",
       "   'dataTime': '2019-07-10 15:00',\n",
       "   'districtCode': '02',\n",
       "   'districtNumSeq': '005',\n",
       "   'itemCode': '',\n",
       "   'khaiValue': '',\n",
       "   'no2Value': '0.013',\n",
       "   'numOfRows': '10',\n",
       "   'o3Value': '0.037',\n",
       "   'pageNo': '1',\n",
       "   'pm10Value': '10',\n",
       "   'pm25Value': '5',\n",
       "   'resultCode': '',\n",
       "   'resultMsg': '',\n",
       "   'searchCondition': '',\n",
       "   'serviceKey': '',\n",
       "   'sidoName': '서울',\n",
       "   'so2Value': '0.003',\n",
       "   'totalCount': ''},\n",
       "  {'_returnType': 'json',\n",
       "   'cityName': '광진구',\n",
       "   'cityNameEng': 'Gwangjin-gu',\n",
       "   'coValue': '0.4',\n",
       "   'dataGubun': '',\n",
       "   'dataTime': '2019-07-10 15:00',\n",
       "   'districtCode': '02',\n",
       "   'districtNumSeq': '006',\n",
       "   'itemCode': '',\n",
       "   'khaiValue': '',\n",
       "   'no2Value': '0.011',\n",
       "   'numOfRows': '10',\n",
       "   'o3Value': '0.029',\n",
       "   'pageNo': '1',\n",
       "   'pm10Value': '10',\n",
       "   'pm25Value': '9',\n",
       "   'resultCode': '',\n",
       "   'resultMsg': '',\n",
       "   'searchCondition': '',\n",
       "   'serviceKey': '',\n",
       "   'sidoName': '서울',\n",
       "   'so2Value': '0.003',\n",
       "   'totalCount': ''},\n",
       "  {'_returnType': 'json',\n",
       "   'cityName': '구로구',\n",
       "   'cityNameEng': 'Guro-gu',\n",
       "   'coValue': '',\n",
       "   'dataGubun': '',\n",
       "   'dataTime': '2019-07-10 15:00',\n",
       "   'districtCode': '02',\n",
       "   'districtNumSeq': '007',\n",
       "   'itemCode': '',\n",
       "   'khaiValue': '',\n",
       "   'no2Value': '0.011',\n",
       "   'numOfRows': '10',\n",
       "   'o3Value': '0.038',\n",
       "   'pageNo': '1',\n",
       "   'pm10Value': '12',\n",
       "   'pm25Value': '7',\n",
       "   'resultCode': '',\n",
       "   'resultMsg': '',\n",
       "   'searchCondition': '',\n",
       "   'serviceKey': '',\n",
       "   'sidoName': '서울',\n",
       "   'so2Value': '0.004',\n",
       "   'totalCount': ''},\n",
       "  {'_returnType': 'json',\n",
       "   'cityName': '금천구',\n",
       "   'cityNameEng': 'Geumcheon-gu',\n",
       "   'coValue': '0.2',\n",
       "   'dataGubun': '',\n",
       "   'dataTime': '2019-07-10 15:00',\n",
       "   'districtCode': '02',\n",
       "   'districtNumSeq': '008',\n",
       "   'itemCode': '',\n",
       "   'khaiValue': '',\n",
       "   'no2Value': '0.012',\n",
       "   'numOfRows': '10',\n",
       "   'o3Value': '0.030',\n",
       "   'pageNo': '1',\n",
       "   'pm10Value': '14',\n",
       "   'pm25Value': '7',\n",
       "   'resultCode': '',\n",
       "   'resultMsg': '',\n",
       "   'searchCondition': '',\n",
       "   'serviceKey': '',\n",
       "   'sidoName': '서울',\n",
       "   'so2Value': '0.002',\n",
       "   'totalCount': ''},\n",
       "  {'_returnType': 'json',\n",
       "   'cityName': '노원구',\n",
       "   'cityNameEng': 'Nowon-gu',\n",
       "   'coValue': '0.2',\n",
       "   'dataGubun': '',\n",
       "   'dataTime': '2019-07-10 15:00',\n",
       "   'districtCode': '02',\n",
       "   'districtNumSeq': '009',\n",
       "   'itemCode': '',\n",
       "   'khaiValue': '',\n",
       "   'no2Value': '0.007',\n",
       "   'numOfRows': '10',\n",
       "   'o3Value': '0.031',\n",
       "   'pageNo': '1',\n",
       "   'pm10Value': '12',\n",
       "   'pm25Value': '7',\n",
       "   'resultCode': '',\n",
       "   'resultMsg': '',\n",
       "   'searchCondition': '',\n",
       "   'serviceKey': '',\n",
       "   'sidoName': '서울',\n",
       "   'so2Value': '',\n",
       "   'totalCount': ''},\n",
       "  {'_returnType': 'json',\n",
       "   'cityName': '도봉구',\n",
       "   'cityNameEng': 'Dobong-gu',\n",
       "   'coValue': '0.3',\n",
       "   'dataGubun': '',\n",
       "   'dataTime': '2019-07-10 15:00',\n",
       "   'districtCode': '02',\n",
       "   'districtNumSeq': '010',\n",
       "   'itemCode': '',\n",
       "   'khaiValue': '',\n",
       "   'no2Value': '0.005',\n",
       "   'numOfRows': '10',\n",
       "   'o3Value': '0.036',\n",
       "   'pageNo': '1',\n",
       "   'pm10Value': '12',\n",
       "   'pm25Value': '4',\n",
       "   'resultCode': '',\n",
       "   'resultMsg': '',\n",
       "   'searchCondition': '',\n",
       "   'serviceKey': '',\n",
       "   'sidoName': '서울',\n",
       "   'so2Value': '',\n",
       "   'totalCount': ''}],\n",
       " 'parm': {'_returnType': 'json',\n",
       "  'cityName': '',\n",
       "  'cityNameEng': '',\n",
       "  'coValue': '',\n",
       "  'dataGubun': '',\n",
       "  'dataTime': '',\n",
       "  'districtCode': '',\n",
       "  'districtNumSeq': '',\n",
       "  'itemCode': '',\n",
       "  'khaiValue': '',\n",
       "  'no2Value': '',\n",
       "  'numOfRows': '10',\n",
       "  'o3Value': '',\n",
       "  'pageNo': '1',\n",
       "  'pm10Value': '',\n",
       "  'pm25Value': '',\n",
       "  'resultCode': '',\n",
       "  'resultMsg': '',\n",
       "  'searchCondition': 'DAILY',\n",
       "  'serviceKey': 'PGlojt4q3MXsNb2WywMWZNXPnV0sMYmPnZHjdER8uUq0ceI9rGlicEnKMGOoGnFeTGeEZZI9MeJAWZ43cXokzw==',\n",
       "  'sidoName': '서울',\n",
       "  'so2Value': '',\n",
       "  'totalCount': ''},\n",
       " 'CtprvnMesureLIstVo2': {'_returnType': 'json',\n",
       "  'cityName': '',\n",
       "  'cityNameEng': '',\n",
       "  'coValue': '',\n",
       "  'dataGubun': '',\n",
       "  'dataTime': '',\n",
       "  'districtCode': '',\n",
       "  'districtNumSeq': '',\n",
       "  'itemCode': '',\n",
       "  'khaiValue': '',\n",
       "  'no2Value': '',\n",
       "  'numOfRows': '10',\n",
       "  'o3Value': '',\n",
       "  'pageNo': '1',\n",
       "  'pm10Value': '',\n",
       "  'pm25Value': '',\n",
       "  'resultCode': '',\n",
       "  'resultMsg': '',\n",
       "  'searchCondition': 'DAILY',\n",
       "  'serviceKey': 'PGlojt4q3MXsNb2WywMWZNXPnV0sMYmPnZHjdER8uUq0ceI9rGlicEnKMGOoGnFeTGeEZZI9MeJAWZ43cXokzw==',\n",
       "  'sidoName': '서울',\n",
       "  'so2Value': '',\n",
       "  'totalCount': ''},\n",
       " 'totalCount': 600}"
      ]
     },
     "execution_count": 28,
     "metadata": {},
     "output_type": "execute_result"
    }
   ],
   "source": [
    "resObj"
   ]
  },
  {
   "cell_type": "code",
   "execution_count": 51,
   "metadata": {},
   "outputs": [],
   "source": [
    "a = {\"a\":\"1\",\"b\":\"2\"}"
   ]
  },
  {
   "cell_type": "code",
   "execution_count": null,
   "metadata": {},
   "outputs": [],
   "source": [
    "a.keys()"
   ]
  },
  {
   "cell_type": "code",
   "execution_count": 66,
   "metadata": {},
   "outputs": [
    {
     "data": {
      "text/plain": [
       "'1'"
      ]
     },
     "execution_count": 66,
     "metadata": {},
     "output_type": "execute_result"
    }
   ],
   "source": [
    "a[\"a\"]"
   ]
  },
  {
   "cell_type": "code",
   "execution_count": 57,
   "metadata": {},
   "outputs": [
    {
     "data": {
      "text/plain": [
       "dict_keys(['list', 'parm', 'ArpltnInforInqireSvcVo', 'totalCount'])"
      ]
     },
     "execution_count": 57,
     "metadata": {},
     "output_type": "execute_result"
    }
   ],
   "source": [
    "resObj.keys()"
   ]
  },
  {
   "cell_type": "code",
   "execution_count": 58,
   "metadata": {},
   "outputs": [
    {
     "data": {
      "text/plain": [
       "dict"
      ]
     },
     "execution_count": 58,
     "metadata": {},
     "output_type": "execute_result"
    }
   ],
   "source": [
    "type(resObj)"
   ]
  },
  {
   "cell_type": "code",
   "execution_count": 64,
   "metadata": {},
   "outputs": [
    {
     "ename": "SyntaxError",
     "evalue": "invalid syntax (<ipython-input-64-fc4be643f37e>, line 1)",
     "output_type": "error",
     "traceback": [
      "\u001b[1;36m  File \u001b[1;32m\"<ipython-input-64-fc4be643f37e>\"\u001b[1;36m, line \u001b[1;32m1\u001b[0m\n\u001b[1;33m    resObj.\"list\"()\u001b[0m\n\u001b[1;37m                ^\u001b[0m\n\u001b[1;31mSyntaxError\u001b[0m\u001b[1;31m:\u001b[0m invalid syntax\n"
     ]
    }
   ],
   "source": [
    "resObj.\"list\"()"
   ]
  },
  {
   "cell_type": "code",
   "execution_count": 60,
   "metadata": {},
   "outputs": [
    {
     "data": {
      "text/plain": [
       "[{'_returnType': 'json',\n",
       "  'coGrade': '1',\n",
       "  'coValue': '0.5',\n",
       "  'dataTerm': '',\n",
       "  'dataTime': '2019-07-10 13:00',\n",
       "  'khaiGrade': '',\n",
       "  'khaiValue': '-',\n",
       "  'mangName': '도시대기',\n",
       "  'no2Grade': '1',\n",
       "  'no2Value': '0.017',\n",
       "  'numOfRows': '10',\n",
       "  'o3Grade': '1',\n",
       "  'o3Value': '0.029',\n",
       "  'pageNo': '1',\n",
       "  'pm10Grade': '1',\n",
       "  'pm10Grade1h': '1',\n",
       "  'pm10Value': '6',\n",
       "  'pm10Value24': '7',\n",
       "  'pm25Grade': '',\n",
       "  'pm25Grade1h': '1',\n",
       "  'pm25Value': '6',\n",
       "  'pm25Value24': '-',\n",
       "  'resultCode': '',\n",
       "  'resultMsg': '',\n",
       "  'rnum': 0,\n",
       "  'serviceKey': '',\n",
       "  'sidoName': '',\n",
       "  'so2Grade': '',\n",
       "  'so2Value': '-',\n",
       "  'stationCode': '',\n",
       "  'stationName': '',\n",
       "  'totalCount': '',\n",
       "  'ver': ''},\n",
       " {'_returnType': 'json',\n",
       "  'coGrade': '1',\n",
       "  'coValue': '0.5',\n",
       "  'dataTerm': '',\n",
       "  'dataTime': '2019-07-10 12:00',\n",
       "  'khaiGrade': '',\n",
       "  'khaiValue': '-',\n",
       "  'mangName': '도시대기',\n",
       "  'no2Grade': '1',\n",
       "  'no2Value': '0.018',\n",
       "  'numOfRows': '10',\n",
       "  'o3Grade': '1',\n",
       "  'o3Value': '0.029',\n",
       "  'pageNo': '1',\n",
       "  'pm10Grade': '1',\n",
       "  'pm10Grade1h': '1',\n",
       "  'pm10Value': '6',\n",
       "  'pm10Value24': '7',\n",
       "  'pm25Grade': '',\n",
       "  'pm25Grade1h': '1',\n",
       "  'pm25Value': '6',\n",
       "  'pm25Value24': '-',\n",
       "  'resultCode': '',\n",
       "  'resultMsg': '',\n",
       "  'rnum': 0,\n",
       "  'serviceKey': '',\n",
       "  'sidoName': '',\n",
       "  'so2Grade': '',\n",
       "  'so2Value': '-',\n",
       "  'stationCode': '',\n",
       "  'stationName': '',\n",
       "  'totalCount': '',\n",
       "  'ver': ''},\n",
       " {'_returnType': 'json',\n",
       "  'coGrade': '1',\n",
       "  'coValue': '0.5',\n",
       "  'dataTerm': '',\n",
       "  'dataTime': '2019-07-10 11:00',\n",
       "  'khaiGrade': '',\n",
       "  'khaiValue': '-',\n",
       "  'mangName': '도시대기',\n",
       "  'no2Grade': '1',\n",
       "  'no2Value': '0.017',\n",
       "  'numOfRows': '10',\n",
       "  'o3Grade': '1',\n",
       "  'o3Value': '0.028',\n",
       "  'pageNo': '1',\n",
       "  'pm10Grade': '1',\n",
       "  'pm10Grade1h': '1',\n",
       "  'pm10Value': '8',\n",
       "  'pm10Value24': '7',\n",
       "  'pm25Grade': '',\n",
       "  'pm25Grade1h': '1',\n",
       "  'pm25Value': '7',\n",
       "  'pm25Value24': '-',\n",
       "  'resultCode': '',\n",
       "  'resultMsg': '',\n",
       "  'rnum': 0,\n",
       "  'serviceKey': '',\n",
       "  'sidoName': '',\n",
       "  'so2Grade': '',\n",
       "  'so2Value': '-',\n",
       "  'stationCode': '',\n",
       "  'stationName': '',\n",
       "  'totalCount': '',\n",
       "  'ver': ''},\n",
       " {'_returnType': 'json',\n",
       "  'coGrade': '1',\n",
       "  'coValue': '0.5',\n",
       "  'dataTerm': '',\n",
       "  'dataTime': '2019-07-10 10:00',\n",
       "  'khaiGrade': '',\n",
       "  'khaiValue': '-',\n",
       "  'mangName': '도시대기',\n",
       "  'no2Grade': '1',\n",
       "  'no2Value': '0.019',\n",
       "  'numOfRows': '10',\n",
       "  'o3Grade': '1',\n",
       "  'o3Value': '0.027',\n",
       "  'pageNo': '1',\n",
       "  'pm10Grade': '1',\n",
       "  'pm10Grade1h': '1',\n",
       "  'pm10Value': '8',\n",
       "  'pm10Value24': '7',\n",
       "  'pm25Grade': '',\n",
       "  'pm25Grade1h': '1',\n",
       "  'pm25Value': '5',\n",
       "  'pm25Value24': '-',\n",
       "  'resultCode': '',\n",
       "  'resultMsg': '',\n",
       "  'rnum': 0,\n",
       "  'serviceKey': '',\n",
       "  'sidoName': '',\n",
       "  'so2Grade': '',\n",
       "  'so2Value': '-',\n",
       "  'stationCode': '',\n",
       "  'stationName': '',\n",
       "  'totalCount': '',\n",
       "  'ver': ''},\n",
       " {'_returnType': 'json',\n",
       "  'coGrade': '1',\n",
       "  'coValue': '0.5',\n",
       "  'dataTerm': '',\n",
       "  'dataTime': '2019-07-10 09:00',\n",
       "  'khaiGrade': '',\n",
       "  'khaiValue': '-',\n",
       "  'mangName': '도시대기',\n",
       "  'no2Grade': '1',\n",
       "  'no2Value': '0.018',\n",
       "  'numOfRows': '10',\n",
       "  'o3Grade': '1',\n",
       "  'o3Value': '0.026',\n",
       "  'pageNo': '1',\n",
       "  'pm10Grade': '1',\n",
       "  'pm10Grade1h': '1',\n",
       "  'pm10Value': '11',\n",
       "  'pm10Value24': '6',\n",
       "  'pm25Grade': '',\n",
       "  'pm25Grade1h': '1',\n",
       "  'pm25Value': '4',\n",
       "  'pm25Value24': '-',\n",
       "  'resultCode': '',\n",
       "  'resultMsg': '',\n",
       "  'rnum': 0,\n",
       "  'serviceKey': '',\n",
       "  'sidoName': '',\n",
       "  'so2Grade': '',\n",
       "  'so2Value': '-',\n",
       "  'stationCode': '',\n",
       "  'stationName': '',\n",
       "  'totalCount': '',\n",
       "  'ver': ''},\n",
       " {'_returnType': 'json',\n",
       "  'coGrade': '1',\n",
       "  'coValue': '0.5',\n",
       "  'dataTerm': '',\n",
       "  'dataTime': '2019-07-10 08:00',\n",
       "  'khaiGrade': '',\n",
       "  'khaiValue': '-',\n",
       "  'mangName': '도시대기',\n",
       "  'no2Grade': '1',\n",
       "  'no2Value': '0.022',\n",
       "  'numOfRows': '10',\n",
       "  'o3Grade': '1',\n",
       "  'o3Value': '0.021',\n",
       "  'pageNo': '1',\n",
       "  'pm10Grade': '1',\n",
       "  'pm10Grade1h': '1',\n",
       "  'pm10Value': '7',\n",
       "  'pm10Value24': '5',\n",
       "  'pm25Grade': '',\n",
       "  'pm25Grade1h': '1',\n",
       "  'pm25Value': '4',\n",
       "  'pm25Value24': '-',\n",
       "  'resultCode': '',\n",
       "  'resultMsg': '',\n",
       "  'rnum': 0,\n",
       "  'serviceKey': '',\n",
       "  'sidoName': '',\n",
       "  'so2Grade': '',\n",
       "  'so2Value': '-',\n",
       "  'stationCode': '',\n",
       "  'stationName': '',\n",
       "  'totalCount': '',\n",
       "  'ver': ''},\n",
       " {'_returnType': 'json',\n",
       "  'coGrade': '1',\n",
       "  'coValue': '0.5',\n",
       "  'dataTerm': '',\n",
       "  'dataTime': '2019-07-10 07:00',\n",
       "  'khaiGrade': '',\n",
       "  'khaiValue': '-',\n",
       "  'mangName': '도시대기',\n",
       "  'no2Grade': '1',\n",
       "  'no2Value': '0.022',\n",
       "  'numOfRows': '10',\n",
       "  'o3Grade': '1',\n",
       "  'o3Value': '0.018',\n",
       "  'pageNo': '1',\n",
       "  'pm10Grade': '1',\n",
       "  'pm10Grade1h': '1',\n",
       "  'pm10Value': '4',\n",
       "  'pm10Value24': '5',\n",
       "  'pm25Grade': '',\n",
       "  'pm25Grade1h': '',\n",
       "  'pm25Value': '-',\n",
       "  'pm25Value24': '-',\n",
       "  'resultCode': '',\n",
       "  'resultMsg': '',\n",
       "  'rnum': 0,\n",
       "  'serviceKey': '',\n",
       "  'sidoName': '',\n",
       "  'so2Grade': '',\n",
       "  'so2Value': '-',\n",
       "  'stationCode': '',\n",
       "  'stationName': '',\n",
       "  'totalCount': '',\n",
       "  'ver': ''},\n",
       " {'_returnType': 'json',\n",
       "  'coGrade': '1',\n",
       "  'coValue': '0.4',\n",
       "  'dataTerm': '',\n",
       "  'dataTime': '2019-07-10 06:00',\n",
       "  'khaiGrade': '',\n",
       "  'khaiValue': '-',\n",
       "  'mangName': '도시대기',\n",
       "  'no2Grade': '1',\n",
       "  'no2Value': '0.016',\n",
       "  'numOfRows': '10',\n",
       "  'o3Grade': '1',\n",
       "  'o3Value': '0.022',\n",
       "  'pageNo': '1',\n",
       "  'pm10Grade': '1',\n",
       "  'pm10Grade1h': '1',\n",
       "  'pm10Value': '6',\n",
       "  'pm10Value24': '5',\n",
       "  'pm25Grade': '',\n",
       "  'pm25Grade1h': '1',\n",
       "  'pm25Value': '5',\n",
       "  'pm25Value24': '-',\n",
       "  'resultCode': '',\n",
       "  'resultMsg': '',\n",
       "  'rnum': 0,\n",
       "  'serviceKey': '',\n",
       "  'sidoName': '',\n",
       "  'so2Grade': '',\n",
       "  'so2Value': '-',\n",
       "  'stationCode': '',\n",
       "  'stationName': '',\n",
       "  'totalCount': '',\n",
       "  'ver': ''},\n",
       " {'_returnType': 'json',\n",
       "  'coGrade': '1',\n",
       "  'coValue': '0.6',\n",
       "  'dataTerm': '',\n",
       "  'dataTime': '2019-07-10 05:00',\n",
       "  'khaiGrade': '',\n",
       "  'khaiValue': '-',\n",
       "  'mangName': '도시대기',\n",
       "  'no2Grade': '1',\n",
       "  'no2Value': '0.011',\n",
       "  'numOfRows': '10',\n",
       "  'o3Grade': '1',\n",
       "  'o3Value': '0.026',\n",
       "  'pageNo': '1',\n",
       "  'pm10Grade': '1',\n",
       "  'pm10Grade1h': '1',\n",
       "  'pm10Value': '4',\n",
       "  'pm10Value24': '5',\n",
       "  'pm25Grade': '',\n",
       "  'pm25Grade1h': '',\n",
       "  'pm25Value': '-',\n",
       "  'pm25Value24': '-',\n",
       "  'resultCode': '',\n",
       "  'resultMsg': '',\n",
       "  'rnum': 0,\n",
       "  'serviceKey': '',\n",
       "  'sidoName': '',\n",
       "  'so2Grade': '',\n",
       "  'so2Value': '-',\n",
       "  'stationCode': '',\n",
       "  'stationName': '',\n",
       "  'totalCount': '',\n",
       "  'ver': ''},\n",
       " {'_returnType': 'json',\n",
       "  'coGrade': '1',\n",
       "  'coValue': '0.5',\n",
       "  'dataTerm': '',\n",
       "  'dataTime': '2019-07-10 04:00',\n",
       "  'khaiGrade': '',\n",
       "  'khaiValue': '-',\n",
       "  'mangName': '도시대기',\n",
       "  'no2Grade': '1',\n",
       "  'no2Value': '0.007',\n",
       "  'numOfRows': '10',\n",
       "  'o3Grade': '1',\n",
       "  'o3Value': '0.029',\n",
       "  'pageNo': '1',\n",
       "  'pm10Grade': '1',\n",
       "  'pm10Grade1h': '1',\n",
       "  'pm10Value': '3',\n",
       "  'pm10Value24': '5',\n",
       "  'pm25Grade': '',\n",
       "  'pm25Grade1h': '',\n",
       "  'pm25Value': '-',\n",
       "  'pm25Value24': '-',\n",
       "  'resultCode': '',\n",
       "  'resultMsg': '',\n",
       "  'rnum': 0,\n",
       "  'serviceKey': '',\n",
       "  'sidoName': '',\n",
       "  'so2Grade': '',\n",
       "  'so2Value': '-',\n",
       "  'stationCode': '',\n",
       "  'stationName': '',\n",
       "  'totalCount': '',\n",
       "  'ver': ''}]"
      ]
     },
     "execution_count": 60,
     "metadata": {},
     "output_type": "execute_result"
    }
   ],
   "source": [
    "resObj[\"list\"]"
   ]
  },
  {
   "cell_type": "code",
   "execution_count": 68,
   "metadata": {},
   "outputs": [
    {
     "data": {
      "text/plain": [
       "'6'"
      ]
     },
     "execution_count": 68,
     "metadata": {},
     "output_type": "execute_result"
    }
   ],
   "source": [
    "resObj[\"list\"][0][\"pm25Value\"]\n",
    "resObj[\"list\"][0][\"pm10Value\"]"
   ]
  },
  {
   "cell_type": "code",
   "execution_count": 76,
   "metadata": {},
   "outputs": [
    {
     "data": {
      "text/plain": [
       "dict"
      ]
     },
     "execution_count": 76,
     "metadata": {},
     "output_type": "execute_result"
    }
   ],
   "source": [
    "type(resObj)"
   ]
  },
  {
   "cell_type": "code",
   "execution_count": 80,
   "metadata": {},
   "outputs": [
    {
     "data": {
      "text/plain": [
       "list"
      ]
     },
     "execution_count": 80,
     "metadata": {},
     "output_type": "execute_result"
    }
   ],
   "source": [
    "type(resObj[\"list\"])"
   ]
  },
  {
   "cell_type": "code",
   "execution_count": 33,
   "metadata": {},
   "outputs": [
    {
     "data": {
      "text/plain": [
       "[{'_returnType': 'json',\n",
       "  'cityName': '강남구',\n",
       "  'cityNameEng': 'Gangnam-gu',\n",
       "  'coValue': '0.2',\n",
       "  'dataGubun': '',\n",
       "  'dataTime': '2019-07-10 15:00',\n",
       "  'districtCode': '02',\n",
       "  'districtNumSeq': '001',\n",
       "  'itemCode': '',\n",
       "  'khaiValue': '',\n",
       "  'no2Value': '0.011',\n",
       "  'numOfRows': '10',\n",
       "  'o3Value': '0.028',\n",
       "  'pageNo': '1',\n",
       "  'pm10Value': '12',\n",
       "  'pm25Value': '5',\n",
       "  'resultCode': '',\n",
       "  'resultMsg': '',\n",
       "  'searchCondition': '',\n",
       "  'serviceKey': '',\n",
       "  'sidoName': '서울',\n",
       "  'so2Value': '0.004',\n",
       "  'totalCount': ''},\n",
       " {'_returnType': 'json',\n",
       "  'cityName': '강동구',\n",
       "  'cityNameEng': 'Gangdong-gu',\n",
       "  'coValue': '0.3',\n",
       "  'dataGubun': '',\n",
       "  'dataTime': '2019-07-10 15:00',\n",
       "  'districtCode': '02',\n",
       "  'districtNumSeq': '002',\n",
       "  'itemCode': '',\n",
       "  'khaiValue': '',\n",
       "  'no2Value': '0.009',\n",
       "  'numOfRows': '10',\n",
       "  'o3Value': '0.030',\n",
       "  'pageNo': '1',\n",
       "  'pm10Value': '12',\n",
       "  'pm25Value': '7',\n",
       "  'resultCode': '',\n",
       "  'resultMsg': '',\n",
       "  'searchCondition': '',\n",
       "  'serviceKey': '',\n",
       "  'sidoName': '서울',\n",
       "  'so2Value': '0.003',\n",
       "  'totalCount': ''},\n",
       " {'_returnType': 'json',\n",
       "  'cityName': '강북구',\n",
       "  'cityNameEng': 'Gangbuk-gu',\n",
       "  'coValue': '0.2',\n",
       "  'dataGubun': '',\n",
       "  'dataTime': '2019-07-10 15:00',\n",
       "  'districtCode': '02',\n",
       "  'districtNumSeq': '003',\n",
       "  'itemCode': '',\n",
       "  'khaiValue': '',\n",
       "  'no2Value': '0.010',\n",
       "  'numOfRows': '10',\n",
       "  'o3Value': '0.032',\n",
       "  'pageNo': '1',\n",
       "  'pm10Value': '9',\n",
       "  'pm25Value': '2',\n",
       "  'resultCode': '',\n",
       "  'resultMsg': '',\n",
       "  'searchCondition': '',\n",
       "  'serviceKey': '',\n",
       "  'sidoName': '서울',\n",
       "  'so2Value': '',\n",
       "  'totalCount': ''},\n",
       " {'_returnType': 'json',\n",
       "  'cityName': '강서구',\n",
       "  'cityNameEng': 'Gangseo-gu',\n",
       "  'coValue': '0.3',\n",
       "  'dataGubun': '',\n",
       "  'dataTime': '2019-07-10 15:00',\n",
       "  'districtCode': '02',\n",
       "  'districtNumSeq': '004',\n",
       "  'itemCode': '',\n",
       "  'khaiValue': '',\n",
       "  'no2Value': '0.017',\n",
       "  'numOfRows': '10',\n",
       "  'o3Value': '0.034',\n",
       "  'pageNo': '1',\n",
       "  'pm10Value': '13',\n",
       "  'pm25Value': '5',\n",
       "  'resultCode': '',\n",
       "  'resultMsg': '',\n",
       "  'searchCondition': '',\n",
       "  'serviceKey': '',\n",
       "  'sidoName': '서울',\n",
       "  'so2Value': '0.005',\n",
       "  'totalCount': ''},\n",
       " {'_returnType': 'json',\n",
       "  'cityName': '관악구',\n",
       "  'cityNameEng': 'Gwanak-gu',\n",
       "  'coValue': '0.1',\n",
       "  'dataGubun': '',\n",
       "  'dataTime': '2019-07-10 15:00',\n",
       "  'districtCode': '02',\n",
       "  'districtNumSeq': '005',\n",
       "  'itemCode': '',\n",
       "  'khaiValue': '',\n",
       "  'no2Value': '0.013',\n",
       "  'numOfRows': '10',\n",
       "  'o3Value': '0.037',\n",
       "  'pageNo': '1',\n",
       "  'pm10Value': '10',\n",
       "  'pm25Value': '5',\n",
       "  'resultCode': '',\n",
       "  'resultMsg': '',\n",
       "  'searchCondition': '',\n",
       "  'serviceKey': '',\n",
       "  'sidoName': '서울',\n",
       "  'so2Value': '0.003',\n",
       "  'totalCount': ''},\n",
       " {'_returnType': 'json',\n",
       "  'cityName': '광진구',\n",
       "  'cityNameEng': 'Gwangjin-gu',\n",
       "  'coValue': '0.4',\n",
       "  'dataGubun': '',\n",
       "  'dataTime': '2019-07-10 15:00',\n",
       "  'districtCode': '02',\n",
       "  'districtNumSeq': '006',\n",
       "  'itemCode': '',\n",
       "  'khaiValue': '',\n",
       "  'no2Value': '0.011',\n",
       "  'numOfRows': '10',\n",
       "  'o3Value': '0.029',\n",
       "  'pageNo': '1',\n",
       "  'pm10Value': '10',\n",
       "  'pm25Value': '9',\n",
       "  'resultCode': '',\n",
       "  'resultMsg': '',\n",
       "  'searchCondition': '',\n",
       "  'serviceKey': '',\n",
       "  'sidoName': '서울',\n",
       "  'so2Value': '0.003',\n",
       "  'totalCount': ''},\n",
       " {'_returnType': 'json',\n",
       "  'cityName': '구로구',\n",
       "  'cityNameEng': 'Guro-gu',\n",
       "  'coValue': '',\n",
       "  'dataGubun': '',\n",
       "  'dataTime': '2019-07-10 15:00',\n",
       "  'districtCode': '02',\n",
       "  'districtNumSeq': '007',\n",
       "  'itemCode': '',\n",
       "  'khaiValue': '',\n",
       "  'no2Value': '0.011',\n",
       "  'numOfRows': '10',\n",
       "  'o3Value': '0.038',\n",
       "  'pageNo': '1',\n",
       "  'pm10Value': '12',\n",
       "  'pm25Value': '7',\n",
       "  'resultCode': '',\n",
       "  'resultMsg': '',\n",
       "  'searchCondition': '',\n",
       "  'serviceKey': '',\n",
       "  'sidoName': '서울',\n",
       "  'so2Value': '0.004',\n",
       "  'totalCount': ''},\n",
       " {'_returnType': 'json',\n",
       "  'cityName': '금천구',\n",
       "  'cityNameEng': 'Geumcheon-gu',\n",
       "  'coValue': '0.2',\n",
       "  'dataGubun': '',\n",
       "  'dataTime': '2019-07-10 15:00',\n",
       "  'districtCode': '02',\n",
       "  'districtNumSeq': '008',\n",
       "  'itemCode': '',\n",
       "  'khaiValue': '',\n",
       "  'no2Value': '0.012',\n",
       "  'numOfRows': '10',\n",
       "  'o3Value': '0.030',\n",
       "  'pageNo': '1',\n",
       "  'pm10Value': '14',\n",
       "  'pm25Value': '7',\n",
       "  'resultCode': '',\n",
       "  'resultMsg': '',\n",
       "  'searchCondition': '',\n",
       "  'serviceKey': '',\n",
       "  'sidoName': '서울',\n",
       "  'so2Value': '0.002',\n",
       "  'totalCount': ''},\n",
       " {'_returnType': 'json',\n",
       "  'cityName': '노원구',\n",
       "  'cityNameEng': 'Nowon-gu',\n",
       "  'coValue': '0.2',\n",
       "  'dataGubun': '',\n",
       "  'dataTime': '2019-07-10 15:00',\n",
       "  'districtCode': '02',\n",
       "  'districtNumSeq': '009',\n",
       "  'itemCode': '',\n",
       "  'khaiValue': '',\n",
       "  'no2Value': '0.007',\n",
       "  'numOfRows': '10',\n",
       "  'o3Value': '0.031',\n",
       "  'pageNo': '1',\n",
       "  'pm10Value': '12',\n",
       "  'pm25Value': '7',\n",
       "  'resultCode': '',\n",
       "  'resultMsg': '',\n",
       "  'searchCondition': '',\n",
       "  'serviceKey': '',\n",
       "  'sidoName': '서울',\n",
       "  'so2Value': '',\n",
       "  'totalCount': ''},\n",
       " {'_returnType': 'json',\n",
       "  'cityName': '도봉구',\n",
       "  'cityNameEng': 'Dobong-gu',\n",
       "  'coValue': '0.3',\n",
       "  'dataGubun': '',\n",
       "  'dataTime': '2019-07-10 15:00',\n",
       "  'districtCode': '02',\n",
       "  'districtNumSeq': '010',\n",
       "  'itemCode': '',\n",
       "  'khaiValue': '',\n",
       "  'no2Value': '0.005',\n",
       "  'numOfRows': '10',\n",
       "  'o3Value': '0.036',\n",
       "  'pageNo': '1',\n",
       "  'pm10Value': '12',\n",
       "  'pm25Value': '4',\n",
       "  'resultCode': '',\n",
       "  'resultMsg': '',\n",
       "  'searchCondition': '',\n",
       "  'serviceKey': '',\n",
       "  'sidoName': '서울',\n",
       "  'so2Value': '',\n",
       "  'totalCount': ''}]"
      ]
     },
     "execution_count": 33,
     "metadata": {},
     "output_type": "execute_result"
    }
   ],
   "source": [
    "resObj[\"list\"]"
   ]
  },
  {
   "cell_type": "code",
   "execution_count": 29,
   "metadata": {},
   "outputs": [
    {
     "data": {
      "text/plain": [
       "'5'"
      ]
     },
     "execution_count": 29,
     "metadata": {},
     "output_type": "execute_result"
    }
   ],
   "source": [
    "resObj[\"list\"][0][\"pm25Value\"]"
   ]
  },
  {
   "cell_type": "code",
   "execution_count": 30,
   "metadata": {},
   "outputs": [
    {
     "data": {
      "text/plain": [
       "dict"
      ]
     },
     "execution_count": 30,
     "metadata": {},
     "output_type": "execute_result"
    }
   ],
   "source": [
    "type(resObj[\"list\"][0])"
   ]
  },
  {
   "cell_type": "code",
   "execution_count": 31,
   "metadata": {},
   "outputs": [
    {
     "data": {
      "text/plain": [
       "dict_keys(['_returnType', 'cityName', 'cityNameEng', 'coValue', 'dataGubun', 'dataTime', 'districtCode', 'districtNumSeq', 'itemCode', 'khaiValue', 'no2Value', 'numOfRows', 'o3Value', 'pageNo', 'pm10Value', 'pm25Value', 'resultCode', 'resultMsg', 'searchCondition', 'serviceKey', 'sidoName', 'so2Value', 'totalCount'])"
      ]
     },
     "execution_count": 31,
     "metadata": {},
     "output_type": "execute_result"
    }
   ],
   "source": [
    "resObj[\"list\"][0].keys()"
   ]
  },
  {
   "cell_type": "code",
   "execution_count": 32,
   "metadata": {},
   "outputs": [
    {
     "data": {
      "text/plain": [
       "True"
      ]
     },
     "execution_count": 32,
     "metadata": {},
     "output_type": "execute_result"
    }
   ],
   "source": [
    "type(resObj[\"list\"])==list"
   ]
  },
  {
   "cell_type": "code",
   "execution_count": 115,
   "metadata": {},
   "outputs": [
    {
     "data": {
      "text/plain": [
       "1"
      ]
     },
     "execution_count": 115,
     "metadata": {},
     "output_type": "execute_result"
    }
   ],
   "source": [
    "(1,2,3)[0]"
   ]
  },
  {
   "cell_type": "code",
   "execution_count": 34,
   "metadata": {},
   "outputs": [
    {
     "name": "stdout",
     "output_type": "stream",
     "text": [
      "dict_items([('_returnType', 'json'), ('cityName', '강남구'), ('cityNameEng', 'Gangnam-gu'), ('coValue', '0.2'), ('dataGubun', ''), ('dataTime', '2019-07-10 15:00'), ('districtCode', '02'), ('districtNumSeq', '001'), ('itemCode', ''), ('khaiValue', ''), ('no2Value', '0.011'), ('numOfRows', '10'), ('o3Value', '0.028'), ('pageNo', '1'), ('pm10Value', '12'), ('pm25Value', '5'), ('resultCode', ''), ('resultMsg', ''), ('searchCondition', ''), ('serviceKey', ''), ('sidoName', '서울'), ('so2Value', '0.004'), ('totalCount', '')])\n",
      "dict_items([('_returnType', 'json'), ('cityName', '강동구'), ('cityNameEng', 'Gangdong-gu'), ('coValue', '0.3'), ('dataGubun', ''), ('dataTime', '2019-07-10 15:00'), ('districtCode', '02'), ('districtNumSeq', '002'), ('itemCode', ''), ('khaiValue', ''), ('no2Value', '0.009'), ('numOfRows', '10'), ('o3Value', '0.030'), ('pageNo', '1'), ('pm10Value', '12'), ('pm25Value', '7'), ('resultCode', ''), ('resultMsg', ''), ('searchCondition', ''), ('serviceKey', ''), ('sidoName', '서울'), ('so2Value', '0.003'), ('totalCount', '')])\n",
      "dict_items([('_returnType', 'json'), ('cityName', '강북구'), ('cityNameEng', 'Gangbuk-gu'), ('coValue', '0.2'), ('dataGubun', ''), ('dataTime', '2019-07-10 15:00'), ('districtCode', '02'), ('districtNumSeq', '003'), ('itemCode', ''), ('khaiValue', ''), ('no2Value', '0.010'), ('numOfRows', '10'), ('o3Value', '0.032'), ('pageNo', '1'), ('pm10Value', '9'), ('pm25Value', '2'), ('resultCode', ''), ('resultMsg', ''), ('searchCondition', ''), ('serviceKey', ''), ('sidoName', '서울'), ('so2Value', ''), ('totalCount', '')])\n",
      "dict_items([('_returnType', 'json'), ('cityName', '강서구'), ('cityNameEng', 'Gangseo-gu'), ('coValue', '0.3'), ('dataGubun', ''), ('dataTime', '2019-07-10 15:00'), ('districtCode', '02'), ('districtNumSeq', '004'), ('itemCode', ''), ('khaiValue', ''), ('no2Value', '0.017'), ('numOfRows', '10'), ('o3Value', '0.034'), ('pageNo', '1'), ('pm10Value', '13'), ('pm25Value', '5'), ('resultCode', ''), ('resultMsg', ''), ('searchCondition', ''), ('serviceKey', ''), ('sidoName', '서울'), ('so2Value', '0.005'), ('totalCount', '')])\n",
      "dict_items([('_returnType', 'json'), ('cityName', '관악구'), ('cityNameEng', 'Gwanak-gu'), ('coValue', '0.1'), ('dataGubun', ''), ('dataTime', '2019-07-10 15:00'), ('districtCode', '02'), ('districtNumSeq', '005'), ('itemCode', ''), ('khaiValue', ''), ('no2Value', '0.013'), ('numOfRows', '10'), ('o3Value', '0.037'), ('pageNo', '1'), ('pm10Value', '10'), ('pm25Value', '5'), ('resultCode', ''), ('resultMsg', ''), ('searchCondition', ''), ('serviceKey', ''), ('sidoName', '서울'), ('so2Value', '0.003'), ('totalCount', '')])\n",
      "dict_items([('_returnType', 'json'), ('cityName', '광진구'), ('cityNameEng', 'Gwangjin-gu'), ('coValue', '0.4'), ('dataGubun', ''), ('dataTime', '2019-07-10 15:00'), ('districtCode', '02'), ('districtNumSeq', '006'), ('itemCode', ''), ('khaiValue', ''), ('no2Value', '0.011'), ('numOfRows', '10'), ('o3Value', '0.029'), ('pageNo', '1'), ('pm10Value', '10'), ('pm25Value', '9'), ('resultCode', ''), ('resultMsg', ''), ('searchCondition', ''), ('serviceKey', ''), ('sidoName', '서울'), ('so2Value', '0.003'), ('totalCount', '')])\n",
      "dict_items([('_returnType', 'json'), ('cityName', '구로구'), ('cityNameEng', 'Guro-gu'), ('coValue', ''), ('dataGubun', ''), ('dataTime', '2019-07-10 15:00'), ('districtCode', '02'), ('districtNumSeq', '007'), ('itemCode', ''), ('khaiValue', ''), ('no2Value', '0.011'), ('numOfRows', '10'), ('o3Value', '0.038'), ('pageNo', '1'), ('pm10Value', '12'), ('pm25Value', '7'), ('resultCode', ''), ('resultMsg', ''), ('searchCondition', ''), ('serviceKey', ''), ('sidoName', '서울'), ('so2Value', '0.004'), ('totalCount', '')])\n",
      "dict_items([('_returnType', 'json'), ('cityName', '금천구'), ('cityNameEng', 'Geumcheon-gu'), ('coValue', '0.2'), ('dataGubun', ''), ('dataTime', '2019-07-10 15:00'), ('districtCode', '02'), ('districtNumSeq', '008'), ('itemCode', ''), ('khaiValue', ''), ('no2Value', '0.012'), ('numOfRows', '10'), ('o3Value', '0.030'), ('pageNo', '1'), ('pm10Value', '14'), ('pm25Value', '7'), ('resultCode', ''), ('resultMsg', ''), ('searchCondition', ''), ('serviceKey', ''), ('sidoName', '서울'), ('so2Value', '0.002'), ('totalCount', '')])\n",
      "dict_items([('_returnType', 'json'), ('cityName', '노원구'), ('cityNameEng', 'Nowon-gu'), ('coValue', '0.2'), ('dataGubun', ''), ('dataTime', '2019-07-10 15:00'), ('districtCode', '02'), ('districtNumSeq', '009'), ('itemCode', ''), ('khaiValue', ''), ('no2Value', '0.007'), ('numOfRows', '10'), ('o3Value', '0.031'), ('pageNo', '1'), ('pm10Value', '12'), ('pm25Value', '7'), ('resultCode', ''), ('resultMsg', ''), ('searchCondition', ''), ('serviceKey', ''), ('sidoName', '서울'), ('so2Value', ''), ('totalCount', '')])\n",
      "dict_items([('_returnType', 'json'), ('cityName', '도봉구'), ('cityNameEng', 'Dobong-gu'), ('coValue', '0.3'), ('dataGubun', ''), ('dataTime', '2019-07-10 15:00'), ('districtCode', '02'), ('districtNumSeq', '010'), ('itemCode', ''), ('khaiValue', ''), ('no2Value', '0.005'), ('numOfRows', '10'), ('o3Value', '0.036'), ('pageNo', '1'), ('pm10Value', '12'), ('pm25Value', '4'), ('resultCode', ''), ('resultMsg', ''), ('searchCondition', ''), ('serviceKey', ''), ('sidoName', '서울'), ('so2Value', ''), ('totalCount', '')])\n"
     ]
    }
   ],
   "source": [
    "if type(resObj[\"list\"])==list:\n",
    "    for row in resObj[\"list\"]:\n",
    "        print(row.items())\n",
    "        if row.keys() == 'stationName':\n",
    "            print(row)\n",
    "        elif row.keys() == 'pm25Value':\n",
    "            print(row)"
   ]
  },
  {
   "cell_type": "markdown",
   "metadata": {},
   "source": [
    "-> 컨프리헨션을 사용해서 코드를 짜보자"
   ]
  },
  {
   "cell_type": "code",
   "execution_count": null,
   "metadata": {},
   "outputs": [],
   "source": []
  },
  {
   "cell_type": "code",
   "execution_count": null,
   "metadata": {},
   "outputs": [],
   "source": []
  },
  {
   "cell_type": "code",
   "execution_count": 46,
   "metadata": {},
   "outputs": [
    {
     "name": "stdout",
     "output_type": "stream",
     "text": [
      "{\"list\": [{\"_returnType\": \"json\", \"coGrade\": \"1\", \"coValue\": \"0.5\", \"dataTerm\": \"\", \"dataTime\": \"2019-07-10 13:00\", \"khaiGrade\": \"\", \"khaiValue\": \"-\", \"mangName\": \"도시대기\", \"no2Grade\": \"1\", \"no2Value\": \"0.017\", \"numOfRows\": \"10\", \"o3Grade\": \"1\", \"o3Value\": \"0.029\", \"pageNo\": \"1\", \"pm10Grade\": \"1\", \"pm10Grade1h\": \"1\", \"pm10Value\": \"6\", \"pm10Value24\": \"7\", \"pm25Grade\": \"\", \"pm25Grade1h\": \"1\", \"pm25Value\": \"6\", \"pm25Value24\": \"-\", \"resultCode\": \"\", \"resultMsg\": \"\", \"rnum\": 0, \"serviceKey\": \"\", \"sidoName\": \"\", \"so2Grade\": \"\", \"so2Value\": \"-\", \"stationCode\": \"\", \"stationName\": \"\", \"totalCount\": \"\", \"ver\": \"\"}, {\"_returnType\": \"json\", \"coGrade\": \"1\", \"coValue\": \"0.5\", \"dataTerm\": \"\", \"dataTime\": \"2019-07-10 12:00\", \"khaiGrade\": \"\", \"khaiValue\": \"-\", \"mangName\": \"도시대기\", \"no2Grade\": \"1\", \"no2Value\": \"0.018\", \"numOfRows\": \"10\", \"o3Grade\": \"1\", \"o3Value\": \"0.029\", \"pageNo\": \"1\", \"pm10Grade\": \"1\", \"pm10Grade1h\": \"1\", \"pm10Value\": \"6\", \"pm10Value24\": \"7\", \"pm25Grade\": \"\", \"pm25Grade1h\": \"1\", \"pm25Value\": \"6\", \"pm25Value24\": \"-\", \"resultCode\": \"\", \"resultMsg\": \"\", \"rnum\": 0, \"serviceKey\": \"\", \"sidoName\": \"\", \"so2Grade\": \"\", \"so2Value\": \"-\", \"stationCode\": \"\", \"stationName\": \"\", \"totalCount\": \"\", \"ver\": \"\"}, {\"_returnType\": \"json\", \"coGrade\": \"1\", \"coValue\": \"0.5\", \"dataTerm\": \"\", \"dataTime\": \"2019-07-10 11:00\", \"khaiGrade\": \"\", \"khaiValue\": \"-\", \"mangName\": \"도시대기\", \"no2Grade\": \"1\", \"no2Value\": \"0.017\", \"numOfRows\": \"10\", \"o3Grade\": \"1\", \"o3Value\": \"0.028\", \"pageNo\": \"1\", \"pm10Grade\": \"1\", \"pm10Grade1h\": \"1\", \"pm10Value\": \"8\", \"pm10Value24\": \"7\", \"pm25Grade\": \"\", \"pm25Grade1h\": \"1\", \"pm25Value\": \"7\", \"pm25Value24\": \"-\", \"resultCode\": \"\", \"resultMsg\": \"\", \"rnum\": 0, \"serviceKey\": \"\", \"sidoName\": \"\", \"so2Grade\": \"\", \"so2Value\": \"-\", \"stationCode\": \"\", \"stationName\": \"\", \"totalCount\": \"\", \"ver\": \"\"}, {\"_returnType\": \"json\", \"coGrade\": \"1\", \"coValue\": \"0.5\", \"dataTerm\": \"\", \"dataTime\": \"2019-07-10 10:00\", \"khaiGrade\": \"\", \"khaiValue\": \"-\", \"mangName\": \"도시대기\", \"no2Grade\": \"1\", \"no2Value\": \"0.019\", \"numOfRows\": \"10\", \"o3Grade\": \"1\", \"o3Value\": \"0.027\", \"pageNo\": \"1\", \"pm10Grade\": \"1\", \"pm10Grade1h\": \"1\", \"pm10Value\": \"8\", \"pm10Value24\": \"7\", \"pm25Grade\": \"\", \"pm25Grade1h\": \"1\", \"pm25Value\": \"5\", \"pm25Value24\": \"-\", \"resultCode\": \"\", \"resultMsg\": \"\", \"rnum\": 0, \"serviceKey\": \"\", \"sidoName\": \"\", \"so2Grade\": \"\", \"so2Value\": \"-\", \"stationCode\": \"\", \"stationName\": \"\", \"totalCount\": \"\", \"ver\": \"\"}, {\"_returnType\": \"json\", \"coGrade\": \"1\", \"coValue\": \"0.5\", \"dataTerm\": \"\", \"dataTime\": \"2019-07-10 09:00\", \"khaiGrade\": \"\", \"khaiValue\": \"-\", \"mangName\": \"도시대기\", \"no2Grade\": \"1\", \"no2Value\": \"0.018\", \"numOfRows\": \"10\", \"o3Grade\": \"1\", \"o3Value\": \"0.026\", \"pageNo\": \"1\", \"pm10Grade\": \"1\", \"pm10Grade1h\": \"1\", \"pm10Value\": \"11\", \"pm10Value24\": \"6\", \"pm25Grade\": \"\", \"pm25Grade1h\": \"1\", \"pm25Value\": \"4\", \"pm25Value24\": \"-\", \"resultCode\": \"\", \"resultMsg\": \"\", \"rnum\": 0, \"serviceKey\": \"\", \"sidoName\": \"\", \"so2Grade\": \"\", \"so2Value\": \"-\", \"stationCode\": \"\", \"stationName\": \"\", \"totalCount\": \"\", \"ver\": \"\"}, {\"_returnType\": \"json\", \"coGrade\": \"1\", \"coValue\": \"0.5\", \"dataTerm\": \"\", \"dataTime\": \"2019-07-10 08:00\", \"khaiGrade\": \"\", \"khaiValue\": \"-\", \"mangName\": \"도시대기\", \"no2Grade\": \"1\", \"no2Value\": \"0.022\", \"numOfRows\": \"10\", \"o3Grade\": \"1\", \"o3Value\": \"0.021\", \"pageNo\": \"1\", \"pm10Grade\": \"1\", \"pm10Grade1h\": \"1\", \"pm10Value\": \"7\", \"pm10Value24\": \"5\", \"pm25Grade\": \"\", \"pm25Grade1h\": \"1\", \"pm25Value\": \"4\", \"pm25Value24\": \"-\", \"resultCode\": \"\", \"resultMsg\": \"\", \"rnum\": 0, \"serviceKey\": \"\", \"sidoName\": \"\", \"so2Grade\": \"\", \"so2Value\": \"-\", \"stationCode\": \"\", \"stationName\": \"\", \"totalCount\": \"\", \"ver\": \"\"}, {\"_returnType\": \"json\", \"coGrade\": \"1\", \"coValue\": \"0.5\", \"dataTerm\": \"\", \"dataTime\": \"2019-07-10 07:00\", \"khaiGrade\": \"\", \"khaiValue\": \"-\", \"mangName\": \"도시대기\", \"no2Grade\": \"1\", \"no2Value\": \"0.022\", \"numOfRows\": \"10\", \"o3Grade\": \"1\", \"o3Value\": \"0.018\", \"pageNo\": \"1\", \"pm10Grade\": \"1\", \"pm10Grade1h\": \"1\", \"pm10Value\": \"4\", \"pm10Value24\": \"5\", \"pm25Grade\": \"\", \"pm25Grade1h\": \"\", \"pm25Value\": \"-\", \"pm25Value24\": \"-\", \"resultCode\": \"\", \"resultMsg\": \"\", \"rnum\": 0, \"serviceKey\": \"\", \"sidoName\": \"\", \"so2Grade\": \"\", \"so2Value\": \"-\", \"stationCode\": \"\", \"stationName\": \"\", \"totalCount\": \"\", \"ver\": \"\"}, {\"_returnType\": \"json\", \"coGrade\": \"1\", \"coValue\": \"0.4\", \"dataTerm\": \"\", \"dataTime\": \"2019-07-10 06:00\", \"khaiGrade\": \"\", \"khaiValue\": \"-\", \"mangName\": \"도시대기\", \"no2Grade\": \"1\", \"no2Value\": \"0.016\", \"numOfRows\": \"10\", \"o3Grade\": \"1\", \"o3Value\": \"0.022\", \"pageNo\": \"1\", \"pm10Grade\": \"1\", \"pm10Grade1h\": \"1\", \"pm10Value\": \"6\", \"pm10Value24\": \"5\", \"pm25Grade\": \"\", \"pm25Grade1h\": \"1\", \"pm25Value\": \"5\", \"pm25Value24\": \"-\", \"resultCode\": \"\", \"resultMsg\": \"\", \"rnum\": 0, \"serviceKey\": \"\", \"sidoName\": \"\", \"so2Grade\": \"\", \"so2Value\": \"-\", \"stationCode\": \"\", \"stationName\": \"\", \"totalCount\": \"\", \"ver\": \"\"}, {\"_returnType\": \"json\", \"coGrade\": \"1\", \"coValue\": \"0.6\", \"dataTerm\": \"\", \"dataTime\": \"2019-07-10 05:00\", \"khaiGrade\": \"\", \"khaiValue\": \"-\", \"mangName\": \"도시대기\", \"no2Grade\": \"1\", \"no2Value\": \"0.011\", \"numOfRows\": \"10\", \"o3Grade\": \"1\", \"o3Value\": \"0.026\", \"pageNo\": \"1\", \"pm10Grade\": \"1\", \"pm10Grade1h\": \"1\", \"pm10Value\": \"4\", \"pm10Value24\": \"5\", \"pm25Grade\": \"\", \"pm25Grade1h\": \"\", \"pm25Value\": \"-\", \"pm25Value24\": \"-\", \"resultCode\": \"\", \"resultMsg\": \"\", \"rnum\": 0, \"serviceKey\": \"\", \"sidoName\": \"\", \"so2Grade\": \"\", \"so2Value\": \"-\", \"stationCode\": \"\", \"stationName\": \"\", \"totalCount\": \"\", \"ver\": \"\"}, {\"_returnType\": \"json\", \"coGrade\": \"1\", \"coValue\": \"0.5\", \"dataTerm\": \"\", \"dataTime\": \"2019-07-10 04:00\", \"khaiGrade\": \"\", \"khaiValue\": \"-\", \"mangName\": \"도시대기\", \"no2Grade\": \"1\", \"no2Value\": \"0.007\", \"numOfRows\": \"10\", \"o3Grade\": \"1\", \"o3Value\": \"0.029\", \"pageNo\": \"1\", \"pm10Grade\": \"1\", \"pm10Grade1h\": \"1\", \"pm10Value\": \"3\", \"pm10Value24\": \"5\", \"pm25Grade\": \"\", \"pm25Grade1h\": \"\", \"pm25Value\": \"-\", \"pm25Value24\": \"-\", \"resultCode\": \"\", \"resultMsg\": \"\", \"rnum\": 0, \"serviceKey\": \"\", \"sidoName\": \"\", \"so2Grade\": \"\", \"so2Value\": \"-\", \"stationCode\": \"\", \"stationName\": \"\", \"totalCount\": \"\", \"ver\": \"\"}], \"parm\": {\"_returnType\": \"json\", \"coGrade\": \"\", \"coValue\": \"\", \"dataTerm\": \"DAILY\", \"dataTime\": \"\", \"khaiGrade\": \"\", \"khaiValue\": \"\", \"mangName\": \"\", \"no2Grade\": \"\", \"no2Value\": \"\", \"numOfRows\": \"10\", \"o3Grade\": \"\", \"o3Value\": \"\", \"pageNo\": \"1\", \"pm10Grade\": \"\", \"pm10Grade1h\": \"\", \"pm10Value\": \"\", \"pm10Value24\": \"\", \"pm25Grade\": \"\", \"pm25Grade1h\": \"\", \"pm25Value\": \"\", \"pm25Value24\": \"\", \"resultCode\": \"\", \"resultMsg\": \"\", \"rnum\": 0, \"serviceKey\": \"PGlojt4q3MXsNb2WywMWZNXPnV0sMYmPnZHjdER8uUq0ceI9rGlicEnKMGOoGnFeTGeEZZI9MeJAWZ43cXokzw==\", \"sidoName\": \"\", \"so2Grade\": \"\", \"so2Value\": \"\", \"stationCode\": \"\", \"stationName\": \"성북구\", \"totalCount\": \"\", \"ver\": \"1.3\"}, \"ArpltnInforInqireSvcVo\": {\"_returnType\": \"json\", \"coGrade\": \"\", \"coValue\": \"\", \"dataTerm\": \"DAILY\", \"dataTime\": \"\", \"khaiGrade\": \"\", \"khaiValue\": \"\", \"mangName\": \"\", \"no2Grade\": \"\", \"no2Value\": \"\", \"numOfRows\": \"10\", \"o3Grade\": \"\", \"o3Value\": \"\", \"pageNo\": \"1\", \"pm10Grade\": \"\", \"pm10Grade1h\": \"\", \"pm10Value\": \"\", \"pm10Value24\": \"\", \"pm25Grade\": \"\", \"pm25Grade1h\": \"\", \"pm25Value\": \"\", \"pm25Value24\": \"\", \"resultCode\": \"\", \"resultMsg\": \"\", \"rnum\": 0, \"serviceKey\": \"PGlojt4q3MXsNb2WywMWZNXPnV0sMYmPnZHjdER8uUq0ceI9rGlicEnKMGOoGnFeTGeEZZI9MeJAWZ43cXokzw==\", \"sidoName\": \"\", \"so2Grade\": \"\", \"so2Value\": \"\", \"stationCode\": \"\", \"stationName\": \"성북구\", \"totalCount\": \"\", \"ver\": \"1.3\"}, \"totalCount\": 23}\n"
     ]
    }
   ],
   "source": [
    "resJSON = json.dumps(resObj, ensure_ascii=False)\n",
    "print(resJSON)"
   ]
  },
  {
   "cell_type": "markdown",
   "metadata": {},
   "source": [
    "resJSON = json.dumps(resObj, ensure_ascii=False)\n",
    "* ensure_ascii=False로 한글 깨짐 방지"
   ]
  },
  {
   "cell_type": "code",
   "execution_count": null,
   "metadata": {},
   "outputs": [],
   "source": [
    "http://openapi.airkorea.or.kr/openapi/services/rest/ArpltnInforInqireSvc/getCtprvnMesureSidoLIst\n",
    "    \n",
    "    serviceKey=PGlojt4q3MXsNb2WywMWZNXPnV0sMYmPnZHjdER8uUq0ceI9rGlicEnKMGOoGnFeTGeEZZI9MeJAWZ43cXokzw%3D%3D\n",
    "    # -> '?' parameter string\n",
    "    &numOfRows=10\n",
    "    &pageNo=1\n",
    "    &sidoName=%EC%84%9C%EC%9A%B8\n",
    "    &searchCondition=DAILY\n",
    "    "
   ]
  },
  {
   "cell_type": "code",
   "execution_count": 50,
   "metadata": {},
   "outputs": [],
   "source": [
    "url = 'http://openapi.airkorea.or.kr/openapi/services/rest/ArpltnInforInqireSvc/getCtprvnMesureSidoLIst'\n",
    "params = {\n",
    "    \"serviceKey\": \"PGlojt4q3MXsNb2WywMWZNXPnV0sMYmPnZHjdER8uUq0ceI9rGlicEnKMGOoGnFeTGeEZZI9MeJAWZ43cXokzw%3D%3D\",\n",
    "    \"numOfRows\":10,\n",
    "    \"pageNo\":1,\n",
    "    \"sidoName\":\"서울\",\n",
    "    \"searchCondition\":\"DAILY\",\n",
    "    \"_returnType\":\"JSON\"\n",
    "}"
   ]
  },
  {
   "cell_type": "code",
   "execution_count": 51,
   "metadata": {},
   "outputs": [],
   "source": [
    "params[\"serviceKey\"] = urllib.parse.unquote(params[\"serviceKey\"])\n",
    "params = urllib.parse.urlencode(params)"
   ]
  },
  {
   "cell_type": "code",
   "execution_count": 52,
   "metadata": {},
   "outputs": [
    {
     "data": {
      "text/plain": [
       "'serviceKey=PGlojt4q3MXsNb2WywMWZNXPnV0sMYmPnZHjdER8uUq0ceI9rGlicEnKMGOoGnFeTGeEZZI9MeJAWZ43cXokzw%3D%3D&numOfRows=10&pageNo=1&sidoName=%EC%84%9C%EC%9A%B8&searchCondition=DAILY&_returnType=JSON'"
      ]
     },
     "execution_count": 52,
     "metadata": {},
     "output_type": "execute_result"
    }
   ],
   "source": [
    "params"
   ]
  },
  {
   "cell_type": "code",
   "execution_count": 53,
   "metadata": {},
   "outputs": [],
   "source": [
    "params = params.encode(\"utf-8\")"
   ]
  },
  {
   "cell_type": "code",
   "execution_count": 54,
   "metadata": {},
   "outputs": [
    {
     "data": {
      "text/plain": [
       "b'serviceKey=PGlojt4q3MXsNb2WywMWZNXPnV0sMYmPnZHjdER8uUq0ceI9rGlicEnKMGOoGnFeTGeEZZI9MeJAWZ43cXokzw%3D%3D&numOfRows=10&pageNo=1&sidoName=%EC%84%9C%EC%9A%B8&searchCondition=DAILY&_returnType=JSON'"
      ]
     },
     "execution_count": 54,
     "metadata": {},
     "output_type": "execute_result"
    }
   ],
   "source": [
    "params"
   ]
  },
  {
   "cell_type": "code",
   "execution_count": 55,
   "metadata": {},
   "outputs": [],
   "source": [
    "req = urllib.request.Request(url, data=params)"
   ]
  },
  {
   "cell_type": "code",
   "execution_count": 56,
   "metadata": {},
   "outputs": [],
   "source": [
    "res = urllib.request.urlopen(req)"
   ]
  },
  {
   "cell_type": "code",
   "execution_count": 57,
   "metadata": {},
   "outputs": [],
   "source": [
    "resStr = res.read()"
   ]
  },
  {
   "cell_type": "code",
   "execution_count": 58,
   "metadata": {},
   "outputs": [
    {
     "data": {
      "text/plain": [
       "b'{\"list\":[{\"_returnType\":\"json\",\"cityName\":\"\\xea\\xb0\\x95\\xeb\\x82\\xa8\\xea\\xb5\\xac\",\"cityNameEng\":\"Gangnam-gu\",\"coValue\":\"0.2\",\"dataGubun\":\"\",\"dataTime\":\"2019-07-10 16:00\",\"districtCode\":\"02\",\"districtNumSeq\":\"001\",\"itemCode\":\"\",\"khaiValue\":\"\",\"no2Value\":\"0.013\",\"numOfRows\":\"10\",\"o3Value\":\"0.024\",\"pageNo\":\"1\",\"pm10Value\":\"14\",\"pm25Value\":\"7\",\"resultCode\":\"\",\"resultMsg\":\"\",\"searchCondition\":\"\",\"serviceKey\":\"\",\"sidoName\":\"\\xec\\x84\\x9c\\xec\\x9a\\xb8\",\"so2Value\":\"0.005\",\"totalCount\":\"\"},{\"_returnType\":\"json\",\"cityName\":\"\\xea\\xb0\\x95\\xeb\\x8f\\x99\\xea\\xb5\\xac\",\"cityNameEng\":\"Gangdong-gu\",\"coValue\":\"0.2\",\"dataGubun\":\"\",\"dataTime\":\"2019-07-10 16:00\",\"districtCode\":\"02\",\"districtNumSeq\":\"002\",\"itemCode\":\"\",\"khaiValue\":\"\",\"no2Value\":\"0.009\",\"numOfRows\":\"10\",\"o3Value\":\"0.029\",\"pageNo\":\"1\",\"pm10Value\":\"15\",\"pm25Value\":\"8\",\"resultCode\":\"\",\"resultMsg\":\"\",\"searchCondition\":\"\",\"serviceKey\":\"\",\"sidoName\":\"\\xec\\x84\\x9c\\xec\\x9a\\xb8\",\"so2Value\":\"0.003\",\"totalCount\":\"\"},{\"_returnType\":\"json\",\"cityName\":\"\\xea\\xb0\\x95\\xeb\\xb6\\x81\\xea\\xb5\\xac\",\"cityNameEng\":\"Gangbuk-gu\",\"coValue\":\"0.2\",\"dataGubun\":\"\",\"dataTime\":\"2019-07-10 16:00\",\"districtCode\":\"02\",\"districtNumSeq\":\"003\",\"itemCode\":\"\",\"khaiValue\":\"\",\"no2Value\":\"0.008\",\"numOfRows\":\"10\",\"o3Value\":\"0.032\",\"pageNo\":\"1\",\"pm10Value\":\"13\",\"pm25Value\":\"6\",\"resultCode\":\"\",\"resultMsg\":\"\",\"searchCondition\":\"\",\"serviceKey\":\"\",\"sidoName\":\"\\xec\\x84\\x9c\\xec\\x9a\\xb8\",\"so2Value\":\"\",\"totalCount\":\"\"},{\"_returnType\":\"json\",\"cityName\":\"\\xea\\xb0\\x95\\xec\\x84\\x9c\\xea\\xb5\\xac\",\"cityNameEng\":\"Gangseo-gu\",\"coValue\":\"0.3\",\"dataGubun\":\"\",\"dataTime\":\"2019-07-10 16:00\",\"districtCode\":\"02\",\"districtNumSeq\":\"004\",\"itemCode\":\"\",\"khaiValue\":\"\",\"no2Value\":\"0.016\",\"numOfRows\":\"10\",\"o3Value\":\"0.032\",\"pageNo\":\"1\",\"pm10Value\":\"12\",\"pm25Value\":\"7\",\"resultCode\":\"\",\"resultMsg\":\"\",\"searchCondition\":\"\",\"serviceKey\":\"\",\"sidoName\":\"\\xec\\x84\\x9c\\xec\\x9a\\xb8\",\"so2Value\":\"0.004\",\"totalCount\":\"\"},{\"_returnType\":\"json\",\"cityName\":\"\\xea\\xb4\\x80\\xec\\x95\\x85\\xea\\xb5\\xac\",\"cityNameEng\":\"Gwanak-gu\",\"coValue\":\"0.1\",\"dataGubun\":\"\",\"dataTime\":\"2019-07-10 16:00\",\"districtCode\":\"02\",\"districtNumSeq\":\"005\",\"itemCode\":\"\",\"khaiValue\":\"\",\"no2Value\":\"0.013\",\"numOfRows\":\"10\",\"o3Value\":\"0.035\",\"pageNo\":\"1\",\"pm10Value\":\"16\",\"pm25Value\":\"4\",\"resultCode\":\"\",\"resultMsg\":\"\",\"searchCondition\":\"\",\"serviceKey\":\"\",\"sidoName\":\"\\xec\\x84\\x9c\\xec\\x9a\\xb8\",\"so2Value\":\"0.003\",\"totalCount\":\"\"},{\"_returnType\":\"json\",\"cityName\":\"\\xea\\xb4\\x91\\xec\\xa7\\x84\\xea\\xb5\\xac\",\"cityNameEng\":\"Gwangjin-gu\",\"coValue\":\"0.4\",\"dataGubun\":\"\",\"dataTime\":\"2019-07-10 16:00\",\"districtCode\":\"02\",\"districtNumSeq\":\"006\",\"itemCode\":\"\",\"khaiValue\":\"\",\"no2Value\":\"0.012\",\"numOfRows\":\"10\",\"o3Value\":\"0.026\",\"pageNo\":\"1\",\"pm10Value\":\"9\",\"pm25Value\":\"\",\"resultCode\":\"\",\"resultMsg\":\"\",\"searchCondition\":\"\",\"serviceKey\":\"\",\"sidoName\":\"\\xec\\x84\\x9c\\xec\\x9a\\xb8\",\"so2Value\":\"0.003\",\"totalCount\":\"\"},{\"_returnType\":\"json\",\"cityName\":\"\\xea\\xb5\\xac\\xeb\\xa1\\x9c\\xea\\xb5\\xac\",\"cityNameEng\":\"Guro-gu\",\"coValue\":\"\",\"dataGubun\":\"\",\"dataTime\":\"2019-07-10 16:00\",\"districtCode\":\"02\",\"districtNumSeq\":\"007\",\"itemCode\":\"\",\"khaiValue\":\"\",\"no2Value\":\"0.011\",\"numOfRows\":\"10\",\"o3Value\":\"0.035\",\"pageNo\":\"1\",\"pm10Value\":\"15\",\"pm25Value\":\"6\",\"resultCode\":\"\",\"resultMsg\":\"\",\"searchCondition\":\"\",\"serviceKey\":\"\",\"sidoName\":\"\\xec\\x84\\x9c\\xec\\x9a\\xb8\",\"so2Value\":\"0.004\",\"totalCount\":\"\"},{\"_returnType\":\"json\",\"cityName\":\"\\xea\\xb8\\x88\\xec\\xb2\\x9c\\xea\\xb5\\xac\",\"cityNameEng\":\"Geumcheon-gu\",\"coValue\":\"0.2\",\"dataGubun\":\"\",\"dataTime\":\"2019-07-10 16:00\",\"districtCode\":\"02\",\"districtNumSeq\":\"008\",\"itemCode\":\"\",\"khaiValue\":\"\",\"no2Value\":\"0.013\",\"numOfRows\":\"10\",\"o3Value\":\"0.028\",\"pageNo\":\"1\",\"pm10Value\":\"17\",\"pm25Value\":\"7\",\"resultCode\":\"\",\"resultMsg\":\"\",\"searchCondition\":\"\",\"serviceKey\":\"\",\"sidoName\":\"\\xec\\x84\\x9c\\xec\\x9a\\xb8\",\"so2Value\":\"0.003\",\"totalCount\":\"\"},{\"_returnType\":\"json\",\"cityName\":\"\\xeb\\x85\\xb8\\xec\\x9b\\x90\\xea\\xb5\\xac\",\"cityNameEng\":\"Nowon-gu\",\"coValue\":\"0.2\",\"dataGubun\":\"\",\"dataTime\":\"2019-07-10 16:00\",\"districtCode\":\"02\",\"districtNumSeq\":\"009\",\"itemCode\":\"\",\"khaiValue\":\"\",\"no2Value\":\"0.009\",\"numOfRows\":\"10\",\"o3Value\":\"0.028\",\"pageNo\":\"1\",\"pm10Value\":\"11\",\"pm25Value\":\"7\",\"resultCode\":\"\",\"resultMsg\":\"\",\"searchCondition\":\"\",\"serviceKey\":\"\",\"sidoName\":\"\\xec\\x84\\x9c\\xec\\x9a\\xb8\",\"so2Value\":\"\",\"totalCount\":\"\"},{\"_returnType\":\"json\",\"cityName\":\"\\xeb\\x8f\\x84\\xeb\\xb4\\x89\\xea\\xb5\\xac\",\"cityNameEng\":\"Dobong-gu\",\"coValue\":\"0.3\",\"dataGubun\":\"\",\"dataTime\":\"2019-07-10 16:00\",\"districtCode\":\"02\",\"districtNumSeq\":\"010\",\"itemCode\":\"\",\"khaiValue\":\"\",\"no2Value\":\"0.005\",\"numOfRows\":\"10\",\"o3Value\":\"0.035\",\"pageNo\":\"1\",\"pm10Value\":\"11\",\"pm25Value\":\"4\",\"resultCode\":\"\",\"resultMsg\":\"\",\"searchCondition\":\"\",\"serviceKey\":\"\",\"sidoName\":\"\\xec\\x84\\x9c\\xec\\x9a\\xb8\",\"so2Value\":\"0.003\",\"totalCount\":\"\"}],\"parm\":{\"_returnType\":\"json\",\"cityName\":\"\",\"cityNameEng\":\"\",\"coValue\":\"\",\"dataGubun\":\"\",\"dataTime\":\"\",\"districtCode\":\"\",\"districtNumSeq\":\"\",\"itemCode\":\"\",\"khaiValue\":\"\",\"no2Value\":\"\",\"numOfRows\":\"10\",\"o3Value\":\"\",\"pageNo\":\"1\",\"pm10Value\":\"\",\"pm25Value\":\"\",\"resultCode\":\"\",\"resultMsg\":\"\",\"searchCondition\":\"DAILY\",\"serviceKey\":\"PGlojt4q3MXsNb2WywMWZNXPnV0sMYmPnZHjdER8uUq0ceI9rGlicEnKMGOoGnFeTGeEZZI9MeJAWZ43cXokzw==\",\"sidoName\":\"\\xec\\x84\\x9c\\xec\\x9a\\xb8\",\"so2Value\":\"\",\"totalCount\":\"\"},\"CtprvnMesureLIstVo2\":{\"_returnType\":\"json\",\"cityName\":\"\",\"cityNameEng\":\"\",\"coValue\":\"\",\"dataGubun\":\"\",\"dataTime\":\"\",\"districtCode\":\"\",\"districtNumSeq\":\"\",\"itemCode\":\"\",\"khaiValue\":\"\",\"no2Value\":\"\",\"numOfRows\":\"10\",\"o3Value\":\"\",\"pageNo\":\"1\",\"pm10Value\":\"\",\"pm25Value\":\"\",\"resultCode\":\"\",\"resultMsg\":\"\",\"searchCondition\":\"DAILY\",\"serviceKey\":\"PGlojt4q3MXsNb2WywMWZNXPnV0sMYmPnZHjdER8uUq0ceI9rGlicEnKMGOoGnFeTGeEZZI9MeJAWZ43cXokzw==\",\"sidoName\":\"\\xec\\x84\\x9c\\xec\\x9a\\xb8\",\"so2Value\":\"\",\"totalCount\":\"\"},\"totalCount\":600}'"
      ]
     },
     "execution_count": 58,
     "metadata": {},
     "output_type": "execute_result"
    }
   ],
   "source": [
    "resStr"
   ]
  },
  {
   "cell_type": "code",
   "execution_count": 59,
   "metadata": {},
   "outputs": [],
   "source": [
    "resStr = resStr.decode(\"utf-8\")"
   ]
  },
  {
   "cell_type": "code",
   "execution_count": 60,
   "metadata": {},
   "outputs": [],
   "source": [
    "resObj = json.loads(resStr)"
   ]
  },
  {
   "cell_type": "code",
   "execution_count": 61,
   "metadata": {},
   "outputs": [
    {
     "data": {
      "text/plain": [
       "{'list': [{'_returnType': 'json',\n",
       "   'cityName': '강남구',\n",
       "   'cityNameEng': 'Gangnam-gu',\n",
       "   'coValue': '0.2',\n",
       "   'dataGubun': '',\n",
       "   'dataTime': '2019-07-10 16:00',\n",
       "   'districtCode': '02',\n",
       "   'districtNumSeq': '001',\n",
       "   'itemCode': '',\n",
       "   'khaiValue': '',\n",
       "   'no2Value': '0.013',\n",
       "   'numOfRows': '10',\n",
       "   'o3Value': '0.024',\n",
       "   'pageNo': '1',\n",
       "   'pm10Value': '14',\n",
       "   'pm25Value': '7',\n",
       "   'resultCode': '',\n",
       "   'resultMsg': '',\n",
       "   'searchCondition': '',\n",
       "   'serviceKey': '',\n",
       "   'sidoName': '서울',\n",
       "   'so2Value': '0.005',\n",
       "   'totalCount': ''},\n",
       "  {'_returnType': 'json',\n",
       "   'cityName': '강동구',\n",
       "   'cityNameEng': 'Gangdong-gu',\n",
       "   'coValue': '0.2',\n",
       "   'dataGubun': '',\n",
       "   'dataTime': '2019-07-10 16:00',\n",
       "   'districtCode': '02',\n",
       "   'districtNumSeq': '002',\n",
       "   'itemCode': '',\n",
       "   'khaiValue': '',\n",
       "   'no2Value': '0.009',\n",
       "   'numOfRows': '10',\n",
       "   'o3Value': '0.029',\n",
       "   'pageNo': '1',\n",
       "   'pm10Value': '15',\n",
       "   'pm25Value': '8',\n",
       "   'resultCode': '',\n",
       "   'resultMsg': '',\n",
       "   'searchCondition': '',\n",
       "   'serviceKey': '',\n",
       "   'sidoName': '서울',\n",
       "   'so2Value': '0.003',\n",
       "   'totalCount': ''},\n",
       "  {'_returnType': 'json',\n",
       "   'cityName': '강북구',\n",
       "   'cityNameEng': 'Gangbuk-gu',\n",
       "   'coValue': '0.2',\n",
       "   'dataGubun': '',\n",
       "   'dataTime': '2019-07-10 16:00',\n",
       "   'districtCode': '02',\n",
       "   'districtNumSeq': '003',\n",
       "   'itemCode': '',\n",
       "   'khaiValue': '',\n",
       "   'no2Value': '0.008',\n",
       "   'numOfRows': '10',\n",
       "   'o3Value': '0.032',\n",
       "   'pageNo': '1',\n",
       "   'pm10Value': '13',\n",
       "   'pm25Value': '6',\n",
       "   'resultCode': '',\n",
       "   'resultMsg': '',\n",
       "   'searchCondition': '',\n",
       "   'serviceKey': '',\n",
       "   'sidoName': '서울',\n",
       "   'so2Value': '',\n",
       "   'totalCount': ''},\n",
       "  {'_returnType': 'json',\n",
       "   'cityName': '강서구',\n",
       "   'cityNameEng': 'Gangseo-gu',\n",
       "   'coValue': '0.3',\n",
       "   'dataGubun': '',\n",
       "   'dataTime': '2019-07-10 16:00',\n",
       "   'districtCode': '02',\n",
       "   'districtNumSeq': '004',\n",
       "   'itemCode': '',\n",
       "   'khaiValue': '',\n",
       "   'no2Value': '0.016',\n",
       "   'numOfRows': '10',\n",
       "   'o3Value': '0.032',\n",
       "   'pageNo': '1',\n",
       "   'pm10Value': '12',\n",
       "   'pm25Value': '7',\n",
       "   'resultCode': '',\n",
       "   'resultMsg': '',\n",
       "   'searchCondition': '',\n",
       "   'serviceKey': '',\n",
       "   'sidoName': '서울',\n",
       "   'so2Value': '0.004',\n",
       "   'totalCount': ''},\n",
       "  {'_returnType': 'json',\n",
       "   'cityName': '관악구',\n",
       "   'cityNameEng': 'Gwanak-gu',\n",
       "   'coValue': '0.1',\n",
       "   'dataGubun': '',\n",
       "   'dataTime': '2019-07-10 16:00',\n",
       "   'districtCode': '02',\n",
       "   'districtNumSeq': '005',\n",
       "   'itemCode': '',\n",
       "   'khaiValue': '',\n",
       "   'no2Value': '0.013',\n",
       "   'numOfRows': '10',\n",
       "   'o3Value': '0.035',\n",
       "   'pageNo': '1',\n",
       "   'pm10Value': '16',\n",
       "   'pm25Value': '4',\n",
       "   'resultCode': '',\n",
       "   'resultMsg': '',\n",
       "   'searchCondition': '',\n",
       "   'serviceKey': '',\n",
       "   'sidoName': '서울',\n",
       "   'so2Value': '0.003',\n",
       "   'totalCount': ''},\n",
       "  {'_returnType': 'json',\n",
       "   'cityName': '광진구',\n",
       "   'cityNameEng': 'Gwangjin-gu',\n",
       "   'coValue': '0.4',\n",
       "   'dataGubun': '',\n",
       "   'dataTime': '2019-07-10 16:00',\n",
       "   'districtCode': '02',\n",
       "   'districtNumSeq': '006',\n",
       "   'itemCode': '',\n",
       "   'khaiValue': '',\n",
       "   'no2Value': '0.012',\n",
       "   'numOfRows': '10',\n",
       "   'o3Value': '0.026',\n",
       "   'pageNo': '1',\n",
       "   'pm10Value': '9',\n",
       "   'pm25Value': '',\n",
       "   'resultCode': '',\n",
       "   'resultMsg': '',\n",
       "   'searchCondition': '',\n",
       "   'serviceKey': '',\n",
       "   'sidoName': '서울',\n",
       "   'so2Value': '0.003',\n",
       "   'totalCount': ''},\n",
       "  {'_returnType': 'json',\n",
       "   'cityName': '구로구',\n",
       "   'cityNameEng': 'Guro-gu',\n",
       "   'coValue': '',\n",
       "   'dataGubun': '',\n",
       "   'dataTime': '2019-07-10 16:00',\n",
       "   'districtCode': '02',\n",
       "   'districtNumSeq': '007',\n",
       "   'itemCode': '',\n",
       "   'khaiValue': '',\n",
       "   'no2Value': '0.011',\n",
       "   'numOfRows': '10',\n",
       "   'o3Value': '0.035',\n",
       "   'pageNo': '1',\n",
       "   'pm10Value': '15',\n",
       "   'pm25Value': '6',\n",
       "   'resultCode': '',\n",
       "   'resultMsg': '',\n",
       "   'searchCondition': '',\n",
       "   'serviceKey': '',\n",
       "   'sidoName': '서울',\n",
       "   'so2Value': '0.004',\n",
       "   'totalCount': ''},\n",
       "  {'_returnType': 'json',\n",
       "   'cityName': '금천구',\n",
       "   'cityNameEng': 'Geumcheon-gu',\n",
       "   'coValue': '0.2',\n",
       "   'dataGubun': '',\n",
       "   'dataTime': '2019-07-10 16:00',\n",
       "   'districtCode': '02',\n",
       "   'districtNumSeq': '008',\n",
       "   'itemCode': '',\n",
       "   'khaiValue': '',\n",
       "   'no2Value': '0.013',\n",
       "   'numOfRows': '10',\n",
       "   'o3Value': '0.028',\n",
       "   'pageNo': '1',\n",
       "   'pm10Value': '17',\n",
       "   'pm25Value': '7',\n",
       "   'resultCode': '',\n",
       "   'resultMsg': '',\n",
       "   'searchCondition': '',\n",
       "   'serviceKey': '',\n",
       "   'sidoName': '서울',\n",
       "   'so2Value': '0.003',\n",
       "   'totalCount': ''},\n",
       "  {'_returnType': 'json',\n",
       "   'cityName': '노원구',\n",
       "   'cityNameEng': 'Nowon-gu',\n",
       "   'coValue': '0.2',\n",
       "   'dataGubun': '',\n",
       "   'dataTime': '2019-07-10 16:00',\n",
       "   'districtCode': '02',\n",
       "   'districtNumSeq': '009',\n",
       "   'itemCode': '',\n",
       "   'khaiValue': '',\n",
       "   'no2Value': '0.009',\n",
       "   'numOfRows': '10',\n",
       "   'o3Value': '0.028',\n",
       "   'pageNo': '1',\n",
       "   'pm10Value': '11',\n",
       "   'pm25Value': '7',\n",
       "   'resultCode': '',\n",
       "   'resultMsg': '',\n",
       "   'searchCondition': '',\n",
       "   'serviceKey': '',\n",
       "   'sidoName': '서울',\n",
       "   'so2Value': '',\n",
       "   'totalCount': ''},\n",
       "  {'_returnType': 'json',\n",
       "   'cityName': '도봉구',\n",
       "   'cityNameEng': 'Dobong-gu',\n",
       "   'coValue': '0.3',\n",
       "   'dataGubun': '',\n",
       "   'dataTime': '2019-07-10 16:00',\n",
       "   'districtCode': '02',\n",
       "   'districtNumSeq': '010',\n",
       "   'itemCode': '',\n",
       "   'khaiValue': '',\n",
       "   'no2Value': '0.005',\n",
       "   'numOfRows': '10',\n",
       "   'o3Value': '0.035',\n",
       "   'pageNo': '1',\n",
       "   'pm10Value': '11',\n",
       "   'pm25Value': '4',\n",
       "   'resultCode': '',\n",
       "   'resultMsg': '',\n",
       "   'searchCondition': '',\n",
       "   'serviceKey': '',\n",
       "   'sidoName': '서울',\n",
       "   'so2Value': '0.003',\n",
       "   'totalCount': ''}],\n",
       " 'parm': {'_returnType': 'json',\n",
       "  'cityName': '',\n",
       "  'cityNameEng': '',\n",
       "  'coValue': '',\n",
       "  'dataGubun': '',\n",
       "  'dataTime': '',\n",
       "  'districtCode': '',\n",
       "  'districtNumSeq': '',\n",
       "  'itemCode': '',\n",
       "  'khaiValue': '',\n",
       "  'no2Value': '',\n",
       "  'numOfRows': '10',\n",
       "  'o3Value': '',\n",
       "  'pageNo': '1',\n",
       "  'pm10Value': '',\n",
       "  'pm25Value': '',\n",
       "  'resultCode': '',\n",
       "  'resultMsg': '',\n",
       "  'searchCondition': 'DAILY',\n",
       "  'serviceKey': 'PGlojt4q3MXsNb2WywMWZNXPnV0sMYmPnZHjdER8uUq0ceI9rGlicEnKMGOoGnFeTGeEZZI9MeJAWZ43cXokzw==',\n",
       "  'sidoName': '서울',\n",
       "  'so2Value': '',\n",
       "  'totalCount': ''},\n",
       " 'CtprvnMesureLIstVo2': {'_returnType': 'json',\n",
       "  'cityName': '',\n",
       "  'cityNameEng': '',\n",
       "  'coValue': '',\n",
       "  'dataGubun': '',\n",
       "  'dataTime': '',\n",
       "  'districtCode': '',\n",
       "  'districtNumSeq': '',\n",
       "  'itemCode': '',\n",
       "  'khaiValue': '',\n",
       "  'no2Value': '',\n",
       "  'numOfRows': '10',\n",
       "  'o3Value': '',\n",
       "  'pageNo': '1',\n",
       "  'pm10Value': '',\n",
       "  'pm25Value': '',\n",
       "  'resultCode': '',\n",
       "  'resultMsg': '',\n",
       "  'searchCondition': 'DAILY',\n",
       "  'serviceKey': 'PGlojt4q3MXsNb2WywMWZNXPnV0sMYmPnZHjdER8uUq0ceI9rGlicEnKMGOoGnFeTGeEZZI9MeJAWZ43cXokzw==',\n",
       "  'sidoName': '서울',\n",
       "  'so2Value': '',\n",
       "  'totalCount': ''},\n",
       " 'totalCount': 600}"
      ]
     },
     "execution_count": 61,
     "metadata": {},
     "output_type": "execute_result"
    }
   ],
   "source": [
    "resObj"
   ]
  },
  {
   "cell_type": "markdown",
   "metadata": {},
   "source": [
    "* training\n",
    "dictionary 파헤치면서 원하는값 들고오기\n",
    "\n"
   ]
  },
  {
   "cell_type": "code",
   "execution_count": null,
   "metadata": {},
   "outputs": [],
   "source": []
  },
  {
   "cell_type": "code",
   "execution_count": null,
   "metadata": {},
   "outputs": [],
   "source": []
  },
  {
   "cell_type": "code",
   "execution_count": null,
   "metadata": {},
   "outputs": [],
   "source": []
  }
 ],
 "metadata": {
  "kernelspec": {
   "display_name": "Python 3",
   "language": "python",
   "name": "python3"
  },
  "language_info": {
   "codemirror_mode": {
    "name": "ipython",
    "version": 3
   },
   "file_extension": ".py",
   "mimetype": "text/x-python",
   "name": "python",
   "nbconvert_exporter": "python",
   "pygments_lexer": "ipython3",
   "version": "3.7.3"
  }
 },
 "nbformat": 4,
 "nbformat_minor": 2
}
