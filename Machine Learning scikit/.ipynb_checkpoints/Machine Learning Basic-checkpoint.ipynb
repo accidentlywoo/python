{
 "cells": [
  {
   "cell_type": "markdown",
   "metadata": {},
   "source": [
    "기계 학습\n",
    "\n",
    "1956 인공지능 start\n",
    "\n",
    "1959 기계학습 start\n",
    "\n",
    "기계학습 정의 : 융합 학문\n",
    "\n",
    "R, Python 알고리즘을 포팅해서 백엔드에 융합한다.\n",
    "\n",
    "결과를 높였더니 돈이 올라간다.\n",
    "\n",
    "supervised learning 이 가장 성능이 잘나온다. ( classification )\n",
    "\n",
    "reinforcement -> 산업 적용가능하면서 인기가 많다.\n",
    "\n",
    "Transfer learning이 핫할 수 있다.\n",
    "\n",
    "기계학습에서 가장 중요한것\n",
    "\n",
    "1. Data로부터\n",
    "\n",
    "2. Specific문제 해결을 위한 -> 기계학습은 일반적인 알고리즘을 쓸 수 없다.\n",
    "\n",
    "3. 최적의(좋은 성능 성능의 기분?이 다양하다.unseen data에서도 잘 적용되야 한다.) 모델 만들기\n",
    "-> 오버피팅 노노\n",
    "\n",
    "bias와 variance는 trade off 관계이다.\n",
    "\n",
    "최고의 머신러닝은 Trade-off fit -> model selection\n",
    "\n",
    "모델 관점 2가지 "
   ]
  }
 ],
 "metadata": {
  "kernelspec": {
   "display_name": "Python 3",
   "language": "python",
   "name": "python3"
  },
  "language_info": {
   "codemirror_mode": {
    "name": "ipython",
    "version": 3
   },
   "file_extension": ".py",
   "mimetype": "text/x-python",
   "name": "python",
   "nbconvert_exporter": "python",
   "pygments_lexer": "ipython3",
   "version": "3.7.3"
  }
 },
 "nbformat": 4,
 "nbformat_minor": 2
}
