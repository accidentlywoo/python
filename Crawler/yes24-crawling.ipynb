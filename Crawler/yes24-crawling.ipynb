{
 "cells": [
  {
   "cell_type": "code",
   "execution_count": 3,
   "metadata": {},
   "outputs": [],
   "source": [
    "import requests\n",
    "from bs4 import BeautifulSoup\n",
    "import select\n",
    "\n",
    "import sqlite3\n",
    "import time\n",
    "import selenium\n",
    "from selenium import webdriver\n",
    "import json"
   ]
  },
  {
   "cell_type": "code",
   "execution_count": 2,
   "metadata": {},
   "outputs": [
    {
     "name": "stdout",
     "output_type": "stream",
     "text": [
      "Collecting selenium\n",
      "  Downloading https://files.pythonhosted.org/packages/80/d6/4294f0b4bce4de0abf13e17190289f9d0613b0a44e5dd6a7f5ca98459853/selenium-3.141.0-py2.py3-none-any.whl (904kB)\n",
      "Requirement already satisfied: urllib3 in c:\\users\\wooyeonhui\\anaconda3\\lib\\site-packages (from selenium) (1.24.2)\n",
      "Installing collected packages: selenium\n",
      "Successfully installed selenium-3.141.0\n",
      "Note: you may need to restart the kernel to use updated packages.\n"
     ]
    }
   ],
   "source": [
    "# pip install selenium"
   ]
  },
  {
   "cell_type": "code",
   "execution_count": 18,
   "metadata": {},
   "outputs": [],
   "source": [
    "driver = webdriver.Chrome('D:\\woozoo\\sw\\chromedriver')"
   ]
  },
  {
   "cell_type": "code",
   "execution_count": 19,
   "metadata": {},
   "outputs": [],
   "source": [
    "driver.implicitly_wait(3)\n",
    "driver.get('http://www.yes24.com/Main/default.aspx')"
   ]
  },
  {
   "cell_type": "code",
   "execution_count": 12,
   "metadata": {},
   "outputs": [
    {
     "name": "stdout",
     "output_type": "stream",
     "text": [
      "Object `driver.get()` not found.\n"
     ]
    }
   ],
   "source": [
    "??driver.get()"
   ]
  },
  {
   "cell_type": "code",
   "execution_count": 20,
   "metadata": {},
   "outputs": [
    {
     "data": {
      "text/plain": [
       "['__utmb',\n",
       " 'wcs_bt',\n",
       " '__utmt',\n",
       " '__utmz',\n",
       " '__utma',\n",
       " 'PCID',\n",
       " '__utmc',\n",
       " 'HTTP_REFERER',\n",
       " 'ASP.NET_SessionId',\n",
       " 'RecentViewInfo',\n",
       " 'RecentViewGoods',\n",
       " 'yes24_glbola_redirect']"
      ]
     },
     "execution_count": 20,
     "metadata": {},
     "output_type": "execute_result"
    }
   ],
   "source": [
    "[_[\"name\"] for _ in driver.get_cookies()]"
   ]
  },
  {
   "cell_type": "code",
   "execution_count": 21,
   "metadata": {},
   "outputs": [],
   "source": [
    "session = requests.Session()"
   ]
  },
  {
   "cell_type": "code",
   "execution_count": 22,
   "metadata": {},
   "outputs": [
    {
     "data": {
      "text/plain": [
       "<RequestsCookieJar[]>"
      ]
     },
     "execution_count": 22,
     "metadata": {},
     "output_type": "execute_result"
    }
   ],
   "source": [
    "session.cookies"
   ]
  },
  {
   "cell_type": "code",
   "execution_count": 23,
   "metadata": {},
   "outputs": [],
   "source": [
    "for cookie in driver.get_cookies():\n",
    "    session.cookies.set(cookie[\"name\"], cookie[\"value\"])"
   ]
  },
  {
   "cell_type": "code",
   "execution_count": 24,
   "metadata": {},
   "outputs": [
    {
     "data": {
      "text/plain": [
       "<RequestsCookieJar[Cookie(version=0, name='ASP.NET_SessionId', value='3xtbwkz1amaknnvm5qjkopnu', port=None, port_specified=False, domain='', domain_specified=False, domain_initial_dot=False, path='/', path_specified=True, secure=False, expires=None, discard=True, comment=None, comment_url=None, rest={'HttpOnly': None}, rfc2109=False), Cookie(version=0, name='HTTP_REFERER', value='', port=None, port_specified=False, domain='', domain_specified=False, domain_initial_dot=False, path='/', path_specified=True, secure=False, expires=None, discard=True, comment=None, comment_url=None, rest={'HttpOnly': None}, rfc2109=False), Cookie(version=0, name='PCID', value='15984507025292613687891', port=None, port_specified=False, domain='', domain_specified=False, domain_initial_dot=False, path='/', path_specified=True, secure=False, expires=None, discard=True, comment=None, comment_url=None, rest={'HttpOnly': None}, rfc2109=False), Cookie(version=0, name='RecentViewGoods', value='', port=None, port_specified=False, domain='', domain_specified=False, domain_initial_dot=False, path='/', path_specified=True, secure=False, expires=None, discard=True, comment=None, comment_url=None, rest={'HttpOnly': None}, rfc2109=False), Cookie(version=0, name='RecentViewInfo', value='NotCookie%3DY%26Interval%3D5', port=None, port_specified=False, domain='', domain_specified=False, domain_initial_dot=False, path='/', path_specified=True, secure=False, expires=None, discard=True, comment=None, comment_url=None, rest={'HttpOnly': None}, rfc2109=False), Cookie(version=0, name='__utma', value='12748607.1796161516.1598450703.1598450703.1598450703.1', port=None, port_specified=False, domain='', domain_specified=False, domain_initial_dot=False, path='/', path_specified=True, secure=False, expires=None, discard=True, comment=None, comment_url=None, rest={'HttpOnly': None}, rfc2109=False), Cookie(version=0, name='__utmb', value='12748607.1.10.1598450703', port=None, port_specified=False, domain='', domain_specified=False, domain_initial_dot=False, path='/', path_specified=True, secure=False, expires=None, discard=True, comment=None, comment_url=None, rest={'HttpOnly': None}, rfc2109=False), Cookie(version=0, name='__utmc', value='12748607', port=None, port_specified=False, domain='', domain_specified=False, domain_initial_dot=False, path='/', path_specified=True, secure=False, expires=None, discard=True, comment=None, comment_url=None, rest={'HttpOnly': None}, rfc2109=False), Cookie(version=0, name='__utmt', value='1', port=None, port_specified=False, domain='', domain_specified=False, domain_initial_dot=False, path='/', path_specified=True, secure=False, expires=None, discard=True, comment=None, comment_url=None, rest={'HttpOnly': None}, rfc2109=False), Cookie(version=0, name='__utmz', value='12748607.1598450703.1.1.utmcsr=(direct)|utmccn=(direct)|utmcmd=(none)', port=None, port_specified=False, domain='', domain_specified=False, domain_initial_dot=False, path='/', path_specified=True, secure=False, expires=None, discard=True, comment=None, comment_url=None, rest={'HttpOnly': None}, rfc2109=False), Cookie(version=0, name='wcs_bt', value='s_1b6883469aa6:1598450702', port=None, port_specified=False, domain='', domain_specified=False, domain_initial_dot=False, path='/', path_specified=True, secure=False, expires=None, discard=True, comment=None, comment_url=None, rest={'HttpOnly': None}, rfc2109=False), Cookie(version=0, name='yes24_glbola_redirect', value='validationcheck=true|nation_id=south korea', port=None, port_specified=False, domain='', domain_specified=False, domain_initial_dot=False, path='/', path_specified=True, secure=False, expires=None, discard=True, comment=None, comment_url=None, rest={'HttpOnly': None}, rfc2109=False)]>"
      ]
     },
     "execution_count": 24,
     "metadata": {},
     "output_type": "execute_result"
    }
   ],
   "source": [
    "session.cookies"
   ]
  },
  {
   "cell_type": "code",
   "execution_count": 25,
   "metadata": {},
   "outputs": [
    {
     "data": {
      "text/plain": [
       "['CDwindow-7A07F209BCED597B6AC4501A6EC99680']"
      ]
     },
     "execution_count": 25,
     "metadata": {},
     "output_type": "execute_result"
    }
   ],
   "source": [
    "driver.window_handles"
   ]
  },
  {
   "cell_type": "code",
   "execution_count": 34,
   "metadata": {},
   "outputs": [
    {
     "data": {
      "text/plain": [
       "['YES NOW',\n",
       " '국내도서',\n",
       " '외국도서',\n",
       " 'eBook',\n",
       " '웹소설/코믹',\n",
       " 'CD/LP',\n",
       " 'DVD/Blu-ray',\n",
       " '영화',\n",
       " '공연',\n",
       " '문구/GIFT',\n",
       " '중고샵']"
      ]
     },
     "execution_count": 34,
     "metadata": {},
     "output_type": "execute_result"
    }
   ],
   "source": [
    "# html Traveling\n",
    "[_.find_element_by_css_selector(\"h3>a\").text\n",
    " for _ in driver.find_elements_by_css_selector(\"#mbnWrap >li\")]"
   ]
  },
  {
   "cell_type": "code",
   "execution_count": null,
   "metadata": {},
   "outputs": [],
   "source": [
    "con = sqlite3.connect(\"yes24.db\")"
   ]
  },
  {
   "cell_type": "code",
   "execution_count": null,
   "metadata": {},
   "outputs": [],
   "source": [
    "cur = con.cursor()"
   ]
  },
  {
   "cell_type": "code",
   "execution_count": 36,
   "metadata": {},
   "outputs": [
    {
     "data": {
      "text/plain": [
       "<sqlite3.Cursor at 0x262ef9a1e30>"
      ]
     },
     "execution_count": 36,
     "metadata": {},
     "output_type": "execute_result"
    }
   ],
   "source": [
    "cur.executescript(\"\"\"\n",
    "    CREATE TABLE table1(\n",
    "        id INTEGER PRIMARY KEY AUTOINCREMENT NOT NULL,\n",
    "        category TEXT NOT NULL,\n",
    "        title TEXT NOT NULL,\n",
    "        url TEXT NOT NULL\n",
    "    );\n",
    "\"\"\")"
   ]
  },
  {
   "cell_type": "code",
   "execution_count": 39,
   "metadata": {},
   "outputs": [],
   "source": [
    "driver.get('http://www.yes24.com/Mall/Main/Book/001?CategoryNumber=001')"
   ]
  },
  {
   "cell_type": "code",
   "execution_count": 141,
   "metadata": {},
   "outputs": [],
   "source": [
    "for _ in driver.find_elements_by_css_selector(\"#mCateLi >li > a> em\"):\n",
    "    if len(_.text) > 1:\n",
    "        cur.execute(\"INSERT INTO table1(category, title, url) VALUES(?,?,?)\", \n",
    "                   [_.text,\n",
    "                    driver.find_element_by_css_selector(\".subCateLi >ul> li> a\").get_attribute(\"text\"),\n",
    "                    driver.find_element_by_css_selector(\".subCateLi >ul> li> a\").get_attribute(\"href\")])\n",
    "        con.commit()"
   ]
  },
  {
   "cell_type": "code",
   "execution_count": 142,
   "metadata": {},
   "outputs": [
    {
     "data": {
      "text/plain": [
       "<sqlite3.Cursor at 0x262ef9a1e30>"
      ]
     },
     "execution_count": 142,
     "metadata": {},
     "output_type": "execute_result"
    }
   ],
   "source": [
    "cur.execute(\"SELECT * FROM table1\")"
   ]
  },
  {
   "cell_type": "code",
   "execution_count": 143,
   "metadata": {},
   "outputs": [
    {
     "data": {
      "text/plain": [
       "[(131,\n",
       "  '가정 살림',\n",
       "  '결혼/가족',\n",
       "  'http://www.yes24.com/24/Category/Display/001001001006'),\n",
       " (132,\n",
       "  '건강 취미',\n",
       "  '결혼/가족',\n",
       "  'http://www.yes24.com/24/Category/Display/001001001006'),\n",
       " (133,\n",
       "  '경제 경영',\n",
       "  '결혼/가족',\n",
       "  'http://www.yes24.com/24/Category/Display/001001001006'),\n",
       " (134,\n",
       "  '국어 외국어 사전',\n",
       "  '결혼/가족',\n",
       "  'http://www.yes24.com/24/Category/Display/001001001006'),\n",
       " (135,\n",
       "  '대학교재',\n",
       "  '결혼/가족',\n",
       "  'http://www.yes24.com/24/Category/Display/001001001006'),\n",
       " (136,\n",
       "  '만화/라이트노벨',\n",
       "  '결혼/가족',\n",
       "  'http://www.yes24.com/24/Category/Display/001001001006'),\n",
       " (137,\n",
       "  '사회 정치',\n",
       "  '결혼/가족',\n",
       "  'http://www.yes24.com/24/Category/Display/001001001006'),\n",
       " (138,\n",
       "  '소설/시/희곡',\n",
       "  '결혼/가족',\n",
       "  'http://www.yes24.com/24/Category/Display/001001001006'),\n",
       " (139,\n",
       "  '수험서 자격증',\n",
       "  '결혼/가족',\n",
       "  'http://www.yes24.com/24/Category/Display/001001001006'),\n",
       " (140,\n",
       "  '어린이',\n",
       "  '결혼/가족',\n",
       "  'http://www.yes24.com/24/Category/Display/001001001006'),\n",
       " (141,\n",
       "  '에세이',\n",
       "  '결혼/가족',\n",
       "  'http://www.yes24.com/24/Category/Display/001001001006'),\n",
       " (142, '여행', '결혼/가족', 'http://www.yes24.com/24/Category/Display/001001001006'),\n",
       " (143, '역사', '결혼/가족', 'http://www.yes24.com/24/Category/Display/001001001006'),\n",
       " (144, '예술', '결혼/가족', 'http://www.yes24.com/24/Category/Display/001001001006'),\n",
       " (145, '유아', '결혼/가족', 'http://www.yes24.com/24/Category/Display/001001001006'),\n",
       " (146, '인문', '결혼/가족', 'http://www.yes24.com/24/Category/Display/001001001006'),\n",
       " (147, '인물', '결혼/가족', 'http://www.yes24.com/24/Category/Display/001001001006'),\n",
       " (148,\n",
       "  '자기계발',\n",
       "  '결혼/가족',\n",
       "  'http://www.yes24.com/24/Category/Display/001001001006'),\n",
       " (149,\n",
       "  '자연과학',\n",
       "  '결혼/가족',\n",
       "  'http://www.yes24.com/24/Category/Display/001001001006'),\n",
       " (150, '잡지', '결혼/가족', 'http://www.yes24.com/24/Category/Display/001001001006'),\n",
       " (151, '전집', '결혼/가족', 'http://www.yes24.com/24/Category/Display/001001001006'),\n",
       " (152, '종교', '결혼/가족', 'http://www.yes24.com/24/Category/Display/001001001006'),\n",
       " (153,\n",
       "  '청소년',\n",
       "  '결혼/가족',\n",
       "  'http://www.yes24.com/24/Category/Display/001001001006'),\n",
       " (154,\n",
       "  'IT 모바일',\n",
       "  '결혼/가족',\n",
       "  'http://www.yes24.com/24/Category/Display/001001001006'),\n",
       " (155,\n",
       "  '초등참고서',\n",
       "  '결혼/가족',\n",
       "  'http://www.yes24.com/24/Category/Display/001001001006'),\n",
       " (156,\n",
       "  '중고등참고서',\n",
       "  '결혼/가족',\n",
       "  'http://www.yes24.com/24/Category/Display/001001001006')]"
      ]
     },
     "execution_count": 143,
     "metadata": {},
     "output_type": "execute_result"
    }
   ],
   "source": [
    "cur.fetchall()"
   ]
  },
  {
   "cell_type": "code",
   "execution_count": 163,
   "metadata": {},
   "outputs": [],
   "source": [
    "for _ in driver.find_elements_by_css_selector(\".cCont_bTp10 >div  ul >li\"):\n",
    "    cur.execute(\"INSERT INTO main_list(goodsurl,goods_auth,goods_pub,yes_b,goods_benefit,goods_point,goods_cmt) VALUES(?,?,?,?,?,?,?)\", \n",
    "               [driver.find_element_by_css_selector(\".cCont_bTp10 .goods_img .imgBdr > a\").get_attribute(\"href\"),\n",
    "                driver.find_element_by_css_selector(\".cCont_bTp10 .goods_info .goods_name > a\").get_attribute(\"text\"),\n",
    "                driver.find_element_by_css_selector(\".cCont_bTp10 .goods_info .goods_pubGrp .goods_auth\").get_attribute(\"text\"),\n",
    "                driver.find_element_by_css_selector(\".cCont_bTp10 .goods_info .goods_pubGrp .goods_pub\").get_attribute(\"text\"),\n",
    "                driver.find_element_by_css_selector(\".cCont_bTp10 .goods_info .goods_price > em\").get_attribute(\"text\"),\n",
    "                driver.find_element_by_css_selector(\".cCont_bTp10 .goods_info .goods_point\").get_attribute(\"text\"),\n",
    "                driver.find_element_by_css_selector(\".cCont_bTp10 .goods_info p.goods_cmt\").get_attribute(\"text\")])\n",
    "    con.commit()"
   ]
  },
  {
   "cell_type": "code",
   "execution_count": 131,
   "metadata": {},
   "outputs": [
    {
     "data": {
      "text/plain": [
       "<sqlite3.Cursor at 0x262ef9a1e30>"
      ]
     },
     "execution_count": 131,
     "metadata": {},
     "output_type": "execute_result"
    }
   ],
   "source": [
    "cur.executescript(\"\"\"\n",
    "    DROP TABLE main_list\n",
    "\"\"\")"
   ]
  },
  {
   "cell_type": "code",
   "execution_count": 159,
   "metadata": {},
   "outputs": [
    {
     "data": {
      "text/plain": [
       "<sqlite3.Cursor at 0x262ef9a1e30>"
      ]
     },
     "execution_count": 159,
     "metadata": {},
     "output_type": "execute_result"
    }
   ],
   "source": [
    "cur.executescript(\"\"\"\n",
    "    DELETE FROM main_list\n",
    "\"\"\")"
   ]
  },
  {
   "cell_type": "code",
   "execution_count": 160,
   "metadata": {},
   "outputs": [
    {
     "ename": "OperationalError",
     "evalue": "table main_list already exists",
     "output_type": "error",
     "traceback": [
      "\u001b[1;31m---------------------------------------------------------------------------\u001b[0m",
      "\u001b[1;31mOperationalError\u001b[0m                          Traceback (most recent call last)",
      "\u001b[1;32m<ipython-input-160-49f68f296944>\u001b[0m in \u001b[0;36m<module>\u001b[1;34m\u001b[0m\n\u001b[0;32m     10\u001b[0m         \u001b[0mgoods_cmt\u001b[0m \u001b[0mTEXT\u001b[0m\u001b[1;33m\u001b[0m\u001b[1;33m\u001b[0m\u001b[0m\n\u001b[0;32m     11\u001b[0m     );\n\u001b[1;32m---> 12\u001b[1;33m \"\"\")\n\u001b[0m",
      "\u001b[1;31mOperationalError\u001b[0m: table main_list already exists"
     ]
    }
   ],
   "source": [
    "cur.executescript(\"\"\"\n",
    "    CREATE TABLE main_list(\n",
    "        id INTEGER PRIMARY KEY AUTOINCREMENT ,\n",
    "        goodsurl TEXT,\n",
    "        goods_auth TEXT,\n",
    "        goods_pub TEXT ,\n",
    "        yes_b TEXT,\n",
    "        goods_benefit TEXT,\n",
    "        goods_point TEXT,\n",
    "        goods_cmt TEXT \n",
    "    );\n",
    "\"\"\")"
   ]
  },
  {
   "cell_type": "code",
   "execution_count": 161,
   "metadata": {},
   "outputs": [
    {
     "data": {
      "text/plain": [
       "[]"
      ]
     },
     "execution_count": 161,
     "metadata": {},
     "output_type": "execute_result"
    }
   ],
   "source": [
    "cur.fetchall()"
   ]
  },
  {
   "cell_type": "code",
   "execution_count": 173,
   "metadata": {},
   "outputs": [
    {
     "data": {
      "text/plain": [
       "<sqlite3.Cursor at 0x262ef9a1e30>"
      ]
     },
     "execution_count": 173,
     "metadata": {},
     "output_type": "execute_result"
    }
   ],
   "source": [
    "cur.execute(\"SELECT * FROM main_list\")"
   ]
  },
  {
   "cell_type": "code",
   "execution_count": 174,
   "metadata": {},
   "outputs": [
    {
     "data": {
      "text/plain": [
       "[(14,\n",
       "  'http://www.yes24.com/Product/Goods/91071094',\n",
       "  '\\n                                    부모는 쉽게 가르치고 아이는 바로 이해하는 초등수학\\n                                ',\n",
       "  None,\n",
       "  None,\n",
       "  None,\n",
       "  None,\n",
       "  None),\n",
       " (15,\n",
       "  'http://www.yes24.com/Product/Goods/91071094',\n",
       "  '\\n                                    부모는 쉽게 가르치고 아이는 바로 이해하는 초등수학\\n                                ',\n",
       "  None,\n",
       "  None,\n",
       "  None,\n",
       "  None,\n",
       "  None),\n",
       " (16,\n",
       "  'http://www.yes24.com/Product/Goods/91071094',\n",
       "  '\\n                                    부모는 쉽게 가르치고 아이는 바로 이해하는 초등수학\\n                                ',\n",
       "  None,\n",
       "  None,\n",
       "  None,\n",
       "  None,\n",
       "  None),\n",
       " (17,\n",
       "  'http://www.yes24.com/Product/Goods/91071094',\n",
       "  '\\n                                    부모는 쉽게 가르치고 아이는 바로 이해하는 초등수학\\n                                ',\n",
       "  None,\n",
       "  None,\n",
       "  None,\n",
       "  None,\n",
       "  None)]"
      ]
     },
     "execution_count": 174,
     "metadata": {},
     "output_type": "execute_result"
    }
   ],
   "source": [
    "cur.fetchall()"
   ]
  },
  {
   "cell_type": "code",
   "execution_count": null,
   "metadata": {},
   "outputs": [],
   "source": []
  },
  {
   "cell_type": "code",
   "execution_count": 172,
   "metadata": {},
   "outputs": [],
   "source": [
    "for _ in driver.find_elements_by_css_selector(\"cCont_bTp10 .goods_img .imgBdr > a\"):\n",
    "    if len(_.get_attribute(\"href\")) > 1 : \n",
    "        cur.execute(\"INSERT INTO main_list(goodsurl,goods_auth,goods_pub,yes_b,goods_benefit,goods_point,goods_cmt) VALUES(?,?,?,?,?,?,?)\" \n",
    "                   ,[_.get_attribute(\"href\"),\n",
    "                    driver.find_element_by_css_selector(\".cCont_bTp10 .goods_info .goods_name > a\").get_attribute(\"text\"),\n",
    "                    driver.find_element_by_css_selector(\".cCont_bTp10 .goods_info .goods_pubGrp .goods_auth\").get_attribute(\"text\"),\n",
    "                    driver.find_element_by_css_selector(\".cCont_bTp10 .goods_info .goods_pubGrp .goods_pub\").text,\n",
    "                    driver.find_element_by_css_selector(\".cCont_bTp10 .goods_info .goods_price > em\").text,\n",
    "                    driver.find_element_by_css_selector(\".cCont_bTp10 .goods_info .goods_point\").text,\n",
    "                    driver.find_element_by_css_selector(\".cCont_bTp10 .goods_info p.goods_cmt\").text])\n",
    "        con.commit()"
   ]
  },
  {
   "cell_type": "code",
   "execution_count": null,
   "metadata": {},
   "outputs": [],
   "source": []
  }
 ],
 "metadata": {
  "kernelspec": {
   "display_name": "Python 3",
   "language": "python",
   "name": "python3"
  },
  "language_info": {
   "codemirror_mode": {
    "name": "ipython",
    "version": 3
   },
   "file_extension": ".py",
   "mimetype": "text/x-python",
   "name": "python",
   "nbconvert_exporter": "python",
   "pygments_lexer": "ipython3",
   "version": "3.7.4"
  }
 },
 "nbformat": 4,
 "nbformat_minor": 2
}
