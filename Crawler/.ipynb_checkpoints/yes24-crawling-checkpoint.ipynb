{
 "cells": [
  {
   "cell_type": "code",
   "execution_count": 3,
   "metadata": {},
   "outputs": [],
   "source": [
    "import requests\n",
    "from bs4 import BeautifulSoup\n",
    "import select\n",
    "\n",
    "import sqlite3\n",
    "import time\n",
    "import selenium\n",
    "from selenium import webdriver\n",
    "import json"
   ]
  },
  {
   "cell_type": "code",
   "execution_count": 2,
   "metadata": {},
   "outputs": [
    {
     "name": "stdout",
     "output_type": "stream",
     "text": [
      "Collecting selenium\n",
      "  Downloading https://files.pythonhosted.org/packages/80/d6/4294f0b4bce4de0abf13e17190289f9d0613b0a44e5dd6a7f5ca98459853/selenium-3.141.0-py2.py3-none-any.whl (904kB)\n",
      "Requirement already satisfied: urllib3 in c:\\users\\wooyeonhui\\anaconda3\\lib\\site-packages (from selenium) (1.24.2)\n",
      "Installing collected packages: selenium\n",
      "Successfully installed selenium-3.141.0\n",
      "Note: you may need to restart the kernel to use updated packages.\n"
     ]
    }
   ],
   "source": [
    "# pip install selenium"
   ]
  },
  {
   "cell_type": "code",
   "execution_count": 18,
   "metadata": {},
   "outputs": [],
   "source": [
    "driver = webdriver.Chrome('D:\\woozoo\\sw\\chromedriver')"
   ]
  },
  {
   "cell_type": "code",
   "execution_count": 19,
   "metadata": {},
   "outputs": [],
   "source": [
    "driver.implicitly_wait(3)\n",
    "driver.get('http://www.yes24.com/Main/default.aspx')"
   ]
  },
  {
   "cell_type": "code",
   "execution_count": 12,
   "metadata": {},
   "outputs": [
    {
     "name": "stdout",
     "output_type": "stream",
     "text": [
      "Object `driver.get()` not found.\n"
     ]
    }
   ],
   "source": [
    "??driver.get()"
   ]
  },
  {
   "cell_type": "code",
   "execution_count": 20,
   "metadata": {},
   "outputs": [
    {
     "data": {
      "text/plain": [
       "['__utmb',\n",
       " 'wcs_bt',\n",
       " '__utmt',\n",
       " '__utmz',\n",
       " '__utma',\n",
       " 'PCID',\n",
       " '__utmc',\n",
       " 'HTTP_REFERER',\n",
       " 'ASP.NET_SessionId',\n",
       " 'RecentViewInfo',\n",
       " 'RecentViewGoods',\n",
       " 'yes24_glbola_redirect']"
      ]
     },
     "execution_count": 20,
     "metadata": {},
     "output_type": "execute_result"
    }
   ],
   "source": [
    "[_[\"name\"] for _ in driver.get_cookies()]"
   ]
  },
  {
   "cell_type": "code",
   "execution_count": 21,
   "metadata": {},
   "outputs": [],
   "source": [
    "session = requests.Session()"
   ]
  },
  {
   "cell_type": "code",
   "execution_count": 22,
   "metadata": {},
   "outputs": [
    {
     "data": {
      "text/plain": [
       "<RequestsCookieJar[]>"
      ]
     },
     "execution_count": 22,
     "metadata": {},
     "output_type": "execute_result"
    }
   ],
   "source": [
    "session.cookies"
   ]
  },
  {
   "cell_type": "code",
   "execution_count": 23,
   "metadata": {},
   "outputs": [],
   "source": [
    "for cookie in driver.get_cookies():\n",
    "    session.cookies.set(cookie[\"name\"], cookie[\"value\"])"
   ]
  },
  {
   "cell_type": "code",
   "execution_count": 24,
   "metadata": {},
   "outputs": [
    {
     "data": {
      "text/plain": [
       "<RequestsCookieJar[Cookie(version=0, name='ASP.NET_SessionId', value='3xtbwkz1amaknnvm5qjkopnu', port=None, port_specified=False, domain='', domain_specified=False, domain_initial_dot=False, path='/', path_specified=True, secure=False, expires=None, discard=True, comment=None, comment_url=None, rest={'HttpOnly': None}, rfc2109=False), Cookie(version=0, name='HTTP_REFERER', value='', port=None, port_specified=False, domain='', domain_specified=False, domain_initial_dot=False, path='/', path_specified=True, secure=False, expires=None, discard=True, comment=None, comment_url=None, rest={'HttpOnly': None}, rfc2109=False), Cookie(version=0, name='PCID', value='15984507025292613687891', port=None, port_specified=False, domain='', domain_specified=False, domain_initial_dot=False, path='/', path_specified=True, secure=False, expires=None, discard=True, comment=None, comment_url=None, rest={'HttpOnly': None}, rfc2109=False), Cookie(version=0, name='RecentViewGoods', value='', port=None, port_specified=False, domain='', domain_specified=False, domain_initial_dot=False, path='/', path_specified=True, secure=False, expires=None, discard=True, comment=None, comment_url=None, rest={'HttpOnly': None}, rfc2109=False), Cookie(version=0, name='RecentViewInfo', value='NotCookie%3DY%26Interval%3D5', port=None, port_specified=False, domain='', domain_specified=False, domain_initial_dot=False, path='/', path_specified=True, secure=False, expires=None, discard=True, comment=None, comment_url=None, rest={'HttpOnly': None}, rfc2109=False), Cookie(version=0, name='__utma', value='12748607.1796161516.1598450703.1598450703.1598450703.1', port=None, port_specified=False, domain='', domain_specified=False, domain_initial_dot=False, path='/', path_specified=True, secure=False, expires=None, discard=True, comment=None, comment_url=None, rest={'HttpOnly': None}, rfc2109=False), Cookie(version=0, name='__utmb', value='12748607.1.10.1598450703', port=None, port_specified=False, domain='', domain_specified=False, domain_initial_dot=False, path='/', path_specified=True, secure=False, expires=None, discard=True, comment=None, comment_url=None, rest={'HttpOnly': None}, rfc2109=False), Cookie(version=0, name='__utmc', value='12748607', port=None, port_specified=False, domain='', domain_specified=False, domain_initial_dot=False, path='/', path_specified=True, secure=False, expires=None, discard=True, comment=None, comment_url=None, rest={'HttpOnly': None}, rfc2109=False), Cookie(version=0, name='__utmt', value='1', port=None, port_specified=False, domain='', domain_specified=False, domain_initial_dot=False, path='/', path_specified=True, secure=False, expires=None, discard=True, comment=None, comment_url=None, rest={'HttpOnly': None}, rfc2109=False), Cookie(version=0, name='__utmz', value='12748607.1598450703.1.1.utmcsr=(direct)|utmccn=(direct)|utmcmd=(none)', port=None, port_specified=False, domain='', domain_specified=False, domain_initial_dot=False, path='/', path_specified=True, secure=False, expires=None, discard=True, comment=None, comment_url=None, rest={'HttpOnly': None}, rfc2109=False), Cookie(version=0, name='wcs_bt', value='s_1b6883469aa6:1598450702', port=None, port_specified=False, domain='', domain_specified=False, domain_initial_dot=False, path='/', path_specified=True, secure=False, expires=None, discard=True, comment=None, comment_url=None, rest={'HttpOnly': None}, rfc2109=False), Cookie(version=0, name='yes24_glbola_redirect', value='validationcheck=true|nation_id=south korea', port=None, port_specified=False, domain='', domain_specified=False, domain_initial_dot=False, path='/', path_specified=True, secure=False, expires=None, discard=True, comment=None, comment_url=None, rest={'HttpOnly': None}, rfc2109=False)]>"
      ]
     },
     "execution_count": 24,
     "metadata": {},
     "output_type": "execute_result"
    }
   ],
   "source": [
    "session.cookies"
   ]
  },
  {
   "cell_type": "code",
   "execution_count": 25,
   "metadata": {},
   "outputs": [
    {
     "data": {
      "text/plain": [
       "['CDwindow-7A07F209BCED597B6AC4501A6EC99680']"
      ]
     },
     "execution_count": 25,
     "metadata": {},
     "output_type": "execute_result"
    }
   ],
   "source": [
    "driver.window_handles"
   ]
  },
  {
   "cell_type": "code",
   "execution_count": 34,
   "metadata": {},
   "outputs": [
    {
     "data": {
      "text/plain": [
       "['YES NOW',\n",
       " '국내도서',\n",
       " '외국도서',\n",
       " 'eBook',\n",
       " '웹소설/코믹',\n",
       " 'CD/LP',\n",
       " 'DVD/Blu-ray',\n",
       " '영화',\n",
       " '공연',\n",
       " '문구/GIFT',\n",
       " '중고샵']"
      ]
     },
     "execution_count": 34,
     "metadata": {},
     "output_type": "execute_result"
    }
   ],
   "source": [
    "# html Traveling\n",
    "[_.find_element_by_css_selector(\"h3>a\").text\n",
    " for _ in driver.find_elements_by_css_selector(\"#mbnWrap >li\")]"
   ]
  },
  {
   "cell_type": "code",
   "execution_count": null,
   "metadata": {},
   "outputs": [],
   "source": [
    "con = sqlite3.connect(\"yes24.db\")"
   ]
  },
  {
   "cell_type": "code",
   "execution_count": null,
   "metadata": {},
   "outputs": [],
   "source": [
    "cur = con.cursor()"
   ]
  },
  {
   "cell_type": "code",
   "execution_count": 36,
   "metadata": {},
   "outputs": [
    {
     "data": {
      "text/plain": [
       "<sqlite3.Cursor at 0x262ef9a1e30>"
      ]
     },
     "execution_count": 36,
     "metadata": {},
     "output_type": "execute_result"
    }
   ],
   "source": [
    "cur.executescript(\"\"\"\n",
    "    CREATE TABLE table1(\n",
    "        id INTEGER PRIMARY KEY AUTOINCREMENT NOT NULL,\n",
    "        category TEXT NOT NULL,\n",
    "        title TEXT NOT NULL,\n",
    "        url TEXT NOT NULL\n",
    "    );\n",
    "\"\"\")"
   ]
  },
  {
   "cell_type": "code",
   "execution_count": 39,
   "metadata": {},
   "outputs": [],
   "source": [
    "driver.get('http://www.yes24.com/Mall/Main/Book/001?CategoryNumber=001')"
   ]
  },
  {
   "cell_type": "code",
   "execution_count": 63,
   "metadata": {},
   "outputs": [],
   "source": [
    "for _ in driver.find_elements_by_css_selector(\"#mCateLi >li > a> em\"):\n",
    "    if len(_.text) > 1:\n",
    "        cur.execute(\"INSERT INTO table1(category, title, url) VALUES(?,?,?)\", \n",
    "                   [_.text,\n",
    "                    driver.find_element_by_css_selector(\".subCateLi >ul> li> a\").get_attribute(\"text\"),\n",
    "                    driver.find_element_by_css_selector(\".subCateLi >ul> li> a\").get_attribute(\"href\")])\n",
    "        con.commit()"
   ]
  },
  {
   "cell_type": "code",
   "execution_count": 64,
   "metadata": {},
   "outputs": [
    {
     "data": {
      "text/plain": [
       "<sqlite3.Cursor at 0x262ef9a1e30>"
      ]
     },
     "execution_count": 64,
     "metadata": {},
     "output_type": "execute_result"
    }
   ],
   "source": [
    "cur.execute(\"SELECT * FROM table1\")"
   ]
  },
  {
   "cell_type": "code",
   "execution_count": 65,
   "metadata": {},
   "outputs": [
    {
     "data": {
      "text/plain": [
       "[(105,\n",
       "  '가정 살림',\n",
       "  '결혼/가족',\n",
       "  'http://www.yes24.com/24/Category/Display/001001001006'),\n",
       " (106,\n",
       "  '건강 취미',\n",
       "  '결혼/가족',\n",
       "  'http://www.yes24.com/24/Category/Display/001001001006'),\n",
       " (107,\n",
       "  '경제 경영',\n",
       "  '결혼/가족',\n",
       "  'http://www.yes24.com/24/Category/Display/001001001006'),\n",
       " (108,\n",
       "  '국어 외국어 사전',\n",
       "  '결혼/가족',\n",
       "  'http://www.yes24.com/24/Category/Display/001001001006'),\n",
       " (109,\n",
       "  '대학교재',\n",
       "  '결혼/가족',\n",
       "  'http://www.yes24.com/24/Category/Display/001001001006'),\n",
       " (110,\n",
       "  '만화/라이트노벨',\n",
       "  '결혼/가족',\n",
       "  'http://www.yes24.com/24/Category/Display/001001001006'),\n",
       " (111,\n",
       "  '사회 정치',\n",
       "  '결혼/가족',\n",
       "  'http://www.yes24.com/24/Category/Display/001001001006'),\n",
       " (112,\n",
       "  '소설/시/희곡',\n",
       "  '결혼/가족',\n",
       "  'http://www.yes24.com/24/Category/Display/001001001006'),\n",
       " (113,\n",
       "  '수험서 자격증',\n",
       "  '결혼/가족',\n",
       "  'http://www.yes24.com/24/Category/Display/001001001006'),\n",
       " (114,\n",
       "  '어린이',\n",
       "  '결혼/가족',\n",
       "  'http://www.yes24.com/24/Category/Display/001001001006'),\n",
       " (115,\n",
       "  '에세이',\n",
       "  '결혼/가족',\n",
       "  'http://www.yes24.com/24/Category/Display/001001001006'),\n",
       " (116, '여행', '결혼/가족', 'http://www.yes24.com/24/Category/Display/001001001006'),\n",
       " (117, '역사', '결혼/가족', 'http://www.yes24.com/24/Category/Display/001001001006'),\n",
       " (118, '예술', '결혼/가족', 'http://www.yes24.com/24/Category/Display/001001001006'),\n",
       " (119, '유아', '결혼/가족', 'http://www.yes24.com/24/Category/Display/001001001006'),\n",
       " (120, '인문', '결혼/가족', 'http://www.yes24.com/24/Category/Display/001001001006'),\n",
       " (121, '인물', '결혼/가족', 'http://www.yes24.com/24/Category/Display/001001001006'),\n",
       " (122,\n",
       "  '자기계발',\n",
       "  '결혼/가족',\n",
       "  'http://www.yes24.com/24/Category/Display/001001001006'),\n",
       " (123,\n",
       "  '자연과학',\n",
       "  '결혼/가족',\n",
       "  'http://www.yes24.com/24/Category/Display/001001001006'),\n",
       " (124, '잡지', '결혼/가족', 'http://www.yes24.com/24/Category/Display/001001001006'),\n",
       " (125, '전집', '결혼/가족', 'http://www.yes24.com/24/Category/Display/001001001006'),\n",
       " (126, '종교', '결혼/가족', 'http://www.yes24.com/24/Category/Display/001001001006'),\n",
       " (127,\n",
       "  '청소년',\n",
       "  '결혼/가족',\n",
       "  'http://www.yes24.com/24/Category/Display/001001001006'),\n",
       " (128,\n",
       "  'IT 모바일',\n",
       "  '결혼/가족',\n",
       "  'http://www.yes24.com/24/Category/Display/001001001006'),\n",
       " (129,\n",
       "  '초등참고서',\n",
       "  '결혼/가족',\n",
       "  'http://www.yes24.com/24/Category/Display/001001001006'),\n",
       " (130,\n",
       "  '중고등참고서',\n",
       "  '결혼/가족',\n",
       "  'http://www.yes24.com/24/Category/Display/001001001006')]"
      ]
     },
     "execution_count": 65,
     "metadata": {},
     "output_type": "execute_result"
    }
   ],
   "source": [
    "cur.fetchall()"
   ]
  },
  {
   "cell_type": "code",
   "execution_count": 62,
   "metadata": {},
   "outputs": [
    {
     "data": {
      "text/plain": [
       "<sqlite3.Cursor at 0x262ef9a1e30>"
      ]
     },
     "execution_count": 62,
     "metadata": {},
     "output_type": "execute_result"
    }
   ],
   "source": [
    "# table 정리\n",
    "cur.executescript(\"\"\"\n",
    "    DELETE FROM table1\n",
    "\"\"\")"
   ]
  },
  {
   "cell_type": "code",
   "execution_count": 68,
   "metadata": {},
   "outputs": [
    {
     "data": {
      "text/plain": [
       "<sqlite3.Cursor at 0x262ef9a1e30>"
      ]
     },
     "execution_count": 68,
     "metadata": {},
     "output_type": "execute_result"
    }
   ],
   "source": [
    "cur.executescript(\"\"\"\n",
    "    CREATE TABLE main_list(\n",
    "        id INTEGER PRIMARY KEY AUTOINCREMENT NOT NULL,\n",
    "        goodsurl TEXT NOT NULL,\n",
    "        goods_auth TEXT NOT NULL,\n",
    "        goods_pub TEXT NOT NULL,\n",
    "        yes_b TEXT NOT NULL,\n",
    "        goods_benefit TEXT NOT NULL,\n",
    "        goods_point TEXT NOT NULL,\n",
    "        goods_cmt TEXT NOT NULL\n",
    "    );\n",
    "\"\"\")"
   ]
  },
  {
   "cell_type": "code",
   "execution_count": 79,
   "metadata": {},
   "outputs": [
    {
     "ename": "IntegrityError",
     "evalue": "NOT NULL constraint failed: main_list.goods_pub",
     "output_type": "error",
     "traceback": [
      "\u001b[1;31m---------------------------------------------------------------------------\u001b[0m",
      "\u001b[1;31mIntegrityError\u001b[0m                            Traceback (most recent call last)",
      "\u001b[1;32m<ipython-input-79-6210e93f032d>\u001b[0m in \u001b[0;36m<module>\u001b[1;34m\u001b[0m\n\u001b[0;32m      7\u001b[0m                 \u001b[0mdriver\u001b[0m\u001b[1;33m.\u001b[0m\u001b[0mfind_element_by_css_selector\u001b[0m\u001b[1;33m(\u001b[0m\u001b[1;34m\".goods_info .goods_price > em\"\u001b[0m\u001b[1;33m)\u001b[0m\u001b[1;33m.\u001b[0m\u001b[0mget_attribute\u001b[0m\u001b[1;33m(\u001b[0m\u001b[1;34m\"text\"\u001b[0m\u001b[1;33m)\u001b[0m\u001b[1;33m,\u001b[0m\u001b[1;33m\u001b[0m\u001b[1;33m\u001b[0m\u001b[0m\n\u001b[0;32m      8\u001b[0m                 \u001b[0mdriver\u001b[0m\u001b[1;33m.\u001b[0m\u001b[0mfind_element_by_css_selector\u001b[0m\u001b[1;33m(\u001b[0m\u001b[1;34m\".goods_info .goods_point\"\u001b[0m\u001b[1;33m)\u001b[0m\u001b[1;33m.\u001b[0m\u001b[0mget_attribute\u001b[0m\u001b[1;33m(\u001b[0m\u001b[1;34m\"text\"\u001b[0m\u001b[1;33m)\u001b[0m\u001b[1;33m,\u001b[0m\u001b[1;33m\u001b[0m\u001b[1;33m\u001b[0m\u001b[0m\n\u001b[1;32m----> 9\u001b[1;33m                 driver.find_element_by_css_selector(\".goods_info .goods_cmt\").text])\n\u001b[0m\u001b[0;32m     10\u001b[0m     \u001b[0mcon\u001b[0m\u001b[1;33m.\u001b[0m\u001b[0mcommit\u001b[0m\u001b[1;33m(\u001b[0m\u001b[1;33m)\u001b[0m\u001b[1;33m\u001b[0m\u001b[1;33m\u001b[0m\u001b[0m\n",
      "\u001b[1;31mIntegrityError\u001b[0m: NOT NULL constraint failed: main_list.goods_pub"
     ]
    }
   ],
   "source": [
    "for _ in driver.find_elements_by_css_selector(\".cCont_bodyBnArea .clearfix ul >li\"):\n",
    "    cur.execute(\"INSERT INTO main_list(goodsurl,goods_auth,goods_pub,yes_b,goods_benefit,goods_point,goods_cmt) VALUES(?,?,?,?,?,?,?)\", \n",
    "               [driver.find_element_by_css_selector(\".goods_img .imgBdr > a\").get_attribute(\"href\"),\n",
    "                driver.find_element_by_css_selector(\".goods_info .goods_name > a\").get_attribute(\"text\"),\n",
    "                driver.find_element_by_css_selector(\".goods_info .goods_pubGrp .goods_auth\").get_attribute(\"text\"),\n",
    "                driver.find_element_by_css_selector(\".goods_info .goods_pubGrp .goods_pub\").get_attribute(\"text\"),\n",
    "                driver.find_element_by_css_selector(\".goods_info .goods_price > em\").get_attribute(\"text\"),\n",
    "                driver.find_element_by_css_selector(\".goods_info .goods_point\").get_attribute(\"text\"),\n",
    "                driver.find_element_by_css_selector(\".goods_info .goods_cmt\").get_attribute(\"text\")])\n",
    "    con.commit()"
   ]
  },
  {
   "cell_type": "code",
   "execution_count": null,
   "metadata": {},
   "outputs": [],
   "source": []
  },
  {
   "cell_type": "code",
   "execution_count": null,
   "metadata": {},
   "outputs": [],
   "source": []
  },
  {
   "cell_type": "code",
   "execution_count": null,
   "metadata": {},
   "outputs": [],
   "source": []
  }
 ],
 "metadata": {
  "kernelspec": {
   "display_name": "Python 3",
   "language": "python",
   "name": "python3"
  },
  "language_info": {
   "codemirror_mode": {
    "name": "ipython",
    "version": 3
   },
   "file_extension": ".py",
   "mimetype": "text/x-python",
   "name": "python",
   "nbconvert_exporter": "python",
   "pygments_lexer": "ipython3",
   "version": "3.7.4"
  }
 },
 "nbformat": 4,
 "nbformat_minor": 2
}
