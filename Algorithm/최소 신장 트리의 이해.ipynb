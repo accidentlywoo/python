{
 "cells": [
  {
   "cell_type": "markdown",
   "metadata": {},
   "source": [
    "신장 트리란?\n",
    "- Spanning Tree, 또는 신장 트리라고 불리움(Spanning Tree다 보다 자연스러워 보임)\n",
    "- 원래의 그래프의 모든 노드가 연결되어 있으면서 트리의 속성을 만족하는 그래프\n",
    "- 신장 트리의 조건\n",
    "\n",
    "-- 본래의 그래프의 모든 노드를 초함해야 함\n",
    "\n",
    "-- 모든 노드가 서로 연결\n",
    "\n",
    "-- 트리의 속성을 만족시킴 (사이클이 존재하지 않음)\n",
    "\n",
    "최소 신장 트리\n",
    "- Minimum Spanning Tree, MST 라고 불리움\n",
    "- 가능한 Spanning Tree 중에서, 간선의 가중치 합이 최소인 Spanning Tree를 지침함\n",
    "\n",
    "최소 신장 트리 알고리즘\n",
    "- 그래프에서 최소 신장 트리를 찾을 수 있는 알고리즘에 존재함\n",
    "- 대표적인 최소 신장 트리 알고리즘\n",
    "\n",
    "-- 크루스칼 알고리즘, 프림 알고리즘\n",
    "\n",
    "크루스칼 알고리즘\n",
    "1. 모든 정점을 독립적인 집합으로 만든다.\n",
    "2. 모든 간선을 비용을 기준으로 정렬하고, 비용에 작은 간선부터 양 끝의 두 정점을 비교한다.\n",
    "3. 두 정점의 최상위 정점을 확인하고, 서로 다를 경우 두 정점을 연결한다. (최소 신장 트리는 사이클이 없으므로, 사이클이 생기지 않도록 하는 것임)\n",
    "> 탐욕 알고리즘을 기초로 하고 있음(당장 눈 앞의 최소 비용을 선택해서, 결과적으로 최적의 솔루션을 찾음)"
   ]
  },
  {
   "cell_type": "markdown",
   "metadata": {},
   "source": [
    "Union Find 알고리즘\n",
    "- Disjoint Set을 표현할 때 사용하는 알고리즘으로 트리 구조를 활용하는 알고리즘\n",
    "- 간단하게, 노드들 중에 연결된 노드를 찾거나, 노드들을 서로 연결할 때(합칠 때) 사용\n",
    "- Disjoint Set = 서로소 집합 자료구조\n",
    "\n",
    "1. 초기화\n",
    "- n개의 원소가 개별 집합으로 이뤄지도록 초기화\n",
    "\n",
    "2. Union\n",
    "- 두 개별 집합을 하나의 집합으로 합짐, 두 트리를 하나의 트리로 만듬\n",
    "\n",
    "3. Find\n",
    "- 여러 노드가 존재할 때, 두 개의 노드를 선택해서, 현재 두 노드가 서로 같은 그래프에 속하는지 판별하기 위해, 각 그룹의 최상단 원소(즉, 루트 노드)를 확인"
   ]
  }
 ],
 "metadata": {
  "kernelspec": {
   "display_name": "Python 3",
   "language": "python",
   "name": "python3"
  },
  "language_info": {
   "codemirror_mode": {
    "name": "ipython",
    "version": 3
   },
   "file_extension": ".py",
   "mimetype": "text/x-python",
   "name": "python",
   "nbconvert_exporter": "python",
   "pygments_lexer": "ipython3",
   "version": "3.7.4"
  }
 },
 "nbformat": 4,
 "nbformat_minor": 2
}
