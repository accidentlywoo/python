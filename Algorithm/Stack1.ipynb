{
 "cells": [
  {
   "cell_type": "markdown",
   "metadata": {},
   "source": [
    "## Stack 1\n",
    "Stack : 프로그램에서 중요성과 활용도가 매우 높은 자료구조\n",
    "\n",
    " 1. 물건을 쌓아 올리듯 자료를 쌓아 올린 형태의 자료구조임\n",
    " 2. 스택에 저장된 자료는 선형구조를 가짐\n",
    "    - 선형구조 : 자료 간의 관계가 1대 1의 관계를 가짐\n",
    "    - 비선형구조 : 자료 간의 관계가 1대 N의 관계를 가짐(예 : 트리)\n",
    " 3. 스택에 자료를 삽입하거나 스택에서 자료를 꺼낼 수 있음\n",
    " 4. 마지막에 삽입한 자료를 가장 먼저 꺼냄\n",
    " 5. 후입선출(LIFO, Last-In-First-Out)이라고 부름\n",
    "    - 예) 스택에 1, 2, 3순으로 자료를 삽입한 후 꺼내면 역순으로, 3, 2, 1 순으로 꺼낼 수 있음\n",
    "\n",
    "### Stack의 구현\n",
    "자료구조\n",
    " 자료를 선형으로 저장할 저장소가 필요함\n",
    "     - C언어에서는 배열을 사용할 수 있음\n",
    "     - 파이썬에서는 리스트를 사용할 수 있음\n",
    "     - 저장소 자체를 스택이라 부르기도 함\n",
    "     - 스택에서 마지막 삽입된 원소의 위치를 top이라 부름\n",
    "\n",
    "연산\n",
    " - 삽입 : 저장소에 자료를 저장하고 보통 push라고 부름\n",
    " - 삭제 : 저장소에서 자료를 꺼냄 꺼낸 자료는 삽입한 자료의 역순으로 꺼냄 보통 pop이라고 부름\n",
    " - isEmpty: 스택이 공백인지 아닌지를 확인하는 연산\n",
    " - peek : 스택의 top에 있는 item(원소)을 반환하는 연산\n",
    " "
   ]
  },
  {
   "cell_type": "code",
   "execution_count": 1,
   "metadata": {},
   "outputs": [],
   "source": [
    "# push 알고리즘\n",
    "def push(item) :\n",
    "    s.append(item)    "
   ]
  },
  {
   "cell_type": "code",
   "execution_count": 2,
   "metadata": {},
   "outputs": [],
   "source": [
    "# pop 알고리즘\n",
    "def pop() :\n",
    "    if len(s) == 0 :\n",
    "        # underflow\n",
    "        return\n",
    "    else :\n",
    "        return s.pop(-1)  "
   ]
  },
  {
   "cell_type": "markdown",
   "metadata": {},
   "source": [
    "1. 스택을 구현하기\n",
    "2. 구현한 스택을 이용하여 3개의 데이터를 스택에 저장하고 다시 3번 꺼내서 출력하기\n"
   ]
  },
  {
   "cell_type": "code",
   "execution_count": 4,
   "metadata": {},
   "outputs": [],
   "source": [
    "def push(item) : \n",
    "    s.append(item)\n",
    "def pop() :\n",
    "    if len(s) == 0 :\n",
    "        print(\"Stack is Empty!!\") # underflow\n",
    "        return\n",
    "    else :\n",
    "        return s.pop(-1)\n",
    "s = []"
   ]
  },
  {
   "cell_type": "code",
   "execution_count": 10,
   "metadata": {},
   "outputs": [],
   "source": [
    "push(1)"
   ]
  },
  {
   "cell_type": "code",
   "execution_count": 11,
   "metadata": {},
   "outputs": [],
   "source": [
    "push(2)"
   ]
  },
  {
   "cell_type": "code",
   "execution_count": 12,
   "metadata": {},
   "outputs": [],
   "source": [
    "push(3)"
   ]
  },
  {
   "cell_type": "code",
   "execution_count": 13,
   "metadata": {},
   "outputs": [
    {
     "name": "stdout",
     "output_type": "stream",
     "text": [
      "pop item => 3\n",
      "pop item => 2\n",
      "pop item => 1\n"
     ]
    }
   ],
   "source": [
    "print(\"pop item =>\", pop())\n",
    "print(\"pop item =>\", pop())\n",
    "print(\"pop item =>\", pop())"
   ]
  },
  {
   "cell_type": "markdown",
   "metadata": {},
   "source": [
    "### 스택 구현 고려사항\n",
    "리스트를 사용하여 스택을 구현하는 경우\n",
    "- 장점 : 구현이 용이하다는 장점\n",
    "- 단점 : 리스트의 크기를 변경하는 작업은 내부적으로 큰 overhead 발생 작업으로 많은 시간이 소요\n",
    "\n",
    "--해결 방법-->\n",
    "- 리스트의 크기가 변동되지 않도록 배열처럼 크기를 미리 정해놓고 사용하는 방법\n",
    "- 동적 연결리스트를 이용하여 저장소를 동적으로 할당하여 스택을 구현하는 방법\n",
    "\n",
    "장점 : 구현이 용이하다.\n",
    "단점 : 리스트로 구현하는 것보다 구현이 복잡함."
   ]
  },
  {
   "cell_type": "code",
   "execution_count": null,
   "metadata": {},
   "outputs": [],
   "source": []
  }
 ],
 "metadata": {
  "kernelspec": {
   "display_name": "Python 3",
   "language": "python",
   "name": "python3"
  },
  "language_info": {
   "codemirror_mode": {
    "name": "ipython",
    "version": 3
   },
   "file_extension": ".py",
   "mimetype": "text/x-python",
   "name": "python",
   "nbconvert_exporter": "python",
   "pygments_lexer": "ipython3",
   "version": "3.7.4"
  }
 },
 "nbformat": 4,
 "nbformat_minor": 2
}
