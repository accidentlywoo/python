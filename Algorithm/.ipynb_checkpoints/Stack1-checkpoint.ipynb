{
 "cells": [
  {
   "cell_type": "markdown",
   "metadata": {},
   "source": [
    "## Stack 1\n",
    "Stack : 프로그램에서 중요성과 활용도가 매우 높은 자료구조\n",
    "\n",
    " 1. 물건을 쌓아 올리듯 자료를 쌓아 올린 형태의 자료구조임\n",
    " 2. 스택에 저장된 자료는 선형구조를 가짐\n",
    "    - 선형구조 : 자료 간의 관계가 1대 1의 관계를 가짐\n",
    "    - 비선형구조 : 자료 간의 관계가 1대 N의 관계를 가짐(예 : 트리)\n",
    " 3. 스택에 자료를 삽입하거나 스택에서 자료를 꺼낼 수 있음\n",
    " 4. 마지막에 삽입한 자료를 가장 먼저 꺼냄\n",
    " 5. 후입선출(LIFO, Last-In-First-Out)이라고 부름\n",
    "    - 예) 스택에 1, 2, 3순으로 자료를 삽입한 후 꺼내면 역순으로, 3, 2, 1 순으로 꺼낼 수 있음\n",
    "\n",
    "### Stack의 구현\n",
    "자료구조\n",
    " 자료를 선형으로 저장할 저장소가 필요함\n",
    "     - C언어에서는 배열을 사용할 수 있음\n",
    "     - 파이썬에서는 리스트를 사용할 수 있음\n",
    "     - 저장소 자체를 스택이라 부르기도 함\n",
    "     - 스택에서 마지막 삽입된 원소의 위치를 top이라 부름\n",
    "\n",
    "연산\n",
    " - 삽입 : 저장소에 자료를 저장하고 보통 push라고 부름\n",
    " - 삭제 : 저장소에서 자료를 꺼냄 꺼낸 자료는 삽입한 자료의 역순으로 꺼냄 보통 pop이라고 부름\n",
    " - isEmpty: 스택이 공백인지 아닌지를 확인하는 연산\n",
    " - peek : 스택의 top에 있는 item(원소)을 반환하는 연산\n",
    " "
   ]
  },
  {
   "cell_type": "code",
   "execution_count": 1,
   "metadata": {},
   "outputs": [],
   "source": [
    "# push 알고리즘\n",
    "def push(item) :\n",
    "    s.append(item)    "
   ]
  },
  {
   "cell_type": "code",
   "execution_count": 2,
   "metadata": {},
   "outputs": [],
   "source": [
    "# pop 알고리즘\n",
    "def pop(s) :\n",
    "    if len(s) == 0 :\n",
    "        # underflow\n",
    "        return\n",
    "    else :\n",
    "        return s.pop(-1)  "
   ]
  },
  {
   "cell_type": "markdown",
   "metadata": {},
   "source": [
    "1. 스택을 구현하기\n",
    "2. 구현한 스택을 이용하여 3개의 데이터를 스택에 저장하고 다시 3번 꺼내서 출력하기\n"
   ]
  },
  {
   "cell_type": "code",
   "execution_count": 4,
   "metadata": {},
   "outputs": [],
   "source": [
    "def push(item) : \n",
    "    s.append(item)\n",
    "def pop() :\n",
    "    if len(s) == 0 :\n",
    "        print(\"Stack is Empty!!\") # underflow\n",
    "        return\n",
    "    else :\n",
    "        return s.pop(-1)\n",
    "s = []"
   ]
  },
  {
   "cell_type": "code",
   "execution_count": 10,
   "metadata": {},
   "outputs": [],
   "source": [
    "push(1)"
   ]
  },
  {
   "cell_type": "code",
   "execution_count": 11,
   "metadata": {},
   "outputs": [],
   "source": [
    "push(2)"
   ]
  },
  {
   "cell_type": "code",
   "execution_count": 12,
   "metadata": {},
   "outputs": [],
   "source": [
    "push(3)"
   ]
  },
  {
   "cell_type": "code",
   "execution_count": 13,
   "metadata": {},
   "outputs": [
    {
     "name": "stdout",
     "output_type": "stream",
     "text": [
      "pop item => 3\n",
      "pop item => 2\n",
      "pop item => 1\n"
     ]
    }
   ],
   "source": [
    "print(\"pop item =>\", pop())\n",
    "print(\"pop item =>\", pop())\n",
    "print(\"pop item =>\", pop())"
   ]
  },
  {
   "cell_type": "markdown",
   "metadata": {},
   "source": [
    "### 스택 구현 고려사항\n",
    "리스트를 사용하여 스택을 구현하는 경우\n",
    "- 장점 : 구현이 용이하다는 장점\n",
    "- 단점 : 리스트의 크기를 변경하는 작업은 내부적으로 큰 overhead 발생 작업으로 많은 시간이 소요\n",
    "\n",
    "--해결 방법-->\n",
    "- 리스트의 크기가 변동되지 않도록 배열처럼 크기를 미리 정해놓고 사용하는 방법\n",
    "- 동적 연결리스트를 이용하여 저장소를 동적으로 할당하여 스택을 구현하는 방법\n",
    "\n",
    "장점 : 구현이 용이하다.\n",
    "단점 : 리스트로 구현하는 것보다 구현이 복잡함."
   ]
  },
  {
   "cell_type": "markdown",
   "metadata": {},
   "source": [
    "## Stack의 응용\n",
    "### 괄호검사\n",
    "괄호의 종류 : 대괄호 [], 중괄호 {}, 소괄호 ()\n",
    "\n",
    "조건 : \n",
    "    1. 왼쪽 괄호의 개수와 오른쪽 괄호의 개수가 같아야 함\n",
    "    2. 같은 괄호에서 왼쪽 괄호는 오른쪽 괄호보다 먼저 나와야 함\n",
    "    3. 괄호 사이에는 포함 관계만 존재함\n",
    "    \n",
    "ex) 스택을 이용한 괄호 검사"
   ]
  },
  {
   "cell_type": "markdown",
   "metadata": {},
   "source": [
    "```if ( ( i==0 ) && ( j==0 )```\n",
    "    \n",
    "스택에 여는 괄호를 Push하고 닫는 괄호를 Pop한다. \n",
    "괄호 수식이 끝났는데 스택에 괄호가 남아있으면 오류!\n",
    "\n",
    "### 괄호를 조사하는 알고리즘 개요\n",
    "문자열에 있는 괄호를 차례대로 조사\n",
    "\n",
    "조건 \n",
    "1. 괄호를 만나면 스택에 삽입\n",
    "2. 괄호를 만나면 스택에서 top 괄호를 삭제한 후 오른쪽 괄호와 짝이 맞는지 확인\n",
    "\n",
    "스택이 비어있음 : 조건 1 or 2에 위배\n",
    "\n",
    "괄호의 짝이 맞지 않음 : 조건 3에 위배\n",
    "\n",
    "문자열 끝까지 조사한 후에도 스택에 괄호가 남아있음 : 조건 1에 위배\n"
   ]
  },
  {
   "cell_type": "markdown",
   "metadata": {},
   "source": [
    "## 함수 호출 관리\n",
    "프로그램에서의 함수 호출과 복귀에 따른 수행 순서를 관리\n",
    "\n",
    " 1. 가장 마지막에 호출된 함수가 가장 먼저 실행을 완료하고 복귀하는 후입선출 구조이므로, 후입선출 구조의 스택을 이용하여 수행순서 관리\n",
    " \n",
    " 2. 함수 호출이 발생하면 호출한 함수 수행에 필요한 지역변수, 매개변수 및 수행 후 복귀할 주소 등의 정보를 스택 프레임에 저장하여 시스템 스택에 삽입\n",
    " \n",
    " 3. 함수의 실행이 끝나면 시스템 스택의 top 원소(스택 프레임)를 삭제(pop)하면서 프레임에 저장되어있던 복귀주소를 확인하고 복귀\n",
    " \n",
    " 4. 함수 호출과 복귀에 따라 이 과정을 반복하여 전체 프로그램 수행이 종료되면 시스템 스택은 공백 스택이 됨\n",
    " \n",
    "### 재귀 호출\n",
    "\n",
    "1. 자기 자신을 호출하여 순환 수행되는 것\n",
    "\n",
    "2. 함수에서 실행해야 하는 작업의 특성에 따라 일반적인 호출방식보다 재귀 호출 방식을 사용하여 함수를 만들면 프로그램의 크기를 줄이고 간단하게 작성할 수 있음\n",
    "\n",
    "3. 디버깅이 어렵고 잘못 작성하게 되면 수행 시간이 많이 소요됨\n",
    "\n",
    "ex) 재귀 호출을 작성할 수 있는 함수 - factorial"
   ]
  },
  {
   "cell_type": "markdown",
   "metadata": {},
   "source": [
    "> n에 대한 factorial : 1부터 n까지의 모든 자연수를 곱하여 구하는 연산\n",
    "\n",
    "n! = n x (n-1)!\n",
    "(n-1)! = (n-1) x (n-2)!\n",
    "(n-2)! = (n-2) x (n-3)!\n",
    "...\n",
    "2! = 2x1!\n",
    "1! = 1\n",
    "\n",
    "> 마지막에 구한 하위 값을 이용하여 상위 값을 구하는 작업을 반복\n",
    "\n",
    "Factorial 함수에서 n=4인 경우의 실행\n",
    "\n",
    "fact(4) = 4 x fact(3)\n",
    "\n",
    "스택 프레임으로 스택에 저장되는 값이 입력 값이 틀린 같은 함수의 스택 프레임을 저장한다는 차이점이 있음\n"
   ]
  },
  {
   "cell_type": "markdown",
   "metadata": {},
   "source": [
    "## Memoization\n",
    "ex) 재귀 호출을 작성할 수 있는 함수 - 피보나치 수열을 구하는 함수\n",
    "\n",
    "1. 0과 1로 시작하고 이전의 두 수 합을 다름 항으로 하는 수열\n",
    "\n",
    "0,1,1,2,3,5,8,13...\n",
    "\n",
    "2. 피보나치 수열의 i번째 값을 계산하는 함수 F를 정의하면 다음과 같음 \n",
    "\n",
    "F0 = 0, F1 = 1\n",
    "fi = Fi-1 + Fi-2 for i >= 2\n",
    "\n",
    "3. 위의 정으로부터 피보나치 수열의 i번째 항을 반환하는 함수를 재구함수로 구현할 수 있음"
   ]
  },
  {
   "cell_type": "code",
   "execution_count": 5,
   "metadata": {},
   "outputs": [],
   "source": [
    "# 피보나치 수열을 구하는 함수의 알고리즘\n",
    "def fibo(n) :\n",
    "    if n < 2 :\n",
    "        return n\n",
    "    else :\n",
    "        return fibo(n-1) + fibo(n-2)\n",
    "# 문제점 : 엄청난 중복호출이 존재함"
   ]
  },
  {
   "cell_type": "markdown",
   "metadata": {},
   "source": [
    " 피보나치 수열의 재귀 함수 Call Tree를 보면 중복 호출이 많다.\n",
    " \n",
    " -> fibo(1)이 여러번 실행됨\n",
    " \n",
    "이문제를 해결하기 위해서는? Memoization!\n",
    "\n",
    "### Memoization이란?\n",
    " - 컴퓨터 프로그램을 실행할 때 이전에 계산한 값을 메모리에 저장해서 매번 다시 계산하지 않도록 하여 전체적인 실행속도를 빠르게 하는 기술\n",
    " \n",
    " - DP(동적계획법)의 핵심이 되는 기술\n",
    " \n",
    "### Memoization 단어의 의미\n",
    " - 글자 그대로 해석하면 '메모리에 넣기(to put in memory)'라는 의미\n",
    " \n",
    " - '기억되어야 할 것'이라는 뜻의 라틴어 Memorandum에서 파생\n",
    " \n",
    " - 흔히 '기억하기','암기하기'라는 뜻의 Memorization과 혼동하지만, 정확한 단어는 Memoization으로 동사형은 memoize임.\n",
    " \n",
    "Memoization 방법을 적용한 알고리즘\n",
    "\n",
    " - 피보나치 수를 구하는 알고리즘에서 fibo(n)의 값을 계산하자마자 저장하면 실행시간을 줄일 수 있음.\n",
    " \n",
    " - 만약 기존에 계산하여 저장된 값이 있을 경우에는 다시 계산하지 않겠다는 알고리즘\n"
   ]
  },
  {
   "cell_type": "code",
   "execution_count": null,
   "metadata": {},
   "outputs": [],
   "source": [
    "# memo를 위한 리스트를 생성하고,\n",
    "# memo[0]을 0으로 memo[1]는 1로 초기화 한다.\n",
    "\n",
    "def fibo1(n) : \n",
    "    global memo\n",
    "    if n >= 2 and len(memo) <= n :\n",
    "        memo.append(fibo1(n-1) + fibo1(n-2))\n",
    "    return memo[n]\n",
    "\n",
    "memo = [0,1]"
   ]
  }
 ],
 "metadata": {
  "kernelspec": {
   "display_name": "Python 3",
   "language": "python",
   "name": "python3"
  },
  "language_info": {
   "codemirror_mode": {
    "name": "ipython",
    "version": 3
   },
   "file_extension": ".py",
   "mimetype": "text/x-python",
   "name": "python",
   "nbconvert_exporter": "python",
   "pygments_lexer": "ipython3",
   "version": "3.7.4"
  }
 },
 "nbformat": 4,
 "nbformat_minor": 2
}
