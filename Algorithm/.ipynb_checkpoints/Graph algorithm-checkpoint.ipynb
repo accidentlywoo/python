{
 "cells": [
  {
   "cell_type": "markdown",
   "metadata": {},
   "source": [
    "### Grapth란\n",
    "그래프는 실제 세계릐 현상이나 사물을 정점(vertex) 또는 노드(Node)와 간선(Edge)로 표현하기 위해 사용.\n",
    "\n",
    "그래프 관련 용어\n",
    "- 노드(Node) : 위치를 말함, 정점이라고도 함\n",
    "- 간선(Edge) : 위치 간의 관계를 표시한 선으로 노드를 연결한 선이라고 보면 됨(link 또는 branch라고도 함)\n",
    "- 인접 정점(Adjacent Vertex) : 간선으로 직접 연결된 정점(또는 노드)\n",
    "\n",
    "-> 위 3개가 중심\n",
    "\n",
    "추가\n",
    "\n",
    "- 정점의 차수(Degree) : 무방향 그래프에서 하나의 정점에 인접한 정점의 수\n",
    "- 진입 차수(In-Degree) : 방향 그래프에서 외부에서 오는 간선의 수\n",
    "- 진출 차수(Out-Degree) : 방향 그래프에서 외부로 향하는 간선의 수\n",
    "- 경로의 길이(Path Length)\n",
    "\n",
    "무방향 그래프 : 방향이 없는 표시 ex) (A, B)or (B, A)\n",
    "\n",
    "방향 그래프 : 방향이 있는 표시 ex) <A, B> : A -> B, <B, A> : B -> A\n",
    "\n",
    "가중치 그래프(Weighted Graph)또는 네트워크(Network)\n",
    "\n",
    "연결 그래프와 비연결 그래프\n",
    "\n",
    "사이클(Cycle)과 비순환 그래프(Acycle Graph)\n",
    "\n",
    "완전 그래프 : 모드 노드가 서로 연결됨\n"
   ]
  }
 ],
 "metadata": {
  "kernelspec": {
   "display_name": "Python 3",
   "language": "python",
   "name": "python3"
  },
  "language_info": {
   "codemirror_mode": {
    "name": "ipython",
    "version": 3
   },
   "file_extension": ".py",
   "mimetype": "text/x-python",
   "name": "python",
   "nbconvert_exporter": "python",
   "pygments_lexer": "ipython3",
   "version": "3.7.6"
  }
 },
 "nbformat": 4,
 "nbformat_minor": 4
}
