{
 "cells": [
  {
   "cell_type": "markdown",
   "metadata": {},
   "source": [
    "## 탐색 알고리즘 : 이진 탐색 (Binary Search)\n",
    "\n",
    "분할 정복 알고리즘과 이진 탐색(Divide and Conquer)\n",
    "\n",
    "- Divide : 문제를 하나 또는 둘 이상으로 나눈다.\n",
    "- Conquer : 나눠진 문제가 충분히 작고, 해결이 가능하다면 해결하고, 그렇지 않다면 다시 나눈다.\n",
    "\n",
    "이진 탐색\n",
    "- Divide : 리스트를 두 개의 서브 리스트로 나눈다.\n",
    "- Conquer :\n",
    "\n",
    "-- 검색할 숫자 (search) > 중간값 이면, 뒷 부분의 서브 리스트에서 검색할 숫자를 찾는다.\n",
    "\n",
    "-- 검색할 숫자 (search) < 중간값 이면, 앞 부분의 서브 리스트에서 검색할 숫자를 찾는다"
   ]
  },
  {
   "cell_type": "code",
   "execution_count": null,
   "metadata": {},
   "outputs": [],
   "source": []
  }
 ],
 "metadata": {
  "kernelspec": {
   "display_name": "Python 3",
   "language": "python",
   "name": "python3"
  },
  "language_info": {
   "codemirror_mode": {
    "name": "ipython",
    "version": 3
   },
   "file_extension": ".py",
   "mimetype": "text/x-python",
   "name": "python",
   "nbconvert_exporter": "python",
   "pygments_lexer": "ipython3",
   "version": "3.7.6"
  }
 },
 "nbformat": 4,
 "nbformat_minor": 4
}
