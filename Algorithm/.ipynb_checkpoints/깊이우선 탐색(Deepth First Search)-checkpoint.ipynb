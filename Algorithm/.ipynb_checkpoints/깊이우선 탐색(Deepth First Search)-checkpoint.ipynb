{
 "cells": [
  {
   "cell_type": "code",
   "execution_count": 1,
   "metadata": {},
   "outputs": [],
   "source": [
    "graph = dict()\n",
    "graph['A'] = ['B','C']\n",
    "graph['B'] = ['A','D']\n",
    "graph['C'] = ['A','G','H','I']\n",
    "graph['D'] = ['B','E','F']\n",
    "graph['E'] = ['D']\n",
    "graph['F'] = ['D']\n",
    "graph['G'] = ['C']\n",
    "graph['H'] = ['C']\n",
    "graph['I'] = ['C','J']\n",
    "graph['J'] = ['I']"
   ]
  },
  {
   "cell_type": "code",
   "execution_count": 2,
   "metadata": {},
   "outputs": [
    {
     "data": {
      "text/plain": [
       "{'A': ['B', 'C'],\n",
       " 'B': ['A', 'D'],\n",
       " 'C': ['A', 'G', 'H', 'I'],\n",
       " 'D': ['B', 'E', 'F'],\n",
       " 'E': ['D'],\n",
       " 'F': ['D'],\n",
       " 'G': ['C'],\n",
       " 'H': ['C'],\n",
       " 'I': ['C', 'J'],\n",
       " 'J': ['I']}"
      ]
     },
     "execution_count": 2,
     "metadata": {},
     "output_type": "execute_result"
    }
   ],
   "source": [
    "graph"
   ]
  },
  {
   "cell_type": "markdown",
   "metadata": {},
   "source": [
    "자료구조 스택과 큐를 활용함\n",
    "- need_visit 스택과 visited 큐, 두 개의 자료 구조를 생성\n"
   ]
  },
  {
   "cell_type": "code",
   "execution_count": 3,
   "metadata": {},
   "outputs": [],
   "source": [
    "def dfs(graph, start_node):\n",
    "    visited, need_visit = list(), list()\n",
    "    need_visit.append(start_node)\n",
    "    \n",
    "    while need_visit:\n",
    "        node = need_visit.pop()\n",
    "        if node not in visited:\n",
    "            visited.append(node)\n",
    "            need_visit.extend(graph[node])\n",
    "            \n",
    "    return visited"
   ]
  },
  {
   "cell_type": "code",
   "execution_count": 5,
   "metadata": {},
   "outputs": [
    {
     "data": {
      "text/plain": [
       "['A', 'C', 'I', 'J', 'H', 'G', 'B', 'D', 'F', 'E']"
      ]
     },
     "execution_count": 5,
     "metadata": {},
     "output_type": "execute_result"
    }
   ],
   "source": [
    "dfs(graph, 'A')"
   ]
  },
  {
   "cell_type": "markdown",
   "metadata": {},
   "source": [
    "시간복잡도 O(V+E)"
   ]
  }
 ],
 "metadata": {
  "kernelspec": {
   "display_name": "Python 3",
   "language": "python",
   "name": "python3"
  },
  "language_info": {
   "codemirror_mode": {
    "name": "ipython",
    "version": 3
   },
   "file_extension": ".py",
   "mimetype": "text/x-python",
   "name": "python",
   "nbconvert_exporter": "python",
   "pygments_lexer": "ipython3",
   "version": "3.7.6"
  }
 },
 "nbformat": 4,
 "nbformat_minor": 4
}
