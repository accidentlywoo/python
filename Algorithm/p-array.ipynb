{
 "cells": [
  {
   "cell_type": "markdown",
   "metadata": {},
   "source": [
    "## 1. 배열\n",
    "\n",
    "- 데이터를 나열하고, 각 데이터를 인덱스에 대응하도록 구성한 데이터 구조\n",
    "\n",
    "- 파이썬에서는 리스트 타입이 배열  기능을 제공하고 있음\n",
    "\n",
    "### 배열이 왜 필요할까?\n",
    "\n",
    "- 같은 종류의 데이터를 효율적으로 관리하기 위해 사용\n",
    "\n",
    "- 같은 종류의 데이터를 순차적으로 저장\n",
    "\n",
    "배열의 장점 : 빠른 접근 가능\n",
    "\n",
    "배열의 단점 : 추가 삭제가 쉽지 않음\n",
    "\n",
    "## 2. 파이썬과 C언어의 배열 예제\n"
   ]
  },
  {
   "cell_type": "markdown",
   "metadata": {},
   "source": [
    "C언어의 예제\n",
    "\n",
    "include <studio.h>\n",
    "int main(int argc, char * argv[])\n",
    "{\n",
    "    char country[3] = \"US\";\n",
    "    printf(\"%c%c\\h\", country[0], country[1]);\n",
    "    printf(\"%s\\n\", country);\n",
    "    return 0;\n",
    "}"
   ]
  },
  {
   "cell_type": "code",
   "execution_count": 8,
   "metadata": {},
   "outputs": [
    {
     "name": "stdout",
     "output_type": "stream",
     "text": [
      "US\n",
      "USA\n"
     ]
    }
   ],
   "source": [
    "# 파이썬의 예제\n",
    "country = 'US'\n",
    "print(country)\n",
    "\n",
    "country = country + 'A'\n",
    "print(country)"
   ]
  },
  {
   "cell_type": "markdown",
   "metadata": {},
   "source": [
    "## 3. 파이썬과 배열\n",
    "\n",
    "- 파이썬 리스트 활용"
   ]
  },
  {
   "cell_type": "code",
   "execution_count": 9,
   "metadata": {},
   "outputs": [
    {
     "name": "stdout",
     "output_type": "stream",
     "text": [
      "[1, 2, 3, 4, 5]\n"
     ]
    }
   ],
   "source": [
    "# 1차원 배열 : 리스트로 구현시\n",
    "data = [1,2,3,4,5]\n",
    "print(data)"
   ]
  },
  {
   "cell_type": "code",
   "execution_count": 11,
   "metadata": {},
   "outputs": [
    {
     "data": {
      "text/plain": [
       "[[1, 2, 3], [4, 5, 6], [7, 8, 9]]"
      ]
     },
     "execution_count": 11,
     "metadata": {},
     "output_type": "execute_result"
    }
   ],
   "source": [
    "# 2차원 배열 : 리스트로 구현시\n",
    "data = [[1,2,3],[4,5,6],[7,8,9]]\n",
    "data"
   ]
  },
  {
   "cell_type": "code",
   "execution_count": 13,
   "metadata": {},
   "outputs": [
    {
     "name": "stdout",
     "output_type": "stream",
     "text": [
      "[[1, 2, 3], [4, 5, 6], [7, 8, 9]]\n"
     ]
    }
   ],
   "source": [
    "print(data)"
   ]
  },
  {
   "cell_type": "code",
   "execution_count": 15,
   "metadata": {},
   "outputs": [
    {
     "name": "stdout",
     "output_type": "stream",
     "text": [
      "[1, 2, 3]\n"
     ]
    }
   ],
   "source": [
    "print(data[0])"
   ]
  },
  {
   "cell_type": "code",
   "execution_count": null,
   "metadata": {},
   "outputs": [],
   "source": [
    "print(data[0][0])"
   ]
  },
  {
   "cell_type": "markdown",
   "metadata": {},
   "source": [
    "## 3. 프로그래밍 연습\n",
    "\n",
    "위의 2차원 배열에서 9,8,7 순서로 출력해보기"
   ]
  },
  {
   "cell_type": "code",
   "execution_count": 17,
   "metadata": {},
   "outputs": [
    {
     "data": {
      "text/plain": [
       "9"
      ]
     },
     "execution_count": 17,
     "metadata": {},
     "output_type": "execute_result"
    }
   ],
   "source": [
    "data[2][2]"
   ]
  },
  {
   "cell_type": "code",
   "execution_count": 18,
   "metadata": {},
   "outputs": [
    {
     "data": {
      "text/plain": [
       "8"
      ]
     },
     "execution_count": 18,
     "metadata": {},
     "output_type": "execute_result"
    }
   ],
   "source": [
    "data[2][1]"
   ]
  },
  {
   "cell_type": "code",
   "execution_count": 19,
   "metadata": {},
   "outputs": [
    {
     "data": {
      "text/plain": [
       "7"
      ]
     },
     "execution_count": 19,
     "metadata": {},
     "output_type": "execute_result"
    }
   ],
   "source": [
    "data[2][0]"
   ]
  },
  {
   "cell_type": "markdown",
   "metadata": {},
   "source": [
    "연습 2: 다음 dataset에서 전체 이름 안에 M이 몇번 나왔는지 빈도수 출력하기"
   ]
  },
  {
   "cell_type": "code",
   "execution_count": 23,
   "metadata": {},
   "outputs": [],
   "source": [
    "dataset = ['Braund, Mr. Owen Harris',\n",
    "    'Cumings, Mrs. John Bradley (Florence Briggs Thayer)',\n",
    "    'Heikkinen, Miss. Laina',\n",
    "    'Futrelle, Mrs. Jacques Heath (Lily May Peel)',\n",
    "    'Allen, Mr. William Henry',\n",
    "    'Moran, Mr. James',\n",
    "    'McCarthy, Mr. Timothy J',\n",
    "    'Palsson, Master. Gosta Leonard',\n",
    "    'Johnson, Mrs. Oscar W (Elisabeth Vilhelmina Berg)',\n",
    "    'Nasser, Mrs. Nicholas (Adele Achem)',\n",
    "    'Sandstrom, Miss. Marguerite Rut',\n",
    "    'Bonnell, Miss. Elizabeth',\n",
    "    'Saundercock, Mr. William Henry',\n",
    "    'Andersson, Mr. Anders Johan',\n",
    "    'Vestrom, Miss. Hulda Amanda Adolfina',\n",
    "    'Hewlett, Mrs. (Mary D Kingcome) ',\n",
    "    'Rice, Master. Eugene',\n",
    "    'Williams, Mr. Charles Eugene',\n",
    "    'Vander Planke, Mrs. Julius (Emelia Maria Vandemoortele)',\n",
    "    'Masselmani, Mrs. Fatima',\n",
    "    'Fynney, Mr. Joseph J',\n",
    "    'Beesley, Mr. Lawrence',\n",
    "    'McGowan, Miss. Anna \"Annie\"',\n",
    "    'Sloper, Mr. William Thompson',\n",
    "    'Palsson, Miss. Torborg Danira',\n",
    "    'Asplund, Mrs. Carl Oscar (Selma Augusta Emilia Johansson)',\n",
    "    'Emir, Mr. Farred Chehab',\n",
    "    'Fortune, Mr. Charles Alexander',\n",
    "    'Dwyer, Miss. Ellen \"Nellie\"',\n",
    "    'Todoroff, Mr. Lalio'\n",
    "   ]"
   ]
  },
  {
   "cell_type": "code",
   "execution_count": 26,
   "metadata": {},
   "outputs": [
    {
     "name": "stdout",
     "output_type": "stream",
     "text": [
      "Braund, Mr. Owen Harris\n",
      "Cumings, Mrs. John Bradley (Florence Briggs Thayer)\n",
      "Heikkinen, Miss. Laina\n",
      "Futrelle, Mrs. Jacques Heath (Lily May Peel)\n",
      "Allen, Mr. William Henry\n",
      "Moran, Mr. James\n",
      "McCarthy, Mr. Timothy J\n",
      "Palsson, Master. Gosta Leonard\n",
      "Johnson, Mrs. Oscar W (Elisabeth Vilhelmina Berg)\n",
      "Nasser, Mrs. Nicholas (Adele Achem)\n",
      "Sandstrom, Miss. Marguerite Rut\n",
      "Bonnell, Miss. Elizabeth\n",
      "Saundercock, Mr. William Henry\n",
      "Andersson, Mr. Anders Johan\n",
      "Vestrom, Miss. Hulda Amanda Adolfina\n",
      "Hewlett, Mrs. (Mary D Kingcome) \n",
      "Rice, Master. Eugene\n",
      "Williams, Mr. Charles Eugene\n",
      "Vander Planke, Mrs. Julius (Emelia Maria Vandemoortele)\n",
      "Masselmani, Mrs. Fatima\n",
      "Fynney, Mr. Joseph J\n",
      "Beesley, Mr. Lawrence\n",
      "McGowan, Miss. Anna \"Annie\"\n",
      "Sloper, Mr. William Thompson\n",
      "Palsson, Miss. Torborg Danira\n",
      "Asplund, Mrs. Carl Oscar (Selma Augusta Emilia Johansson)\n",
      "Emir, Mr. Farred Chehab\n",
      "Fortune, Mr. Charles Alexander\n",
      "Dwyer, Miss. Ellen \"Nellie\"\n",
      "Todoroff, Mr. Lalio\n"
     ]
    }
   ],
   "source": [
    "rn_count = 0\n",
    "\n",
    "for data in dataset :\n",
    "    print(data)"
   ]
  },
  {
   "cell_type": "code",
   "execution_count": 31,
   "metadata": {},
   "outputs": [],
   "source": [
    "for data in dataset :\n",
    "    for index in range(len(data)):\n",
    "        if(data[index] == 'M') : \n",
    "            rn_count += 1"
   ]
  },
  {
   "cell_type": "code",
   "execution_count": 32,
   "metadata": {},
   "outputs": [
    {
     "name": "stdout",
     "output_type": "stream",
     "text": [
      "38\n"
     ]
    }
   ],
   "source": [
    "print(rn_count)"
   ]
  },
  {
   "cell_type": "markdown",
   "metadata": {},
   "source": [
    "연결된 데이터 공간에 데이터를 넣는 것이 인덱스\n",
    "\n",
    "첫번째 데이터의 위치만 알고있으면 뒤에있는 데이터위치를 알 수 있다."
   ]
  },
  {
   "cell_type": "code",
   "execution_count": null,
   "metadata": {},
   "outputs": [],
   "source": []
  },
  {
   "cell_type": "code",
   "execution_count": null,
   "metadata": {},
   "outputs": [],
   "source": []
  },
  {
   "cell_type": "code",
   "execution_count": null,
   "metadata": {},
   "outputs": [],
   "source": []
  }
 ],
 "metadata": {
  "kernelspec": {
   "display_name": "Python 3",
   "language": "python",
   "name": "python3"
  },
  "language_info": {
   "codemirror_mode": {
    "name": "ipython",
    "version": 3
   },
   "file_extension": ".py",
   "mimetype": "text/x-python",
   "name": "python",
   "nbconvert_exporter": "python",
   "pygments_lexer": "ipython3",
   "version": "3.7.4"
  }
 },
 "nbformat": 4,
 "nbformat_minor": 2
}
