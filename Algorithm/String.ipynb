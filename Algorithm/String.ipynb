{
 "cells": [
  {
   "cell_type": "markdown",
   "metadata": {},
   "source": [
    "## String\n",
    "컴퓨터에서의 문자표현\n",
    "\n",
    "글자 A를 메모리에 저장하는 방법\n",
    "1. 메모리는 숫자만을 저장할 수 있기 때문에 A라는 글자의 모양 그대로 비트맵으로 저장하는 방법을 사용하지 않는 한 각 문자에 대해서 대응되는 숫자를 정해 놓고 이것을 메모리에 저장하는 방법이 사용될 것\n",
    "2. 코드 체계\n",
    "- 영어가 대소문자 합쳐서 52이므로 6(64가지)비트면 모두 표현할 수 있음.\n",
    "ex) 000000 -> 'a' 000001 -> 'b'"
   ]
  },
  {
   "cell_type": "markdown",
   "metadata": {},
   "source": [
    "### 1. 문자표현\n",
    "네트워크가 발전되기 전 미국의 각 지역별로 코드체계를 정해놓고 사용했지만, 네트워크(인터넷: 인터넷은 미국에서 발전)가 발전하면서 서로 간의 정보를 주고 받을 때 정보를 달리 해석한다는 문제가 생기게 됨\n",
    "\n",
    "ASCII(American Standard Code Information Interchange)\n",
    "\n",
    "아스키(ASCII)\n",
    "- 문자 인코딩 표준\n",
    "- 7bit 인코딩으로 128문자를 표현하며 33개의 풀력 불가능한 제어 문자들과 공백을 비롯한 95개의 출력 가능한 문자들로 이루어져 있음\n",
    "0~127\n",
    "\n",
    "확장 아스키\n",
    "- 표준 문자 이외의 악센트 문자, 도형 문자, 특수 문자, 특수 기호 등 부가적인 문자를 128개 추가할 수 있게 하는 부호\n",
    "- 1Byte 내의 8Bit를 모두 사용함으로써 추가적인 문자를 표현할 수 있음\n",
    "- 컴퓨터 생산자와 소프트웨어 개발자에게 할당된 확장 부호는 표준 아스키와 다르게 서로 다른 프로그램이나 컴퓨터 사이에 교환되지 못함\n",
    "- 프로그램이나 컴퓨터/프린터가 그것을 해독할 수 있도록 설계되어 있어야만 올바로 해독될 수 있음\n",
    "128~255 추가\n",
    "\n",
    "유니코드 : 다국어 처리를 위한 표준\n",
    "- 대부분의 컴퓨터는 문자를 읽고 쓰는데, 아스키 코드 형식을 사용\n",
    "- 컴퓨터가 발전하면서 각 국가들은 자국의 문자를 표현하기 위하여 코드체계를 만들어서 사용\n",
    "- 우리나라도 한글 코드체계를 만들어 사용했고, 조합형, 완성형 두 종류를 가지고 있었음\n",
    "\n",
    "->\n",
    "\n",
    "- 인터넷이 전 세계로 발전하면서 아스키를 만들었을 때와 같은 문제가 국가 간에 정보를 주고 받을 때 발생\n",
    "- 자국의 코드체계를 타 국가가 가지고 있지 않으면 정보르 잘봇 해석할 수 밖에 없음\n",
    "- 다국어 처리를 위해 표준을 마련함\n",
    "\n",
    "-> 유니코드\n",
    "\n",
    "유니코드도 Character set으로 나뉜다.\n",
    "\n",
    "Character Set\n",
    "- UCS-2(Universal Character Set 2),\n",
    "- UCS-4(Universal Character Set 4)\n",
    "- 유니코드를 저장하는 변수의 크기를 정의\n",
    "- 파일을 인식 시 이 파일리 UCS-2,UCS-4인지 인식하고 각 경우를 구분해서 모두 다르게 구현해야 하는 문제를 발생\n",
    "-> 외부 인코딩이 필요\n",
    "\n",
    "유니코드의 바이트 순서를 정의하는 인코딩\n",
    "-> 유니코드 인코딩(UTF)\n",
    "- 유니코드 인코딩(UTF:Unicode Transformation Format)\n",
    "- UTF-8(in web), MIN : 8bit, MAX : 32bit(1 Byte * 4)\n",
    "- UTF-16(in windows, Java), MIN : 16bit, MAX : 32bit(2Byte * 2)\n",
    "- UTF-32(in unix), MIN : 32bit, MAX : 32bit(4 Byte * 1)\n"
   ]
  },
  {
   "cell_type": "markdown",
   "metadata": {},
   "source": [
    "파이썬 인코딩\n",
    "- 2.x 버전 - ASCII -> #-*-coding:utf-8 -*-\n",
    "- 3.x 버전 - 유니코드 UTF-8 -> 생략 가능\n",
    "\n",
    "다른 인코딩 방식으로 처리 시 첫 줄에 작성하는 위 항목에 원하는 인코딩 방식을 지정해주면 됨\n",
    "\n",
    "### 문자열의 분류\n",
    "문자열의 분류\n",
    "\n",
    "문자열(String)\n",
    "- Fixed length\n",
    "\n",
    "- Variable length\n",
    "- - Length controlled : Java 언어에서의 문자열\n",
    "- - Delimited : C언어에서의 문자열\n",
    "\n",
    "ex) Java에서 String 클래스에 대한 메모리 배치\n",
    "- Java.lang.String 클래스에는 기본적인 객체 메타 데이터 외에도 네 가지 필드들이 포함되어 있음\n",
    "- hash값(hash), String의 길이(count), String 데이터의 시작점(offset), 실제 String 배열에 대한 참조(value)\n",
    "- Java에서는 String이 String의 길이를 관리하는 가변 길이 구조를 가짐\n",
    "\n",
    "\n",
    "Java.lang.String\n",
    "[Class pointer, Flags, Locks, hash, count, offset, value]\n",
    "\n",
    "char[]\n",
    "[Class pointer, Flags, Locks, size, char, char,char]\n",
    "\n",
    "### C vs Java vs Python 문자열 처리 알아보기\n",
    "C언어에서 문자열 처리 : 문자들의 배열 형태로 구현된 응용 자료형\n",
    "- 문자배열에 문자열을 저장할 때는 항상 마지막에 끝을 표시하는 널 문자('\\0')를 넣어줘야 함\n",
    "ex) char ary[] = {'a','b','c','\\0'};//\n",
    "또는 char ary[] = \"abc\";\n",
    "\n",
    "- 문자열 처리에 필요한 연산을 함수 형태로 제공\n",
    "ex) strlen(), strcpy(), strcmp(),...\n",
    "\n",
    "Java에서의 문자열 처리 : 문자열 데이터를 저장, 처리해주는 클래스를 제공\n",
    "- String 클래스를 사용\n",
    "ex) String str = \"abc\";\n",
    "또는 String str = new String(\"abc\");\n",
    "\n",
    "- 문자열 처리에 필요한 연산을 연산자, 메소드 형태로 제공\n",
    "ex) +, length(), replace(), split(), substring()등\n",
    "풍부한 연산을 제공\n",
    "\n",
    "파이썬에서의 문자열 처리 : char 타입은 없으며, 텍스트 데이터 취급방법이 통일되어 있음\n",
    "\n",
    "- 문자열 기호\n",
    "'(홑따옴표)\n",
    "\"(쌍따)\n",
    "'''(홑따 3개)\n",
    "\"\"\"(쌍따 3개)\n",
    "\n",
    "-> 로우표현법을 사용할 수 있기에 전체적인 사용방법은 8가지 방법이 존재함\n",
    "\n",
    "- 문자열 기호\n",
    "+연결(Concatenation)\n",
    "-> 문자열 + 문자열 : 이어 붙여주는 역할\n",
    "*반복\n",
    "-> 문자열 * 수 : 수 만큼 문자열이 반복\n",
    "\n",
    "- 문자열은 시퀀스 자료형으로 분류되고, 시퀀스 자료형에서 사용할 수 있는 인덱싱, 슬라이싱 연산들을 사용할 수 있음\n",
    "\n",
    "문자열 클래스에서 제공되는 메소드 : replace(), split(), isalpha(), find()\n",
    "\n",
    "- 문자열은 튜플과 같이 요소값을 변경 할 수 없음(immutable)\n",
    "\n",
    "\n",
    "\n"
   ]
  },
  {
   "cell_type": "markdown",
   "metadata": {},
   "source": [
    "C : 아스키 코드로 저장"
   ]
  },
  {
   "cell_type": "code",
   "execution_count": null,
   "metadata": {},
   "outputs": [],
   "source": [
    "char*name=\"홍길동\";\n",
    "int count = strlen(name);\n",
    "printf(\"%d\",count);\n",
    "\n",
    "# 6"
   ]
  },
  {
   "cell_type": "markdown",
   "metadata": {},
   "source": [
    "Java : 유니코드(UTF16, 2byte)로 저장"
   ]
  },
  {
   "cell_type": "markdown",
   "metadata": {},
   "source": [
    "문자열을 복사하는 알고리즘\n",
    "1. 소스로부터 한 글자씩 읽어서 타깃에 한 글자씩 복사\n",
    "2. 문자열의 끝까지 반복 후 타깃에 문자열 끝('\\0')을 표시함"
   ]
  },
  {
   "cell_type": "code",
   "execution_count": null,
   "metadata": {},
   "outputs": [],
   "source": [
    "void user_strcpy(char*des, char*src)\n",
    "{\n",
    "    while(*src!='\\0'){\n",
    "        *des = *src;\n",
    "        src++;\n",
    "        des++;\n",
    "    }\n",
    "    *des='\\0'\n",
    "}"
   ]
  },
  {
   "cell_type": "markdown",
   "metadata": {},
   "source": [
    "문자열을 역순으로 바꾸는 뒤집기의 경우\n",
    "1. 자기 문자열에서 뒤집는 방법과 새로운 빈 문자열을 만들어 소스의 뒤에서부터 읽어서 타깃에 쓰는 방법\n",
    "2. 자기 문자열을 이용할 경우는 swap을 위한 임시 변수가 필요하며 반복 수행을 문자열 길이의 반만을 수행해야 함\n",
    "\n",
    "ex) String 길이 : 9\n",
    "9/2 = 4.5 \n",
    "4회 반복"
   ]
  },
  {
   "cell_type": "code",
   "execution_count": null,
   "metadata": {},
   "outputs": [],
   "source": [
    "String name = \"홍길동\";\n",
    "System.out.println(name.length());\n",
    "\n",
    "# 3"
   ]
  },
  {
   "cell_type": "markdown",
   "metadata": {},
   "source": [
    "Python : 유니코드(UTF8)로 저장"
   ]
  },
  {
   "cell_type": "code",
   "execution_count": 3,
   "metadata": {},
   "outputs": [
    {
     "name": "stdout",
     "output_type": "stream",
     "text": [
      "3\n"
     ]
    }
   ],
   "source": [
    "name = \"홍길동\"\n",
    "print(len(name))"
   ]
  },
  {
   "cell_type": "markdown",
   "metadata": {},
   "source": [
    "문자열의 비교\n",
    "1. c strcmp() 함수를 제공\n",
    "2. java에서는 equals() 메소드를 제공\n",
    "- 문자열 비교에서 == 연산은 메모리 참조가 같은지를 묻는 것\n",
    "3. 파이썬에서는 연산자와 is 연산자를 제공\n",
    "- == 연산자는 내부적으로 특수메소드 __eq__()를 호출"
   ]
  },
  {
   "cell_type": "code",
   "execution_count": null,
   "metadata": {},
   "outputs": [],
   "source": [
    "# C\n",
    "int my_strcmp(const char*str1, const char*str2)\n",
    "{\n",
    "    int i=0, j=0;\n",
    "    while(str1[i]!='\\0')\n",
    "    {\n",
    "        if(str1[i++]!=str2[j++])\n",
    "            break;\n",
    "    }\n",
    "    return (str1[i]-str2[j]);\n",
    "}"
   ]
  },
  {
   "cell_type": "markdown",
   "metadata": {},
   "source": [
    "### 문자열 숫자를 점수로 변환하기\n",
    "문자열로 된 숫자를 정수로 변환하는 방법\n",
    "\n",
    "1. 문자열로 이루어진 숫자를 그대로 사용하면 예상과 다른 결과값을 출력\n",
    "2. 문자열을 정수로 변환하는 기능이 필요\n",
    "- C언어에서는 atoi()함수를 제공\n",
    "역함수로는 itoa()가 있음\n",
    "\n"
   ]
  },
  {
   "cell_type": "code",
   "execution_count": null,
   "metadata": {},
   "outputs": [],
   "source": [
    "# C로 구현한 atoi() 함수\n",
    "int atoi(const char*string)\n",
    "{\n",
    "    int value = 0, digit, c;\n",
    "    while((c=*string++)!='\\0'){\n",
    "        if(c>='0'&&c<='9')\n",
    "            digit = c-'0';\n",
    "        else\n",
    "            break;\n",
    "        value = (value*10)+digit;\n",
    "    }\n",
    "    return value;\n",
    "}"
   ]
  },
  {
   "cell_type": "markdown",
   "metadata": {},
   "source": [
    "Java에서는 숫자 클래스의 parse 메소드를 제공함\n",
    "- ex) Integer.parseInt(String)\n",
    "- 역함수로는 toString() 메소드를 제공함\n",
    "\n",
    "Python에서는 숫자와 문자변환 함수를 제공함\n",
    "- ex) int(\"123\"),float(\"3.14\"),str(123),repr(123)"
   ]
  },
  {
   "cell_type": "markdown",
   "metadata": {},
   "source": [
    "## Pattern Matching\n",
    "ex) 문자열 내에서 '1, 2'라는 문자열을 'one, two'라는 문자열로 변경하는 경우\n",
    "\n",
    "### 패턴 매칭 알고리즘\n",
    "패턴 매칭 : 본문에서 특정한 문자열 찾는 것\n",
    "\n",
    " 1. 고지식한 패턴 검색 알고리즘\n",
    " 2. KMP 알고리즘\n",
    " 3. 보이어-무어 알고리즘\n",
    " \n",
    "1. 고지식한 패턴 알고리즘(Brute Force)\n",
    "본문 문자열을 처음부터 끝까지 차례대로 순회하면서 패턴 내의 문자들을 일일이 비교하는 방식으로 동작\n",
    "\n",
    "```\n",
    "p = \"is\" # 찾을 패턴\n",
    "t = \"This is a book~!\" # 전체 텍스트\n",
    "M = len(p) # 찾을 패턴의 길이\n",
    "N = len(t) # 전체 텍스트의 길이\n",
    "```\n",
    "\n",
    "```\n",
    "def BruteForce(p, t) :\n",
    "    i = 0 # t의 인덱스\n",
    "    j = 0 # p의 인덱스\n",
    "    while j < M and i < N :\n",
    "        if t[i] != p[j] :\n",
    "            i = i - j\n",
    "            j = -1\n",
    "        i = i + 1\n",
    "        j = j + 1\n",
    "    if j == M : return i - M # 검색 성공\n",
    "    else : return -1 # 검색 실패\n",
    "```\n",
    "\n",
    "고지식한 패턴 검색 알고리즘의 시간 복잡도\n",
    "- 최악의 경우 복잡도는 텍스트의 모든 위치에서 패턴을 비교해야 하므로 O(MN)이 됨\n",
    "- 길이가 10000인 String에서 길이 80의 패턴을 찾는다고 할 때, 최악의 경우 약 10,000*80 = 800,000번의 비교가 일어남\n",
    "- 비교횟수를 줄일 수 있는 방법 필요\n",
    "\n",
    "2. KMP 알고리즘\n",
    "불일치가 발생한 텍스트 문자열의 앞 부분에 어떤 문자가 있는지를 미리 알고 있으므로, 불일치가 발생한 앞 부분에 대하여 다시 비교하지 않고 매칭을 수행.\n",
    "  1. 패턴을 전처리하여 배열 next[M]을 구해서 잘못된 시작을 최소화함\n",
    "  - next[M] : 불일치가 발생했을 경우 이동할 다음 위치\n",
    "  \n",
    "  2. 시간 복잡도\n",
    "  - O(M+N)\n",
    "  \n",
    "ex) 아이디어 설명\n",
    "- 텍스트에서 abcdabc까지는 매치되고, e에서 실패한 상황 패턴의 맨 앞의 abc와 실패 직전의 abc는 동일함을 이용할 수 있음\n",
    "- 실패한 텍스트 문자와 P[4]를 비교\n",
    "\n",
    "3. 보이어-무어 알고리즘\n",
    "- 오른쪽에서 왼쪽으로 비교, 대부분의 상용 소프트웨어에서 채택하고 있는 알고리즘\n",
    "- 패턴에 오른쪽 끝에 있는 문자가 불일치하고, 이 문자가 패턴 내에 존재하지 않는 경우, 이동거리는 패턴의 길이 만큼이 됨\n",
    "\n",
    "### 문자열 매칭 알고리즘 비교\n",
    "찾고자 하는 문자열 패턴의 길이 m, 총 문자열 길이 n\n",
    "\n",
    "- 고지식한 패턴 검색 알고리즘 : 수행시간 O(mn)\n",
    "- 카프-라빈 알고리즘 : 수행시간 O(n)\n",
    "- KMP 알고리즘 : 수행시간 O(n)\n",
    "- 보이어-무어 알고리즘 : 수행시간 O(n)보다 적음\n",
    "    - 텍스트를 모두 보지 않아도 검색 가능\n",
    "    - 발상의 전환 : 패턴의 오른쪽부터 비교\n",
    "    - 최악의 경우 수행시간 : O(mn)\n",
    "    \n",
    "\n"
   ]
  },
  {
   "cell_type": "code",
   "execution_count": null,
   "metadata": {},
   "outputs": [],
   "source": []
  }
 ],
 "metadata": {
  "kernelspec": {
   "display_name": "Python 3",
   "language": "python",
   "name": "python3"
  },
  "language_info": {
   "codemirror_mode": {
    "name": "ipython",
    "version": 3
   },
   "file_extension": ".py",
   "mimetype": "text/x-python",
   "name": "python",
   "nbconvert_exporter": "python",
   "pygments_lexer": "ipython3",
   "version": "3.7.3"
  }
 },
 "nbformat": 4,
 "nbformat_minor": 2
}
