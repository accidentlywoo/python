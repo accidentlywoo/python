{
 "cells": [
  {
   "cell_type": "markdown",
   "metadata": {},
   "source": [
    "## 2차원 List\n",
    "### 2차원 List 구조\n",
    "1. 1차원 List를 묶어놓은 List\n",
    "2. 2차원 이상의 다차원 List는 차원에 따라 Index를 선언\n",
    "3. 2차원 List의 선언 : 세로길이(행의 개수), 가로길이(열의 개수)를 필요로 함\n",
    "\n",
    "2행 4열의 2차원 List\n",
    "arr = [[0,1,2,3],[4,5,6,7]]\n",
    "\n",
    "파이썬에서는 데이터 초기화를 통해 변수선언과 초기화가 가능함\n",
    "\n",
    "### List초기화"
   ]
  },
  {
   "cell_type": "code",
   "execution_count": 1,
   "metadata": {},
   "outputs": [],
   "source": [
    "arr = [0,0,0,0,0]\n",
    "arr = [0] * 5 # [0,0,0,0,0]\n",
    "arr = [i for i in range(2,9) if i%2 == 0] #[2,4,6,8]\n",
    "# ---- sequence 자료형도 사용할 수 있는 문법\n",
    "\n",
    "brr = [[1,2,3],[1,2,3],[1,2,3]]\n",
    "brr = [[1,2,3]] * 3 # [[1,2,3],[1,2,3],[1,2,3]]\n",
    "brr = [[1,2,3] for i in range(3)] # [[1,2,3],[1,2,3],[1,2,3]]\n",
    "brr = [[i,j] for i in range(3) for j in range(2)]\n",
    "# [[0,0],[0,1],[1,0],[1,1],[2,0],[2,1]]\n"
   ]
  },
  {
   "cell_type": "markdown",
   "metadata": {},
   "source": [
    "### 2차원 List입력 받기\n",
    "첫째 줄에 n행 m열\n",
    "둘째 줄부터 n*m의 행열 데이터가 주어질 경우 입력을 받는 방법\n"
   ]
  },
  {
   "cell_type": "code",
   "execution_count": 2,
   "metadata": {},
   "outputs": [
    {
     "ename": "KeyboardInterrupt",
     "evalue": "",
     "output_type": "error",
     "traceback": [
      "\u001b[0;31m---------------------------------------------------------------------------\u001b[0m",
      "\u001b[0;31mKeyboardInterrupt\u001b[0m                         Traceback (most recent call last)",
      "\u001b[0;32m~/anaconda3/lib/python3.7/site-packages/ipykernel/kernelbase.py\u001b[0m in \u001b[0;36m_input_request\u001b[0;34m(self, prompt, ident, parent, password)\u001b[0m\n\u001b[1;32m    884\u001b[0m             \u001b[0;32mtry\u001b[0m\u001b[0;34m:\u001b[0m\u001b[0;34m\u001b[0m\u001b[0;34m\u001b[0m\u001b[0m\n\u001b[0;32m--> 885\u001b[0;31m                 \u001b[0mident\u001b[0m\u001b[0;34m,\u001b[0m \u001b[0mreply\u001b[0m \u001b[0;34m=\u001b[0m \u001b[0mself\u001b[0m\u001b[0;34m.\u001b[0m\u001b[0msession\u001b[0m\u001b[0;34m.\u001b[0m\u001b[0mrecv\u001b[0m\u001b[0;34m(\u001b[0m\u001b[0mself\u001b[0m\u001b[0;34m.\u001b[0m\u001b[0mstdin_socket\u001b[0m\u001b[0;34m,\u001b[0m \u001b[0;36m0\u001b[0m\u001b[0;34m)\u001b[0m\u001b[0;34m\u001b[0m\u001b[0;34m\u001b[0m\u001b[0m\n\u001b[0m\u001b[1;32m    886\u001b[0m             \u001b[0;32mexcept\u001b[0m \u001b[0mException\u001b[0m\u001b[0;34m:\u001b[0m\u001b[0;34m\u001b[0m\u001b[0;34m\u001b[0m\u001b[0m\n",
      "\u001b[0;32m~/anaconda3/lib/python3.7/site-packages/jupyter_client/session.py\u001b[0m in \u001b[0;36mrecv\u001b[0;34m(self, socket, mode, content, copy)\u001b[0m\n\u001b[1;32m    802\u001b[0m         \u001b[0;32mtry\u001b[0m\u001b[0;34m:\u001b[0m\u001b[0;34m\u001b[0m\u001b[0;34m\u001b[0m\u001b[0m\n\u001b[0;32m--> 803\u001b[0;31m             \u001b[0mmsg_list\u001b[0m \u001b[0;34m=\u001b[0m \u001b[0msocket\u001b[0m\u001b[0;34m.\u001b[0m\u001b[0mrecv_multipart\u001b[0m\u001b[0;34m(\u001b[0m\u001b[0mmode\u001b[0m\u001b[0;34m,\u001b[0m \u001b[0mcopy\u001b[0m\u001b[0;34m=\u001b[0m\u001b[0mcopy\u001b[0m\u001b[0;34m)\u001b[0m\u001b[0;34m\u001b[0m\u001b[0;34m\u001b[0m\u001b[0m\n\u001b[0m\u001b[1;32m    804\u001b[0m         \u001b[0;32mexcept\u001b[0m \u001b[0mzmq\u001b[0m\u001b[0;34m.\u001b[0m\u001b[0mZMQError\u001b[0m \u001b[0;32mas\u001b[0m \u001b[0me\u001b[0m\u001b[0;34m:\u001b[0m\u001b[0;34m\u001b[0m\u001b[0;34m\u001b[0m\u001b[0m\n",
      "\u001b[0;32m~/anaconda3/lib/python3.7/site-packages/zmq/sugar/socket.py\u001b[0m in \u001b[0;36mrecv_multipart\u001b[0;34m(self, flags, copy, track)\u001b[0m\n\u001b[1;32m    469\u001b[0m         \"\"\"\n\u001b[0;32m--> 470\u001b[0;31m         \u001b[0mparts\u001b[0m \u001b[0;34m=\u001b[0m \u001b[0;34m[\u001b[0m\u001b[0mself\u001b[0m\u001b[0;34m.\u001b[0m\u001b[0mrecv\u001b[0m\u001b[0;34m(\u001b[0m\u001b[0mflags\u001b[0m\u001b[0;34m,\u001b[0m \u001b[0mcopy\u001b[0m\u001b[0;34m=\u001b[0m\u001b[0mcopy\u001b[0m\u001b[0;34m,\u001b[0m \u001b[0mtrack\u001b[0m\u001b[0;34m=\u001b[0m\u001b[0mtrack\u001b[0m\u001b[0;34m)\u001b[0m\u001b[0;34m]\u001b[0m\u001b[0;34m\u001b[0m\u001b[0;34m\u001b[0m\u001b[0m\n\u001b[0m\u001b[1;32m    471\u001b[0m         \u001b[0;31m# have first part already, only loop while more to receive\u001b[0m\u001b[0;34m\u001b[0m\u001b[0;34m\u001b[0m\u001b[0;34m\u001b[0m\u001b[0m\n",
      "\u001b[0;32mzmq/backend/cython/socket.pyx\u001b[0m in \u001b[0;36mzmq.backend.cython.socket.Socket.recv\u001b[0;34m()\u001b[0m\n",
      "\u001b[0;32mzmq/backend/cython/socket.pyx\u001b[0m in \u001b[0;36mzmq.backend.cython.socket.Socket.recv\u001b[0;34m()\u001b[0m\n",
      "\u001b[0;32mzmq/backend/cython/socket.pyx\u001b[0m in \u001b[0;36mzmq.backend.cython.socket._recv_copy\u001b[0;34m()\u001b[0m\n",
      "\u001b[0;32m~/anaconda3/lib/python3.7/site-packages/zmq/backend/cython/checkrc.pxd\u001b[0m in \u001b[0;36mzmq.backend.cython.checkrc._check_rc\u001b[0;34m()\u001b[0m\n",
      "\u001b[0;31mKeyboardInterrupt\u001b[0m: ",
      "\nDuring handling of the above exception, another exception occurred:\n",
      "\u001b[0;31mKeyboardInterrupt\u001b[0m                         Traceback (most recent call last)",
      "\u001b[0;32m<ipython-input-2-8fdbc8925220>\u001b[0m in \u001b[0;36m<module>\u001b[0;34m\u001b[0m\n\u001b[0;32m----> 1\u001b[0;31m \u001b[0mn\u001b[0m\u001b[0;34m,\u001b[0m \u001b[0mm\u001b[0m \u001b[0;34m=\u001b[0m \u001b[0mmap\u001b[0m\u001b[0;34m(\u001b[0m\u001b[0mint\u001b[0m\u001b[0;34m,\u001b[0m \u001b[0minput\u001b[0m\u001b[0;34m(\u001b[0m\u001b[0;34m)\u001b[0m\u001b[0;34m.\u001b[0m\u001b[0msplit\u001b[0m\u001b[0;34m(\u001b[0m\u001b[0;34m)\u001b[0m\u001b[0;34m)\u001b[0m\u001b[0;34m\u001b[0m\u001b[0;34m\u001b[0m\u001b[0m\n\u001b[0m\u001b[1;32m      2\u001b[0m \u001b[0;34m\u001b[0m\u001b[0m\n\u001b[1;32m      3\u001b[0m \u001b[0mmylist\u001b[0m \u001b[0;34m=\u001b[0m \u001b[0;34m[\u001b[0m\u001b[0;36m0\u001b[0m \u001b[0;32mfor\u001b[0m \u001b[0m_\u001b[0m \u001b[0;32min\u001b[0m \u001b[0mrange\u001b[0m\u001b[0;34m(\u001b[0m\u001b[0mn\u001b[0m\u001b[0;34m)\u001b[0m\u001b[0;34m]\u001b[0m\u001b[0;34m\u001b[0m\u001b[0;34m\u001b[0m\u001b[0m\n\u001b[1;32m      4\u001b[0m \u001b[0;31m# mylist = [0] * n\u001b[0m\u001b[0;34m\u001b[0m\u001b[0;34m\u001b[0m\u001b[0;34m\u001b[0m\u001b[0m\n\u001b[1;32m      5\u001b[0m \u001b[0;34m\u001b[0m\u001b[0m\n",
      "\u001b[0;32m~/anaconda3/lib/python3.7/site-packages/ipykernel/kernelbase.py\u001b[0m in \u001b[0;36mraw_input\u001b[0;34m(self, prompt)\u001b[0m\n\u001b[1;32m    858\u001b[0m             \u001b[0mself\u001b[0m\u001b[0;34m.\u001b[0m\u001b[0m_parent_ident\u001b[0m\u001b[0;34m,\u001b[0m\u001b[0;34m\u001b[0m\u001b[0;34m\u001b[0m\u001b[0m\n\u001b[1;32m    859\u001b[0m             \u001b[0mself\u001b[0m\u001b[0;34m.\u001b[0m\u001b[0m_parent_header\u001b[0m\u001b[0;34m,\u001b[0m\u001b[0;34m\u001b[0m\u001b[0;34m\u001b[0m\u001b[0m\n\u001b[0;32m--> 860\u001b[0;31m             \u001b[0mpassword\u001b[0m\u001b[0;34m=\u001b[0m\u001b[0;32mFalse\u001b[0m\u001b[0;34m,\u001b[0m\u001b[0;34m\u001b[0m\u001b[0;34m\u001b[0m\u001b[0m\n\u001b[0m\u001b[1;32m    861\u001b[0m         )\n\u001b[1;32m    862\u001b[0m \u001b[0;34m\u001b[0m\u001b[0m\n",
      "\u001b[0;32m~/anaconda3/lib/python3.7/site-packages/ipykernel/kernelbase.py\u001b[0m in \u001b[0;36m_input_request\u001b[0;34m(self, prompt, ident, parent, password)\u001b[0m\n\u001b[1;32m    888\u001b[0m             \u001b[0;32mexcept\u001b[0m \u001b[0mKeyboardInterrupt\u001b[0m\u001b[0;34m:\u001b[0m\u001b[0;34m\u001b[0m\u001b[0;34m\u001b[0m\u001b[0m\n\u001b[1;32m    889\u001b[0m                 \u001b[0;31m# re-raise KeyboardInterrupt, to truncate traceback\u001b[0m\u001b[0;34m\u001b[0m\u001b[0;34m\u001b[0m\u001b[0;34m\u001b[0m\u001b[0m\n\u001b[0;32m--> 890\u001b[0;31m                 \u001b[0;32mraise\u001b[0m \u001b[0mKeyboardInterrupt\u001b[0m\u001b[0;34m\u001b[0m\u001b[0;34m\u001b[0m\u001b[0m\n\u001b[0m\u001b[1;32m    891\u001b[0m             \u001b[0;32melse\u001b[0m\u001b[0;34m:\u001b[0m\u001b[0;34m\u001b[0m\u001b[0;34m\u001b[0m\u001b[0m\n\u001b[1;32m    892\u001b[0m                 \u001b[0;32mbreak\u001b[0m\u001b[0;34m\u001b[0m\u001b[0;34m\u001b[0m\u001b[0m\n",
      "\u001b[0;31mKeyboardInterrupt\u001b[0m: "
     ]
    }
   ],
   "source": [
    "n, m = map(int, input().split())\n",
    "\n",
    "mylist = [0 for _ in range(n)]\n",
    "# mylist = [0] * n\n",
    "\n",
    "for i in range(n) : \n",
    "    mylist[i] = list(map(int, input().split()))\n",
    "    "
   ]
  },
  {
   "cell_type": "markdown",
   "metadata": {},
   "source": [
    "시퀀스자료형의 *(곱셈) 연산자로 반복을 이용하는 방법도 가능함\n"
   ]
  },
  {
   "cell_type": "code",
   "execution_count": null,
   "metadata": {},
   "outputs": [],
   "source": [
    "n, m = map(int, input().split())\n",
    "mylist =[]\n",
    "for i in range(n) : \n",
    "    mylist.append(list(map(int, input().split())))"
   ]
  },
  {
   "cell_type": "code",
   "execution_count": null,
   "metadata": {},
   "outputs": [],
   "source": [
    "n, m = map(int, input().split())\n",
    "mylist = [list(map(int, input().split())) for _ in range(n)]"
   ]
  },
  {
   "cell_type": "markdown",
   "metadata": {},
   "source": [
    "### 2차원 List에서 원하는 데이터의 위치 찾기\n",
    "주어진 데이터에서 1이 입력된 [행, 열]의 위치 찾기"
   ]
  },
  {
   "cell_type": "code",
   "execution_count": null,
   "metadata": {},
   "outputs": [],
   "source": [
    "n, m = map(int, input().split())\n",
    "newlist = []\n",
    "mylist = [0 for _ in range(n)]\n",
    "for i in range(n) : \n",
    "    mylist[i] = list(map(int, input().split()))\n",
    "    for j in range(m) : \n",
    "        if mylist[i][j] == 1 :\n",
    "            newlist.append([i,j])"
   ]
  },
  {
   "cell_type": "markdown",
   "metadata": {},
   "source": [
    "[[3,4],[0,1,0,0],[0,0,0,0],[0,0,1,0]]\n",
    "1이 입력된 [행, 열]"
   ]
  },
  {
   "cell_type": "code",
   "execution_count": null,
   "metadata": {},
   "outputs": [],
   "source": [
    "n, m = map(int, input().split())\n",
    "mylist = [list(map(int, input().split())) for _ in range(n)]\n",
    "newlist = [(i,j) for i in range(n) for j in range(m) if mylist[i][j] == 1]"
   ]
  },
  {
   "cell_type": "markdown",
   "metadata": {},
   "source": [
    "### List순회 \n",
    "n X m List의 n*m 개의 모든 원소를 빠짐없이 조사하는 방법\n",
    "\n",
    "1. 행 우선 순회 -> -> ->\n",
    "    List의 행을 우선으로 List의 원소를 조사하는 방법\n",
    "    ```\n",
    "    arr = [[0,1,2,3],\n",
    "           [4,5,6,7],\n",
    "           [8,9,10,11]]\n",
    "   # i : 행의 좌표, n = len(arr)\n",
    "   # j : 열의 좌표, m = len(arr[0])\n",
    "   for i in range(len(arr)):\n",
    "       for j in range(len(arr[i]) :\n",
    "           arr[i][j] # 필요한 연산 수행\n",
    "    ```\n",
    "    \n",
    "2. 열 우선 순회\n",
    "    List의 열부터 먼저 조사하는 방법\n",
    "    ```\n",
    "    # i : 행의 좌표, n = len(arr)\n",
    "    # j : 열의 좌표, m = len(arr[0])\n",
    "    for j in range(len(arr[0])) :\n",
    "        for i in range(len(arr)) : \n",
    "            arr[i][j] # 필요한 연산 수행\n",
    "    ```\n",
    "3. 지그재그 순회 -> <- ->\n",
    "    List의 행을 좌우로 조사하는 방법\n",
    "    ```\n",
    "    # i : 행을 좌표, n = len(arr)\n",
    "    # j : 열의 좌표, m = len(arr[0])\n",
    "    for i in range(len(arr)) :\n",
    "        for j in range(len(arr[0])) :\n",
    "            arr[i][j + (m-1-2*j)*(i%2)]\n",
    "            # 필요한 연산 수행\n",
    "    ```\n",
    "    \n",
    "###  델타를 이용한 2차 List 탐색\n",
    "1. 2차 List의 한 좌표에서 네 방향의 인접 List요소를 탐색할 때 사용하는 방법\n",
    "2. 델타 값은 한 좌표에서 네 방향의 좌표와 x, y의 차이를 저장한 List로 구현\n",
    "3. 델타 값을 이용하여 특정 원소의 상하좌우에 위치한 원소에 접근할 수 있음\n",
    "\n",
    "이차원 List의 가장자리 원소들은 상하좌우 네 방향에 원소가 존재하지 않을 경우가 있으므로, Index를 체크하거나 Index의 범위를 제한해야 함."
   ]
  },
  {
   "cell_type": "code",
   "execution_count": null,
   "metadata": {},
   "outputs": [],
   "source": [
    "# arr[0..n-1][0..n-1] : 2차원 List\n",
    "dx = [0, 0, -1, 1] # 상하좌우\n",
    "dy = [-1, 1, 0, 0]\n",
    "\n",
    "for x in range(len(arr)) :\n",
    "    for y in range(len(arr[x])) :\n",
    "        for i in range(4) : \n",
    "            testX = x + dx[i]\n",
    "            testY = y + dy[i]\n",
    "            print(arr[testX][testY])"
   ]
  },
  {
   "cell_type": "markdown",
   "metadata": {},
   "source": [
    "### 전치 행렬\n",
    "행과 열의 값이 반대인 행렬을 의미"
   ]
  },
  {
   "cell_type": "code",
   "execution_count": null,
   "metadata": {},
   "outputs": [],
   "source": [
    "# i : 행의 좌표, len(arr)\n",
    "# j : 열의 좌표, len(arr[0])\n",
    "arr = [[1,2,3],[4,5,6],[7,8,9]] # 3x3\n",
    "\n",
    "for i in range(3) : \n",
    "    for j in range(3) :\n",
    "        if i < j :\n",
    "            arr[i][j], arr[j][i] = arr[j][i],a[i][j]"
   ]
  },
  {
   "cell_type": "markdown",
   "metadata": {},
   "source": [
    "모든 좌표에 대하여 행과 열의 값을 바꾸게 되면 본래의 모습으로 되돌아오기 때문에 이를 주의해야 함"
   ]
  },
  {
   "cell_type": "markdown",
   "metadata": {},
   "source": [
    "### Zip(iterable)\n",
    "동일한 개수로 이루어진 자료형들을 묶어 주는 역할을 하는 함수\n",
    "\n",
    "alpha = ['a', 'b', 'c']\n",
    "\n",
    "index = [1, 2, 3]\n",
    "\n",
    "-zip(alpha, index)-> ('a',1),('b',2),('c',3)"
   ]
  },
  {
   "cell_type": "code",
   "execution_count": 3,
   "metadata": {},
   "outputs": [
    {
     "name": "stdout",
     "output_type": "stream",
     "text": [
      "[('a', 1), ('b', 2), ('c', 3)]\n"
     ]
    }
   ],
   "source": [
    "alpha = ['a', 'b', 'c']\n",
    "index = [1, 2, 3]\n",
    "alph_index = list(zip(alpha, index))\n",
    "print(alph_index)"
   ]
  },
  {
   "cell_type": "code",
   "execution_count": 5,
   "metadata": {},
   "outputs": [
    {
     "name": "stdout",
     "output_type": "stream",
     "text": [
      "[(1, 4, 7), (2, 5, 8), (3, 6, 9)]\n"
     ]
    }
   ],
   "source": [
    "arr = [[1,2,3],[4,5,6],[7,8,9]]\n",
    "print(list(zip(*arr)))"
   ]
  },
  {
   "cell_type": "markdown",
   "metadata": {},
   "source": [
    "*list -> list 를 행별로 분리한다.\n"
   ]
  },
  {
   "cell_type": "markdown",
   "metadata": {},
   "source": [
    "## 부분 집합\n",
    "### 부분 집합의 합 문제\n",
    "유한 개의 정수로 이루어진 집합이 있을 때, 이 집합의 부분 집합 중에서 그 집합의 원소를 모두 더한 값이 0이 되는 경우가 있는지를 알아내는 문제\n",
    "\n",
    "ex) {-7, -3, -2, 5, 8}\n",
    "1. {-3, -2, 5}는 부분 집합\n",
    "2. (-3)+(-2)+5 = 0\n",
    "-> 참\n",
    "\n",
    "1. 완전 검색기법으로 부분 집합 합 문제를 풀기 위해서는 우선 집합의 모든 부분 집합을 생성한 후 각 부분 집합의 합을 계산함\n",
    "2. 주어진 집합의 부분 집합을 생성하는 방법 생각해 보기\n",
    "\n",
    "### 부분 집합의 수\n",
    "Q : 어떤 집합의 부분 집합을 구할 경우 부분 집합의 총 개수가 몇 개일까요?\n",
    "A : 1. 집합의 원소가 n개일 때, 공집합을 포함한 부분 집합의 수는 2^n개\n",
    "    2. 각 원소를 부분 집합에 포함시키거나 포함시키지 않는 2가지 경우를 모든 원소에 적용한 경우의 수와 같음\n",
    "    \n",
    "ex) {1, 2, 3, 4} -> 2x2x2x2 = 16가지\n",
    "\n",
    "### Loop를 이용하여 확인하고, 부분 집합을 생성하는 방법\n",
    "```\n",
    "bit = [0, 0, 0, 0]\n",
    "for i in range(2) :\n",
    "    bit[0] = i  # 0번째 원소\n",
    "    for j in range(2) :\n",
    "        bit[1] = j  # 1번째 원소\n",
    "        for k in range(2) :\n",
    "            bit[2] = k  # 2번째 원소\n",
    "            for l in range(2) :\n",
    "                bit[3] = l  # 3번째 원소\n",
    "                print(bot)  # 생성된 부분집합 출력\n",
    "```\n",
    "\n",
    "비트 List\n",
    "- 대상 List의 각 원소를 포함할지 말지를 정하는 List"
   ]
  },
  {
   "cell_type": "code",
   "execution_count": 7,
   "metadata": {},
   "outputs": [
    {
     "ename": "NameError",
     "evalue": "name 'bot' is not defined",
     "output_type": "error",
     "traceback": [
      "\u001b[0;31m---------------------------------------------------------------------------\u001b[0m",
      "\u001b[0;31mNameError\u001b[0m                                 Traceback (most recent call last)",
      "\u001b[0;32m<ipython-input-7-98b03ed8cbc2>\u001b[0m in \u001b[0;36m<module>\u001b[0;34m\u001b[0m\n\u001b[1;32m      8\u001b[0m             \u001b[0;32mfor\u001b[0m \u001b[0ml\u001b[0m \u001b[0;32min\u001b[0m \u001b[0mrange\u001b[0m\u001b[0;34m(\u001b[0m\u001b[0;36m2\u001b[0m\u001b[0;34m)\u001b[0m \u001b[0;34m:\u001b[0m\u001b[0;34m\u001b[0m\u001b[0;34m\u001b[0m\u001b[0m\n\u001b[1;32m      9\u001b[0m                 \u001b[0mbit\u001b[0m\u001b[0;34m[\u001b[0m\u001b[0;36m3\u001b[0m\u001b[0;34m]\u001b[0m \u001b[0;34m=\u001b[0m \u001b[0ml\u001b[0m  \u001b[0;31m# 3번째 원소\u001b[0m\u001b[0;34m\u001b[0m\u001b[0;34m\u001b[0m\u001b[0m\n\u001b[0;32m---> 10\u001b[0;31m                 \u001b[0mprint\u001b[0m\u001b[0;34m(\u001b[0m\u001b[0mbot\u001b[0m\u001b[0;34m)\u001b[0m  \u001b[0;31m# 생성된 부분집합 출력\u001b[0m\u001b[0;34m\u001b[0m\u001b[0;34m\u001b[0m\u001b[0m\n\u001b[0m",
      "\u001b[0;31mNameError\u001b[0m: name 'bot' is not defined"
     ]
    }
   ],
   "source": [
    "bit = [0, 0, 0, 0]\n",
    "for i in range(2) :\n",
    "    bit[0] = i  # 0번째 원소\n",
    "    for j in range(2) :\n",
    "        bit[1] = j  # 1번째 원소\n",
    "        for k in range(2) :\n",
    "            bit[2] = k  # 2번째 원소\n",
    "            for l in range(2) :\n",
    "                bit[3] = l  # 3번째 원소\n",
    "                print(bot)  # 생성된 부분집합 출력"
   ]
  },
  {
   "cell_type": "code",
   "execution_count": null,
   "metadata": {},
   "outputs": [],
   "source": []
  }
 ],
 "metadata": {
  "kernelspec": {
   "display_name": "Python 3",
   "language": "python",
   "name": "python3"
  }
 },
 "nbformat": 4,
 "nbformat_minor": 2
}
