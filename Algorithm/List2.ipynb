{
 "cells": [
  {
   "cell_type": "markdown",
   "metadata": {},
   "source": [
    "## 2차원 List\n",
    "### 2차원 List 구조\n",
    "1. 1차원 List를 묶어놓은 List\n",
    "2. 2차원 이상의 다차원 List는 차원에 따라 Index를 선언\n",
    "3. 2차원 List의 선언 : 세로길이(행의 개수), 가로길이(열의 개수)를 필요로 함\n",
    "\n",
    "2행 4열의 2차원 List\n",
    "arr = [[0,1,2,3],[4,5,6,7]]\n",
    "\n",
    "파이썬에서는 데이터 초기화를 통해 변수선언과 초기화가 가능함\n",
    "\n",
    "### List초기화"
   ]
  },
  {
   "cell_type": "code",
   "execution_count": 1,
   "metadata": {},
   "outputs": [],
   "source": [
    "arr = [0,0,0,0,0]\n",
    "arr = [0] * 5 # [0,0,0,0,0]\n",
    "arr = [i for i in range(2,9) if i%2 == 0] #[2,4,6,8]\n",
    "# ---- sequence 자료형도 사용할 수 있는 문법\n",
    "\n",
    "brr = [[1,2,3],[1,2,3],[1,2,3]]\n",
    "brr = [[1,2,3]] * 3 # [[1,2,3],[1,2,3],[1,2,3]]\n",
    "brr = [[1,2,3] for i in range(3)] # [[1,2,3],[1,2,3],[1,2,3]]\n",
    "brr = [[i,j] for i in range(3) for j in range(2)]\n",
    "# [[0,0],[0,1],[1,0],[1,1],[2,0],[2,1]]\n"
   ]
  },
  {
   "cell_type": "markdown",
   "metadata": {},
   "source": [
    "### 2차원 List입력 받기\n",
    "첫째 줄에 n행 m열\n",
    "둘째 줄부터 n*m의 행열 데이터가 주어질 경우 입력을 받는 방법\n"
   ]
  },
  {
   "cell_type": "code",
   "execution_count": 3,
   "metadata": {},
   "outputs": [
    {
     "name": "stdout",
     "output_type": "stream",
     "text": [
      "1 1 222\n"
     ]
    },
    {
     "ename": "ValueError",
     "evalue": "too many values to unpack (expected 2)",
     "output_type": "error",
     "traceback": [
      "\u001b[0;31m---------------------------------------------------------------------------\u001b[0m",
      "\u001b[0;31mValueError\u001b[0m                                Traceback (most recent call last)",
      "\u001b[0;32m<ipython-input-3-ccbd528bf878>\u001b[0m in \u001b[0;36m<module>\u001b[0;34m\u001b[0m\n\u001b[0;32m----> 1\u001b[0;31m \u001b[0mn\u001b[0m\u001b[0;34m,\u001b[0m \u001b[0mm\u001b[0m \u001b[0;34m=\u001b[0m \u001b[0mmap\u001b[0m\u001b[0;34m(\u001b[0m\u001b[0mint\u001b[0m\u001b[0;34m,\u001b[0m \u001b[0minput\u001b[0m\u001b[0;34m(\u001b[0m\u001b[0;34m)\u001b[0m\u001b[0;34m.\u001b[0m\u001b[0msplit\u001b[0m\u001b[0;34m(\u001b[0m\u001b[0;34m)\u001b[0m\u001b[0;34m)\u001b[0m\u001b[0;34m\u001b[0m\u001b[0;34m\u001b[0m\u001b[0m\n\u001b[0m\u001b[1;32m      2\u001b[0m \u001b[0;34m\u001b[0m\u001b[0m\n\u001b[1;32m      3\u001b[0m \u001b[0mmylist\u001b[0m \u001b[0;34m=\u001b[0m \u001b[0;34m[\u001b[0m\u001b[0;36m0\u001b[0m \u001b[0;32mfor\u001b[0m \u001b[0m_\u001b[0m \u001b[0;32min\u001b[0m \u001b[0mrange\u001b[0m\u001b[0;34m(\u001b[0m\u001b[0mn\u001b[0m\u001b[0;34m)\u001b[0m\u001b[0;34m]\u001b[0m\u001b[0;34m\u001b[0m\u001b[0;34m\u001b[0m\u001b[0m\n\u001b[1;32m      4\u001b[0m \u001b[0;31m# mylist = [0] * n\u001b[0m\u001b[0;34m\u001b[0m\u001b[0;34m\u001b[0m\u001b[0;34m\u001b[0m\u001b[0m\n\u001b[1;32m      5\u001b[0m \u001b[0;34m\u001b[0m\u001b[0m\n",
      "\u001b[0;31mValueError\u001b[0m: too many values to unpack (expected 2)"
     ]
    }
   ],
   "source": [
    "n, m = map(int, input().split())\n",
    "\n",
    "mylist = [0 for _ in range(n)]\n",
    "# mylist = [0] * n\n",
    "\n",
    "for i in range(n) : \n",
    "    mylist[i] = list(map(int, input().split()))"
   ]
  },
  {
   "cell_type": "markdown",
   "metadata": {},
   "source": [
    "시퀀스자료형의 *(곱셈) 연산자로 반복을 이용하는 방법도 가능함"
   ]
  },
  {
   "cell_type": "code",
   "execution_count": null,
   "metadata": {},
   "outputs": [],
   "source": [
    "n, m = map(int, input().split())\n",
    "mylist =[]\n",
    "for i in range(n) : \n",
    "    mylist.append(list(map(int, input().split())))"
   ]
  },
  {
   "cell_type": "code",
   "execution_count": null,
   "metadata": {},
   "outputs": [],
   "source": [
    "n, m = map(int, input().split())\n",
    "mylist = [list(map(int, input().split())) for _ in range(n)]"
   ]
  },
  {
   "cell_type": "markdown",
   "metadata": {},
   "source": [
    "### 2차원 List에서 원하는 데이터의 위치 찾기\n",
    "주어진 데이터에서 1이 입력된 [행, 열]의 위치 찾기"
   ]
  },
  {
   "cell_type": "code",
   "execution_count": null,
   "metadata": {},
   "outputs": [],
   "source": [
    "n, m = map(int, input().split())\n",
    "newlist = []\n",
    "mylist = [0 for _ in range(n)]\n",
    "for i in range(n) : \n",
    "    mylist[i] = list(map(int, input().split()))\n",
    "    for j in range(m) : \n",
    "        if mylist[i][j] == 1 :\n",
    "            newlist.append([i,j])"
   ]
  },
  {
   "cell_type": "markdown",
   "metadata": {},
   "source": [
    "[[3,4],[0,1,0,0],[0,0,0,0],[0,0,1,0]]\n",
    "1이 입력된 [행, 열]"
   ]
  },
  {
   "cell_type": "code",
   "execution_count": null,
   "metadata": {},
   "outputs": [],
   "source": [
    "n, m = map(int, input().split())\n",
    "mylist = [list(map(int, input().split())) for _ in range(n)]\n",
    "newlist = [(i,j) for i in range(n) for j in range(m) if mylist[i][j] == 1]"
   ]
  },
  {
   "cell_type": "markdown",
   "metadata": {},
   "source": [
    "### List순회 \n",
    "n X m List의 n*m 개의 모든 원소를 빠짐없이 조사하는 방법\n",
    "\n",
    "1. 행 우선 순회 -> -> ->\n",
    "    List의 행을 우선으로 List의 원소를 조사하는 방법\n",
    "    ```\n",
    "    arr = [[0,1,2,3],\n",
    "           [4,5,6,7],\n",
    "           [8,9,10,11]]\n",
    "   # i : 행의 좌표, n = len(arr)\n",
    "   # j : 열의 좌표, m = len(arr[0])\n",
    "   for i in range(len(arr)):\n",
    "       for j in range(len(arr[i]) :\n",
    "           arr[i][j] # 필요한 연산 수행\n",
    "    ```\n",
    "    \n",
    "2. 열 우선 순회\n",
    "    List의 열부터 먼저 조사하는 방법\n",
    "    ```\n",
    "    # i : 행의 좌표, n = len(arr)\n",
    "    # j : 열의 좌표, m = len(arr[0])\n",
    "    for j in range(len(arr[0])) :\n",
    "        for i in range(len(arr)) : \n",
    "            arr[i][j] # 필요한 연산 수행\n",
    "    ```\n",
    "3. 지그재그 순회 -> <- ->\n",
    "    List의 행을 좌우로 조사하는 방법\n",
    "    ```\n",
    "    # i : 행을 좌표, n = len(arr)\n",
    "    # j : 열의 좌표, m = len(arr[0])\n",
    "    for i in range(len(arr)) :\n",
    "        for j in range(len(arr[0])) :\n",
    "            arr[i][j + (m-1-2*j)*(i%2)]\n",
    "            # 필요한 연산 수행\n",
    "    ```\n",
    "    \n",
    "###  델타를 이용한 2차 List 탐색\n",
    "1. 2차 List의 한 좌표에서 네 방향의 인접 List요소를 탐색할 때 사용하는 방법\n",
    "2. 델타 값은 한 좌표에서 네 방향의 좌표와 x, y의 차이를 저장한 List로 구현\n",
    "3. 델타 값을 이용하여 특정 원소의 상하좌우에 위치한 원소에 접근할 수 있음\n",
    "\n",
    "이차원 List의 가장자리 원소들은 상하좌우 네 방향에 원소가 존재하지 않을 경우가 있으므로, Index를 체크하거나 Index의 범위를 제한해야 함."
   ]
  },
  {
   "cell_type": "code",
   "execution_count": null,
   "metadata": {},
   "outputs": [],
   "source": [
    "# arr[0..n-1][0..n-1] : 2차원 List\n",
    "dx = [0, 0, -1, 1] # 상하좌우\n",
    "dy = [-1, 1, 0, 0]\n",
    "\n",
    "for x in range(len(arr)) :\n",
    "    for y in range(len(arr[x])) :\n",
    "        for i in range(4) : \n",
    "            testX = x + dx[i]\n",
    "            testY = y + dy[i]\n",
    "            print(arr[testX][testY])"
   ]
  },
  {
   "cell_type": "markdown",
   "metadata": {},
   "source": [
    "### 전치 행렬\n",
    "행과 열의 값이 반대인 행렬을 의미"
   ]
  },
  {
   "cell_type": "code",
   "execution_count": null,
   "metadata": {},
   "outputs": [],
   "source": [
    "# i : 행의 좌표, len(arr)\n",
    "# j : 열의 좌표, len(arr[0])\n",
    "arr = [[1,2,3],[4,5,6],[7,8,9]] # 3x3\n",
    "\n",
    "for i in range(3) : \n",
    "    for j in range(3) :\n",
    "        if i < j :\n",
    "            arr[i][j], arr[j][i] = arr[j][i],a[i][j]"
   ]
  },
  {
   "cell_type": "markdown",
   "metadata": {},
   "source": [
    "모든 좌표에 대하여 행과 열의 값을 바꾸게 되면 본래의 모습으로 되돌아오기 때문에 이를 주의해야 함"
   ]
  },
  {
   "cell_type": "markdown",
   "metadata": {},
   "source": [
    "### Zip(iterable)\n",
    "동일한 개수로 이루어진 자료형들을 묶어 주는 역할을 하는 함수\n",
    "\n",
    "alpha = ['a', 'b', 'c']\n",
    "\n",
    "index = [1, 2, 3]\n",
    "\n",
    "-zip(alpha, index)-> ('a',1),('b',2),('c',3)"
   ]
  },
  {
   "cell_type": "code",
   "execution_count": 3,
   "metadata": {},
   "outputs": [
    {
     "name": "stdout",
     "output_type": "stream",
     "text": [
      "[('a', 1), ('b', 2), ('c', 3)]\n"
     ]
    }
   ],
   "source": [
    "alpha = ['a', 'b', 'c']\n",
    "index = [1, 2, 3]\n",
    "alph_index = list(zip(alpha, index))\n",
    "print(alph_index)"
   ]
  },
  {
   "cell_type": "code",
   "execution_count": 5,
   "metadata": {},
   "outputs": [
    {
     "name": "stdout",
     "output_type": "stream",
     "text": [
      "[(1, 4, 7), (2, 5, 8), (3, 6, 9)]\n"
     ]
    }
   ],
   "source": [
    "arr = [[1,2,3],[4,5,6],[7,8,9]]\n",
    "print(list(zip(*arr)))"
   ]
  },
  {
   "cell_type": "markdown",
   "metadata": {},
   "source": [
    "*list -> list 를 행별로 분리한다.\n"
   ]
  },
  {
   "cell_type": "markdown",
   "metadata": {},
   "source": [
    "## 부분 집합\n",
    "### 부분 집합의 합 문제\n",
    "유한 개의 정수로 이루어진 집합이 있을 때, 이 집합의 부분 집합 중에서 그 집합의 원소를 모두 더한 값이 0이 되는 경우가 있는지를 알아내는 문제\n",
    "\n",
    "ex) {-7, -3, -2, 5, 8}\n",
    "1. {-3, -2, 5}는 부분 집합\n",
    "2. (-3)+(-2)+5 = 0\n",
    "-> 참\n",
    "\n",
    "1. 완전 검색기법으로 부분 집합 합 문제를 풀기 위해서는 우선 집합의 모든 부분 집합을 생성한 후 각 부분 집합의 합을 계산함\n",
    "2. 주어진 집합의 부분 집합을 생성하는 방법 생각해 보기\n",
    "\n",
    "### 부분 집합의 수\n",
    "Q : 어떤 집합의 부분 집합을 구할 경우 부분 집합의 총 개수가 몇 개일까요?\n",
    "A : 1. 집합의 원소가 n개일 때, 공집합을 포함한 부분 집합의 수는 2^n개\n",
    "    2. 각 원소를 부분 집합에 포함시키거나 포함시키지 않는 2가지 경우를 모든 원소에 적용한 경우의 수와 같음\n",
    "    \n",
    "ex) {1, 2, 3, 4} -> 2x2x2x2 = 16가지\n",
    "\n",
    "### Loop를 이용하여 확인하고, 부분 집합을 생성하는 방법\n",
    "```\n",
    "bit = [0, 0, 0, 0]\n",
    "for i in range(2) :\n",
    "    bit[0] = i  # 0번째 원소\n",
    "    for j in range(2) :\n",
    "        bit[1] = j  # 1번째 원소\n",
    "        for k in range(2) :\n",
    "            bit[2] = k  # 2번째 원소\n",
    "            for l in range(2) :\n",
    "                bit[3] = l  # 3번째 원소\n",
    "                print(bit)  # 생성된 부분집합 출력\n",
    "```\n",
    "\n",
    "비트 List\n",
    "- 대상 List의 각 원소를 포함할지 말지를 정하는 List"
   ]
  },
  {
   "cell_type": "code",
   "execution_count": 8,
   "metadata": {},
   "outputs": [
    {
     "name": "stdout",
     "output_type": "stream",
     "text": [
      "[0, 0, 0, 0]\n",
      "[0, 0, 0, 1]\n",
      "[0, 0, 1, 0]\n",
      "[0, 0, 1, 1]\n",
      "[0, 1, 0, 0]\n",
      "[0, 1, 0, 1]\n",
      "[0, 1, 1, 0]\n",
      "[0, 1, 1, 1]\n",
      "[1, 0, 0, 0]\n",
      "[1, 0, 0, 1]\n",
      "[1, 0, 1, 0]\n",
      "[1, 0, 1, 1]\n",
      "[1, 1, 0, 0]\n",
      "[1, 1, 0, 1]\n",
      "[1, 1, 1, 0]\n",
      "[1, 1, 1, 1]\n"
     ]
    }
   ],
   "source": [
    "bit = [0, 0, 0, 0]\n",
    "for i in range(2) :\n",
    "    bit[0] = i  # 0번째 원소\n",
    "    for j in range(2) :\n",
    "        bit[1] = j  # 1번째 원소\n",
    "        for k in range(2) :\n",
    "            bit[2] = k  # 2번째 원소\n",
    "            for l in range(2) :\n",
    "                bit[3] = l  # 3번째 원소\n",
    "                print(bit)  # 생성된 부분집합 출력"
   ]
  },
  {
   "cell_type": "markdown",
   "metadata": {},
   "source": [
    "### 비트 연산자\n",
    "0과 1로 이루어진 이진수에 대한 연산을 수행하는 연산자\n",
    "\n",
    "비트 연산자 종류\n",
    "- & : 비트 단위로 AND 연산을 함\n",
    "- | : 비트 단위로 OR 연산을 함\n",
    "- << : 피연산자의 비트 열을 왼쪽으로 이동시킴\n",
    "- >> : 피연산자의 비트 열을 오른쪽으로 이동시킴\n",
    "\n",
    "<< 연산자\n",
    "- 1<< n:2^n 즉, 원소가 n개일 경우\n",
    "-> 원소가 n개일 경우의 모든 부분 집합의 수를 의미함\n",
    "\n",
    "& 연산자\n",
    "- i & (1 << j) : 1\n",
    "-> i에서 j번째 비트가 1인지 아닌지를 리턴함.\n",
    "\n",
    "### 보다 간결하게 부분 집합을 생성하는 방법"
   ]
  },
  {
   "cell_type": "code",
   "execution_count": 5,
   "metadata": {},
   "outputs": [
    {
     "name": "stdout",
     "output_type": "stream",
     "text": [
      "\n",
      "3,\n",
      "6,\n",
      "3,6,\n",
      "7,\n",
      "3,7,\n",
      "6,7,\n",
      "3,6,7,\n",
      "1,\n",
      "3,1,\n",
      "6,1,\n",
      "3,6,1,\n",
      "7,1,\n",
      "3,7,1,\n",
      "6,7,1,\n",
      "3,6,7,1,\n",
      "5,\n",
      "3,5,\n",
      "6,5,\n",
      "3,6,5,\n",
      "7,5,\n",
      "3,7,5,\n",
      "6,7,5,\n",
      "3,6,7,5,\n",
      "1,5,\n",
      "3,1,5,\n",
      "6,1,5,\n",
      "3,6,1,5,\n",
      "7,1,5,\n",
      "3,7,1,5,\n",
      "6,7,1,5,\n",
      "3,6,7,1,5,\n",
      "4,\n",
      "3,4,\n",
      "6,4,\n",
      "3,6,4,\n",
      "7,4,\n",
      "3,7,4,\n",
      "6,7,4,\n",
      "3,6,7,4,\n",
      "1,4,\n",
      "3,1,4,\n",
      "6,1,4,\n",
      "3,6,1,4,\n",
      "7,1,4,\n",
      "3,7,1,4,\n",
      "6,7,1,4,\n",
      "3,6,7,1,4,\n",
      "5,4,\n",
      "3,5,4,\n",
      "6,5,4,\n",
      "3,6,5,4,\n",
      "7,5,4,\n",
      "3,7,5,4,\n",
      "6,7,5,4,\n",
      "3,6,7,5,4,\n",
      "1,5,4,\n",
      "3,1,5,4,\n",
      "6,1,5,4,\n",
      "3,6,1,5,4,\n",
      "7,1,5,4,\n",
      "3,7,1,5,4,\n",
      "6,7,1,5,4,\n",
      "3,6,7,1,5,4,\n"
     ]
    }
   ],
   "source": [
    "arr = [3, 6, 7, 1, 5, 4]\n",
    "n = len(arr) # n : 원소의 개수\n",
    "\n",
    "for i in range(1 << n) : # 1 << n : 부분 집합의 개수\n",
    "    for j in range(n) : # 원소의 수만큼 비트를 비교함\n",
    "        if i & (1 << j) : # i의 j번째 비트가 1이면 j번째 원소 출력\n",
    "            print(arr[j], end=\",\")\n",
    "    print()"
   ]
  },
  {
   "cell_type": "markdown",
   "metadata": {},
   "source": [
    "## 검색\n",
    "저장되어 있는 자료 중에서 원하는 항목을 찾는 작업\n",
    "원하는 항목 -> 목적하는 탐색키를 가진 항목\n",
    "탐색키(Search key) : 자료를 구별하여 인식할 수 있는 키\n",
    "\n",
    "검색의 종류\n",
    "1. 순차 검색(Sequential Search)\n",
    "2. 이진 검색(Binary Search)\n",
    "3. 인덱싱(Indexing)\n",
    "\n",
    "### 순차 검색\n",
    "- 일렬로 되어 있는 자료를 순서대로 검색하는 방법\n",
    "- List나 연결 List 등 순차구조로 구현된 자료구조에서 유용함\n",
    "- 구현이 쉽지만, 검색 대상이 많은 경우 수행시간의 증가로 비효율적인\n",
    "- 2가지 경우가 있음 : 정렬된 경우, 정렬되지 않은 경우\n",
    "\n",
    "정렬되지 않은 자료의 검색 과정\n",
    "1. 첫 번째 원소부터 순서대로 검색대상과 키 값이 같은 원소가 있는지를 비교하여 찾음\n",
    "2. 키 값이 동일한 원소를 찾으면 그 원소의 인덱스를 반환\n",
    "3. 자료구조의 마지막에 갈 때까지 검색 대상을 찾지 목하면 검색 실패\n",
    "\n",
    "찾고자 하는 원소의 순서에 따른 비교횟수 결정\n",
    "- 첫 번째 원소를 찾을 때에는 1번 비교, 두 번째 원소를 찾을 때에는 2번 비교\n",
    "- 정렬되지 않은 자료에서의 순차 검색의 평균 비교 횟수\n",
    "-> 1/n(1+2+3+...+n) = (n+1)/2\n",
    "- 시간 복잡도 : O(n)\n"
   ]
  },
  {
   "cell_type": "code",
   "execution_count": 12,
   "metadata": {},
   "outputs": [],
   "source": [
    "def sequentialSearch(a, n, key) :\n",
    "    i = 0\n",
    "    while i < n and a[i] != key :\n",
    "        i = i + 1\n",
    "        \n",
    "    if i < n : return i\n",
    "    else : return -1"
   ]
  },
  {
   "cell_type": "code",
   "execution_count": 13,
   "metadata": {},
   "outputs": [
    {
     "data": {
      "text/plain": [
       "3"
      ]
     },
     "execution_count": 13,
     "metadata": {},
     "output_type": "execute_result"
    }
   ],
   "source": [
    "sequentialSearch([1,2,3,5],4, 5)"
   ]
  },
  {
   "cell_type": "code",
   "execution_count": 15,
   "metadata": {},
   "outputs": [
    {
     "data": {
      "text/plain": [
       "-1"
      ]
     },
     "execution_count": 15,
     "metadata": {},
     "output_type": "execute_result"
    }
   ],
   "source": [
    "sequentialSearch([1,2,3,5],4, 4)"
   ]
  },
  {
   "cell_type": "markdown",
   "metadata": {},
   "source": [
    "정렬된 자료의 검색 과정\n",
    "1. 자료가 오름차순으로 정렬된 상태에서 검색을 실시한다고 가정\n",
    "2. 자료를 순차적으로 검색하면서 키 값을 비교함\n",
    "3. 원소의 키 값이 검색 대상의 키 값보다 크면 원소가 없다는 것이므로 더 이상 검색하지 않고 검색을 종료함\n",
    "\n",
    "찾고자 하는 원소의 순서에 따른 비교횟수 결정\n",
    "- 정렬되어 있으므로, 검색 실패를 반환하는 경우 평균 비교 회수가 반으로 줄어듦\n",
    "- 시간 복잡도 : O(n)\n"
   ]
  },
  {
   "cell_type": "code",
   "execution_count": 17,
   "metadata": {},
   "outputs": [],
   "source": [
    "def sequentialSearchSorted(a, n, key) :\n",
    "    i = 0\n",
    "    while i < n and a[i] < key :\n",
    "        i = i + 1\n",
    "    \n",
    "    if i < n and a[i] == key : return i\n",
    "    else : return -1"
   ]
  },
  {
   "cell_type": "code",
   "execution_count": 19,
   "metadata": {},
   "outputs": [
    {
     "data": {
      "text/plain": [
       "-1"
      ]
     },
     "execution_count": 19,
     "metadata": {},
     "output_type": "execute_result"
    }
   ],
   "source": [
    "sequentialSearchSorted([2,5,6,7,8], 5, 3)"
   ]
  },
  {
   "cell_type": "code",
   "execution_count": 21,
   "metadata": {},
   "outputs": [
    {
     "data": {
      "text/plain": [
       "2"
      ]
     },
     "execution_count": 21,
     "metadata": {},
     "output_type": "execute_result"
    }
   ],
   "source": [
    "sequentialSearchSorted([2,5,6,7,8], 5, 6)"
   ]
  },
  {
   "cell_type": "markdown",
   "metadata": {},
   "source": [
    "### 이진 검색\n",
    "효율적인 검색 방법\n",
    "자료의 가운데 항목의 키 값과 비교하여 다음 검색의 위치를 결정하고 검색을 계속하는 방법\n",
    "- 목적 키를 찾을 때까지 이진 검색을 순환적으로 반복 수행함으로써 검색 벙위를 반으로 줄여가면서 빠르게 검색을 수행함\n",
    "이진 검색을 하기 위해서는 자료가 정렬된 상태여야 함\n",
    "정렬된 데이터 n개가 있는 경우의 시간복잡도\n",
    "- 순차 검색 시 O(N)의 시간이 걸리지만, 이진 검색 시 O(logN)의 시간이 걸림\n",
    "\n",
    "이진 검색의 검색 과정\n",
    "1. 자료의 중앙에 있는 원소를 선택\n",
    "2. 중앙 원손의 값과 찾고자 하는 목표 값을 비교\n",
    "3. 목표값 < 중앙 원소 값 : 자료의 왼쪽 반에 대해서 새로 검색을 수행\n",
    "3. 목표값 > 중앙 원소 값 : 자료의 오른쪽 반에 대해서 새로 검색을 수행\n",
    "4. 찾고자 하는 값을 찾을 떄까지 [1~3]의 과정을 반복\n",
    "\n",
    "검색 범위의 시작점과 종료점을 이용\n",
    "- 검색 범위의 시작점과 종료점을 이용하여 검색을 반복 수행함\n",
    "- 이진 검색의 경우, 자료에 삽입이나 삭제가 발생하였을 때 List의 상태를 항상 정렬 상태로 유지하는 추가 작업이 필요함"
   ]
  },
  {
   "cell_type": "code",
   "execution_count": 22,
   "metadata": {},
   "outputs": [],
   "source": [
    "def binarySearch(a, key) :\n",
    "    start = 0\n",
    "    end = len(a) -1\n",
    "    while start <= end :\n",
    "        middle = start + (end - start) //2\n",
    "        if key == a[middle] : # 검색 성공\n",
    "            return True\n",
    "        elif key < a[middle] :\n",
    "            end = middle -1\n",
    "        else :\n",
    "            start = middle + 1\n",
    "    return False # 검색 실패"
   ]
  },
  {
   "cell_type": "code",
   "execution_count": 25,
   "metadata": {},
   "outputs": [
    {
     "data": {
      "text/plain": [
       "True"
      ]
     },
     "execution_count": 25,
     "metadata": {},
     "output_type": "execute_result"
    }
   ],
   "source": [
    "binarySearch([3,4,6,7,9], 9)"
   ]
  },
  {
   "cell_type": "markdown",
   "metadata": {},
   "source": [
    "재귀 함수를 이용한 이진 검색 구현\n"
   ]
  },
  {
   "cell_type": "code",
   "execution_count": 30,
   "metadata": {},
   "outputs": [],
   "source": [
    "def binarySearchRecursive(a, low, high, key) :\n",
    "    if low > high : # 검색 실패\n",
    "        return False\n",
    "    else :\n",
    "        middle = (low + high) // 2\n",
    "        if key == a[middle] : # 검색 성공\n",
    "            return True\n",
    "        elif key < a[middle] :\n",
    "            return binarySearchRecursive(a,low,middle-1, key)\n",
    "        elif a[middle] < key :\n",
    "            return binarySearchRecursive(a,middle+1,high,key)"
   ]
  },
  {
   "cell_type": "code",
   "execution_count": 28,
   "metadata": {},
   "outputs": [
    {
     "data": {
      "text/plain": [
       "True"
      ]
     },
     "execution_count": 28,
     "metadata": {},
     "output_type": "execute_result"
    }
   ],
   "source": [
    "binarySearchRecursive([3,4,6,7,9], 2, 5, 9)"
   ]
  },
  {
   "cell_type": "code",
   "execution_count": 31,
   "metadata": {},
   "outputs": [
    {
     "data": {
      "text/plain": [
       "False"
      ]
     },
     "execution_count": 31,
     "metadata": {},
     "output_type": "execute_result"
    }
   ],
   "source": [
    "binarySearchRecursive([3,4,6,7,9], 2, 5, 8)"
   ]
  },
  {
   "cell_type": "markdown",
   "metadata": {},
   "source": [
    "### 인덱스\n",
    "데이터베이스(Database)에서 유래, 테이블에 대한 동작 속도를 높임\n",
    "\n",
    "DB를 제외하고, 룩 업 테이블(Look up table) 등의 용어로 사용함\n",
    "\n",
    "인덱스를 저장하는데 필요한 디스크 공간은 보통 테이블 저장에 필요한 디스트 공간보다 작음\n",
    "- 인덱스는 키-필드만 갖고 있고, 테이블의 다른 세부 항목은 갖고 있지 않음\n",
    "\n",
    "List를 사용한 인덱스\n",
    "- 대량의 데이터를 매번 정렬하면, 프로그램의 반응은 느려질 수 밖에 없음. 이러한 대량 데이터의 성능 저하 문제를 해결하기 위해 List인덱스를 사용할 수 있음\n",
    "\n",
    "원본 데이터에 데이터가 삽입될 경우 상대적으로 크기가 작은 인덱스 List를 정렬하기 때문에 속도가 빠름\n"
   ]
  },
  {
   "cell_type": "markdown",
   "metadata": {},
   "source": [
    "### 셀렉션 알고리즘 의미\n",
    "- 저장되어 있는 자료로부터 k번째로 큰 혹은 작은 원소를 찾는 방법\n",
    "- 최소값, 최대값 혹은 중간값을 찾는 알고리즘을 의미하기도 함\n",
    "\n",
    "셀렉션 선택 과정\n",
    "1. 정렬 알고리즘을 이용하여 자료를 정렬\n",
    "2. 원하는 순서에 있는 원소 가져오기\n",
    "\n",
    "ex) k번째로 작은 원소를 찾는 알고리즘\n",
    "- 1번부터 k번째까지 작은 원소들을 찾아 List의 앞쪽으로 이동시키고, List의 k번째를 반환\n",
    "- k가 비교적 작을 때 유용하며 O(kn)의 수행시간을 필요로 함"
   ]
  },
  {
   "cell_type": "code",
   "execution_count": 4,
   "metadata": {},
   "outputs": [],
   "source": [
    "def select(list, k) :\n",
    "    for i in range(0, k) :\n",
    "        minIndex = i\n",
    "        for j in range (i+1, len(list)) :\n",
    "            if list[minIndex] > list[j] :\n",
    "                minIndex = j\n",
    "        list[i], list[minIndex] = list[minIndex], list[i]\n",
    "    return list[k-1]"
   ]
  },
  {
   "cell_type": "code",
   "execution_count": 9,
   "metadata": {},
   "outputs": [
    {
     "data": {
      "text/plain": [
       "1"
      ]
     },
     "execution_count": 9,
     "metadata": {},
     "output_type": "execute_result"
    }
   ],
   "source": [
    "select([4,2,1],1)"
   ]
  },
  {
   "cell_type": "markdown",
   "metadata": {},
   "source": [
    "ex) 포켓볼 순서대로 정렬하기\n",
    "당구대 위에 있는 공 중 가장 작은 숫자의 공부터 차례대로 정리\n",
    "-> 선택 정렬\n",
    "\n",
    "선택 정렬의 의미\n",
    "- 주어진 자료들 중 가장 작은 값의 원소부터 차례대로 선택하여 위치를 교환하는 방식\n",
    "- 셀렉션 알고리즘을 전체 자료에 적용한 것\n",
    "\n",
    "정렬 과정\n",
    "- 주어진 List 중에서 최소값을 찾음\n",
    "- 그 값을 List의 맨 앞에 위치한 값과 교환\n",
    "- 맨 처음 위치를 제외한 나머지 List를 대상으로 위의 과정을 반복\n",
    "\n",
    "시간 복잡도\n",
    "- O(n^2)\n",
    "\n",
    "선택 정렬 과정\n",
    "1. List에서 최소값을 찾음\n",
    "2. List의 맨 앞에 위치한 값과 교환\n",
    "3. 미정렬 List에서 최소값을 찾음\n",
    "반복쓰~"
   ]
  },
  {
   "cell_type": "code",
   "execution_count": 10,
   "metadata": {},
   "outputs": [],
   "source": [
    "def selectionSort(a) :\n",
    "    for i in range(0, len(a)-1) : \n",
    "        min = i\n",
    "        for j in range(i+1, len(a)) :\n",
    "            if a[min] > a[j] :\n",
    "                min = j\n",
    "        a[i], a[min] = a[min], a[i]"
   ]
  },
  {
   "cell_type": "code",
   "execution_count": null,
   "metadata": {},
   "outputs": [],
   "source": []
  }
 ],
 "metadata": {
  "kernelspec": {
   "display_name": "Python 3",
   "language": "python",
   "name": "python3"
  },
  "language_info": {
   "codemirror_mode": {
    "name": "ipython",
    "version": 3
   },
   "file_extension": ".py",
   "mimetype": "text/x-python",
   "name": "python",
   "nbconvert_exporter": "python",
   "pygments_lexer": "ipython3",
   "version": "3.7.3"
  }
 },
 "nbformat": 4,
 "nbformat_minor": 2
}
