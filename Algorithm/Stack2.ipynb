{
 "cells": [
  {
   "cell_type": "markdown",
   "metadata": {},
   "source": [
    "## 계산기\n",
    "ex)\n",
    "A*B-C/D\n",
    "\n",
    "(6+5*(2-8)/2)\n",
    "\n",
    "문자열 계산식 -> 스택을 이용하여 결과값 계산\n",
    "\n",
    "문자열 수식 계산의 일반적 방법\n",
    "\n",
    "Step 1 : 중위표기법의 수식을 후위표기법으로 변경\n",
    "- 스택 이용\n",
    "- 중위표기법(infix notation) : 연산자를 피연산자의 가운데 표기하는 방법\n",
    "ex) A+B\n",
    "\n",
    "Step 2 : 후위표기법의 수식을 스택을 이용하여 계산\n",
    "- 후위표기법(postfix notation) : 연산자를 피연산자 뒤에 표기하는 방법\n",
    "\n",
    "### 중위표기식을 후위표기식으로 변환\n",
    "### Step 1. 중위표기식의 후위 표기식으로 변환 방법1\n",
    "\n",
    "1. 수식의 각 연산자에 대해서 우선순위에 따라 괄호를 사용하여 다시 표현\n",
    "2. 각 연산자를 그에 대응하는 오른쪽 괄호의 뒤로 이동\n",
    "3. 괄호 제거\n",
    "\n",
    "ex) A*B-C/D 변환 방법\n",
    "\n",
    "1단계 : ((A*B)-(C/D))\n",
    "\n",
    "2단계 : ((A B)*(C D)/)-\n",
    "\n",
    "3단계 : AB*CD/-\n",
    "\n",
    "문제점 -> 사람이 손으로 처리하기는 쉽지만 프로그램으로 작성하기는 어려움\n",
    "\n",
    "Solution -> 중위표기식을 후위표기식으로 변환하는 알고리즘 개발\n",
    "\n",
    "Step1. 중위표기식의 후위표기식으로 변환 방법 2(스택 이용)\n",
    "\n",
    "중위표기법에서 후위표기법으로의 변환 알고리즘\n",
    "\n",
    "1. 입력 받은 중위표기식에서 토큰을 읽음\n",
    "\n",
    "2. 토큰이 피연산자이면 토큰을 출력\n",
    "\n",
    "3. 토큰이 연산자(괄호포함)일 경우\n",
    "\n",
    "- 우선순위가 높으면 -> 스택에 push\n",
    "- 우선순위가 안 높으면 -> 연산자의 우선순위가 토큰의 우선순위보다 작을 때까지 스택에서 pop한 후 토큰의 연산자를 push\n",
    "- 만약 top에 연산자가 없으면 -> push\n",
    "\n",
    "4. 토큰이 오른쪽 괄호 ')'일 경우\n",
    "\n",
    "- 스택 top에 왼쪽 괄호 '('가 올 때까지 스택에 pop연산을 수행\n",
    "- pop한 연산자를 출력\n",
    "- 왼쪽 괄호를 만나면 pop만 하고 출력하지는 않음\n",
    "\n",
    "5. 중위표기식에 더 읽을 것이 없다면 중지, 더 읽을 것이 있다면 1부터 반복\n",
    "\n",
    "6. 스택에 남아 있는 연산자를 모두 pop하여 출력\n",
    "\n",
    "- 스택 밖의 왼쪽 괄호는 우선 순위가 가장 높으며, 스택 안의 왼쪽 괄호는 우선 순위가 가장 낮음  \n",
    "\n",
    "\n",
    "ex) 중위표기법으로 표현된 수식\n",
    "( 6 + 5 * ( 2 - 8 ) / 2 )\n",
    "\n",
    "- 중위표기법 - 후위표기법으로 변환 ->\n",
    "\n",
    "6 5 2 8 - * 2 / +\n",
    "\n",
    "* 토큰 : 수식에서 의미있는 최소의 단위\n",
    "\n",
    "피연산자는 후위표기법으로 출력 될 수식\n",
    "\n",
    "연산자는 스택을 거쳐감\n",
    "\n",
    "토큰  ISP  ICP\n",
    "\n",
    " )     -    - \n",
    " \n",
    "*,/    2    2\n",
    "\n",
    "+,-    1    1 \n",
    " \n",
    " (     0    3\n",
    "\n",
    "\n",
    "### Step 2. 후위표기법의 수식을 스택을 이용하여 계산\n",
    "1. 피연산자를 만나면 스택에 push 함\n",
    "2. 연산자를 만나면 필요한 만큼의 피연산자를 스택에서 pop하여 연산하고, 연산결과를 다시 스택에 push함\n",
    "3. 수식이 끝나면, 마지막으로 스택을 pop하여 출력\n",
    "\n",
    "계산 시 주의 사항\n",
    "\n",
    "후위표기식을 계산 시, 피연산자를 스택에 쌓아 계산\n",
    "\n",
    "### 문자열로 된 수식을 계산 시\n",
    "스택을 두 번 사용해서 처리했던 연산을 파이썬에서 제공되는 eval() 내장 함수로 계산할 수 있음\n",
    "\n",
    "eval(수식)\n",
    "- 문자열로 된 수식을 계산함\n",
    "- Evaluation = \"값을 수함\" 이란 뜻\n",
    "- 올바른 수식이 아닌 경우 SyntaxError 예외가 발생함\n",
    "- eval(\"6+5*(2-8)/2\")는 문자열로 된 수식의 계산결과를 반환함.\n",
    "\n",
    "## BackTracking\n",
    "해를 찾는 도중에 '막히면', (즉, 해가 아니면) 되돌아가서 다시 해를 찾아가는 기법\n",
    "\n",
    "- 최적화(Optimization) 문제\n",
    "- 결정(Decision) 문제\n",
    "문제의 조건을 만족하는 해가 존재하는지의 여부를 'yes'또는 'no'로 답하는 문제\n",
    "\n",
    "ex)\n",
    "- 미로 찾기\n",
    "- n-Queen 문제\n",
    "- Map coloring\n",
    "- 부분 집합의 합(Subset Sum) 문제 등\n",
    "\n",
    "ex) 백트래킹 기법 활용 - 미로 찾기\n",
    "1. 입구와 출구가 주어진 미로에서 입구부터 출구까지의 경로를 찾는 문제.\n",
    "2. 이동할 수 있는 방향은 4방향으로 제한\n",
    "\n",
    "### 백트래킹 알고리즘의 특징\n",
    "\n",
    "***백트래킹과 깊이 우선 탑색의 차이***\n",
    "백트래킹\n",
    "- 어떤 노드에서 출발하는 경로가 해결책으로 이어질 것 같지 않으면 더 이상 그 경로를 따라가지 않음으로써 시도의 횟수를 줄임\n",
    "- 가지치기(Prunning)\n",
    "- 불필요한 경로의 조기 차단\n",
    "- N! 가지의 경우의 수를 가진 문제에 대해 백트레킹에 가하면 일반적으로 경우의 수가 줄어들지만 이 역시 최악의 경우의 수가 지수함수 시간(Exponential Time)을 요하므로 처리 불가능\n",
    "- 모든 후보를 검사하지 않음\n",
    "\n",
    "깊이우선 탐색\n",
    "- 모든 경로를 추적\n",
    "- N! 가지의 경우의 수를 가진 문제에 대해 깊이 우선 탐색을 가하면 처리 불가능한 문제\n",
    "- 모든 후보를 검사\n",
    "\n",
    "\n",
    "백트래킹 기법\n",
    "\n",
    "- 어떤 노드의 유망성을 점검한 후에 유망(Promising)하지 않다고 결정되면 그 노드의 부모로 되돌아가(Backtracking) 다음 자식 노드로 감\n",
    "- 어떤 노드를 방문하였을 때 그 노드를 포함한 경로가 해답이 될 수 없으면 그 노드는 유망하지 않다고 함\n",
    "- 반대로 해답의 가능성이 있으면 유망하다고 함\n",
    "- 가지치기(Prunuing) : 유망하지 않은 노드가 포함되는 경로는 더 이상 고려하지 않음\n",
    "\n",
    "백트래킹을 이용한 알고리즘의 절차\n",
    "\n",
    "1. 상태 공간 Tree의 깊이 우선 검색을 실시\n",
    "2. 각 노드가 유망한지를 점검\n",
    "3. 만일 그 노드가 유망하지 않으면, 그 노드의 부모 노드로 돌아가서 검색을 계속\n",
    "\n",
    "일반 백트래킹 알고리즘\n",
    "- n*n의 정사각형 안에 n개의 queen을 배치하는 문제로, 모든 queen은 자신의 일직선상 및 대각선상에 아무 것도 놓이지 않아야 함."
   ]
  },
  {
   "cell_type": "code",
   "execution_count": 1,
   "metadata": {},
   "outputs": [
    {
     "ename": "SyntaxError",
     "evalue": "invalid syntax (<ipython-input-1-c11d0c87e183>, line 3)",
     "output_type": "error",
     "traceback": [
      "\u001b[1;36m  File \u001b[1;32m\"<ipython-input-1-c11d0c87e183>\"\u001b[1;36m, line \u001b[1;32m3\u001b[0m\n\u001b[1;33m    if there is a solution at v :\u001b[0m\n\u001b[1;37m                         ^\u001b[0m\n\u001b[1;31mSyntaxError\u001b[0m\u001b[1;31m:\u001b[0m invalid syntax\n"
     ]
    }
   ],
   "source": [
    "def checknode(v) : #node\n",
    "    if promising(v) :\n",
    "        if there is a solution at v :\n",
    "            write the solution\n",
    "        else :\n",
    "            for u in each child of v :\n",
    "                checkonde(u)"
   ]
  },
  {
   "cell_type": "markdown",
   "metadata": {},
   "source": [
    "깊이 우선 검색 vs 백트래킹\n",
    "\n",
    "예시에서\n",
    "\n",
    "순수한 깊이 우선 탐색 -> 155노드\n",
    "\n",
    "백트래킹 -> 27노드\n",
    "\n",
    "-1/5 소요->\n",
    "\n",
    "### Power Set\n",
    "- 어떤 집합의 공집합과 자기자신을 포함한 모든 부분집합\n",
    "- 구하고자 하는 어떤 집합의 원소 개수가 n일 경우 부분지밥의 개수는 2^n이 나옴\n",
    "\n",
    "백트래킹 기법으로 Power Set 구하기\n",
    "- 일반적인 백트래킹 접근 방법 이용\n",
    "- n개의 원소가 들어있는 집합의 2^n개의 부분집합을 만들 때, True또는 False값을 가지는 항목들로 구성된 n개의 리스트를 만드는 방법 이용\n",
    "- 리스트의 i번째 항목은 i번째의 원소가 부분집합의 값인지 아닌지를 나타내는 값\n"
   ]
  },
  {
   "cell_type": "code",
   "execution_count": 10,
   "metadata": {},
   "outputs": [],
   "source": [
    "# Power Set을 구하는 백트래킹 알고리즘\n",
    "def backtrack(a, k, input) :\n",
    "    global MAXCANDIDATES\n",
    "    c = [0] * MAXCANDIDATES\n",
    "    \n",
    "    if k == input :\n",
    "        process_solution(a, k), # 답이면 원하는 작업을 한다\n",
    "    else :\n",
    "        k += 1\n",
    "        ncandidates = construct_candidates(a, k, input, c)\n",
    "        for i in range(ncandidates) :\n",
    "            a[k] = c[i]\n",
    "            backtrack(a, k, input)\n",
    "            "
   ]
  },
  {
   "cell_type": "code",
   "execution_count": 11,
   "metadata": {},
   "outputs": [
    {
     "ename": "NameError",
     "evalue": "name 'process_solution' is not defined",
     "output_type": "error",
     "traceback": [
      "\u001b[1;31m---------------------------------------------------------------------------\u001b[0m",
      "\u001b[1;31mNameError\u001b[0m                                 Traceback (most recent call last)",
      "\u001b[1;32m<ipython-input-11-9d8469e9f827>\u001b[0m in \u001b[0;36m<module>\u001b[1;34m\u001b[0m\n\u001b[0;32m      8\u001b[0m \u001b[0mNMAX\u001b[0m \u001b[1;33m=\u001b[0m \u001b[1;36m100\u001b[0m\u001b[1;33m\u001b[0m\u001b[1;33m\u001b[0m\u001b[0m\n\u001b[0;32m      9\u001b[0m \u001b[0ma\u001b[0m \u001b[1;33m=\u001b[0m \u001b[1;33m[\u001b[0m\u001b[1;36m0\u001b[0m\u001b[1;33m]\u001b[0m\u001b[1;33m*\u001b[0m\u001b[0mNMAX\u001b[0m\u001b[1;33m\u001b[0m\u001b[1;33m\u001b[0m\u001b[0m\n\u001b[1;32m---> 10\u001b[1;33m \u001b[0mbacktrack\u001b[0m\u001b[1;33m(\u001b[0m\u001b[0ma\u001b[0m\u001b[1;33m,\u001b[0m \u001b[1;36m0\u001b[0m\u001b[1;33m,\u001b[0m \u001b[1;36m3\u001b[0m\u001b[1;33m)\u001b[0m\u001b[1;33m\u001b[0m\u001b[1;33m\u001b[0m\u001b[0m\n\u001b[0m",
      "\u001b[1;32m<ipython-input-10-dd7cb4bc9944>\u001b[0m in \u001b[0;36mbacktrack\u001b[1;34m(a, k, input)\u001b[0m\n\u001b[0;32m     11\u001b[0m         \u001b[1;32mfor\u001b[0m \u001b[0mi\u001b[0m \u001b[1;32min\u001b[0m \u001b[0mrange\u001b[0m\u001b[1;33m(\u001b[0m\u001b[0mncandidates\u001b[0m\u001b[1;33m)\u001b[0m \u001b[1;33m:\u001b[0m\u001b[1;33m\u001b[0m\u001b[1;33m\u001b[0m\u001b[0m\n\u001b[0;32m     12\u001b[0m             \u001b[0ma\u001b[0m\u001b[1;33m[\u001b[0m\u001b[0mk\u001b[0m\u001b[1;33m]\u001b[0m \u001b[1;33m=\u001b[0m \u001b[0mc\u001b[0m\u001b[1;33m[\u001b[0m\u001b[0mi\u001b[0m\u001b[1;33m]\u001b[0m\u001b[1;33m\u001b[0m\u001b[1;33m\u001b[0m\u001b[0m\n\u001b[1;32m---> 13\u001b[1;33m             \u001b[0mbacktrack\u001b[0m\u001b[1;33m(\u001b[0m\u001b[0ma\u001b[0m\u001b[1;33m,\u001b[0m \u001b[0mk\u001b[0m\u001b[1;33m,\u001b[0m \u001b[0minput\u001b[0m\u001b[1;33m)\u001b[0m\u001b[1;33m\u001b[0m\u001b[1;33m\u001b[0m\u001b[0m\n\u001b[0m\u001b[0;32m     14\u001b[0m \u001b[1;33m\u001b[0m\u001b[0m\n",
      "\u001b[1;32m<ipython-input-10-dd7cb4bc9944>\u001b[0m in \u001b[0;36mbacktrack\u001b[1;34m(a, k, input)\u001b[0m\n\u001b[0;32m     11\u001b[0m         \u001b[1;32mfor\u001b[0m \u001b[0mi\u001b[0m \u001b[1;32min\u001b[0m \u001b[0mrange\u001b[0m\u001b[1;33m(\u001b[0m\u001b[0mncandidates\u001b[0m\u001b[1;33m)\u001b[0m \u001b[1;33m:\u001b[0m\u001b[1;33m\u001b[0m\u001b[1;33m\u001b[0m\u001b[0m\n\u001b[0;32m     12\u001b[0m             \u001b[0ma\u001b[0m\u001b[1;33m[\u001b[0m\u001b[0mk\u001b[0m\u001b[1;33m]\u001b[0m \u001b[1;33m=\u001b[0m \u001b[0mc\u001b[0m\u001b[1;33m[\u001b[0m\u001b[0mi\u001b[0m\u001b[1;33m]\u001b[0m\u001b[1;33m\u001b[0m\u001b[1;33m\u001b[0m\u001b[0m\n\u001b[1;32m---> 13\u001b[1;33m             \u001b[0mbacktrack\u001b[0m\u001b[1;33m(\u001b[0m\u001b[0ma\u001b[0m\u001b[1;33m,\u001b[0m \u001b[0mk\u001b[0m\u001b[1;33m,\u001b[0m \u001b[0minput\u001b[0m\u001b[1;33m)\u001b[0m\u001b[1;33m\u001b[0m\u001b[1;33m\u001b[0m\u001b[0m\n\u001b[0m\u001b[0;32m     14\u001b[0m \u001b[1;33m\u001b[0m\u001b[0m\n",
      "\u001b[1;32m<ipython-input-10-dd7cb4bc9944>\u001b[0m in \u001b[0;36mbacktrack\u001b[1;34m(a, k, input)\u001b[0m\n\u001b[0;32m     11\u001b[0m         \u001b[1;32mfor\u001b[0m \u001b[0mi\u001b[0m \u001b[1;32min\u001b[0m \u001b[0mrange\u001b[0m\u001b[1;33m(\u001b[0m\u001b[0mncandidates\u001b[0m\u001b[1;33m)\u001b[0m \u001b[1;33m:\u001b[0m\u001b[1;33m\u001b[0m\u001b[1;33m\u001b[0m\u001b[0m\n\u001b[0;32m     12\u001b[0m             \u001b[0ma\u001b[0m\u001b[1;33m[\u001b[0m\u001b[0mk\u001b[0m\u001b[1;33m]\u001b[0m \u001b[1;33m=\u001b[0m \u001b[0mc\u001b[0m\u001b[1;33m[\u001b[0m\u001b[0mi\u001b[0m\u001b[1;33m]\u001b[0m\u001b[1;33m\u001b[0m\u001b[1;33m\u001b[0m\u001b[0m\n\u001b[1;32m---> 13\u001b[1;33m             \u001b[0mbacktrack\u001b[0m\u001b[1;33m(\u001b[0m\u001b[0ma\u001b[0m\u001b[1;33m,\u001b[0m \u001b[0mk\u001b[0m\u001b[1;33m,\u001b[0m \u001b[0minput\u001b[0m\u001b[1;33m)\u001b[0m\u001b[1;33m\u001b[0m\u001b[1;33m\u001b[0m\u001b[0m\n\u001b[0m\u001b[0;32m     14\u001b[0m \u001b[1;33m\u001b[0m\u001b[0m\n",
      "\u001b[1;32m<ipython-input-10-dd7cb4bc9944>\u001b[0m in \u001b[0;36mbacktrack\u001b[1;34m(a, k, input)\u001b[0m\n\u001b[0;32m      5\u001b[0m \u001b[1;33m\u001b[0m\u001b[0m\n\u001b[0;32m      6\u001b[0m     \u001b[1;32mif\u001b[0m \u001b[0mk\u001b[0m \u001b[1;33m==\u001b[0m \u001b[0minput\u001b[0m \u001b[1;33m:\u001b[0m\u001b[1;33m\u001b[0m\u001b[1;33m\u001b[0m\u001b[0m\n\u001b[1;32m----> 7\u001b[1;33m         \u001b[0mprocess_solution\u001b[0m\u001b[1;33m(\u001b[0m\u001b[0ma\u001b[0m\u001b[1;33m,\u001b[0m \u001b[0mk\u001b[0m\u001b[1;33m)\u001b[0m\u001b[1;33m,\u001b[0m \u001b[1;31m# 답이면 원하는 작업을 한다\u001b[0m\u001b[1;33m\u001b[0m\u001b[1;33m\u001b[0m\u001b[0m\n\u001b[0m\u001b[0;32m      8\u001b[0m     \u001b[1;32melse\u001b[0m \u001b[1;33m:\u001b[0m\u001b[1;33m\u001b[0m\u001b[1;33m\u001b[0m\u001b[0m\n\u001b[0;32m      9\u001b[0m         \u001b[0mk\u001b[0m \u001b[1;33m+=\u001b[0m \u001b[1;36m1\u001b[0m\u001b[1;33m\u001b[0m\u001b[1;33m\u001b[0m\u001b[0m\n",
      "\u001b[1;31mNameError\u001b[0m: name 'process_solution' is not defined"
     ]
    }
   ],
   "source": [
    "# 후보군 구하는 함수\n",
    "def construct_candidates(a, k, input, c) :\n",
    "    c[0] = True\n",
    "    c[1] = False\n",
    "    return 2\n",
    " \n",
    "MAXCANDIDATES = 100\n",
    "NMAX = 100\n",
    "a = [0]*NMAX\n",
    "backtrack(a, 0, 3)"
   ]
  },
  {
   "cell_type": "markdown",
   "metadata": {},
   "source": [
    "순열을 구하는 백트래킹 알고리즘"
   ]
  },
  {
   "cell_type": "code",
   "execution_count": 6,
   "metadata": {},
   "outputs": [],
   "source": [
    "def construct_candidates(a, k, input, c) :\n",
    "    in_perm = [False] * NMAX\n",
    "    \n",
    "    for i in range(1, k) :\n",
    "        in_perm[a[i]] = True\n",
    "        \n",
    "    ncandidates = 0\n",
    "    for i in range(1, input+1) :\n",
    "        if in_perm[i] == False:\n",
    "            c[ncandidates] = i\n",
    "            ncandidates += 1\n",
    "    return ncandidates"
   ]
  },
  {
   "cell_type": "markdown",
   "metadata": {},
   "source": [
    "## 분할 정복\n",
    "### 분할 정복 알고리즘\n",
    "\n",
    "설계 전략\n",
    " 나폴레옹 : 아우스터리츠 전투에서 연합군을 공격하기 위해 연합군을 둘로 나누고, 둘로 나뉜 연합군을 한 부분씩 격파햇다\n",
    " \n",
    " - 분할(Divide) : 해결할 문제를 여러 개의 작은 부분으로 나눔\n",
    " - 정복(Conquer) : 나눈 작은 문제를 각각 해결\n",
    " - 통합(Combine) : (필요하다면) 해결된 해답을 모음\n"
   ]
  },
  {
   "cell_type": "code",
   "execution_count": 1,
   "metadata": {},
   "outputs": [
    {
     "ename": "IndentationError",
     "evalue": "unexpected indent (<ipython-input-1-c08d6a128874>, line 4)",
     "output_type": "error",
     "traceback": [
      "\u001b[1;36m  File \u001b[1;32m\"<ipython-input-1-c08d6a128874>\"\u001b[1;36m, line \u001b[1;32m4\u001b[0m\n\u001b[1;33m    result = 1 # Base^0은 1이므로\u001b[0m\n\u001b[1;37m    ^\u001b[0m\n\u001b[1;31mIndentationError\u001b[0m\u001b[1;31m:\u001b[0m unexpected indent\n"
     ]
    }
   ],
   "source": [
    "# 거듭 제곱(Exponentiation) 알고리즘 : O(n)\n",
    "def Power(Base, Exponent) : \n",
    "    if Base == 0 : return 1\n",
    "        result = 1 # Base^0은 1이므로\n",
    "    for i in range(Exponent) : \n",
    "        result *= Base\n",
    "    return result"
   ]
  },
  {
   "cell_type": "markdown",
   "metadata": {},
   "source": [
    "복잡도 O(n)"
   ]
  },
  {
   "cell_type": "markdown",
   "metadata": {},
   "source": [
    "퀵 정렬과 합병 정렬의 비교\n",
    "\n",
    "공통점 - 주어진 리스트를 두 개로 분할하고, 각각을 정렬\n",
    "\n",
    "차이점\n",
    " 합병 정렬 : 분할할 때, 단순하게 두 부분으로 나눔, 각 부분 정렬이 끝난 후, '합병'이란 후처리 작업이 필요함\n",
    " 퀵 정렬 : 분할할 때, 기준 아이템(Pivot Item)을 중심으로, 이보다 작은 것은 왼편, 큰 것은 오른편에 위치시킴, 각 부분 정렬이 끝난 후, 후처리 작업이 필요로 하지 않음."
   ]
  },
  {
   "cell_type": "code",
   "execution_count": 2,
   "metadata": {},
   "outputs": [],
   "source": [
    "# 퀵 정렬 알고리즘\n",
    "def quickSort(a, begin, end) : \n",
    "    if begin < end :\n",
    "        p = partition(a, begine, end)\n",
    "        quickSort(a, begin, p-1)\n",
    "        quickSort(a, p+1, end)"
   ]
  },
  {
   "cell_type": "code",
   "execution_count": 4,
   "metadata": {},
   "outputs": [
    {
     "ename": "SyntaxError",
     "evalue": "invalid syntax (<ipython-input-4-f343745de1e9>, line 12)",
     "output_type": "error",
     "traceback": [
      "\u001b[1;36m  File \u001b[1;32m\"<ipython-input-4-f343745de1e9>\"\u001b[1;36m, line \u001b[1;32m12\u001b[0m\n\u001b[1;33m    retrun R\u001b[0m\n\u001b[1;37m           ^\u001b[0m\n\u001b[1;31mSyntaxError\u001b[0m\u001b[1;31m:\u001b[0m invalid syntax\n"
     ]
    }
   ],
   "source": [
    "def partition(a, begin, end) :\n",
    "    pivot = (begin + end)//2\n",
    "    L = begin\n",
    "    R = end\n",
    "    while L < R :\n",
    "        while(a[L] < a[pivot] and L < R) : L += 1\n",
    "        while(a[R] >= a[pivot] and L <R) : R -= 1\n",
    "        if L < R :\n",
    "            if L == pivot : pivot = R\n",
    "            a[L], a[R] = a[R], a[L]\n",
    "    a[pivot], a[R] = a[R], a[pivot]\n",
    "    retrun R    \n",
    "                "
   ]
  },
  {
   "cell_type": "markdown",
   "metadata": {},
   "source": [
    "퀵 정렬의 최악의 시간 복잡도는 O(n^2)\n",
    "-> 합병정렬에 비해 좋지 못한\n",
    "\n",
    "그런데, 왜 '빠른(Quick)' 정렬이라고 했을까?\n",
    "-> 퀵 정렬의 평균 복잡도는 nlogn이기 때문임\n"
   ]
  }
 ],
 "metadata": {
  "kernelspec": {
   "display_name": "Python 3",
   "language": "python",
   "name": "python3"
  },
  "language_info": {
   "codemirror_mode": {
    "name": "ipython",
    "version": 3
   },
   "file_extension": ".py",
   "mimetype": "text/x-python",
   "name": "python",
   "nbconvert_exporter": "python",
   "pygments_lexer": "ipython3",
   "version": "3.7.4"
  }
 },
 "nbformat": 4,
 "nbformat_minor": 2
}
