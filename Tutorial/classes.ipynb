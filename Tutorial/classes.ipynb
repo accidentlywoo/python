{
 "cells": [
  {
   "cell_type": "markdown",
   "metadata": {},
   "source": [
    "다른 프로그래밍 언어들과 비교를 할 때, Python의 클래스 메커니즘은\n",
    "약간 새로운 문법과 개념을 써서 클레스를 추가 한다.\n",
    "(C++과 모듈라-3(?)에서 사용되는 클래스 메커니즘을 혼합한다.\n",
    "\n",
    "파이썬의 클래스는 객체 지향형 프로그래밍의 모든 표준 기능을 제공한다.\n",
    "\n",
    "*다중상속 클래스베이스를 허락하고, 자식 클래스는 베이스 클래스나 부모 클래스의 어떤 메소드도 재정의할 수 있다.\n",
    "홀리 쒯\n",
    "\n",
    "메서드는 베이스 클래스의 메서드를 호출할 수 있다. \n",
    "\n",
    "객체들은 종류와 양적에 제한 없이 데이터를 가질 수 있다.\n",
    "\n",
    "모듈과 마찬가지로, 클래스는 Python의 동적인 원시성을 갖는다.\n",
    "\n",
    "실행 시간에 만들어지고, 만들어진 후에도 더 수정될 수 있다."
   ]
  },
  {
   "cell_type": "markdown",
   "metadata": {},
   "source": [
    "---"
   ]
  },
  {
   "cell_type": "markdown",
   "metadata": {},
   "source": [
    "### Name과 Object\n",
    "\n",
    "객체는 개체성(individuality)를 갖고, 여러 개의 이름이(다양한 범위에서)같은 객체에 연결될 수 있다. \n",
    "\n",
    "-> Aliasing\n",
    "\n",
    "Python은 Immutable 타입의 데이터를 다룰 때 눈에띄는 특징이 아니다. \n",
    "\n",
    "하지만 Aliasing은 Mutable 타입의 데이터를 다룰 때 극적인 효과를 줄 수 있다.\n",
    "\n",
    "Aliase는 어떤 부분에서 포인터처럼 동작하기 때문이다. \n",
    "\n",
    "예를 들어, 구현체가 포인터만 전달하기 때문에, 객체를 전달하는 비용이 적게든다.\n",
    "\n",
    "그리고 함수가 인자로 전달된 객체를 수정하면, 호출자는 그 변경을 수용한다.\n",
    "\n",
    "--> 파스칼에서 사용되는 두 가지 서로 다른 인자 전달 메커니즘의 필요를 제거한다.\n",
    "\n"
   ]
  },
  {
   "cell_type": "markdown",
   "metadata": {},
   "source": [
    "---"
   ]
  },
  {
   "cell_type": "markdown",
   "metadata": {},
   "source": [
    "### Python Scope와 NameSpace\n",
    "\n",
    "이 주제에 대한 지식은 모든 고급 파이썬 프로그래머에게 쓸모사 있다.\n",
    "\n",
    "몇가지 정의로 시작한다.\n",
    "\n",
    "NameSpace는 Name에서 객체로가는 매핑이다.대부분의 NameSpace는 현재 파이썬 딕셔너리로 구현되어 있지만, 보통 알아볼 수 없고(성능 예외), 앞으로 바뀔 수 있다,\n",
    "\n",
    "NameSpace의 Example : 빌트인 Name집합.(abs()와 같은 함수들과 빌트인 예외 이름들 포함)모듈의 전역 Name, 함수 호출에서 LocalName, 객체의 attribute집합고 NameSpace을 형성한다.\n",
    "\n",
    "NameSpace에 대해 알아야 할 중요한 것은 서로 다른 NameSpace의 Name간에는 아무런 관계가 없다는 것.\n",
    "\n",
    "두 개의 서로 다른 모듈들은 모두 혼동없이 함수를 최대한 활용할 수 있다.\n",
    "\n",
    "-- 모듈의 사용자들은 모듈 이름을 앞에 붙여야 한다.\n",
    "\n",
    "그런데, attribute는 단어뒤에 점을 붙여 사용한다. ex) z.real에서 객체 z의 attribe real\n",
    "\n",
    "attribte는 읽기전용이거나 쓰기가 가능하다.ex) modname.the_answer = 42\n",
    "쓰기가 가능한 attribute는 'del' 문으로 삭제할 수 있다.ex) del modname.the_answer\n",
    "\n",
    "NamaSpace는 각각 생성 시간이 다르고, 각각 다른 LifeCycle을 갖는다. Built in Names은 담는 이름의 메모리 공간이 파이썬 인터프리터가 시작할 때 만들어지고 영원히 지워지지 않는다.\n",
    "\n",
    "모듈의 전역 이름 공간은 모듈 정의를 읽는 동안 만들어진다. 보통 모듈의 NameSpace는 인터프리터가 끝날 때까지 남는다. \n",
    "\n",
    "인터프이터의 최상위 호출 때문에 실행되는 스크립트 파일이나 대화형으로 읽히는 문장들은 '__main__'이라고 불리는 모듈의 일부로 여겨져서 드 들의 자신의 NameSpace을 갖는다.\n",
    "(Built in Names 또한 모듈에 속하는데, 이것들을 builtins라 부른다.)\n",
    "\n",
    "함수의 Local NameSpace는 함수가 호출될 때 만들어지고, 함수가 재호출하거나 함수 내에서 처리되지 않는 예외를 일으킬 때 삭제된다.(잊어버린다)\n",
    "\n",
    "재귀적 호출은 각각 자기 자신만의 지역 이름 공간을 갖는다.\n",
    "\n",
    "Scope는 NameSpace을 \"직접 액세스할 수 있는\" 파이썬 프로그램의 텍스트 적인 영역이다.\n",
    "\n",
    "여기서 \"직접 액세스할 수 있는\"이란 이름에 대한 처리(메모리에 접근할 수 있는 정규화처리(아마도 바이트 처리))없이 그 이름 공간에 접근하려는 시도.\n",
    "\n",
    "Scope는 정적으로 결정됨에도 불구하고, 동적으로 사용된다.\n",
    "\n",
    "실행 중 어느 시점에서건, 이름 공간을 직접 접근가능한, 최소 3개의 중첩된 Scope가 있다.\n",
    "\n",
    " * 가장 먼저 검색되는, 가장 내부 Scope는 Local Names을 포함한다.\n",
    " \n",
    " * wrapping 함수들의 스코프는, 첫 상위 wrapping Scope 로부터 검색이 시작된다.\n",
    "non-local이지만 non-global 이름들을 포함한다.\n",
    "\n",
    " * 최상위 wrapping Scope는 (가장 나중에 검색되는) 내장 이름들을 초함하고 있는 NameScope이다.\n",
    " \n",
    "이름을 'global'로 선언하면, 모든 참조와 대입은 전역 이름들을 포함하는 Scope로 이동한다.\n",
    "\n",
    "'nonlocal'키워드는 코드로 느껴라. 내부 함수에서 1스코프 상위 함수를 참조할 때 사용하고, 'nonlocal' 키워드를 사용하지 않으면 읽기 전용이다.\n",
    "\n",
    "보통, local scope는 현재 함수의 지역 이름들을(텍스트 적으로) 참조한다. 함수 바깥에서 지역 스코프는 전역 스코프와 같은 이름 공간을 참조 한다.모듈의 NameSpace, 클래스 정의들은 지역 스코프에 또 하나의 NameSpace를 배치한다.\n",
    "\n",
    "Scope가 텍스트 적으로 결정된다는 것을 깨닫는 것은 중요쓰~. \n",
    "\n",
    "이름을 실제로 검색하는 것은 실행시간에 동적으로 수행된다.\n",
    "\n",
    "(하지만, 언어 정의는 컴파일 시점의 정적인 이름 결정을 향해 진화하고 있어서, 동적인 이름 결정에 의존하지 말아야 한다.\n",
    "\n",
    "사실, 지역 변수들은 이미 정적으로 결정된다.)\n",
    "\n",
    "파이썬의 특별한 특징은 'global'문이 없을 때 이름에 대입하면 가장 내부 Scope로 간다는 것이다. "
   ]
  },
  {
   "cell_type": "markdown",
   "metadata": {},
   "source": [
    "---"
   ]
  },
  {
   "cell_type": "markdown",
   "metadata": {},
   "source": [
    "### 스코프와 이름 공간\n",
    "\n",
    "'global'과 'nonlocal'"
   ]
  },
  {
   "cell_type": "code",
   "execution_count": 6,
   "metadata": {},
   "outputs": [],
   "source": [
    "def scope_test():\n",
    "    def do_local():\n",
    "        spam = 'local spam'\n",
    "        \n",
    "    def do_nonlocal():\n",
    "        nonlocal spam\n",
    "        spam = \"nonlocal spam\"\n",
    "        \n",
    "    def do_global():\n",
    "        global spam \n",
    "        spam = \"global spam\"\n",
    "        \n",
    "    spam = \"test spam\"\n",
    "    do_local()\n",
    "    print(\"After local assignment:\",spam)\n",
    "    do_nonlocal()\n",
    "    print(\"After nonlocal assignment:\",spam)\n",
    "    do_global()\n",
    "    print(\"After global assignment:\",spam)"
   ]
  },
  {
   "cell_type": "code",
   "execution_count": 7,
   "metadata": {},
   "outputs": [
    {
     "name": "stdout",
     "output_type": "stream",
     "text": [
      "After local assignment: test spam\n",
      "After nonlocal assignment: nonlocal spam\n",
      "After global assignment: nonlocal spam\n"
     ]
    }
   ],
   "source": [
    "scope_test()"
   ]
  },
  {
   "cell_type": "code",
   "execution_count": 8,
   "metadata": {},
   "outputs": [
    {
     "name": "stdout",
     "output_type": "stream",
     "text": [
      "in global scope: global spam\n"
     ]
    }
   ],
   "source": [
    "print(\"in global scope:\",spam)"
   ]
  },
  {
   "cell_type": "markdown",
   "metadata": {},
   "source": [
    "### 클래스\n",
    "\n",
    "약간의 새로운 문법과 3개의 객체향과 몇 가지 새로운 개념들을 도입한다."
   ]
  },
  {
   "cell_type": "markdown",
   "metadata": {},
   "source": [
    "#### 클래스 정의와 문법"
   ]
  },
  {
   "cell_type": "markdown",
   "metadata": {},
   "source": [
    "```class ClassName:\n",
    "    <statement -1>\n",
    "    .\n",
    "    .\n",
    "    .\n",
    "    <statement -N>\n",
    "    ```"
   ]
  },
  {
   "cell_type": "markdown",
   "metadata": {},
   "source": [
    "클래스의 정의는 기능을 수행하기 위해 먼저 실행되어야 한다.\n",
    "(클래스 정의는 if문, 함수 내부에 올 수 있다.)\n",
    "\n",
    "클래스 정의 내부 문장들은 보통 함수 정의들이지만, 다른 문장들도 허락된다.\n",
    "\n",
    "-- 클래스 내부의 함수 정의는 보통, 메서드 호출 규약의 영향을 받은 특별한 형태의 인자 목록을 갖는다.\n",
    "\n",
    "클래스 정의를 할 떄, 새 NameSpace가 만들어지고 Local Scope로 사용된다.\n"
   ]
  },
  {
   "cell_type": "markdown",
   "metadata": {},
   "source": [
    "---"
   ]
  },
  {
   "cell_type": "markdown",
   "metadata": {},
   "source": [
    "### 클래스 객체\n",
    "\n",
    "클래스 객체는 두종류의 연산을 지원한다.attribute 참조와 인스턴스 생성.\n",
    "\n",
    "어트리뷰트 참조는 파이썬의 모든 어트리뷰트 참조에 사용되는 표준 문법을 사용한다.\n"
   ]
  },
  {
   "cell_type": "code",
   "execution_count": 1,
   "metadata": {},
   "outputs": [],
   "source": [
    "class MyClass:\n",
    "    \"\"\"A simple example class\"\"\"\n",
    "    i = 12345\n",
    "    \n",
    "    def f(self):\n",
    "        return 'hello world'"
   ]
  },
  {
   "cell_type": "markdown",
   "metadata": {},
   "source": [
    "MyClass.i와 MyClass.f는 올바른 어트리뷰트 참조이고, 각기 정수와 함수 객체를 돌려준다.\n",
    "\n",
    "클래스 어트리뷰트는 대입을 통해 값을 변경할 수 있다. \n",
    "\n",
    "```__doc__```도 역시 어트리뷰트이고, 클래스에 속한 독스트링을 반환한다."
   ]
  },
  {
   "cell_type": "code",
   "execution_count": 3,
   "metadata": {},
   "outputs": [
    {
     "data": {
      "text/plain": [
       "12345"
      ]
     },
     "execution_count": 3,
     "metadata": {},
     "output_type": "execute_result"
    }
   ],
   "source": [
    "MyClass.i"
   ]
  },
  {
   "cell_type": "code",
   "execution_count": 4,
   "metadata": {},
   "outputs": [
    {
     "data": {
      "text/plain": [
       "<function __main__.MyClass.f(self)>"
      ]
     },
     "execution_count": 4,
     "metadata": {},
     "output_type": "execute_result"
    }
   ],
   "source": [
    "MyClass.f"
   ]
  },
  {
   "cell_type": "code",
   "execution_count": 5,
   "metadata": {},
   "outputs": [
    {
     "ename": "TypeError",
     "evalue": "f() missing 1 required positional argument: 'self'",
     "output_type": "error",
     "traceback": [
      "\u001b[1;31m---------------------------------------------------------------------------\u001b[0m",
      "\u001b[1;31mTypeError\u001b[0m                                 Traceback (most recent call last)",
      "\u001b[1;32m<ipython-input-5-dd9fb80f1363>\u001b[0m in \u001b[0;36m<module>\u001b[1;34m\u001b[0m\n\u001b[1;32m----> 1\u001b[1;33m \u001b[0mMyClass\u001b[0m\u001b[1;33m.\u001b[0m\u001b[0mf\u001b[0m\u001b[1;33m(\u001b[0m\u001b[1;33m)\u001b[0m\u001b[1;33m\u001b[0m\u001b[1;33m\u001b[0m\u001b[0m\n\u001b[0m",
      "\u001b[1;31mTypeError\u001b[0m: f() missing 1 required positional argument: 'self'"
     ]
    }
   ],
   "source": [
    "MyClass.f()"
   ]
  },
  {
   "cell_type": "code",
   "execution_count": 6,
   "metadata": {},
   "outputs": [
    {
     "ename": "NameError",
     "evalue": "name 'self' is not defined",
     "output_type": "error",
     "traceback": [
      "\u001b[1;31m---------------------------------------------------------------------------\u001b[0m",
      "\u001b[1;31mNameError\u001b[0m                                 Traceback (most recent call last)",
      "\u001b[1;32m<ipython-input-6-e7d80fa04635>\u001b[0m in \u001b[0;36m<module>\u001b[1;34m\u001b[0m\n\u001b[1;32m----> 1\u001b[1;33m \u001b[0mMyClass\u001b[0m\u001b[1;33m.\u001b[0m\u001b[0mf\u001b[0m\u001b[1;33m(\u001b[0m\u001b[0mself\u001b[0m\u001b[1;33m)\u001b[0m\u001b[1;33m\u001b[0m\u001b[1;33m\u001b[0m\u001b[0m\n\u001b[0m",
      "\u001b[1;31mNameError\u001b[0m: name 'self' is not defined"
     ]
    }
   ],
   "source": [
    "MyClass.f(self)"
   ]
  },
  {
   "cell_type": "code",
   "execution_count": 7,
   "metadata": {},
   "outputs": [
    {
     "data": {
      "text/plain": [
       "'A simple example class'"
      ]
     },
     "execution_count": 7,
     "metadata": {},
     "output_type": "execute_result"
    }
   ],
   "source": [
    "MyClass.__doc__"
   ]
  },
  {
   "cell_type": "markdown",
   "metadata": {},
   "source": [
    "클래스의 인스턴스 생성은 함수 표기법을 사용한다. \n",
    "\n",
    "클래스 객체가 클래스의 새 인스턴스를 돌려주는 매개변수 없는 함수인 척한다."
   ]
  },
  {
   "cell_type": "code",
   "execution_count": 8,
   "metadata": {},
   "outputs": [],
   "source": [
    "x = MyClass()"
   ]
  },
  {
   "cell_type": "code",
   "execution_count": 9,
   "metadata": {},
   "outputs": [
    {
     "data": {
      "text/plain": [
       "<__main__.MyClass at 0x1b35e3b3780>"
      ]
     },
     "execution_count": 9,
     "metadata": {},
     "output_type": "execute_result"
    }
   ],
   "source": [
    "x"
   ]
  },
  {
   "cell_type": "code",
   "execution_count": 10,
   "metadata": {},
   "outputs": [
    {
     "data": {
      "text/plain": [
       "12345"
      ]
     },
     "execution_count": 10,
     "metadata": {},
     "output_type": "execute_result"
    }
   ],
   "source": [
    "x.i"
   ]
  },
  {
   "cell_type": "code",
   "execution_count": 11,
   "metadata": {},
   "outputs": [
    {
     "data": {
      "text/plain": [
       "'hello world'"
      ]
     },
     "execution_count": 11,
     "metadata": {},
     "output_type": "execute_result"
    }
   ],
   "source": [
    "x.f()"
   ]
  },
  {
   "cell_type": "code",
   "execution_count": 12,
   "metadata": {},
   "outputs": [
    {
     "data": {
      "text/plain": [
       "<bound method MyClass.f of <__main__.MyClass object at 0x000001B35E3B3780>>"
      ]
     },
     "execution_count": 12,
     "metadata": {},
     "output_type": "execute_result"
    }
   ],
   "source": [
    "x.f"
   ]
  },
  {
   "cell_type": "markdown",
   "metadata": {},
   "source": [
    "인스턴스 생성(클래스 객체 호출하기)연산은 빈 객체를 만든다.\n",
    "\n",
    "많은 경우에, 클래스는 초기 상태를 커스터마이징된 인스턴스 생성을 사용한다.\n",
    "\n",
    "그래서``` __init__()```라는 특수 메서드를 정의할 수 있다."
   ]
  },
  {
   "cell_type": "code",
   "execution_count": 15,
   "metadata": {},
   "outputs": [],
   "source": [
    "def __init__(self):\n",
    "    self.data = []"
   ]
  },
  {
   "cell_type": "code",
   "execution_count": 16,
   "metadata": {},
   "outputs": [],
   "source": [
    "class Complex:\n",
    "    def __init__(self, realpart, impagpart):\n",
    "        self.r = realpart\n",
    "        self.i = impagpart"
   ]
  },
  {
   "cell_type": "code",
   "execution_count": 17,
   "metadata": {},
   "outputs": [],
   "source": [
    "x = Complex(3.0, -4.5)"
   ]
  },
  {
   "cell_type": "code",
   "execution_count": 18,
   "metadata": {},
   "outputs": [
    {
     "data": {
      "text/plain": [
       "(3.0, -4.5)"
      ]
     },
     "execution_count": 18,
     "metadata": {},
     "output_type": "execute_result"
    }
   ],
   "source": [
    "x.r, x.i"
   ]
  },
  {
   "cell_type": "markdown",
   "metadata": {},
   "source": [
    "### 인스턴스 객체\n",
    "\n",
    "인스턴스는 어트리뷰트 참조 연산만 가능.\n",
    "\n",
    "두 가지 어트리뷰 종류가 있다. 데이터 어트리뷰트와 메서드.\n",
    "\n",
    "데이터 어트리뷰트는 인스턴스 변수(small talk?)와 데이터 멤버(C++)에 해당한다.\n",
    "\n",
    "데이터 어트리뷰트는 선언될 필요가 없다. 지역 변수처럼 초기화될 때 생성된다."
   ]
  },
  {
   "cell_type": "code",
   "execution_count": 22,
   "metadata": {},
   "outputs": [],
   "source": [
    "x = MyClass()"
   ]
  },
  {
   "cell_type": "code",
   "execution_count": 25,
   "metadata": {},
   "outputs": [],
   "source": [
    "x.counter = 1"
   ]
  },
  {
   "cell_type": "code",
   "execution_count": 26,
   "metadata": {},
   "outputs": [
    {
     "name": "stdout",
     "output_type": "stream",
     "text": [
      "16\n"
     ]
    }
   ],
   "source": [
    "while x.counter <10 :\n",
    "    x.counter = x.counter * 2\n",
    "print(x.counter)\n",
    "del x.counter"
   ]
  },
  {
   "cell_type": "markdown",
   "metadata": {},
   "source": [
    "다른 인스턴스 어트리뷰트 참조는 메서드 이다.\n",
    "\n",
    "메서드는 객체에 속하는 함수이다.\n"
   ]
  },
  {
   "cell_type": "markdown",
   "metadata": {},
   "source": [
    "---"
   ]
  },
  {
   "cell_type": "markdown",
   "metadata": {},
   "source": [
    "### 메서드 객체\n",
    "\n",
    "보통, 메서드는 연결되자마자 호출된다."
   ]
  },
  {
   "cell_type": "code",
   "execution_count": 27,
   "metadata": {},
   "outputs": [
    {
     "data": {
      "text/plain": [
       "'hello world'"
      ]
     },
     "execution_count": 27,
     "metadata": {},
     "output_type": "execute_result"
    }
   ],
   "source": [
    "x.f()"
   ]
  },
  {
   "cell_type": "markdown",
   "metadata": {},
   "source": [
    "```\n",
    "xf = x.f\n",
    "while True:\n",
    "    print(xf())\n",
    "```"
   ]
  },
  {
   "cell_type": "markdown",
   "metadata": {},
   "source": [
    "메서드를 변수에 넣고 호출할 수 있다.\n",
    "\n",
    "메서드가 호출될 때 정확히 어떤 일이 일어날까?\n",
    "\n",
    "x.f()는 인자없이 호출되었고..\n",
    "\n"
   ]
  },
  {
   "cell_type": "markdown",
   "metadata": {},
   "source": [
    "x.f()은 정확히 MyClass.f(x)와 동등하다. "
   ]
  },
  {
   "cell_type": "code",
   "execution_count": 29,
   "metadata": {},
   "outputs": [
    {
     "data": {
      "text/plain": [
       "'hello world'"
      ]
     },
     "execution_count": 29,
     "metadata": {},
     "output_type": "execute_result"
    }
   ],
   "source": [
    "MyClass.f(x)"
   ]
  },
  {
   "cell_type": "markdown",
   "metadata": {},
   "source": [
    "메서드의 특별함은 인스턴스 객체가 함수의 첫 번째 인자로 전달된다는 것이다.\n",
    "\n",
    "데이터 어트리뷰트가 아닌 인스턴스 어트리뷰트를 참조하면, 그것은 클래스가 검색된다."
   ]
  },
  {
   "cell_type": "markdown",
   "metadata": {},
   "source": [
    "---"
   ]
  },
  {
   "cell_type": "markdown",
   "metadata": {},
   "source": [
    "### 클래스와 인스턴스 변수\n",
    "\n",
    "일반적으로, 인스턴스 변수는 인스턴스별 데이터를 위한 것이고 클래스 변수는 그 클래스의 모든 인스턴스에서 공유되는 어트리뷰트와 메서드를 위한 것이다."
   ]
  },
  {
   "cell_type": "code",
   "execution_count": 32,
   "metadata": {},
   "outputs": [],
   "source": [
    "class Dog:\n",
    "    kind = 'canine'\n",
    "    def __init__(self, name):\n",
    "        self.name = name"
   ]
  },
  {
   "cell_type": "code",
   "execution_count": 33,
   "metadata": {},
   "outputs": [],
   "source": [
    "d = Dog('Fido')"
   ]
  },
  {
   "cell_type": "code",
   "execution_count": 34,
   "metadata": {},
   "outputs": [],
   "source": [
    "e = Dog('Buddy')"
   ]
  },
  {
   "cell_type": "code",
   "execution_count": 35,
   "metadata": {},
   "outputs": [
    {
     "data": {
      "text/plain": [
       "'canine'"
      ]
     },
     "execution_count": 35,
     "metadata": {},
     "output_type": "execute_result"
    }
   ],
   "source": [
    "d.kind"
   ]
  },
  {
   "cell_type": "code",
   "execution_count": 36,
   "metadata": {},
   "outputs": [
    {
     "data": {
      "text/plain": [
       "'Fido'"
      ]
     },
     "execution_count": 36,
     "metadata": {},
     "output_type": "execute_result"
    }
   ],
   "source": [
    "d.name"
   ]
  },
  {
   "cell_type": "code",
   "execution_count": 37,
   "metadata": {},
   "outputs": [
    {
     "data": {
      "text/plain": [
       "'Buddy'"
      ]
     },
     "execution_count": 37,
     "metadata": {},
     "output_type": "execute_result"
    }
   ],
   "source": [
    "e.name"
   ]
  },
  {
   "cell_type": "markdown",
   "metadata": {},
   "source": [
    "Mutable 객체를 사용할 때 클래스 변수에서는 예상치 못한 효과를 줄 수 있다.(사이드 이팩트)\n",
    "\n",
    "ex)"
   ]
  },
  {
   "cell_type": "code",
   "execution_count": 8,
   "metadata": {},
   "outputs": [],
   "source": [
    "class Dog:\n",
    "    \n",
    "    trick = []\n",
    "    \n",
    "    def __init__(self, name):\n",
    "        self.name = name\n",
    "        \n",
    "    def add_trick(self, trick):\n",
    "        self.trick.append(trick)"
   ]
  },
  {
   "cell_type": "code",
   "execution_count": 9,
   "metadata": {},
   "outputs": [],
   "source": [
    "d = Dog(\"Fodo\")"
   ]
  },
  {
   "cell_type": "code",
   "execution_count": 10,
   "metadata": {},
   "outputs": [],
   "source": [
    "e = Dog(\"Buddy\")"
   ]
  },
  {
   "cell_type": "code",
   "execution_count": 12,
   "metadata": {},
   "outputs": [],
   "source": [
    "d.add_trick(\"roll over\")"
   ]
  },
  {
   "cell_type": "code",
   "execution_count": 13,
   "metadata": {},
   "outputs": [],
   "source": [
    "e.add_trick(\"play dead\")"
   ]
  },
  {
   "cell_type": "code",
   "execution_count": 14,
   "metadata": {},
   "outputs": [
    {
     "data": {
      "text/plain": [
       "['roll over', 'play dead']"
      ]
     },
     "execution_count": 14,
     "metadata": {},
     "output_type": "execute_result"
    }
   ],
   "source": [
    "d.trick"
   ]
  },
  {
   "cell_type": "markdown",
   "metadata": {},
   "source": [
    "리스트나 딕셔너리 같은 가변 객체가 클래스에 참여할때, 예상치 못한 결과가 나올 수 도있다. \n",
    "\n",
    "trick 리스트는 클래스 변수로 사용되지 않아야 하는데, 하나의 리스트가 모든 DOg인스턴스에 공유되기 때문.\n",
    "\n",
    "올바른 설계는 인스턴스 변수를 사용하는 것이다."
   ]
  },
  {
   "cell_type": "code",
   "execution_count": 15,
   "metadata": {},
   "outputs": [],
   "source": [
    "class Dog:\n",
    "    def __init__(self, name):\n",
    "        self.name = name\n",
    "        self.tricks = []\n",
    "        \n",
    "    def add_trick(self, trick):\n",
    "        self.tricks.append(trick)"
   ]
  },
  {
   "cell_type": "code",
   "execution_count": 16,
   "metadata": {},
   "outputs": [],
   "source": [
    "d = Dog(\"Fibo\")"
   ]
  },
  {
   "cell_type": "code",
   "execution_count": 17,
   "metadata": {},
   "outputs": [],
   "source": [
    "e = Dog(\"Buddy\")"
   ]
  },
  {
   "cell_type": "code",
   "execution_count": 18,
   "metadata": {},
   "outputs": [],
   "source": [
    "d.add_trick(\"roll over\")"
   ]
  },
  {
   "cell_type": "code",
   "execution_count": 19,
   "metadata": {},
   "outputs": [],
   "source": [
    "e.add_trick(\"play dead\")"
   ]
  },
  {
   "cell_type": "code",
   "execution_count": 20,
   "metadata": {},
   "outputs": [
    {
     "data": {
      "text/plain": [
       "['roll over']"
      ]
     },
     "execution_count": 20,
     "metadata": {},
     "output_type": "execute_result"
    }
   ],
   "source": [
    "d.tricks"
   ]
  },
  {
   "cell_type": "code",
   "execution_count": 21,
   "metadata": {},
   "outputs": [
    {
     "data": {
      "text/plain": [
       "['play dead']"
      ]
     },
     "execution_count": 21,
     "metadata": {},
     "output_type": "execute_result"
    }
   ],
   "source": [
    "e.tricks"
   ]
  },
  {
   "cell_type": "markdown",
   "metadata": {},
   "source": [
    "---"
   ]
  },
  {
   "cell_type": "markdown",
   "metadata": {},
   "source": [
    "### 기타 주의사항들\n",
    "\n",
    "데이터 어트리뷰트는 같은 이름의 메서드 어트리뷰트를 덮어쓴다. 의도하지 않은 이름 충돌(큰 프로그램에서 찾기 어려운 버그를 만든다)을 피하려면, 충돌의 기회를 최소화하는 어떤 종류의 규칙을 사용하는 것이 현명하다. 가능한 규칙에는 메서드 이름을 대문자로 시작하는 것, 데이터 어트리뷰트엔 언더스코어을 앞에 붙이는 것, 메서드에는 동사를 데이터 어트리뷰트에는 명사를 쓰는 것들이 있다.\n",
    "\n",
    "데이터 어트리뷰트는 메서드 뿐만 아니라 객체의 일반적인 사용자(\"클라이언트\")에 의해서 참조될 수 있다. \n",
    "\n",
    "-> 클래스는 순수하게 추상적인 데이터형을 구현하는데 사용될 수 없다. 사실, 파이썬에서는 데이터 은닉을 강제할 방법이 없다.\n",
    "\n",
    "모두 관례에 의존한다. 켁\n",
    "\n",
    "(반면에, C로 작성된 파이썬 구현은 필요하다면 구현 상세를 완전히 숨기고 객체에 대한 액세스를 제어할 수 있다.이 기술은 C로 작성된 파이썬 확장에서 사용될 수 있다.)\n",
    "\n",
    "클라이언트는 데이터 어트리뷰트를 조심스럽게 사용해야 한다. 클라이언트는 데이터 어트리뷰트를 건드려서 메서드들에 의해 유지되는 불변성 들을 망가뜨릴 수 있다. 클라이언트는 이름 충돌을 피하면서 마음데로 데이터 어트리뷰트를 인스턴스 객체에 추가할 수도 있다.\n",
    "\n",
    "메서드 안에서 데이터 어트리뷰트들을 참조하는 줄임 표현(?)은 없다. 가독성이 높아진다.\n",
    "\n",
    "종종, 메서드의 첫 번쨰 인자는 self라고 불린다. 이것은 관례이다.\n",
    "\n",
    "클래스 어트리뷰트인 모든 함수는 그 클래스의 인스턴스들을 위한 메서드를 정의한다. 함수 정의가 클래스 정의에 텍스트 적으로 둘러싸일 필요는 없다. 함수 객체를 클래스의 지역 변수로 대입하는 것 역시 가능하다."
   ]
  },
  {
   "cell_type": "code",
   "execution_count": 22,
   "metadata": {},
   "outputs": [],
   "source": [
    "# Function defind outside the class\n",
    "\n",
    "def f1(self, x, y):\n",
    "    return min(x, x+y)\n",
    "\n",
    "class C:\n",
    "    f = f1\n",
    "    \n",
    "    def g(self):\n",
    "        return 'hello world'\n",
    "    \n",
    "    h = g"
   ]
  },
  {
   "cell_type": "markdown",
   "metadata": {},
   "source": [
    "f, g, h는 모두 함수 객체를 가리키는 클래스 C의 어트리뷰트고, 결과적으로 이것들은 모두 C의 인스턴스들의 메서드이다. -- h는 정확히 g와 동등하다. 이런 방식은 프로그램의 독자들에세 혼란을 주기만 한다는 점에 주의해라."
   ]
  },
  {
   "cell_type": "code",
   "execution_count": 26,
   "metadata": {},
   "outputs": [],
   "source": [
    "a = C()"
   ]
  },
  {
   "cell_type": "code",
   "execution_count": 27,
   "metadata": {},
   "outputs": [
    {
     "data": {
      "text/plain": [
       "<__main__.C at 0x15543f22b38>"
      ]
     },
     "execution_count": 27,
     "metadata": {},
     "output_type": "execute_result"
    }
   ],
   "source": [
    "a"
   ]
  },
  {
   "cell_type": "code",
   "execution_count": 28,
   "metadata": {},
   "outputs": [
    {
     "data": {
      "text/plain": [
       "'hello world'"
      ]
     },
     "execution_count": 28,
     "metadata": {},
     "output_type": "execute_result"
    }
   ],
   "source": [
    "a.g()"
   ]
  },
  {
   "cell_type": "code",
   "execution_count": 30,
   "metadata": {},
   "outputs": [
    {
     "data": {
      "text/plain": [
       "<bound method f1 of <__main__.C object at 0x0000015543F22B38>>"
      ]
     },
     "execution_count": 30,
     "metadata": {},
     "output_type": "execute_result"
    }
   ],
   "source": [
    "a.f"
   ]
  },
  {
   "cell_type": "code",
   "execution_count": 31,
   "metadata": {},
   "outputs": [
    {
     "data": {
      "text/plain": [
       "1"
      ]
     },
     "execution_count": 31,
     "metadata": {},
     "output_type": "execute_result"
    }
   ],
   "source": [
    "a.f(1,2)"
   ]
  },
  {
   "cell_type": "code",
   "execution_count": 32,
   "metadata": {},
   "outputs": [
    {
     "data": {
      "text/plain": [
       "4"
      ]
     },
     "execution_count": 32,
     "metadata": {},
     "output_type": "execute_result"
    }
   ],
   "source": [
    "a.f(4,2)"
   ]
  },
  {
   "cell_type": "code",
   "execution_count": 34,
   "metadata": {},
   "outputs": [],
   "source": [
    "class Bag:\n",
    "    def __init__(self):\n",
    "        self.data = []\n",
    "    \n",
    "    def add(self, x):\n",
    "        self.data.append(x)\n",
    "        \n",
    "    def addtwice(self, x):\n",
    "        self.add(x)\n",
    "        self.add(x)"
   ]
  },
  {
   "cell_type": "markdown",
   "metadata": {},
   "source": [
    "메서드는 일반 함수들과 마찬가지로 전역 이름을 참조할 수 있다. 메서드에 결합한 전역 스코프는 그것의 정의를 포함하는 모듈이다.(클래스는 전역 스코프를 사용될 수 없다)\n",
    "\n",
    "전역 스코프는 쓰지마라\n",
    "\n",
    "각 값은 객체고, 그러므로 클래스(형이라고도 불린다.)를 갖는다. 기본적으로 ```object.__class__```에 저장되어 있다."
   ]
  },
  {
   "cell_type": "markdown",
   "metadata": {},
   "source": [
    "### 상속\n",
    "\n",
    "상속을 지원하지 않는다면 \"클래스\"라는 이름을 붙일만한 가치가 없다."
   ]
  },
  {
   "cell_type": "markdown",
   "metadata": {},
   "source": [
    "```\n",
    "class DerivendClassName(BaseClassName):\n",
    "    <statement -1>\n",
    "    .\n",
    "    .\n",
    "    .\n",
    "    <statement -N>\n",
    "```"
   ]
  },
  {
   "cell_type": "markdown",
   "metadata": {},
   "source": [
    "BaseClassName은 파생 클래스 정의를 포함하는 스코프에 정의되어 있어야 한다.\n",
    "\n",
    "BaseClassName의 자리에 다른 임의의 표현식도 허락된다."
   ]
  },
  {
   "cell_type": "markdown",
   "metadata": {},
   "source": [
    "``` class DerivedClassName(modname.BaseClassName)```"
   ]
  },
  {
   "cell_type": "markdown",
   "metadata": {},
   "source": [
    "클래스 객체가 만들어질 때, 베이스 클래스가 콜된다.이는 어트리뷰트 참조를 결정할 때 사용된다.\n",
    "\n",
    "요청된 어트리뷰트가 클래스에서 발견되지 않으면 베이스 클래스로 검색을 확장한다. \n",
    "\n",
    "베이스 클래스 또한 다른 클래스로부터 파생되었다면 이 규칙은 재귀적으로 적용된다.\n",
    "\n",
    "파생 클래스의 인스턴스 만들기에 특별한 것은 없다.\n",
    "\n",
    "파생 클래스는 베이스 클래스의 메서드들을 재장의할 수 있다. 메서드가 같은 객체의 다른 메서드를 호출할 때 특별한 권한 같은 것은 없다.\n",
    "\n",
    "베이스 클래스에 정의된 다른 메서드를 호출하는 베이스 클래스의 메서드는 재정의된 파생 클래스의 메서드를 호출하게 된다.\n",
    "(C++ 프로그래머를 위한 표현으로 파이썬의 모든 메서드는 실질적으로 virtual 이다.)\n",
    "\n",
    "\n",
    "파생 클래스에서 재정의된 메서드가, 같은 이름의 베이스 클래스 메서드를 단순히 갈아치우기보다 사실은 확장하고 싶을 수 있다. 베이스 클래스의 메서드를 직접 호출하는 간단한 방법이 있다. \n",
    "\n",
    "```BaseClassName.methodname(self, arguments)```를 호출하면 된다. 이것은 때로 클라이언트에게도 쓸모가 있다.\n",
    "\n",
    "(이것은 베이스 클래스가 전역 스코프에서 BaseClassName으로 액세스 될 수 있을 때만 동작함에 주의하자.)\n",
    "\n",
    "파이썬에는 상속과 함께 사용할 수 있는 두개의 내장 함수가 있다.\n",
    "\n",
    " * 인스턴스의 type을 검사하려면 ```isinstance()``` 를 사용한다. isinstance(obj, int) 는 ```ob.__class__```가 int거나 int에서 파생된 클래스인 경우만 True가 된다.\n",
    " \n",
    " * 클래스 상속을 검사하려면 issubclass()를 사용한다. issubclass(bool, int)는 True인데, bool이 int의 서브 클래스이기 때문이다. 하지만, issubclass(float, int)는 False인데, float는 int의 서브 클래스가 아니기 때문\n",
    " \n",
    "---"
   ]
  },
  {
   "cell_type": "markdown",
   "metadata": {},
   "source": [
    "### 다중 상속\n",
    "\n",
    "파이썬은 다중 상속의 형태도 지원한다. 으악 시벌!\n",
    "\n",
    "```\n",
    "class DerivedClassName(Base1, Base2, Base3):\n",
    "    <statement -1>\n",
    "    .\n",
    "    .\n",
    "    .\n",
    "    <statement -N>\n",
    "```\n",
    "\n",
    "상속 받는 베이스 클래스는 왼->오 우선순위를 갖는다. 계층 구조에서 겹치는 클래스를 두 번 검색하지 않는 것으로 생각할 수 있다.\n",
    "\n",
    "베이스 클래스에서 상속되는 메서드 결정 순서는 super()로 동적으로 변경된다. 이 접근법은 몇몇 다른 다중 상속 언어들에서 call-next-method라고 알려져 있고, 단일 상속 언어들에서 발견되는 super호출보다 더 강력하다.\n",
    "\n",
    "동적인 순서(super()을 이용해서<->계층적 순서)가 필요한 이유는, 모든 다중 상속의 경우 하나나 그 이상의 다이아몬드 관계를 만들기 때문이다.\n",
    "\n",
    "베이스 클래스들이 여러 번 액세스 되지 않게 하여고, 동적인 알고리즘이 검색 순서를 선형화하는데, 각 클래스에서 지정된 왼쪽에서 오른쪽으로 가는 순서를 보존하고, 각 부모를 오직 한번만 호출하고, 단조적(부모들의 우선순위에 영향을 주지 않으면서 서브 클래스를 만들 수 있다는 의미이다.)이도록 만든다. \n",
    "\n",
    "모두 함께 사용될 때, 이 성질들은 다중 상속으로 신뢰성 있고 확장성 있는 클래스들을 설계할 수 있도록 만든다.\n",
    "\n",
    "---"
   ]
  },
  {
   "cell_type": "markdown",
   "metadata": {},
   "source": [
    "### 비공개 변수\n",
    "\n",
    "객체 내부에서만 액세스할 수 있는 \"비공개\" 인스턴스 변수는 파이썬에서 존재하지 않는다.\n",
    "\n",
    "하지만,파이썬 코드에서 따르고 있는 관례가 있다.ex) _spam\n",
    "\n",
    "언더스코어로 시작하는 이름은 API의 공개적이지 않은 부분으로 취급되어야 한다.\n",
    "\n",
    "클래스-비공개 멤버들의 올바른 사례가 있다.(즉 서브 클래스에서 정의된 이름들과 충돌을 피하고자),\n",
    "\n",
    "name mangling라고 불리는 메커니즘에 대한 같잖은 지원이 있다. \n",
    "\n",
    "언더스코어 최소한 두개로 시작하고, max한개로 끝나는 형식 \n",
    "\n",
    "모든 식별자는 _classname__spam로 텍스트 적으로 치환되는데 classname은 현재 클래스 이름에서 앞에 오는 밑줄을 제거한 것이다.\n",
    "\n",
    "name mangling은 클래스 내부의 메서드 호출을 방해하지 않고 서브 클래스들이 메서드를 재정의할 수 있도록 하는데 도움을 준다."
   ]
  },
  {
   "cell_type": "code",
   "execution_count": 36,
   "metadata": {},
   "outputs": [],
   "source": [
    "class Mapping:\n",
    "    def __init__(self, iterable):\n",
    "        self.items_list = []\n",
    "        self.__update(iterable)\n",
    "        \n",
    "    def update(self, iterable):\n",
    "        for item in iterable:\n",
    "            self.items_list.append(item)\n",
    "            \n",
    "    __update = update\n",
    "    # private copy of original update() method"
   ]
  },
  {
   "cell_type": "code",
   "execution_count": 37,
   "metadata": {},
   "outputs": [],
   "source": [
    "class MappingSubclass(Mapping):\n",
    "    \n",
    "    def update(self, keys, values):\n",
    "        # provides new signature for update() but doesn't break __init__()\n",
    "        for item in zip(keys, values):\n",
    "            self.items_list.append(item)"
   ]
  },
  {
   "cell_type": "code",
   "execution_count": 40,
   "metadata": {},
   "outputs": [
    {
     "ename": "TypeError",
     "evalue": "__init__() takes 2 positional arguments but 4 were given",
     "output_type": "error",
     "traceback": [
      "\u001b[1;31m---------------------------------------------------------------------------\u001b[0m",
      "\u001b[1;31mTypeError\u001b[0m                                 Traceback (most recent call last)",
      "\u001b[1;32m<ipython-input-40-47d3e424188f>\u001b[0m in \u001b[0;36m<module>\u001b[1;34m\u001b[0m\n\u001b[1;32m----> 1\u001b[1;33m \u001b[0ma\u001b[0m \u001b[1;33m=\u001b[0m \u001b[0mMappingSubclass\u001b[0m\u001b[1;33m(\u001b[0m\u001b[1;36m1\u001b[0m\u001b[1;33m,\u001b[0m\u001b[1;36m2\u001b[0m\u001b[1;33m,\u001b[0m\u001b[1;36m3\u001b[0m\u001b[1;33m)\u001b[0m\u001b[1;33m\u001b[0m\u001b[1;33m\u001b[0m\u001b[0m\n\u001b[0m",
      "\u001b[1;31mTypeError\u001b[0m: __init__() takes 2 positional arguments but 4 were given"
     ]
    }
   ],
   "source": [
    "a = MappingSubclass(1,2,3)"
   ]
  },
  {
   "cell_type": "code",
   "execution_count": 42,
   "metadata": {},
   "outputs": [],
   "source": [
    "a = MappingSubclass((1,2,3))"
   ]
  },
  {
   "cell_type": "code",
   "execution_count": 52,
   "metadata": {},
   "outputs": [],
   "source": [
    "a.update((1,2),(1,2))"
   ]
  },
  {
   "cell_type": "code",
   "execution_count": 55,
   "metadata": {},
   "outputs": [
    {
     "ename": "AttributeError",
     "evalue": "'MappingSubclass' object has no attribute '__update'",
     "output_type": "error",
     "traceback": [
      "\u001b[1;31m---------------------------------------------------------------------------\u001b[0m",
      "\u001b[1;31mAttributeError\u001b[0m                            Traceback (most recent call last)",
      "\u001b[1;32m<ipython-input-55-7e62a6ce5079>\u001b[0m in \u001b[0;36m<module>\u001b[1;34m\u001b[0m\n\u001b[1;32m----> 1\u001b[1;33m \u001b[0ma\u001b[0m\u001b[1;33m.\u001b[0m\u001b[0m__update\u001b[0m\u001b[1;33m\u001b[0m\u001b[1;33m\u001b[0m\u001b[0m\n\u001b[0m",
      "\u001b[1;31mAttributeError\u001b[0m: 'MappingSubclass' object has no attribute '__update'"
     ]
    }
   ],
   "source": [
    "a.__update"
   ]
  },
  {
   "cell_type": "code",
   "execution_count": 56,
   "metadata": {},
   "outputs": [
    {
     "data": {
      "text/plain": [
       "[1, 2, 3, (1, 1), (2, 2)]"
      ]
     },
     "execution_count": 56,
     "metadata": {},
     "output_type": "execute_result"
    }
   ],
   "source": [
    "a.items_list"
   ]
  },
  {
   "cell_type": "code",
   "execution_count": 57,
   "metadata": {},
   "outputs": [
    {
     "ename": "AttributeError",
     "evalue": "'MappingSubclass' object has no attribute '__update'",
     "output_type": "error",
     "traceback": [
      "\u001b[1;31m---------------------------------------------------------------------------\u001b[0m",
      "\u001b[1;31mAttributeError\u001b[0m                            Traceback (most recent call last)",
      "\u001b[1;32m<ipython-input-57-7e62a6ce5079>\u001b[0m in \u001b[0;36m<module>\u001b[1;34m\u001b[0m\n\u001b[1;32m----> 1\u001b[1;33m \u001b[0ma\u001b[0m\u001b[1;33m.\u001b[0m\u001b[0m__update\u001b[0m\u001b[1;33m\u001b[0m\u001b[1;33m\u001b[0m\u001b[0m\n\u001b[0m",
      "\u001b[1;31mAttributeError\u001b[0m: 'MappingSubclass' object has no attribute '__update'"
     ]
    }
   ],
   "source": [
    "a.__update"
   ]
  },
  {
   "cell_type": "markdown",
   "metadata": {},
   "source": [
    "MappingSubclass가 ```__upate``` 식별자를 도입하더라도 작동한다. Mapping 클래스에서는 Fuck You"
   ]
  },
  {
   "cell_type": "markdown",
   "metadata": {},
   "source": [
    "---"
   ]
  },
  {
   "cell_type": "markdown",
   "metadata": {},
   "source": [
    "### 잡동사니\n",
    "\n",
    "파스칼의 \"record\"나 C의 \"struct\"와 유사한 데이터형을 갖는 것이 쓸모 있다.\n"
   ]
  },
  {
   "cell_type": "code",
   "execution_count": 58,
   "metadata": {},
   "outputs": [],
   "source": [
    "class Employee:\n",
    "    pass"
   ]
  },
  {
   "cell_type": "code",
   "execution_count": 59,
   "metadata": {},
   "outputs": [],
   "source": [
    "john = Employee()"
   ]
  },
  {
   "cell_type": "code",
   "execution_count": 60,
   "metadata": {},
   "outputs": [],
   "source": [
    "john.name = 'John Doe'"
   ]
  },
  {
   "cell_type": "code",
   "execution_count": 61,
   "metadata": {},
   "outputs": [],
   "source": [
    "john.dept = 'computer lab'"
   ]
  },
  {
   "cell_type": "code",
   "execution_count": 62,
   "metadata": {},
   "outputs": [],
   "source": [
    "john.salary = 1000"
   ]
  },
  {
   "cell_type": "markdown",
   "metadata": {},
   "source": [
    "특정한 추상적인 데이터령을 기대하는 파이썬 코드 조각은, 종종 그 데이터형의 메서드를 흉내 내는 클래스를 대신 전달받을 수 있다. \n",
    "\n",
    "ex) 예를 들어, 파일 객체로부터 데이터를 포맷하는 함수가 있을 때, 대신 문자열 버퍼에서 데이터를 읽는 메서드 read()와 readline()을 제공하는 클래스를 정의한 후 인자로 전달할 수 있다.\n",
    "\n",
    "인스턴스 메서드 객체도 어트리뷰트를 갖습니다. ```m.__self__```는 메서드 m()과 결합한 인스턴스 객체이고, ```m.__func__```는 메서드에 상응하는 함수 객체이다."
   ]
  },
  {
   "cell_type": "markdown",
   "metadata": {},
   "source": [
    "---"
   ]
  },
  {
   "cell_type": "markdown",
   "metadata": {},
   "source": [
    "### 이터레이터\n",
    "\n",
    "대부분의 컨테이너는 for문으로 루핑할 수 있다."
   ]
  },
  {
   "cell_type": "code",
   "execution_count": 1,
   "metadata": {},
   "outputs": [
    {
     "name": "stdout",
     "output_type": "stream",
     "text": [
      "1\n",
      "2\n",
      "3\n",
      "1\n",
      "2\n",
      "3\n",
      "one\n",
      "two\n",
      "1\n",
      "2\n",
      "3\n"
     ]
    },
    {
     "ename": "FileNotFoundError",
     "evalue": "[Errno 2] No such file or directory: 'myfile.txt'",
     "output_type": "error",
     "traceback": [
      "\u001b[1;31m---------------------------------------------------------------------------\u001b[0m",
      "\u001b[1;31mFileNotFoundError\u001b[0m                         Traceback (most recent call last)",
      "\u001b[1;32m<ipython-input-1-c28989106959>\u001b[0m in \u001b[0;36m<module>\u001b[1;34m\u001b[0m\n\u001b[0;32m      7\u001b[0m \u001b[1;32mfor\u001b[0m \u001b[0mchar\u001b[0m \u001b[1;32min\u001b[0m \u001b[1;34m\"123\"\u001b[0m\u001b[1;33m:\u001b[0m\u001b[1;33m\u001b[0m\u001b[1;33m\u001b[0m\u001b[0m\n\u001b[0;32m      8\u001b[0m     \u001b[0mprint\u001b[0m\u001b[1;33m(\u001b[0m\u001b[0mchar\u001b[0m\u001b[1;33m)\u001b[0m\u001b[1;33m\u001b[0m\u001b[1;33m\u001b[0m\u001b[0m\n\u001b[1;32m----> 9\u001b[1;33m \u001b[1;32mfor\u001b[0m \u001b[0mline\u001b[0m \u001b[1;32min\u001b[0m \u001b[0mopen\u001b[0m\u001b[1;33m(\u001b[0m\u001b[1;34m\"myfile.txt\"\u001b[0m\u001b[1;33m)\u001b[0m\u001b[1;33m:\u001b[0m\u001b[1;33m\u001b[0m\u001b[1;33m\u001b[0m\u001b[0m\n\u001b[0m\u001b[0;32m     10\u001b[0m     \u001b[0mprint\u001b[0m\u001b[1;33m(\u001b[0m\u001b[0mline\u001b[0m\u001b[1;33m,\u001b[0m \u001b[0mend\u001b[0m\u001b[1;33m=\u001b[0m\u001b[1;34m\" \"\u001b[0m\u001b[1;33m)\u001b[0m\u001b[1;33m\u001b[0m\u001b[1;33m\u001b[0m\u001b[0m\n",
      "\u001b[1;31mFileNotFoundError\u001b[0m: [Errno 2] No such file or directory: 'myfile.txt'"
     ]
    }
   ],
   "source": [
    "for element in [1,2,3]:\n",
    "    print(element)\n",
    "for element in (1,2,3):\n",
    "    print(element)\n",
    "for key in {'one':1, 'two':2}:\n",
    "    print(key)\n",
    "for char in \"123\":\n",
    "    print(char)\n",
    "for line in open(\"myfile.txt\"):\n",
    "    print(line, end=\" \")"
   ]
  },
  {
   "cell_type": "markdown",
   "metadata": {},
   "source": [
    "이런 스타일의 액세스는 명료하고, 간결하고, 편리하다. 이터레이터를 사용하면 파이썬이 보편화하고 통합된다.\n",
    "\n",
    "for 문은 컨테이너 객체에 대해 iter()를 호출한다. 이 함수는 메서드 ```__next__()```를 정의하는 이터레이터 객체를 돌려주는데, 이 메서드는 컨테이너의 요소들을 한 번에 하나씩 액세스한다.\n",
    "\n",
    "남은 요소가 없으면, ```__next__()```는 StopIteration 예외를 일으켜서 for 루프에 종료를 알린다,\n",
    "\n",
    "next() 내장 함수를 사용해서 ```__next__()```메서드를 호출할 수 있다."
   ]
  },
  {
   "cell_type": "code",
   "execution_count": 2,
   "metadata": {},
   "outputs": [],
   "source": [
    "s = 'abc'\n",
    "it = iter(s)"
   ]
  },
  {
   "cell_type": "code",
   "execution_count": 3,
   "metadata": {},
   "outputs": [
    {
     "data": {
      "text/plain": [
       "<str_iterator at 0x1e3d41b9278>"
      ]
     },
     "execution_count": 3,
     "metadata": {},
     "output_type": "execute_result"
    }
   ],
   "source": [
    "it"
   ]
  },
  {
   "cell_type": "code",
   "execution_count": 4,
   "metadata": {},
   "outputs": [
    {
     "data": {
      "text/plain": [
       "'a'"
      ]
     },
     "execution_count": 4,
     "metadata": {},
     "output_type": "execute_result"
    }
   ],
   "source": [
    "next(it)"
   ]
  },
  {
   "cell_type": "code",
   "execution_count": 5,
   "metadata": {},
   "outputs": [
    {
     "data": {
      "text/plain": [
       "'b'"
      ]
     },
     "execution_count": 5,
     "metadata": {},
     "output_type": "execute_result"
    }
   ],
   "source": [
    "next(it)"
   ]
  },
  {
   "cell_type": "code",
   "execution_count": 6,
   "metadata": {},
   "outputs": [
    {
     "data": {
      "text/plain": [
       "'c'"
      ]
     },
     "execution_count": 6,
     "metadata": {},
     "output_type": "execute_result"
    }
   ],
   "source": [
    "next(it)"
   ]
  },
  {
   "cell_type": "code",
   "execution_count": 7,
   "metadata": {},
   "outputs": [
    {
     "ename": "StopIteration",
     "evalue": "",
     "output_type": "error",
     "traceback": [
      "\u001b[1;31m---------------------------------------------------------------------------\u001b[0m",
      "\u001b[1;31mStopIteration\u001b[0m                             Traceback (most recent call last)",
      "\u001b[1;32m<ipython-input-7-bc1ab118995a>\u001b[0m in \u001b[0;36m<module>\u001b[1;34m\u001b[0m\n\u001b[1;32m----> 1\u001b[1;33m \u001b[0mnext\u001b[0m\u001b[1;33m(\u001b[0m\u001b[0mit\u001b[0m\u001b[1;33m)\u001b[0m\u001b[1;33m\u001b[0m\u001b[1;33m\u001b[0m\u001b[0m\n\u001b[0m",
      "\u001b[1;31mStopIteration\u001b[0m: "
     ]
    }
   ],
   "source": [
    "next(it)"
   ]
  },
  {
   "cell_type": "markdown",
   "metadata": {},
   "source": [
    "이터레이터 프로토콜의 뒤에 있는 메커니즘을 살펴보면, 여러분의 클래스에 이터레이터 동작을 쉽게 추가할 수 있다.\n",
    "\n",
    "```__next__()``` 메서드를 가진 객체를 돌려주는 ```__iter__()``` 메서드를 정의한다. \n",
    "\n",
    "클래스가 ```__next__()```를 정의하면, ```__iter__()```는 그냥 self를 돌려줄 수 있다."
   ]
  },
  {
   "cell_type": "code",
   "execution_count": 9,
   "metadata": {},
   "outputs": [],
   "source": [
    "class Reverse:\n",
    "    \"\"\"iterator for looping over a sequence backwards.\"\"\"\n",
    "    def __init__(self, data):\n",
    "        self.data = data\n",
    "        self.index = len(data)\n",
    "        \n",
    "    def __iter__(self):\n",
    "        return self\n",
    "    \n",
    "    def __next__(self):\n",
    "        if self.index == 0:\n",
    "            raise StopIteration\n",
    "        self.index = self.index -1\n",
    "        return self.data[self.index]"
   ]
  },
  {
   "cell_type": "code",
   "execution_count": 10,
   "metadata": {},
   "outputs": [],
   "source": [
    "rev = Reverse('spam')"
   ]
  },
  {
   "cell_type": "code",
   "execution_count": 11,
   "metadata": {},
   "outputs": [
    {
     "data": {
      "text/plain": [
       "<__main__.Reverse at 0x1e3d41c7e10>"
      ]
     },
     "execution_count": 11,
     "metadata": {},
     "output_type": "execute_result"
    }
   ],
   "source": [
    "iter(rev)"
   ]
  },
  {
   "cell_type": "code",
   "execution_count": 12,
   "metadata": {},
   "outputs": [
    {
     "data": {
      "text/plain": [
       "__main__.Reverse"
      ]
     },
     "execution_count": 12,
     "metadata": {},
     "output_type": "execute_result"
    }
   ],
   "source": [
    "type(rev)"
   ]
  },
  {
   "cell_type": "code",
   "execution_count": 13,
   "metadata": {},
   "outputs": [
    {
     "name": "stdout",
     "output_type": "stream",
     "text": [
      "m\n",
      "a\n",
      "p\n",
      "s\n"
     ]
    }
   ],
   "source": [
    "for _ in rev:\n",
    "    print(_)"
   ]
  },
  {
   "cell_type": "code",
   "execution_count": null,
   "metadata": {},
   "outputs": [],
   "source": [
    "rev.__next__()"
   ]
  },
  {
   "cell_type": "markdown",
   "metadata": {},
   "source": [
    "self.index를 0으로 반환한다."
   ]
  },
  {
   "cell_type": "code",
   "execution_count": 16,
   "metadata": {},
   "outputs": [
    {
     "data": {
      "text/plain": [
       "0"
      ]
     },
     "execution_count": 16,
     "metadata": {},
     "output_type": "execute_result"
    }
   ],
   "source": [
    "rev.index"
   ]
  },
  {
   "cell_type": "code",
   "execution_count": 17,
   "metadata": {},
   "outputs": [],
   "source": [
    "rev = Reverse('spam')"
   ]
  },
  {
   "cell_type": "code",
   "execution_count": 18,
   "metadata": {},
   "outputs": [
    {
     "data": {
      "text/plain": [
       "4"
      ]
     },
     "execution_count": 18,
     "metadata": {},
     "output_type": "execute_result"
    }
   ],
   "source": [
    "rev.index"
   ]
  },
  {
   "cell_type": "code",
   "execution_count": 19,
   "metadata": {},
   "outputs": [
    {
     "data": {
      "text/plain": [
       "'m'"
      ]
     },
     "execution_count": 19,
     "metadata": {},
     "output_type": "execute_result"
    }
   ],
   "source": [
    "rev.__next__()"
   ]
  },
  {
   "cell_type": "code",
   "execution_count": 20,
   "metadata": {},
   "outputs": [
    {
     "data": {
      "text/plain": [
       "'a'"
      ]
     },
     "execution_count": 20,
     "metadata": {},
     "output_type": "execute_result"
    }
   ],
   "source": [
    "rev.__next__()"
   ]
  },
  {
   "cell_type": "code",
   "execution_count": 21,
   "metadata": {},
   "outputs": [
    {
     "data": {
      "text/plain": [
       "'p'"
      ]
     },
     "execution_count": 21,
     "metadata": {},
     "output_type": "execute_result"
    }
   ],
   "source": [
    "rev.__next__()"
   ]
  },
  {
   "cell_type": "code",
   "execution_count": 23,
   "metadata": {},
   "outputs": [
    {
     "ename": "StopIteration",
     "evalue": "",
     "output_type": "error",
     "traceback": [
      "\u001b[1;31m---------------------------------------------------------------------------\u001b[0m",
      "\u001b[1;31mStopIteration\u001b[0m                             Traceback (most recent call last)",
      "\u001b[1;32m<ipython-input-23-b33caf165c30>\u001b[0m in \u001b[0;36m<module>\u001b[1;34m\u001b[0m\n\u001b[1;32m----> 1\u001b[1;33m \u001b[0mrev\u001b[0m\u001b[1;33m.\u001b[0m\u001b[0m__next__\u001b[0m\u001b[1;33m(\u001b[0m\u001b[1;33m)\u001b[0m\u001b[1;33m\u001b[0m\u001b[1;33m\u001b[0m\u001b[0m\n\u001b[0m",
      "\u001b[1;32m<ipython-input-9-4f8dddd596e4>\u001b[0m in \u001b[0;36m__next__\u001b[1;34m(self)\u001b[0m\n\u001b[0;32m     10\u001b[0m     \u001b[1;32mdef\u001b[0m \u001b[0m__next__\u001b[0m\u001b[1;33m(\u001b[0m\u001b[0mself\u001b[0m\u001b[1;33m)\u001b[0m\u001b[1;33m:\u001b[0m\u001b[1;33m\u001b[0m\u001b[1;33m\u001b[0m\u001b[0m\n\u001b[0;32m     11\u001b[0m         \u001b[1;32mif\u001b[0m \u001b[0mself\u001b[0m\u001b[1;33m.\u001b[0m\u001b[0mindex\u001b[0m \u001b[1;33m==\u001b[0m \u001b[1;36m0\u001b[0m\u001b[1;33m:\u001b[0m\u001b[1;33m\u001b[0m\u001b[1;33m\u001b[0m\u001b[0m\n\u001b[1;32m---> 12\u001b[1;33m             \u001b[1;32mraise\u001b[0m \u001b[0mStopIteration\u001b[0m\u001b[1;33m\u001b[0m\u001b[1;33m\u001b[0m\u001b[0m\n\u001b[0m\u001b[0;32m     13\u001b[0m         \u001b[0mself\u001b[0m\u001b[1;33m.\u001b[0m\u001b[0mindex\u001b[0m \u001b[1;33m=\u001b[0m \u001b[0mself\u001b[0m\u001b[1;33m.\u001b[0m\u001b[0mindex\u001b[0m \u001b[1;33m-\u001b[0m\u001b[1;36m1\u001b[0m\u001b[1;33m\u001b[0m\u001b[1;33m\u001b[0m\u001b[0m\n\u001b[0;32m     14\u001b[0m         \u001b[1;32mreturn\u001b[0m \u001b[0mself\u001b[0m\u001b[1;33m.\u001b[0m\u001b[0mdata\u001b[0m\u001b[1;33m[\u001b[0m\u001b[0mself\u001b[0m\u001b[1;33m.\u001b[0m\u001b[0mindex\u001b[0m\u001b[1;33m]\u001b[0m\u001b[1;33m\u001b[0m\u001b[1;33m\u001b[0m\u001b[0m\n",
      "\u001b[1;31mStopIteration\u001b[0m: "
     ]
    }
   ],
   "source": [
    "rev.__next__()"
   ]
  },
  {
   "cell_type": "markdown",
   "metadata": {},
   "source": [
    "---"
   ]
  },
  {
   "cell_type": "markdown",
   "metadata": {},
   "source": [
    "### 제너레이터\n",
    "\n",
    "제너레이터는 이터레이터를 만드는 간단라고 강력한 도구이다.\n",
    "\n",
    "일반적인 함수처럼 작성되지만 값을 돌려주고 싶을 때마다 yield문을 사용한다. 제너레이터에 next()가 호출될 때마다, 제너레이터는 떠난 곳에서 실행을 재개한다.\n",
    "(모든 데이터 값들과 어떤 문장이 마지막으로 실행되었는지 기억한다.) 예는 제너레이터를 사소할 정도로 쉽게 만들 수 있음을 보여준다."
   ]
  },
  {
   "cell_type": "code",
   "execution_count": 1,
   "metadata": {},
   "outputs": [],
   "source": [
    "def reverse(data):\n",
    "    for index in range(len(data)-1, -1, -1):\n",
    "        yield data[index]"
   ]
  },
  {
   "cell_type": "code",
   "execution_count": 2,
   "metadata": {},
   "outputs": [
    {
     "name": "stdout",
     "output_type": "stream",
     "text": [
      "f\n",
      "l\n",
      "o\n",
      "g\n"
     ]
    }
   ],
   "source": [
    "for char in reverse(\"golf\"):\n",
    "    print(char)"
   ]
  },
  {
   "cell_type": "markdown",
   "metadata": {},
   "source": [
    "제너레이터로 할 수 있는 모든 것은 앞 절에서 설명했듯이 클래스 기반 이터레이터로도 할 수 있다. \n",
    "\n",
    "제너레이터가 간단한 이유는 ```__iter__()```와 ```__next__()```메서드가 저절로 만들어지기 때문이다.\n",
    "\n",
    "또 하나의 주요 기능은 지역 변수들과 실행 상태가 호출 간에 자동으로 보관된다는 것이다.\n",
    "이것은 ```self.index```나 ```self.data```와 같은 인스턴스 변수를 사용하는 접근법에 비교해 함수를 쓰기 쉽고 명료하게 만든다.(?? 바교해보기) \n",
    "\n",
    "자동 메서드 생성과 프로그램 상태의 저장에 더해, 제너레이터가 종료할 때 자동으로 Stopiteration을 일으킨다.\n",
    "\n",
    "조합하면, 이 기능들이 일반 함수를 작성하는 것만큼 이터레이터를 만들기 쉽게 만든다.\n",
    "\n",
    "### 제너레이터 표현식\n",
    "\n",
    "간단한 제너레이터는 리스트 컴프리헨션과 비슷하지만, 꺾쇠괄호 대신 괄호를 사용하는 문법을 사용한 표현식으로 간결하게 코딩할 수 있다.\n",
    "\n",
    "이 표현식들은 둘러싸는 함수가 제너레이터를 즉시 사용하는 상황을 위해 설계되었다.\n",
    "\n",
    "제너레이터 표현식은 완전한 제너레이터 정의보다 간결하지만, 융통성은 떨어지고, 비슷한 리스트 컴프리헨션보다 메모리를 덜 쓰는 경향이 있다."
   ]
  },
  {
   "cell_type": "code",
   "execution_count": 4,
   "metadata": {},
   "outputs": [
    {
     "data": {
      "text/plain": [
       "285"
      ]
     },
     "execution_count": 4,
     "metadata": {},
     "output_type": "execute_result"
    }
   ],
   "source": [
    "sum(i*i for i in range(10))"
   ]
  },
  {
   "cell_type": "code",
   "execution_count": 5,
   "metadata": {},
   "outputs": [],
   "source": [
    "xvec = [10, 20, 30]"
   ]
  },
  {
   "cell_type": "code",
   "execution_count": 6,
   "metadata": {},
   "outputs": [],
   "source": [
    "yvec = [7, 5, 3]"
   ]
  },
  {
   "cell_type": "code",
   "execution_count": 8,
   "metadata": {},
   "outputs": [
    {
     "data": {
      "text/plain": [
       "260"
      ]
     },
     "execution_count": 8,
     "metadata": {},
     "output_type": "execute_result"
    }
   ],
   "source": [
    "sum(x*y for x,y in zip(xvec, yvec))"
   ]
  },
  {
   "cell_type": "code",
   "execution_count": 9,
   "metadata": {},
   "outputs": [],
   "source": [
    "from math import pi, sin"
   ]
  },
  {
   "cell_type": "code",
   "execution_count": 10,
   "metadata": {},
   "outputs": [],
   "source": [
    "sine_table = {x: sin(x*pi / 180) for x in range(0, 9)}"
   ]
  },
  {
   "cell_type": "code",
   "execution_count": 11,
   "metadata": {},
   "outputs": [
    {
     "ename": "NameError",
     "evalue": "name 'page' is not defined",
     "output_type": "error",
     "traceback": [
      "\u001b[1;31m---------------------------------------------------------------------------\u001b[0m",
      "\u001b[1;31mNameError\u001b[0m                                 Traceback (most recent call last)",
      "\u001b[1;32m<ipython-input-11-761e1380593b>\u001b[0m in \u001b[0;36m<module>\u001b[1;34m\u001b[0m\n\u001b[1;32m----> 1\u001b[1;33m \u001b[0munique_words\u001b[0m \u001b[1;33m=\u001b[0m \u001b[0mset\u001b[0m\u001b[1;33m(\u001b[0m\u001b[0mword\u001b[0m \u001b[1;32mfor\u001b[0m \u001b[0mline\u001b[0m \u001b[1;32min\u001b[0m \u001b[0mpage\u001b[0m \u001b[1;32mfor\u001b[0m \u001b[0mword\u001b[0m \u001b[1;32min\u001b[0m \u001b[0mline\u001b[0m\u001b[1;33m.\u001b[0m\u001b[0msplit\u001b[0m\u001b[1;33m(\u001b[0m\u001b[1;33m)\u001b[0m\u001b[1;33m)\u001b[0m\u001b[1;33m\u001b[0m\u001b[1;33m\u001b[0m\u001b[0m\n\u001b[0m",
      "\u001b[1;31mNameError\u001b[0m: name 'page' is not defined"
     ]
    }
   ],
   "source": [
    "unique_words = set(word for line in page for word in line.split())"
   ]
  },
  {
   "cell_type": "code",
   "execution_count": 12,
   "metadata": {},
   "outputs": [
    {
     "ename": "NameError",
     "evalue": "name 'graduates' is not defined",
     "output_type": "error",
     "traceback": [
      "\u001b[1;31m---------------------------------------------------------------------------\u001b[0m",
      "\u001b[1;31mNameError\u001b[0m                                 Traceback (most recent call last)",
      "\u001b[1;32m<ipython-input-12-60997188bacc>\u001b[0m in \u001b[0;36m<module>\u001b[1;34m\u001b[0m\n\u001b[1;32m----> 1\u001b[1;33m \u001b[0mvaledictorian\u001b[0m \u001b[1;33m=\u001b[0m \u001b[0mmax\u001b[0m\u001b[1;33m(\u001b[0m\u001b[1;33m(\u001b[0m\u001b[0mstudent\u001b[0m\u001b[1;33m.\u001b[0m\u001b[0mgpa\u001b[0m\u001b[1;33m,\u001b[0m \u001b[0mstudent\u001b[0m\u001b[1;33m.\u001b[0m\u001b[0mname\u001b[0m\u001b[1;33m)\u001b[0m \u001b[1;32mfor\u001b[0m \u001b[0mstudent\u001b[0m \u001b[1;32min\u001b[0m \u001b[0mgraduates\u001b[0m\u001b[1;33m)\u001b[0m\u001b[1;33m\u001b[0m\u001b[1;33m\u001b[0m\u001b[0m\n\u001b[0m",
      "\u001b[1;31mNameError\u001b[0m: name 'graduates' is not defined"
     ]
    }
   ],
   "source": [
    "valedictorian = max((student.gpa, student.name) for student in graduates)"
   ]
  },
  {
   "cell_type": "code",
   "execution_count": 13,
   "metadata": {},
   "outputs": [
    {
     "data": {
      "text/plain": [
       "{0: 0.0,\n",
       " 1: 0.01745240643728351,\n",
       " 2: 0.03489949670250097,\n",
       " 3: 0.05233595624294383,\n",
       " 4: 0.0697564737441253,\n",
       " 5: 0.08715574274765817,\n",
       " 6: 0.10452846326765346,\n",
       " 7: 0.12186934340514748,\n",
       " 8: 0.13917310096006544}"
      ]
     },
     "execution_count": 13,
     "metadata": {},
     "output_type": "execute_result"
    }
   ],
   "source": [
    "sine_table"
   ]
  },
  {
   "cell_type": "code",
   "execution_count": 14,
   "metadata": {},
   "outputs": [],
   "source": [
    "data = 'golf'"
   ]
  },
  {
   "cell_type": "code",
   "execution_count": 15,
   "metadata": {},
   "outputs": [
    {
     "data": {
      "text/plain": [
       "['f', 'l', 'o', 'g']"
      ]
     },
     "execution_count": 15,
     "metadata": {},
     "output_type": "execute_result"
    }
   ],
   "source": [
    "list(data[i] for i in range(len(data)-1, -1, -1))"
   ]
  },
  {
   "cell_type": "markdown",
   "metadata": {},
   "source": [
    "---\n",
    "\n",
    "한 가지만 제외하고, 모듈 객체는 ```__dict__```라고 불리는 비밀스러운 읽기 전용 어트리뷰트를 갖는데, 모듈의 이름 공간을 구현하는데 사용하는 딕셔너리를 돌려준다.\n",
    "\n",
    "이름 ```__dict__```는 어트리뷰트 이지만 전역 이름은 아니다.\n",
    "\n",
    "명백하게, 이것을 사용하는 것은 nameSpace에 구현의 추상화를 파괴하는 것이고,\n",
    "사후 디버거와 같은 것들로만 제한되어야 한다."
   ]
  },
  {
   "cell_type": "code",
   "execution_count": null,
   "metadata": {},
   "outputs": [],
   "source": []
  }
 ],
 "metadata": {
  "kernelspec": {
   "display_name": "Python 3",
   "language": "python",
   "name": "python3"
  },
  "language_info": {
   "codemirror_mode": {
    "name": "ipython",
    "version": 3
   },
   "file_extension": ".py",
   "mimetype": "text/x-python",
   "name": "python",
   "nbconvert_exporter": "python",
   "pygments_lexer": "ipython3",
   "version": "3.7.3"
  }
 },
 "nbformat": 4,
 "nbformat_minor": 2
}
