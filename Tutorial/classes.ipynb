{
 "cells": [
  {
   "cell_type": "markdown",
   "metadata": {},
   "source": [
    "다른 프로그래밍 언어들과 비교를 할 때, Python의 클래스 메커니즘은\n",
    "약간 새로운 문법과 개념을 써서 클레스를 추가 한다.\n",
    "(C++과 모듈라-3(?)에서 사용되는 클래스 메커니즘을 혼합한다.\n",
    "\n",
    "파이썬의 클래스는 객체 지향형 프로그래밍의 모든 표준 기능을 제공한다.\n",
    "\n",
    "*다중상속 클래스베이스를 허락하고, 자식 클래스는 베이스 클래스나 부모 클래스의 어떤 메소드도 재정의할 수 있다.\n",
    "홀리 쒯\n",
    "\n",
    "메서드는 베이스 클래스의 메서드를 호출할 수 있다. \n",
    "\n",
    "객체들은 종류와 양적에 제한 없이 데이터를 가질 수 있다.\n",
    "\n",
    "모듈과 마찬가지로, 클래스는 Python의 동적인 원시성을 갖는다.\n",
    "\n",
    "실행 시간에 만들어지고, 만들어진 후에도 더 수정될 수 있다."
   ]
  },
  {
   "cell_type": "markdown",
   "metadata": {},
   "source": [
    "---"
   ]
  },
  {
   "cell_type": "markdown",
   "metadata": {},
   "source": [
    "### Name과 Object\n",
    "\n",
    "객체는 개체성(individuality)를 갖고, 여러 개의 이름이(다양한 범위에서)같은 객체에 연결될 수 있다. \n",
    "\n",
    "-> Aliasing\n",
    "\n",
    "Python은 Immutable 타입의 데이터를 다룰 때 눈에띄는 특징이 아니다. \n",
    "\n",
    "하지만 Aliasing은 Mutable 타입의 데이터를 다룰 때 극적인 효과를 줄 수 있다.\n",
    "\n",
    "Aliase는 어떤 부분에서 포인터처럼 동작하기 때문이다. \n",
    "\n",
    "예를 들어, 구현체가 포인터만 전달하기 때문에, 객체를 전달하는 비용이 적게든다.\n",
    "\n",
    "그리고 함수가 인자로 전달된 객체를 수정하면, 호출자는 그 변경을 수용한다.\n",
    "\n",
    "--> 파스칼에서 사용되는 두 가지 서로 다른 인자 전달 메커니즘의 필요를 제거한다.\n",
    "\n"
   ]
  },
  {
   "cell_type": "markdown",
   "metadata": {},
   "source": [
    "---"
   ]
  },
  {
   "cell_type": "markdown",
   "metadata": {},
   "source": [
    "### Python Scope와 NameSpace\n",
    "\n",
    "이 주제에 대한 지식은 모든 고급 파이썬 프로그래머에게 쓸모사 있다.\n",
    "\n",
    "몇가지 정의로 시작한다.\n",
    "\n",
    "NameSpace는 Name에서 객체로가는 매핑이다.대부분의 NameSpace는 현재 파이썬 딕셔너리로 구현되어 있지만, 보통 알아볼 수 없고(성능 예외), 앞으로 바뀔 수 있다,\n",
    "\n",
    "NameSpace의 Example : 빌트인 Name집합.(abs()와 같은 함수들과 빌트인 예외 이름들 포함)모듈의 전역 Name, 함수 호출에서 LocalName, 객체의 attribute집합고 NameSpace을 형성한다.\n",
    "\n",
    "NameSpace에 대해 알아야 할 중요한 것은 서로 다른 NameSpace의 Name간에는 아무런 관계가 없다는 것.\n",
    "\n",
    "두 개의 서로 다른 모듈들은 모두 혼동없이 함수를 최대한 활용할 수 있다.\n",
    "\n",
    "-- 모듈의 사용자들은 모듈 이름을 앞에 붙여야 한다.\n",
    "\n",
    "그런데, attribute는 단어뒤에 점을 붙여 사용한다. ex) z.real에서 객체 z의 attribe real\n",
    "\n",
    "attribte는 읽기전용이거나 쓰기가 가능하다.ex) modname.the_answer = 42\n",
    "쓰기가 가능한 attribute는 'del' 문으로 삭제할 수 있다.ex) del modname.the_answer\n",
    "\n",
    "NamaSpace는 각각 생성 시간이 다르고, 각각 다른 LifeCycle을 갖는다. Built in Names은 담는 이름의 메모리 공간이 파이썬 인터프리터가 시작할 때 만들어지고 영원히 지워지지 않는다.\n",
    "\n",
    "모듈의 전역 이름 공간은 모듈 정의를 읽는 동안 만들어진다. 보통 모듈의 NameSpace는 인터프리터가 끝날 때까지 남는다. \n",
    "\n",
    "인터프이터의 최상위 호출 때문에 실행되는 스크립트 파일이나 대화형으로 읽히는 문장들은 '__main__'이라고 불리는 모듈의 일부로 여겨져서 드 들의 자신의 NameSpace을 갖는다.\n",
    "(Built in Names 또한 모듈에 속하는데, 이것들을 builtins라 부른다.)\n",
    "\n",
    "함수의 Local NameSpace는 함수가 호출될 때 만들어지고, 함수가 재호출하거나 함수 내에서 처리되지 않는 예외를 일으킬 때 삭제된다.(잊어버린다)\n",
    "\n",
    "재귀적 호출은 각각 자기 자신만의 지역 이름 공간을 갖는다.\n",
    "\n",
    "Scope는 NameSpace을 \"직접 액세스할 수 있는\" 파이썬 프로그램의 텍스트 적인 영역이다.\n",
    "\n",
    "여기서 \"직접 액세스할 수 있는\"이란 이름에 대한 처리(메모리에 접근할 수 있는 정규화처리(아마도 바이트 처리))없이 그 이름 공간에 접근하려는 시도.\n",
    "\n",
    "Scope는 정적으로 결정됨에도 불구하고, 동적으로 사용된다.\n",
    "\n",
    "실행 중 어느 시점에서건, 이름 공간을 직접 접근가능한, 최소 3개의 중첩된 Scope가 있다.\n",
    "\n",
    " * 가장 먼저 검색되는, 가장 내부 Scope는 Local Names을 포함한다.\n",
    " \n",
    " * wrapping 함수들의 스코프는, 첫 상위 wrapping Scope 로부터 검색이 시작된다.\n",
    "non-local이지만 non-global 이름들을 포함한다.\n",
    "\n",
    " * 최상위 wrapping Scope는 (가장 나중에 검색되는) 내장 이름들을 초함하고 있는 NameScope이다.\n",
    " \n",
    "이름을 'global'로 선언하면, 모든 참조와 대입은 전역 이름들을 포함하는 Scope로 이동한다.\n",
    "\n",
    "'nonlocal'키워드는 코드로 느껴라. 내부 함수에서 1스코프 상위 함수를 참조할 때 사용하고, 'nonlocal' 키워드를 사용하지 않으면 읽기 전용이다.\n",
    "\n",
    "보통, local scope는 현재 함수의 지역 이름들을(텍스트 적으로) 참조한다. 함수 바깥에서 지역 스코프는 전역 스코프와 같은 이름 공간을 참조 한다.모듈의 NameSpace, 클래스 정의들은 지역 스코프에 또 하나의 NameSpace를 배치한다.\n",
    "\n",
    "Scope가 텍스트 적으로 결정된다는 것을 깨닫는 것은 중요쓰~. \n",
    "\n",
    "이름을 실제로 검색하는 것은 실행시간에 동적으로 수행된다.\n",
    "\n",
    "(하지만, 언어 정의는 컴파일 시점의 정적인 이름 결정을 향해 진화하고 있어서, 동적인 이름 결정에 의존하지 말아야 한다.\n",
    "\n",
    "사실, 지역 변수들은 이미 정적으로 결정된다.)\n",
    "\n",
    "파이썬의 특별한 특징은 'global'문이 없을 때 이름에 대입하면 가장 내부 Scope로 간다는 것이다. "
   ]
  },
  {
   "cell_type": "markdown",
   "metadata": {},
   "source": [
    "---"
   ]
  },
  {
   "cell_type": "markdown",
   "metadata": {},
   "source": [
    "### 스코프와 이름 공간\n",
    "\n",
    "'global'과 'nonlocal'"
   ]
  },
  {
   "cell_type": "code",
   "execution_count": 6,
   "metadata": {},
   "outputs": [],
   "source": [
    "def scope_test():\n",
    "    def do_local():\n",
    "        spam = 'local spam'\n",
    "        \n",
    "    def do_nonlocal():\n",
    "        nonlocal spam\n",
    "        spam = \"nonlocal spam\"\n",
    "        \n",
    "    def do_global():\n",
    "        global spam \n",
    "        spam = \"global spam\"\n",
    "        \n",
    "    spam = \"test spam\"\n",
    "    do_local()\n",
    "    print(\"After local assignment:\",spam)\n",
    "    do_nonlocal()\n",
    "    print(\"After nonlocal assignment:\",spam)\n",
    "    do_global()\n",
    "    print(\"After global assignment:\",spam)"
   ]
  },
  {
   "cell_type": "code",
   "execution_count": 7,
   "metadata": {},
   "outputs": [
    {
     "name": "stdout",
     "output_type": "stream",
     "text": [
      "After local assignment: test spam\n",
      "After nonlocal assignment: nonlocal spam\n",
      "After global assignment: nonlocal spam\n"
     ]
    }
   ],
   "source": [
    "scope_test()"
   ]
  },
  {
   "cell_type": "code",
   "execution_count": 8,
   "metadata": {},
   "outputs": [
    {
     "name": "stdout",
     "output_type": "stream",
     "text": [
      "in global scope: global spam\n"
     ]
    }
   ],
   "source": [
    "print(\"in global scope:\",spam)"
   ]
  },
  {
   "cell_type": "markdown",
   "metadata": {},
   "source": [
    "### 클래스\n",
    "\n",
    "약간의 새로운 문법과 3개의 객체향과 몇 가지 새로운 개념들을 도입한다."
   ]
  },
  {
   "cell_type": "markdown",
   "metadata": {},
   "source": [
    "#### 클래스 정의와 문법"
   ]
  },
  {
   "cell_type": "markdown",
   "metadata": {},
   "source": [
    "```class ClassName:\n",
    "    <statement -1>\n",
    "    .\n",
    "    .\n",
    "    .\n",
    "    <statement -N>\n",
    "    ```"
   ]
  },
  {
   "cell_type": "markdown",
   "metadata": {},
   "source": [
    "클래스의 정의는 기능을 수행하기 위해 먼저 실행되어야 한다.\n",
    "(클래스 정의는 if문, 함수 내부에 올 수 있다.)\n",
    "\n",
    "클래스 정의 내부 문장들은 보통 함수 정의들이지만, 다른 문장들도 허락된다.\n",
    "\n",
    "-- 클래스 내부의 함수 정의는 보통, 메서드 호출 규약의 영향을 받은 특별한 형태의 인자 목록을 갖는다.\n",
    "\n",
    "클래스 정의를 할 떄, 새 NameSpace가 만들어지고 Local Scope로 사용된다.\n"
   ]
  },
  {
   "cell_type": "markdown",
   "metadata": {},
   "source": [
    "---"
   ]
  },
  {
   "cell_type": "markdown",
   "metadata": {},
   "source": [
    "### 클래스 객체\n"
   ]
  },
  {
   "cell_type": "code",
   "execution_count": null,
   "metadata": {},
   "outputs": [],
   "source": []
  }
 ],
 "metadata": {
  "kernelspec": {
   "display_name": "Python 3",
   "language": "python",
   "name": "python3"
  },
  "language_info": {
   "codemirror_mode": {
    "name": "ipython",
    "version": 3
   },
   "file_extension": ".py",
   "mimetype": "text/x-python",
   "name": "python",
   "nbconvert_exporter": "python",
   "pygments_lexer": "ipython3",
   "version": "3.7.3"
  }
 },
 "nbformat": 4,
 "nbformat_minor": 2
}
