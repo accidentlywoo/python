{
 "cells": [
  {
   "cell_type": "markdown",
   "metadata": {},
   "source": [
    "## List\n",
    "\n",
    " * list.append(x)\n",
    " \n",
    "     = a[len(a):] = [x]\n",
    "\n",
    " * list.extend(iterable)\n",
    " \n",
    "     = a[len(a):] = iterable\n",
    "     \n",
    " * list.insert(i, x)\n",
    " \n",
    "     = x 가 갖게될 인덱스 i\n",
    "     \n",
    "     a.insert(0, x)는 리스트의 처음에 삽입하고, a.insert(len(a), x) = a.append(x)\n",
    "     \n",
    " * list.remove(x)\n",
    " \n",
    "     리스트에서 값이 x와 같은 첫 번째 항목을 삭제한다. 그런 항목이 없으면 ValueError를 일으킨다.\n",
    " \n",
    " * list.pop([i])\n",
    "     \n",
    "     리스트에서 주어진 값을 삭제하고, 변경값을 반환한다. 인덱스를 지정하지 않으면 마지막 항목을 삭제하고 반환한다.\n",
    "     \n",
    " * list.clear()\n",
    "     \n",
    "     = del a[:]\n",
    " "
   ]
  },
  {
   "cell_type": "code",
   "execution_count": null,
   "metadata": {},
   "outputs": [],
   "source": []
  }
 ],
 "metadata": {
  "kernelspec": {
   "display_name": "Python 3",
   "language": "python",
   "name": "python3"
  },
  "language_info": {
   "codemirror_mode": {
    "name": "ipython",
    "version": 3
   },
   "file_extension": ".py",
   "mimetype": "text/x-python",
   "name": "python",
   "nbconvert_exporter": "python",
   "pygments_lexer": "ipython3",
   "version": "3.7.3"
  }
 },
 "nbformat": 4,
 "nbformat_minor": 2
}
