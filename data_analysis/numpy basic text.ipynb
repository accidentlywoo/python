{
 "cells": [
  {
   "cell_type": "markdown",
   "metadata": {},
   "source": [
    "## NumPy / SciPy\n",
    "\n",
    "Numeric -> Numpy \n",
    "\n",
    "1. 속도 빠르고 편하고 쉽게 쓰게하는 라이브러리.\n",
    "\n",
    "2. C로 만들어졌다. \n",
    "\n",
    "3. vectorization 사용한다.\n",
    "\n",
    "4. 현대의 CPU는 vectorization을 최적화한다.\n",
    "\n",
    "Python은 느리다. 파이썬을 빠르게 쓰는 방법\n",
    "\n",
    " 1. 좋은 컴퓨터를 쓴다.\n",
    "\n",
    " 2. 분산 컴퓨터를 사용한다,\n",
    "\n",
    " 3. 파이썬을 컴파일해서 사용한다. \n",
    "    Cython -> C속도와 근접하게 나온다. 문법 수정해야 한다.\n",
    "    PyPy -> 다이나믹 타입,스택 최적화 python 보다 5배빠름 문법 수정 x, 호환성 문제\n",
    " \n",
    " 4. 병목 현상(Glue Language)이 일어나는 부분에 C코드로 짜버린다.(공식적으로 가능)\n",
    " \n",
    " 5. Algorithm / Data Structure\n",
    "    -> 그중 계산 관련 속도를 빠르게 만든 것이 numpy이다.\n",
    "    python보다 5~20배 빠르다.\n",
    "    \n",
    "pandas, 싸이킷, tensorflow, pytorch 도 numpy기반으로 만들어져있다.\n",
    "\n",
    "* Vectorization\n",
    "\n",
    "벡터화 시킨다. 벡터 = array \n",
    "\n",
    "for loop가 없다. 4가지(제너레이터,이터레이터,컴프리헨션,recursive,built-in)\n",
    "\n",
    "for 를 쓰지않고 연산하는것을 vectorize = *array programming\n",
    "\n",
    "array programming이 항상 빠른것은 아니다. 계산범위가 작을때, \n",
    "\n",
    "행렬 사용 -> 한번에 여러가지 수를 계산할 수 있다.\n",
    "\n",
    "현재 CPU는 벡터연산을 최적화 해준다. \n",
    "\n",
    "numpy는 GPU를 지원하지 않는다.\n",
    "\n",
    "----"
   ]
  },
  {
   "cell_type": "markdown",
   "metadata": {},
   "source": [
    "1Dimension vector\n",
    "\n",
    "2D Matrix\n",
    "\n",
    "3D Tensor\n",
    "\n",
    "ND ND Tensor\n",
    "\n",
    "어떤 현상을 벡터화 시키는 것이 핵심이다. \n",
    "\n",
    "이미지 -> 색깔별로 겹처놓으면 3차원이 된다.\n",
    "\n",
    "---"
   ]
  },
  {
   "cell_type": "markdown",
   "metadata": {},
   "source": [
    "## Numpy \n",
    "\n",
    "빠르고 쉽다.\n",
    "\n",
    "C로 만들어짐, 호모지니어스 \n",
    "\n",
    "statsmodel(R뺏김), scikit-image, scikit-learn, pandas, matplotlib -> numpy기반\n",
    "\n",
    "### SciPy(Scientific Algorithms)\n",
    "\n",
    "각 분야별로 많이 사용되는 함수들을 모아둔 것\n",
    "\n",
    "___"
   ]
  },
  {
   "cell_type": "markdown",
   "metadata": {},
   "source": [
    "Python List -> linked list -> 타입이 없어서 계속 타입 체크를 해야 한다.\n",
    "\n",
    "Numpy Array -> 1열로 메모리 구성\n",
    "\n",
    "Numpy Array : head(stride)\n",
    "\n",
    "1열로 저장하고 Strides 구조 개념을 도입해서 보여줄때의 모습을 정한다. -> C로 만들었기 때문에\n",
    "\n",
    "--> **C로 만들었고 효율적인 자료 구조(호모지니어쑤, 1열저장되었지만 stride를 이용해서 배열을 표현)\n",
    "\n",
    "인터닝 기법으로 파이썬으로 돌릴 수 있지만 어렵다.\n",
    "\n",
    "Data Types(C까지 지원해준다)\n",
    "\n",
    " - Boolean\n",
    " - Integer\n",
    " - Unsigned Integer\n",
    " - Float\n",
    " - Complex\n",
    " - String (little/big endian)\n",
    " \n",
    " 데이터 수집 -> 넘파이 구조로 형변환을 해보자!\n",
    " \n",
    " 넘파이로 데이터 처리를 하면 훨씬더 다양하게 처리할 수 있다.\n",
    " \n",
    " -> dtype\n",
    " \n",
    "    - int8, uint8, int16, uint16, int32, uint32, int64,uint64 + python int\n",
    "    - float16, float32, ...\n",
    "    \n",
    "  ```_x``` -> 관례상 private ```import *``` 안댄다\n",
    "  ```__x``` -> 맹글링\n",
    "  ```__x___``` -> masic method\n",
    "  ```_(a)``` -> 다국어 처리할 때.\n",
    "  ```x_``` -> 파이썬 키워드와 똑같을 때, 이름 충돌을 피하기 위해서 사용."
   ]
  },
  {
   "cell_type": "markdown",
   "metadata": {},
   "source": [
    "---"
   ]
  },
  {
   "cell_type": "markdown",
   "metadata": {},
   "source": [
    "### Strides\n",
    "\n",
    "[[[1,2,3]],[[4,5,6]],[[7,8,9]]]\n",
    "\n",
    "tensorflow -> mlist -> floaten 해도 상관없다.\n",
    "\n",
    "뉴럴 네트워크에서 1차원을 넣어도 상관없다.\n",
    "\n",
    "뉴럴 네트워크에서 플랫튼해서 데이터를 넣는 이유. 차원이 중요하지 않은 구조에서는 다 stride 개념이 들어있다.\n",
    "\n",
    "numpy는 배열을 저장하는 방식이 2가지 방식이 있다. C , 포트란.\n",
    "\n",
    "C의 stride (12, 4)\n",
    "\n",
    "포트란 (4, 12)"
   ]
  },
  {
   "cell_type": "markdown",
   "metadata": {},
   "source": [
    "---"
   ]
  },
  {
   "cell_type": "markdown",
   "metadata": {},
   "source": [
    "### Axis\n",
    "\n",
    "axis = 0 : 행\n",
    "\n",
    "axos = 1 : 열\n",
    "\n",
    "[[1,2,3],[4,5,6]]\n",
    "\n",
    "axis = 0 : [5,7,9]\n",
    "axis = 1 : [6, 15]\n",
    "\n",
    "-> Stride 개념이 숨어있다. 절라 빠르다.\n",
    "\n",
    "matlab -> matrix, R -> vector\n",
    "\n",
    "matlab matrix 지원한다. 하지만 안배운다.\n",
    "\n"
   ]
  },
  {
   "cell_type": "markdown",
   "metadata": {},
   "source": [
    "---"
   ]
  },
  {
   "cell_type": "markdown",
   "metadata": {},
   "source": [
    "### numpy 가 쉬운이유\n",
    "\n",
    "1. index slicing\n",
    "2. broad cast\n",
    "3. universal function\n",
    "\n",
    "---"
   ]
  },
  {
   "cell_type": "markdown",
   "metadata": {},
   "source": [
    "https://docs.scipy.org/doc/numpy/user/quickstart.html\n",
    "\n",
    "예습하기"
   ]
  },
  {
   "cell_type": "code",
   "execution_count": null,
   "metadata": {},
   "outputs": [],
   "source": []
  }
 ],
 "metadata": {
  "kernelspec": {
   "display_name": "Python 3",
   "language": "python",
   "name": "python3"
  },
  "language_info": {
   "codemirror_mode": {
    "name": "ipython",
    "version": 3
   },
   "file_extension": ".py",
   "mimetype": "text/x-python",
   "name": "python",
   "nbconvert_exporter": "python",
   "pygments_lexer": "ipython3",
   "version": "3.7.3"
  }
 },
 "nbformat": 4,
 "nbformat_minor": 2
}
