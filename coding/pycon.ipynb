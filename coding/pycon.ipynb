{
 "cells": [
  {
   "cell_type": "code",
   "execution_count": 47,
   "metadata": {},
   "outputs": [],
   "source": [
    "\n",
    "def solution(num,answer = 0):   \n",
    "    if (num == 1):\n",
    "        num = num+1\n",
    "    elif(num % 2 == 0):\n",
    "        num = num / 2\n",
    "    else:\n",
    "        num = num * 3 +1\n",
    "        \n",
    "    answer = answer + 1  \n",
    "    \n",
    "    if (num != 1):\n",
    "        if (answer > 500):\n",
    "            return -1\n",
    "        else:\n",
    "            solution(num,answer)\n",
    "    elif(num == 1):        \n",
    "        return print(answer)"
   ]
  },
  {
   "cell_type": "code",
   "execution_count": 48,
   "metadata": {},
   "outputs": [
    {
     "name": "stdout",
     "output_type": "stream",
     "text": [
      "8\n"
     ]
    }
   ],
   "source": [
    "solution(6)"
   ]
  },
  {
   "cell_type": "code",
   "execution_count": 41,
   "metadata": {},
   "outputs": [],
   "source": [
    "solution(0)"
   ]
  },
  {
   "cell_type": "code",
   "execution_count": 39,
   "metadata": {},
   "outputs": [],
   "source": [
    "solution(6)"
   ]
  },
  {
   "cell_type": "code",
   "execution_count": 51,
   "metadata": {},
   "outputs": [],
   "source": [
    "def solution(n,answer = 0):\n",
    "    [_ for _ in range(2,n)]\n",
    "    return answer"
   ]
  },
  {
   "cell_type": "code",
   "execution_count": 54,
   "metadata": {},
   "outputs": [
    {
     "data": {
      "text/plain": [
       "0"
      ]
     },
     "execution_count": 54,
     "metadata": {},
     "output_type": "execute_result"
    }
   ],
   "source": [
    "solution(5)"
   ]
  },
  {
   "cell_type": "code",
   "execution_count": 58,
   "metadata": {},
   "outputs": [
    {
     "data": {
      "text/plain": [
       "[2, 3, 4]"
      ]
     },
     "execution_count": 58,
     "metadata": {},
     "output_type": "execute_result"
    }
   ],
   "source": [
    "[_ for _ in range(2,5)]"
   ]
  },
  {
   "cell_type": "code",
   "execution_count": 61,
   "metadata": {},
   "outputs": [
    {
     "data": {
      "text/plain": [
       "[3, 4]"
      ]
     },
     "execution_count": 61,
     "metadata": {},
     "output_type": "execute_result"
    }
   ],
   "source": [
    "[x for x in range(2,5) if ([_ for _ in range(2,x) if x%_ != 0])]"
   ]
  },
  {
   "cell_type": "code",
   "execution_count": 96,
   "metadata": {},
   "outputs": [],
   "source": [
    "def solution(n,answer = 0):    \n",
    "    for i in range(2, n):\n",
    "        for s in range(2,i):\n",
    "            if i % s == 0:\n",
    "                print(i)\n",
    "    return answer"
   ]
  },
  {
   "cell_type": "code",
   "execution_count": 97,
   "metadata": {},
   "outputs": [
    {
     "data": {
      "text/plain": [
       "0"
      ]
     },
     "execution_count": 97,
     "metadata": {},
     "output_type": "execute_result"
    }
   ],
   "source": [
    "solution(3)"
   ]
  },
  {
   "cell_type": "code",
   "execution_count": 104,
   "metadata": {},
   "outputs": [
    {
     "ename": "SyntaxError",
     "evalue": "invalid syntax (<ipython-input-104-56a38c5e8215>, line 2)",
     "output_type": "error",
     "traceback": [
      "\u001b[1;36m  File \u001b[1;32m\"<ipython-input-104-56a38c5e8215>\"\u001b[1;36m, line \u001b[1;32m2\u001b[0m\n\u001b[1;33m    listStr = list()''\u001b[0m\n\u001b[1;37m                     ^\u001b[0m\n\u001b[1;31mSyntaxError\u001b[0m\u001b[1;31m:\u001b[0m invalid syntax\n"
     ]
    }
   ],
   "source": [
    "def solution(s):\n",
    "    listStr = list()\n",
    "    answer = ''\n",
    "    if(len(s) % 2 == 0):\n",
    "        listA = len(s) //  2\n",
    "        listStr = list(s)\n",
    "        answer = answer+listStr[listA-1]\n",
    "        answer = answer+listStr[listA]\n",
    "        return  answer\n",
    "    else: \n",
    "        listA = len(s) //  2\n",
    "        listStr = list(s)\n",
    "        answer = answer+listStr[listA]\n",
    "        return answer"
   ]
  },
  {
   "cell_type": "code",
   "execution_count": 103,
   "metadata": {},
   "outputs": [
    {
     "data": {
      "text/plain": [
       "['a', 'b', 'f', 'c']"
      ]
     },
     "execution_count": 103,
     "metadata": {},
     "output_type": "execute_result"
    }
   ],
   "source": [
    " solution('abfc')"
   ]
  },
  {
   "cell_type": "code",
   "execution_count": 107,
   "metadata": {},
   "outputs": [],
   "source": [
    "l = ['a', 'b', 'f']"
   ]
  },
  {
   "cell_type": "code",
   "execution_count": 108,
   "metadata": {},
   "outputs": [
    {
     "data": {
      "text/plain": [
       "'b'"
      ]
     },
     "execution_count": 108,
     "metadata": {},
     "output_type": "execute_result"
    }
   ],
   "source": [
    "l[1]"
   ]
  },
  {
   "cell_type": "code",
   "execution_count": 136,
   "metadata": {},
   "outputs": [],
   "source": [
    "def solution(n,answer = 0):\n",
    "    sc = list()\n",
    "    for i in range(2, n):\n",
    "        sc.append(i)\n",
    "        for x in range(2,i):\n",
    "            if i / x != 1:\n",
    "                sc.pop(-1)\n",
    "        print(sc)\n",
    "    return answer"
   ]
  },
  {
   "cell_type": "code",
   "execution_count": 137,
   "metadata": {},
   "outputs": [
    {
     "name": "stdout",
     "output_type": "stream",
     "text": [
      "[2]\n",
      "[2]\n",
      "[]\n"
     ]
    },
    {
     "ename": "IndexError",
     "evalue": "pop from empty list",
     "output_type": "error",
     "traceback": [
      "\u001b[1;31m---------------------------------------------------------------------------\u001b[0m",
      "\u001b[1;31mIndexError\u001b[0m                                Traceback (most recent call last)",
      "\u001b[1;32m<ipython-input-137-54ab054d5708>\u001b[0m in \u001b[0;36m<module>\u001b[1;34m\u001b[0m\n\u001b[1;32m----> 1\u001b[1;33m \u001b[0msolution\u001b[0m\u001b[1;33m(\u001b[0m\u001b[1;36m10\u001b[0m\u001b[1;33m)\u001b[0m\u001b[1;33m\u001b[0m\u001b[1;33m\u001b[0m\u001b[0m\n\u001b[0m",
      "\u001b[1;32m<ipython-input-136-3ecaa19c52f2>\u001b[0m in \u001b[0;36msolution\u001b[1;34m(n, answer)\u001b[0m\n\u001b[0;32m      5\u001b[0m         \u001b[1;32mfor\u001b[0m \u001b[0mx\u001b[0m \u001b[1;32min\u001b[0m \u001b[0mrange\u001b[0m\u001b[1;33m(\u001b[0m\u001b[1;36m2\u001b[0m\u001b[1;33m,\u001b[0m\u001b[0mi\u001b[0m\u001b[1;33m)\u001b[0m\u001b[1;33m:\u001b[0m\u001b[1;33m\u001b[0m\u001b[1;33m\u001b[0m\u001b[0m\n\u001b[0;32m      6\u001b[0m             \u001b[1;32mif\u001b[0m \u001b[0mi\u001b[0m \u001b[1;33m/\u001b[0m \u001b[0mx\u001b[0m \u001b[1;33m!=\u001b[0m \u001b[1;36m1\u001b[0m\u001b[1;33m:\u001b[0m\u001b[1;33m\u001b[0m\u001b[1;33m\u001b[0m\u001b[0m\n\u001b[1;32m----> 7\u001b[1;33m                 \u001b[0msc\u001b[0m\u001b[1;33m.\u001b[0m\u001b[0mpop\u001b[0m\u001b[1;33m(\u001b[0m\u001b[1;33m-\u001b[0m\u001b[1;36m1\u001b[0m\u001b[1;33m)\u001b[0m\u001b[1;33m\u001b[0m\u001b[1;33m\u001b[0m\u001b[0m\n\u001b[0m\u001b[0;32m      8\u001b[0m         \u001b[0mprint\u001b[0m\u001b[1;33m(\u001b[0m\u001b[0msc\u001b[0m\u001b[1;33m)\u001b[0m\u001b[1;33m\u001b[0m\u001b[1;33m\u001b[0m\u001b[0m\n\u001b[0;32m      9\u001b[0m     \u001b[1;32mreturn\u001b[0m \u001b[0manswer\u001b[0m\u001b[1;33m\u001b[0m\u001b[1;33m\u001b[0m\u001b[0m\n",
      "\u001b[1;31mIndexError\u001b[0m: pop from empty list"
     ]
    }
   ],
   "source": [
    "solution(10)"
   ]
  },
  {
   "cell_type": "markdown",
   "metadata": {},
   "source": [
    "앞 K칸 점푸 K 만큼 건전지 사용\n",
    "\n",
    "순간이동 건전지 사용x 순간이동 현재까지 온거리x2\n",
    "\n",
    "1칸 쩜프 -> 순간이동 +1 -> 순간이동 + 4\n",
    "\n",
    "N만큼 떨어진 장소 효율"
   ]
  },
  {
   "cell_type": "code",
   "execution_count": 138,
   "metadata": {},
   "outputs": [
    {
     "ename": "SyntaxError",
     "evalue": "invalid syntax (<ipython-input-138-1a7add744132>, line 2)",
     "output_type": "error",
     "traceback": [
      "\u001b[1;36m  File \u001b[1;32m\"<ipython-input-138-1a7add744132>\"\u001b[1;36m, line \u001b[1;32m2\u001b[0m\n\u001b[1;33m    -> 최대 짝수 구분\u001b[0m\n\u001b[1;37m     ^\u001b[0m\n\u001b[1;31mSyntaxError\u001b[0m\u001b[1;31m:\u001b[0m invalid syntax\n"
     ]
    }
   ],
   "source": [
    "x + x(0) + k \n",
    "-> 최대 짝수 구분 \n",
    "->\n",
    "2 : 1 + 1(0) : 1\n",
    "3 : 1 + 1(0) + 1 : 2\n",
    "4 : 1 + 1(0) + 2(0) : 1\n",
    "5 : 1 + 1(0) + 2(0) + 1 : 2\n",
    "6 : 1 + 1(0) + 1 +  3(0)  : 2\n",
    "7 : 1 + 1(0) + 1 +  3(0) +1 : 3             \n",
    "8 : 2 + 2(0) + 4(0) : 2\n",
    "9 : 1 + 1(0) + 2(0) + 4(0) + 1: 2\n",
    "10 : 1 + 1(0) + 2(0) + 4(0) + 1 : 3\n",
    "\n",
    "2 + 4 + 8 + 16\n"
   ]
  },
  {
   "cell_type": "code",
   "execution_count": 144,
   "metadata": {},
   "outputs": [],
   "source": [
    "def r(n):\n",
    "    su =0;\n",
    "    for _ in range(0,n):\n",
    "        su = su + 2**_\n",
    "    return su"
   ]
  },
  {
   "cell_type": "code",
   "execution_count": 146,
   "metadata": {},
   "outputs": [
    {
     "data": {
      "text/plain": [
       "7"
      ]
     },
     "execution_count": 146,
     "metadata": {},
     "output_type": "execute_result"
    }
   ],
   "source": [
    "r(3)"
   ]
  },
  {
   "cell_type": "code",
   "execution_count": 148,
   "metadata": {},
   "outputs": [
    {
     "data": {
      "text/plain": [
       "[1,\n",
       " 3,\n",
       " 7,\n",
       " 15,\n",
       " 31,\n",
       " 63,\n",
       " 127,\n",
       " 255,\n",
       " 511,\n",
       " 1023,\n",
       " 2047,\n",
       " 4095,\n",
       " 8191,\n",
       " 16383,\n",
       " 32767,\n",
       " 65535,\n",
       " 131071,\n",
       " 262143,\n",
       " 524287,\n",
       " 1048575,\n",
       " 2097151,\n",
       " 4194303,\n",
       " 8388607,\n",
       " 16777215,\n",
       " 33554431,\n",
       " 67108863,\n",
       " 134217727,\n",
       " 268435455,\n",
       " 536870911,\n",
       " 1073741823,\n",
       " 2147483647,\n",
       " 4294967295,\n",
       " 8589934591,\n",
       " 17179869183,\n",
       " 34359738367,\n",
       " 68719476735,\n",
       " 137438953471,\n",
       " 274877906943,\n",
       " 549755813887,\n",
       " 1099511627775,\n",
       " 2199023255551,\n",
       " 4398046511103,\n",
       " 8796093022207,\n",
       " 17592186044415,\n",
       " 35184372088831,\n",
       " 70368744177663,\n",
       " 140737488355327,\n",
       " 281474976710655,\n",
       " 562949953421311,\n",
       " 1125899906842623,\n",
       " 2251799813685247,\n",
       " 4503599627370495,\n",
       " 9007199254740991,\n",
       " 18014398509481983,\n",
       " 36028797018963967,\n",
       " 72057594037927935,\n",
       " 144115188075855871,\n",
       " 288230376151711743,\n",
       " 576460752303423487,\n",
       " 1152921504606846975,\n",
       " 2305843009213693951,\n",
       " 4611686018427387903,\n",
       " 9223372036854775807,\n",
       " 18446744073709551615,\n",
       " 36893488147419103231,\n",
       " 73786976294838206463,\n",
       " 147573952589676412927,\n",
       " 295147905179352825855,\n",
       " 590295810358705651711,\n",
       " 1180591620717411303423,\n",
       " 2361183241434822606847,\n",
       " 4722366482869645213695,\n",
       " 9444732965739290427391,\n",
       " 18889465931478580854783,\n",
       " 37778931862957161709567,\n",
       " 75557863725914323419135,\n",
       " 151115727451828646838271,\n",
       " 302231454903657293676543,\n",
       " 604462909807314587353087,\n",
       " 1208925819614629174706175,\n",
       " 2417851639229258349412351,\n",
       " 4835703278458516698824703,\n",
       " 9671406556917033397649407,\n",
       " 19342813113834066795298815,\n",
       " 38685626227668133590597631,\n",
       " 77371252455336267181195263,\n",
       " 154742504910672534362390527,\n",
       " 309485009821345068724781055,\n",
       " 618970019642690137449562111,\n",
       " 1237940039285380274899124223,\n",
       " 2475880078570760549798248447,\n",
       " 4951760157141521099596496895,\n",
       " 9903520314283042199192993791,\n",
       " 19807040628566084398385987583,\n",
       " 39614081257132168796771975167,\n",
       " 79228162514264337593543950335,\n",
       " 158456325028528675187087900671,\n",
       " 316912650057057350374175801343,\n",
       " 633825300114114700748351602687]"
      ]
     },
     "execution_count": 148,
     "metadata": {},
     "output_type": "execute_result"
    }
   ],
   "source": [
    "[r(_) for _ in range(1,100)]"
   ]
  },
  {
   "cell_type": "code",
   "execution_count": null,
   "metadata": {},
   "outputs": [],
   "source": [
    "def solution(n):\n",
    "    ans = 0\n",
    "    \n",
    "    # [실행] 버튼을 누르면 출력 값을 볼 수 있습니다.\n",
    "    print('Hello Python')\n",
    "\n",
    "    return ans"
   ]
  },
  {
   "cell_type": "code",
   "execution_count": 149,
   "metadata": {},
   "outputs": [
    {
     "ename": "SyntaxError",
     "evalue": "invalid syntax (<ipython-input-149-6df0a58574a8>, line 1)",
     "output_type": "error",
     "traceback": [
      "\u001b[1;36m  File \u001b[1;32m\"<ipython-input-149-6df0a58574a8>\"\u001b[1;36m, line \u001b[1;32m1\u001b[0m\n\u001b[1;33m    주어진 list\u001b[0m\n\u001b[1;37m           ^\u001b[0m\n\u001b[1;31mSyntaxError\u001b[0m\u001b[1;31m:\u001b[0m invalid syntax\n"
     ]
    }
   ],
   "source": [
    "주어진 list\n",
    "원하는 taget 수를 만드는 방법의 수를 구해라\n",
    "\n",
    "덧셈 뺄셈만 이용해서\n"
   ]
  },
  {
   "cell_type": "code",
   "execution_count": 220,
   "metadata": {},
   "outputs": [],
   "source": [
    "def solution(numbers, target):\n",
    "    answer = 0\n",
    "    score = 0\n",
    "    numberT = list()\n",
    "    for i in numbers :\n",
    "        numberT.append(i)\n",
    "        numberT.append(-i)\n",
    "    \n",
    "    print(numberT)\n",
    "        \n",
    "        \n",
    "    print(numberT)\n",
    "    return answer"
   ]
  },
  {
   "cell_type": "code",
   "execution_count": 221,
   "metadata": {
    "scrolled": true
   },
   "outputs": [
    {
     "name": "stdout",
     "output_type": "stream",
     "text": [
      "[1, -1, 2, -2, 3, -3, 4, -4]\n",
      "[1, -1, 2, -2, 3, -3, 4, -4]\n"
     ]
    },
    {
     "data": {
      "text/plain": [
       "0"
      ]
     },
     "execution_count": 221,
     "metadata": {},
     "output_type": "execute_result"
    }
   ],
   "source": [
    "solution([1,2,3,4,],3)"
   ]
  },
  {
   "cell_type": "code",
   "execution_count": 183,
   "metadata": {},
   "outputs": [],
   "source": [
    "l = [1,2,3,4]"
   ]
  },
  {
   "cell_type": "code",
   "execution_count": 162,
   "metadata": {},
   "outputs": [
    {
     "data": {
      "text/plain": [
       "1"
      ]
     },
     "execution_count": 162,
     "metadata": {},
     "output_type": "execute_result"
    }
   ],
   "source": [
    "l[0]"
   ]
  },
  {
   "cell_type": "code",
   "execution_count": 165,
   "metadata": {},
   "outputs": [
    {
     "data": {
      "text/plain": [
       "0"
      ]
     },
     "execution_count": 165,
     "metadata": {},
     "output_type": "execute_result"
    }
   ],
   "source": [
    "l.index(1)"
   ]
  },
  {
   "cell_type": "code",
   "execution_count": 177,
   "metadata": {},
   "outputs": [],
   "source": [
    "l[0] = 2"
   ]
  },
  {
   "cell_type": "code",
   "execution_count": 178,
   "metadata": {},
   "outputs": [
    {
     "data": {
      "text/plain": [
       "[2, 2, 3, 4]"
      ]
     },
     "execution_count": 178,
     "metadata": {},
     "output_type": "execute_result"
    }
   ],
   "source": [
    "l"
   ]
  },
  {
   "cell_type": "code",
   "execution_count": 179,
   "metadata": {},
   "outputs": [],
   "source": [
    "l[0] = (1,2)"
   ]
  },
  {
   "cell_type": "code",
   "execution_count": 197,
   "metadata": {},
   "outputs": [],
   "source": [
    "l = [(1, -1), (2, -2), (3, -3), (4, -4)]"
   ]
  },
  {
   "cell_type": "code",
   "execution_count": 199,
   "metadata": {},
   "outputs": [
    {
     "data": {
      "text/plain": [
       "1"
      ]
     },
     "execution_count": 199,
     "metadata": {},
     "output_type": "execute_result"
    }
   ],
   "source": [
    "l[0][0]"
   ]
  },
  {
   "cell_type": "code",
   "execution_count": null,
   "metadata": {},
   "outputs": [],
   "source": [
    "[1,1]"
   ]
  }
 ],
 "metadata": {
  "kernelspec": {
   "display_name": "Python 3",
   "language": "python",
   "name": "python3"
  },
  "language_info": {
   "codemirror_mode": {
    "name": "ipython",
    "version": 3
   },
   "file_extension": ".py",
   "mimetype": "text/x-python",
   "name": "python",
   "nbconvert_exporter": "python",
   "pygments_lexer": "ipython3",
   "version": "3.7.3"
  }
 },
 "nbformat": 4,
 "nbformat_minor": 2
}
